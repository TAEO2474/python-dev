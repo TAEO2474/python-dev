{
  "nbformat": 4,
  "nbformat_minor": 0,
  "metadata": {
    "colab": {
      "provenance": [],
      "include_colab_link": true
    },
    "kernelspec": {
      "name": "python3",
      "display_name": "Python 3"
    },
    "language_info": {
      "name": "python"
    }
  },
  "cells": [
    {
      "cell_type": "markdown",
      "metadata": {
        "id": "view-in-github",
        "colab_type": "text"
      },
      "source": [
        "<a href=\"https://colab.research.google.com/github/TAEO2474/python-dev/blob/main/102_python_.ipynb\" target=\"_parent\"><img src=\"https://colab.research.google.com/assets/colab-badge.svg\" alt=\"Open In Colab\"/></a>"
      ]
    },
    {
      "cell_type": "markdown",
      "source": [
        "## 함수(function)\n",
        " - 함수: 특정 목적을 가진 코드의 집합이며 독립적으로 호출될 수 있는 기능이다.\n",
        " - 함수 구조\n",
        "  ```\n",
        "    def 함수이름(parameter_1, parameter_2) :\n",
        "        수행할 문장\n",
        "        return 결과값\n",
        "  ```\n",
        " - 함수 호출\n",
        "  ```\n",
        "     함수이름(argument_1, argument_2 )\n",
        "  ```\n",
        "   parameter : 인자, argument : 인수"
      ],
      "metadata": {
        "id": "u-e6acwKj0ES"
      }
    },
    {
      "cell_type": "code",
      "execution_count": null,
      "metadata": {
        "id": "trD9syhVjrv_"
      },
      "outputs": [],
      "source": [
        "# 함수를 정의할 때 수행할 문장을 구현하지 않으면 에러가 발생한다.\n",
        "def proc():\n",
        "  pass  # pass는 구현을 안할때 오류가 발생하지 않도록 사용한다."
      ]
    },
    {
      "cell_type": "code",
      "source": [
        "print(proc()) # 함수 실행결과를 리턴한다."
      ],
      "metadata": {
        "colab": {
          "base_uri": "https://localhost:8080/"
        },
        "id": "0-nsMpo5pouB",
        "outputId": "0939f3cd-b966-46ae-a45f-fc4b41787bb9"
      },
      "execution_count": null,
      "outputs": [
        {
          "output_type": "stream",
          "name": "stdout",
          "text": [
            "None\n"
          ]
        }
      ]
    },
    {
      "cell_type": "code",
      "source": [
        "print(proc)  # 괄호를 붙이지 않으면 함수식이다."
      ],
      "metadata": {
        "colab": {
          "base_uri": "https://localhost:8080/"
        },
        "id": "8GPavRUVpw6X",
        "outputId": "c3af7b18-0918-4cb6-cfd5-8942f61f69a9"
      },
      "execution_count": null,
      "outputs": [
        {
          "output_type": "stream",
          "name": "stdout",
          "text": [
            "<function proc at 0x7a6b75541bc0>\n"
          ]
        }
      ]
    },
    {
      "cell_type": "code",
      "source": [
        "a = proc\n",
        "print(a())"
      ],
      "metadata": {
        "colab": {
          "base_uri": "https://localhost:8080/"
        },
        "id": "9LpkRTwxp91q",
        "outputId": "94760057-3c29-444a-b3ab-e65d47718c67"
      },
      "execution_count": null,
      "outputs": [
        {
          "output_type": "stream",
          "name": "stdout",
          "text": [
            "None\n"
          ]
        }
      ]
    },
    {
      "cell_type": "markdown",
      "source": [
        "## callable\n",
        " - 이름 뒤에( )를 붙이는 것을 call(호출)이라고 한다.\n",
        " - 이름 뒤에( )를 붙일 수 있는 것을 callable이라고 한다.\n",
        " - 함수는 사용할 때 이름 뒤에 괄호를 붙인다.\n",
        " - python에서 callable인 것은 3가지 유형이 있다.\n",
        "   - (1)function\n",
        "   - (2)class(init가 정의되었을 경우)\n",
        "   - (3)object(call이 정의되었을 경우)"
      ],
      "metadata": {
        "id": "OmiDdABNquui"
      }
    },
    {
      "cell_type": "code",
      "source": [
        "k = 1\n",
        "k()"
      ],
      "metadata": {
        "colab": {
          "base_uri": "https://localhost:8080/",
          "height": 159
        },
        "id": "u3UNvO0AqI8i",
        "outputId": "0a19c555-a640-4ee1-acab-9d61e63a0dd5"
      },
      "execution_count": null,
      "outputs": [
        {
          "output_type": "error",
          "ename": "TypeError",
          "evalue": "'int' object is not callable",
          "traceback": [
            "\u001b[0;31m---------------------------------------------------------------------------\u001b[0m",
            "\u001b[0;31mTypeError\u001b[0m                                 Traceback (most recent call last)",
            "\u001b[0;32m/tmp/ipython-input-5-1575029424.py\u001b[0m in \u001b[0;36m<cell line: 0>\u001b[0;34m()\u001b[0m\n\u001b[1;32m      1\u001b[0m \u001b[0mk\u001b[0m \u001b[0;34m=\u001b[0m \u001b[0;36m1\u001b[0m\u001b[0;34m\u001b[0m\u001b[0;34m\u001b[0m\u001b[0m\n\u001b[0;32m----> 2\u001b[0;31m \u001b[0mk\u001b[0m\u001b[0;34m(\u001b[0m\u001b[0;34m)\u001b[0m\u001b[0;34m\u001b[0m\u001b[0;34m\u001b[0m\u001b[0m\n\u001b[0m",
            "\u001b[0;31mTypeError\u001b[0m: 'int' object is not callable"
          ]
        }
      ]
    },
    {
      "cell_type": "code",
      "source": [
        "# callable은 built-in함수로 ()을 붙여 사용할 수 있는지를 True/False로 알려준다.\n",
        "callable(k)"
      ],
      "metadata": {
        "colab": {
          "base_uri": "https://localhost:8080/"
        },
        "id": "2X824K_9rFHo",
        "outputId": "1abcc687-f2e0-4e4c-9572-d080bb622a96"
      },
      "execution_count": null,
      "outputs": [
        {
          "output_type": "execute_result",
          "data": {
            "text/plain": [
              "False"
            ]
          },
          "metadata": {},
          "execution_count": 6
        }
      ]
    },
    {
      "cell_type": "code",
      "source": [
        "list()"
      ],
      "metadata": {
        "colab": {
          "base_uri": "https://localhost:8080/"
        },
        "id": "0fcYOACFrWzH",
        "outputId": "9789af93-8230-445a-a324-cf01b2100ab9"
      },
      "execution_count": null,
      "outputs": [
        {
          "output_type": "execute_result",
          "data": {
            "text/plain": [
              "[]"
            ]
          },
          "metadata": {},
          "execution_count": 7
        }
      ]
    },
    {
      "cell_type": "code",
      "source": [
        "list = 3\n",
        "print(list)"
      ],
      "metadata": {
        "colab": {
          "base_uri": "https://localhost:8080/"
        },
        "id": "BK32uqHurtvw",
        "outputId": "3c0fde60-6da7-4999-a968-50da568580dc"
      },
      "execution_count": null,
      "outputs": [
        {
          "output_type": "stream",
          "name": "stdout",
          "text": [
            "3\n"
          ]
        }
      ]
    },
    {
      "cell_type": "code",
      "source": [
        "list()"
      ],
      "metadata": {
        "colab": {
          "base_uri": "https://localhost:8080/",
          "height": 141
        },
        "id": "fc7R-CSfr0Rm",
        "outputId": "1edf8e22-c018-42a2-977d-00cccdf0474c"
      },
      "execution_count": null,
      "outputs": [
        {
          "output_type": "error",
          "ename": "TypeError",
          "evalue": "'int' object is not callable",
          "traceback": [
            "\u001b[0;31m---------------------------------------------------------------------------\u001b[0m",
            "\u001b[0;31mTypeError\u001b[0m                                 Traceback (most recent call last)",
            "\u001b[0;32m/tmp/ipython-input-10-1953336261.py\u001b[0m in \u001b[0;36m<cell line: 0>\u001b[0;34m()\u001b[0m\n\u001b[0;32m----> 1\u001b[0;31m \u001b[0mlist\u001b[0m\u001b[0;34m(\u001b[0m\u001b[0;34m)\u001b[0m\u001b[0;34m\u001b[0m\u001b[0;34m\u001b[0m\u001b[0m\n\u001b[0m",
            "\u001b[0;31mTypeError\u001b[0m: 'int' object is not callable"
          ]
        }
      ]
    },
    {
      "cell_type": "code",
      "source": [
        "del list"
      ],
      "metadata": {
        "id": "f_OeuS3Hr2fm"
      },
      "execution_count": null,
      "outputs": []
    },
    {
      "cell_type": "code",
      "source": [
        "list()"
      ],
      "metadata": {
        "colab": {
          "base_uri": "https://localhost:8080/"
        },
        "id": "Pw4l8QgNsBX2",
        "outputId": "7d1e9e84-dffb-457e-b8f2-fbfb15aa6f23"
      },
      "execution_count": null,
      "outputs": [
        {
          "output_type": "execute_result",
          "data": {
            "text/plain": [
              "[]"
            ]
          },
          "metadata": {},
          "execution_count": 12
        }
      ]
    },
    {
      "cell_type": "code",
      "source": [
        "def prn():\n",
        "  return 1"
      ],
      "metadata": {
        "id": "DxeqLXO6sCIe"
      },
      "execution_count": null,
      "outputs": []
    },
    {
      "cell_type": "code",
      "source": [
        "# callable은 built-in함수로 ()을 붙여 사용할 수 있는지를 True/False로 알려준다.\n",
        "callable(prn)"
      ],
      "metadata": {
        "colab": {
          "base_uri": "https://localhost:8080/"
        },
        "id": "dyLxNBZBsKXV",
        "outputId": "edf6f019-8428-41d1-aa4f-789a01479670"
      },
      "execution_count": null,
      "outputs": [
        {
          "output_type": "execute_result",
          "data": {
            "text/plain": [
              "True"
            ]
          },
          "metadata": {},
          "execution_count": 16
        }
      ]
    },
    {
      "cell_type": "code",
      "source": [
        "print(prn())"
      ],
      "metadata": {
        "colab": {
          "base_uri": "https://localhost:8080/"
        },
        "id": "g9uYqj0OsNfG",
        "outputId": "c7d69945-807c-416a-946c-8906148a07ed"
      },
      "execution_count": null,
      "outputs": [
        {
          "output_type": "stream",
          "name": "stdout",
          "text": [
            "1\n"
          ]
        }
      ]
    },
    {
      "cell_type": "code",
      "source": [
        "# 파라미터(인자)와 리턴값이 있는 함수 정의\n",
        "def max(x, y):\n",
        "   if x >= y:\n",
        "      res = x\n",
        "   else :\n",
        "      res = y\n",
        "   return res"
      ],
      "metadata": {
        "id": "xIg9DLFksQ2N"
      },
      "execution_count": null,
      "outputs": []
    },
    {
      "cell_type": "code",
      "source": [
        "def max(x, y):\n",
        "   if x >= y:\n",
        "      return x\n",
        "   else:\n",
        "      return y"
      ],
      "metadata": {
        "id": "WUgHEPgVsx2d"
      },
      "execution_count": null,
      "outputs": []
    },
    {
      "cell_type": "code",
      "source": [
        "print(max(10, 5))"
      ],
      "metadata": {
        "colab": {
          "base_uri": "https://localhost:8080/"
        },
        "id": "2KIoqCAss4D8",
        "outputId": "25a0773c-5dd3-4dd0-cba8-5197018e1fd3"
      },
      "execution_count": null,
      "outputs": [
        {
          "output_type": "stream",
          "name": "stdout",
          "text": [
            "10\n"
          ]
        }
      ]
    },
    {
      "cell_type": "code",
      "source": [
        "# 파라미터(인자)가 없고 리턴값이 없는 함수 정의\n",
        "def max( ):\n",
        "  x = 10\n",
        "  y = 5\n",
        "  if x >= y:\n",
        "     print(x)\n",
        "  else :\n",
        "     print(y)"
      ],
      "metadata": {
        "id": "8I2v5AGvs5WT"
      },
      "execution_count": null,
      "outputs": []
    },
    {
      "cell_type": "code",
      "source": [
        "print(max( ))"
      ],
      "metadata": {
        "colab": {
          "base_uri": "https://localhost:8080/"
        },
        "id": "HZU6NhsNs_Qs",
        "outputId": "3fa55089-6e41-4685-fe22-be85880d1248"
      },
      "execution_count": null,
      "outputs": [
        {
          "output_type": "stream",
          "name": "stdout",
          "text": [
            "10\n",
            "None\n"
          ]
        }
      ]
    },
    {
      "cell_type": "markdown",
      "source": [
        "## paramter와 argument\n",
        "1. positional\n",
        "2. keyword\n",
        "3. positional & keyword\n",
        "4. positional only\n",
        "5. keyword only\n",
        "6. 가변 positional\n",
        "7. 가변 keyword"
      ],
      "metadata": {
        "id": "qSsLXFtbtLPL"
      }
    },
    {
      "cell_type": "markdown",
      "source": [
        "1. positional\n",
        " - 함수 호출 : 선언할 때 파라미터의 순서와 호출할때 argument의 입력순서를 그대로 매칭한다."
      ],
      "metadata": {
        "id": "X0uG7cmotcub"
      }
    },
    {
      "cell_type": "code",
      "source": [
        "def proc(a, b):\n",
        "  return a, b"
      ],
      "metadata": {
        "id": "Jo0DKDnLtBPL"
      },
      "execution_count": null,
      "outputs": []
    },
    {
      "cell_type": "code",
      "source": [
        "print(proc(2, 4))"
      ],
      "metadata": {
        "colab": {
          "base_uri": "https://localhost:8080/"
        },
        "id": "_hTnUJFftkyK",
        "outputId": "a8ea550e-d802-427e-ed80-d0f2a27771d3"
      },
      "execution_count": null,
      "outputs": [
        {
          "output_type": "stream",
          "name": "stdout",
          "text": [
            "(2, 4)\n"
          ]
        }
      ]
    },
    {
      "cell_type": "markdown",
      "source": [
        "2. keyword\n",
        "- keyword 방식을 이용하면 순서와 상관없이 parameter 이름에 따라 값이 대입된다."
      ],
      "metadata": {
        "id": "1HCO_QHOt6Oa"
      }
    },
    {
      "cell_type": "code",
      "source": [
        "print(proc(b=4, a=2))"
      ],
      "metadata": {
        "colab": {
          "base_uri": "https://localhost:8080/"
        },
        "id": "bLryKg8ptxha",
        "outputId": "ea67e761-e7d8-4aaf-a071-71d9f36d762e"
      },
      "execution_count": null,
      "outputs": [
        {
          "output_type": "stream",
          "name": "stdout",
          "text": [
            "(2, 4)\n"
          ]
        }
      ]
    },
    {
      "cell_type": "markdown",
      "source": [
        "3. keyword & positional 혼합"
      ],
      "metadata": {
        "id": "8psNaMc4uKcF"
      }
    },
    {
      "cell_type": "code",
      "source": [
        "def proc(a, b, c):\n",
        "  return a, b, c"
      ],
      "metadata": {
        "id": "xgAAlueuuBao"
      },
      "execution_count": null,
      "outputs": []
    },
    {
      "cell_type": "code",
      "source": [
        "proc(2, c=5, b=3)"
      ],
      "metadata": {
        "colab": {
          "base_uri": "https://localhost:8080/"
        },
        "id": "BI9vLQt2uQ0d",
        "outputId": "6b0fe57f-4048-4fc7-985a-e7f1dace80e8"
      },
      "execution_count": null,
      "outputs": [
        {
          "output_type": "execute_result",
          "data": {
            "text/plain": [
              "(2, 3, 5)"
            ]
          },
          "metadata": {},
          "execution_count": 27
        }
      ]
    },
    {
      "cell_type": "code",
      "source": [
        "# 한번 keyword 방식을 사용하면, 그 다음부터는 keyword 방법만 사용할 수 있다.\n",
        "proc(c=5, 2, b=3)"
      ],
      "metadata": {
        "colab": {
          "base_uri": "https://localhost:8080/",
          "height": 106
        },
        "id": "vegO2_BZuTEs",
        "outputId": "56d0d067-8d86-4c7c-f135-15a238ac213a"
      },
      "execution_count": null,
      "outputs": [
        {
          "output_type": "error",
          "ename": "SyntaxError",
          "evalue": "positional argument follows keyword argument (ipython-input-28-175642189.py, line 1)",
          "traceback": [
            "\u001b[0;36m  File \u001b[0;32m\"/tmp/ipython-input-28-175642189.py\"\u001b[0;36m, line \u001b[0;32m1\u001b[0m\n\u001b[0;31m    proc(c=5, 2, b=3)\u001b[0m\n\u001b[0m                    ^\u001b[0m\n\u001b[0;31mSyntaxError\u001b[0m\u001b[0;31m:\u001b[0m positional argument follows keyword argument\n"
          ]
        }
      ]
    },
    {
      "cell_type": "code",
      "source": [
        "# python 버전 확인\n",
        "!python --version"
      ],
      "metadata": {
        "colab": {
          "base_uri": "https://localhost:8080/"
        },
        "id": "o8xdjdp_ufvy",
        "outputId": "1588bfc4-3503-4d2b-bfab-3b12bfc3c341"
      },
      "execution_count": null,
      "outputs": [
        {
          "output_type": "stream",
          "name": "stdout",
          "text": [
            "Python 3.11.13\n"
          ]
        }
      ]
    },
    {
      "cell_type": "markdown",
      "source": [
        "4. positional only\n",
        "- positional only는 함수를 사용할 때 positional방식으로만 parameter를 쓸 수 있도록 강제하는 방법이다.\n",
        "- / 의 앞에 오는 parameter들은 positional방식으로 입력할 수 있지만,  keyword방식으로 입력할 수 없다.\n",
        "- positional only 함수를 정의할 수 있는 것은 python 3.8부터 지원한다. 이전 버전에서는 사전 정의된 positional only 함수는 있지만, 사용자가 만들 수는 없었다."
      ],
      "metadata": {
        "id": "7cGhLbjbvIRa"
      }
    },
    {
      "cell_type": "code",
      "source": [
        "def proc(a, b, c, /):\n",
        "  return a, b, c"
      ],
      "metadata": {
        "id": "qJPlfMnYu6-d"
      },
      "execution_count": null,
      "outputs": []
    },
    {
      "cell_type": "code",
      "source": [
        "print(proc(4, 5, 6))"
      ],
      "metadata": {
        "colab": {
          "base_uri": "https://localhost:8080/"
        },
        "id": "A-UlInHtvUMA",
        "outputId": "950b43d4-b8f1-45bb-ea61-80e177bab469"
      },
      "execution_count": null,
      "outputs": [
        {
          "output_type": "stream",
          "name": "stdout",
          "text": [
            "(4, 5, 6)\n"
          ]
        }
      ]
    },
    {
      "cell_type": "code",
      "source": [
        "print(proc(4, c=6, b=5))"
      ],
      "metadata": {
        "colab": {
          "base_uri": "https://localhost:8080/",
          "height": 141
        },
        "id": "5GQ-1GZ4vhl4",
        "outputId": "797ae0d9-98f5-461b-a208-fe35f521187f"
      },
      "execution_count": null,
      "outputs": [
        {
          "output_type": "error",
          "ename": "TypeError",
          "evalue": "proc() got some positional-only arguments passed as keyword arguments: 'b, c'",
          "traceback": [
            "\u001b[0;31m---------------------------------------------------------------------------\u001b[0m",
            "\u001b[0;31mTypeError\u001b[0m                                 Traceback (most recent call last)",
            "\u001b[0;32m/tmp/ipython-input-32-2183839217.py\u001b[0m in \u001b[0;36m<cell line: 0>\u001b[0;34m()\u001b[0m\n\u001b[0;32m----> 1\u001b[0;31m \u001b[0mprint\u001b[0m\u001b[0;34m(\u001b[0m\u001b[0mproc\u001b[0m\u001b[0;34m(\u001b[0m\u001b[0;36m4\u001b[0m\u001b[0;34m,\u001b[0m \u001b[0mc\u001b[0m\u001b[0;34m=\u001b[0m\u001b[0;36m6\u001b[0m\u001b[0;34m,\u001b[0m \u001b[0mb\u001b[0m\u001b[0;34m=\u001b[0m\u001b[0;36m5\u001b[0m\u001b[0;34m)\u001b[0m\u001b[0;34m)\u001b[0m\u001b[0;34m\u001b[0m\u001b[0;34m\u001b[0m\u001b[0m\n\u001b[0m",
            "\u001b[0;31mTypeError\u001b[0m: proc() got some positional-only arguments passed as keyword arguments: 'b, c'"
          ]
        }
      ]
    },
    {
      "cell_type": "code",
      "source": [
        "# a,b는 positional만 가능하지만 c,d는 positional 또는 keyword 상관없다.\n",
        "def proc(a, b, /, c, d):\n",
        "  return a, b, c, d"
      ],
      "metadata": {
        "id": "DQpQ-3qsvlo0"
      },
      "execution_count": null,
      "outputs": []
    },
    {
      "cell_type": "code",
      "source": [
        "proc(4, 5, 6, 7)"
      ],
      "metadata": {
        "colab": {
          "base_uri": "https://localhost:8080/"
        },
        "id": "jg9K4xv8v4NC",
        "outputId": "d3487938-8d60-49d0-c49c-2f2ca5da36bb"
      },
      "execution_count": null,
      "outputs": [
        {
          "output_type": "execute_result",
          "data": {
            "text/plain": [
              "(4, 5, 6, 7)"
            ]
          },
          "metadata": {},
          "execution_count": 34
        }
      ]
    },
    {
      "cell_type": "code",
      "source": [
        "proc(4, 5, d=7, c=6)"
      ],
      "metadata": {
        "colab": {
          "base_uri": "https://localhost:8080/"
        },
        "id": "RTSQd5O3v-7i",
        "outputId": "d8513c8a-761f-4c97-d2c1-abf826383a04"
      },
      "execution_count": null,
      "outputs": [
        {
          "output_type": "execute_result",
          "data": {
            "text/plain": [
              "(4, 5, 6, 7)"
            ]
          },
          "metadata": {},
          "execution_count": 35
        }
      ]
    },
    {
      "cell_type": "markdown",
      "source": [
        "5. keyword only\n",
        "- keyword only방식은 keyword방식으로만 입력하도록 강제하는 방법이다.\n",
        "- '*' 이후로는 keyword 방식만 가능하다."
      ],
      "metadata": {
        "id": "wbRJmrChwbcu"
      }
    },
    {
      "cell_type": "code",
      "source": [
        "def proc(*, a, b, c, d):\n",
        "  return a,b,c,d"
      ],
      "metadata": {
        "id": "GPqaFpjSwCJ_"
      },
      "execution_count": null,
      "outputs": []
    },
    {
      "cell_type": "code",
      "source": [
        "proc(a=3, c=5, b=4, d=6)"
      ],
      "metadata": {
        "colab": {
          "base_uri": "https://localhost:8080/"
        },
        "id": "_06OgQuCwmC6",
        "outputId": "cd793fbf-1b20-4976-f16a-9069e0402857"
      },
      "execution_count": null,
      "outputs": [
        {
          "output_type": "execute_result",
          "data": {
            "text/plain": [
              "(3, 4, 5, 6)"
            ]
          },
          "metadata": {},
          "execution_count": 37
        }
      ]
    },
    {
      "cell_type": "code",
      "source": [
        "# proc()함수는 keyword only로만 사용해야 한다.\n",
        "proc(3, 4, d=6, c=5)"
      ],
      "metadata": {
        "colab": {
          "base_uri": "https://localhost:8080/",
          "height": 159
        },
        "id": "oDF0ZvzXwwq4",
        "outputId": "83b063ac-b8e2-4c9b-b69f-892fc017af44"
      },
      "execution_count": null,
      "outputs": [
        {
          "output_type": "error",
          "ename": "TypeError",
          "evalue": "proc() takes 0 positional arguments but 2 positional arguments (and 2 keyword-only arguments) were given",
          "traceback": [
            "\u001b[0;31m---------------------------------------------------------------------------\u001b[0m",
            "\u001b[0;31mTypeError\u001b[0m                                 Traceback (most recent call last)",
            "\u001b[0;32m/tmp/ipython-input-38-4289113300.py\u001b[0m in \u001b[0;36m<cell line: 0>\u001b[0;34m()\u001b[0m\n\u001b[0;32m----> 1\u001b[0;31m \u001b[0mproc\u001b[0m\u001b[0;34m(\u001b[0m\u001b[0;36m3\u001b[0m\u001b[0;34m,\u001b[0m \u001b[0;36m4\u001b[0m\u001b[0;34m,\u001b[0m \u001b[0md\u001b[0m\u001b[0;34m=\u001b[0m\u001b[0;36m6\u001b[0m\u001b[0;34m,\u001b[0m \u001b[0mc\u001b[0m\u001b[0;34m=\u001b[0m\u001b[0;36m5\u001b[0m\u001b[0;34m)\u001b[0m\u001b[0;34m\u001b[0m\u001b[0;34m\u001b[0m\u001b[0m\n\u001b[0m",
            "\u001b[0;31mTypeError\u001b[0m: proc() takes 0 positional arguments but 2 positional arguments (and 2 keyword-only arguments) were given"
          ]
        }
      ]
    },
    {
      "cell_type": "code",
      "source": [
        "# a, b는 positional 또는 keyword로 사용해도 상관없지만 c, d는 keyword만 가능하다.\n",
        "def proc(a, b, *, c, d):\n",
        "  return a, b, c, d"
      ],
      "metadata": {
        "id": "V5ApmFUTw30X"
      },
      "execution_count": null,
      "outputs": []
    },
    {
      "cell_type": "code",
      "source": [
        "proc(3, 4, d=6, c=5)"
      ],
      "metadata": {
        "colab": {
          "base_uri": "https://localhost:8080/"
        },
        "id": "HijLH-ddxQBK",
        "outputId": "bcaa25fc-9197-4547-d188-aa6319f99ed1"
      },
      "execution_count": null,
      "outputs": [
        {
          "output_type": "execute_result",
          "data": {
            "text/plain": [
              "(3, 4, 5, 6)"
            ]
          },
          "metadata": {},
          "execution_count": 40
        }
      ]
    },
    {
      "cell_type": "markdown",
      "source": [
        "6. 가변 positional\n",
        "- 가변 positional은 parameter 이름에 '*'를 붙인다.\n",
        "- positional 방식으로 입력되는 argument의 갯수에 상관없이 모두 받아온다."
      ],
      "metadata": {
        "id": "tAPNv0iox0IP"
      }
    },
    {
      "cell_type": "code",
      "source": [
        "def proc(*a):\n",
        "  print(type(a))\n",
        "  return a"
      ],
      "metadata": {
        "id": "lVjjvU1QxS3L"
      },
      "execution_count": null,
      "outputs": []
    },
    {
      "cell_type": "code",
      "source": [
        "proc()"
      ],
      "metadata": {
        "colab": {
          "base_uri": "https://localhost:8080/"
        },
        "id": "nVN-Mzxrx_tM",
        "outputId": "a668dd87-9708-4302-e40b-9762173ef15d"
      },
      "execution_count": null,
      "outputs": [
        {
          "output_type": "stream",
          "name": "stdout",
          "text": [
            "<class 'tuple'>\n"
          ]
        },
        {
          "output_type": "execute_result",
          "data": {
            "text/plain": [
              "()"
            ]
          },
          "metadata": {},
          "execution_count": 42
        }
      ]
    },
    {
      "cell_type": "code",
      "source": [
        "proc(1)"
      ],
      "metadata": {
        "colab": {
          "base_uri": "https://localhost:8080/"
        },
        "id": "IphRAzRQyAyp",
        "outputId": "7c3e38d6-1306-4fac-ec9e-56e0d76b8359"
      },
      "execution_count": null,
      "outputs": [
        {
          "output_type": "stream",
          "name": "stdout",
          "text": [
            "<class 'tuple'>\n"
          ]
        },
        {
          "output_type": "execute_result",
          "data": {
            "text/plain": [
              "(1,)"
            ]
          },
          "metadata": {},
          "execution_count": 43
        }
      ]
    },
    {
      "cell_type": "code",
      "source": [
        "proc(1,2,3)"
      ],
      "metadata": {
        "colab": {
          "base_uri": "https://localhost:8080/"
        },
        "id": "biy3tydeyNZ1",
        "outputId": "0487971a-c28b-4fa1-c4a8-61bec8099201"
      },
      "execution_count": null,
      "outputs": [
        {
          "output_type": "stream",
          "name": "stdout",
          "text": [
            "<class 'tuple'>\n"
          ]
        },
        {
          "output_type": "execute_result",
          "data": {
            "text/plain": [
              "(1, 2, 3)"
            ]
          },
          "metadata": {},
          "execution_count": 44
        }
      ]
    },
    {
      "cell_type": "markdown",
      "source": [
        "7. 가변 keyword\n",
        "- 가변 keyword는 parameter 이름에 '**'를 붙인다.\n",
        "- keyword방식으로 입력되는 argument의 개수에 상관없이 모두 받아온다."
      ],
      "metadata": {
        "id": "lYdkY_kVyX5R"
      }
    },
    {
      "cell_type": "code",
      "source": [
        "def proc(**a):\n",
        "  print(type(a))\n",
        "  return a"
      ],
      "metadata": {
        "id": "VvPSK0ivySWN"
      },
      "execution_count": null,
      "outputs": []
    },
    {
      "cell_type": "code",
      "source": [
        "proc(x=2, y=3)"
      ],
      "metadata": {
        "colab": {
          "base_uri": "https://localhost:8080/"
        },
        "id": "P2rWAvZlyfAh",
        "outputId": "75b961b1-6b0f-44c9-fe16-8ab65c27a290"
      },
      "execution_count": null,
      "outputs": [
        {
          "output_type": "stream",
          "name": "stdout",
          "text": [
            "<class 'dict'>\n"
          ]
        },
        {
          "output_type": "execute_result",
          "data": {
            "text/plain": [
              "{'x': 2, 'y': 3}"
            ]
          },
          "metadata": {},
          "execution_count": 46
        }
      ]
    },
    {
      "cell_type": "code",
      "source": [
        "proc(x=3, y=1, z=[1,2,3])"
      ],
      "metadata": {
        "colab": {
          "base_uri": "https://localhost:8080/"
        },
        "id": "u6ffUxcvyigF",
        "outputId": "1bdb3660-79ee-414a-d980-72e3696fde45"
      },
      "execution_count": null,
      "outputs": [
        {
          "output_type": "stream",
          "name": "stdout",
          "text": [
            "<class 'dict'>\n"
          ]
        },
        {
          "output_type": "execute_result",
          "data": {
            "text/plain": [
              "{'x': 3, 'y': 1, 'z': [1, 2, 3]}"
            ]
          },
          "metadata": {},
          "execution_count": 47
        }
      ]
    },
    {
      "cell_type": "markdown",
      "source": [
        "가변 positional 과 가변 keyword은 한 번만 사용할 수 있다."
      ],
      "metadata": {
        "id": "jXEGVmoMzHmt"
      }
    },
    {
      "cell_type": "code",
      "source": [
        "def proc(*a, *b):\n",
        "  return a, b"
      ],
      "metadata": {
        "colab": {
          "base_uri": "https://localhost:8080/",
          "height": 106
        },
        "id": "KlzC6320yux1",
        "outputId": "38629eb2-f633-43e8-ad33-70d6b20741c6"
      },
      "execution_count": null,
      "outputs": [
        {
          "output_type": "error",
          "ename": "SyntaxError",
          "evalue": "* argument may appear only once (ipython-input-48-2865700350.py, line 1)",
          "traceback": [
            "\u001b[0;36m  File \u001b[0;32m\"/tmp/ipython-input-48-2865700350.py\"\u001b[0;36m, line \u001b[0;32m1\u001b[0m\n\u001b[0;31m    def proc(*a, *b):\u001b[0m\n\u001b[0m                 ^\u001b[0m\n\u001b[0;31mSyntaxError\u001b[0m\u001b[0;31m:\u001b[0m * argument may appear only once\n"
          ]
        }
      ]
    },
    {
      "cell_type": "code",
      "source": [
        "def proc(**a, **b):\n",
        "  return a, b"
      ],
      "metadata": {
        "colab": {
          "base_uri": "https://localhost:8080/",
          "height": 106
        },
        "id": "9DLORGk4zA90",
        "outputId": "59c15039-2bae-4843-ef4c-fae4b42e4a65"
      },
      "execution_count": null,
      "outputs": [
        {
          "output_type": "error",
          "ename": "SyntaxError",
          "evalue": "arguments cannot follow var-keyword argument (ipython-input-49-3628695657.py, line 1)",
          "traceback": [
            "\u001b[0;36m  File \u001b[0;32m\"/tmp/ipython-input-49-3628695657.py\"\u001b[0;36m, line \u001b[0;32m1\u001b[0m\n\u001b[0;31m    def proc(**a, **b):\u001b[0m\n\u001b[0m                  ^\u001b[0m\n\u001b[0;31mSyntaxError\u001b[0m\u001b[0;31m:\u001b[0m arguments cannot follow var-keyword argument\n"
          ]
        }
      ]
    },
    {
      "cell_type": "code",
      "source": [
        "def proc(*a, **b):\n",
        "  return a, b"
      ],
      "metadata": {
        "id": "SsUbDugzzVAo"
      },
      "execution_count": null,
      "outputs": []
    },
    {
      "cell_type": "code",
      "source": [
        "proc(1,2, x=2, y=4)"
      ],
      "metadata": {
        "colab": {
          "base_uri": "https://localhost:8080/"
        },
        "id": "MkfCXjMozYuw",
        "outputId": "53f45398-705f-420c-8878-0fd334d2fce3"
      },
      "execution_count": null,
      "outputs": [
        {
          "output_type": "execute_result",
          "data": {
            "text/plain": [
              "((1, 2), {'x': 2, 'y': 4})"
            ]
          },
          "metadata": {},
          "execution_count": 52
        }
      ]
    },
    {
      "cell_type": "code",
      "source": [
        "# *뒤에는 /을 사용할 수 없다.\n",
        "def  proc(*,a,b,c, /):\n",
        "  return a,b,c"
      ],
      "metadata": {
        "colab": {
          "base_uri": "https://localhost:8080/",
          "height": 106
        },
        "id": "KSATqYUizdDj",
        "outputId": "e6c12122-c3ad-4e06-cd99-cf9394bc6f97"
      },
      "execution_count": null,
      "outputs": [
        {
          "output_type": "error",
          "ename": "SyntaxError",
          "evalue": "/ must be ahead of * (ipython-input-53-136987512.py, line 1)",
          "traceback": [
            "\u001b[0;36m  File \u001b[0;32m\"/tmp/ipython-input-53-136987512.py\"\u001b[0;36m, line \u001b[0;32m1\u001b[0m\n\u001b[0;31m    def  proc(*,a,b,c, /):\u001b[0m\n\u001b[0m                       ^\u001b[0m\n\u001b[0;31mSyntaxError\u001b[0m\u001b[0;31m:\u001b[0m / must be ahead of *\n"
          ]
        }
      ]
    },
    {
      "cell_type": "code",
      "source": [
        "# 매개변수 제일 앞에 /을 사용할 수 없고 , 매개변수 제일 뒤에 *을 사용할 수 없다.\n",
        "def  proc(/,a,b,c, *):\n",
        "  return a,b,c"
      ],
      "metadata": {
        "id": "G-Ngjvsyz98s"
      },
      "execution_count": null,
      "outputs": []
    },
    {
      "cell_type": "markdown",
      "source": [
        "## return\n",
        "  - 함수의 결과값을 넘겨주는 목적으로 사용한다.\n",
        "  -  함수를 강제적으로 종료할 때 사용한다.\n",
        "  - 함수에서 return을 2번 이상 사용할 수 없다.\n",
        "  - 함수의 결과를 2개 이상으로 받고 싶다면 unpacking해서 받는다."
      ],
      "metadata": {
        "id": "o6nCPPSU2vDH"
      }
    },
    {
      "cell_type": "code",
      "source": [
        "def proc(*a):\n",
        "  total =0\n",
        "  avg = 0\n",
        "  for i in a:\n",
        "    total += i\n",
        "\n",
        "  avg = total/len(a)\n",
        "  return(total, avg)"
      ],
      "metadata": {
        "id": "Aho4notD27Ht"
      },
      "execution_count": null,
      "outputs": []
    },
    {
      "cell_type": "code",
      "source": [
        "proc(1,2,3,4)"
      ],
      "metadata": {
        "colab": {
          "base_uri": "https://localhost:8080/"
        },
        "id": "Ni1YSr-i3Lax",
        "outputId": "4f8f778c-33d2-464b-bc15-d71031f5ef15"
      },
      "execution_count": null,
      "outputs": [
        {
          "output_type": "execute_result",
          "data": {
            "text/plain": [
              "(10, 2.5)"
            ]
          },
          "metadata": {},
          "execution_count": 55
        }
      ]
    },
    {
      "cell_type": "code",
      "source": [
        "total, avg = proc(1,2,3,4)\n",
        "print(total)\n",
        "print(avg)"
      ],
      "metadata": {
        "colab": {
          "base_uri": "https://localhost:8080/"
        },
        "id": "Mkc1Bz_f3YRb",
        "outputId": "7e375e16-1d04-439e-d8b8-c362d371af9e"
      },
      "execution_count": null,
      "outputs": [
        {
          "output_type": "stream",
          "name": "stdout",
          "text": [
            "10\n",
            "2.5\n"
          ]
        }
      ]
    },
    {
      "cell_type": "markdown",
      "source": [
        "## overloading\n",
        "- 함수의 이름은 같은데, parameter 갯수 또는 parameter 타입이 달라야 한다.\n",
        "- python은 overloading을 지원하지 않는다."
      ],
      "metadata": {
        "id": "Rn2qtlLb3r4A"
      }
    },
    {
      "cell_type": "code",
      "source": [
        "def add(a):\n",
        "  return a + 1"
      ],
      "metadata": {
        "id": "ukEgaX2c3gYl"
      },
      "execution_count": null,
      "outputs": []
    },
    {
      "cell_type": "code",
      "source": [
        "add(6)"
      ],
      "metadata": {
        "colab": {
          "base_uri": "https://localhost:8080/"
        },
        "id": "OYTOZMvq314Y",
        "outputId": "a497defb-5572-4c7a-97c5-75210a8d9c03"
      },
      "execution_count": null,
      "outputs": [
        {
          "output_type": "execute_result",
          "data": {
            "text/plain": [
              "7"
            ]
          },
          "metadata": {},
          "execution_count": 59
        }
      ]
    },
    {
      "cell_type": "code",
      "source": [
        "def add(a, b):\n",
        "  return a+b"
      ],
      "metadata": {
        "id": "xXbUvedl33cp"
      },
      "execution_count": null,
      "outputs": []
    },
    {
      "cell_type": "code",
      "source": [
        "add(1, 2)"
      ],
      "metadata": {
        "colab": {
          "base_uri": "https://localhost:8080/"
        },
        "id": "YTUbPZoM38vU",
        "outputId": "202d854f-76ff-4d28-8307-5467f5cbf092"
      },
      "execution_count": null,
      "outputs": [
        {
          "output_type": "execute_result",
          "data": {
            "text/plain": [
              "3"
            ]
          },
          "metadata": {},
          "execution_count": 61
        }
      ]
    },
    {
      "cell_type": "code",
      "source": [
        "add(5)"
      ],
      "metadata": {
        "colab": {
          "base_uri": "https://localhost:8080/",
          "height": 141
        },
        "id": "PH5U6nkG3916",
        "outputId": "f0b5e5aa-79d3-4410-e559-cfa9c8ad39ba"
      },
      "execution_count": null,
      "outputs": [
        {
          "output_type": "error",
          "ename": "TypeError",
          "evalue": "add() missing 1 required positional argument: 'b'",
          "traceback": [
            "\u001b[0;31m---------------------------------------------------------------------------\u001b[0m",
            "\u001b[0;31mTypeError\u001b[0m                                 Traceback (most recent call last)",
            "\u001b[0;32m/tmp/ipython-input-62-310587333.py\u001b[0m in \u001b[0;36m<cell line: 0>\u001b[0;34m()\u001b[0m\n\u001b[0;32m----> 1\u001b[0;31m \u001b[0madd\u001b[0m\u001b[0;34m(\u001b[0m\u001b[0;36m5\u001b[0m\u001b[0;34m)\u001b[0m\u001b[0;34m\u001b[0m\u001b[0;34m\u001b[0m\u001b[0m\n\u001b[0m",
            "\u001b[0;31mTypeError\u001b[0m: add() missing 1 required positional argument: 'b'"
          ]
        }
      ]
    },
    {
      "cell_type": "code",
      "source": [
        "# sum은 built-in함수이다.\n",
        "sum([1,2,3])"
      ],
      "metadata": {
        "colab": {
          "base_uri": "https://localhost:8080/"
        },
        "id": "PBr9G8Hc4FHT",
        "outputId": "53301e03-9f41-4f5f-c2ea-e62c6ecdc8d7"
      },
      "execution_count": null,
      "outputs": [
        {
          "output_type": "execute_result",
          "data": {
            "text/plain": [
              "6"
            ]
          },
          "metadata": {},
          "execution_count": 63
        }
      ]
    },
    {
      "cell_type": "code",
      "source": [
        "def sum(a, b):\n",
        "  return a+b"
      ],
      "metadata": {
        "id": "CBVMuXdb4RQ9"
      },
      "execution_count": null,
      "outputs": []
    },
    {
      "cell_type": "code",
      "source": [
        "sum(1,2)"
      ],
      "metadata": {
        "colab": {
          "base_uri": "https://localhost:8080/"
        },
        "id": "njPERe6R4ZYf",
        "outputId": "3dde31ad-c0c6-4858-ef9a-f2a1e68654f5"
      },
      "execution_count": null,
      "outputs": [
        {
          "output_type": "execute_result",
          "data": {
            "text/plain": [
              "3"
            ]
          },
          "metadata": {},
          "execution_count": 65
        }
      ]
    },
    {
      "cell_type": "code",
      "source": [
        "sum([1,2,3])"
      ],
      "metadata": {
        "colab": {
          "base_uri": "https://localhost:8080/",
          "height": 141
        },
        "id": "lKM1Mgmh4a1I",
        "outputId": "93366c05-e375-4538-aa73-5273321f0eee"
      },
      "execution_count": null,
      "outputs": [
        {
          "output_type": "error",
          "ename": "TypeError",
          "evalue": "sum() missing 1 required positional argument: 'b'",
          "traceback": [
            "\u001b[0;31m---------------------------------------------------------------------------\u001b[0m",
            "\u001b[0;31mTypeError\u001b[0m                                 Traceback (most recent call last)",
            "\u001b[0;32m/tmp/ipython-input-66-980638477.py\u001b[0m in \u001b[0;36m<cell line: 0>\u001b[0;34m()\u001b[0m\n\u001b[0;32m----> 1\u001b[0;31m \u001b[0msum\u001b[0m\u001b[0;34m(\u001b[0m\u001b[0;34m[\u001b[0m\u001b[0;36m1\u001b[0m\u001b[0;34m,\u001b[0m\u001b[0;36m2\u001b[0m\u001b[0;34m,\u001b[0m\u001b[0;36m3\u001b[0m\u001b[0;34m]\u001b[0m\u001b[0;34m)\u001b[0m\u001b[0;34m\u001b[0m\u001b[0;34m\u001b[0m\u001b[0m\n\u001b[0m",
            "\u001b[0;31mTypeError\u001b[0m: sum() missing 1 required positional argument: 'b'"
          ]
        }
      ]
    },
    {
      "cell_type": "code",
      "source": [
        "# sum을 원상복귀 해준다.\n",
        "del sum"
      ],
      "metadata": {
        "id": "p3vtQBwt4dmA"
      },
      "execution_count": null,
      "outputs": []
    },
    {
      "cell_type": "code",
      "source": [
        "# built-in 함수가 실행된다.\n",
        "sum([1, 2, 3])"
      ],
      "metadata": {
        "colab": {
          "base_uri": "https://localhost:8080/"
        },
        "id": "njyIjxhA4zeW",
        "outputId": "08db76bc-3392-4ef9-87a0-f8439f11e3a7"
      },
      "execution_count": null,
      "outputs": [
        {
          "output_type": "execute_result",
          "data": {
            "text/plain": [
              "6"
            ]
          },
          "metadata": {},
          "execution_count": 68
        }
      ]
    },
    {
      "cell_type": "code",
      "source": [
        "type(sum)"
      ],
      "metadata": {
        "colab": {
          "base_uri": "https://localhost:8080/"
        },
        "id": "tpiG9wyX41ad",
        "outputId": "18a6991a-cbd8-44a9-9461-e1200cb80bc3"
      },
      "execution_count": null,
      "outputs": [
        {
          "output_type": "execute_result",
          "data": {
            "text/plain": [
              "builtin_function_or_method"
            ]
          },
          "metadata": {},
          "execution_count": 70
        }
      ]
    },
    {
      "cell_type": "code",
      "source": [
        "print(dir(sum))"
      ],
      "metadata": {
        "colab": {
          "base_uri": "https://localhost:8080/"
        },
        "id": "xza6CRKR5GYI",
        "outputId": "58697f69-b3d6-4e46-f07a-88e60c47fc92"
      },
      "execution_count": null,
      "outputs": [
        {
          "output_type": "stream",
          "name": "stdout",
          "text": [
            "['__call__', '__class__', '__delattr__', '__dir__', '__doc__', '__eq__', '__format__', '__ge__', '__getattribute__', '__getstate__', '__gt__', '__hash__', '__init__', '__init_subclass__', '__le__', '__lt__', '__module__', '__name__', '__ne__', '__new__', '__qualname__', '__reduce__', '__reduce_ex__', '__repr__', '__self__', '__setattr__', '__sizeof__', '__str__', '__subclasshook__', '__text_signature__']\n"
          ]
        }
      ]
    },
    {
      "cell_type": "code",
      "source": [
        "# __name__은 함수 이름을 알려준다.\n",
        "add.__name__"
      ],
      "metadata": {
        "colab": {
          "base_uri": "https://localhost:8080/",
          "height": 35
        },
        "id": "ZlplJC355PBI",
        "outputId": "a5d7f12e-f11a-4bd6-df5e-b9688b97a393"
      },
      "execution_count": null,
      "outputs": [
        {
          "output_type": "execute_result",
          "data": {
            "text/plain": [
              "'add'"
            ],
            "application/vnd.google.colaboratory.intrinsic+json": {
              "type": "string"
            }
          },
          "metadata": {},
          "execution_count": 73
        }
      ]
    },
    {
      "cell_type": "code",
      "source": [
        "display = sum"
      ],
      "metadata": {
        "id": "sMzhMC645ajb"
      },
      "execution_count": null,
      "outputs": []
    },
    {
      "cell_type": "code",
      "source": [
        "display([2,3])"
      ],
      "metadata": {
        "colab": {
          "base_uri": "https://localhost:8080/"
        },
        "id": "SjRaU8q45lSW",
        "outputId": "e2d9c8ab-9a2f-4557-f90f-dbbca7fd4530"
      },
      "execution_count": null,
      "outputs": [
        {
          "output_type": "execute_result",
          "data": {
            "text/plain": [
              "5"
            ]
          },
          "metadata": {},
          "execution_count": 76
        }
      ]
    },
    {
      "cell_type": "code",
      "source": [
        "type(display)"
      ],
      "metadata": {
        "colab": {
          "base_uri": "https://localhost:8080/"
        },
        "id": "6sjg3UD85mSN",
        "outputId": "9fe3dd58-3d27-4d7a-f6c7-453a3960af76"
      },
      "execution_count": null,
      "outputs": [
        {
          "output_type": "execute_result",
          "data": {
            "text/plain": [
              "builtin_function_or_method"
            ]
          },
          "metadata": {},
          "execution_count": 77
        }
      ]
    },
    {
      "cell_type": "code",
      "source": [
        "# 함수를 변수의 값으로 사용했을 때 함수의 이름을 알기 위해서 __name__을 사용하면 된다.\n",
        "display.__name__\n"
      ],
      "metadata": {
        "colab": {
          "base_uri": "https://localhost:8080/",
          "height": 35
        },
        "id": "wESvOy0o5sHW",
        "outputId": "31fca593-1368-43ab-e4b7-511def741c0e"
      },
      "execution_count": null,
      "outputs": [
        {
          "output_type": "execute_result",
          "data": {
            "text/plain": [
              "'sum'"
            ],
            "application/vnd.google.colaboratory.intrinsic+json": {
              "type": "string"
            }
          },
          "metadata": {},
          "execution_count": 78
        }
      ]
    },
    {
      "cell_type": "markdown",
      "source": [
        "python은 외부에서 함수 내부로 접근할 수 없다."
      ],
      "metadata": {
        "id": "ReWL6D9j6SaM"
      }
    },
    {
      "cell_type": "code",
      "source": [
        "def proc():\n",
        "  z = 1"
      ],
      "metadata": {
        "id": "IR4IeDJj5zCI"
      },
      "execution_count": null,
      "outputs": []
    },
    {
      "cell_type": "code",
      "source": [
        "# z는 함수 내에서 할당되었으므로 함수 밖에서 호출할 수 없다.\n",
        "z"
      ],
      "metadata": {
        "colab": {
          "base_uri": "https://localhost:8080/",
          "height": 141
        },
        "id": "wNOtS7H56aL9",
        "outputId": "06e9ec2e-481b-49ec-dd67-a71de65082dd"
      },
      "execution_count": null,
      "outputs": [
        {
          "output_type": "error",
          "ename": "NameError",
          "evalue": "name 'z' is not defined",
          "traceback": [
            "\u001b[0;31m---------------------------------------------------------------------------\u001b[0m",
            "\u001b[0;31mNameError\u001b[0m                                 Traceback (most recent call last)",
            "\u001b[0;32m/tmp/ipython-input-81-1705769632.py\u001b[0m in \u001b[0;36m<cell line: 0>\u001b[0;34m()\u001b[0m\n\u001b[0;32m----> 1\u001b[0;31m \u001b[0mz\u001b[0m\u001b[0;34m\u001b[0m\u001b[0;34m\u001b[0m\u001b[0m\n\u001b[0m",
            "\u001b[0;31mNameError\u001b[0m: name 'z' is not defined"
          ]
        }
      ]
    },
    {
      "cell_type": "markdown",
      "source": [
        "함수 내부에서 외부에 접근할 수 있다."
      ],
      "metadata": {
        "id": "SiBiBnUb6o7v"
      }
    },
    {
      "cell_type": "code",
      "source": [
        "c = 10  # 전역변수\n",
        "def display():\n",
        "  print(c)"
      ],
      "metadata": {
        "id": "n4CSk0z86cwt"
      },
      "execution_count": null,
      "outputs": []
    },
    {
      "cell_type": "code",
      "source": [
        "display()"
      ],
      "metadata": {
        "colab": {
          "base_uri": "https://localhost:8080/"
        },
        "id": "49TNt4_A6xw_",
        "outputId": "c7803913-6b63-4d33-b3d6-544615403365"
      },
      "execution_count": null,
      "outputs": [
        {
          "output_type": "stream",
          "name": "stdout",
          "text": [
            "10\n"
          ]
        }
      ]
    },
    {
      "cell_type": "markdown",
      "source": [
        "함수에서 외부의 값은 접근할 수 있지만, 변경은 할 수 없다."
      ],
      "metadata": {
        "id": "0HZXNjhW7IuM"
      }
    },
    {
      "cell_type": "code",
      "source": [
        "t = 3\n",
        "def prn():\n",
        "  t = t + 1\n",
        "  print(t)"
      ],
      "metadata": {
        "id": "ovrONM2j60Lv"
      },
      "execution_count": null,
      "outputs": []
    },
    {
      "cell_type": "code",
      "source": [
        "prn()"
      ],
      "metadata": {
        "colab": {
          "base_uri": "https://localhost:8080/",
          "height": 245
        },
        "id": "6j7_wlmw69Vx",
        "outputId": "6f26b97d-9d3e-4e8d-a55c-a9dba0279f2d"
      },
      "execution_count": null,
      "outputs": [
        {
          "output_type": "error",
          "ename": "UnboundLocalError",
          "evalue": "cannot access local variable 't' where it is not associated with a value",
          "traceback": [
            "\u001b[0;31m---------------------------------------------------------------------------\u001b[0m",
            "\u001b[0;31mUnboundLocalError\u001b[0m                         Traceback (most recent call last)",
            "\u001b[0;32m/tmp/ipython-input-85-609915488.py\u001b[0m in \u001b[0;36m<cell line: 0>\u001b[0;34m()\u001b[0m\n\u001b[0;32m----> 1\u001b[0;31m \u001b[0mprn\u001b[0m\u001b[0;34m(\u001b[0m\u001b[0;34m)\u001b[0m\u001b[0;34m\u001b[0m\u001b[0;34m\u001b[0m\u001b[0m\n\u001b[0m",
            "\u001b[0;32m/tmp/ipython-input-84-2942459668.py\u001b[0m in \u001b[0;36mprn\u001b[0;34m()\u001b[0m\n\u001b[1;32m      1\u001b[0m \u001b[0mt\u001b[0m \u001b[0;34m=\u001b[0m \u001b[0;36m3\u001b[0m\u001b[0;34m\u001b[0m\u001b[0;34m\u001b[0m\u001b[0m\n\u001b[1;32m      2\u001b[0m \u001b[0;32mdef\u001b[0m \u001b[0mprn\u001b[0m\u001b[0;34m(\u001b[0m\u001b[0;34m)\u001b[0m\u001b[0;34m:\u001b[0m\u001b[0;34m\u001b[0m\u001b[0;34m\u001b[0m\u001b[0m\n\u001b[0;32m----> 3\u001b[0;31m   \u001b[0mt\u001b[0m \u001b[0;34m=\u001b[0m \u001b[0mt\u001b[0m \u001b[0;34m+\u001b[0m \u001b[0;36m1\u001b[0m\u001b[0;34m\u001b[0m\u001b[0;34m\u001b[0m\u001b[0m\n\u001b[0m\u001b[1;32m      4\u001b[0m   \u001b[0mprint\u001b[0m\u001b[0;34m(\u001b[0m\u001b[0mt\u001b[0m\u001b[0;34m)\u001b[0m\u001b[0;34m\u001b[0m\u001b[0;34m\u001b[0m\u001b[0m\n",
            "\u001b[0;31mUnboundLocalError\u001b[0m: cannot access local variable 't' where it is not associated with a value"
          ]
        }
      ]
    },
    {
      "cell_type": "markdown",
      "source": [
        "global은 내부와 외부의 객체를 동기화(sync)시켜준다.  \n",
        "global은 사용하기는 편하지만 언제 바뀌었는지 흐름을 파악하기 힘들기 때문에 남용은 하지 않는다."
      ],
      "metadata": {
        "id": "m6yYfQ287h6m"
      }
    },
    {
      "cell_type": "code",
      "source": [
        "t = 3\n",
        "def prn():\n",
        "  global t\n",
        "  t = t + 1\n",
        "  print(t)"
      ],
      "metadata": {
        "id": "s5ZI5CIx6-k4"
      },
      "execution_count": null,
      "outputs": []
    },
    {
      "cell_type": "code",
      "source": [
        "prn()"
      ],
      "metadata": {
        "colab": {
          "base_uri": "https://localhost:8080/"
        },
        "id": "So4YLq7J7dzl",
        "outputId": "2fc0949c-98b1-4403-b22d-e0f5ab69669a"
      },
      "execution_count": null,
      "outputs": [
        {
          "output_type": "stream",
          "name": "stdout",
          "text": [
            "4\n"
          ]
        }
      ]
    },
    {
      "cell_type": "code",
      "source": [
        "t"
      ],
      "metadata": {
        "colab": {
          "base_uri": "https://localhost:8080/"
        },
        "id": "n0Yqrl4B7frN",
        "outputId": "a47ce43d-bd3c-45f0-c976-ca29b3c89cc6"
      },
      "execution_count": null,
      "outputs": [
        {
          "output_type": "execute_result",
          "data": {
            "text/plain": [
              "4"
            ]
          },
          "metadata": {},
          "execution_count": 88
        }
      ]
    },
    {
      "cell_type": "markdown",
      "source": [
        "외부 함수의 자원을 내부 함수에서 참조할때는 nonlocal을 사용한다."
      ],
      "metadata": {
        "id": "05gW8G6V8dlH"
      }
    },
    {
      "cell_type": "code",
      "source": [
        "k = 1\n",
        "\n",
        "def outer():\n",
        "  m = 1\n",
        "  def inner():\n",
        "    global k\n",
        "    k = k + 1\n",
        "    nonlocal m\n",
        "    m = m + 1\n",
        "    return k, m\n",
        "  return inner()"
      ],
      "metadata": {
        "id": "RWHP4LTw7qj_"
      },
      "execution_count": null,
      "outputs": []
    },
    {
      "cell_type": "code",
      "source": [
        "outer()"
      ],
      "metadata": {
        "colab": {
          "base_uri": "https://localhost:8080/"
        },
        "id": "TQ_6GQkY76nB",
        "outputId": "f7cc09e9-6f9d-4418-fc9c-1ca1f564f86d"
      },
      "execution_count": null,
      "outputs": [
        {
          "output_type": "execute_result",
          "data": {
            "text/plain": [
              "(2, 2)"
            ]
          },
          "metadata": {},
          "execution_count": 90
        }
      ]
    },
    {
      "cell_type": "markdown",
      "source": [
        "## lambda\n",
        "- python에서는 익명함수를 정의할 때 lambda키워드를 사용한다.\n",
        "- 간결하게 함수를 표현하거나 def로 정의할 수 없는 경우에 사용한다.\n",
        "- 형식\n",
        "  함수이름 = lambda 매개변수1, 매개변수 2,... : 매개변수를 이용한 표현식"
      ],
      "metadata": {
        "id": "uUZPBd5r8u1B"
      }
    },
    {
      "cell_type": "code",
      "source": [
        "add = lambda a, b :  a+b"
      ],
      "metadata": {
        "id": "L1UJaQTK79YR"
      },
      "execution_count": null,
      "outputs": []
    },
    {
      "cell_type": "code",
      "source": [
        "type(add)"
      ],
      "metadata": {
        "colab": {
          "base_uri": "https://localhost:8080/"
        },
        "id": "pAB1SZNE9DYT",
        "outputId": "c6215e9c-826e-422a-a0bf-65f5eaec7558"
      },
      "execution_count": null,
      "outputs": [
        {
          "output_type": "execute_result",
          "data": {
            "text/plain": [
              "function"
            ]
          },
          "metadata": {},
          "execution_count": 94
        }
      ]
    },
    {
      "cell_type": "code",
      "source": [
        "add.__name__"
      ],
      "metadata": {
        "colab": {
          "base_uri": "https://localhost:8080/",
          "height": 35
        },
        "id": "E2mE0t6_9S6k",
        "outputId": "ac7dc608-3be8-4208-95b4-01b0be9ad4a7"
      },
      "execution_count": null,
      "outputs": [
        {
          "output_type": "execute_result",
          "data": {
            "text/plain": [
              "'<lambda>'"
            ],
            "application/vnd.google.colaboratory.intrinsic+json": {
              "type": "string"
            }
          },
          "metadata": {},
          "execution_count": 95
        }
      ]
    },
    {
      "cell_type": "code",
      "source": [],
      "metadata": {
        "id": "XZ_lcSVc9Vhs"
      },
      "execution_count": null,
      "outputs": []
    }
  ]
}