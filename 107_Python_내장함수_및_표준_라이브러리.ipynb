{
  "nbformat": 4,
  "nbformat_minor": 0,
  "metadata": {
    "colab": {
      "provenance": [],
      "authorship_tag": "ABX9TyPZYltaXhGjPbmdicD4SUrY",
      "include_colab_link": true
    },
    "kernelspec": {
      "name": "python3",
      "display_name": "Python 3"
    },
    "language_info": {
      "name": "python"
    }
  },
  "cells": [
    {
      "cell_type": "markdown",
      "metadata": {
        "id": "view-in-github",
        "colab_type": "text"
      },
      "source": [
        "<a href=\"https://colab.research.google.com/github/TAEO2474/python-dev/blob/main/107_Python_%EB%82%B4%EC%9E%A5%ED%95%A8%EC%88%98_%EB%B0%8F_%ED%91%9C%EC%A4%80_%EB%9D%BC%EC%9D%B4%EB%B8%8C%EB%9F%AC%EB%A6%AC.ipynb\" target=\"_parent\"><img src=\"https://colab.research.google.com/assets/colab-badge.svg\" alt=\"Open In Colab\"/></a>"
      ]
    },
    {
      "cell_type": "code",
      "execution_count": 3,
      "metadata": {
        "colab": {
          "base_uri": "https://localhost:8080/"
        },
        "id": "zV25Ce3l9PRb",
        "outputId": "27410ac3-79d2-46d6-86bb-cf9918d5f3e0"
      },
      "outputs": [
        {
          "output_type": "stream",
          "name": "stdout",
          "text": [
            "Drive already mounted at /content/drive; to attempt to forcibly remount, call drive.mount(\"/content/drive\", force_remount=True).\n"
          ]
        }
      ],
      "source": [
        "# 구글 드라이버\n",
        "from google.colab import drive\n",
        "drive.mount('/content/drive')"
      ]
    },
    {
      "cell_type": "code",
      "source": [
        "# 경로 변경\n",
        "%cd /content/drive/MyDrive/2025AI"
      ],
      "metadata": {
        "colab": {
          "base_uri": "https://localhost:8080/"
        },
        "id": "gFrmQhLh9oF7",
        "outputId": "fa61e02e-6a9a-4b79-d037-11d26aa63a04"
      },
      "execution_count": 4,
      "outputs": [
        {
          "output_type": "stream",
          "name": "stdout",
          "text": [
            "/content/drive/MyDrive/2025AI\n"
          ]
        }
      ]
    },
    {
      "cell_type": "code",
      "source": [
        "!pwd\n",
        "# \"print working directory\"의 줄임말로, 쉘 명령어입니다.\n",
        "# Colab 노트북에서는 현재 작업 중인 디렉토리의 위치를 보여줍니다.\n",
        "# 파일을 다룰 때 파일이 어디에 있는지 확인하는 데 유용합니다."
      ],
      "metadata": {
        "colab": {
          "base_uri": "https://localhost:8080/"
        },
        "id": "XM_c-TRX-Twi",
        "outputId": "6a5b3a56-3392-4889-b327-59dd3d36ce4f"
      },
      "execution_count": 6,
      "outputs": [
        {
          "output_type": "stream",
          "name": "stdout",
          "text": [
            "/content/drive/MyDrive/2025AI\n"
          ]
        }
      ]
    },
    {
      "cell_type": "markdown",
      "source": [
        "#  공식 문서  Python 버전에 해당하는 공식 내장 함수 목록\n",
        "https://docs.python.org/3/library/functions.html\n",
        "\n",
        "\n"
      ],
      "metadata": {
        "id": "Qv-arKjr942S"
      }
    },
    {
      "cell_type": "code",
      "source": [
        "# python의 전체 내장 요소(함수, 예외클래스, 상수) 확인\n",
        "# dir(__builtins__)는 builtins 모듈에 정의된 모든 이름(함수, 클래스 등)의 리스트를 반환합니다.\n",
        "print(dir(__builtins__))\n",
        "# len() 함수를 사용하여 내장 요소의 총 개수를 확인할 수 있습니다.\n",
        "print(len(dir(__builtins__)))"
      ],
      "metadata": {
        "colab": {
          "base_uri": "https://localhost:8080/"
        },
        "id": "tXXoWzF49qEx",
        "outputId": "28a65a95-d671-4e1d-d6d3-e4770bafb097"
      },
      "execution_count": 11,
      "outputs": [
        {
          "output_type": "stream",
          "name": "stdout",
          "text": [
            "['ArithmeticError', 'AssertionError', 'AttributeError', 'BaseException', 'BaseExceptionGroup', 'BlockingIOError', 'BrokenPipeError', 'BufferError', 'BytesWarning', 'ChildProcessError', 'ConnectionAbortedError', 'ConnectionError', 'ConnectionRefusedError', 'ConnectionResetError', 'DeprecationWarning', 'EOFError', 'Ellipsis', 'EncodingWarning', 'EnvironmentError', 'Exception', 'ExceptionGroup', 'False', 'FileExistsError', 'FileNotFoundError', 'FloatingPointError', 'FutureWarning', 'GeneratorExit', 'IOError', 'ImportError', 'ImportWarning', 'IndentationError', 'IndexError', 'InterruptedError', 'IsADirectoryError', 'KeyError', 'KeyboardInterrupt', 'LookupError', 'MemoryError', 'ModuleNotFoundError', 'NameError', 'None', 'NotADirectoryError', 'NotImplemented', 'NotImplementedError', 'OSError', 'OverflowError', 'PendingDeprecationWarning', 'PermissionError', 'ProcessLookupError', 'RecursionError', 'ReferenceError', 'ResourceWarning', 'RuntimeError', 'RuntimeWarning', 'StopAsyncIteration', 'StopIteration', 'SyntaxError', 'SyntaxWarning', 'SystemError', 'SystemExit', 'TabError', 'TimeoutError', 'True', 'TypeError', 'UnboundLocalError', 'UnicodeDecodeError', 'UnicodeEncodeError', 'UnicodeError', 'UnicodeTranslateError', 'UnicodeWarning', 'UserWarning', 'ValueError', 'Warning', 'ZeroDivisionError', '__IPYTHON__', '__build_class__', '__debug__', '__doc__', '__import__', '__loader__', '__name__', '__package__', '__pybind11_internals_v4_gcc_libstdcpp_cxxabi1014__', '__spec__', 'abs', 'aiter', 'all', 'anext', 'any', 'ascii', 'bin', 'bool', 'breakpoint', 'bytearray', 'bytes', 'callable', 'chr', 'classmethod', 'compile', 'complex', 'copyright', 'credits', 'delattr', 'dict', 'dir', 'display', 'divmod', 'enumerate', 'eval', 'exec', 'execfile', 'filter', 'float', 'format', 'frozenset', 'get_ipython', 'getattr', 'globals', 'hasattr', 'hash', 'help', 'hex', 'id', 'input', 'int', 'isinstance', 'issubclass', 'iter', 'len', 'license', 'list', 'locals', 'map', 'max', 'memoryview', 'min', 'next', 'object', 'oct', 'open', 'ord', 'pow', 'print', 'property', 'range', 'repr', 'reversed', 'round', 'runfile', 'set', 'setattr', 'slice', 'sorted', 'staticmethod', 'str', 'sum', 'super', 'tuple', 'type', 'vars', 'zip']\n",
            "161\n"
          ]
        }
      ]
    },
    {
      "cell_type": "markdown",
      "source": [
        "# inspect는 함수, 클래스, 모듈, 메서드 등의 타입 확인, 서명 분석, 소스 코드 조회 등을 지원\n",
        "\n",
        "| 함수                        | 설명                     |\n",
        "| ------------------------- | ---------------------- |\n",
        "| `inspect.isfunction(obj)` | Python 함수인지 확인         |\n",
        "| `inspect.isbuiltin(obj)`  | 내장 함수(C 구현)인지 확인       |\n",
        "| `inspect.isclass(obj)`    | 클래스인지 확인               |\n",
        "| `inspect.ismethod(obj)`   | 메서드인지 확인               |\n",
        "| `inspect.ismodule(obj)`   | 모듈인지 확인                |\n",
        "| `inspect.getsource(obj)`  | 객체의 소스 코드 반환           |\n",
        "| `inspect.signature(obj)`  | 함수의 인자 정보 반환           |\n",
        "| `inspect.getmembers(obj)` | 객체의 모든 속성(이름, 값) 쌍을 반환 |\n"
      ],
      "metadata": {
        "id": "jbDj9Flq-wai"
      }
    },
    {
      "cell_type": "markdown",
      "source": [
        "# 모듈(Module)이란?  (모듈 = 코드 모음집)\n",
        "- 파이썬에서 모듈은 함수, 클래스, 변수 등의 코드를 모아놓은 하나의 파일입니다. 마치 다른 언어의 라이브러리나 패키지와 비슷한 개념이라고 생각하시면 됩니다. 코드를 모듈로 나누면 다음과 같은 장점이 있습니다.\n",
        "\n",
        "- 코드 재사용: 다른 프로그램에서 필요한 기능을 모듈로 만들어두면 해당 모듈을 import하여 코드를 다시 작성할 필요 없이 사용할 수 있습니다.\n",
        "코드 구성 및 관리 용이: 관련된 기능을 하나의 모듈로 묶어 관리하면 코드가 깔끔해지고 이해하기 쉬워집니다.\n",
        "이름 공간 분리: 각 모듈은 독립적인 이름 공간을 가집니다. 이를 통해 다른 모듈에서 정의된 이름과 충돌하는 것을 방지할 수 있습니다.\n",
        "모듈은 .py 확장자를 가진 파이썬 파일입니다. 다른 파이썬 파일에서 이 모듈을 사용하려면 import 문을 사용합니다.\n",
        "\n",
        "# builtins 모듈이란?\n",
        "- builtins 모듈은 파이썬에서 아주 특별한 모듈입니다. 이 모듈은 파이썬 인터프리터가 시작될 때 자동으로 로드되며, 별도의 import 과정 없이도 사용할 수 있는 가장 기본적인 내장 함수, 예외 처리 클래스, 상수 등을 포함하고 있습니다.\n",
        "\n",
        "- print(), len(), type(), int(), list() 등과 같이 파이썬에서 가장 자주 사용되는 함수, 그리고 TypeError, ValueError와 같은 기본적인 예외 클래스, True, False, None과 같은 상수들이 모두 builtins 모듈 안에 정의되어 있습니다.\n",
        "\n",
        "- 즉, builtins 모듈은 파이썬의 핵심적인 기능들을 모아놓은 모듈이며, 이 모듈 덕분에 우리는 파이썬 프로그래밍을 시작할 때부터 기본적인 연산을 바로 수행할 수 있습니다.\n",
        "\n",
        "- dir(__builtins__)를 실행했을 때 나오는 목록들이 바로 builtins 모듈에 포함된 내장 기능들입니다.\n"
      ],
      "metadata": {
        "id": "_A8yjZsECIXx"
      }
    },
    {
      "cell_type": "markdown",
      "source": [
        "### ✅  builtins에 포함된 예시\n",
        "\n",
        "| 종류 | 예시 |\n",
        "| --- | --- |\n",
        "| 함수 | `print()`, `len()`, `input()`, `type()` |\n",
        "| 클래스 | `int`, `str`, `list`, `dict`, `Exception` |\n",
        "| 예외 클래스 | `ValueError`, `TypeError`, `IndexError` |\n",
        "| 상수 | `True`, `False`, `None`, `Ellipsis` |"
      ],
      "metadata": {
        "id": "SnsVqB8SEQ4S"
      }
    },
    {
      "cell_type": "code",
      "source": [
        "import builtins\n",
        "import inspect\n",
        "# vars(builtins)는 builtins 모듈의 __dict__ 속성을 반환하여 이름과 객체 쌍의 딕셔너리를 얻습니다.\n",
        "# .items()는 이 딕셔너리의 (이름, 객체) 쌍을 튜플로 반환합니다.\n",
        "# 리스트 컴프리헨션: [obj for name, obj in ...] 구문을 사용하여 각 쌍에서 객체(obj)만 추출하여 리스트를 만듭니다.\n",
        "# 이 리스트에는 내장 함수, 클래스, 상수 등 builtins 모듈의 모든 객체가 포함됩니다.\n",
        "builtin_classes = [obj for name, obj in vars(builtins).items()]"
      ],
      "metadata": {
        "id": "gmLULdXc-zkZ"
      },
      "execution_count": 12,
      "outputs": []
    },
    {
      "cell_type": "code",
      "source": [
        "import builtins\n",
        "import inspect\n",
        "\n",
        "# vars(builtins).items()를 사용하여 builtins 모듈의 모든 이름과 객체 쌍을 가져옵니다.\n",
        "# 리스트 컴프리헨션을 사용하여 각 쌍 (name, obj)을 순회합니다.\n",
        "# inspect.isclass(obj) 조건을 사용하여 객체(obj)가 클래스인 경우에만 해당 이름(name)을 리스트에 추가합니다.\n",
        "builtin_classes = [name  for name, obj in vars(builtins).items()  if inspect.isclass(obj)]\n",
        "print(\"Built-in Classes: \")\n",
        "print(builtin_classes)\n",
        "print(len(builtin_classes))"
      ],
      "metadata": {
        "colab": {
          "base_uri": "https://localhost:8080/"
        },
        "id": "pgAEnv_X-1-J",
        "outputId": "09ff0daa-9854-4d22-88a8-9789d486a094"
      },
      "execution_count": 16,
      "outputs": [
        {
          "output_type": "stream",
          "name": "stdout",
          "text": [
            "Built-in Classes: \n",
            "['__loader__', 'bool', 'memoryview', 'bytearray', 'bytes', 'classmethod', 'complex', 'dict', 'enumerate', 'filter', 'float', 'frozenset', 'property', 'int', 'list', 'map', 'object', 'range', 'reversed', 'set', 'slice', 'staticmethod', 'str', 'super', 'tuple', 'type', 'zip', 'BaseException', 'BaseExceptionGroup', 'Exception', 'GeneratorExit', 'KeyboardInterrupt', 'SystemExit', 'ArithmeticError', 'AssertionError', 'AttributeError', 'BufferError', 'EOFError', 'ImportError', 'LookupError', 'MemoryError', 'NameError', 'OSError', 'ReferenceError', 'RuntimeError', 'StopAsyncIteration', 'StopIteration', 'SyntaxError', 'SystemError', 'TypeError', 'ValueError', 'Warning', 'FloatingPointError', 'OverflowError', 'ZeroDivisionError', 'BytesWarning', 'DeprecationWarning', 'EncodingWarning', 'FutureWarning', 'ImportWarning', 'PendingDeprecationWarning', 'ResourceWarning', 'RuntimeWarning', 'SyntaxWarning', 'UnicodeWarning', 'UserWarning', 'BlockingIOError', 'ChildProcessError', 'ConnectionError', 'FileExistsError', 'FileNotFoundError', 'InterruptedError', 'IsADirectoryError', 'NotADirectoryError', 'PermissionError', 'ProcessLookupError', 'TimeoutError', 'IndentationError', 'IndexError', 'KeyError', 'ModuleNotFoundError', 'NotImplementedError', 'RecursionError', 'UnboundLocalError', 'UnicodeError', 'BrokenPipeError', 'ConnectionAbortedError', 'ConnectionRefusedError', 'ConnectionResetError', 'TabError', 'UnicodeDecodeError', 'UnicodeEncodeError', 'UnicodeTranslateError', 'ExceptionGroup', 'EnvironmentError', 'IOError']\n",
            "96\n"
          ]
        }
      ]
    },
    {
      "cell_type": "markdown",
      "source": [
        "### python의 built-in 상수 목록 확인"
      ],
      "metadata": {
        "id": "8A3YHo5JBi46"
      }
    },
    {
      "cell_type": "code",
      "source": [
        "import builtins\n",
        "import inspect\n",
        "\n",
        "builtin_contents = [name  for name, obj in vars(builtins).items()\n",
        "           if not callable(obj) and not inspect.isclass(obj) and not name.startswith('__')]\n"
      ],
      "metadata": {
        "id": "Jokd4BMP-655"
      },
      "execution_count": 21,
      "outputs": []
    },
    {
      "cell_type": "code",
      "source": [
        "import builtins\n",
        "import inspect\n",
        "\n",
        "builtin_contents = [name  for name, obj in vars(builtins).items()\n",
        "           if not callable(obj) and not inspect.isclass(obj) and not name.startswith('__')]\n",
        "print('Built-in Contents:')\n",
        "print(builtin_contents )\n",
        "print(len(builtin_contents ))"
      ],
      "metadata": {
        "colab": {
          "base_uri": "https://localhost:8080/"
        },
        "id": "9Xxne96XBmWZ",
        "outputId": "8c111d3f-7f5e-45cd-ed01-2c2dffd03a2a"
      },
      "execution_count": 23,
      "outputs": [
        {
          "output_type": "stream",
          "name": "stdout",
          "text": [
            "Built-in Contents:\n",
            "['None', 'Ellipsis', 'NotImplemented', 'False', 'True']\n",
            "5\n"
          ]
        }
      ]
    },
    {
      "cell_type": "markdown",
      "source": [
        "### python의 built-in 함수 목록 확인"
      ],
      "metadata": {
        "id": "8QoWsxrDDGxS"
      }
    },
    {
      "cell_type": "code",
      "source": [
        "import builtins\n",
        "import inspect\n",
        "\n",
        "# builtins 모듈에서 함수만 필터링\n",
        "# inspect.isbuiltin(obj)는 해당 객체가 C로 구현된 내장함수인지 확인\n",
        "builtin_functions = [name  for name, obj in vars(builtins).items()\n",
        "                       if inspect.isbuiltin(obj)]\n",
        "print(builtin_functions)\n",
        "print(len(builtin_functions))"
      ],
      "metadata": {
        "colab": {
          "base_uri": "https://localhost:8080/"
        },
        "id": "2dYwjYOWBoEZ",
        "outputId": "e05487c6-fe5c-454d-80f4-e08c703c2a5c"
      },
      "execution_count": 20,
      "outputs": [
        {
          "output_type": "stream",
          "name": "stdout",
          "text": [
            "['__build_class__', '__import__', 'abs', 'all', 'any', 'ascii', 'bin', 'breakpoint', 'callable', 'chr', 'compile', 'delattr', 'dir', 'divmod', 'eval', 'exec', 'format', 'getattr', 'globals', 'hasattr', 'hash', 'hex', 'id', 'isinstance', 'issubclass', 'iter', 'aiter', 'len', 'locals', 'max', 'min', 'next', 'anext', 'oct', 'ord', 'pow', 'print', 'repr', 'round', 'setattr', 'sorted', 'sum', 'vars', 'open']\n",
            "44\n"
          ]
        }
      ]
    },
    {
      "cell_type": "code",
      "source": [
        "builtin_functions_info = {\n",
        "    \"abs\": (\"절댓값 반환\", \"abs(-5) → {}\".format(abs(-5))),\n",
        "    \"all\": (\"모든 요소가 참인지 확인\", \"all([1, 2, 3]) → {}\".format(all([1, 2, 3]))),\n",
        "    \"any\": (\"하나라도 참이면 True\", \"any([0, 0, 3]) → {}\".format(any([0, 0, 3]))),\n",
        "    \"ascii\": (\"비 ASCII 문자를 이스케이프된 문자열로 반환\", \"ascii('안녕') → {}\".format(ascii('안녕'))),\n",
        "    \"bin\": (\"정수를 2진수 문자열로 변환\", \"bin(10) → {}\".format(bin(10))),\n",
        "    \"breakpoint\": (\"디버깅용 중단점 (실행 시 디버거 연결)\", \"breakpoint() → 중단점 진입\"),\n",
        "    \"callable\": (\"객체가 호출 가능한지 확인\", \"callable(len) → {}\".format(callable(len))),\n",
        "    \"chr\": (\"정수를 유니코드 문자로 변환\", \"chr(65) → {}\".format(chr(65))),\n",
        "    \"compile\": (\"소스 코드를 실행 가능한 코드 객체로 컴파일\", \"compile('2+2', '', 'eval') → 코드 객체\"),\n",
        "    \"delattr\": (\"객체의 속성 제거\", \"사용 예: delattr(obj, 'attr')\"),\n",
        "    \"dir\": (\"객체의 속성 목록 반환\", \"dir([]) → {}\".format(dir([])[:3]) + \" ...\"),\n",
        "    \"divmod\": (\"몫과 나머지를 튜플로 반환\", \"divmod(10, 3) → {}\".format(divmod(10, 3))),\n",
        "    \"eval\": (\"문자열로 된 식을 평가\", \"eval('2+3') → {}\".format(eval(\"2+3\"))),\n",
        "    \"exec\": (\"파이썬 코드를 실행\", \"exec('a=5') → a 변수 생성\"),\n",
        "    \"format\": (\"형식 지정 문자열\", \"format(42, '04') → {}\".format(format(42, '04'))),\n",
        "    \"getattr\": (\"객체 속성 접근\", \"getattr('hello', 'upper')() → {}\".format(getattr(\"hello\", \"upper\")())),\n",
        "    \"globals\": (\"전역 심볼 테이블 반환\", \"globals() → 현재 전역변수 dict\"),\n",
        "    \"hasattr\": (\"속성 존재 여부 확인\", \"hasattr('abc', 'upper') → {}\".format(hasattr(\"abc\", \"upper\"))),\n",
        "    \"hash\": (\"객체의 해시값 반환\", \"hash('abc') → {}\".format(hash(\"abc\"))),\n",
        "    \"hex\": (\"정수를 16진수로 반환\", \"hex(255) → {}\".format(hex(255))),\n",
        "    \"id\": (\"객체 고유 ID 반환\", \"id(10) → {}\".format(id(10))),\n",
        "    \"isinstance\": (\"인스턴스 여부 확인\", \"isinstance(5, int) → {}\".format(isinstance(5, int))),\n",
        "    \"issubclass\": (\"상속 여부 확인\", \"issubclass(bool, int) → {}\".format(issubclass(bool, int))),\n",
        "    \"iter\": (\"이터레이터 생성\", \"iter([1,2]) → {}\".format(iter([1,2]))),\n",
        "    \"aiter\": (\"비동기 이터레이터 생성\", \"사용 예: async for i in aiter(obj)\"),\n",
        "    \"len\": (\"객체 길이 반환\", \"len('abc') → {}\".format(len(\"abc\"))),\n",
        "    \"locals\": (\"지역 심볼 테이블 반환\", \"locals() → 현재 지역변수 dict\"),\n",
        "    \"max\": (\"최댓값 반환\", \"max([1, 5, 3]) → {}\".format(max([1, 5, 3]))),\n",
        "    \"min\": (\"최솟값 반환\", \"min([1, 5, 3]) → {}\".format(min([1, 5, 3]))),\n",
        "    \"next\": (\"이터레이터의 다음 값\", \"next(iter([1,2,3])) → {}\".format(next(iter([1,2,3])))),\n",
        "    \"anext\": (\"비동기 이터레이터의 다음 값\", \"사용 예: await anext(aiter(obj))\"),\n",
        "    \"oct\": (\"정수를 8진수로 변환\", \"oct(10) → {}\".format(oct(10))),\n",
        "    \"ord\": (\"문자의 유니코드 정수 반환\", \"ord('A') → {}\".format(ord('A'))),\n",
        "    \"pow\": (\"거듭제곱 계산\", \"pow(2, 3) → {}\".format(pow(2, 3))),\n",
        "    \"print\": (\"출력 함수\", \"print('Hello') → Hello\"),\n",
        "    \"repr\": (\"객체의 공식 표현 반환\", \"repr('abc') → {}\".format(repr(\"abc\"))),\n",
        "    \"round\": (\"반올림\", \"round(3.14159, 2) → {}\".format(round(3.14159, 2))),\n",
        "    \"setattr\": (\"객체 속성 설정\", \"setattr(obj, 'attr', 5) → obj.attr = 5\"),\n",
        "    \"sorted\": (\"정렬된 리스트 반환\", \"sorted([3,1,2]) → {}\".format(sorted([3,1,2]))),\n",
        "    \"sum\": (\"합계 반환\", \"sum([1,2,3]) → {}\".format(sum([1,2,3]))),\n",
        "    \"vars\": (\"__dict__ 속성 반환\", \"vars(obj) → 객체의 속성 dict\"),\n",
        "    \"open\": (\"파일 열기\", \"open('file.txt', 'r') → 파일 객체\"),\n",
        "}\n",
        "\n",
        "# 보기 편하게 정리해서 출력\n",
        "for name in sorted(builtin_functions_info):\n",
        "    desc, example = builtin_functions_info[name]\n",
        "    print(f\"▶ {name}()\\n - 정의: {desc}\\n - 예제: {example}\\n\")"
      ],
      "metadata": {
        "colab": {
          "base_uri": "https://localhost:8080/"
        },
        "id": "dfAAZu6HB8N6",
        "outputId": "364d0149-08bf-48c9-ce40-7d5cf713cbe2"
      },
      "execution_count": 24,
      "outputs": [
        {
          "output_type": "stream",
          "name": "stdout",
          "text": [
            "▶ abs()\n",
            " - 정의: 절댓값 반환\n",
            " - 예제: abs(-5) → 5\n",
            "\n",
            "▶ aiter()\n",
            " - 정의: 비동기 이터레이터 생성\n",
            " - 예제: 사용 예: async for i in aiter(obj)\n",
            "\n",
            "▶ all()\n",
            " - 정의: 모든 요소가 참인지 확인\n",
            " - 예제: all([1, 2, 3]) → True\n",
            "\n",
            "▶ anext()\n",
            " - 정의: 비동기 이터레이터의 다음 값\n",
            " - 예제: 사용 예: await anext(aiter(obj))\n",
            "\n",
            "▶ any()\n",
            " - 정의: 하나라도 참이면 True\n",
            " - 예제: any([0, 0, 3]) → True\n",
            "\n",
            "▶ ascii()\n",
            " - 정의: 비 ASCII 문자를 이스케이프된 문자열로 반환\n",
            " - 예제: ascii('안녕') → '\\uc548\\ub155'\n",
            "\n",
            "▶ bin()\n",
            " - 정의: 정수를 2진수 문자열로 변환\n",
            " - 예제: bin(10) → 0b1010\n",
            "\n",
            "▶ breakpoint()\n",
            " - 정의: 디버깅용 중단점 (실행 시 디버거 연결)\n",
            " - 예제: breakpoint() → 중단점 진입\n",
            "\n",
            "▶ callable()\n",
            " - 정의: 객체가 호출 가능한지 확인\n",
            " - 예제: callable(len) → True\n",
            "\n",
            "▶ chr()\n",
            " - 정의: 정수를 유니코드 문자로 변환\n",
            " - 예제: chr(65) → A\n",
            "\n",
            "▶ compile()\n",
            " - 정의: 소스 코드를 실행 가능한 코드 객체로 컴파일\n",
            " - 예제: compile('2+2', '', 'eval') → 코드 객체\n",
            "\n",
            "▶ delattr()\n",
            " - 정의: 객체의 속성 제거\n",
            " - 예제: 사용 예: delattr(obj, 'attr')\n",
            "\n",
            "▶ dir()\n",
            " - 정의: 객체의 속성 목록 반환\n",
            " - 예제: dir([]) → ['__add__', '__class__', '__class_getitem__'] ...\n",
            "\n",
            "▶ divmod()\n",
            " - 정의: 몫과 나머지를 튜플로 반환\n",
            " - 예제: divmod(10, 3) → (3, 1)\n",
            "\n",
            "▶ eval()\n",
            " - 정의: 문자열로 된 식을 평가\n",
            " - 예제: eval('2+3') → 5\n",
            "\n",
            "▶ exec()\n",
            " - 정의: 파이썬 코드를 실행\n",
            " - 예제: exec('a=5') → a 변수 생성\n",
            "\n",
            "▶ format()\n",
            " - 정의: 형식 지정 문자열\n",
            " - 예제: format(42, '04') → 0042\n",
            "\n",
            "▶ getattr()\n",
            " - 정의: 객체 속성 접근\n",
            " - 예제: getattr('hello', 'upper')() → HELLO\n",
            "\n",
            "▶ globals()\n",
            " - 정의: 전역 심볼 테이블 반환\n",
            " - 예제: globals() → 현재 전역변수 dict\n",
            "\n",
            "▶ hasattr()\n",
            " - 정의: 속성 존재 여부 확인\n",
            " - 예제: hasattr('abc', 'upper') → True\n",
            "\n",
            "▶ hash()\n",
            " - 정의: 객체의 해시값 반환\n",
            " - 예제: hash('abc') → -1676653418925774686\n",
            "\n",
            "▶ hex()\n",
            " - 정의: 정수를 16진수로 반환\n",
            " - 예제: hex(255) → 0xff\n",
            "\n",
            "▶ id()\n",
            " - 정의: 객체 고유 ID 반환\n",
            " - 예제: id(10) → 10758024\n",
            "\n",
            "▶ isinstance()\n",
            " - 정의: 인스턴스 여부 확인\n",
            " - 예제: isinstance(5, int) → True\n",
            "\n",
            "▶ issubclass()\n",
            " - 정의: 상속 여부 확인\n",
            " - 예제: issubclass(bool, int) → True\n",
            "\n",
            "▶ iter()\n",
            " - 정의: 이터레이터 생성\n",
            " - 예제: iter([1,2]) → <list_iterator object at 0x7c580ed39b40>\n",
            "\n",
            "▶ len()\n",
            " - 정의: 객체 길이 반환\n",
            " - 예제: len('abc') → 3\n",
            "\n",
            "▶ locals()\n",
            " - 정의: 지역 심볼 테이블 반환\n",
            " - 예제: locals() → 현재 지역변수 dict\n",
            "\n",
            "▶ max()\n",
            " - 정의: 최댓값 반환\n",
            " - 예제: max([1, 5, 3]) → 5\n",
            "\n",
            "▶ min()\n",
            " - 정의: 최솟값 반환\n",
            " - 예제: min([1, 5, 3]) → 1\n",
            "\n",
            "▶ next()\n",
            " - 정의: 이터레이터의 다음 값\n",
            " - 예제: next(iter([1,2,3])) → 1\n",
            "\n",
            "▶ oct()\n",
            " - 정의: 정수를 8진수로 변환\n",
            " - 예제: oct(10) → 0o12\n",
            "\n",
            "▶ open()\n",
            " - 정의: 파일 열기\n",
            " - 예제: open('file.txt', 'r') → 파일 객체\n",
            "\n",
            "▶ ord()\n",
            " - 정의: 문자의 유니코드 정수 반환\n",
            " - 예제: ord('A') → 65\n",
            "\n",
            "▶ pow()\n",
            " - 정의: 거듭제곱 계산\n",
            " - 예제: pow(2, 3) → 8\n",
            "\n",
            "▶ print()\n",
            " - 정의: 출력 함수\n",
            " - 예제: print('Hello') → Hello\n",
            "\n",
            "▶ repr()\n",
            " - 정의: 객체의 공식 표현 반환\n",
            " - 예제: repr('abc') → 'abc'\n",
            "\n",
            "▶ round()\n",
            " - 정의: 반올림\n",
            " - 예제: round(3.14159, 2) → 3.14\n",
            "\n",
            "▶ setattr()\n",
            " - 정의: 객체 속성 설정\n",
            " - 예제: setattr(obj, 'attr', 5) → obj.attr = 5\n",
            "\n",
            "▶ sorted()\n",
            " - 정의: 정렬된 리스트 반환\n",
            " - 예제: sorted([3,1,2]) → [1, 2, 3]\n",
            "\n",
            "▶ sum()\n",
            " - 정의: 합계 반환\n",
            " - 예제: sum([1,2,3]) → 6\n",
            "\n",
            "▶ vars()\n",
            " - 정의: __dict__ 속성 반환\n",
            " - 예제: vars(obj) → 객체의 속성 dict\n",
            "\n"
          ]
        }
      ]
    },
    {
      "cell_type": "markdown",
      "source": [
        "### datetime은 날짜/시간 라이브러리이다."
      ],
      "metadata": {
        "id": "Y5dlUXpWEfq5"
      }
    },
    {
      "cell_type": "code",
      "source": [
        "import datetime\n",
        "\n",
        "# dir(datetime)는 datetime 모듈 자체에 포함된 모든 이름(클래스, 상수 등)을 보여줍니다.\n",
        "print(dir(datetime))\n",
        "# dir(datetime.datetime)는 datetime 모듈 안의 datetime 클래스에 정의된 속성과 메서드를 보여줍니다.\n",
        "print(dir(datetime.datetime))\n",
        "# dir(datetime.date)는 datetime 모듈 안의 date 클래스에 정의된 속성과 메서드를 보여줍니다.\n",
        "print(dir(datetime.date))\n",
        "# dir(datetime.time)는 datetime 모듈 안의 time 클래스에 정의된 속성과 메서드를 보여줍니다.\n",
        "print(dir(datetime.time))"
      ],
      "metadata": {
        "colab": {
          "base_uri": "https://localhost:8080/"
        },
        "id": "BfpYKTtXDZvJ",
        "outputId": "9aa29e74-dd9c-4366-b63c-dfd8c4e2a96d"
      },
      "execution_count": 30,
      "outputs": [
        {
          "output_type": "stream",
          "name": "stdout",
          "text": [
            "['MAXYEAR', 'MINYEAR', 'UTC', '__all__', '__builtins__', '__cached__', '__doc__', '__file__', '__loader__', '__name__', '__package__', '__spec__', 'date', 'datetime', 'datetime_CAPI', 'sys', 'time', 'timedelta', 'timezone', 'tzinfo']\n",
            "['__add__', '__class__', '__delattr__', '__dir__', '__doc__', '__eq__', '__format__', '__ge__', '__getattribute__', '__getstate__', '__gt__', '__hash__', '__init__', '__init_subclass__', '__le__', '__lt__', '__ne__', '__new__', '__radd__', '__reduce__', '__reduce_ex__', '__repr__', '__rsub__', '__setattr__', '__sizeof__', '__str__', '__sub__', '__subclasshook__', 'astimezone', 'combine', 'ctime', 'date', 'day', 'dst', 'fold', 'fromisocalendar', 'fromisoformat', 'fromordinal', 'fromtimestamp', 'hour', 'isocalendar', 'isoformat', 'isoweekday', 'max', 'microsecond', 'min', 'minute', 'month', 'now', 'replace', 'resolution', 'second', 'strftime', 'strptime', 'time', 'timestamp', 'timetuple', 'timetz', 'today', 'toordinal', 'tzinfo', 'tzname', 'utcfromtimestamp', 'utcnow', 'utcoffset', 'utctimetuple', 'weekday', 'year']\n",
            "['__add__', '__class__', '__delattr__', '__dir__', '__doc__', '__eq__', '__format__', '__ge__', '__getattribute__', '__getstate__', '__gt__', '__hash__', '__init__', '__init_subclass__', '__le__', '__lt__', '__ne__', '__new__', '__radd__', '__reduce__', '__reduce_ex__', '__repr__', '__rsub__', '__setattr__', '__sizeof__', '__str__', '__sub__', '__subclasshook__', 'ctime', 'day', 'fromisocalendar', 'fromisoformat', 'fromordinal', 'fromtimestamp', 'isocalendar', 'isoformat', 'isoweekday', 'max', 'min', 'month', 'replace', 'resolution', 'strftime', 'timetuple', 'today', 'toordinal', 'weekday', 'year']\n",
            "['__class__', '__delattr__', '__dir__', '__doc__', '__eq__', '__format__', '__ge__', '__getattribute__', '__getstate__', '__gt__', '__hash__', '__init__', '__init_subclass__', '__le__', '__lt__', '__ne__', '__new__', '__reduce__', '__reduce_ex__', '__repr__', '__setattr__', '__sizeof__', '__str__', '__subclasshook__', 'dst', 'fold', 'fromisoformat', 'hour', 'isoformat', 'max', 'microsecond', 'min', 'minute', 'replace', 'resolution', 'second', 'strftime', 'tzinfo', 'tzname', 'utcoffset']\n"
          ]
        }
      ]
    },
    {
      "cell_type": "code",
      "source": [
        "import datetime\n",
        "\n",
        "# datetime.date 클래스를 사용하여 특정 날짜 객체를 생성합니다.\n",
        "day1 = datetime.date(2025, 7, 10)\n",
        "day2 = datetime.date(2025, 7, 18)\n",
        "\n",
        "print(type(day1))  # day1 객체의 타입을 출력합니다. 'datetime.date' 클래스임을 확인할 수 있습니다.\n",
        "\n",
        "# 두 날짜 객체의 차이를 계산합니다. 결과는 timedelta 객체입니다.\n",
        "diff = day2 -day1\n",
        "print(diff)     # 날짜 차이를 '일 (days)' 형식으로 출력합니다.\n",
        "print(type(diff))  # diff 객체의 타입을 출력합니다. 'datetime.timedelta' 클래스임을 확인할 수 있습니다.\n",
        "print(dir(diff)) # timedelta 객체가 가진 속성과 메서드를 보여줍니다.\n",
        "\n",
        "# timedelta 객체의 .days 속성을 사용하여 일(day) 차이만 정수로 얻습니다.\n",
        "print(diff.days) # 8 일 차이값을 리턴\n",
        "\n",
        "# date 객체의 weekday() 메서드는 요일을 정수로 반환합니다. (월요일: 0 ~ 일요일: 6)\n",
        "print(day2.weekday()) #4 금요일\n",
        "\n",
        "# date 객체의 isoweekday() 메서드는 요일을 정수로 반환합니다. (월요일: 1 ~ 일요일: 7)\n",
        "print(day2.isoweekday()) # 5 금요일"
      ],
      "metadata": {
        "colab": {
          "base_uri": "https://localhost:8080/"
        },
        "id": "f1yL7mi-Ha15",
        "outputId": "2b3e58cd-716e-40e0-fa5e-625c62ef5079"
      },
      "execution_count": 31,
      "outputs": [
        {
          "output_type": "stream",
          "name": "stdout",
          "text": [
            "<class 'datetime.date'>\n",
            "8 days, 0:00:00\n",
            "<class 'datetime.timedelta'>\n",
            "['__abs__', '__add__', '__bool__', '__class__', '__delattr__', '__dir__', '__divmod__', '__doc__', '__eq__', '__floordiv__', '__format__', '__ge__', '__getattribute__', '__getstate__', '__gt__', '__hash__', '__init__', '__init_subclass__', '__le__', '__lt__', '__mod__', '__mul__', '__ne__', '__neg__', '__new__', '__pos__', '__radd__', '__rdivmod__', '__reduce__', '__reduce_ex__', '__repr__', '__rfloordiv__', '__rmod__', '__rmul__', '__rsub__', '__rtruediv__', '__setattr__', '__sizeof__', '__str__', '__sub__', '__subclasshook__', '__truediv__', 'days', 'max', 'microseconds', 'min', 'resolution', 'seconds', 'total_seconds']\n",
            "8\n",
            "4\n",
            "5\n"
          ]
        }
      ]
    },
    {
      "cell_type": "code",
      "source": [
        "from datetime import datetime\n",
        "# dir(datetime)는 여기서 import한 datetime 클래스에 정의된 속성과 메서드를 보여줍니다.\n",
        "print(dir(datetime))\n",
        "# datetime.year는 datetime 클래스 자체의 속성이 아니라 datetime 객체의 속성입니다.\n",
        "# 따라서 클래스 이름으로 직접 접근하면 속성 정보가 출력됩니다. (예: <attribute 'year' of 'datetime.date' objects>)\n",
        "print(datetime.year)\n",
        "\n",
        "# datetime 모듈(객체) 이 가진 모든 이름들(클래스, 함수, 변수 등) 리스트가 나옵니다.\n",
        "# 이 중에는 메서드뿐 아니라 클래스, 함수, 변수, 상수, 서브모듈 이름도 포함됩니다."
      ],
      "metadata": {
        "colab": {
          "base_uri": "https://localhost:8080/"
        },
        "id": "YLmBVjKSKeW5",
        "outputId": "d7ae65b5-fde3-43b7-e0f2-b07015028df7"
      },
      "execution_count": 32,
      "outputs": [
        {
          "output_type": "stream",
          "name": "stdout",
          "text": [
            "['__add__', '__class__', '__delattr__', '__dir__', '__doc__', '__eq__', '__format__', '__ge__', '__getattribute__', '__getstate__', '__gt__', '__hash__', '__init__', '__init_subclass__', '__le__', '__lt__', '__ne__', '__new__', '__radd__', '__reduce__', '__reduce_ex__', '__repr__', '__rsub__', '__setattr__', '__sizeof__', '__str__', '__sub__', '__subclasshook__', 'astimezone', 'combine', 'ctime', 'date', 'day', 'dst', 'fold', 'fromisocalendar', 'fromisoformat', 'fromordinal', 'fromtimestamp', 'hour', 'isocalendar', 'isoformat', 'isoweekday', 'max', 'microsecond', 'min', 'minute', 'month', 'now', 'replace', 'resolution', 'second', 'strftime', 'strptime', 'time', 'timestamp', 'timetuple', 'timetz', 'today', 'toordinal', 'tzinfo', 'tzname', 'utcfromtimestamp', 'utcnow', 'utcoffset', 'utctimetuple', 'weekday', 'year']\n",
            "<attribute 'year' of 'datetime.date' objects>\n"
          ]
        }
      ]
    },
    {
      "cell_type": "code",
      "source": [
        "import time\n",
        "\n",
        "# time 모듈 객체 자체를 출력합니다. (<module 'time' (built-in)> 와 같이 표시됩니다.)\n",
        "print(time)\n",
        "\n",
        "# dir(time)은 time 모듈에 포함된 모든 이름(함수, 상수, 속성 등)의 리스트를 반환합니다.\n",
        "print(dir(time))\n",
        "\n",
        "# time.time()은 에포크(epoch) 이후 현재까지의 시간을 초 단위로 반환합니다. (보통 1970년 1월 1일 00:00:00 UTC 기준)\n",
        "print(time.time())\n",
        "\n",
        "# time.localtime(time.time())는 time.time()으로 얻은 초 값을 현재 지역 시간대의 struct_time 객체로 변환합니다.\n",
        "# time.strftime('%x', ...)는 struct_time 객체를 지정된 형식 문자열('%x'는 지역 시간대의 날짜 표현)에 따라 문자열로 변환합니다.\n",
        "print(time.strftime ('%x', time.localtime(time.time())))\n",
        "\n",
        "# time.strftime('%c')는 현재 시간을 지역 시간대의 날짜와 시간 표현 문자열('%c')로 변환합니다.\n",
        "print(time.strftime('%c'))\n"
      ],
      "metadata": {
        "colab": {
          "base_uri": "https://localhost:8080/"
        },
        "id": "bz7aqXDAKgLh",
        "outputId": "ab1c952e-2681-4989-eff5-f21676651b5f"
      },
      "execution_count": 34,
      "outputs": [
        {
          "output_type": "stream",
          "name": "stdout",
          "text": [
            "<module 'time' (built-in)>\n",
            "['CLOCK_BOOTTIME', 'CLOCK_MONOTONIC', 'CLOCK_MONOTONIC_RAW', 'CLOCK_PROCESS_CPUTIME_ID', 'CLOCK_REALTIME', 'CLOCK_TAI', 'CLOCK_THREAD_CPUTIME_ID', '_STRUCT_TM_ITEMS', '__doc__', '__loader__', '__name__', '__package__', '__spec__', 'altzone', 'asctime', 'clock_getres', 'clock_gettime', 'clock_gettime_ns', 'clock_settime', 'clock_settime_ns', 'ctime', 'daylight', 'get_clock_info', 'gmtime', 'localtime', 'mktime', 'monotonic', 'monotonic_ns', 'perf_counter', 'perf_counter_ns', 'process_time', 'process_time_ns', 'pthread_getcpuclockid', 'sleep', 'strftime', 'strptime', 'struct_time', 'thread_time', 'thread_time_ns', 'time', 'time_ns', 'timezone', 'tzname', 'tzset']\n",
            "1752802882.768537\n",
            "07/18/25\n",
            "Fri Jul 18 01:41:22 2025\n"
          ]
        }
      ]
    },
    {
      "cell_type": "markdown",
      "source": [
        "# Python 시간 포맷 코드 정리 (strftime 용)\n",
        "\n",
        "| 포맷코드 | 설명                     | 예시 (`2025년 7월 17일 오후 2시 30분 45초`) |\n",
        "| ---- | ---------------------- | --------------------------------- |\n",
        "| `%Y` | 4자리 연도                 | `2025`                            |\n",
        "| `%y` | 2자리 연도                 | `25`                              |\n",
        "| `%m` | 2자리 월 (01\\~12)         | `07`                              |\n",
        "| `%B` | 월 이름 (전체, 영어)          | `July`                            |\n",
        "| `%b` | 월 이름 (짧은, 영어)          | `Jul`                             |\n",
        "| `%d` | 2자리 일 (01\\~31)         | `17`                              |\n",
        "| `%A` | 요일 이름 (전체, 영어)         | `Thursday`                        |\n",
        "| `%a` | 요일 이름 (짧은, 영어)         | `Thu`                             |\n",
        "| `%w` | 요일 숫자 (일요일=0)          | `4`                               |\n",
        "| `%H` | 시간 (24시간제, 00\\~23)     | `14`                              |\n",
        "| `%I` | 시간 (12시간제, 01\\~12)     | `02`                              |\n",
        "| `%p` | 오전/오후 (AM/PM)          | `PM`                              |\n",
        "| `%M` | 분 (00\\~59)             | `30`                              |\n",
        "| `%S` | 초 (00\\~59)             | `45`                              |\n",
        "| `%f` | 마이크로초 (6자리)            | `123456` *(예시)*                   |\n",
        "| `%j` | 1년 중 몇 번째 날 (001\\~366) | `198`                             |\n",
        "| `%U` | 1년 중 몇 번째 주 (일요일 시작)   | `28`                              |\n",
        "| `%W` | 1년 중 몇 번째 주 (월요일 시작)   | `28`                              |\n",
        "| `%c` | 날짜와 시간을 모두 표현          | `Thu Jul 17 14:30:45 2025`        |\n",
        "| `%x` | 날짜 표현                  | `07/17/25` (시스템 로케일에 따라 다름)       |\n",
        "| `%X` | 시간 표현                  | `14:30:45`                        |\n",
        "| `%%` | `%` 자체                 | `%`                               |\n"
      ],
      "metadata": {
        "id": "rq_Xy3FvMbUC"
      }
    },
    {
      "cell_type": "markdown",
      "source": [
        "# strftime?\n",
        "- \"string format time\"의 줄임말로, 날짜와 시간 정보를 원하는 형식의 문자열로 만들어주는 함수 또는 메서드입니다."
      ],
      "metadata": {
        "id": "z54jESqbN_tK"
      }
    },
    {
      "cell_type": "code",
      "source": [
        "import time\n",
        "from datetime import datetime\n",
        "\n",
        "# time.strftime() 함수는 time.localtime()으로 얻은 struct_time 객체를 포맷팅합니다.\n",
        "# time.localtime()은 현재 지역 시간을 struct_time 객체로 반환합니다.\n",
        "print(time.strftime(\"%Y-%m-%d %H:%M:%S\", time.localtime())) # 현재 시간을 'YYYY-MM-DD HH:MM:SS' 형식으로 출력\n",
        "print(time.strftime(\"%x\", time.localtime(time.time())))     # 현재 날짜를 지역 시간대 형식으로 출력 (예: MM/DD/YY)\n",
        "print(time.strftime(\"%c\", time.localtime(time.time())))     # 현재 날짜와 시간을 지역 시간대 형식으로 출력 (예: Weekday Mon Day HH:MM:SS Year)\n",
        "\n",
        "# datetime.strftime() 메서드는 datetime 객체 자체를 포맷팅합니다.\n",
        "# datetime(년, 월, 일, 시, 분, 초) 형식으로 특정 날짜와 시간을 가진 datetime 객체를 생성합니다.\n",
        "now = datetime(2025, 7, 17, 14, 30, 45)\n",
        "print(now.strftime(\"%Y-%m-%d %H:%M:%S\"))  # YYYY-MM-DD HH:MM:SS 형식으로 출력\n",
        "print(now.strftime(\"%A, %B %d, %Y\"))     # 요일 이름, 월 이름 일, 년도 형식으로 출력\n",
        "print(now.strftime(\"%I:%M %p\"))         # 12시간제 시:분 AM/PM 형식으로 출력"
      ],
      "metadata": {
        "colab": {
          "base_uri": "https://localhost:8080/"
        },
        "id": "3iLKjORxKhth",
        "outputId": "f2ea8aee-cfe1-4fa9-9db0-69f6689fd794"
      },
      "execution_count": 38,
      "outputs": [
        {
          "output_type": "stream",
          "name": "stdout",
          "text": [
            "2025-07-18 01:47:09\n",
            "07/18/25\n",
            "Fri Jul 18 01:47:09 2025\n",
            "2025-07-17 14:30:45\n",
            "Thursday, July 17, 2025\n",
            "02:30 PM\n"
          ]
        }
      ]
    },
    {
      "cell_type": "code",
      "source": [
        "import time\n",
        "\n",
        "for i in range(5):\n",
        "  print(i)\n",
        "  time.sleep(1)  # 1초 대기"
      ],
      "metadata": {
        "colab": {
          "base_uri": "https://localhost:8080/"
        },
        "id": "rWNIL892NBSa",
        "outputId": "06546fda-1f4f-41bd-b1b5-9a7cc7168690"
      },
      "execution_count": 39,
      "outputs": [
        {
          "output_type": "stream",
          "name": "stdout",
          "text": [
            "0\n",
            "1\n",
            "2\n",
            "3\n",
            "4\n"
          ]
        }
      ]
    },
    {
      "cell_type": "markdown",
      "source": [
        "# ✅ time vs datetime 차이\n",
        "\n",
        "| 항목      | `time` 모듈          | `datetime` 모듈            |\n",
        "| ------- | ------------------ | ------------------------ |\n",
        "| 초 단위 기반 | 타임스탬프 중심 (`float`) | 날짜/시간 중심 객체 (`datetime`) |\n",
        "| 추천 용도   | 대기, 지연, 시간 측정 등    | 날짜 계산, 포맷, 날짜 연산 등       |"
      ],
      "metadata": {
        "id": "nBIQiUYhOZ76"
      }
    },
    {
      "cell_type": "markdown",
      "source": [
        "| 함수               | 설명               | 예시                         |\n",
        "| ---------------- | ---------------- | -------------------------- |\n",
        "| `math.sqrt(x)`   | 제곱근              | `math.sqrt(9)` → `3.0`     |\n",
        "| `math.pow(x, y)` | `x`의 `y`제곱 (실수형) | `math.pow(2, 3)` → `8.0`   |\n",
        "| `math.exp(x)`    | `e^x` 계산         | `math.exp(1)` → `2.718...` |\n",
        "| `math.log(x)`    | 자연로그 (ln x)      | `math.log(math.e)` → `1.0` |\n",
        "| `math.log10(x)`  | 상용로그 (log₁₀ x)   | `math.log10(100)` → `2.0`  |\n",
        "| `math.log2(x)`   | 이진로그 (log₂ x)    | `math.log2(8)` → `3.0`     |\n",
        "| `math.ceil(x)`        | 올림 (Ceiling)          | `math.ceil(2.3)` → `3`          |\n",
        "| `math.floor(x)`       | 내림 (Floor)            | `math.floor(2.7)` → `2`         |\n",
        "| `math.trunc(x)`       | 소수점 제거 (버림)           | `math.trunc(3.9)` → `3`         |\n",
        "| `math.fabs(x)`        | 절댓값 (부호 제거)           | `math.fabs(-4.2)` → `4.2`       |\n",
        "| `math.copysign(x, y)` | `x`의 절댓값에 `y`의 부호를 붙임 | `math.copysign(3, -1)` → `-3.0` |\n",
        "| `math.sin(x)`     | 사인 (`x`는 라디안)   | `math.sin(math.pi / 2)` → `1.0`   |\n",
        "| `math.cos(x)`     | 코사인             | `math.cos(0)` → `1.0`             |\n",
        "| `math.tan(x)`     | 탄젠트             | `math.tan(math.pi/4)` → `1.0`     |\n",
        "| `math.asin(x)`    | 아크사인 (역사인)      | `math.asin(1.0)` → `π/2`          |\n",
        "| `math.acos(x)`    | 아크코사인           | `math.acos(0)` → `π/2`            |\n",
        "| `math.atan(x)`    | 아크탄젠트           | `math.atan(1)` → `π/4`            |\n",
        "| `math.degrees(x)` | 라디안 → 도(degree) | `math.degrees(math.pi)` → `180.0` |\n",
        "| `math.radians(x)` | 도(degree) → 라디안 | `math.radians(180)` → `π`         |\n",
        "| `math.factorial(n)` | 팩토리얼 (`n!`)         | `math.factorial(5)` → `120`         |\n",
        "| `math.gcd(a, b)`    | 최대공약수               | `math.gcd(20, 8)` → `4`             |\n",
        "| `math.lcm(a, b)`    | 최소공배수 (Python 3.9+) | `math.lcm(4, 6)` → `12`             |\n",
        "| `math.isfinite(x)`  | 유한한 숫자인가?           | `math.isfinite(math.inf)` → `False` |\n",
        "| `math.isinf(x)`     | 무한대인가?              | `math.isinf(math.inf)` → `True`     |\n",
        "| `math.isnan(x)`     | NaN인가?              | `math.isnan(float('nan'))` → `True` |\n"
      ],
      "metadata": {
        "id": "A9ViGV1XOa5i"
      }
    },
    {
      "cell_type": "code",
      "source": [
        "import math\n",
        "\n",
        "print(dir(math))\n",
        "print(len(dir(math)))\n",
        "print(\"원주율:\", math.pi)\n",
        "print(\"제곱근:\", math.sqrt(16))\n",
        "print(\"2의 5제곱:\", math.pow(2, 5))\n",
        "print(\"5! =\", math.factorial(5))\n",
        "print(\"cos(0):\", math.cos(0))\n",
        "print(\"180도는 라디안으로:\", math.radians(180))\n",
        "\n",
        "print('최대공약수: ',math.gcd(60, 100, 80))  # 최대공약수(gcd, greatest common divisor)\n",
        "\n",
        "print('최소공약수: ', math.lcm(15, 25)) # 최소공약수 (lcm, least common multiple)"
      ],
      "metadata": {
        "colab": {
          "base_uri": "https://localhost:8080/"
        },
        "id": "1frcm0q7OWZh",
        "outputId": "60e362e7-846a-4ea9-bb76-48bd5c20e9a7"
      },
      "execution_count": 42,
      "outputs": [
        {
          "output_type": "stream",
          "name": "stdout",
          "text": [
            "['__doc__', '__loader__', '__name__', '__package__', '__spec__', 'acos', 'acosh', 'asin', 'asinh', 'atan', 'atan2', 'atanh', 'cbrt', 'ceil', 'comb', 'copysign', 'cos', 'cosh', 'degrees', 'dist', 'e', 'erf', 'erfc', 'exp', 'exp2', 'expm1', 'fabs', 'factorial', 'floor', 'fmod', 'frexp', 'fsum', 'gamma', 'gcd', 'hypot', 'inf', 'isclose', 'isfinite', 'isinf', 'isnan', 'isqrt', 'lcm', 'ldexp', 'lgamma', 'log', 'log10', 'log1p', 'log2', 'modf', 'nan', 'nextafter', 'perm', 'pi', 'pow', 'prod', 'radians', 'remainder', 'sin', 'sinh', 'sqrt', 'tan', 'tanh', 'tau', 'trunc', 'ulp']\n",
            "65\n",
            "원주율: 3.141592653589793\n",
            "제곱근: 4.0\n",
            "2의 5제곱: 32.0\n",
            "5! = 120\n",
            "cos(0): 1.0\n",
            "180도는 라디안으로: 3.141592653589793\n",
            "최대공약수:  20\n",
            "최소공약수:  75\n"
          ]
        }
      ]
    },
    {
      "cell_type": "code",
      "source": [
        "import random\n",
        "\n",
        "print(dir(random))\n",
        "print(len(dir(random)))\n",
        "\n",
        "print(random.random())  # 0부터 1미만  [0, 1)\n",
        "print(random.randint(1, 10))  # 1부터 10까지 [1, 10] including both end points\n",
        "\n",
        "data = [10,20,30,40,50]\n",
        "print(random.choice(data))  # 무작위로 하나만 선택\n",
        "print(random.sample(data, 3)) # 무작위로 3개를 선택 , 최대 선택할 수 있는 개수는 data리스트에 저장되여 있는 요소 개수만큼"
      ],
      "metadata": {
        "colab": {
          "base_uri": "https://localhost:8080/"
        },
        "id": "4h6oZ3GkOlXZ",
        "outputId": "1d21b084-2d5f-4a19-b25f-9d629f6f433b"
      },
      "execution_count": 41,
      "outputs": [
        {
          "output_type": "stream",
          "name": "stdout",
          "text": [
            "['BPF', 'LOG4', 'NV_MAGICCONST', 'RECIP_BPF', 'Random', 'SG_MAGICCONST', 'SystemRandom', 'TWOPI', '_ONE', '_Sequence', '_Set', '__all__', '__builtins__', '__cached__', '__doc__', '__file__', '__loader__', '__name__', '__package__', '__spec__', '_accumulate', '_acos', '_bisect', '_ceil', '_cos', '_e', '_exp', '_floor', '_index', '_inst', '_isfinite', '_log', '_os', '_pi', '_random', '_repeat', '_sha512', '_sin', '_sqrt', '_test', '_test_generator', '_urandom', '_warn', 'betavariate', 'choice', 'choices', 'expovariate', 'gammavariate', 'gauss', 'getrandbits', 'getstate', 'lognormvariate', 'normalvariate', 'paretovariate', 'randbytes', 'randint', 'random', 'randrange', 'sample', 'seed', 'setstate', 'shuffle', 'triangular', 'uniform', 'vonmisesvariate', 'weibullvariate']\n",
            "66\n",
            "0.32959892351149755\n",
            "6\n",
            "30\n",
            "[20, 30, 50]\n"
          ]
        }
      ]
    },
    {
      "cell_type": "markdown",
      "source": [
        "# ✅ itertools 모듈 정리 (반복자 도구)  \n",
        "- itertools는 **효율적인 반복(iteration)**을 위한 표준 라이브러리이다.  \n",
        "- 조합, 순열, 무한 반복, 필터링 등 복잡한 루프 로직을 간단하게 구현할 수 있다.\n",
        "- 쉽게말해, 반복문을 더 똑똑하게, 더 효율적으로 쓰게 도와주는 모듈\n",
        "\n",
        "# 1) 순열과 조합  \n",
        "\n",
        "| 함수                                       | 설명                        | 예시                                                                                   |\n",
        "| ---------------------------------------- | ------------------------- | ------------------------------------------------------------------------------------ |\n",
        "| `permutations(iter, r)`                  | r개 원소로 이루어진 **순열**        | `list(permutations(\"ABC\", 2))` → `[('A','B'), ('A','C'), ...]`                       |\n",
        "| `combinations(iter, r)`                  | r개 원소로 이루어진 **조합 (중복 X)** | `list(combinations(\"ABC\", 2))` → `[('A','B'), ('A','C'), ('B','C')]`                 |\n",
        "| `combinations_with_replacement(iter, r)` | **중복 허용 조합**              | `list(combinations_with_replacement(\"AB\", 2))` → `[('A','A'), ('A','B'), ('B','B')]` |\n",
        "| `product(iter, repeat=r)`                | 데카르트 곱 / **중복 순열**        | `list(product(\"AB\", repeat=2))` → `[('A','A'), ('A','B'), ('B','A'), ('B','B')]`     |\n",
        "\n",
        "# 2) 무한 반복자\n",
        "\n",
        "| 함수                       | 설명        | 예시                              |\n",
        "| ------------------------ | --------- | ------------------------------- |\n",
        "| `count(start=0, step=1)` | 무한 숫자 발생  | `count(1, 2)` → 1, 3, 5, ...    |\n",
        "| `cycle(iterable)`        | 반복해서 순환   | `cycle(\"AB\")` → A, B, A, B, ... |\n",
        "| `repeat(elem, n)`        | 요소를 n번 반복 | `repeat(10, 3)` → 10, 10, 10    |\n",
        "\n",
        "\n",
        "# 3) 누적과 집계  \n",
        "\n",
        "| 함수                       | 설명           | 예시                                                 |\n",
        "| ------------------------ | ------------ | -------------------------------------------------- |\n",
        "| `accumulate(iter)`       | 누적 합         | `list(accumulate([1, 2, 3, 4]))` → `[1, 3, 6, 10]` |\n",
        "| `accumulate(iter, func)` | 누적 사용자 함수 적용 | `max, mul` 등 가능                                    |\n",
        "\n",
        "# 4) 필터링 / 그룹화\n",
        "\n",
        "| 함수                            | 설명                      | 예시                                                   |\n",
        "| ----------------------------- | ----------------------- | ---------------------------------------------------- |\n",
        "| `filterfalse(func, iterable)` | 조건을 **만족하지 않는 것만**      | `filterfalse(lambda x: x%2, range(5))` → `[0, 2, 4]` |\n",
        "| `dropwhile(func, iterable)`   | 조건이 **처음 True인 동안 건너뜀** | `dropwhile(lambda x: x<3, [1,2,3,4])` → `[3, 4]`     |\n",
        "| `takewhile(func, iterable)`   | 조건이 True인 동안만 가져옴       | `takewhile(lambda x: x<3, [1,2,3,4])` → `[1, 2]`     |\n",
        "| `groupby(iterable, key=func)` | 같은 값끼리 그룹핑 (정렬 필요)      | `groupby(\"AABBBCC\", key=str)`                        |\n",
        "\n",
        "# 5) 조합 도우미\n",
        "\n",
        "| 함수                                    | 설명              | 예시                                                                                        |\n",
        "| ------------------------------------- | --------------- | ----------------------------------------------------------------------------------------- |\n",
        "| `chain(a, b, c...)`                   | 여러 iterable을 연결 | `chain(\"AB\", \"CD\")` → A, B, C, D                                                          |\n",
        "| `zip_longest(a, b, fillvalue=None)`   | zip + 길이 맞추기    | `zip_longest(\"AB\", \"1234\", fillvalue='-')` → `('A','1'), ('B','2'), ('-','3'), ('-','4')` |\n",
        "| `islice(iterable, start, stop, step)` | 슬라이스와 같은 동작     | `islice(count(10), 3)` → \\[10, 11, 12]                                                    |\n",
        "\n"
      ],
      "metadata": {
        "id": "foWORutjPu-6"
      }
    },
    {
      "cell_type": "code",
      "source": [
        "import itertools\n",
        "\n",
        "print(dir(itertools))\n",
        "print(len(dir(itertools)))\n",
        "\n",
        "students = ['한민서', '황지민', '이영철', '이광수', '김승민']\n",
        "snacks = ['사탕', '초콜릿', '젤리']\n",
        "\n",
        "# zip과 zip_longest 공통점\n",
        "#  객체들을 묶어준다.\n",
        "# zip과 zip_longest 다른점\n",
        "# 1. zip은 짧은 객체만큼만 묶어준다.\n",
        "# 2. zip_longest은 긴 객체의 길이에 맞춰 묶어준다.\n",
        "#     이때, 기본은 짧은 객체에는 None으로 채워준다.\n",
        "#     fillvalue을 이용해서  짧은 객체에 채워줄 값을 지정해줄 수 있다.\n",
        "\n",
        "for i in zip(students, snacks):\n",
        "  print(i)\n",
        "\n",
        "result = itertools.zip_longest(students, snacks)\n",
        "print(result)\n",
        "print(list(result))\n",
        "\n",
        "result = itertools.zip_longest(students, snacks, fillvalue='새우깡')\n",
        "print(result)\n",
        "print(list(result))\n",
        "\n",
        "print(list(itertools.permutations([1,2,3], 2)))  # 순열(쉽게말해, 경의수)\n",
        "\n",
        "print(list(itertools.combinations([1,2,3],2))) # 조합"
      ],
      "metadata": {
        "colab": {
          "base_uri": "https://localhost:8080/"
        },
        "id": "7DpfYkrOPO9Z",
        "outputId": "1bcf7f0b-2ff3-4c4f-f889-a4e1d9557892"
      },
      "execution_count": 43,
      "outputs": [
        {
          "output_type": "stream",
          "name": "stdout",
          "text": [
            "['__doc__', '__loader__', '__name__', '__package__', '__spec__', '_grouper', '_tee', '_tee_dataobject', 'accumulate', 'chain', 'combinations', 'combinations_with_replacement', 'compress', 'count', 'cycle', 'dropwhile', 'filterfalse', 'groupby', 'islice', 'pairwise', 'permutations', 'product', 'repeat', 'starmap', 'takewhile', 'tee', 'zip_longest']\n",
            "27\n",
            "('한민서', '사탕')\n",
            "('황지민', '초콜릿')\n",
            "('이영철', '젤리')\n",
            "<itertools.zip_longest object at 0x7c580ee98ef0>\n",
            "[('한민서', '사탕'), ('황지민', '초콜릿'), ('이영철', '젤리'), ('이광수', None), ('김승민', None)]\n",
            "<itertools.zip_longest object at 0x7c580ee3af20>\n",
            "[('한민서', '사탕'), ('황지민', '초콜릿'), ('이영철', '젤리'), ('이광수', '새우깡'), ('김승민', '새우깡')]\n",
            "[(1, 2), (1, 3), (2, 1), (2, 3), (3, 1), (3, 2)]\n",
            "[(1, 2), (1, 3), (2, 3)]\n"
          ]
        }
      ]
    },
    {
      "cell_type": "code",
      "source": [
        "from itertools import count, cycle,  islice\n",
        "\n",
        "# count(start, step)는 start부터 시작하여 step만큼 증가하는 무한 이터레이터를 생성합니다.\n",
        "# islice(iterable, stop)는 iterable에서 처음부터 stop개 요소를 잘라냅니다.\n",
        "# 여기서는 count(10, 2)로 10, 12, 14, 16, ... 와 같이 무한히 증가하는 시퀀스를 만들고,\n",
        "# islice를 사용하여 앞에서 5개 요소만 가져와 리스트로 만듭니다.\n",
        "print(list(islice(count(10, 2), 5)))"
      ],
      "metadata": {
        "colab": {
          "base_uri": "https://localhost:8080/"
        },
        "id": "GsC8maVsR04y",
        "outputId": "a2fe4b04-dcd7-418f-e3c7-37d605f762f1"
      },
      "execution_count": 48,
      "outputs": [
        {
          "output_type": "stream",
          "name": "stdout",
          "text": [
            "[10, 12, 14, 16, 18]\n"
          ]
        }
      ]
    },
    {
      "cell_type": "code",
      "source": [
        "import operator\n",
        "\n",
        "print(dir(operator))\n",
        "print(len(dir(operator)))"
      ],
      "metadata": {
        "colab": {
          "base_uri": "https://localhost:8080/"
        },
        "id": "1i2pzf59SQnY",
        "outputId": "13a43b69-954f-4d83-8ea2-bdef8cf28089"
      },
      "execution_count": 46,
      "outputs": [
        {
          "output_type": "stream",
          "name": "stdout",
          "text": [
            "['__abs__', '__add__', '__all__', '__and__', '__builtins__', '__cached__', '__call__', '__concat__', '__contains__', '__delitem__', '__doc__', '__eq__', '__file__', '__floordiv__', '__ge__', '__getitem__', '__gt__', '__iadd__', '__iand__', '__iconcat__', '__ifloordiv__', '__ilshift__', '__imatmul__', '__imod__', '__imul__', '__index__', '__inv__', '__invert__', '__ior__', '__ipow__', '__irshift__', '__isub__', '__itruediv__', '__ixor__', '__le__', '__loader__', '__lshift__', '__lt__', '__matmul__', '__mod__', '__mul__', '__name__', '__ne__', '__neg__', '__not__', '__or__', '__package__', '__pos__', '__pow__', '__rshift__', '__setitem__', '__spec__', '__sub__', '__truediv__', '__xor__', '_abs', 'abs', 'add', 'and_', 'attrgetter', 'call', 'concat', 'contains', 'countOf', 'delitem', 'eq', 'floordiv', 'ge', 'getitem', 'gt', 'iadd', 'iand', 'iconcat', 'ifloordiv', 'ilshift', 'imatmul', 'imod', 'imul', 'index', 'indexOf', 'inv', 'invert', 'ior', 'ipow', 'irshift', 'is_', 'is_not', 'isub', 'itemgetter', 'itruediv', 'ixor', 'le', 'length_hint', 'lshift', 'lt', 'matmul', 'methodcaller', 'mod', 'mul', 'ne', 'neg', 'not_', 'or_', 'pos', 'pow', 'rshift', 'setitem', 'sub', 'truediv', 'truth', 'xor']\n",
            "111\n"
          ]
        }
      ]
    },
    {
      "cell_type": "code",
      "source": [
        "from itertools import accumulate  # 누적\n",
        "import operator\n",
        "\n",
        "nums = [1, 2, 3, 4]\n",
        "print(list(accumulate(nums)))  # 합계: [1, 3, 6, 10]\n",
        "print(list(accumulate(nums, operator.mul)))  # 곱셈 누적: [1, 2, 6, 24]"
      ],
      "metadata": {
        "colab": {
          "base_uri": "https://localhost:8080/"
        },
        "id": "4ZH1SPWMSm9x",
        "outputId": "ac98aaea-1128-4e09-b4b7-9654c9f54f28"
      },
      "execution_count": 47,
      "outputs": [
        {
          "output_type": "stream",
          "name": "stdout",
          "text": [
            "[1, 3, 6, 10]\n",
            "[1, 2, 6, 24]\n"
          ]
        }
      ]
    },
    {
      "cell_type": "code",
      "source": [
        "from itertools import groupby  # 같은 값끼리 그룹핑\n",
        "\n",
        "data = \"AABBBCC\"\n",
        "for key, group in groupby(data):\n",
        "    print(key, list(group))  # A ['A', 'A'], B ['B', 'B', 'B'], ..."
      ],
      "metadata": {
        "colab": {
          "base_uri": "https://localhost:8080/"
        },
        "id": "RWkEm1NOSo3o",
        "outputId": "68e03067-3f8c-4b18-a266-1e21e08459e1"
      },
      "execution_count": 49,
      "outputs": [
        {
          "output_type": "stream",
          "name": "stdout",
          "text": [
            "A ['A', 'A']\n",
            "B ['B', 'B', 'B']\n",
            "C ['C', 'C']\n"
          ]
        }
      ]
    },
    {
      "cell_type": "code",
      "source": [
        "from itertools import chain   # 여러 개의 iterable 객체를 연결하여 하나의 iterable 객체로 만듬\n",
        "\n",
        "print(list(chain(\"ABC\", \"123\")))  # ['A', 'B', 'C', '1', '2', '3']"
      ],
      "metadata": {
        "colab": {
          "base_uri": "https://localhost:8080/"
        },
        "id": "gJfFNIlpULBZ",
        "outputId": "0c8c7b5b-79f8-4f96-cff9-816eafd96348"
      },
      "execution_count": 50,
      "outputs": [
        {
          "output_type": "stream",
          "name": "stdout",
          "text": [
            "['A', 'B', 'C', '1', '2', '3']\n"
          ]
        }
      ]
    },
    {
      "cell_type": "code",
      "source": [
        "import functools\n",
        "\n",
        "print(dir(functools))\n",
        "\n",
        "data = [1,2,3,4,5]\n",
        "print(functools.reduce(lambda x, y : x+y, data))"
      ],
      "metadata": {
        "colab": {
          "base_uri": "https://localhost:8080/"
        },
        "id": "Nqu1Zc-oUOOp",
        "outputId": "1f0bd017-cad4-4627-ba79-56dbb5abb4c6"
      },
      "execution_count": 51,
      "outputs": [
        {
          "output_type": "stream",
          "name": "stdout",
          "text": [
            "['GenericAlias', 'RLock', 'WRAPPER_ASSIGNMENTS', 'WRAPPER_UPDATES', '_CacheInfo', '_HashedSeq', '_NOT_FOUND', '__all__', '__builtins__', '__cached__', '__doc__', '__file__', '__loader__', '__name__', '__package__', '__spec__', '_c3_merge', '_c3_mro', '_compose_mro', '_convert', '_find_impl', '_ge_from_gt', '_ge_from_le', '_ge_from_lt', '_gt_from_ge', '_gt_from_le', '_gt_from_lt', '_initial_missing', '_le_from_ge', '_le_from_gt', '_le_from_lt', '_lru_cache_wrapper', '_lt_from_ge', '_lt_from_gt', '_lt_from_le', '_make_key', '_unwrap_partial', 'cache', 'cached_property', 'cmp_to_key', 'get_cache_token', 'lru_cache', 'namedtuple', 'partial', 'partialmethod', 'recursive_repr', 'reduce', 'singledispatch', 'singledispatchmethod', 'total_ordering', 'update_wrapper', 'wraps']\n",
            "15\n"
          ]
        }
      ]
    },
    {
      "cell_type": "markdown",
      "metadata": {
        "id": "946e7f27"
      },
      "source": [
        "## ✅ operator 모듈이란?\n",
        "\n",
        "`operator`는 메소드나 클래스가 아니라 **모듈**입니다. 파이썬의 표준 라이브러리에 포함되어 있습니다.\n",
        "\n",
        "이 모듈은 파이썬의 `내장 연산자(+, -, \\*, /, <, >, == 등)`에 해당하는 함수들을 제공합니다. 예를 들어, `operator.add(a, b)`는 `a + b`와 같고, `operator.gt(a, b)`는 `a > b`와 같습니다.\n",
        "\n",
        "이 모듈을 사용하는 주된 이유는 다음과 같습니다:\n",
        "\n",
        "*   **함수형 프로그래밍:** `map()`, `filter()`, `reduce()`와 같은 함수형 도구와 함께 사용할 때 유용합니다. 예를 들어, 리스트의 모든 요소에 특정 연산을 적용할 때 람다 함수 대신 `operator` 모듈의 함수를 사용할 수 있습니다.\n",
        "*   **성능:** C로 구현되어 있어 파이썬 코드로 직접 연산을 수행하는 것보다 약간 더 빠를 수 있습니다. (대부분의 경우 큰 차이는 없습니다.)\n",
        "*   **코드 가독성:** 경우에 따라 특정 연산의 의도를 더 명확하게 보여줄 수 있습니다.\n",
        "\n",
        "✅간단히 말해, `operator` 모듈은 파이썬의 연산자를 함수 형태로 제공하여 특정 상황에서 코드를 더 간결하고 효율적으로 작성할 수 있도록 돕는 역할을 합니다."
      ]
    },
    {
      "cell_type": "markdown",
      "source": [
        "# operator.itemgetterr와 operator.attrgetter 주로 sorted()와 같은 함수의 key 매개변수에 적용하여 다양한 기준으로 정렬할 수 있도록 도와주는 모듈이다.\n",
        "- operator.itemgetter은 리스트의 요소가 튜플일때 사용\n",
        "- operator.attrgetter 리스트의 요소가 튜플이 아닌 Student 클래스의 객체일때 사용\n",
        "\n",
        "1.   항목 추가\n",
        "2.   항목 추가\n",
        "\n"
      ],
      "metadata": {
        "id": "1DXihhgBTwDp"
      }
    },
    {
      "cell_type": "code",
      "source": [
        "# operator.itemgetter은 리스트의 요소가 튜플일때 사용\n",
        "\n",
        "from operator import itemgetter\n",
        "\n",
        "print(dir(itemgetter))\n",
        "print(len(dir(itemgetter)))\n",
        "\n",
        "students =[('jane', 22, 'A'), ('dave', 32, 'C'), ('sally', 17, 'B')]\n",
        "result = sorted(students)  # 2번째 자리에  key속성을 지정하지 않으면 앞에 값으로 정렬이 된다.\n",
        "print(result)\n",
        "\n",
        "result = sorted(students, key=itemgetter(0)) # 이름을 기준으로 오름차순 정렬\n",
        "print(result)\n",
        "\n",
        "result = sorted(students, key=itemgetter(1)) # 나이을 기준으로 오름차순 정렬\n",
        "print(result)\n",
        "\n",
        "result = sorted(students, key=itemgetter(2)) # 등급을 기준으로 오름차순 정렬\n",
        "print(result)\n",
        "\n",
        "\n",
        "# reverse=False  : default value\n",
        "result = sorted(students, key=itemgetter(0), reverse=True) # 이름을 기준으로 내림차순 정렬\n",
        "print(result)\n",
        "\n",
        "result = sorted(students, key=itemgetter(1), reverse=True) # 나이을 기준으로 내림차순 정렬\n",
        "print(result)\n",
        "\n",
        "result = sorted(students, key=itemgetter(2), reverse=True) # 등급을 기준으로 내림차순 정렬\n",
        "print(result)"
      ],
      "metadata": {
        "colab": {
          "base_uri": "https://localhost:8080/"
        },
        "id": "KDk74pP1UhaQ",
        "outputId": "b1803aba-86e1-4bca-8b8a-71a31fa527fb"
      },
      "execution_count": 52,
      "outputs": [
        {
          "output_type": "stream",
          "name": "stdout",
          "text": [
            "['__call__', '__class__', '__delattr__', '__dir__', '__doc__', '__eq__', '__format__', '__ge__', '__getattribute__', '__getstate__', '__gt__', '__hash__', '__init__', '__init_subclass__', '__le__', '__lt__', '__module__', '__ne__', '__new__', '__reduce__', '__reduce_ex__', '__repr__', '__setattr__', '__sizeof__', '__str__', '__subclasshook__', '__vectorcalloffset__']\n",
            "27\n",
            "[('dave', 32, 'C'), ('jane', 22, 'A'), ('sally', 17, 'B')]\n",
            "[('dave', 32, 'C'), ('jane', 22, 'A'), ('sally', 17, 'B')]\n",
            "[('sally', 17, 'B'), ('jane', 22, 'A'), ('dave', 32, 'C')]\n",
            "[('jane', 22, 'A'), ('sally', 17, 'B'), ('dave', 32, 'C')]\n",
            "[('sally', 17, 'B'), ('jane', 22, 'A'), ('dave', 32, 'C')]\n",
            "[('dave', 32, 'C'), ('jane', 22, 'A'), ('sally', 17, 'B')]\n",
            "[('dave', 32, 'C'), ('sally', 17, 'B'), ('jane', 22, 'A')]\n"
          ]
        }
      ]
    },
    {
      "cell_type": "code",
      "source": [
        "class Student:\n",
        "    def __init__(self, name, age, grade):\n",
        "      self.name = name\n",
        "      self.age = age\n",
        "      self.grade = grade    # 예: 'A', 'B', 'C'\n",
        "\n",
        "    def __repr__(self):     # 리스트에 포함된 객체를 출력할 때 실행\n",
        "      return f'Student(name={self.name}, age={self.age}, grade={self.grade})'\n",
        "\n",
        "data = [('jane', 22, 'A'), ('dave', 32, 'C'), ('sally', 17, 'B')]\n",
        "students = [Student(name, age, grade) for name, age, grade in data]\n",
        "#print(students)\n"
      ],
      "metadata": {
        "id": "ubpLKxEFbFAy"
      },
      "execution_count": 53,
      "outputs": []
    },
    {
      "cell_type": "code",
      "source": [
        "\n",
        "# operator.attrgetter 리스트의 요소가 튜플이 아닌 Student 클래스의 객체일때 사용\n",
        "from operator import attrgetter\n",
        "\n",
        "# 나이(age) 기준 오름차순 정렬\n",
        "sorted_by_age = sorted(students, key=attrgetter('age'))\n",
        "\n",
        "# 학점(grade) 기준 정렬\n",
        "sorted_by_grade = sorted(students, key=attrgetter('grade'))\n",
        "\n",
        "# 복합 정렬: 학점, 나이\n",
        "sorted_by_grade_age = sorted(students, key=attrgetter('grade', 'age'))\n",
        "\n",
        "# 결과 출력\n",
        "print(\"나이 기준 정렬:\", sorted_by_age)\n",
        "print(\"학점 기준 정렬:\", sorted_by_grade)\n",
        "print(\"학점 + 나이 기준 정렬:\", sorted_by_grade_age)"
      ],
      "metadata": {
        "colab": {
          "base_uri": "https://localhost:8080/"
        },
        "id": "ssGBbvuBcJdS",
        "outputId": "370359be-fc53-4570-ae6d-0ac51db563b1"
      },
      "execution_count": 54,
      "outputs": [
        {
          "output_type": "stream",
          "name": "stdout",
          "text": [
            "나이 기준 정렬: [Student(name=sally, age=17, grade=B), Student(name=jane, age=22, grade=A), Student(name=dave, age=32, grade=C)]\n",
            "학점 기준 정렬: [Student(name=jane, age=22, grade=A), Student(name=sally, age=17, grade=B), Student(name=dave, age=32, grade=C)]\n",
            "학점 + 나이 기준 정렬: [Student(name=jane, age=22, grade=A), Student(name=sally, age=17, grade=B), Student(name=dave, age=32, grade=C)]\n"
          ]
        }
      ]
    },
    {
      "cell_type": "markdown",
      "source": [
        "# shutil 모듈?\n",
        "- 파일 및 디렉터리 작업을 복사, 이동, 삭제, 디렉토리 생성, 압축/해제 등 파일 시스템 작업에 사용되는 모듈이다.  \n",
        "\n",
        "| 함수                          | 설명                     | 예시                                      |\n",
        "| --------------------------- | ---------------------- | --------------------------------------- |\n",
        "| `shutil.copy(src, dst)`     | 파일 복사 (내용만)            | `shutil.copy('a.txt', 'backup/a.txt')`  |\n",
        "| `shutil.copy2(src, dst)`    | 파일 복사 + 메타데이터(시간 등) 유지 |                                         |\n",
        "| `shutil.copyfile(src, dst)` | 이름 무관하게 파일 내용만 복사      |                                         |\n",
        "| `shutil.copytree(src, dst)` | 폴더 전체 복사 (재귀적)         | `shutil.copytree('src_dir', 'dst_dir')` |\n",
        "| `shutil.move(src, dst)` | 이동 또는 이름 변경 | `shutil.move('a.txt', 'docs/a.txt')` |\n",
        "| `shutil.rmtree(path)` | 디렉토리 전체 삭제 (하위 포함) | `shutil.rmtree('old_backup')` |\n",
        "| `shutil.make_archive(base_name, format, root_dir)` | 디렉토리를 압축 (zip, tar 등 지원) | `shutil.make_archive('backup', 'zip', 'my_folder')` |\n",
        "| `shutil.unpack_archive(filename, extract_dir)`     | 압축 해제                    | `shutil.unpack_archive('backup.zip', 'restored')`   |\n",
        "\n",
        "\n",
        "#<디스크 정보 확인>  \n",
        "total, used, free = shutil.disk_usage(\"/\")  \n",
        "print(\"전체 용량:\", total // (1024**3), \"GB\")  \n",
        "print(\"사용 중:\", used // (1024**3), \"GB\")  \n",
        "print(\"남은 공간:\", free // (1024**3), \"GB\")  "
      ],
      "metadata": {
        "id": "Bb7u4YjJdXYa"
      }
    },
    {
      "cell_type": "code",
      "source": [
        "import shutil\n",
        "import os\n",
        "\n",
        "# 1. 파일 복사\n",
        "shutil.copy(\"example.txt\", \"backup/example.txt\")\n",
        "\n",
        "# 2. 디렉토리 복사\n",
        "shutil.copytree(\"data\", \"backup/data_copy\")\n",
        "\n",
        "# 3. 파일 이동\n",
        "shutil.move(\"old/report.pdf\", \"archive/2025/report.pdf\")\n",
        "\n",
        "# 4. 디렉토리 삭제\n",
        "shutil.rmtree(\"temp_folder\")\n",
        "\n",
        "# 5. 압축\n",
        "shutil.make_archive(\"archive_backup\", \"zip\", \"project_folder\")\n",
        "\n",
        "# 6. 압축 해제\n",
        "shutil.unpack_archive(\"archive_backup.zip\", \"unpacked_project\")\n",
        "\n",
        "#  에러 (수업용으로 만들어서 발생됨)\n",
        "# 원본 파일인 \"example.txt\"를 현재 실행 환경의 파일 시스템에서 찾을 수 없기 때문입니다.\n",
        "#실행되게 하려면 old/report.pdf\", \"archive/2025/report.pdf 등 파일 만들어서하면 됨 ㅋㅋ"
      ],
      "metadata": {
        "colab": {
          "base_uri": "https://localhost:8080/",
          "height": 370
        },
        "id": "KCBiddiqdle5",
        "outputId": "a9d97ddb-7fed-46c5-8fc2-c90f92693381"
      },
      "execution_count": 60,
      "outputs": [
        {
          "output_type": "error",
          "ename": "FileNotFoundError",
          "evalue": "[Errno 2] No such file or directory: 'example.txt'",
          "traceback": [
            "\u001b[0;31m---------------------------------------------------------------------------\u001b[0m",
            "\u001b[0;31mFileNotFoundError\u001b[0m                         Traceback (most recent call last)",
            "\u001b[0;32m/tmp/ipython-input-60-1304020638.py\u001b[0m in \u001b[0;36m<cell line: 0>\u001b[0;34m()\u001b[0m\n\u001b[1;32m      3\u001b[0m \u001b[0;34m\u001b[0m\u001b[0m\n\u001b[1;32m      4\u001b[0m \u001b[0;31m# 1. 파일 복사\u001b[0m\u001b[0;34m\u001b[0m\u001b[0;34m\u001b[0m\u001b[0m\n\u001b[0;32m----> 5\u001b[0;31m \u001b[0mshutil\u001b[0m\u001b[0;34m.\u001b[0m\u001b[0mcopy\u001b[0m\u001b[0;34m(\u001b[0m\u001b[0;34m\"example.txt\"\u001b[0m\u001b[0;34m,\u001b[0m \u001b[0;34m\"backup/example.txt\"\u001b[0m\u001b[0;34m)\u001b[0m\u001b[0;34m\u001b[0m\u001b[0;34m\u001b[0m\u001b[0m\n\u001b[0m\u001b[1;32m      6\u001b[0m \u001b[0;34m\u001b[0m\u001b[0m\n\u001b[1;32m      7\u001b[0m \u001b[0;31m# 2. 디렉토리 복사\u001b[0m\u001b[0;34m\u001b[0m\u001b[0;34m\u001b[0m\u001b[0m\n",
            "\u001b[0;32m/usr/lib/python3.11/shutil.py\u001b[0m in \u001b[0;36mcopy\u001b[0;34m(src, dst, follow_symlinks)\u001b[0m\n\u001b[1;32m    429\u001b[0m     \u001b[0;32mif\u001b[0m \u001b[0mos\u001b[0m\u001b[0;34m.\u001b[0m\u001b[0mpath\u001b[0m\u001b[0;34m.\u001b[0m\u001b[0misdir\u001b[0m\u001b[0;34m(\u001b[0m\u001b[0mdst\u001b[0m\u001b[0;34m)\u001b[0m\u001b[0;34m:\u001b[0m\u001b[0;34m\u001b[0m\u001b[0;34m\u001b[0m\u001b[0m\n\u001b[1;32m    430\u001b[0m         \u001b[0mdst\u001b[0m \u001b[0;34m=\u001b[0m \u001b[0mos\u001b[0m\u001b[0;34m.\u001b[0m\u001b[0mpath\u001b[0m\u001b[0;34m.\u001b[0m\u001b[0mjoin\u001b[0m\u001b[0;34m(\u001b[0m\u001b[0mdst\u001b[0m\u001b[0;34m,\u001b[0m \u001b[0mos\u001b[0m\u001b[0;34m.\u001b[0m\u001b[0mpath\u001b[0m\u001b[0;34m.\u001b[0m\u001b[0mbasename\u001b[0m\u001b[0;34m(\u001b[0m\u001b[0msrc\u001b[0m\u001b[0;34m)\u001b[0m\u001b[0;34m)\u001b[0m\u001b[0;34m\u001b[0m\u001b[0;34m\u001b[0m\u001b[0m\n\u001b[0;32m--> 431\u001b[0;31m     \u001b[0mcopyfile\u001b[0m\u001b[0;34m(\u001b[0m\u001b[0msrc\u001b[0m\u001b[0;34m,\u001b[0m \u001b[0mdst\u001b[0m\u001b[0;34m,\u001b[0m \u001b[0mfollow_symlinks\u001b[0m\u001b[0;34m=\u001b[0m\u001b[0mfollow_symlinks\u001b[0m\u001b[0;34m)\u001b[0m\u001b[0;34m\u001b[0m\u001b[0;34m\u001b[0m\u001b[0m\n\u001b[0m\u001b[1;32m    432\u001b[0m     \u001b[0mcopymode\u001b[0m\u001b[0;34m(\u001b[0m\u001b[0msrc\u001b[0m\u001b[0;34m,\u001b[0m \u001b[0mdst\u001b[0m\u001b[0;34m,\u001b[0m \u001b[0mfollow_symlinks\u001b[0m\u001b[0;34m=\u001b[0m\u001b[0mfollow_symlinks\u001b[0m\u001b[0;34m)\u001b[0m\u001b[0;34m\u001b[0m\u001b[0;34m\u001b[0m\u001b[0m\n\u001b[1;32m    433\u001b[0m     \u001b[0;32mreturn\u001b[0m \u001b[0mdst\u001b[0m\u001b[0;34m\u001b[0m\u001b[0;34m\u001b[0m\u001b[0m\n",
            "\u001b[0;32m/usr/lib/python3.11/shutil.py\u001b[0m in \u001b[0;36mcopyfile\u001b[0;34m(src, dst, follow_symlinks)\u001b[0m\n\u001b[1;32m    254\u001b[0m         \u001b[0mos\u001b[0m\u001b[0;34m.\u001b[0m\u001b[0msymlink\u001b[0m\u001b[0;34m(\u001b[0m\u001b[0mos\u001b[0m\u001b[0;34m.\u001b[0m\u001b[0mreadlink\u001b[0m\u001b[0;34m(\u001b[0m\u001b[0msrc\u001b[0m\u001b[0;34m)\u001b[0m\u001b[0;34m,\u001b[0m \u001b[0mdst\u001b[0m\u001b[0;34m)\u001b[0m\u001b[0;34m\u001b[0m\u001b[0;34m\u001b[0m\u001b[0m\n\u001b[1;32m    255\u001b[0m     \u001b[0;32melse\u001b[0m\u001b[0;34m:\u001b[0m\u001b[0;34m\u001b[0m\u001b[0;34m\u001b[0m\u001b[0m\n\u001b[0;32m--> 256\u001b[0;31m         \u001b[0;32mwith\u001b[0m \u001b[0mopen\u001b[0m\u001b[0;34m(\u001b[0m\u001b[0msrc\u001b[0m\u001b[0;34m,\u001b[0m \u001b[0;34m'rb'\u001b[0m\u001b[0;34m)\u001b[0m \u001b[0;32mas\u001b[0m \u001b[0mfsrc\u001b[0m\u001b[0;34m:\u001b[0m\u001b[0;34m\u001b[0m\u001b[0;34m\u001b[0m\u001b[0m\n\u001b[0m\u001b[1;32m    257\u001b[0m             \u001b[0;32mtry\u001b[0m\u001b[0;34m:\u001b[0m\u001b[0;34m\u001b[0m\u001b[0;34m\u001b[0m\u001b[0m\n\u001b[1;32m    258\u001b[0m                 \u001b[0;32mwith\u001b[0m \u001b[0mopen\u001b[0m\u001b[0;34m(\u001b[0m\u001b[0mdst\u001b[0m\u001b[0;34m,\u001b[0m \u001b[0;34m'wb'\u001b[0m\u001b[0;34m)\u001b[0m \u001b[0;32mas\u001b[0m \u001b[0mfdst\u001b[0m\u001b[0;34m:\u001b[0m\u001b[0;34m\u001b[0m\u001b[0;34m\u001b[0m\u001b[0m\n",
            "\u001b[0;31mFileNotFoundError\u001b[0m: [Errno 2] No such file or directory: 'example.txt'"
          ]
        }
      ]
    },
    {
      "cell_type": "code",
      "source": [
        "import shutil\n",
        "total, used, free = shutil.disk_usage(\"/\")\n",
        "print(\"전체 용량:\", total // (10243), \"GB\")\n",
        "print(\"사용 중:\", used // (10243), \"GB\")\n",
        "print(\"남은 공간:\", free // (1024**3), \"GB\")\n"
      ],
      "metadata": {
        "colab": {
          "base_uri": "https://localhost:8080/"
        },
        "id": "hrDWpa-4duFB",
        "outputId": "ab555936-34a2-4838-85a1-3d287e1cd771"
      },
      "execution_count": 59,
      "outputs": [
        {
          "output_type": "stream",
          "name": "stdout",
          "text": [
            "전체 용량: 11291437 GB\n",
            "사용 중: 3966223 GB\n",
            "남은 공간: 69 GB\n"
          ]
        }
      ]
    },
    {
      "cell_type": "code",
      "source": [
        "!pwd\n",
        "# \"print working directory\"의 줄임말로, 쉘 명령어입니다.\n",
        "# Colab 노트북에서는 현재 작업 중인 디렉토리의 위치를 보여줍니다.\n",
        "# 파일을 다룰 때 파일이 어디에 있는지 확인하는 데 유용합니다."
      ],
      "metadata": {
        "colab": {
          "base_uri": "https://localhost:8080/"
        },
        "id": "wnIKGzefd1wI",
        "outputId": "bef73728-0730-4091-cf9e-2c5b59530e3d"
      },
      "execution_count": 63,
      "outputs": [
        {
          "output_type": "stream",
          "name": "stdout",
          "text": [
            "/content/drive/MyDrive/2025AI\n"
          ]
        }
      ]
    },
    {
      "cell_type": "code",
      "source": [
        "import glob\n",
        "\n",
        "# 현재 디렉토리의 모든 .txt 파일\n",
        "txt_files = glob.glob(\"source/*.txt\")\n",
        "print(txt_files)"
      ],
      "metadata": {
        "colab": {
          "base_uri": "https://localhost:8080/"
        },
        "id": "G6pdWhVVe0dR",
        "outputId": "6fb330fc-8777-428b-c966-abf63ef15c64"
      },
      "execution_count": 62,
      "outputs": [
        {
          "output_type": "stream",
          "name": "stdout",
          "text": [
            "['source/num.txt', 'source/jumsu.txt', 'source/sample.txt', 'source/test.txt']\n"
          ]
        }
      ]
    },
    {
      "cell_type": "markdown",
      "source": [
        "\n",
        "# ~.py파일이란?\n",
        "- 스크립트(Script)라는 단어 자체는 '대본'이나 '각본'이라는 뜻처럼, 미리 정해진 순서대로 실행되는 명령어들의 모음을 의미합니다. 컴퓨터 프로그래밍에서는 사용자가 직접 작성하여 순차적으로 실행시키기 위한 코드 파일들을 스크립트 파일이라고 부릅니다.\n",
        "\n",
        "\n",
        "- 예를 들어, hello.py라는 파일을 만들고 그 안에 print(\"Hello, Python Script!\") 라는 코드 한 줄을 작성했다면, 이 파일이 파이썬 스크립트 파일이고, 이를 실행하면 화면에 \"Hello, Python Script!\"가 출력됩니다."
      ],
      "metadata": {
        "id": "XVTlOGP9iPfy"
      }
    },
    {
      "cell_type": "code",
      "source": [
        "import glob\n",
        "\n",
        "# 모든 .py 파일을 재귀적으로 찾기\n",
        "# 하위 디렉토리까지 검색 (recursive=True)\n",
        "\n",
        "# 코드에서 **/*.py라고 할 때 .py는 파이썬 소스 코드 파일의 표준 확장자입니다.\n",
        "# 즉, 이 코드는 현재 디렉토리(**)와 그 하위 모든 디렉토리(recursive=True)에서 이름이 무엇이든 상관없이 확장자가 .py인 모든 파일을 찾으라는 의미입니다.\n",
        "\n",
        "py_files = glob.glob(\"**/*.py\", recursive=True)\n",
        "print(py_files)"
      ],
      "metadata": {
        "colab": {
          "base_uri": "https://localhost:8080/"
        },
        "id": "PqrfKNAXfEgg",
        "outputId": "ac6380ea-39ff-4b05-a8df-9b54f0d9ebb6"
      },
      "execution_count": 64,
      "outputs": [
        {
          "output_type": "stream",
          "name": "stdout",
          "text": [
            "['source/gosu.py']\n"
          ]
        }
      ]
    },
    {
      "cell_type": "code",
      "source": [
        "\n",
        "# 현재 디렉토리 안의 모든 디렉토리\n",
        "folders = glob.glob(\"*/\")\n",
        "print(folders)"
      ],
      "metadata": {
        "colab": {
          "base_uri": "https://localhost:8080/"
        },
        "id": "rwODdeXTfV9B",
        "outputId": "db688249-fe02-4fca-cc6b-8b8b2efea40a"
      },
      "execution_count": 66,
      "outputs": [
        {
          "output_type": "stream",
          "name": "stdout",
          "text": [
            "['source/']\n"
          ]
        }
      ]
    },
    {
      "cell_type": "code",
      "source": [
        "import glob\n",
        "\n",
        "# 현재 폴더의 모든 파일\n",
        "all_files = glob.glob(\"*\")\n",
        "\n",
        "# logs 폴더의 모든 .log 파일\n",
        "log_files = glob.glob(\"logs/*.log\")\n",
        "\n",
        "# source 폴더 및 하위 폴더의 .py 파일\n",
        "py_files = glob.glob(\"source/**/*.py\", recursive=True)\n",
        "\n",
        "# 숫자로 된 이름의 텍스트 파일 (예: 1.txt, 2.txt)\n",
        "num_files = glob.glob(\"[0-9].txt\")\n",
        "\n",
        "print(\"모든 파일:\", all_files)\n",
        "print(\"로그 파일:\", log_files)\n",
        "print(\"파이썬 파일:\", py_files)\n",
        "print(\"숫자 파일:\", num_files)"
      ],
      "metadata": {
        "colab": {
          "base_uri": "https://localhost:8080/"
        },
        "id": "aUEps36UfrLw",
        "outputId": "880dfa50-00d6-449a-caf5-a13298ada7d4"
      },
      "execution_count": 67,
      "outputs": [
        {
          "output_type": "stream",
          "name": "stdout",
          "text": [
            "모든 파일: ['101_python_제어문_문제.ipynb', '100_python_자료형_풀이.ipynb', '100_python_자료형_문제 .ipynb', '101_python_제어문.ipynb', 'first01.ipynb', '103_Python. 함수형 프로그래밍.ipynb', '103_python_함수형 프로그래밍.ipynb', 'source', '104_python_파일입출력.ipynb', '105_python_객체지향_문제.ipynb', '105_Python_객체지향.ipynb', '102_python_함수_풀이.ipynb', '102_python_함수_문제.ipynb', '103_python_함수형 프로그래밍_풀이.ipynb', '103_python_함수형 프로그래밍_문제.ipynb', '106_Pythone_예외처리.ipynb', '102_python_함수.ipynb', '107_Python_내장함수 및 표준 라이브러리.ipynb']\n",
            "로그 파일: []\n",
            "파이썬 파일: ['source/gosu.py']\n",
            "숫자 파일: []\n"
          ]
        }
      ]
    },
    {
      "cell_type": "markdown",
      "source": [
        "# os 모듈은 운영체제 기능을 Python에서 사용할 수 있게 해주는 표준 라이브러리이다.\n",
        "# 파일/디렉토리 관리, 환경변수 접근, 경로 처리 등 거의 모든 로우레벨 시스템 작업을 할 수 있다.\n",
        "\n",
        "1. 현재 디렉토리 관련  \n",
        "\n",
        "| 함수                    | 설명              | 예시                             |\n",
        "| --------------------- | --------------- | ------------------------------ |\n",
        "| `os.getcwd()`         | 현재 작업 디렉토리 가져오기 | `os.getcwd()` → `/Users/name/` |\n",
        "| `os.chdir(path)`      | 작업 디렉토리 변경      | `os.chdir(\"C:/data\")`          |\n",
        "| `os.listdir(path)`    | 디렉토리 내 파일/폴더 목록 | `os.listdir('.')`              |\n",
        "| `os.mkdir(path)`      | 디렉토리 생성 (1단계만)  | `os.mkdir(\"new_folder\")`       |\n",
        "| `os.makedirs(path)`   | 중첩 디렉토리 생성      | `os.makedirs(\"a/b/c\")`         |\n",
        "| `os.rmdir(path)`      | 빈 디렉토리 삭제       | `os.rmdir(\"empty_folder\")`     |\n",
        "| `os.removedirs(path)` | 중첩 빈 디렉토리 삭제    | `os.removedirs(\"a/b/c\")`       |\n",
        "\n",
        "2. 파일 관리  \n",
        "\n",
        "| 함수                     | 설명          | 예시                            |\n",
        "| ---------------------- | ----------- | ----------------------------- |\n",
        "| `os.remove(path)`      | 파일 삭제       | `os.remove(\"file.txt\")`       |\n",
        "| `os.rename(src, dst)`  | 이름 변경 or 이동 | `os.rename(\"a.txt\", \"b.txt\")` |\n",
        "| `os.path.exists(path)` | 경로 존재 여부    | `os.path.exists(\"file.txt\")`  |\n",
        "| `os.path.isfile(path)` | 파일인가?       | `os.path.isfile(\"a.txt\")`     |\n",
        "| `os.path.isdir(path)`  | 디렉토리인가?     | `os.path.isdir(\"folder\")`     |\n",
        "\n",
        "\n",
        "3. 경로(path) 처리  \n",
        "\n",
        "| 함수                        | 설명             | 예시                                      |\n",
        "| ------------------------- | -------------- | --------------------------------------- |\n",
        "| `os.path.join(a, b, ...)` | 경로 결합 (OS에 맞게) | `os.path.join(\"a\", \"b\")` → `a/b`        |\n",
        "| `os.path.abspath(path)`   | 절대경로로 변환       | `os.path.abspath(\"file.txt\")`           |\n",
        "| `os.path.basename(path)`  | 파일명만 추출        | `basename(\"a/b/c.txt\")` → `c.txt`       |\n",
        "| `os.path.dirname(path)`   | 폴더 경로 추출       | `dirname(\"a/b/c.txt\")` → `a/b`          |\n",
        "| `os.path.splitext(path)`  | 확장자 분리         | `splitext(\"test.py\")` → (`test`, `.py`) |\n",
        "\n",
        "\n",
        "\n",
        "4. 환경 변수  \n",
        "\n",
        "| 함수                 | 설명           | 예시                   |\n",
        "| ------------------ | ------------ | -------------------- |\n",
        "| `os.environ`       | 모든 환경변수 dict | `os.environ[\"HOME\"]` |\n",
        "| `os.getenv(\"KEY\")` | 특정 환경변수 조회   | `os.getenv(\"PATH\")`  |\n",
        "\n",
        "\n",
        "5. 실행 관련  \n",
        "\n",
        "| 함수                   | 설명                      | 예시                                      |\n",
        "| -------------------- | ----------------------- | --------------------------------------- |\n",
        "| `os.system(cmd)`     | 셸 명령어 실행                | `os.system(\"dir\")` or `os.system(\"ls\")` |\n",
        "| `os.startfile(path)` | 파일/프로그램 실행 (Windows 전용) | `os.startfile(\"file.txt\")`              |\n",
        "| `os.exit()`          | 스크립트 종료                 | `os._exit(0)`                           |\n"
      ],
      "metadata": {
        "id": "jc8Ctq7ah3vC"
      }
    },
    {
      "cell_type": "code",
      "source": [
        "import os\n",
        "\n",
        "print(\"현재 디렉토리:\", os.getcwd())\n",
        "print(\"파일 목록:\", os.listdir())\n",
        "\n",
        "# 디렉토리 생성\n",
        "if not os.path.exists(\"my_folder\"):\n",
        "    os.mkdir(\"my_folder\")\n",
        "\n",
        "# 파일 존재 여부\n",
        "if os.path.isfile(\"test.txt\"):\n",
        "    os.rename(\"test.txt\", \"backup.txt\")\n",
        "\n",
        "# 경로 조작\n",
        "path = os.path.join(\"my_folder\", \"data.txt\")\n",
        "print(\"전체 경로:\", os.path.abspath(path))\n",
        "print(\"파일명:\", os.path.basename(path))\n"
      ],
      "metadata": {
        "colab": {
          "base_uri": "https://localhost:8080/"
        },
        "id": "-gsT468_guoZ",
        "outputId": "637d01f1-360a-4fc7-d84c-403406c254da"
      },
      "execution_count": 68,
      "outputs": [
        {
          "output_type": "stream",
          "name": "stdout",
          "text": [
            "현재 디렉토리: /content/drive/MyDrive/2025AI\n",
            "파일 목록: ['101_python_제어문_문제.ipynb', '100_python_자료형_풀이.ipynb', '100_python_자료형_문제 .ipynb', '101_python_제어문.ipynb', 'first01.ipynb', '103_Python. 함수형 프로그래밍.ipynb', '103_python_함수형 프로그래밍.ipynb', 'source', '104_python_파일입출력.ipynb', '105_python_객체지향_문제.ipynb', '105_Python_객체지향.ipynb', '102_python_함수_풀이.ipynb', '102_python_함수_문제.ipynb', '103_python_함수형 프로그래밍_풀이.ipynb', '103_python_함수형 프로그래밍_문제.ipynb', '106_Pythone_예외처리.ipynb', '102_python_함수.ipynb', '107_Python_내장함수 및 표준 라이브러리.ipynb']\n",
            "전체 경로: /content/drive/MyDrive/2025AI/my_folder/data.txt\n",
            "파일명: data.txt\n"
          ]
        }
      ]
    },
    {
      "cell_type": "markdown",
      "source": [
        "# ✅ os vs shutil 차이  ?\n",
        "\n",
        "| 항목            | `os` | `shutil` |\n",
        "| ------------- | ---- | -------- |\n",
        "| 파일/디렉토리 존재 확인 | O    | X        |\n",
        "| 파일 복사/이동/압축   | X     | 0        |\n",
        "| 경로 처리         | O     | X         |\n",
        "| 환경변수          | O     | X         |\n",
        "\n",
        "\n",
        "# ✅ glob.glob() 과 os.listdir() 차이점  ?\n",
        "\n",
        "| 항목    | `glob.glob()`               | `os.listdir()` |\n",
        "| ----- | --------------------------- | -------------- |\n",
        "| 패턴 지원 | O (`*.txt`, `a?.py`)        | X              |\n",
        "| 재귀 검색 | 가능 (`**`, `recursive=True`) | X              |\n",
        "| 반환 형식 | 전체 경로 포함 가능                 | 파일/디렉터리 이름만 반환 |\n",
        "| 필터링   | 내장 지원                       | 수동으로 필터링해야 함   |\n",
        "\n"
      ],
      "metadata": {
        "id": "ANYrf7c5iyLq"
      }
    },
    {
      "cell_type": "code",
      "source": [
        "# 특정 폴더에서 조건에 맞는 파일 필터링\n",
        "import os\n",
        "import glob\n",
        "\n",
        "# 1. 검색할 폴더 설정\n",
        "target_dir = \"./source\"\n",
        "\n",
        "# 2. 폴더 내 모든 .txt 파일 검색 (하위 폴더 포함)\n",
        "pattern = os.path.join(target_dir, \"**\", \"*.txt\")  #(기준폴도, 하위디렉토리까지 재귀탐색, .txt확장자 파일만 찾기)\n",
        "txt_files = glob.glob(pattern, recursive=True)\n",
        "print(txt_files)\n",
        "\n",
        "# 3. 필터링 조건: 1KB 이상\n",
        "filtered_files = []\n",
        "for file_path in txt_files:\n",
        "    if os.path.isfile(file_path) and os.path.getsize(file_path) >= 10: # 큰 파일이 없엇 사이즈 10으로 일단 축소\n",
        "        filtered_files.append(file_path)\n",
        "\n",
        "# 4. 결과 출력\n",
        "print(\"조건에 맞는 파일:\")\n",
        "for f in filtered_files:\n",
        "    size_kb = os.path.getsize(f) // 10\n",
        "    print(f\"  - {f} ({size_kb}KB)\")\n"
      ],
      "metadata": {
        "colab": {
          "base_uri": "https://localhost:8080/"
        },
        "id": "Pq_M3gOUi1-w",
        "outputId": "6519caf5-c2b2-4467-fb3d-8ba299adc1e4"
      },
      "execution_count": 72,
      "outputs": [
        {
          "output_type": "stream",
          "name": "stdout",
          "text": [
            "['./source/num.txt', './source/jumsu.txt', './source/sample.txt', './source/test.txt']\n",
            "조건에 맞는 파일:\n",
            "  - ./source/num.txt (3KB)\n",
            "  - ./source/jumsu.txt (1KB)\n",
            "  - ./source/sample.txt (1KB)\n",
            "  - ./source/test.txt (1KB)\n"
          ]
        }
      ]
    },
    {
      "cell_type": "code",
      "source": [
        "# 조건에 맞는 파일만 다른 폴더로 복사 (shutil 추가)\n",
        "import shutil\n",
        "\n",
        "output_dir = \"./filtered_txt\"\n",
        "\n",
        "# 출력 디렉토리가 없으면 생성\n",
        "if not os.path.exists(output_dir):\n",
        "    os.makedirs(output_dir)\n",
        "\n",
        "# 파일 복사\n",
        "for file_path in filtered_files:\n",
        "    filename = os.path.basename(file_path)\n",
        "    shutil.copy(file_path, os.path.join(output_dir, filename))\n",
        "\n",
        "print(f\"{len(filtered_files)}개 파일이 '{output_dir}'로 복사되었습니다.\")\n"
      ],
      "metadata": {
        "colab": {
          "base_uri": "https://localhost:8080/"
        },
        "id": "BSq7cw_Qi7kJ",
        "outputId": "fcc10cff-da62-439a-880c-4d07712f4331"
      },
      "execution_count": 73,
      "outputs": [
        {
          "output_type": "stream",
          "name": "stdout",
          "text": [
            "4개 파일이 './filtered_txt'로 복사되었습니다.\n"
          ]
        }
      ]
    },
    {
      "cell_type": "code",
      "source": [
        "!pwd"
      ],
      "metadata": {
        "colab": {
          "base_uri": "https://localhost:8080/"
        },
        "id": "CyvF0_XTnM3R",
        "outputId": "d264fe1c-c4b4-4053-a536-f35b976050f0"
      },
      "execution_count": 74,
      "outputs": [
        {
          "output_type": "stream",
          "name": "stdout",
          "text": [
            "/content/drive/MyDrive/2025AI\n"
          ]
        }
      ]
    },
    {
      "cell_type": "markdown",
      "source": [
        "# Python의 pickle 모듈\n",
        "- 객체를 그대로 파일로 저장하거나 다시 불러오는 데 사용하는 모듈이다.\n",
        "\n",
        "| 작업           | 함수                       |\n",
        "| ------------ | ------------------------ |\n",
        "| 객체 → 파일 저장   | `pickle.dump(obj, file)` |\n",
        "| 파일 → 객체 불러오기 | `pickle.load(file)`      |\n",
        "| 객체 → 메모리 바이트 | `pickle.dumps(obj)`      |\n",
        "| 바이트 → 객체     | `pickle.loads(bytes)`    |\n",
        "\n",
        "\n",
        "주의사항\n",
        "\n",
        "| 주의  | 설명                                              |\n",
        "| --- | ----------------------------------------------- |\n",
        "| 보안  | **신뢰할 수 없는 pickle 파일은 절대 로드하지 마세요!** (코드 실행 가능) |\n",
        "| 호환성 | Python 버전/구현체 간 pickle 파일이 호환되지 않을 수 있음         |\n",
        "| 대안  | JSON (문자열 기반), `joblib` (대용량 객체 직렬화) 등도 고려      |\n"
      ],
      "metadata": {
        "id": "O-6yH8FCpOcB"
      }
    },
    {
      "cell_type": "code",
      "source": [
        "# 객체 저장 (dump)\n",
        "import pickle\n",
        "\n",
        "data = {'name': 'Alice', 'age': 30, 'scores': [90, 85, 100]}\n",
        "\n",
        "# 저장\n",
        "with open('data.pkl', 'wb') as f:\n",
        "    pickle.dump(data, f)\n"
      ],
      "metadata": {
        "id": "bI3Q0KCRnO9g"
      },
      "execution_count": 75,
      "outputs": []
    },
    {
      "cell_type": "code",
      "source": [
        "# 객체 불러오기 (load)\n",
        "\n",
        "import pickle\n",
        "\n",
        "with open('data.pkl', 'rb') as f:\n",
        "    loaded_data = pickle.load(f)\n",
        "\n",
        "print(loaded_data)"
      ],
      "metadata": {
        "colab": {
          "base_uri": "https://localhost:8080/"
        },
        "id": "Z2czKYE1qx-Z",
        "outputId": "10651f37-dac2-4d98-b831-44db6794e1cc"
      },
      "execution_count": 76,
      "outputs": [
        {
          "output_type": "stream",
          "name": "stdout",
          "text": [
            "{'name': 'Alice', 'age': 30, 'scores': [90, 85, 100]}\n"
          ]
        }
      ]
    },
    {
      "cell_type": "code",
      "source": [
        "from sklearn.linear_model import LogisticRegression\n",
        "import pickle\n",
        "\n",
        "model = LogisticRegression().fit([[0,0], [1,1]], [0, 1])\n",
        "\n",
        "# 저장\n",
        "with open(\"model.pkl\", \"wb\") as f:\n",
        "    pickle.dump(model, f)\n",
        "\n",
        "# 불러오기\n",
        "with open(\"model.pkl\", \"rb\") as f:\n",
        "    loaded_model = pickle.load(f)\n",
        "\n",
        "print(loaded_model.predict([[0, 0]]))  # [0]"
      ],
      "metadata": {
        "colab": {
          "base_uri": "https://localhost:8080/"
        },
        "id": "gfHsDocFqzlg",
        "outputId": "628af24d-465c-4835-b5a8-36b1aa1fa0fa"
      },
      "execution_count": 77,
      "outputs": [
        {
          "output_type": "stream",
          "name": "stdout",
          "text": [
            "[0]\n"
          ]
        }
      ]
    },
    {
      "cell_type": "markdown",
      "source": [
        "# Python의 json 모듈\n",
        "\n",
        "- json.dumps() : 파이썬 객체 → JSON 문자열 변환\n",
        "\n",
        "- json.dump() : 파이썬 객체 → JSON 파일로 저장\n",
        "\n",
        "- json.loads() : JSON 문자열 → 파이썬 객체 변환\n",
        "\n",
        "- json.load() : JSON 파일 → 파이썬 객체 변환\n",
        "\n",
        "# dumps와 loads\n",
        "- dumps(data) : dict(list, tuple...) -> str\n",
        "loads(data) : str -> dict(list, tuple...)\n",
        "dump와 load\n",
        "dump(data, file) : dict(list, tuple...) -> file\n",
        "load(file) : file -> dict(list, tuple...)\n",
        "\n",
        "# json 과 pickle 차이?\n",
        "\n",
        "| 항목           | `pickle`         | `json`                          |\n",
        "| ------------ | ---------------- | ------------------------------- |\n",
        "| 타입 지원        | Python 모든 객체     | 기본 타입만 (dict, list, str, int 등) |\n",
        "| 사람이 읽을 수 있음? | ❌                | ✅                               |\n",
        "| 속도           | 빠름               | 느림                              |\n",
        "| 보안           | 위험 (코드 실행 가능)    | 안전                              |\n",
        "| 추천 용도        | 캐시, 임시 저장, 모델 저장 | 설정 파일, 웹 데이터 전송                 |\n"
      ],
      "metadata": {
        "id": "gykFCWLbsAJS"
      }
    },
    {
      "cell_type": "code",
      "source": [
        "import json\n",
        "\n",
        "print(dir(json))\n",
        "\n",
        "d = {'name':'홍길동', 'birth':'0525', 'age':30}  #dict\n",
        "json_data = json.dumps(d) # dict -> str\n",
        "print(type(json_data))  # str\n",
        "print(json_data)\n",
        "\n",
        "n = json.loads(json_data) # str->dict\n",
        "print(type(n)) # dict\n",
        "print(n)\n",
        "\n",
        "\n",
        "m = [10, 20, 30, 40, 50] #list\n",
        "json_m = json.dumps(m)  # list -> str\n",
        "print(type(json_m)) # str\n",
        "print(json_m)\n",
        "\n",
        "p = json.loads(json_m) # str -> list\n",
        "print(type(p))  # list\n",
        "print(p)\n"
      ],
      "metadata": {
        "colab": {
          "base_uri": "https://localhost:8080/"
        },
        "id": "65FcenhCq1rQ",
        "outputId": "d9bbfc68-0149-4a7d-8f33-961f0235bf66"
      },
      "execution_count": 78,
      "outputs": [
        {
          "output_type": "stream",
          "name": "stdout",
          "text": [
            "['JSONDecodeError', 'JSONDecoder', 'JSONEncoder', '__all__', '__author__', '__builtins__', '__cached__', '__doc__', '__file__', '__loader__', '__name__', '__package__', '__path__', '__spec__', '__version__', '_default_decoder', '_default_encoder', 'codecs', 'decoder', 'detect_encoding', 'dump', 'dumps', 'encoder', 'load', 'loads', 'scanner']\n",
            "<class 'str'>\n",
            "{\"name\": \"\\ud64d\\uae38\\ub3d9\", \"birth\": \"0525\", \"age\": 30}\n",
            "<class 'dict'>\n",
            "{'name': '홍길동', 'birth': '0525', 'age': 30}\n",
            "<class 'str'>\n",
            "[10, 20, 30, 40, 50]\n",
            "<class 'list'>\n",
            "[10, 20, 30, 40, 50]\n"
          ]
        }
      ]
    },
    {
      "cell_type": "code",
      "source": [
        "import json\n",
        "\n",
        "d = {'name':'홍길동', 'birth':'0525', 'age':30}  #dict\n",
        "m = [10, 20, 30, 40, 50]\n",
        "with open('./source/jsondata.json', 'w') as f:\n",
        "  json.dump(d , f) # d라는  dict(딕셔너리)데이터 ->'f'라는 file에 json 형식으로 저장\n",
        "  #json.dump(m, f)   # list -> file에 저장\n",
        "\n",
        "with open('./source/jsondata.json', 'r') as f:\n",
        "  k = json.load(f) # file -> dict로 읽어옴\n",
        "  print(k)\n",
        "  print(type(k))"
      ],
      "metadata": {
        "colab": {
          "base_uri": "https://localhost:8080/"
        },
        "id": "iYuX7TNNsxNJ",
        "outputId": "6ead947f-a33a-4290-9342-4a1e092d23a8"
      },
      "execution_count": 81,
      "outputs": [
        {
          "output_type": "stream",
          "name": "stdout",
          "text": [
            "{'name': '홍길동', 'birth': '0525', 'age': 30}\n",
            "<class 'dict'>\n"
          ]
        }
      ]
    },
    {
      "cell_type": "markdown",
      "source": [
        "zipfile 모듈은 Python 표준 라이브러리로, ZIP 압축 파일을 생성하거나 해제할 때 사용한다.  \n",
        "별도 설치 없이 import zipfile만으로 사용할 수 있고, 파일 압축 자동화, 백업, 배포 파일 생성 등에 사용한다.  \n",
        "\n",
        "| 용도        | 함수/클래스                             |\n",
        "| --------- | ---------------------------------- |\n",
        "| 압축 파일 만들기 | `zipfile.ZipFile(mode='w' 또는 'a')` |\n",
        "| 압축 해제     | `zipfile.ZipFile(mode='r')`        |\n",
        "| 파일 목록 조회  | `namelist()`, `infolist()`         |\n",
        "| 개별 파일 추출  | `extract()`, `extractall()`        |\n"
      ],
      "metadata": {
        "id": "UMdzWIMnuYvb"
      }
    },
    {
      "cell_type": "code",
      "source": [
        "# ZIP 파일 생성 (쓰기)\n",
        "import zipfile\n",
        "\n",
        "with zipfile.ZipFile(\"archive.zip\", \"w\") as zipf:\n",
        "    zipf.write(\"./source/jumsu.txt\")            # 현재 폴더에 있는 파일 압축\n",
        "    zipf.write(\"./source/num.txt\")       # 하위 폴더도 압축 가능"
      ],
      "metadata": {
        "id": "HjMlYShctSaJ"
      },
      "execution_count": 85,
      "outputs": []
    },
    {
      "cell_type": "code",
      "source": [
        "# ZIP에 파일 추가 (append 모드)\n",
        "with zipfile.ZipFile(\"archive.zip\", \"a\") as zipf:\n",
        "    zipf.write(\"./source/jsondata.json\")"
      ],
      "metadata": {
        "id": "bVK11H35ubGI"
      },
      "execution_count": 86,
      "outputs": []
    },
    {
      "cell_type": "code",
      "source": [],
      "metadata": {
        "id": "RuVK1ChbufZ8"
      },
      "execution_count": null,
      "outputs": []
    },
    {
      "cell_type": "markdown",
      "source": [
        "# Python의 threading 모듈?\n",
        "-  **멀티스레딩(multi-threading)**을 구현할 수 있는 표준 라이브러리이다.  \n",
        "threading을 사용하면 하나의 프로그램에서 여러 작업을 동시에 병렬적으로 실행할 수 있다.  \n",
        "threading 모듈사용?\n",
        "- CPU는 하나지만 I/O 작업이 많은 경우 효율적\n",
        "- 웹 크롤링, 파일 다운로드, 사용자 인터페이스 처리 등에 유리\n",
        "\n",
        "\n",
        "| 항목                           | 설명                |\n",
        "| ---------------------------- | ----------------- |\n",
        "| `Thread(target=함수, args=())` | 새 스레드 생성          |\n",
        "| `start()`                    | 스레드 시작            |\n",
        "| `join()`                     | 해당 스레드 종료까지 기다림   |\n",
        "| `Lock()`                     | 공유 자원 보호용 락 객체    |\n",
        "| `with lock:`                 | 락 안전하게 사용 (자동 해제) |\n",
        "| `current_thread()`           | 현재 실행 중인 스레드 객체   |\n",
        "| `active_count()`             | 실행 중인 스레드 수       |\n",
        "| `enumerate()`                | 모든 실행 중인 스레드 리스트  |\n",
        "\n",
        "\n",
        "\n",
        "\n"
      ],
      "metadata": {
        "id": "T6R4DdlwvWfx"
      }
    },
    {
      "cell_type": "code",
      "source": [
        "# 간단한 함수 스레드 실행\n",
        "import threading\n",
        "import time\n",
        "\n",
        "\n",
        "def task():\n",
        "    for i in range(5):\n",
        "        print(f\"작업 중... {i}\")\n",
        "        time.sleep(1)\n",
        "\n",
        "\n",
        "# 스레드 생성 및 시작\n",
        "t = threading.Thread(target=task)\n",
        "t.start()\n",
        "\n",
        "\n",
        "# 메인 스레드는 계속 실행됨\n",
        "print(\"메인 스레드 종료 전에도 출력됨\")\n",
        "t.join()  # 스레드가 끝날 때까지 기다림\n",
        "print(\"스레드 종료\")\n",
        "\n",
        "\n",
        "\n",
        "\n",
        "\n",
        "\n"
      ],
      "metadata": {
        "colab": {
          "base_uri": "https://localhost:8080/"
        },
        "id": "Iuk6AoPFvYoo",
        "outputId": "52bd1652-100b-49e8-c218-9a8dca81aaa2"
      },
      "execution_count": 87,
      "outputs": [
        {
          "output_type": "stream",
          "name": "stdout",
          "text": [
            "작업 중... 0\n",
            "메인 스레드 종료 전에도 출력됨\n",
            "작업 중... 1\n",
            "작업 중... 2\n",
            "작업 중... 3\n",
            "작업 중... 4\n",
            "스레드 종료\n"
          ]
        }
      ]
    },
    {
      "cell_type": "code",
      "source": [
        "# 여러 스레드 동시에 실행\n",
        "import threading\n",
        "\n",
        "\n",
        "def greet(name):\n",
        "    for i in range(3):\n",
        "        print(f\"{name} 안녕!\")\n",
        "        time.sleep(0.5)\n",
        "\n",
        "\n",
        "names = [\"철수\", \"영희\", \"태오\"]\n",
        "threads = []\n",
        "\n",
        "\n",
        "for name in names:\n",
        "    t = threading.Thread(target=greet, args=(name,))\n",
        "    threads.append(t)\n",
        "    t.start()\n",
        "\n",
        "\n",
        "# 모든 스레드가 끝날 때까지 기다리기\n",
        "for t in threads:\n",
        "    t.join()\n",
        "\n",
        "\n",
        "\n",
        "\n"
      ],
      "metadata": {
        "colab": {
          "base_uri": "https://localhost:8080/"
        },
        "id": "DiWuAHs2wKEx",
        "outputId": "1fd7d5ff-e6fd-41e9-b2a9-06c2afa0a94a"
      },
      "execution_count": 89,
      "outputs": [
        {
          "output_type": "stream",
          "name": "stdout",
          "text": [
            "철수 안녕!\n",
            "영희 안녕!\n",
            "태오 안녕!\n",
            "철수 안녕!\n",
            "영희 안녕!\n",
            "태오 안녕!\n",
            "철수 안녕!\n",
            "영희 안녕!\n",
            "태오 안녕!\n"
          ]
        }
      ]
    },
    {
      "cell_type": "code",
      "source": [
        "# Thread 클래스를 상속해서 사용하기\n",
        "import threading\n",
        "import time  # time 모듈 추가\n",
        "\n",
        "\n",
        "class MyThread(threading.Thread):\n",
        "    def run(self):\n",
        "        for i in range(3):\n",
        "            print(f\"{self.name} 실행 중...\")\n",
        "            time.sleep(1)\n",
        "\n",
        "\n",
        "t1 = MyThread()\n",
        "t2 = MyThread()\n",
        "t1.start()\n",
        "t2.start()\n",
        "\n",
        "\n",
        "t1.join()\n",
        "t2.join()\n",
        "print(\"모든 스레드 종료\")\n"
      ],
      "metadata": {
        "colab": {
          "base_uri": "https://localhost:8080/"
        },
        "id": "Ns21IEL3FZPq",
        "outputId": "e7ca1c2d-bb0c-4716-d9d4-2ce7ed0251b6"
      },
      "execution_count": 102,
      "outputs": [
        {
          "output_type": "stream",
          "name": "stdout",
          "text": [
            "Thread-40 실행 중...\n",
            "Thread-41 실행 중...\n",
            "Thread-40 실행 중...\n",
            "Thread-41 실행 중...\n",
            "Thread-40 실행 중...\n",
            "Thread-41 실행 중...\n",
            "모든 스레드 종료\n"
          ]
        }
      ]
    },
    {
      "cell_type": "code",
      "source": [
        "# Lock으로 공유 자원 보호(멀티스레드 환경에서는 데이터 충돌(race condition) 방지를 위해 Lock 사용)\n",
        "import threading\n",
        "\n",
        "\n",
        "counter = 0\n",
        "lock = threading.Lock()\n",
        "\n",
        "\n",
        "def increment():\n",
        "    global counter\n",
        "    for _ in range(100000):\n",
        "        with lock:\n",
        "            counter += 1\n",
        "\n",
        "\n",
        "t1 = threading.Thread(target=increment)\n",
        "t2 = threading.Thread(target=increment)\n",
        "t1.start()\n",
        "t2.start()\n",
        "t1.join()\n",
        "t2.join()\n",
        "\n",
        "\n",
        "print(\"최종 카운트:\", counter)\n"
      ],
      "metadata": {
        "colab": {
          "base_uri": "https://localhost:8080/"
        },
        "id": "uJghoJnFCAu5",
        "outputId": "9ef9e7f9-80ef-4db3-adf7-508996692fef"
      },
      "execution_count": 100,
      "outputs": [
        {
          "output_type": "stream",
          "name": "stdout",
          "text": [
            "최종 카운트: 200000\n"
          ]
        }
      ]
    },
    {
      "cell_type": "code",
      "source": [],
      "metadata": {
        "id": "nUQ_vUleCorA"
      },
      "execution_count": 91,
      "outputs": []
    }
  ]
}