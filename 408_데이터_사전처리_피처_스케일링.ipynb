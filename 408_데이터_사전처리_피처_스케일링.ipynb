{
  "nbformat": 4,
  "nbformat_minor": 0,
  "metadata": {
    "colab": {
      "provenance": [],
      "authorship_tag": "ABX9TyPw4zc1NuQspIe1AwoX4ye5",
      "include_colab_link": true
    },
    "kernelspec": {
      "name": "python3",
      "display_name": "Python 3"
    },
    "language_info": {
      "name": "python"
    }
  },
  "cells": [
    {
      "cell_type": "markdown",
      "metadata": {
        "id": "view-in-github",
        "colab_type": "text"
      },
      "source": [
        "<a href=\"https://colab.research.google.com/github/TAEO2474/python-dev/blob/main/408_%EB%8D%B0%EC%9D%B4%ED%84%B0_%EC%82%AC%EC%A0%84%EC%B2%98%EB%A6%AC_%ED%94%BC%EC%B2%98_%EC%8A%A4%EC%BC%80%EC%9D%BC%EB%A7%81.ipynb\" target=\"_parent\"><img src=\"https://colab.research.google.com/assets/colab-badge.svg\" alt=\"Open In Colab\"/></a>"
      ]
    },
    {
      "cell_type": "markdown",
      "source": [
        "# < 데이터 사전처리 기본과정>\n",
        "- 1) 원본 데이터 로드 →\n",
        "- 2) 결측치/누락값 확인 →\n",
        "- 3) 결측치 처리(삭제 또는 대체) →\n",
        "- 4) 중복 데이터 확인 및 제거 →\n",
        "- 5) 이상치 처리 →\n",
        "- 6) 스케일링 & 인코딩 등 추가 작업 ✅ →\n",
        "- 7)  데이터셋을 훈련용(train)과 테스트용(test)으로 나누는 작업✅\n",
        "- 7) 모델 학습✅\n"
      ],
      "metadata": {
        "id": "2PCKYMU2fCQV"
      }
    },
    {
      "cell_type": "markdown",
      "source": [
        "# <인코딩 vs 스케일링 차이점 정리>\n",
        "| 구분          | 인코딩 (Encoding)                                    | 스케일링 (Scaling)                         |\n",
        "| ----------- | ------------------------------------------------- | -------------------------------------- |\n",
        "| **목적**      | 비수치(범주형) 데이터를 숫자 데이터로 변환                          | 수치 데이터의 값 범위를 일정한 범위(주로 0\\~1)로 조정      |\n",
        "| **대상 데이터**  | 명목형(카테고리), 순서형 데이터                                | 연속형(수치형) 데이터                           |\n",
        "| **변환 방식**   | 값 자체를 ‘범주를 대표하는 숫자’로 변환                           | 값의 크기(분포)를 조정하여 스케일 맞춤                 |\n",
        "| **예시**      | 'red' → \\[1, 0, 0] (one-hot) 또는 'red' → 0 (label) | 100 → 0.8 (최대값 125 기준)                 |\n",
        "| **결과 의미**   | 숫자가 ‘카테고리’를 표현                                    | 숫자가 원래 값의 상대적 크기를 유지한 채 범위 내 위치함       |\n",
        "| **주 사용 이유** | 모델이 범주형 데이터를 이해할 수 있게 하기 위해                       | 학습 안정성 향상, 빠른 수렴, 거리 기반 알고리즘에서 성능 개선 등 |\n",
        "\n",
        "\n",
        "\n",
        "- 인코딩: “사과, 바나나, 딸기” 같은 단어를 컴퓨터가 이해할 수 있는 숫자로 바꿔주는 것\n",
        "\n",
        "- 스케일링: “키, 몸무게”처럼 숫자 크기가 너무 다를 때, 0~1 사이로 쏙쏙 맞춰주는 것\n",
        "\n",
        "\n",
        "보충 설명\n",
        "- 인코딩 후에도 스케일링이 필요한 경우가 많아요! (예: 라벨 인코딩된 숫자형 범주 데이터를 스케일링하면 안 되는 경우도 있고, 수치형 데이터는 반드시 스케일링할 때도 있고)\n",
        "\n",
        "- 둘 다 머신러닝 전처리 과정에서 매우 중요하지만 대상 데이터와 목적이 다르니 혼동하지 않는 게 좋아요!"
      ],
      "metadata": {
        "id": "E5LTNfYyfcu0"
      }
    },
    {
      "cell_type": "markdown",
      "source": [
        "# ✅ 1. 연속형 데이터 (Continuous / 수치형)\n",
        "\n",
        "숫자처럼 **연속적인 크기와 단위를 가지는 데이터**  \n",
        "→ 값을 정렬할 수 있고, **평균·합계 등 수학적 계산이 가능**\n",
        "\n",
        "###  특징\n",
        "- 수학 연산 가능 (`+`, `-`, `/`, `*`)\n",
        "- 숫자 간 **크기 비교가 의미 있음**\n",
        "- 축적되거나 변화하는 양을 나타냄\n",
        "\n",
        "###  예시\n",
        "\n",
        "| 변수       | 설명                 |\n",
        "|------------|----------------------|\n",
        "| 키(cm)     | 예: 170.5, 181.2     |\n",
        "| 몸무게(kg) | 예: 65.2, 72.0       |\n",
        "| 나이       | 예: 23, 31, 45       |\n",
        "| 소득       | 예: 3,200,000원 등   |\n",
        "| 온도       | 예: 22.1°C, 24.6°C   |\n",
        "\n",
        "---\n",
        "\n",
        "# ✅ 2. 범주형 데이터 (명목형/순서형)\n",
        "\n",
        "**크기보다 ‘종류’가 중요한 데이터**  \n",
        "→ 숫자가 들어있어도 **계산보다는 구분/분류**가 목적\n",
        "\n",
        "###  특징\n",
        "- 연산 불가능 (예: 남자 + 여자 = ❌)\n",
        "- 숫자가 있어도 그건 **코드일 뿐**\n",
        "- 그룹, 레이블, 카테고리 구분에 사용\n",
        "\n",
        "###  분류\n",
        "- **명목형(Nominal)**: 순서 없음  \n",
        "  → 예: 성별(M/F), 색상(빨강/파랑), 도시(서울/부산)\n",
        "  \n",
        "- **순서형(Ordinal)**: 순서 있음  \n",
        "  → 예: 학점(A/B/C), 만족도(매우만족/만족/보통/불만족)\n",
        "\n",
        "###  예시\n",
        "\n",
        "| 변수           | 설명                             |\n",
        "|----------------|----------------------------------|\n",
        "| 성별           | M, F                             |\n",
        "| 혈액형         | A, B, AB, O                      |\n",
        "| 지역           | 서울, 부산, 대전                 |\n",
        "| 고객 등급      | 일반, VIP, VVIP (순서형 가능)    |\n",
        "| 상품 카테고리  | 전자, 식품, 의류                 |\n",
        "\n",
        "---\n",
        "\n",
        "# 예제 비교\n",
        "\n",
        "| 데이터 열     | 값 예시           | 데이터 유형          |\n",
        "|---------------|-------------------|-----------------------|\n",
        "| age           | 25, 32, 41        | 연속형               |\n",
        "| height        | 170.2, 180.5      | 연속형               |\n",
        "| gender        | M, F              | 범주형 (명목형)       |\n",
        "| satisfaction  | 높음, 보통, 낮음 | 범주형 (순서형)       |"
      ],
      "metadata": {
        "id": "aKXfmU9dgfAM"
      }
    },
    {
      "cell_type": "markdown",
      "source": [
        "# 【Data Scaling(데이터 스케일링)】\n",
        "- 서로 다른 변수의 값 범위를 일정한 수준으로 맞추는 작업을 피처 스케일링(feature scaling)이라고 한다.\n",
        "- 피처(feature)=컬럼(column) 들마다 데이터의 값이 범위가 다 제각각이거나 단위가 다른 경우 데이터를 학습을 할때 0으로 수렴하거나 무한으로 발산할 수 있다.\n",
        "  - 분석시에 변수들이 너무 스케일이 다를 경우  => 변수들의 단위 차이로 인해 숫자의 스케일이 크게 달라지는 경우\n",
        "  - 신경망 학습시에 => 데이터셋의 값이 들쑥날쑥하거나, 매우 큰 경우에는 cost의 값이 발산하여 정상적인 학습이 이루어지지 않습니다.\n",
        "\n",
        "- 이런 경우 데이터 스켈링을 통해 모든 피처들의 데이터 분포나 범위를 동일하게 조정해 줄 수 있다.\n",
        "- Scaling 메서드는 scikit-learn의 preprocessing에서 제공한다.\n",
        "\n",
        "#  sklearn의 Scaling 종류\n",
        "   - ① StandardScaler : 평균이 0 분산이 1인 정규분포로 변환\n",
        "   - MinMaxScaler :  0 ~ 1 사이의 실수로 변환, 타이타닉 생존자 예측(0 또는 1)과 같은 분류 문제보다는, 아파트 실거래가격 예측과 같은 회귀 문제를 해결할 때 더 적합한 스케일링 기법\n",
        "   - ② RobustScaler : 중앙값이 0, 중앙값을 0으로, IQR을 1로 변환, StandardScaler에 비해 이상치의 영향이 적어진다는 장점\n",
        "   - ③ MaxAbsScaler : 모든 피처들의 절댓값이 0과 1 사이에 놓이도록 변환, 극단적인 이상치에는 민감할 수 있으므로 꼭 이상치를 제거\n",
        "   - ④ Normalizer :  row를 기준으로 row(data point)마다 정규화를 진행, 한 행의 모든 features 사이에 유클리드 거리가 1이 되도록 데이터값을 변환, Normalizer를 사용하면 학습 속도도 빨라지고 과대적합 확률을 낮춤"
      ],
      "metadata": {
        "id": "9iIY_vCUZyOU"
      }
    },
    {
      "cell_type": "code",
      "execution_count": null,
      "metadata": {
        "colab": {
          "base_uri": "https://localhost:8080/"
        },
        "id": "mseRdKx8ZtSu",
        "outputId": "1f93c883-1447-4ac4-c42f-8d9b98c781f8"
      },
      "outputs": [
        {
          "output_type": "stream",
          "name": "stdout",
          "text": [
            "Collecting mglearn\n",
            "  Downloading mglearn-0.2.0-py2.py3-none-any.whl.metadata (628 bytes)\n",
            "Requirement already satisfied: numpy in /usr/local/lib/python3.11/dist-packages (from mglearn) (2.0.2)\n",
            "Requirement already satisfied: matplotlib in /usr/local/lib/python3.11/dist-packages (from mglearn) (3.10.0)\n",
            "Requirement already satisfied: scikit-learn in /usr/local/lib/python3.11/dist-packages (from mglearn) (1.6.1)\n",
            "Requirement already satisfied: pandas in /usr/local/lib/python3.11/dist-packages (from mglearn) (2.2.2)\n",
            "Requirement already satisfied: pillow in /usr/local/lib/python3.11/dist-packages (from mglearn) (11.3.0)\n",
            "Requirement already satisfied: cycler in /usr/local/lib/python3.11/dist-packages (from mglearn) (0.12.1)\n",
            "Requirement already satisfied: imageio in /usr/local/lib/python3.11/dist-packages (from mglearn) (2.37.0)\n",
            "Requirement already satisfied: joblib in /usr/local/lib/python3.11/dist-packages (from mglearn) (1.5.1)\n",
            "Requirement already satisfied: contourpy>=1.0.1 in /usr/local/lib/python3.11/dist-packages (from matplotlib->mglearn) (1.3.2)\n",
            "Requirement already satisfied: fonttools>=4.22.0 in /usr/local/lib/python3.11/dist-packages (from matplotlib->mglearn) (4.59.0)\n",
            "Requirement already satisfied: kiwisolver>=1.3.1 in /usr/local/lib/python3.11/dist-packages (from matplotlib->mglearn) (1.4.8)\n",
            "Requirement already satisfied: packaging>=20.0 in /usr/local/lib/python3.11/dist-packages (from matplotlib->mglearn) (25.0)\n",
            "Requirement already satisfied: pyparsing>=2.3.1 in /usr/local/lib/python3.11/dist-packages (from matplotlib->mglearn) (3.2.3)\n",
            "Requirement already satisfied: python-dateutil>=2.7 in /usr/local/lib/python3.11/dist-packages (from matplotlib->mglearn) (2.9.0.post0)\n",
            "Requirement already satisfied: pytz>=2020.1 in /usr/local/lib/python3.11/dist-packages (from pandas->mglearn) (2025.2)\n",
            "Requirement already satisfied: tzdata>=2022.7 in /usr/local/lib/python3.11/dist-packages (from pandas->mglearn) (2025.2)\n",
            "Requirement already satisfied: scipy>=1.6.0 in /usr/local/lib/python3.11/dist-packages (from scikit-learn->mglearn) (1.16.0)\n",
            "Requirement already satisfied: threadpoolctl>=3.1.0 in /usr/local/lib/python3.11/dist-packages (from scikit-learn->mglearn) (3.6.0)\n",
            "Requirement already satisfied: six>=1.5 in /usr/local/lib/python3.11/dist-packages (from python-dateutil>=2.7->matplotlib->mglearn) (1.17.0)\n",
            "Downloading mglearn-0.2.0-py2.py3-none-any.whl (581 kB)\n",
            "\u001b[2K   \u001b[90m━━━━━━━━━━━━━━━━━━━━━━━━━━━━━━━━━━━━━━━━\u001b[0m \u001b[32m581.4/581.4 kB\u001b[0m \u001b[31m9.1 MB/s\u001b[0m eta \u001b[36m0:00:00\u001b[0m\n",
            "\u001b[?25hInstalling collected packages: mglearn\n",
            "Successfully installed mglearn-0.2.0\n"
          ]
        }
      ],
      "source": [
        "# '파이썬 라이브러리를 활용한 머신러닝'의 저자가 제공한 라이브러리\n",
        "!pip install mglearn"
      ]
    },
    {
      "cell_type": "code",
      "source": [
        "import mglearn"
      ],
      "metadata": {
        "id": "3P9VlQijZ43U"
      },
      "execution_count": null,
      "outputs": []
    },
    {
      "cell_type": "code",
      "source": [
        "print(dir(mglearn))"
      ],
      "metadata": {
        "colab": {
          "base_uri": "https://localhost:8080/"
        },
        "id": "MzbbIqy7aBFj",
        "outputId": "2cd3ec7a-350c-4db5-e9ef-e18c347cfb33"
      },
      "execution_count": null,
      "outputs": [
        {
          "output_type": "stream",
          "name": "stdout",
          "text": [
            "['ReBl', '__all__', '__builtins__', '__cached__', '__doc__', '__file__', '__loader__', '__name__', '__package__', '__path__', '__spec__', '__version__', 'cm2', 'cm3', 'datasets', 'discrete_scatter', 'plot_2d_separator', 'plot_agglomerative', 'plot_animal_tree', 'plot_cross_validation', 'plot_dbscan', 'plot_decomposition', 'plot_grid_search', 'plot_helpers', 'plot_improper_preprocessing', 'plot_interactive_tree', 'plot_kmeans', 'plot_kneighbors_regularization', 'plot_knn_classification', 'plot_knn_regression', 'plot_linear_regression', 'plot_linear_svc_regularization', 'plot_metrics', 'plot_nmf', 'plot_nn_graphs', 'plot_pca', 'plot_rbf_svm_parameters', 'plot_ridge', 'plot_scaling', 'plot_tree_nonmonotonous', 'plots', 'tools']\n"
          ]
        }
      ]
    },
    {
      "cell_type": "code",
      "source": [
        "mglearn.plot_scaling.plot_scaling()"
      ],
      "metadata": {
        "colab": {
          "base_uri": "https://localhost:8080/",
          "height": 683
        },
        "id": "9BrJI_-NaCO7",
        "outputId": "b7b79499-4a26-4774-f7dc-173cebe19792"
      },
      "execution_count": null,
      "outputs": [
        {
          "output_type": "display_data",
          "data": {
            "text/plain": [
              "<Figure size 1500x800 with 5 Axes>"
            ],
            "image/png": "[encoded data removed]"
          },
          "metadata": {}
        }
      ]
    },
    {
      "cell_type": "markdown",
      "source": [
        "1. ## **① MaxAbsScaler**\n",
        "\n",
        "- 데이터의 **절대값이 1을 넘지 않도록** 스케일링\n",
        "- 음수와 양수 값이 섞인 sparse 데이터에 적합"
      ],
      "metadata": {
        "id": "t2TBE5uPbL4k"
      }
    },
    {
      "cell_type": "code",
      "source": [
        "from sklearn.preprocessing import MaxAbsScaler\n",
        "\n",
        "scaler = MaxAbsScaler()\n",
        "X_scaled = scaler.fit_transform([[-1, 23], [0, 3], [1, -2]])\n",
        "X_scaled"
      ],
      "metadata": {
        "colab": {
          "base_uri": "https://localhost:8080/"
        },
        "id": "7sTsh7HwaHAz",
        "outputId": "6f5ca951-3f12-4482-d00a-f24bbbaed4b9"
      },
      "execution_count": null,
      "outputs": [
        {
          "output_type": "execute_result",
          "data": {
            "text/plain": [
              "array([[-1.        ,  1.        ],\n",
              "       [ 0.        ,  0.13043478],\n",
              "       [ 1.        , -0.08695652]])"
            ]
          },
          "metadata": {},
          "execution_count": 5
        }
      ]
    },
    {
      "cell_type": "markdown",
      "source": [
        "2. ## **② MinMaxScaler**\n",
        "\n",
        "- **최소-최대 정규화**: 데이터를 `[0, 1]` 범위로 변환"
      ],
      "metadata": {
        "id": "00O2VjRybR-D"
      }
    },
    {
      "cell_type": "code",
      "source": [
        "from sklearn.preprocessing import MinMaxScaler\n",
        "scaler = MinMaxScaler()\n",
        "X_scaled = scaler.fit_transform([[1, 2], [3, 4], [5, 6]])\n",
        "X_scaled"
      ],
      "metadata": {
        "colab": {
          "base_uri": "https://localhost:8080/"
        },
        "id": "SIfgJIUubPOU",
        "outputId": "cc1250a2-0da5-41f3-c592-4c316df56ed8"
      },
      "execution_count": null,
      "outputs": [
        {
          "output_type": "execute_result",
          "data": {
            "text/plain": [
              "array([[0. , 0. ],\n",
              "       [0.5, 0.5],\n",
              "       [1. , 1. ]])"
            ]
          },
          "metadata": {},
          "execution_count": 6
        }
      ]
    },
    {
      "cell_type": "markdown",
      "source": [
        "# ③ StandardScaler\n",
        "\n",
        "- **Z-score 정규화**:\n",
        "   - 평균을 0,\n",
        "   - 표준편차를 1로 변환"
      ],
      "metadata": {
        "id": "4v0YgdTzcwxs"
      }
    },
    {
      "cell_type": "code",
      "source": [
        "from sklearn.preprocessing import StandardScaler\n",
        "\n",
        "scaler = StandardScaler()\n",
        "X_scaled = scaler.fit_transform([[1, 2], [3, 4], [5, 6]])\n",
        "X_scaled\n"
      ],
      "metadata": {
        "colab": {
          "base_uri": "https://localhost:8080/"
        },
        "id": "nz86onJ5biIs",
        "outputId": "e8ccf020-401b-4c28-fa1d-f84e1d3a008d"
      },
      "execution_count": null,
      "outputs": [
        {
          "output_type": "execute_result",
          "data": {
            "text/plain": [
              "array([[-1.22474487, -1.22474487],\n",
              "       [ 0.        ,  0.        ],\n",
              "       [ 1.22474487,  1.22474487]])"
            ]
          },
          "metadata": {},
          "execution_count": 7
        }
      ]
    },
    {
      "cell_type": "markdown",
      "source": [
        "# ④ Normalizer\n",
        "- 각 행의 벡터 크기를 1로 정규화 (L1, L2, Max 노름 사용 가능)"
      ],
      "metadata": {
        "id": "BT0III1kdGaU"
      }
    },
    {
      "cell_type": "code",
      "source": [
        "from sklearn.preprocessing import Normalizer\n",
        "\n",
        "normalizer = Normalizer(norm='l2')\n",
        "X_normalized = normalizer.transform([[1, 2], [3, 4]])\n",
        "X_normalized"
      ],
      "metadata": {
        "colab": {
          "base_uri": "https://localhost:8080/"
        },
        "id": "y20UfaL2c_68",
        "outputId": "b645f470-105b-4811-a58e-6fe217876085"
      },
      "execution_count": null,
      "outputs": [
        {
          "output_type": "execute_result",
          "data": {
            "text/plain": [
              "array([[0.4472136 , 0.89442719],\n",
              "       [0.6       , 0.8       ]])"
            ]
          },
          "metadata": {},
          "execution_count": 8
        }
      ]
    },
    {
      "cell_type": "markdown",
      "source": [
        "# ⑤ RobustScaler\n",
        "- RobustScaler는 **중간값(median)**과 **사분위수(IQR)**를 기준으로 스케일링하는 기법으로,\n",
        "이상치(outlier)에 덜 민감한 정규화 방법"
      ],
      "metadata": {
        "id": "qqjjnk72dNRk"
      }
    },
    {
      "cell_type": "code",
      "source": [
        "from sklearn.preprocessing import RobustScaler\n",
        "import pandas as pd\n",
        "\n",
        "# 예제 데이터\n",
        "data = {\n",
        "    'Income': [3000, 3200, 3400, 100000, 3600],  # 이상치 존재\n",
        "    'Age': [25, 26, 27, 28, 29]\n",
        "}\n",
        "df = pd.DataFrame(data)\n",
        "print(\" 원본 데이터:\\n\", df)\n",
        "\n",
        "# RobustScaler 객체 생성 및 적용\n",
        "scaler = RobustScaler()\n",
        "scaled_data = scaler.fit_transform(df)\n",
        "\n",
        "# 결과를 DataFrame으로 변환\n",
        "df_scaled = pd.DataFrame(scaled_data, columns=['Income_scaled', 'Age_scaled'])\n",
        "print(\"RobustScaler 결과:\\n\", df_scaled)\n",
        "\n",
        "# 3          241.5         0.5  이상이 영향 작음"
      ],
      "metadata": {
        "colab": {
          "base_uri": "https://localhost:8080/"
        },
        "id": "bPW0qQzKdJ7r",
        "outputId": "33048703-5d09-4e92-cc75-4e21f0a4ed86"
      },
      "execution_count": 38,
      "outputs": [
        {
          "output_type": "stream",
          "name": "stdout",
          "text": [
            " 원본 데이터:\n",
            "    Income  Age\n",
            "0    3000   25\n",
            "1    3200   26\n",
            "2    3400   27\n",
            "3  100000   28\n",
            "4    3600   29\n",
            "RobustScaler 결과:\n",
            "    Income_scaled  Age_scaled\n",
            "0           -1.0        -1.0\n",
            "1           -0.5        -0.5\n",
            "2            0.0         0.0\n",
            "3          241.5         0.5\n",
            "4            0.5         1.0\n"
          ]
        }
      ]
    },
    {
      "cell_type": "markdown",
      "source": [
        "| Feature 이름          | 설명      | 단위 |\n",
        "| ------------------- | ------- | -- |\n",
        "| `sepal length (cm)` | 꽃받침의 길이 | cm |\n",
        "| `sepal width (cm)`  | 꽃받침의 너비 | cm |\n",
        "| `petal length (cm)` | 꽃잎의 길이  | cm |\n",
        "| `petal width (cm)`  | 꽃잎의 너비  | cm |"
      ],
      "metadata": {
        "id": "-CZgumXituPQ"
      }
    },
    {
      "cell_type": "code",
      "source": [
        "import matplotlib.pyplot as plt\n",
        "import seaborn as sns\n",
        "import numpy as np\n",
        "import pandas as pd\n",
        "\n",
        "from sklearn.datasets import load_iris\n",
        "\n",
        "from sklearn.preprocessing import StandardScaler\n",
        "from sklearn.preprocessing import MinMaxScaler\n",
        "from sklearn.preprocessing import MaxAbsScaler\n",
        "from sklearn.preprocessing import RobustScaler"
      ],
      "metadata": {
        "id": "SbnJ9asygROt"
      },
      "execution_count": 10,
      "outputs": []
    },
    {
      "cell_type": "markdown",
      "source": [
        "# load_iris\n",
        "- 붓꽃 품종 분류 데이터\n",
        "\n",
        "- target: 0(setosa), 1(versicolor), 2(virginica)\n",
        "- 주요 feature:\n",
        "sepal_length, sepal_width\n",
        "petal_length, petal_width\n",
        "- data: (150, 4)\n"
      ],
      "metadata": {
        "id": "_veEnbaciYDd"
      }
    },
    {
      "cell_type": "code",
      "source": [
        "# 아이리스 꽃 데이터셋\n",
        "iris = load_iris()\n",
        "print(dir(iris))\n",
        "print(iris.target)\n",
        "\n",
        "iris = pd.DataFrame(iris.data, columns=iris.feature_names)\n",
        "print(iris.head())\n",
        "iris['Class'] = load_iris().target\n",
        "iris['Class'] = iris['Class'].map({0:'Setosa', 1:'Versicolour', 2:'Virginica'})\n",
        "iris.head()"
      ],
      "metadata": {
        "colab": {
          "base_uri": "https://localhost:8080/",
          "height": 424
        },
        "id": "aHGvNnHggsMe",
        "outputId": "5c260001-17a0-44c5-ec00-d8fb7b388de7"
      },
      "execution_count": 15,
      "outputs": [
        {
          "output_type": "stream",
          "name": "stdout",
          "text": [
            "['DESCR', 'data', 'data_module', 'feature_names', 'filename', 'frame', 'target', 'target_names']\n",
            "[0 0 0 0 0 0 0 0 0 0 0 0 0 0 0 0 0 0 0 0 0 0 0 0 0 0 0 0 0 0 0 0 0 0 0 0 0\n",
            " 0 0 0 0 0 0 0 0 0 0 0 0 0 1 1 1 1 1 1 1 1 1 1 1 1 1 1 1 1 1 1 1 1 1 1 1 1\n",
            " 1 1 1 1 1 1 1 1 1 1 1 1 1 1 1 1 1 1 1 1 1 1 1 1 1 1 2 2 2 2 2 2 2 2 2 2 2\n",
            " 2 2 2 2 2 2 2 2 2 2 2 2 2 2 2 2 2 2 2 2 2 2 2 2 2 2 2 2 2 2 2 2 2 2 2 2 2\n",
            " 2 2]\n",
            "   sepal length (cm)  sepal width (cm)  petal length (cm)  petal width (cm)\n",
            "0                5.1               3.5                1.4               0.2\n",
            "1                4.9               3.0                1.4               0.2\n",
            "2                4.7               3.2                1.3               0.2\n",
            "3                4.6               3.1                1.5               0.2\n",
            "4                5.0               3.6                1.4               0.2\n"
          ]
        },
        {
          "output_type": "execute_result",
          "data": {
            "text/plain": [
              "   sepal length (cm)  sepal width (cm)  petal length (cm)  petal width (cm)  \\\n",
              "0                5.1               3.5                1.4               0.2   \n",
              "1                4.9               3.0                1.4               0.2   \n",
              "2                4.7               3.2                1.3               0.2   \n",
              "3                4.6               3.1                1.5               0.2   \n",
              "4                5.0               3.6                1.4               0.2   \n",
              "\n",
              "    Class  \n",
              "0  Setosa  \n",
              "1  Setosa  \n",
              "2  Setosa  \n",
              "3  Setosa  \n",
              "4  Setosa  "
            ],
            "text/html": [
              "\n",
              "  <div id=\"df-d4bbb105-67ec-4862-9742-658e7dd4ae2f\" class=\"colab-df-container\">\n",
              "    <div>\n",
              "<style scoped>\n",
              "    .dataframe tbody tr th:only-of-type {\n",
              "        vertical-align: middle;\n",
              "    }\n",
              "\n",
              "    .dataframe tbody tr th {\n",
              "        vertical-align: top;\n",
              "    }\n",
              "\n",
              "    .dataframe thead th {\n",
              "        text-align: right;\n",
              "    }\n",
              "</style>\n",
              "<table border=\"1\" class=\"dataframe\">\n",
              "  <thead>\n",
              "    <tr style=\"text-align: right;\">\n",
              "      <th></th>\n",
              "      <th>sepal length (cm)</th>\n",
              "      <th>sepal width (cm)</th>\n",
              "      <th>petal length (cm)</th>\n",
              "      <th>petal width (cm)</th>\n",
              "      <th>Class</th>\n",
              "    </tr>\n",
              "  </thead>\n",
              "  <tbody>\n",
              "    <tr>\n",
              "      <th>0</th>\n",
              "      <td>5.1</td>\n",
              "      <td>3.5</td>\n",
              "      <td>1.4</td>\n",
              "      <td>0.2</td>\n",
              "      <td>Setosa</td>\n",
              "    </tr>\n",
              "    <tr>\n",
              "      <th>1</th>\n",
              "      <td>4.9</td>\n",
              "      <td>3.0</td>\n",
              "      <td>1.4</td>\n",
              "      <td>0.2</td>\n",
              "      <td>Setosa</td>\n",
              "    </tr>\n",
              "    <tr>\n",
              "      <th>2</th>\n",
              "      <td>4.7</td>\n",
              "      <td>3.2</td>\n",
              "      <td>1.3</td>\n",
              "      <td>0.2</td>\n",
              "      <td>Setosa</td>\n",
              "    </tr>\n",
              "    <tr>\n",
              "      <th>3</th>\n",
              "      <td>4.6</td>\n",
              "      <td>3.1</td>\n",
              "      <td>1.5</td>\n",
              "      <td>0.2</td>\n",
              "      <td>Setosa</td>\n",
              "    </tr>\n",
              "    <tr>\n",
              "      <th>4</th>\n",
              "      <td>5.0</td>\n",
              "      <td>3.6</td>\n",
              "      <td>1.4</td>\n",
              "      <td>0.2</td>\n",
              "      <td>Setosa</td>\n",
              "    </tr>\n",
              "  </tbody>\n",
              "</table>\n",
              "</div>\n",
              "    <div class=\"colab-df-buttons\">\n",
              "\n",
              "  <div class=\"colab-df-container\">\n",
              "    <button class=\"colab-df-convert\" onclick=\"convertToInteractive('df-d4bbb105-67ec-4862-9742-658e7dd4ae2f')\"\n",
              "            title=\"Convert this dataframe to an interactive table.\"\n",
              "            style=\"display:none;\">\n",
              "\n",
              "  <svg xmlns=\"http://www.w3.org/2000/svg\" height=\"24px\" viewBox=\"0 -960 960 960\">\n",
              "    <path d=\"M120-120v-720h720v720H120Zm60-500h600v-160H180v160Zm220 220h160v-160H400v160Zm0 220h160v-160H400v160ZM180-400h160v-160H180v160Zm440 0h160v-160H620v160ZM180-180h160v-160H180v160Zm440 0h160v-160H620v160Z\"/>\n",
              "  </svg>\n",
              "    </button>\n",
              "\n",
              "  <style>\n",
              "    .colab-df-container {\n",
              "      display:flex;\n",
              "      gap: 12px;\n",
              "    }\n",
              "\n",
              "    .colab-df-convert {\n",
              "      background-color: #E8F0FE;\n",
              "      border: none;\n",
              "      border-radius: 50%;\n",
              "      cursor: pointer;\n",
              "      display: none;\n",
              "      fill: #1967D2;\n",
              "      height: 32px;\n",
              "      padding: 0 0 0 0;\n",
              "      width: 32px;\n",
              "    }\n",
              "\n",
              "    .colab-df-convert:hover {\n",
              "      background-color: #E2EBFA;\n",
              "      box-shadow: 0px 1px 2px rgba(60, 64, 67, 0.3), 0px 1px 3px 1px rgba(60, 64, 67, 0.15);\n",
              "      fill: #174EA6;\n",
              "    }\n",
              "\n",
              "    .colab-df-buttons div {\n",
              "      margin-bottom: 4px;\n",
              "    }\n",
              "\n",
              "    [theme=dark] .colab-df-convert {\n",
              "      background-color: #3B4455;\n",
              "      fill: #D2E3FC;\n",
              "    }\n",
              "\n",
              "    [theme=dark] .colab-df-convert:hover {\n",
              "      background-color: #434B5C;\n",
              "      box-shadow: 0px 1px 3px 1px rgba(0, 0, 0, 0.15);\n",
              "      filter: drop-shadow(0px 1px 2px rgba(0, 0, 0, 0.3));\n",
              "      fill: #FFFFFF;\n",
              "    }\n",
              "  </style>\n",
              "\n",
              "    <script>\n",
              "      const buttonEl =\n",
              "        document.querySelector('#df-d4bbb105-67ec-4862-9742-658e7dd4ae2f button.colab-df-convert');\n",
              "      buttonEl.style.display =\n",
              "        google.colab.kernel.accessAllowed ? 'block' : 'none';\n",
              "\n",
              "      async function convertToInteractive(key) {\n",
              "        const element = document.querySelector('#df-d4bbb105-67ec-4862-9742-658e7dd4ae2f');\n",
              "        const dataTable =\n",
              "          await google.colab.kernel.invokeFunction('convertToInteractive',\n",
              "                                                    [key], {});\n",
              "        if (!dataTable) return;\n",
              "\n",
              "        const docLinkHtml = 'Like what you see? Visit the ' +\n",
              "          '<a target=\"_blank\" href=https://colab.research.google.com/notebooks/data_table.ipynb>data table notebook</a>'\n",
              "          + ' to learn more about interactive tables.';\n",
              "        element.innerHTML = '';\n",
              "        dataTable['output_type'] = 'display_data';\n",
              "        await google.colab.output.renderOutput(dataTable, element);\n",
              "        const docLink = document.createElement('div');\n",
              "        docLink.innerHTML = docLinkHtml;\n",
              "        element.appendChild(docLink);\n",
              "      }\n",
              "    </script>\n",
              "  </div>\n",
              "\n",
              "\n",
              "    <div id=\"df-5839c6ec-9476-4431-83f8-f0145e977dfe\">\n",
              "      <button class=\"colab-df-quickchart\" onclick=\"quickchart('df-5839c6ec-9476-4431-83f8-f0145e977dfe')\"\n",
              "                title=\"Suggest charts\"\n",
              "                style=\"display:none;\">\n",
              "\n",
              "<svg xmlns=\"http://www.w3.org/2000/svg\" height=\"24px\"viewBox=\"0 0 24 24\"\n",
              "     width=\"24px\">\n",
              "    <g>\n",
              "        <path d=\"M19 3H5c-1.1 0-2 .9-2 2v14c0 1.1.9 2 2 2h14c1.1 0 2-.9 2-2V5c0-1.1-.9-2-2-2zM9 17H7v-7h2v7zm4 0h-2V7h2v10zm4 0h-2v-4h2v4z\"/>\n",
              "    </g>\n",
              "</svg>\n",
              "      </button>\n",
              "\n",
              "<style>\n",
              "  .colab-df-quickchart {\n",
              "      --bg-color: #E8F0FE;\n",
              "      --fill-color: #1967D2;\n",
              "      --hover-bg-color: #E2EBFA;\n",
              "      --hover-fill-color: #174EA6;\n",
              "      --disabled-fill-color: #AAA;\n",
              "      --disabled-bg-color: #DDD;\n",
              "  }\n",
              "\n",
              "  [theme=dark] .colab-df-quickchart {\n",
              "      --bg-color: #3B4455;\n",
              "      --fill-color: #D2E3FC;\n",
              "      --hover-bg-color: #434B5C;\n",
              "      --hover-fill-color: #FFFFFF;\n",
              "      --disabled-bg-color: #3B4455;\n",
              "      --disabled-fill-color: #666;\n",
              "  }\n",
              "\n",
              "  .colab-df-quickchart {\n",
              "    background-color: var(--bg-color);\n",
              "    border: none;\n",
              "    border-radius: 50%;\n",
              "    cursor: pointer;\n",
              "    display: none;\n",
              "    fill: var(--fill-color);\n",
              "    height: 32px;\n",
              "    padding: 0;\n",
              "    width: 32px;\n",
              "  }\n",
              "\n",
              "  .colab-df-quickchart:hover {\n",
              "    background-color: var(--hover-bg-color);\n",
              "    box-shadow: 0 1px 2px rgba(60, 64, 67, 0.3), 0 1px 3px 1px rgba(60, 64, 67, 0.15);\n",
              "    fill: var(--button-hover-fill-color);\n",
              "  }\n",
              "\n",
              "  .colab-df-quickchart-complete:disabled,\n",
              "  .colab-df-quickchart-complete:disabled:hover {\n",
              "    background-color: var(--disabled-bg-color);\n",
              "    fill: var(--disabled-fill-color);\n",
              "    box-shadow: none;\n",
              "  }\n",
              "\n",
              "  .colab-df-spinner {\n",
              "    border: 2px solid var(--fill-color);\n",
              "    border-color: transparent;\n",
              "    border-bottom-color: var(--fill-color);\n",
              "    animation:\n",
              "      spin 1s steps(1) infinite;\n",
              "  }\n",
              "\n",
              "  @keyframes spin {\n",
              "    0% {\n",
              "      border-color: transparent;\n",
              "      border-bottom-color: var(--fill-color);\n",
              "      border-left-color: var(--fill-color);\n",
              "    }\n",
              "    20% {\n",
              "      border-color: transparent;\n",
              "      border-left-color: var(--fill-color);\n",
              "      border-top-color: var(--fill-color);\n",
              "    }\n",
              "    30% {\n",
              "      border-color: transparent;\n",
              "      border-left-color: var(--fill-color);\n",
              "      border-top-color: var(--fill-color);\n",
              "      border-right-color: var(--fill-color);\n",
              "    }\n",
              "    40% {\n",
              "      border-color: transparent;\n",
              "      border-right-color: var(--fill-color);\n",
              "      border-top-color: var(--fill-color);\n",
              "    }\n",
              "    60% {\n",
              "      border-color: transparent;\n",
              "      border-right-color: var(--fill-color);\n",
              "    }\n",
              "    80% {\n",
              "      border-color: transparent;\n",
              "      border-right-color: var(--fill-color);\n",
              "      border-bottom-color: var(--fill-color);\n",
              "    }\n",
              "    90% {\n",
              "      border-color: transparent;\n",
              "      border-bottom-color: var(--fill-color);\n",
              "    }\n",
              "  }\n",
              "</style>\n",
              "\n",
              "      <script>\n",
              "        async function quickchart(key) {\n",
              "          const quickchartButtonEl =\n",
              "            document.querySelector('#' + key + ' button');\n",
              "          quickchartButtonEl.disabled = true;  // To prevent multiple clicks.\n",
              "          quickchartButtonEl.classList.add('colab-df-spinner');\n",
              "          try {\n",
              "            const charts = await google.colab.kernel.invokeFunction(\n",
              "                'suggestCharts', [key], {});\n",
              "          } catch (error) {\n",
              "            console.error('Error during call to suggestCharts:', error);\n",
              "          }\n",
              "          quickchartButtonEl.classList.remove('colab-df-spinner');\n",
              "          quickchartButtonEl.classList.add('colab-df-quickchart-complete');\n",
              "        }\n",
              "        (() => {\n",
              "          let quickchartButtonEl =\n",
              "            document.querySelector('#df-5839c6ec-9476-4431-83f8-f0145e977dfe button');\n",
              "          quickchartButtonEl.style.display =\n",
              "            google.colab.kernel.accessAllowed ? 'block' : 'none';\n",
              "        })();\n",
              "      </script>\n",
              "    </div>\n",
              "\n",
              "    </div>\n",
              "  </div>\n"
            ],
            "application/vnd.google.colaboratory.intrinsic+json": {
              "type": "dataframe",
              "variable_name": "iris",
              "summary": "{\n  \"name\": \"iris\",\n  \"rows\": 150,\n  \"fields\": [\n    {\n      \"column\": \"sepal length (cm)\",\n      \"properties\": {\n        \"dtype\": \"number\",\n        \"std\": 0.8280661279778629,\n        \"min\": 4.3,\n        \"max\": 7.9,\n        \"num_unique_values\": 35,\n        \"samples\": [\n          6.2,\n          4.5,\n          5.6\n        ],\n        \"semantic_type\": \"\",\n        \"description\": \"\"\n      }\n    },\n    {\n      \"column\": \"sepal width (cm)\",\n      \"properties\": {\n        \"dtype\": \"number\",\n        \"std\": 0.435866284936698,\n        \"min\": 2.0,\n        \"max\": 4.4,\n        \"num_unique_values\": 23,\n        \"samples\": [\n          2.3,\n          4.0,\n          3.5\n        ],\n        \"semantic_type\": \"\",\n        \"description\": \"\"\n      }\n    },\n    {\n      \"column\": \"petal length (cm)\",\n      \"properties\": {\n        \"dtype\": \"number\",\n        \"std\": 1.7652982332594667,\n        \"min\": 1.0,\n        \"max\": 6.9,\n        \"num_unique_values\": 43,\n        \"samples\": [\n          6.7,\n          3.8,\n          3.7\n        ],\n        \"semantic_type\": \"\",\n        \"description\": \"\"\n      }\n    },\n    {\n      \"column\": \"petal width (cm)\",\n      \"properties\": {\n        \"dtype\": \"number\",\n        \"std\": 0.7622376689603465,\n        \"min\": 0.1,\n        \"max\": 2.5,\n        \"num_unique_values\": 22,\n        \"samples\": [\n          0.2,\n          1.2,\n          1.3\n        ],\n        \"semantic_type\": \"\",\n        \"description\": \"\"\n      }\n    },\n    {\n      \"column\": \"Class\",\n      \"properties\": {\n        \"dtype\": \"category\",\n        \"num_unique_values\": 3,\n        \"samples\": [\n          \"Setosa\",\n          \"Versicolour\",\n          \"Virginica\"\n        ],\n        \"semantic_type\": \"\",\n        \"description\": \"\"\n      }\n    }\n  ]\n}"
            }
          },
          "metadata": {},
          "execution_count": 15
        }
      ]
    },
    {
      "cell_type": "markdown",
      "source": [
        "# 데이터셋을 훈련용(train)과 테스트용(test)으로 나누는 과정 (인코딩과 스켈링 직후에 진행)"
      ],
      "metadata": {
        "id": "cOIbaVz4lL62"
      }
    },
    {
      "cell_type": "code",
      "source": [
        "from sklearn.model_selection import train_test_split\n",
        "\n",
        "X_train, X_test, y_train, y_test = train_test_split(\n",
        "    iris.drop(columns='Class'),  # 입력(features)\n",
        "    iris['Class'],               # 정답(target)\n",
        "    test_size=0.2                # 20%는 테스트셋, 80%는 훈련셋\n",
        ")\n"
      ],
      "metadata": {
        "id": "PN2TsPKIgtzU"
      },
      "execution_count": 17,
      "outputs": []
    },
    {
      "cell_type": "markdown",
      "source": [
        "# 전제 조건\n",
        "- 먼저 iris 데이터셋은 기본적으로 150개의 샘플과 4개의 특성(features), 그리고 1개의 클래스(label)로 구성되어 있습니다.\n",
        "\n",
        "- iris.shape 👉 (150, 5)\n",
        "- (4개의 feature + 1개의 Class 컬럼)\n",
        "\n",
        "# test_size=0.2\n",
        "- 전체 샘플 수: 150\n",
        "\n",
        "- 20% 테스트셋 → 150 × 0.2 = 30개\n",
        "\n",
        "- 80% 훈련셋 → 150 × 0.8 = 120개\n",
        "```\n",
        "iris.drop(columns='Class')  → shape: (150, 4)\n",
        "iris['Class']               → shape: (150,)\n",
        "```"
      ],
      "metadata": {
        "id": "EKgECguQml4-"
      }
    },
    {
      "cell_type": "code",
      "source": [
        "# - 훈련용 데이터의 크기 확인\n",
        "print(X_train.shape, y_train.shape)\n",
        "# X_train.shape: 훈련용 입력 데이터(X_train)의 행과 열 개수(모양)를 출력. → 행은 훈련 샘플 수, 열은 특성(feature) 수\n",
        "# y_train.shape: 훈련용 타깃 데이터(y_train)의 길이(몇 개의 정답 데이터가 있는지)를 출력. → 보통 X_train의 행 개수와 동일\n",
        "\n",
        "# - 테스트용 데이터의 크기 확인\n",
        "print(X_test.shape, y_test.shape)\n",
        "\n",
        "# X_test.shape: 테스트용 입력 데이터(X_test)의 행과 열 개수를 출력합니다. → 테스트 샘플 수와 특성 수를 보여줍니다.\n",
        "# y_test.shape: 테스트용 타깃 데이터(y_test)의 길이를 출력. → 테스트 샘플 수와 동일"
      ],
      "metadata": {
        "colab": {
          "base_uri": "https://localhost:8080/"
        },
        "id": "wJRY9vQfkAYd",
        "outputId": "f3f95387-6b66-43b7-b302-ab72479b91b5"
      },
      "execution_count": 50,
      "outputs": [
        {
          "output_type": "stream",
          "name": "stdout",
          "text": [
            "(120, 4) (120,)\n",
            "(30, 4) (30,)\n"
          ]
        }
      ]
    },
    {
      "cell_type": "markdown",
      "source": [
        "\n",
        "# 한마디 정리\n",
        "shape은 데이터의 차원과 크기를 알려주는 속성\n",
        "\n",
        "출력 결과로 (샘플 수, 특성 수) 또는 (샘플 수,) 같은 튜플 형태가 나옵니다\n",
        "\n",
        "훈련/테스트용 데이터 각각이 잘 나누어졌는지 확인할 때 유용해요!"
      ],
      "metadata": {
        "id": "JZ7bgn7fyo_S"
      }
    },
    {
      "cell_type": "markdown",
      "source": [
        "| 변수         | 설명                            |\n",
        "| ---------- | ----------------------------- |\n",
        "| `(120, 4)` | 120개의 훈련 데이터 샘플, 각 샘플에 4개의 특성 |\n",
        "| `(120,)`   | 120개의 훈련 데이터에 대한 정답 (클래스)     |\n",
        "| `(30, 4)`  | 30개의 테스트 데이터 샘플, 각 샘플에 4개의 특성 |\n",
        "| `(30,)`    | 30개의 테스트 데이터에 대한 정답 (클래스)     |\n"
      ],
      "metadata": {
        "id": "wB80dFIYorzn"
      }
    },
    {
      "cell_type": "code",
      "source": [
        "# y_train: 훈련용 타깃 데이터 (즉, 각 샘플이 어떤 붓꽃인지 나타냄)\n",
        "# .value_counts()는 **각 클래스(label)**가 몇 번 나왔는지 카운트(세기) 해주는 함수\n",
        "print(y_train.value_counts())"
      ],
      "metadata": {
        "colab": {
          "base_uri": "https://localhost:8080/"
        },
        "id": "AH23DKpLmJTd",
        "outputId": "42fa0081-cd4d-4901-cd20-9058e3620383"
      },
      "execution_count": 51,
      "outputs": [
        {
          "output_type": "stream",
          "name": "stdout",
          "text": [
            "Class\n",
            "Versicolour    43\n",
            "Setosa         40\n",
            "Virginica      37\n",
            "Name: count, dtype: int64\n"
          ]
        }
      ]
    },
    {
      "cell_type": "code",
      "source": [
        "# 테스트 데이터(y_test)**에 대해 클래스별 개수를 세는 코드\n",
        "print(y_test.value_counts())"
      ],
      "metadata": {
        "colab": {
          "base_uri": "https://localhost:8080/"
        },
        "id": "lJYGMAlunOMm",
        "outputId": "e9a13a53-72b0-4fba-847c-fefb30081407"
      },
      "execution_count": 21,
      "outputs": [
        {
          "output_type": "stream",
          "name": "stdout",
          "text": [
            "Class\n",
            "Virginica      13\n",
            "Setosa         10\n",
            "Versicolour     7\n",
            "Name: count, dtype: int64\n"
          ]
        }
      ]
    },
    {
      "cell_type": "code",
      "source": [
        "import seaborn as sns"
      ],
      "metadata": {
        "id": "5lGnMZ1CnPBN"
      },
      "execution_count": 22,
      "outputs": []
    },
    {
      "cell_type": "code",
      "source": [
        "print(type(y_train))\n",
        "print(y_train.head())"
      ],
      "metadata": {
        "colab": {
          "base_uri": "https://localhost:8080/"
        },
        "id": "tavhpg_7nVBG",
        "outputId": "c7af4d61-d5ee-4d16-bb4d-c6029bb1c7aa"
      },
      "execution_count": 24,
      "outputs": [
        {
          "output_type": "stream",
          "name": "stdout",
          "text": [
            "<class 'pandas.core.series.Series'>\n",
            "28        Setosa\n",
            "0         Setosa\n",
            "21        Setosa\n",
            "2         Setosa\n",
            "140    Virginica\n",
            "Name: Class, dtype: object\n"
          ]
        }
      ]
    },
    {
      "cell_type": "markdown",
      "source": [],
      "metadata": {
        "id": "ZsGVQFJC5V3j"
      }
    },
    {
      "cell_type": "markdown",
      "source": [],
      "metadata": {
        "id": "pSGa58S75WJC"
      }
    },
    {
      "cell_type": "code",
      "source": [
        "fig =sns.scatterplot(data=X_train, x=X_train.iloc[:,0], y=X_train.iloc[:,2], hue=y_train)\n",
        "fig.figure.set_size_inches(10,6)"
      ],
      "metadata": {
        "colab": {
          "base_uri": "https://localhost:8080/",
          "height": 542
        },
        "id": "5f8UCmg6nVc9",
        "outputId": "28b6b4fa-e196-4aed-982f-65c86768230c"
      },
      "execution_count": 57,
      "outputs": [
        {
          "output_type": "display_data",
          "data": {
            "text/plain": [
              "<Figure size 1000x600 with 1 Axes>"
            ],
            "image/png": "[encoded data removed]"
          },
          "metadata": {}
        }
      ]
    },
    {
      "cell_type": "code",
      "source": [
        "StdScaler = StandardScaler()\n",
        "\n",
        "# Train데이터의 fitting과 스케일링\n",
        "StdScaler.fit(X_train)  #fit()은 학습을 시키는 메소드이다.\n",
        "X_train_sc = StdScaler.transform(X_train)  #transform() 실제로 학습시킨 것을 적용하는 메소드이다.\n",
        "\n",
        "print('\\t\\t(min, max)  (mean,std)')\n",
        "print('Train_scaled (%.2f, %.2f) ( %.2f, %.2f)'%(X_train_sc.min(), X_train_sc.max(), X_train_sc.mean(),X_train_sc.std()))"
      ],
      "metadata": {
        "colab": {
          "base_uri": "https://localhost:8080/"
        },
        "id": "fS_X2VO2nhbW",
        "outputId": "e50539be-445d-4e90-ebe0-b80ec33d003f"
      },
      "execution_count": 27,
      "outputs": [
        {
          "output_type": "stream",
          "name": "stdout",
          "text": [
            "\t\t(min, max)  (mean,std)\n",
            "Train_scaled (-2.41, 3.08) ( -0.00, 1.00)\n"
          ]
        }
      ]
    },
    {
      "cell_type": "code",
      "source": [
        "StdScaler2 = StandardScaler()\n",
        "StdScaler2.fit_transform(X_train)\n"
      ],
      "metadata": {
        "colab": {
          "base_uri": "https://localhost:8080/"
        },
        "id": "DTSF-GIhnrIm",
        "outputId": "fe07662b-835c-49a6-8da1-eb82748556ba"
      },
      "execution_count": 39,
      "outputs": [
        {
          "output_type": "execute_result",
          "data": {
            "text/plain": [
              "array([[-0.75923386,  0.78946128, -1.33496568, -1.31422302],\n",
              "       [-0.87588951,  1.01829064, -1.33496568, -1.31422302],\n",
              "       [-0.87588951,  1.47594935, -1.27803751, -1.04805127],\n",
              "       [-1.34251212,  0.33180257, -1.39189386, -1.31422302],\n",
              "       [ 0.9906009 ,  0.10297321,  1.05601763,  1.61366624],\n",
              "       [-0.29261126, -0.58351486,  0.65752041,  1.08132274],\n",
              "       [ 1.57387916,  1.24712   ,  1.3406585 ,  1.74675212],\n",
              "       [-0.87588951,  1.01829064, -1.33496568, -1.18113715],\n",
              "       [-0.05929996, -0.81234422,  0.08823867,  0.01663573],\n",
              "       [ 1.34056785,  0.33180257,  0.54366406,  0.28280749],\n",
              "       [ 0.5239783 , -1.27000293,  0.71444859,  0.94823687],\n",
              "       [ 0.05735569,  0.33180257,  0.60059224,  0.81515099],\n",
              "       [ 0.5239783 , -0.58351486,  0.77137676,  0.41589336],\n",
              "       [-0.87588951,  1.70477871, -1.05032481, -1.04805127],\n",
              "       [-0.29261126, -1.27000293,  0.08823867, -0.11645014],\n",
              "       [ 2.15715741,  1.70477871,  1.68222755,  1.34749449],\n",
              "       [-1.45916777,  0.78946128, -1.33496568, -1.18113715],\n",
              "       [-1.69247907, -0.12585615, -1.39189386, -1.31422302],\n",
              "       [-0.29261126, -0.12585615,  0.42980771,  0.41589336],\n",
              "       [ 0.290667  , -0.12585615,  0.48673589,  0.28280749],\n",
              "       [-1.22585646, -0.12585615, -1.33496568, -1.18113715],\n",
              "       [ 0.64063395, -0.58351486,  1.05601763,  1.21440862],\n",
              "       [-1.45916777,  0.33180257, -1.33496568, -1.31422302],\n",
              "       [ 0.9906009 , -1.27000293,  1.16987398,  0.81515099],\n",
              "       [-0.40926691, -1.49883229,  0.0313105 , -0.11645014],\n",
              "       [-0.17595561, -1.04117358, -0.13947403, -0.24953602],\n",
              "       [-1.10920081, -1.27000293,  0.42980771,  0.68206511],\n",
              "       [-0.29261126, -0.81234422,  0.25902319,  0.14972161],\n",
              "       [ 0.64063395,  0.33180257,  0.42980771,  0.41589336],\n",
              "       [ 0.290667  , -0.58351486,  0.14516684,  0.14972161],\n",
              "       [ 0.7572896 , -0.58351486,  0.48673589,  0.41589336],\n",
              "       [ 0.05735569, -0.12585615,  0.77137676,  0.81515099],\n",
              "       [ 0.9906009 ,  0.10297321,  0.54366406,  0.41589336],\n",
              "       [-1.34251212,  0.33180257, -1.22110934, -1.31422302],\n",
              "       [ 0.40732265, -0.58351486,  0.60059224,  0.81515099],\n",
              "       [ 1.2239122 ,  0.10297321,  0.65752041,  0.41589336],\n",
              "       [ 0.5239783 , -1.72766165,  0.37287954,  0.14972161],\n",
              "       [-1.22585646,  0.78946128, -1.22110934, -1.31422302],\n",
              "       [-0.40926691,  1.01829064, -1.39189386, -1.31422302],\n",
              "       [ 0.64063395, -0.58351486,  1.05601763,  1.34749449],\n",
              "       [ 2.39046871,  1.70477871,  1.51144302,  1.08132274],\n",
              "       [-0.99254516, -2.41414972, -0.13947403, -0.24953602],\n",
              "       [ 0.5239783 ,  0.56063193,  0.54366406,  0.54897924],\n",
              "       [ 0.64063395,  0.10297321,  0.99908946,  0.81515099],\n",
              "       [-0.87588951,  0.78946128, -1.27803751, -1.31422302],\n",
              "       [ 0.17401135, -1.956491  ,  0.71444859,  0.41589336],\n",
              "       [-1.22585646,  0.78946128, -1.05032481, -1.31422302],\n",
              "       [-0.05929996, -1.04117358,  0.14516684,  0.01663573],\n",
              "       [ 0.9906009 ,  0.10297321,  0.37287954,  0.28280749],\n",
              "       [-1.10920081, -1.49883229, -0.25333037, -0.24953602],\n",
              "       [ 2.04050176, -0.12585615,  1.62529937,  1.21440862],\n",
              "       [-1.80913472, -0.12585615, -1.50575021, -1.4473089 ],\n",
              "       [ 0.7572896 , -0.12585615,  0.99908946,  0.81515099],\n",
              "       [ 0.7572896 , -0.12585615,  1.16987398,  1.34749449],\n",
              "       [-0.17595561, -0.58351486,  0.20209502,  0.14972161],\n",
              "       [ 0.87394525, -0.12585615,  0.37287954,  0.28280749],\n",
              "       [-0.05929996,  2.16243743, -1.44882203, -1.31422302],\n",
              "       [ 0.9906009 , -0.12585615,  0.82830493,  1.48058037],\n",
              "       [ 1.2239122 ,  0.33180257,  1.1129458 ,  1.48058037],\n",
              "       [-0.29261126, -0.3546855 , -0.08254585,  0.14972161],\n",
              "       [-1.22585646,  0.10297321, -1.22110934, -1.31422302],\n",
              "       [ 1.10725655, -0.58351486,  0.60059224,  0.28280749],\n",
              "       [-0.40926691, -1.04117358,  0.37287954,  0.01663573],\n",
              "       [-0.17595561, -1.27000293,  0.71444859,  1.08132274],\n",
              "       [-0.52592256,  1.93360807, -1.39189386, -1.04805127],\n",
              "       [ 0.7572896 , -0.12585615,  0.82830493,  1.08132274],\n",
              "       [-0.17595561, -0.3546855 ,  0.25902319,  0.14972161],\n",
              "       [ 0.87394525, -0.3546855 ,  0.48673589,  0.14972161],\n",
              "       [-1.69247907,  0.33180257, -1.39189386, -1.31422302],\n",
              "       [ 2.15715741, -0.58351486,  1.68222755,  1.08132274],\n",
              "       [ 1.10725655, -0.12585615,  0.99908946,  1.21440862],\n",
              "       [ 0.64063395,  0.33180257,  0.88523311,  1.48058037],\n",
              "       [-0.40926691, -1.49883229, -0.02561768, -0.24953602],\n",
              "       [ 0.290667  , -0.58351486,  0.54366406,  0.01663573],\n",
              "       [-0.52592256,  0.78946128, -1.27803751, -1.04805127],\n",
              "       [-0.29261126, -0.12585615,  0.20209502,  0.14972161],\n",
              "       [-0.17595561,  3.07775485, -1.27803751, -1.04805127],\n",
              "       [-0.99254516,  1.01829064, -1.39189386, -1.18113715],\n",
              "       [-0.87588951,  1.70477871, -1.22110934, -1.31422302],\n",
              "       [-0.64257821,  1.47594935, -1.27803751, -1.31422302],\n",
              "       [ 0.290667  , -0.3546855 ,  0.54366406,  0.28280749],\n",
              "       [-0.40926691,  2.62009614, -1.33496568, -1.31422302],\n",
              "       [-0.75923386,  1.01829064, -1.27803751, -1.31422302],\n",
              "       [-0.17595561, -0.12585615,  0.25902319,  0.01663573],\n",
              "       [-0.17595561, -0.58351486,  0.42980771,  0.14972161],\n",
              "       [-0.99254516, -1.72766165, -0.25333037, -0.24953602],\n",
              "       [ 2.15715741, -1.04117358,  1.79608389,  1.48058037],\n",
              "       [-0.05929996, -0.58351486,  0.77137676,  1.61366624],\n",
              "       [-0.52592256,  1.93360807, -1.16418116, -1.04805127],\n",
              "       [-0.99254516, -0.12585615, -1.22110934, -1.31422302],\n",
              "       [ 1.69053481, -0.3546855 ,  1.45451485,  0.81515099],\n",
              "       [ 0.17401135, -1.956491  ,  0.14516684, -0.24953602],\n",
              "       [-0.40926691, -1.72766165,  0.14516684,  0.14972161],\n",
              "       [ 1.2239122 ,  0.10297321,  0.94216128,  1.21440862],\n",
              "       [-1.22585646, -0.12585615, -1.33496568, -1.4473089 ],\n",
              "       [-0.87588951,  1.70477871, -1.27803751, -1.18113715],\n",
              "       [ 0.17401135, -0.3546855 ,  0.42980771,  0.41589336],\n",
              "       [-1.57582342, -1.72766165, -1.39189386, -1.18113715],\n",
              "       [ 0.17401135,  0.78946128,  0.42980771,  0.54897924],\n",
              "       [-0.52592256, -0.12585615,  0.42980771,  0.41589336],\n",
              "       [-0.52592256,  0.78946128, -1.16418116, -1.31422302],\n",
              "       [ 0.17401135, -0.81234422,  0.77137676,  0.54897924],\n",
              "       [ 1.57387916, -0.12585615,  1.16987398,  0.54897924],\n",
              "       [ 0.9906009 , -0.12585615,  0.71444859,  0.68206511],\n",
              "       [-0.87588951, -1.27000293, -0.4241149 , -0.11645014],\n",
              "       [-1.10920081,  0.10297321, -1.27803751, -1.4473089 ],\n",
              "       [ 2.15715741, -0.12585615,  1.3406585 ,  1.48058037],\n",
              "       [-1.69247907, -0.3546855 , -1.33496568, -1.31422302],\n",
              "       [ 0.5239783 ,  0.78946128,  1.05601763,  1.61366624],\n",
              "       [-1.10920081,  0.10297321, -1.27803751, -1.31422302],\n",
              "       [ 1.2239122 ,  0.10297321,  0.77137676,  1.48058037],\n",
              "       [ 0.5239783 ,  0.56063193,  1.28373033,  1.74675212],\n",
              "       [ 1.80719046, -0.58351486,  1.3406585 ,  0.94823687],\n",
              "       [-1.45916777,  0.10297321, -1.27803751, -1.31422302],\n",
              "       [-0.99254516,  0.56063193, -1.33496568, -1.31422302],\n",
              "       [-0.99254516,  1.01829064, -1.22110934, -0.78187952],\n",
              "       [ 0.05735569, -0.12585615,  0.25902319,  0.41589336],\n",
              "       [ 0.290667  , -0.12585615,  0.65752041,  0.81515099],\n",
              "       [ 1.57387916,  0.33180257,  1.28373033,  0.81515099],\n",
              "       [-0.17595561,  1.70477871, -1.16418116, -1.18113715]])"
            ]
          },
          "metadata": {},
          "execution_count": 39
        }
      ]
    },
    {
      "cell_type": "code",
      "source": [
        "xt = pd.DataFrame(X_train_sc.T)\n",
        "xt"
      ],
      "metadata": {
        "colab": {
          "base_uri": "https://localhost:8080/",
          "height": 224
        },
        "id": "81z0epSqoVPW",
        "outputId": "3c508b1e-86e9-46ca-936f-300a96bddd01"
      },
      "execution_count": 29,
      "outputs": [
        {
          "output_type": "execute_result",
          "data": {
            "text/plain": [
              "        0         1         2         3         4         5         6    \\\n",
              "0 -0.759234 -0.875890 -0.875890 -1.342512  0.990601 -0.292611  1.573879   \n",
              "1  0.789461  1.018291  1.475949  0.331803  0.102973 -0.583515  1.247120   \n",
              "2 -1.334966 -1.334966 -1.278038 -1.391894  1.056018  0.657520  1.340659   \n",
              "3 -1.314223 -1.314223 -1.048051 -1.314223  1.613666  1.081323  1.746752   \n",
              "\n",
              "        7         8         9    ...       110       111       112       113  \\\n",
              "0 -0.875890 -0.059300  1.340568  ...  1.223912  0.523978  1.807190 -1.459168   \n",
              "1  1.018291 -0.812344  0.331803  ...  0.102973  0.560632 -0.583515  0.102973   \n",
              "2 -1.334966  0.088239  0.543664  ...  0.771377  1.283730  1.340659 -1.278038   \n",
              "3 -1.181137  0.016636  0.282807  ...  1.480580  1.746752  0.948237 -1.314223   \n",
              "\n",
              "        114       115       116       117       118       119  \n",
              "0 -0.992545 -0.992545  0.057356  0.290667  1.573879 -0.175956  \n",
              "1  0.560632  1.018291 -0.125856 -0.125856  0.331803  1.704779  \n",
              "2 -1.334966 -1.221109  0.259023  0.657520  1.283730 -1.164181  \n",
              "3 -1.314223 -0.781880  0.415893  0.815151  0.815151 -1.181137  \n",
              "\n",
              "[4 rows x 120 columns]"
            ],
            "text/html": [
              "\n",
              "  <div id=\"df-2fe692b6-0760-40c9-9e88-7020ddac764d\" class=\"colab-df-container\">\n",
              "    <div>\n",
              "<style scoped>\n",
              "    .dataframe tbody tr th:only-of-type {\n",
              "        vertical-align: middle;\n",
              "    }\n",
              "\n",
              "    .dataframe tbody tr th {\n",
              "        vertical-align: top;\n",
              "    }\n",
              "\n",
              "    .dataframe thead th {\n",
              "        text-align: right;\n",
              "    }\n",
              "</style>\n",
              "<table border=\"1\" class=\"dataframe\">\n",
              "  <thead>\n",
              "    <tr style=\"text-align: right;\">\n",
              "      <th></th>\n",
              "      <th>0</th>\n",
              "      <th>1</th>\n",
              "      <th>2</th>\n",
              "      <th>3</th>\n",
              "      <th>4</th>\n",
              "      <th>5</th>\n",
              "      <th>6</th>\n",
              "      <th>7</th>\n",
              "      <th>8</th>\n",
              "      <th>9</th>\n",
              "      <th>...</th>\n",
              "      <th>110</th>\n",
              "      <th>111</th>\n",
              "      <th>112</th>\n",
              "      <th>113</th>\n",
              "      <th>114</th>\n",
              "      <th>115</th>\n",
              "      <th>116</th>\n",
              "      <th>117</th>\n",
              "      <th>118</th>\n",
              "      <th>119</th>\n",
              "    </tr>\n",
              "  </thead>\n",
              "  <tbody>\n",
              "    <tr>\n",
              "      <th>0</th>\n",
              "      <td>-0.759234</td>\n",
              "      <td>-0.875890</td>\n",
              "      <td>-0.875890</td>\n",
              "      <td>-1.342512</td>\n",
              "      <td>0.990601</td>\n",
              "      <td>-0.292611</td>\n",
              "      <td>1.573879</td>\n",
              "      <td>-0.875890</td>\n",
              "      <td>-0.059300</td>\n",
              "      <td>1.340568</td>\n",
              "      <td>...</td>\n",
              "      <td>1.223912</td>\n",
              "      <td>0.523978</td>\n",
              "      <td>1.807190</td>\n",
              "      <td>-1.459168</td>\n",
              "      <td>-0.992545</td>\n",
              "      <td>-0.992545</td>\n",
              "      <td>0.057356</td>\n",
              "      <td>0.290667</td>\n",
              "      <td>1.573879</td>\n",
              "      <td>-0.175956</td>\n",
              "    </tr>\n",
              "    <tr>\n",
              "      <th>1</th>\n",
              "      <td>0.789461</td>\n",
              "      <td>1.018291</td>\n",
              "      <td>1.475949</td>\n",
              "      <td>0.331803</td>\n",
              "      <td>0.102973</td>\n",
              "      <td>-0.583515</td>\n",
              "      <td>1.247120</td>\n",
              "      <td>1.018291</td>\n",
              "      <td>-0.812344</td>\n",
              "      <td>0.331803</td>\n",
              "      <td>...</td>\n",
              "      <td>0.102973</td>\n",
              "      <td>0.560632</td>\n",
              "      <td>-0.583515</td>\n",
              "      <td>0.102973</td>\n",
              "      <td>0.560632</td>\n",
              "      <td>1.018291</td>\n",
              "      <td>-0.125856</td>\n",
              "      <td>-0.125856</td>\n",
              "      <td>0.331803</td>\n",
              "      <td>1.704779</td>\n",
              "    </tr>\n",
              "    <tr>\n",
              "      <th>2</th>\n",
              "      <td>-1.334966</td>\n",
              "      <td>-1.334966</td>\n",
              "      <td>-1.278038</td>\n",
              "      <td>-1.391894</td>\n",
              "      <td>1.056018</td>\n",
              "      <td>0.657520</td>\n",
              "      <td>1.340659</td>\n",
              "      <td>-1.334966</td>\n",
              "      <td>0.088239</td>\n",
              "      <td>0.543664</td>\n",
              "      <td>...</td>\n",
              "      <td>0.771377</td>\n",
              "      <td>1.283730</td>\n",
              "      <td>1.340659</td>\n",
              "      <td>-1.278038</td>\n",
              "      <td>-1.334966</td>\n",
              "      <td>-1.221109</td>\n",
              "      <td>0.259023</td>\n",
              "      <td>0.657520</td>\n",
              "      <td>1.283730</td>\n",
              "      <td>-1.164181</td>\n",
              "    </tr>\n",
              "    <tr>\n",
              "      <th>3</th>\n",
              "      <td>-1.314223</td>\n",
              "      <td>-1.314223</td>\n",
              "      <td>-1.048051</td>\n",
              "      <td>-1.314223</td>\n",
              "      <td>1.613666</td>\n",
              "      <td>1.081323</td>\n",
              "      <td>1.746752</td>\n",
              "      <td>-1.181137</td>\n",
              "      <td>0.016636</td>\n",
              "      <td>0.282807</td>\n",
              "      <td>...</td>\n",
              "      <td>1.480580</td>\n",
              "      <td>1.746752</td>\n",
              "      <td>0.948237</td>\n",
              "      <td>-1.314223</td>\n",
              "      <td>-1.314223</td>\n",
              "      <td>-0.781880</td>\n",
              "      <td>0.415893</td>\n",
              "      <td>0.815151</td>\n",
              "      <td>0.815151</td>\n",
              "      <td>-1.181137</td>\n",
              "    </tr>\n",
              "  </tbody>\n",
              "</table>\n",
              "<p>4 rows × 120 columns</p>\n",
              "</div>\n",
              "    <div class=\"colab-df-buttons\">\n",
              "\n",
              "  <div class=\"colab-df-container\">\n",
              "    <button class=\"colab-df-convert\" onclick=\"convertToInteractive('df-2fe692b6-0760-40c9-9e88-7020ddac764d')\"\n",
              "            title=\"Convert this dataframe to an interactive table.\"\n",
              "            style=\"display:none;\">\n",
              "\n",
              "  <svg xmlns=\"http://www.w3.org/2000/svg\" height=\"24px\" viewBox=\"0 -960 960 960\">\n",
              "    <path d=\"M120-120v-720h720v720H120Zm60-500h600v-160H180v160Zm220 220h160v-160H400v160Zm0 220h160v-160H400v160ZM180-400h160v-160H180v160Zm440 0h160v-160H620v160ZM180-180h160v-160H180v160Zm440 0h160v-160H620v160Z\"/>\n",
              "  </svg>\n",
              "    </button>\n",
              "\n",
              "  <style>\n",
              "    .colab-df-container {\n",
              "      display:flex;\n",
              "      gap: 12px;\n",
              "    }\n",
              "\n",
              "    .colab-df-convert {\n",
              "      background-color: #E8F0FE;\n",
              "      border: none;\n",
              "      border-radius: 50%;\n",
              "      cursor: pointer;\n",
              "      display: none;\n",
              "      fill: #1967D2;\n",
              "      height: 32px;\n",
              "      padding: 0 0 0 0;\n",
              "      width: 32px;\n",
              "    }\n",
              "\n",
              "    .colab-df-convert:hover {\n",
              "      background-color: #E2EBFA;\n",
              "      box-shadow: 0px 1px 2px rgba(60, 64, 67, 0.3), 0px 1px 3px 1px rgba(60, 64, 67, 0.15);\n",
              "      fill: #174EA6;\n",
              "    }\n",
              "\n",
              "    .colab-df-buttons div {\n",
              "      margin-bottom: 4px;\n",
              "    }\n",
              "\n",
              "    [theme=dark] .colab-df-convert {\n",
              "      background-color: #3B4455;\n",
              "      fill: #D2E3FC;\n",
              "    }\n",
              "\n",
              "    [theme=dark] .colab-df-convert:hover {\n",
              "      background-color: #434B5C;\n",
              "      box-shadow: 0px 1px 3px 1px rgba(0, 0, 0, 0.15);\n",
              "      filter: drop-shadow(0px 1px 2px rgba(0, 0, 0, 0.3));\n",
              "      fill: #FFFFFF;\n",
              "    }\n",
              "  </style>\n",
              "\n",
              "    <script>\n",
              "      const buttonEl =\n",
              "        document.querySelector('#df-2fe692b6-0760-40c9-9e88-7020ddac764d button.colab-df-convert');\n",
              "      buttonEl.style.display =\n",
              "        google.colab.kernel.accessAllowed ? 'block' : 'none';\n",
              "\n",
              "      async function convertToInteractive(key) {\n",
              "        const element = document.querySelector('#df-2fe692b6-0760-40c9-9e88-7020ddac764d');\n",
              "        const dataTable =\n",
              "          await google.colab.kernel.invokeFunction('convertToInteractive',\n",
              "                                                    [key], {});\n",
              "        if (!dataTable) return;\n",
              "\n",
              "        const docLinkHtml = 'Like what you see? Visit the ' +\n",
              "          '<a target=\"_blank\" href=https://colab.research.google.com/notebooks/data_table.ipynb>data table notebook</a>'\n",
              "          + ' to learn more about interactive tables.';\n",
              "        element.innerHTML = '';\n",
              "        dataTable['output_type'] = 'display_data';\n",
              "        await google.colab.output.renderOutput(dataTable, element);\n",
              "        const docLink = document.createElement('div');\n",
              "        docLink.innerHTML = docLinkHtml;\n",
              "        element.appendChild(docLink);\n",
              "      }\n",
              "    </script>\n",
              "  </div>\n",
              "\n",
              "\n",
              "    <div id=\"df-4d39c64e-0209-4eaa-a77a-39cea98ed66a\">\n",
              "      <button class=\"colab-df-quickchart\" onclick=\"quickchart('df-4d39c64e-0209-4eaa-a77a-39cea98ed66a')\"\n",
              "                title=\"Suggest charts\"\n",
              "                style=\"display:none;\">\n",
              "\n",
              "<svg xmlns=\"http://www.w3.org/2000/svg\" height=\"24px\"viewBox=\"0 0 24 24\"\n",
              "     width=\"24px\">\n",
              "    <g>\n",
              "        <path d=\"M19 3H5c-1.1 0-2 .9-2 2v14c0 1.1.9 2 2 2h14c1.1 0 2-.9 2-2V5c0-1.1-.9-2-2-2zM9 17H7v-7h2v7zm4 0h-2V7h2v10zm4 0h-2v-4h2v4z\"/>\n",
              "    </g>\n",
              "</svg>\n",
              "      </button>\n",
              "\n",
              "<style>\n",
              "  .colab-df-quickchart {\n",
              "      --bg-color: #E8F0FE;\n",
              "      --fill-color: #1967D2;\n",
              "      --hover-bg-color: #E2EBFA;\n",
              "      --hover-fill-color: #174EA6;\n",
              "      --disabled-fill-color: #AAA;\n",
              "      --disabled-bg-color: #DDD;\n",
              "  }\n",
              "\n",
              "  [theme=dark] .colab-df-quickchart {\n",
              "      --bg-color: #3B4455;\n",
              "      --fill-color: #D2E3FC;\n",
              "      --hover-bg-color: #434B5C;\n",
              "      --hover-fill-color: #FFFFFF;\n",
              "      --disabled-bg-color: #3B4455;\n",
              "      --disabled-fill-color: #666;\n",
              "  }\n",
              "\n",
              "  .colab-df-quickchart {\n",
              "    background-color: var(--bg-color);\n",
              "    border: none;\n",
              "    border-radius: 50%;\n",
              "    cursor: pointer;\n",
              "    display: none;\n",
              "    fill: var(--fill-color);\n",
              "    height: 32px;\n",
              "    padding: 0;\n",
              "    width: 32px;\n",
              "  }\n",
              "\n",
              "  .colab-df-quickchart:hover {\n",
              "    background-color: var(--hover-bg-color);\n",
              "    box-shadow: 0 1px 2px rgba(60, 64, 67, 0.3), 0 1px 3px 1px rgba(60, 64, 67, 0.15);\n",
              "    fill: var(--button-hover-fill-color);\n",
              "  }\n",
              "\n",
              "  .colab-df-quickchart-complete:disabled,\n",
              "  .colab-df-quickchart-complete:disabled:hover {\n",
              "    background-color: var(--disabled-bg-color);\n",
              "    fill: var(--disabled-fill-color);\n",
              "    box-shadow: none;\n",
              "  }\n",
              "\n",
              "  .colab-df-spinner {\n",
              "    border: 2px solid var(--fill-color);\n",
              "    border-color: transparent;\n",
              "    border-bottom-color: var(--fill-color);\n",
              "    animation:\n",
              "      spin 1s steps(1) infinite;\n",
              "  }\n",
              "\n",
              "  @keyframes spin {\n",
              "    0% {\n",
              "      border-color: transparent;\n",
              "      border-bottom-color: var(--fill-color);\n",
              "      border-left-color: var(--fill-color);\n",
              "    }\n",
              "    20% {\n",
              "      border-color: transparent;\n",
              "      border-left-color: var(--fill-color);\n",
              "      border-top-color: var(--fill-color);\n",
              "    }\n",
              "    30% {\n",
              "      border-color: transparent;\n",
              "      border-left-color: var(--fill-color);\n",
              "      border-top-color: var(--fill-color);\n",
              "      border-right-color: var(--fill-color);\n",
              "    }\n",
              "    40% {\n",
              "      border-color: transparent;\n",
              "      border-right-color: var(--fill-color);\n",
              "      border-top-color: var(--fill-color);\n",
              "    }\n",
              "    60% {\n",
              "      border-color: transparent;\n",
              "      border-right-color: var(--fill-color);\n",
              "    }\n",
              "    80% {\n",
              "      border-color: transparent;\n",
              "      border-right-color: var(--fill-color);\n",
              "      border-bottom-color: var(--fill-color);\n",
              "    }\n",
              "    90% {\n",
              "      border-color: transparent;\n",
              "      border-bottom-color: var(--fill-color);\n",
              "    }\n",
              "  }\n",
              "</style>\n",
              "\n",
              "      <script>\n",
              "        async function quickchart(key) {\n",
              "          const quickchartButtonEl =\n",
              "            document.querySelector('#' + key + ' button');\n",
              "          quickchartButtonEl.disabled = true;  // To prevent multiple clicks.\n",
              "          quickchartButtonEl.classList.add('colab-df-spinner');\n",
              "          try {\n",
              "            const charts = await google.colab.kernel.invokeFunction(\n",
              "                'suggestCharts', [key], {});\n",
              "          } catch (error) {\n",
              "            console.error('Error during call to suggestCharts:', error);\n",
              "          }\n",
              "          quickchartButtonEl.classList.remove('colab-df-spinner');\n",
              "          quickchartButtonEl.classList.add('colab-df-quickchart-complete');\n",
              "        }\n",
              "        (() => {\n",
              "          let quickchartButtonEl =\n",
              "            document.querySelector('#df-4d39c64e-0209-4eaa-a77a-39cea98ed66a button');\n",
              "          quickchartButtonEl.style.display =\n",
              "            google.colab.kernel.accessAllowed ? 'block' : 'none';\n",
              "        })();\n",
              "      </script>\n",
              "    </div>\n",
              "\n",
              "  <div id=\"id_3137c914-ef7a-468a-8c70-cc9264ddd886\">\n",
              "    <style>\n",
              "      .colab-df-generate {\n",
              "        background-color: #E8F0FE;\n",
              "        border: none;\n",
              "        border-radius: 50%;\n",
              "        cursor: pointer;\n",
              "        display: none;\n",
              "        fill: #1967D2;\n",
              "        height: 32px;\n",
              "        padding: 0 0 0 0;\n",
              "        width: 32px;\n",
              "      }\n",
              "\n",
              "      .colab-df-generate:hover {\n",
              "        background-color: #E2EBFA;\n",
              "        box-shadow: 0px 1px 2px rgba(60, 64, 67, 0.3), 0px 1px 3px 1px rgba(60, 64, 67, 0.15);\n",
              "        fill: #174EA6;\n",
              "      }\n",
              "\n",
              "      [theme=dark] .colab-df-generate {\n",
              "        background-color: #3B4455;\n",
              "        fill: #D2E3FC;\n",
              "      }\n",
              "\n",
              "      [theme=dark] .colab-df-generate:hover {\n",
              "        background-color: #434B5C;\n",
              "        box-shadow: 0px 1px 3px 1px rgba(0, 0, 0, 0.15);\n",
              "        filter: drop-shadow(0px 1px 2px rgba(0, 0, 0, 0.3));\n",
              "        fill: #FFFFFF;\n",
              "      }\n",
              "    </style>\n",
              "    <button class=\"colab-df-generate\" onclick=\"generateWithVariable('xt')\"\n",
              "            title=\"Generate code using this dataframe.\"\n",
              "            style=\"display:none;\">\n",
              "\n",
              "  <svg xmlns=\"http://www.w3.org/2000/svg\" height=\"24px\"viewBox=\"0 0 24 24\"\n",
              "       width=\"24px\">\n",
              "    <path d=\"M7,19H8.4L18.45,9,17,7.55,7,17.6ZM5,21V16.75L18.45,3.32a2,2,0,0,1,2.83,0l1.4,1.43a1.91,1.91,0,0,1,.58,1.4,1.91,1.91,0,0,1-.58,1.4L9.25,21ZM18.45,9,17,7.55Zm-12,3A5.31,5.31,0,0,0,4.9,8.1,5.31,5.31,0,0,0,1,6.5,5.31,5.31,0,0,0,4.9,4.9,5.31,5.31,0,0,0,6.5,1,5.31,5.31,0,0,0,8.1,4.9,5.31,5.31,0,0,0,12,6.5,5.46,5.46,0,0,0,6.5,12Z\"/>\n",
              "  </svg>\n",
              "    </button>\n",
              "    <script>\n",
              "      (() => {\n",
              "      const buttonEl =\n",
              "        document.querySelector('#id_3137c914-ef7a-468a-8c70-cc9264ddd886 button.colab-df-generate');\n",
              "      buttonEl.style.display =\n",
              "        google.colab.kernel.accessAllowed ? 'block' : 'none';\n",
              "\n",
              "      buttonEl.onclick = () => {\n",
              "        google.colab.notebook.generateWithVariable('xt');\n",
              "      }\n",
              "      })();\n",
              "    </script>\n",
              "  </div>\n",
              "\n",
              "    </div>\n",
              "  </div>\n"
            ],
            "application/vnd.google.colaboratory.intrinsic+json": {
              "type": "dataframe",
              "variable_name": "xt"
            }
          },
          "metadata": {},
          "execution_count": 29
        }
      ]
    },
    {
      "cell_type": "code",
      "source": [
        "fig =sns.scatterplot(data=xt, x=xt.iloc[0,:], y=xt.iloc[1,], hue=y_train)\n",
        "fig.figure.set_size_inches(10,6)"
      ],
      "metadata": {
        "colab": {
          "base_uri": "https://localhost:8080/",
          "height": 542
        },
        "id": "Mw1KZb_Rp-5v",
        "outputId": "0aae44cc-7fe4-4b98-b712-8f6f4a9c6f27"
      },
      "execution_count": 30,
      "outputs": [
        {
          "output_type": "display_data",
          "data": {
            "text/plain": [
              "<Figure size 1000x600 with 1 Axes>"
            ],
            "image/png": "[encoded data removed]"
          },
          "metadata": {}
        }
      ]
    },
    {
      "cell_type": "code",
      "source": [
        "from sklearn.preprocessing import MinMaxScaler\n",
        "\n",
        "MmScaler = MinMaxScaler()\n",
        "\n",
        "# Train 데이터의 fitting과 스케일링\n",
        "# fit()은 학습을 시키는 메소드이다.\n",
        "MmScaler.fit(X_train)\n",
        "\n",
        "#transform()은 실제로 학습시킨 것을 적용하는 메소드이다.\n",
        "X_train_sc = MmScaler.transform(X_train)\n",
        "print(X_train_sc.shape)\n",
        "\n",
        "print('\\t\\t(min, max)  (mean,std)')\n",
        "print('Train_scaled (%.2f, %.2f) ( %.2f, %.2f)'%(X_train_sc.min(), X_train_sc.max(), X_train_sc.mean(),X_train_sc.std()))"
      ],
      "metadata": {
        "colab": {
          "base_uri": "https://localhost:8080/"
        },
        "id": "E2q-3o4tqBZW",
        "outputId": "b46dd6d1-39c9-4b89-e4f5-7e3a14eebfe2"
      },
      "execution_count": 31,
      "outputs": [
        {
          "output_type": "stream",
          "name": "stdout",
          "text": [
            "(120, 4)\n",
            "\t\t(min, max)  (mean,std)\n",
            "Train_scaled (0.00, 1.00) ( 0.44, 0.26)\n"
          ]
        }
      ]
    },
    {
      "cell_type": "code",
      "source": [
        "X_train_sc_flat = X_train_sc.flatten()\n",
        "print(X_train_sc_flat.shape)\n",
        "#print(X_train_sc_flat)\n",
        "plt.hist(X_train_sc_flat, color='green', alpha=0.5)\n",
        "plt.title('MinMaxScaler')\n",
        "plt.show()"
      ],
      "metadata": {
        "colab": {
          "base_uri": "https://localhost:8080/",
          "height": 470
        },
        "id": "uMYG95O7qDr-",
        "outputId": "0ebf77c6-3765-4a63-c736-fc46253f6355"
      },
      "execution_count": 32,
      "outputs": [
        {
          "output_type": "stream",
          "name": "stdout",
          "text": [
            "(480,)\n"
          ]
        },
        {
          "output_type": "display_data",
          "data": {
            "text/plain": [
              "<Figure size 640x480 with 1 Axes>"
            ],
            "image/png": "[encoded data removed]"
          },
          "metadata": {}
        }
      ]
    },
    {
      "cell_type": "code",
      "source": [
        "xt = pd.DataFrame(X_train_sc).T"
      ],
      "metadata": {
        "id": "gmevFt_GqFke"
      },
      "execution_count": 33,
      "outputs": []
    },
    {
      "cell_type": "code",
      "source": [
        "xt.iloc[0, :].shape"
      ],
      "metadata": {
        "colab": {
          "base_uri": "https://localhost:8080/"
        },
        "id": "mfUq06g8qXed",
        "outputId": "c081a42e-1c4c-40b9-f213-2b9eb387987c"
      },
      "execution_count": 34,
      "outputs": [
        {
          "output_type": "execute_result",
          "data": {
            "text/plain": [
              "(120,)"
            ]
          },
          "metadata": {},
          "execution_count": 34
        }
      ]
    },
    {
      "cell_type": "code",
      "source": [
        "xt.shape"
      ],
      "metadata": {
        "colab": {
          "base_uri": "https://localhost:8080/"
        },
        "id": "vEU7WXKYqY8G",
        "outputId": "1c7e445e-d6ab-43e6-8155-749cea2c15ce"
      },
      "execution_count": 35,
      "outputs": [
        {
          "output_type": "execute_result",
          "data": {
            "text/plain": [
              "(4, 120)"
            ]
          },
          "metadata": {},
          "execution_count": 35
        }
      ]
    },
    {
      "cell_type": "code",
      "source": [
        "fig = sns.scatterplot(data=xt , x=xt.iloc[0,:], y=xt.iloc[1,:], hue=y_train)\n",
        "fig.figure.set_size_inches(10,6)"
      ],
      "metadata": {
        "colab": {
          "base_uri": "https://localhost:8080/",
          "height": 542
        },
        "id": "Mlc3PNR_qakm",
        "outputId": "89c01ca1-7f69-4ee6-b17f-1ac0ec1c1877"
      },
      "execution_count": 36,
      "outputs": [
        {
          "output_type": "display_data",
          "data": {
            "text/plain": [
              "<Figure size 1000x600 with 1 Axes>"
            ],
            "image/png": "[encoded data removed]"
          },
          "metadata": {}
        }
      ]
    },
    {
      "cell_type": "code",
      "source": [
        "from sklearn.preprocessing import MaxAbsScaler\n",
        "\n",
        "MaScaler = MaxAbsScaler()\n",
        "\n",
        "# Train 데이터의 fitting과 스케일링\n",
        "MaScaler.fit(X_train)\n",
        "X_train_sc = MaScaler.transform(X_train)\n",
        "\n",
        "\n",
        "print(\"\\t\\t(min, max) (mean, std)\")\n",
        "print(\"Train_scaled (%.2f, %.2f) (%.2f, %.2f)\"%(X_train_sc.min(), X_train_sc.max(),  X_train_sc.mean(),  X_train_sc.std()))"
      ],
      "metadata": {
        "colab": {
          "base_uri": "https://localhost:8080/"
        },
        "id": "TiuKZQ6rqn8u",
        "outputId": "03db06ba-9c73-482e-8ee1-8e076bf1b674"
      },
      "execution_count": 37,
      "outputs": [
        {
          "output_type": "stream",
          "name": "stdout",
          "text": [
            "\t\t(min, max) (mean, std)\n",
            "Train_scaled (0.04, 1.00) (0.61, 0.24)\n"
          ]
        }
      ]
    },
    {
      "cell_type": "code",
      "source": [
        "X_train_sc.shape"
      ],
      "metadata": {
        "colab": {
          "base_uri": "https://localhost:8080/"
        },
        "id": "zx-S7-o7qyde",
        "outputId": "6c3a92c9-81e9-46fb-fd8a-5ee3dd787653"
      },
      "execution_count": 40,
      "outputs": [
        {
          "output_type": "execute_result",
          "data": {
            "text/plain": [
              "(120, 4)"
            ]
          },
          "metadata": {},
          "execution_count": 40
        }
      ]
    },
    {
      "cell_type": "code",
      "source": [
        "xt = pd.DataFrame(X_train_sc.T)\n",
        "xt"
      ],
      "metadata": {
        "colab": {
          "base_uri": "https://localhost:8080/",
          "height": 224
        },
        "id": "ivSPMeFRuF7n",
        "outputId": "cf3b8123-31cf-407f-c690-cb319361ff1e"
      },
      "execution_count": 41,
      "outputs": [
        {
          "output_type": "execute_result",
          "data": {
            "text/plain": [
              "        0         1         2         3         4         5         6    \\\n",
              "0  0.658228  0.645570  0.645570  0.594937  0.848101  0.708861  0.911392   \n",
              "1  0.772727  0.795455  0.840909  0.727273  0.704545  0.636364  0.818182   \n",
              "2  0.202899  0.202899  0.217391  0.188406  0.811594  0.710145  0.884058   \n",
              "3  0.080000  0.080000  0.160000  0.080000  0.960000  0.800000  1.000000   \n",
              "\n",
              "        7         8         9    ...       110       111       112       113  \\\n",
              "0  0.645570  0.734177  0.886076  ...  0.873418  0.797468  0.936709  0.582278   \n",
              "1  0.795455  0.613636  0.727273  ...  0.704545  0.750000  0.636364  0.704545   \n",
              "2  0.202899  0.565217  0.681159  ...  0.739130  0.869565  0.884058  0.217391   \n",
              "3  0.120000  0.480000  0.560000  ...  0.920000  1.000000  0.760000  0.080000   \n",
              "\n",
              "        114       115       116       117       118       119  \n",
              "0  0.632911  0.632911  0.746835  0.772152  0.911392  0.721519  \n",
              "1  0.750000  0.795455  0.681818  0.681818  0.727273  0.863636  \n",
              "2  0.202899  0.231884  0.608696  0.710145  0.869565  0.246377  \n",
              "3  0.080000  0.240000  0.600000  0.720000  0.720000  0.120000  \n",
              "\n",
              "[4 rows x 120 columns]"
            ],
            "text/html": [
              "\n",
              "  <div id=\"df-24b038f1-56b1-4490-a927-2b5c506fa628\" class=\"colab-df-container\">\n",
              "    <div>\n",
              "<style scoped>\n",
              "    .dataframe tbody tr th:only-of-type {\n",
              "        vertical-align: middle;\n",
              "    }\n",
              "\n",
              "    .dataframe tbody tr th {\n",
              "        vertical-align: top;\n",
              "    }\n",
              "\n",
              "    .dataframe thead th {\n",
              "        text-align: right;\n",
              "    }\n",
              "</style>\n",
              "<table border=\"1\" class=\"dataframe\">\n",
              "  <thead>\n",
              "    <tr style=\"text-align: right;\">\n",
              "      <th></th>\n",
              "      <th>0</th>\n",
              "      <th>1</th>\n",
              "      <th>2</th>\n",
              "      <th>3</th>\n",
              "      <th>4</th>\n",
              "      <th>5</th>\n",
              "      <th>6</th>\n",
              "      <th>7</th>\n",
              "      <th>8</th>\n",
              "      <th>9</th>\n",
              "      <th>...</th>\n",
              "      <th>110</th>\n",
              "      <th>111</th>\n",
              "      <th>112</th>\n",
              "      <th>113</th>\n",
              "      <th>114</th>\n",
              "      <th>115</th>\n",
              "      <th>116</th>\n",
              "      <th>117</th>\n",
              "      <th>118</th>\n",
              "      <th>119</th>\n",
              "    </tr>\n",
              "  </thead>\n",
              "  <tbody>\n",
              "    <tr>\n",
              "      <th>0</th>\n",
              "      <td>0.658228</td>\n",
              "      <td>0.645570</td>\n",
              "      <td>0.645570</td>\n",
              "      <td>0.594937</td>\n",
              "      <td>0.848101</td>\n",
              "      <td>0.708861</td>\n",
              "      <td>0.911392</td>\n",
              "      <td>0.645570</td>\n",
              "      <td>0.734177</td>\n",
              "      <td>0.886076</td>\n",
              "      <td>...</td>\n",
              "      <td>0.873418</td>\n",
              "      <td>0.797468</td>\n",
              "      <td>0.936709</td>\n",
              "      <td>0.582278</td>\n",
              "      <td>0.632911</td>\n",
              "      <td>0.632911</td>\n",
              "      <td>0.746835</td>\n",
              "      <td>0.772152</td>\n",
              "      <td>0.911392</td>\n",
              "      <td>0.721519</td>\n",
              "    </tr>\n",
              "    <tr>\n",
              "      <th>1</th>\n",
              "      <td>0.772727</td>\n",
              "      <td>0.795455</td>\n",
              "      <td>0.840909</td>\n",
              "      <td>0.727273</td>\n",
              "      <td>0.704545</td>\n",
              "      <td>0.636364</td>\n",
              "      <td>0.818182</td>\n",
              "      <td>0.795455</td>\n",
              "      <td>0.613636</td>\n",
              "      <td>0.727273</td>\n",
              "      <td>...</td>\n",
              "      <td>0.704545</td>\n",
              "      <td>0.750000</td>\n",
              "      <td>0.636364</td>\n",
              "      <td>0.704545</td>\n",
              "      <td>0.750000</td>\n",
              "      <td>0.795455</td>\n",
              "      <td>0.681818</td>\n",
              "      <td>0.681818</td>\n",
              "      <td>0.727273</td>\n",
              "      <td>0.863636</td>\n",
              "    </tr>\n",
              "    <tr>\n",
              "      <th>2</th>\n",
              "      <td>0.202899</td>\n",
              "      <td>0.202899</td>\n",
              "      <td>0.217391</td>\n",
              "      <td>0.188406</td>\n",
              "      <td>0.811594</td>\n",
              "      <td>0.710145</td>\n",
              "      <td>0.884058</td>\n",
              "      <td>0.202899</td>\n",
              "      <td>0.565217</td>\n",
              "      <td>0.681159</td>\n",
              "      <td>...</td>\n",
              "      <td>0.739130</td>\n",
              "      <td>0.869565</td>\n",
              "      <td>0.884058</td>\n",
              "      <td>0.217391</td>\n",
              "      <td>0.202899</td>\n",
              "      <td>0.231884</td>\n",
              "      <td>0.608696</td>\n",
              "      <td>0.710145</td>\n",
              "      <td>0.869565</td>\n",
              "      <td>0.246377</td>\n",
              "    </tr>\n",
              "    <tr>\n",
              "      <th>3</th>\n",
              "      <td>0.080000</td>\n",
              "      <td>0.080000</td>\n",
              "      <td>0.160000</td>\n",
              "      <td>0.080000</td>\n",
              "      <td>0.960000</td>\n",
              "      <td>0.800000</td>\n",
              "      <td>1.000000</td>\n",
              "      <td>0.120000</td>\n",
              "      <td>0.480000</td>\n",
              "      <td>0.560000</td>\n",
              "      <td>...</td>\n",
              "      <td>0.920000</td>\n",
              "      <td>1.000000</td>\n",
              "      <td>0.760000</td>\n",
              "      <td>0.080000</td>\n",
              "      <td>0.080000</td>\n",
              "      <td>0.240000</td>\n",
              "      <td>0.600000</td>\n",
              "      <td>0.720000</td>\n",
              "      <td>0.720000</td>\n",
              "      <td>0.120000</td>\n",
              "    </tr>\n",
              "  </tbody>\n",
              "</table>\n",
              "<p>4 rows × 120 columns</p>\n",
              "</div>\n",
              "    <div class=\"colab-df-buttons\">\n",
              "\n",
              "  <div class=\"colab-df-container\">\n",
              "    <button class=\"colab-df-convert\" onclick=\"convertToInteractive('df-24b038f1-56b1-4490-a927-2b5c506fa628')\"\n",
              "            title=\"Convert this dataframe to an interactive table.\"\n",
              "            style=\"display:none;\">\n",
              "\n",
              "  <svg xmlns=\"http://www.w3.org/2000/svg\" height=\"24px\" viewBox=\"0 -960 960 960\">\n",
              "    <path d=\"M120-120v-720h720v720H120Zm60-500h600v-160H180v160Zm220 220h160v-160H400v160Zm0 220h160v-160H400v160ZM180-400h160v-160H180v160Zm440 0h160v-160H620v160ZM180-180h160v-160H180v160Zm440 0h160v-160H620v160Z\"/>\n",
              "  </svg>\n",
              "    </button>\n",
              "\n",
              "  <style>\n",
              "    .colab-df-container {\n",
              "      display:flex;\n",
              "      gap: 12px;\n",
              "    }\n",
              "\n",
              "    .colab-df-convert {\n",
              "      background-color: #E8F0FE;\n",
              "      border: none;\n",
              "      border-radius: 50%;\n",
              "      cursor: pointer;\n",
              "      display: none;\n",
              "      fill: #1967D2;\n",
              "      height: 32px;\n",
              "      padding: 0 0 0 0;\n",
              "      width: 32px;\n",
              "    }\n",
              "\n",
              "    .colab-df-convert:hover {\n",
              "      background-color: #E2EBFA;\n",
              "      box-shadow: 0px 1px 2px rgba(60, 64, 67, 0.3), 0px 1px 3px 1px rgba(60, 64, 67, 0.15);\n",
              "      fill: #174EA6;\n",
              "    }\n",
              "\n",
              "    .colab-df-buttons div {\n",
              "      margin-bottom: 4px;\n",
              "    }\n",
              "\n",
              "    [theme=dark] .colab-df-convert {\n",
              "      background-color: #3B4455;\n",
              "      fill: #D2E3FC;\n",
              "    }\n",
              "\n",
              "    [theme=dark] .colab-df-convert:hover {\n",
              "      background-color: #434B5C;\n",
              "      box-shadow: 0px 1px 3px 1px rgba(0, 0, 0, 0.15);\n",
              "      filter: drop-shadow(0px 1px 2px rgba(0, 0, 0, 0.3));\n",
              "      fill: #FFFFFF;\n",
              "    }\n",
              "  </style>\n",
              "\n",
              "    <script>\n",
              "      const buttonEl =\n",
              "        document.querySelector('#df-24b038f1-56b1-4490-a927-2b5c506fa628 button.colab-df-convert');\n",
              "      buttonEl.style.display =\n",
              "        google.colab.kernel.accessAllowed ? 'block' : 'none';\n",
              "\n",
              "      async function convertToInteractive(key) {\n",
              "        const element = document.querySelector('#df-24b038f1-56b1-4490-a927-2b5c506fa628');\n",
              "        const dataTable =\n",
              "          await google.colab.kernel.invokeFunction('convertToInteractive',\n",
              "                                                    [key], {});\n",
              "        if (!dataTable) return;\n",
              "\n",
              "        const docLinkHtml = 'Like what you see? Visit the ' +\n",
              "          '<a target=\"_blank\" href=https://colab.research.google.com/notebooks/data_table.ipynb>data table notebook</a>'\n",
              "          + ' to learn more about interactive tables.';\n",
              "        element.innerHTML = '';\n",
              "        dataTable['output_type'] = 'display_data';\n",
              "        await google.colab.output.renderOutput(dataTable, element);\n",
              "        const docLink = document.createElement('div');\n",
              "        docLink.innerHTML = docLinkHtml;\n",
              "        element.appendChild(docLink);\n",
              "      }\n",
              "    </script>\n",
              "  </div>\n",
              "\n",
              "\n",
              "    <div id=\"df-af5bde60-5553-473b-975d-b3c3a9656ced\">\n",
              "      <button class=\"colab-df-quickchart\" onclick=\"quickchart('df-af5bde60-5553-473b-975d-b3c3a9656ced')\"\n",
              "                title=\"Suggest charts\"\n",
              "                style=\"display:none;\">\n",
              "\n",
              "<svg xmlns=\"http://www.w3.org/2000/svg\" height=\"24px\"viewBox=\"0 0 24 24\"\n",
              "     width=\"24px\">\n",
              "    <g>\n",
              "        <path d=\"M19 3H5c-1.1 0-2 .9-2 2v14c0 1.1.9 2 2 2h14c1.1 0 2-.9 2-2V5c0-1.1-.9-2-2-2zM9 17H7v-7h2v7zm4 0h-2V7h2v10zm4 0h-2v-4h2v4z\"/>\n",
              "    </g>\n",
              "</svg>\n",
              "      </button>\n",
              "\n",
              "<style>\n",
              "  .colab-df-quickchart {\n",
              "      --bg-color: #E8F0FE;\n",
              "      --fill-color: #1967D2;\n",
              "      --hover-bg-color: #E2EBFA;\n",
              "      --hover-fill-color: #174EA6;\n",
              "      --disabled-fill-color: #AAA;\n",
              "      --disabled-bg-color: #DDD;\n",
              "  }\n",
              "\n",
              "  [theme=dark] .colab-df-quickchart {\n",
              "      --bg-color: #3B4455;\n",
              "      --fill-color: #D2E3FC;\n",
              "      --hover-bg-color: #434B5C;\n",
              "      --hover-fill-color: #FFFFFF;\n",
              "      --disabled-bg-color: #3B4455;\n",
              "      --disabled-fill-color: #666;\n",
              "  }\n",
              "\n",
              "  .colab-df-quickchart {\n",
              "    background-color: var(--bg-color);\n",
              "    border: none;\n",
              "    border-radius: 50%;\n",
              "    cursor: pointer;\n",
              "    display: none;\n",
              "    fill: var(--fill-color);\n",
              "    height: 32px;\n",
              "    padding: 0;\n",
              "    width: 32px;\n",
              "  }\n",
              "\n",
              "  .colab-df-quickchart:hover {\n",
              "    background-color: var(--hover-bg-color);\n",
              "    box-shadow: 0 1px 2px rgba(60, 64, 67, 0.3), 0 1px 3px 1px rgba(60, 64, 67, 0.15);\n",
              "    fill: var(--button-hover-fill-color);\n",
              "  }\n",
              "\n",
              "  .colab-df-quickchart-complete:disabled,\n",
              "  .colab-df-quickchart-complete:disabled:hover {\n",
              "    background-color: var(--disabled-bg-color);\n",
              "    fill: var(--disabled-fill-color);\n",
              "    box-shadow: none;\n",
              "  }\n",
              "\n",
              "  .colab-df-spinner {\n",
              "    border: 2px solid var(--fill-color);\n",
              "    border-color: transparent;\n",
              "    border-bottom-color: var(--fill-color);\n",
              "    animation:\n",
              "      spin 1s steps(1) infinite;\n",
              "  }\n",
              "\n",
              "  @keyframes spin {\n",
              "    0% {\n",
              "      border-color: transparent;\n",
              "      border-bottom-color: var(--fill-color);\n",
              "      border-left-color: var(--fill-color);\n",
              "    }\n",
              "    20% {\n",
              "      border-color: transparent;\n",
              "      border-left-color: var(--fill-color);\n",
              "      border-top-color: var(--fill-color);\n",
              "    }\n",
              "    30% {\n",
              "      border-color: transparent;\n",
              "      border-left-color: var(--fill-color);\n",
              "      border-top-color: var(--fill-color);\n",
              "      border-right-color: var(--fill-color);\n",
              "    }\n",
              "    40% {\n",
              "      border-color: transparent;\n",
              "      border-right-color: var(--fill-color);\n",
              "      border-top-color: var(--fill-color);\n",
              "    }\n",
              "    60% {\n",
              "      border-color: transparent;\n",
              "      border-right-color: var(--fill-color);\n",
              "    }\n",
              "    80% {\n",
              "      border-color: transparent;\n",
              "      border-right-color: var(--fill-color);\n",
              "      border-bottom-color: var(--fill-color);\n",
              "    }\n",
              "    90% {\n",
              "      border-color: transparent;\n",
              "      border-bottom-color: var(--fill-color);\n",
              "    }\n",
              "  }\n",
              "</style>\n",
              "\n",
              "      <script>\n",
              "        async function quickchart(key) {\n",
              "          const quickchartButtonEl =\n",
              "            document.querySelector('#' + key + ' button');\n",
              "          quickchartButtonEl.disabled = true;  // To prevent multiple clicks.\n",
              "          quickchartButtonEl.classList.add('colab-df-spinner');\n",
              "          try {\n",
              "            const charts = await google.colab.kernel.invokeFunction(\n",
              "                'suggestCharts', [key], {});\n",
              "          } catch (error) {\n",
              "            console.error('Error during call to suggestCharts:', error);\n",
              "          }\n",
              "          quickchartButtonEl.classList.remove('colab-df-spinner');\n",
              "          quickchartButtonEl.classList.add('colab-df-quickchart-complete');\n",
              "        }\n",
              "        (() => {\n",
              "          let quickchartButtonEl =\n",
              "            document.querySelector('#df-af5bde60-5553-473b-975d-b3c3a9656ced button');\n",
              "          quickchartButtonEl.style.display =\n",
              "            google.colab.kernel.accessAllowed ? 'block' : 'none';\n",
              "        })();\n",
              "      </script>\n",
              "    </div>\n",
              "\n",
              "  <div id=\"id_0aed084c-acc3-4ff4-9094-f20a89b60bea\">\n",
              "    <style>\n",
              "      .colab-df-generate {\n",
              "        background-color: #E8F0FE;\n",
              "        border: none;\n",
              "        border-radius: 50%;\n",
              "        cursor: pointer;\n",
              "        display: none;\n",
              "        fill: #1967D2;\n",
              "        height: 32px;\n",
              "        padding: 0 0 0 0;\n",
              "        width: 32px;\n",
              "      }\n",
              "\n",
              "      .colab-df-generate:hover {\n",
              "        background-color: #E2EBFA;\n",
              "        box-shadow: 0px 1px 2px rgba(60, 64, 67, 0.3), 0px 1px 3px 1px rgba(60, 64, 67, 0.15);\n",
              "        fill: #174EA6;\n",
              "      }\n",
              "\n",
              "      [theme=dark] .colab-df-generate {\n",
              "        background-color: #3B4455;\n",
              "        fill: #D2E3FC;\n",
              "      }\n",
              "\n",
              "      [theme=dark] .colab-df-generate:hover {\n",
              "        background-color: #434B5C;\n",
              "        box-shadow: 0px 1px 3px 1px rgba(0, 0, 0, 0.15);\n",
              "        filter: drop-shadow(0px 1px 2px rgba(0, 0, 0, 0.3));\n",
              "        fill: #FFFFFF;\n",
              "      }\n",
              "    </style>\n",
              "    <button class=\"colab-df-generate\" onclick=\"generateWithVariable('xt')\"\n",
              "            title=\"Generate code using this dataframe.\"\n",
              "            style=\"display:none;\">\n",
              "\n",
              "  <svg xmlns=\"http://www.w3.org/2000/svg\" height=\"24px\"viewBox=\"0 0 24 24\"\n",
              "       width=\"24px\">\n",
              "    <path d=\"M7,19H8.4L18.45,9,17,7.55,7,17.6ZM5,21V16.75L18.45,3.32a2,2,0,0,1,2.83,0l1.4,1.43a1.91,1.91,0,0,1,.58,1.4,1.91,1.91,0,0,1-.58,1.4L9.25,21ZM18.45,9,17,7.55Zm-12,3A5.31,5.31,0,0,0,4.9,8.1,5.31,5.31,0,0,0,1,6.5,5.31,5.31,0,0,0,4.9,4.9,5.31,5.31,0,0,0,6.5,1,5.31,5.31,0,0,0,8.1,4.9,5.31,5.31,0,0,0,12,6.5,5.46,5.46,0,0,0,6.5,12Z\"/>\n",
              "  </svg>\n",
              "    </button>\n",
              "    <script>\n",
              "      (() => {\n",
              "      const buttonEl =\n",
              "        document.querySelector('#id_0aed084c-acc3-4ff4-9094-f20a89b60bea button.colab-df-generate');\n",
              "      buttonEl.style.display =\n",
              "        google.colab.kernel.accessAllowed ? 'block' : 'none';\n",
              "\n",
              "      buttonEl.onclick = () => {\n",
              "        google.colab.notebook.generateWithVariable('xt');\n",
              "      }\n",
              "      })();\n",
              "    </script>\n",
              "  </div>\n",
              "\n",
              "    </div>\n",
              "  </div>\n"
            ],
            "application/vnd.google.colaboratory.intrinsic+json": {
              "type": "dataframe",
              "variable_name": "xt"
            }
          },
          "metadata": {},
          "execution_count": 41
        }
      ]
    },
    {
      "cell_type": "code",
      "source": [
        "xt.shape"
      ],
      "metadata": {
        "colab": {
          "base_uri": "https://localhost:8080/"
        },
        "id": "9YRm7TbzuHin",
        "outputId": "bd4244fd-f05f-478a-b104-fcc08143f987"
      },
      "execution_count": 42,
      "outputs": [
        {
          "output_type": "execute_result",
          "data": {
            "text/plain": [
              "(4, 120)"
            ]
          },
          "metadata": {},
          "execution_count": 42
        }
      ]
    },
    {
      "cell_type": "code",
      "source": [
        "fig = sns.scatterplot(data=xt , x=xt.iloc[0,:], y=xt.iloc[1,:], hue=y_train)\n",
        "fig.figure.set_size_inches(10,6)"
      ],
      "metadata": {
        "colab": {
          "base_uri": "https://localhost:8080/",
          "height": 542
        },
        "id": "uhq278nluJAf",
        "outputId": "dd3884e1-57e8-4035-f9d4-d8d624cd1943"
      },
      "execution_count": 43,
      "outputs": [
        {
          "output_type": "display_data",
          "data": {
            "text/plain": [
              "<Figure size 1000x600 with 1 Axes>"
            ],
            "image/png": "[encoded data removed]"
          },
          "metadata": {}
        }
      ]
    },
    {
      "cell_type": "code",
      "source": [
        "from sklearn.preprocessing import RobustScaler\n",
        "\n",
        "RuScaler = RobustScaler()\n",
        "\n",
        "# Train 데이터의 fitting과 스케일링\n",
        "RuScaler.fit(X_train)\n",
        "X_train_sc = RuScaler.transform(X_train)\n",
        "\n",
        "print(\"\\t\\t(min, max) (mean, std)\")\n",
        "print(\"Train_scaled (%.2f, %.2f) (%.2f, %.2f)\"%(X_train_sc.min(), X_train_sc.max(),  X_train_sc.mean(),  X_train_sc.std()))"
      ],
      "metadata": {
        "colab": {
          "base_uri": "https://localhost:8080/"
        },
        "id": "v6Zlld8JuK7_",
        "outputId": "f5d82f36-1600-478f-ab55-29caf3ba8ee2"
      },
      "execution_count": 44,
      "outputs": [
        {
          "output_type": "stream",
          "name": "stdout",
          "text": [
            "\t\t(min, max) (mean, std)\n",
            "Train_scaled (-2.00, 2.80) (-0.00, 0.66)\n"
          ]
        }
      ]
    },
    {
      "cell_type": "code",
      "source": [
        "xt = pd.DataFrame(X_train_sc.T)\n",
        "xt"
      ],
      "metadata": {
        "colab": {
          "base_uri": "https://localhost:8080/",
          "height": 224
        },
        "id": "N0QCh5rWuYU_",
        "outputId": "b6acfdc8-c4d2-4381-d4ba-6235ce6838cb"
      },
      "execution_count": 45,
      "outputs": [
        {
          "output_type": "execute_result",
          "data": {
            "text/plain": [
              "        0         1        2         3         4         5         6    \\\n",
              "0 -0.377358 -0.452830 -0.45283 -0.754717  0.754717 -0.075472  1.132075   \n",
              "1  0.800000  1.000000  1.40000  0.400000  0.200000 -0.400000  1.200000   \n",
              "2 -0.828571 -0.828571 -0.80000 -0.857143  0.371429  0.171429  0.514286   \n",
              "3 -0.733333 -0.733333 -0.60000 -0.733333  0.733333  0.466667  0.800000   \n",
              "\n",
              "        7         8         9    ...       110       111       112       113  \\\n",
              "0 -0.452830  0.075472  0.981132  ...  0.905660  0.452830  1.283019 -0.830189   \n",
              "1  1.000000 -0.600000  0.400000  ...  0.200000  0.600000 -0.400000  0.200000   \n",
              "2 -0.828571 -0.114286  0.114286  ...  0.228571  0.485714  0.514286 -0.800000   \n",
              "3 -0.666667 -0.066667  0.066667  ...  0.666667  0.800000  0.400000 -0.733333   \n",
              "\n",
              "        114       115       116       117       118       119  \n",
              "0 -0.528302 -0.528302  0.150943  0.301887  1.132075  0.000000  \n",
              "1  0.600000  1.000000  0.000000  0.000000  0.400000  1.600000  \n",
              "2 -0.828571 -0.771429 -0.028571  0.171429  0.485714 -0.742857  \n",
              "3 -0.733333 -0.466667  0.133333  0.333333  0.333333 -0.666667  \n",
              "\n",
              "[4 rows x 120 columns]"
            ],
            "text/html": [
              "\n",
              "  <div id=\"df-991258f7-997e-462b-bdff-9ece74d70030\" class=\"colab-df-container\">\n",
              "    <div>\n",
              "<style scoped>\n",
              "    .dataframe tbody tr th:only-of-type {\n",
              "        vertical-align: middle;\n",
              "    }\n",
              "\n",
              "    .dataframe tbody tr th {\n",
              "        vertical-align: top;\n",
              "    }\n",
              "\n",
              "    .dataframe thead th {\n",
              "        text-align: right;\n",
              "    }\n",
              "</style>\n",
              "<table border=\"1\" class=\"dataframe\">\n",
              "  <thead>\n",
              "    <tr style=\"text-align: right;\">\n",
              "      <th></th>\n",
              "      <th>0</th>\n",
              "      <th>1</th>\n",
              "      <th>2</th>\n",
              "      <th>3</th>\n",
              "      <th>4</th>\n",
              "      <th>5</th>\n",
              "      <th>6</th>\n",
              "      <th>7</th>\n",
              "      <th>8</th>\n",
              "      <th>9</th>\n",
              "      <th>...</th>\n",
              "      <th>110</th>\n",
              "      <th>111</th>\n",
              "      <th>112</th>\n",
              "      <th>113</th>\n",
              "      <th>114</th>\n",
              "      <th>115</th>\n",
              "      <th>116</th>\n",
              "      <th>117</th>\n",
              "      <th>118</th>\n",
              "      <th>119</th>\n",
              "    </tr>\n",
              "  </thead>\n",
              "  <tbody>\n",
              "    <tr>\n",
              "      <th>0</th>\n",
              "      <td>-0.377358</td>\n",
              "      <td>-0.452830</td>\n",
              "      <td>-0.45283</td>\n",
              "      <td>-0.754717</td>\n",
              "      <td>0.754717</td>\n",
              "      <td>-0.075472</td>\n",
              "      <td>1.132075</td>\n",
              "      <td>-0.452830</td>\n",
              "      <td>0.075472</td>\n",
              "      <td>0.981132</td>\n",
              "      <td>...</td>\n",
              "      <td>0.905660</td>\n",
              "      <td>0.452830</td>\n",
              "      <td>1.283019</td>\n",
              "      <td>-0.830189</td>\n",
              "      <td>-0.528302</td>\n",
              "      <td>-0.528302</td>\n",
              "      <td>0.150943</td>\n",
              "      <td>0.301887</td>\n",
              "      <td>1.132075</td>\n",
              "      <td>0.000000</td>\n",
              "    </tr>\n",
              "    <tr>\n",
              "      <th>1</th>\n",
              "      <td>0.800000</td>\n",
              "      <td>1.000000</td>\n",
              "      <td>1.40000</td>\n",
              "      <td>0.400000</td>\n",
              "      <td>0.200000</td>\n",
              "      <td>-0.400000</td>\n",
              "      <td>1.200000</td>\n",
              "      <td>1.000000</td>\n",
              "      <td>-0.600000</td>\n",
              "      <td>0.400000</td>\n",
              "      <td>...</td>\n",
              "      <td>0.200000</td>\n",
              "      <td>0.600000</td>\n",
              "      <td>-0.400000</td>\n",
              "      <td>0.200000</td>\n",
              "      <td>0.600000</td>\n",
              "      <td>1.000000</td>\n",
              "      <td>0.000000</td>\n",
              "      <td>0.000000</td>\n",
              "      <td>0.400000</td>\n",
              "      <td>1.600000</td>\n",
              "    </tr>\n",
              "    <tr>\n",
              "      <th>2</th>\n",
              "      <td>-0.828571</td>\n",
              "      <td>-0.828571</td>\n",
              "      <td>-0.80000</td>\n",
              "      <td>-0.857143</td>\n",
              "      <td>0.371429</td>\n",
              "      <td>0.171429</td>\n",
              "      <td>0.514286</td>\n",
              "      <td>-0.828571</td>\n",
              "      <td>-0.114286</td>\n",
              "      <td>0.114286</td>\n",
              "      <td>...</td>\n",
              "      <td>0.228571</td>\n",
              "      <td>0.485714</td>\n",
              "      <td>0.514286</td>\n",
              "      <td>-0.800000</td>\n",
              "      <td>-0.828571</td>\n",
              "      <td>-0.771429</td>\n",
              "      <td>-0.028571</td>\n",
              "      <td>0.171429</td>\n",
              "      <td>0.485714</td>\n",
              "      <td>-0.742857</td>\n",
              "    </tr>\n",
              "    <tr>\n",
              "      <th>3</th>\n",
              "      <td>-0.733333</td>\n",
              "      <td>-0.733333</td>\n",
              "      <td>-0.60000</td>\n",
              "      <td>-0.733333</td>\n",
              "      <td>0.733333</td>\n",
              "      <td>0.466667</td>\n",
              "      <td>0.800000</td>\n",
              "      <td>-0.666667</td>\n",
              "      <td>-0.066667</td>\n",
              "      <td>0.066667</td>\n",
              "      <td>...</td>\n",
              "      <td>0.666667</td>\n",
              "      <td>0.800000</td>\n",
              "      <td>0.400000</td>\n",
              "      <td>-0.733333</td>\n",
              "      <td>-0.733333</td>\n",
              "      <td>-0.466667</td>\n",
              "      <td>0.133333</td>\n",
              "      <td>0.333333</td>\n",
              "      <td>0.333333</td>\n",
              "      <td>-0.666667</td>\n",
              "    </tr>\n",
              "  </tbody>\n",
              "</table>\n",
              "<p>4 rows × 120 columns</p>\n",
              "</div>\n",
              "    <div class=\"colab-df-buttons\">\n",
              "\n",
              "  <div class=\"colab-df-container\">\n",
              "    <button class=\"colab-df-convert\" onclick=\"convertToInteractive('df-991258f7-997e-462b-bdff-9ece74d70030')\"\n",
              "            title=\"Convert this dataframe to an interactive table.\"\n",
              "            style=\"display:none;\">\n",
              "\n",
              "  <svg xmlns=\"http://www.w3.org/2000/svg\" height=\"24px\" viewBox=\"0 -960 960 960\">\n",
              "    <path d=\"M120-120v-720h720v720H120Zm60-500h600v-160H180v160Zm220 220h160v-160H400v160Zm0 220h160v-160H400v160ZM180-400h160v-160H180v160Zm440 0h160v-160H620v160ZM180-180h160v-160H180v160Zm440 0h160v-160H620v160Z\"/>\n",
              "  </svg>\n",
              "    </button>\n",
              "\n",
              "  <style>\n",
              "    .colab-df-container {\n",
              "      display:flex;\n",
              "      gap: 12px;\n",
              "    }\n",
              "\n",
              "    .colab-df-convert {\n",
              "      background-color: #E8F0FE;\n",
              "      border: none;\n",
              "      border-radius: 50%;\n",
              "      cursor: pointer;\n",
              "      display: none;\n",
              "      fill: #1967D2;\n",
              "      height: 32px;\n",
              "      padding: 0 0 0 0;\n",
              "      width: 32px;\n",
              "    }\n",
              "\n",
              "    .colab-df-convert:hover {\n",
              "      background-color: #E2EBFA;\n",
              "      box-shadow: 0px 1px 2px rgba(60, 64, 67, 0.3), 0px 1px 3px 1px rgba(60, 64, 67, 0.15);\n",
              "      fill: #174EA6;\n",
              "    }\n",
              "\n",
              "    .colab-df-buttons div {\n",
              "      margin-bottom: 4px;\n",
              "    }\n",
              "\n",
              "    [theme=dark] .colab-df-convert {\n",
              "      background-color: #3B4455;\n",
              "      fill: #D2E3FC;\n",
              "    }\n",
              "\n",
              "    [theme=dark] .colab-df-convert:hover {\n",
              "      background-color: #434B5C;\n",
              "      box-shadow: 0px 1px 3px 1px rgba(0, 0, 0, 0.15);\n",
              "      filter: drop-shadow(0px 1px 2px rgba(0, 0, 0, 0.3));\n",
              "      fill: #FFFFFF;\n",
              "    }\n",
              "  </style>\n",
              "\n",
              "    <script>\n",
              "      const buttonEl =\n",
              "        document.querySelector('#df-991258f7-997e-462b-bdff-9ece74d70030 button.colab-df-convert');\n",
              "      buttonEl.style.display =\n",
              "        google.colab.kernel.accessAllowed ? 'block' : 'none';\n",
              "\n",
              "      async function convertToInteractive(key) {\n",
              "        const element = document.querySelector('#df-991258f7-997e-462b-bdff-9ece74d70030');\n",
              "        const dataTable =\n",
              "          await google.colab.kernel.invokeFunction('convertToInteractive',\n",
              "                                                    [key], {});\n",
              "        if (!dataTable) return;\n",
              "\n",
              "        const docLinkHtml = 'Like what you see? Visit the ' +\n",
              "          '<a target=\"_blank\" href=https://colab.research.google.com/notebooks/data_table.ipynb>data table notebook</a>'\n",
              "          + ' to learn more about interactive tables.';\n",
              "        element.innerHTML = '';\n",
              "        dataTable['output_type'] = 'display_data';\n",
              "        await google.colab.output.renderOutput(dataTable, element);\n",
              "        const docLink = document.createElement('div');\n",
              "        docLink.innerHTML = docLinkHtml;\n",
              "        element.appendChild(docLink);\n",
              "      }\n",
              "    </script>\n",
              "  </div>\n",
              "\n",
              "\n",
              "    <div id=\"df-bb958ab2-9bb3-4f80-bff0-96e3a8b6cf66\">\n",
              "      <button class=\"colab-df-quickchart\" onclick=\"quickchart('df-bb958ab2-9bb3-4f80-bff0-96e3a8b6cf66')\"\n",
              "                title=\"Suggest charts\"\n",
              "                style=\"display:none;\">\n",
              "\n",
              "<svg xmlns=\"http://www.w3.org/2000/svg\" height=\"24px\"viewBox=\"0 0 24 24\"\n",
              "     width=\"24px\">\n",
              "    <g>\n",
              "        <path d=\"M19 3H5c-1.1 0-2 .9-2 2v14c0 1.1.9 2 2 2h14c1.1 0 2-.9 2-2V5c0-1.1-.9-2-2-2zM9 17H7v-7h2v7zm4 0h-2V7h2v10zm4 0h-2v-4h2v4z\"/>\n",
              "    </g>\n",
              "</svg>\n",
              "      </button>\n",
              "\n",
              "<style>\n",
              "  .colab-df-quickchart {\n",
              "      --bg-color: #E8F0FE;\n",
              "      --fill-color: #1967D2;\n",
              "      --hover-bg-color: #E2EBFA;\n",
              "      --hover-fill-color: #174EA6;\n",
              "      --disabled-fill-color: #AAA;\n",
              "      --disabled-bg-color: #DDD;\n",
              "  }\n",
              "\n",
              "  [theme=dark] .colab-df-quickchart {\n",
              "      --bg-color: #3B4455;\n",
              "      --fill-color: #D2E3FC;\n",
              "      --hover-bg-color: #434B5C;\n",
              "      --hover-fill-color: #FFFFFF;\n",
              "      --disabled-bg-color: #3B4455;\n",
              "      --disabled-fill-color: #666;\n",
              "  }\n",
              "\n",
              "  .colab-df-quickchart {\n",
              "    background-color: var(--bg-color);\n",
              "    border: none;\n",
              "    border-radius: 50%;\n",
              "    cursor: pointer;\n",
              "    display: none;\n",
              "    fill: var(--fill-color);\n",
              "    height: 32px;\n",
              "    padding: 0;\n",
              "    width: 32px;\n",
              "  }\n",
              "\n",
              "  .colab-df-quickchart:hover {\n",
              "    background-color: var(--hover-bg-color);\n",
              "    box-shadow: 0 1px 2px rgba(60, 64, 67, 0.3), 0 1px 3px 1px rgba(60, 64, 67, 0.15);\n",
              "    fill: var(--button-hover-fill-color);\n",
              "  }\n",
              "\n",
              "  .colab-df-quickchart-complete:disabled,\n",
              "  .colab-df-quickchart-complete:disabled:hover {\n",
              "    background-color: var(--disabled-bg-color);\n",
              "    fill: var(--disabled-fill-color);\n",
              "    box-shadow: none;\n",
              "  }\n",
              "\n",
              "  .colab-df-spinner {\n",
              "    border: 2px solid var(--fill-color);\n",
              "    border-color: transparent;\n",
              "    border-bottom-color: var(--fill-color);\n",
              "    animation:\n",
              "      spin 1s steps(1) infinite;\n",
              "  }\n",
              "\n",
              "  @keyframes spin {\n",
              "    0% {\n",
              "      border-color: transparent;\n",
              "      border-bottom-color: var(--fill-color);\n",
              "      border-left-color: var(--fill-color);\n",
              "    }\n",
              "    20% {\n",
              "      border-color: transparent;\n",
              "      border-left-color: var(--fill-color);\n",
              "      border-top-color: var(--fill-color);\n",
              "    }\n",
              "    30% {\n",
              "      border-color: transparent;\n",
              "      border-left-color: var(--fill-color);\n",
              "      border-top-color: var(--fill-color);\n",
              "      border-right-color: var(--fill-color);\n",
              "    }\n",
              "    40% {\n",
              "      border-color: transparent;\n",
              "      border-right-color: var(--fill-color);\n",
              "      border-top-color: var(--fill-color);\n",
              "    }\n",
              "    60% {\n",
              "      border-color: transparent;\n",
              "      border-right-color: var(--fill-color);\n",
              "    }\n",
              "    80% {\n",
              "      border-color: transparent;\n",
              "      border-right-color: var(--fill-color);\n",
              "      border-bottom-color: var(--fill-color);\n",
              "    }\n",
              "    90% {\n",
              "      border-color: transparent;\n",
              "      border-bottom-color: var(--fill-color);\n",
              "    }\n",
              "  }\n",
              "</style>\n",
              "\n",
              "      <script>\n",
              "        async function quickchart(key) {\n",
              "          const quickchartButtonEl =\n",
              "            document.querySelector('#' + key + ' button');\n",
              "          quickchartButtonEl.disabled = true;  // To prevent multiple clicks.\n",
              "          quickchartButtonEl.classList.add('colab-df-spinner');\n",
              "          try {\n",
              "            const charts = await google.colab.kernel.invokeFunction(\n",
              "                'suggestCharts', [key], {});\n",
              "          } catch (error) {\n",
              "            console.error('Error during call to suggestCharts:', error);\n",
              "          }\n",
              "          quickchartButtonEl.classList.remove('colab-df-spinner');\n",
              "          quickchartButtonEl.classList.add('colab-df-quickchart-complete');\n",
              "        }\n",
              "        (() => {\n",
              "          let quickchartButtonEl =\n",
              "            document.querySelector('#df-bb958ab2-9bb3-4f80-bff0-96e3a8b6cf66 button');\n",
              "          quickchartButtonEl.style.display =\n",
              "            google.colab.kernel.accessAllowed ? 'block' : 'none';\n",
              "        })();\n",
              "      </script>\n",
              "    </div>\n",
              "\n",
              "  <div id=\"id_6ae526bf-4e18-4ff8-8237-78e6a5b46a5f\">\n",
              "    <style>\n",
              "      .colab-df-generate {\n",
              "        background-color: #E8F0FE;\n",
              "        border: none;\n",
              "        border-radius: 50%;\n",
              "        cursor: pointer;\n",
              "        display: none;\n",
              "        fill: #1967D2;\n",
              "        height: 32px;\n",
              "        padding: 0 0 0 0;\n",
              "        width: 32px;\n",
              "      }\n",
              "\n",
              "      .colab-df-generate:hover {\n",
              "        background-color: #E2EBFA;\n",
              "        box-shadow: 0px 1px 2px rgba(60, 64, 67, 0.3), 0px 1px 3px 1px rgba(60, 64, 67, 0.15);\n",
              "        fill: #174EA6;\n",
              "      }\n",
              "\n",
              "      [theme=dark] .colab-df-generate {\n",
              "        background-color: #3B4455;\n",
              "        fill: #D2E3FC;\n",
              "      }\n",
              "\n",
              "      [theme=dark] .colab-df-generate:hover {\n",
              "        background-color: #434B5C;\n",
              "        box-shadow: 0px 1px 3px 1px rgba(0, 0, 0, 0.15);\n",
              "        filter: drop-shadow(0px 1px 2px rgba(0, 0, 0, 0.3));\n",
              "        fill: #FFFFFF;\n",
              "      }\n",
              "    </style>\n",
              "    <button class=\"colab-df-generate\" onclick=\"generateWithVariable('xt')\"\n",
              "            title=\"Generate code using this dataframe.\"\n",
              "            style=\"display:none;\">\n",
              "\n",
              "  <svg xmlns=\"http://www.w3.org/2000/svg\" height=\"24px\"viewBox=\"0 0 24 24\"\n",
              "       width=\"24px\">\n",
              "    <path d=\"M7,19H8.4L18.45,9,17,7.55,7,17.6ZM5,21V16.75L18.45,3.32a2,2,0,0,1,2.83,0l1.4,1.43a1.91,1.91,0,0,1,.58,1.4,1.91,1.91,0,0,1-.58,1.4L9.25,21ZM18.45,9,17,7.55Zm-12,3A5.31,5.31,0,0,0,4.9,8.1,5.31,5.31,0,0,0,1,6.5,5.31,5.31,0,0,0,4.9,4.9,5.31,5.31,0,0,0,6.5,1,5.31,5.31,0,0,0,8.1,4.9,5.31,5.31,0,0,0,12,6.5,5.46,5.46,0,0,0,6.5,12Z\"/>\n",
              "  </svg>\n",
              "    </button>\n",
              "    <script>\n",
              "      (() => {\n",
              "      const buttonEl =\n",
              "        document.querySelector('#id_6ae526bf-4e18-4ff8-8237-78e6a5b46a5f button.colab-df-generate');\n",
              "      buttonEl.style.display =\n",
              "        google.colab.kernel.accessAllowed ? 'block' : 'none';\n",
              "\n",
              "      buttonEl.onclick = () => {\n",
              "        google.colab.notebook.generateWithVariable('xt');\n",
              "      }\n",
              "      })();\n",
              "    </script>\n",
              "  </div>\n",
              "\n",
              "    </div>\n",
              "  </div>\n"
            ],
            "application/vnd.google.colaboratory.intrinsic+json": {
              "type": "dataframe",
              "variable_name": "xt"
            }
          },
          "metadata": {},
          "execution_count": 45
        }
      ]
    },
    {
      "cell_type": "code",
      "source": [
        "fig = sns.scatterplot(data=xt , x=xt.iloc[0,:], y=xt.iloc[1,:], hue=y_train)\n",
        "fig.figure.set_size_inches(10,6)"
      ],
      "metadata": {
        "colab": {
          "base_uri": "https://localhost:8080/",
          "height": 544
        },
        "id": "8WTp0y74uw__",
        "outputId": "9436b02f-0cdd-4e8b-f5ef-77e29aa33365"
      },
      "execution_count": 46,
      "outputs": [
        {
          "output_type": "display_data",
          "data": {
            "text/plain": [
              "<Figure size 1000x600 with 1 Axes>"
            ],
            "image/png": "[encoded data removed]"
          },
          "metadata": {}
        }
      ]
    },
    {
      "cell_type": "code",
      "source": [
        "from sklearn.preprocessing import Normalizer\n",
        "\n",
        "NoScaler = Normalizer()\n",
        "\n",
        "\n",
        "# Train 데이터의 fitting과 스케일링\n",
        "NoScaler.fit(X_train)\n",
        "X_train_sc = NoScaler.transform(X_train)\n",
        "\n",
        "\n",
        "print(\"\\t\\t(min, max) (mean, std)\")\n",
        "print(\"Train_scaled (%.2f, %.2f) (%.2f, %.2f)\"%(X_train_sc.min(), X_train_sc.max(),  X_train_sc.mean(),  X_train_sc.std()))\n"
      ],
      "metadata": {
        "colab": {
          "base_uri": "https://localhost:8080/"
        },
        "id": "w6oYTYFKu0r_",
        "outputId": "de76e1da-7505-43ce-cb26-e819df0a3978"
      },
      "execution_count": 47,
      "outputs": [
        {
          "output_type": "stream",
          "name": "stdout",
          "text": [
            "\t\t(min, max) (mean, std)\n",
            "Train_scaled (0.02, 0.86) (0.44, 0.24)\n"
          ]
        }
      ]
    },
    {
      "cell_type": "code",
      "source": [
        "xt = pd.DataFrame(X_train_sc.T)"
      ],
      "metadata": {
        "id": "pcGLDj3JvJe3"
      },
      "execution_count": 48,
      "outputs": []
    },
    {
      "cell_type": "code",
      "source": [
        "fig = sns.scatterplot(data=xt , x=xt.iloc[0,:], y=xt.iloc[1,:], hue=y_train)\n",
        "fig.figure.set_size_inches(10,6)"
      ],
      "metadata": {
        "colab": {
          "base_uri": "https://localhost:8080/",
          "height": 542
        },
        "id": "tA3UP34JvLyn",
        "outputId": "12edf56d-ed4e-402f-d07f-71a0c018f440"
      },
      "execution_count": 49,
      "outputs": [
        {
          "output_type": "display_data",
          "data": {
            "text/plain": [
              "<Figure size 1000x600 with 1 Axes>"
            ],
            "image/png": "[encoded data removed]"
          },
          "metadata": {}
        }
      ]
    },
    {
      "cell_type": "code",
      "source": [],
      "metadata": {
        "id": "HTWj66kgvNLf"
      },
      "execution_count": null,
      "outputs": []
    }
  ]
}