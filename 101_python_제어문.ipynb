{
  "nbformat": 4,
  "nbformat_minor": 0,
  "metadata": {
    "colab": {
      "provenance": [],
      "include_colab_link": true
    },
    "kernelspec": {
      "name": "python3",
      "display_name": "Python 3"
    },
    "language_info": {
      "name": "python"
    }
  },
  "cells": [
    {
      "cell_type": "markdown",
      "metadata": {
        "id": "view-in-github",
        "colab_type": "text"
      },
      "source": [
        "<a href=\"https://colab.research.google.com/github/TAEO2474/python-dev/blob/main/101_python_%EC%A0%9C%EC%96%B4%EB%AC%B8.ipynb\" target=\"_parent\"><img src=\"https://colab.research.google.com/assets/colab-badge.svg\" alt=\"Open In Colab\"/></a>"
      ]
    },
    {
      "cell_type": "markdown",
      "source": [
        "#  비교연산자\n",
        "  -  <       >       <=      >=      ==      !=\n",
        "  - 결과는 논리값 : True , False"
      ],
      "metadata": {
        "id": "_qmqqRjuil__"
      }
    },
    {
      "cell_type": "code",
      "execution_count": null,
      "metadata": {
        "colab": {
          "base_uri": "https://localhost:8080/"
        },
        "id": "TVAYp1X-gXp5",
        "outputId": "8fb289af-8efc-43f1-850d-d80bea42c350"
      },
      "outputs": [
        {
          "output_type": "stream",
          "name": "stdout",
          "text": [
            "False\n",
            "True\n",
            "False\n",
            "True\n"
          ]
        }
      ],
      "source": [
        "print(3 < 2)\n",
        "print(3 > 2)\n",
        "print(3 == 2)\n",
        "print(3 != 2)"
      ]
    },
    {
      "cell_type": "markdown",
      "source": [
        "# 논리연산자\n",
        "- and, or , not"
      ],
      "metadata": {
        "id": "Rjm1NDgLjMgu"
      }
    },
    {
      "cell_type": "code",
      "source": [
        "print( True and False)\n",
        "print(True or False)\n",
        "print(not True)"
      ],
      "metadata": {
        "colab": {
          "base_uri": "https://localhost:8080/"
        },
        "id": "LNNVdnC5i6xn",
        "outputId": "fc0fbbee-44b6-495b-e346-825f791936d9"
      },
      "execution_count": null,
      "outputs": [
        {
          "output_type": "stream",
          "name": "stdout",
          "text": [
            "False\n",
            "True\n",
            "False\n"
          ]
        }
      ]
    },
    {
      "cell_type": "markdown",
      "source": [
        "# existance\n",
        "- python에서 조건은 존재론(existance)적이다. => truthy, falsey"
      ],
      "metadata": {
        "id": "2tYNjAiajqFE"
      }
    },
    {
      "cell_type": "code",
      "source": [
        "print( 3 < 2 or 4<5)"
      ],
      "metadata": {
        "colab": {
          "base_uri": "https://localhost:8080/"
        },
        "id": "XVXxXUJ-jf6e",
        "outputId": "2d472c6b-285c-43af-9d17-e1e6a54bdcad"
      },
      "execution_count": null,
      "outputs": [
        {
          "output_type": "stream",
          "name": "stdout",
          "text": [
            "True\n"
          ]
        }
      ]
    },
    {
      "cell_type": "code",
      "source": [
        "# and는 앞이 True이면 뒤에 값을 반환한다.\n",
        "print( 3 and 4)\n",
        "print( 3 and 0)\n",
        "print( 3 and 1)"
      ],
      "metadata": {
        "colab": {
          "base_uri": "https://localhost:8080/"
        },
        "id": "XSE4ps-Ij0T2",
        "outputId": "fab31d65-dfa4-43e2-f975-dd7c7d67249c"
      },
      "execution_count": null,
      "outputs": [
        {
          "output_type": "stream",
          "name": "stdout",
          "text": [
            "4\n",
            "0\n",
            "1\n"
          ]
        }
      ]
    },
    {
      "cell_type": "code",
      "source": [
        "# and는 앞이 false이면 앞에 값을 반환한다.\n",
        "print(0 and 3)\n",
        "print('' and 4)\n",
        "print(None and 5)"
      ],
      "metadata": {
        "colab": {
          "base_uri": "https://localhost:8080/"
        },
        "id": "dLxsorWMkKM8",
        "outputId": "3dfe7239-1ba6-4adb-cebd-a012dfdbbbd2"
      },
      "execution_count": null,
      "outputs": [
        {
          "output_type": "stream",
          "name": "stdout",
          "text": [
            "0\n",
            "\n",
            "None\n"
          ]
        }
      ]
    },
    {
      "cell_type": "code",
      "source": [
        "# 앞이 True이면 앞의 값이 리턴된다.\n",
        "print(1 or 4)"
      ],
      "metadata": {
        "colab": {
          "base_uri": "https://localhost:8080/"
        },
        "id": "K_zkR0aTkw8S",
        "outputId": "e4d82816-03dd-4055-bfcc-cd46cf42b78e"
      },
      "execution_count": null,
      "outputs": [
        {
          "output_type": "stream",
          "name": "stdout",
          "text": [
            "1\n"
          ]
        }
      ]
    },
    {
      "cell_type": "code",
      "source": [
        "# 앞이 False이면 뒤의 값을 리턴한다.\n",
        "print(0 or 4)\n",
        "print(0 or None)"
      ],
      "metadata": {
        "colab": {
          "base_uri": "https://localhost:8080/"
        },
        "id": "YF_gTxj3lQAr",
        "outputId": "196a3385-3d84-46e8-ff48-a1e9d6ac20ec"
      },
      "execution_count": null,
      "outputs": [
        {
          "output_type": "stream",
          "name": "stdout",
          "text": [
            "4\n",
            "None\n"
          ]
        }
      ]
    },
    {
      "cell_type": "markdown",
      "source": [
        "# 제어문(statement controller)\n",
        "- 문장의 흐름을 제어해 준다.\n",
        "- 조건문, 반복문\n",
        "- 조건문\n",
        "  - if~else\n",
        "- 반복문\n",
        "  - for ~ in\n",
        "  - while\n",
        "- break, continue"
      ],
      "metadata": {
        "id": "a-48kYJemSfp"
      }
    },
    {
      "cell_type": "markdown",
      "source": [
        "if 조건식:\n",
        "   수행할 문장\n",
        "else:\n",
        "   수행할 문장"
      ],
      "metadata": {
        "id": "MmiC8SKzmkJg"
      }
    },
    {
      "cell_type": "code",
      "source": [
        "a = 8\n",
        "if a > 8:\n",
        "  print('Ok')\n",
        "else:\n",
        "  print('Fail')"
      ],
      "metadata": {
        "colab": {
          "base_uri": "https://localhost:8080/"
        },
        "id": "OEa-ZbDjldJK",
        "outputId": "6a068d6a-a6b9-4580-9fcf-36e5cb0bc595"
      },
      "execution_count": null,
      "outputs": [
        {
          "output_type": "stream",
          "name": "stdout",
          "text": [
            "Fail\n"
          ]
        }
      ]
    },
    {
      "cell_type": "code",
      "source": [
        "a = 5\n",
        "if a%2==0:\n",
        "  print('even')\n",
        "else:\n",
        "  print('odd')"
      ],
      "metadata": {
        "colab": {
          "base_uri": "https://localhost:8080/"
        },
        "id": "4G4z5aLTm3WJ",
        "outputId": "020cd094-a9f6-4ee7-8d8b-f98160c4c44b"
      },
      "execution_count": null,
      "outputs": [
        {
          "output_type": "stream",
          "name": "stdout",
          "text": [
            "odd\n"
          ]
        }
      ]
    },
    {
      "cell_type": "code",
      "source": [
        "name = '홍길동'\n",
        "if name:\n",
        "  print(name)"
      ],
      "metadata": {
        "colab": {
          "base_uri": "https://localhost:8080/"
        },
        "id": "Xe82miupnMho",
        "outputId": "abd09b9c-b964-4c01-b63c-624d2d613073"
      },
      "execution_count": null,
      "outputs": [
        {
          "output_type": "stream",
          "name": "stdout",
          "text": [
            "홍길동\n"
          ]
        }
      ]
    },
    {
      "cell_type": "code",
      "source": [
        "# 0.0은 숫자가 없는 것과 같음 => falsey\n",
        "a = 0.0\n",
        "if a:\n",
        "  print('Yes')\n",
        "else:\n",
        "  print('No')"
      ],
      "metadata": {
        "colab": {
          "base_uri": "https://localhost:8080/"
        },
        "id": "OCUATexZnbaH",
        "outputId": "ab9dd39d-4204-40d6-cab5-6e3bc724df70"
      },
      "execution_count": null,
      "outputs": [
        {
          "output_type": "stream",
          "name": "stdout",
          "text": [
            "No\n"
          ]
        }
      ]
    },
    {
      "cell_type": "code",
      "source": [
        "# None은 숫자가 없는 것과 같음  => falsey\n",
        "a = None\n",
        "if a:\n",
        "  print('Yes')\n",
        "else:\n",
        "  print('No')"
      ],
      "metadata": {
        "colab": {
          "base_uri": "https://localhost:8080/"
        },
        "id": "X03KmL6Bnn0H",
        "outputId": "5aaf1425-1495-43ef-9e62-b10bbfb66a85"
      },
      "execution_count": null,
      "outputs": [
        {
          "output_type": "stream",
          "name": "stdout",
          "text": [
            "No\n"
          ]
        }
      ]
    },
    {
      "cell_type": "code",
      "source": [
        "# 비어 있는  dict은 없는 것과 같음 => falsey\n",
        "a = {}\n",
        "if a:\n",
        "  print('Yes')\n",
        "else:\n",
        "  print('No')"
      ],
      "metadata": {
        "colab": {
          "base_uri": "https://localhost:8080/"
        },
        "id": "ytjzhQd5n9df",
        "outputId": "6a5844a7-5ba1-4b58-85ff-6eb116bc02bd"
      },
      "execution_count": null,
      "outputs": [
        {
          "output_type": "stream",
          "name": "stdout",
          "text": [
            "No\n"
          ]
        }
      ]
    },
    {
      "cell_type": "code",
      "source": [
        "a = int()\n",
        "b = float()\n",
        "c = list()\n",
        "d = tuple()\n",
        "e = str()\n",
        "f = set()\n",
        "g = frozenset()\n",
        "\n",
        "if a:\n",
        "  print('Yes')\n",
        "else:\n",
        "  print('No')"
      ],
      "metadata": {
        "colab": {
          "base_uri": "https://localhost:8080/"
        },
        "id": "KE7W5UTuoRNe",
        "outputId": "8633bb41-ebaa-4ff9-9530-bc1c172795b5"
      },
      "execution_count": null,
      "outputs": [
        {
          "output_type": "stream",
          "name": "stdout",
          "text": [
            "No\n"
          ]
        }
      ]
    },
    {
      "cell_type": "code",
      "source": [
        "# if 조건식에 문장을 사용할 수 없다.\n",
        "if a=4:\n",
        "  print(a)"
      ],
      "metadata": {
        "colab": {
          "base_uri": "https://localhost:8080/",
          "height": 106
        },
        "id": "sPRdnnzIoksv",
        "outputId": "81ddfc18-c779-40b1-9c91-65380010eab7"
      },
      "execution_count": null,
      "outputs": [
        {
          "output_type": "error",
          "ename": "SyntaxError",
          "evalue": "invalid syntax. Maybe you meant '==' or ':=' instead of '='? (ipython-input-22-3245030526.py, line 1)",
          "traceback": [
            "\u001b[0;36m  File \u001b[0;32m\"/tmp/ipython-input-22-3245030526.py\"\u001b[0;36m, line \u001b[0;32m1\u001b[0m\n\u001b[0;31m    if a=4:\u001b[0m\n\u001b[0m       ^\u001b[0m\n\u001b[0;31mSyntaxError\u001b[0m\u001b[0;31m:\u001b[0m invalid syntax. Maybe you meant '==' or ':=' instead of '='?\n"
          ]
        }
      ]
    },
    {
      "cell_type": "code",
      "source": [
        "# 80이상이면 '상', 80미만 60이상이면 '중', 60이만이면 '하'\n",
        "a = 85\n",
        "if a >= 80:\n",
        "  print('상')\n",
        "elif a>=60:\n",
        "  print('중')\n",
        "else:\n",
        "  print('하')\n"
      ],
      "metadata": {
        "colab": {
          "base_uri": "https://localhost:8080/"
        },
        "id": "0-Vd4WCKozjG",
        "outputId": "8735f30e-f6b8-4162-b0eb-c6870dd9c667"
      },
      "execution_count": null,
      "outputs": [
        {
          "output_type": "stream",
          "name": "stdout",
          "text": [
            "상\n"
          ]
        }
      ]
    },
    {
      "cell_type": "code",
      "source": [
        "a = 65\n",
        "if a >= 80:\n",
        "  print('상')\n",
        "else:\n",
        "  if a>= 60:\n",
        "    print('중')\n",
        "  else:\n",
        "    print('하')"
      ],
      "metadata": {
        "colab": {
          "base_uri": "https://localhost:8080/"
        },
        "id": "RiGIF_bkpd2J",
        "outputId": "36912740-dc3d-450c-de82-1877df302e2b"
      },
      "execution_count": null,
      "outputs": [
        {
          "output_type": "stream",
          "name": "stdout",
          "text": [
            "중\n"
          ]
        }
      ]
    },
    {
      "cell_type": "code",
      "source": [
        "a = 65\n",
        "\n",
        "if a >= 60 :\n",
        "  if a >= 80 :\n",
        "    print('상')\n",
        "  else:\n",
        "    print('중')\n",
        "else:\n",
        "  print('하')"
      ],
      "metadata": {
        "colab": {
          "base_uri": "https://localhost:8080/"
        },
        "id": "NIcx0iIJpuqF",
        "outputId": "ed0b7549-c8c8-4b0f-ce64-05a4efa30c90"
      },
      "execution_count": null,
      "outputs": [
        {
          "output_type": "stream",
          "name": "stdout",
          "text": [
            "중\n"
          ]
        }
      ]
    },
    {
      "cell_type": "code",
      "source": [
        "member = True\n",
        "grade = 'A' # 'S' 50, 'A' 30\n",
        "point = 0\n",
        "\n",
        "if member :\n",
        "  #pass\n",
        "  if grade == 'S':\n",
        "     point = 50\n",
        "  else:\n",
        "     point = 30\n",
        "else:\n",
        "  point=0\n",
        "\n",
        "print(point)"
      ],
      "metadata": {
        "colab": {
          "base_uri": "https://localhost:8080/"
        },
        "id": "obfIAflVp399",
        "outputId": "76aa9880-565c-46a7-f62e-b4a63b213395"
      },
      "execution_count": null,
      "outputs": [
        {
          "output_type": "stream",
          "name": "stdout",
          "text": [
            "30\n"
          ]
        }
      ]
    },
    {
      "cell_type": "code",
      "source": [
        "age =  int(input('나이:'))\n",
        "#print(age)\n",
        "#print(type(age))\n",
        "gender = input('성별[남,여]:')\n",
        "\n",
        "if gender == '남':\n",
        "  if age >= 20 :\n",
        "    print('성인 남성입니다.')\n",
        "  else:\n",
        "    print(\"청소년 남성입니다.\")\n",
        "elif gender=='여':\n",
        "  if age >= 20 :\n",
        "    print('성인 여성입니다.')\n",
        "  else:\n",
        "    print(\"청소년 여성입니다.\")\n",
        "else:\n",
        "  print('다시 입력해 주세요[남, 여].')\n",
        "\n"
      ],
      "metadata": {
        "colab": {
          "base_uri": "https://localhost:8080/"
        },
        "id": "K_WH8k_3qAtM",
        "outputId": "e1a1631f-6b6e-4203-a42b-f67e23f3af08"
      },
      "execution_count": null,
      "outputs": [
        {
          "output_type": "stream",
          "name": "stdout",
          "text": [
            "나이:25\n",
            "성별[남,여]:여\n",
            "성인 여성입니다.\n"
          ]
        }
      ]
    },
    {
      "cell_type": "markdown",
      "source": [
        "* 퀴즈\n",
        "1. 놀이기구에 키가 140cm이상이고,\n",
        "  나이가 8세 이상인 사람만 탑승한다고 가정합니다.\n",
        "2. 먼저 키(height)와 나이(age)를 입력받으세요.\n",
        "3. 조건문 if~else를 사용하여 2개의 조건이 모두 참일 경우\n",
        "  \"놀이기구에 탑승할 수 있습니다.\"를 출력하세요.\n",
        "4. 위 조건이 거짓일 경우 \"놀이기구에 탑승할 수 없습니다.\"\n",
        "    를 출력하세요.\n",
        "5. 조건식과는 별개로 \"오늘 하루 즐거운 시간되세요!\"\n",
        "   를 출력하세요."
      ],
      "metadata": {
        "id": "xDvY5NjGwQ0X"
      }
    },
    {
      "cell_type": "code",
      "source": [
        "height = int(input('키:'))\n",
        "age = int(input('나이:'))\n",
        "\n",
        "if height>=140 and age >= 8 :\n",
        "  print('놀이기구에 탑승할 수 있습니다.')\n",
        "else:\n",
        "  print('놀이기구에 탑승할 수 없습니다.')\n",
        "\n",
        "print('오늘 하루 즐거운 시간되세요!')\n",
        "\n"
      ],
      "metadata": {
        "id": "wHSdI9LatJLc"
      },
      "execution_count": null,
      "outputs": []
    },
    {
      "cell_type": "markdown",
      "source": [
        "[조건]\n",
        "\n",
        "1. 18세 미만은 이 영화를 볼 수 없다\n",
        "2. 18세 이상 59세 이하의 손님은 8000원\n",
        "3. 60세 이상의 손님은 5000원\n",
        "4. 포인트카드를 가지고 있고 지금까지 5편의 영화를 본 손님은 5000원\n",
        "\n",
        "18세 미만이면 '티켓을 팔 수 없다'를 기술한 부분이다.\n",
        "60세 이상이거나 포인트가 있고 5편 관람한 할인 대상자는 '티켓은 5000원입니다.\n",
        "그외는 '티켓은 8000원입니다'로 출력하는 프로그램을 구현하시오.\n",
        "\n",
        "[테스트1]\n",
        "age=35\n",
        "point_card =True\n",
        "count=5\n",
        "\n",
        "출력결과 : 티켓은 5000원입니다\n",
        "\n",
        "[테스트2]\n",
        "age=17\n",
        "point_card =True\n",
        "count=5\n",
        "\n",
        "출력결과 : 티켓을 판매할 수 없습니다\n",
        "\n",
        "[테스트3]\n",
        "age=35\n",
        "point_card =True\n",
        "count=3\n",
        "\n",
        "출력결과: 티켓은 8000원입니다\n"
      ],
      "metadata": {
        "id": "6_Pw527nyODG"
      }
    },
    {
      "cell_type": "code",
      "source": [
        "age = int(input('나이:'))\n",
        "point_card = bool(input('포인트 소지여부:'))\n",
        "count = int(input('영화 관람 티켓 갯수:'))\n",
        "\n",
        "if age < 18 :\n",
        "  print('티켓을 판매할 수 없습니다')\n",
        "elif age >=60 or (point_card and count==5):\n",
        "  print('티켓은 5000원입니다')\n",
        "else:\n",
        "  print('티켓은 8000원입니다')"
      ],
      "metadata": {
        "colab": {
          "base_uri": "https://localhost:8080/"
        },
        "id": "5059hC_5yOmu",
        "outputId": "4423f2db-5e30-4799-afa4-c99d41df4451"
      },
      "execution_count": null,
      "outputs": [
        {
          "output_type": "stream",
          "name": "stdout",
          "text": [
            "나이:17\n",
            "포인트 소지여부:True\n",
            "영화 관람 티켓 갯수:5\n",
            "티켓을 판매할 수 없습니다\n"
          ]
        }
      ]
    },
    {
      "cell_type": "markdown",
      "source": [
        "## 반복문 : while\n",
        "반복문에서 else는 반복문이 완벽하게 끝났을 때 실행된다.  \n",
        "대부분의 프로그래밍 언어는 while과 for을 지원한다.  \n",
        "else\n",
        "  - if ~ else    \n",
        "  - while ~ else  \n",
        "  - try ~ except ~ else ~ finally\n",
        "\n",
        "\n",
        "\n",
        "```\n",
        "while 조건식:\n",
        "  수행할 문장\n",
        "else:\n",
        "  수행할 문장\n",
        "```\n"
      ],
      "metadata": {
        "id": "sOe-doL60IT2"
      }
    },
    {
      "cell_type": "code",
      "source": [
        "# while 문이 완벽이 돌았으므로 end가 출력된다.\n",
        "a = 10\n",
        "while a > 5:\n",
        "  a -= 1   # a = a-1\n",
        "  print(a)\n",
        "else:\n",
        "  print('end')\n"
      ],
      "metadata": {
        "colab": {
          "base_uri": "https://localhost:8080/"
        },
        "id": "ZB6PZsmNzE6e",
        "outputId": "20c5b49b-fcc9-40d3-ff1a-c65b5f5eeab9"
      },
      "execution_count": null,
      "outputs": [
        {
          "output_type": "stream",
          "name": "stdout",
          "text": [
            "9\n",
            "8\n",
            "7\n",
            "6\n",
            "5\n",
            "end\n"
          ]
        }
      ]
    },
    {
      "cell_type": "code",
      "source": [
        "# while문을 강제적으로 빠져나왔기 때문에 else영역을 실행하지 않는다.\n",
        "a = 10\n",
        "while a > 5:\n",
        "  a -= 1   # a = a-1\n",
        "  print(a)\n",
        "  if a==5:\n",
        "    break  # 반복문을 강제적으로 빠져나올 때 사용한다. 즉 반복문을 중단시킨다.\n",
        "else:\n",
        "  print('end')\n",
        "\n"
      ],
      "metadata": {
        "colab": {
          "base_uri": "https://localhost:8080/"
        },
        "id": "skOR6FRO06y2",
        "outputId": "cced6c47-8f84-4d54-84c0-e1d9d3cc6df7"
      },
      "execution_count": null,
      "outputs": [
        {
          "output_type": "stream",
          "name": "stdout",
          "text": [
            "9\n",
            "8\n",
            "7\n",
            "6\n",
            "5\n"
          ]
        }
      ]
    },
    {
      "cell_type": "code",
      "source": [
        "# continue는 다음 루프(조건식)로 바로 넘어간다.\n",
        "# 반복문을 중단하지는 않으므로 else문이 실행된다.\n",
        "a = 10\n",
        "while a > 5:\n",
        "  a -= 1   # a = a-1\n",
        "  if a%2==0:\n",
        "    continue   # 이동\n",
        "  print(a)\n",
        "else:\n",
        "  print('end')\n"
      ],
      "metadata": {
        "colab": {
          "base_uri": "https://localhost:8080/"
        },
        "id": "6d5Yfd-F1bqu",
        "outputId": "61e39ef3-0f25-4835-cd02-3ddf6554bdfe"
      },
      "execution_count": null,
      "outputs": [
        {
          "output_type": "stream",
          "name": "stdout",
          "text": [
            "9\n",
            "7\n",
            "5\n",
            "end\n"
          ]
        }
      ]
    },
    {
      "cell_type": "code",
      "source": [
        "# 1부터 10까지 출력하는 프로그램\n",
        "a = 1\n",
        "while a <= 10 :\n",
        "  print(a)\n",
        "  a = a + 1    # a += 1"
      ],
      "metadata": {
        "colab": {
          "base_uri": "https://localhost:8080/"
        },
        "id": "wz4mNmHe1_pN",
        "outputId": "f9c82200-4e59-47c8-a3d8-fc380c4a191d"
      },
      "execution_count": null,
      "outputs": [
        {
          "output_type": "stream",
          "name": "stdout",
          "text": [
            "1\n",
            "2\n",
            "3\n",
            "4\n",
            "5\n",
            "6\n",
            "7\n",
            "8\n",
            "9\n",
            "10\n"
          ]
        }
      ]
    },
    {
      "cell_type": "code",
      "source": [
        "# 1부터 10까지 출력하고 합계 구하는  프로그램 구현\n",
        "a = 1\n",
        "total = 0\n",
        "while a <= 10 :\n",
        "  total = total + a\n",
        "  print(a)\n",
        "  a += 1\n",
        "\n",
        "print('total={}'.format(total))"
      ],
      "metadata": {
        "colab": {
          "base_uri": "https://localhost:8080/"
        },
        "id": "u8jeZzC92p4t",
        "outputId": "ebe51aaf-2574-4469-f807-e906c0052365"
      },
      "execution_count": null,
      "outputs": [
        {
          "output_type": "stream",
          "name": "stdout",
          "text": [
            "1\n",
            "2\n",
            "3\n",
            "4\n",
            "5\n",
            "6\n",
            "7\n",
            "8\n",
            "9\n",
            "10\n",
            "total=55\n"
          ]
        }
      ]
    },
    {
      "cell_type": "code",
      "source": [
        "# 1부터 10까지 짝수, 홀수 합계 구하는  프로그램 구현\n",
        "a = 1\n",
        "even = 0  #짝수\n",
        "odd = 0   #홀수\n",
        "while a <= 10 :\n",
        "  if a % 2 == 1 : # 홀수?\n",
        "    odd = odd + a    # odd  += a\n",
        "  else:\n",
        "    even = even + a  # even += a\n",
        "  a += 1\n",
        "\n",
        "print('짝수={}'.format(even))\n",
        "print('홀수={}'.format(odd))"
      ],
      "metadata": {
        "colab": {
          "base_uri": "https://localhost:8080/"
        },
        "id": "xRq-dTya2u90",
        "outputId": "277e5340-6705-451a-9a2b-c27695debb4d"
      },
      "execution_count": null,
      "outputs": [
        {
          "output_type": "stream",
          "name": "stdout",
          "text": [
            "짝수=30\n",
            "홀수=25\n"
          ]
        }
      ]
    },
    {
      "cell_type": "markdown",
      "source": [
        "```\n",
        "for 변수 in iterable(리스트,튜플, 문자열...):\n",
        "  수행할 문장\n",
        "  \n",
        "```"
      ],
      "metadata": {
        "id": "Oe-ePvBD7oA6"
      }
    },
    {
      "cell_type": "code",
      "source": [
        "for i in [1,2,3,4,5]:\n",
        "   print(i)"
      ],
      "metadata": {
        "colab": {
          "base_uri": "https://localhost:8080/"
        },
        "id": "lElFTTF_8E3z",
        "outputId": "29b6b84b-69e4-4f2d-d312-7df8d8fc019e"
      },
      "execution_count": null,
      "outputs": [
        {
          "output_type": "stream",
          "name": "stdout",
          "text": [
            "1\n",
            "2\n",
            "3\n",
            "4\n",
            "5\n"
          ]
        }
      ]
    },
    {
      "cell_type": "code",
      "source": [
        "for i in (1,2,3,4,5):\n",
        "  print(i)"
      ],
      "metadata": {
        "colab": {
          "base_uri": "https://localhost:8080/"
        },
        "id": "5oGwniED8MmS",
        "outputId": "1c1da3d0-478e-4342-e508-7d837a0d4b4b"
      },
      "execution_count": null,
      "outputs": [
        {
          "output_type": "stream",
          "name": "stdout",
          "text": [
            "1\n",
            "2\n",
            "3\n",
            "4\n",
            "5\n"
          ]
        }
      ]
    },
    {
      "cell_type": "code",
      "source": [
        "for i in 'python':\n",
        "  print(i)"
      ],
      "metadata": {
        "colab": {
          "base_uri": "https://localhost:8080/"
        },
        "id": "6D5CMJe_8SNC",
        "outputId": "05530c93-c3ad-4d1e-f61e-1874c3b98956"
      },
      "execution_count": null,
      "outputs": [
        {
          "output_type": "stream",
          "name": "stdout",
          "text": [
            "p\n",
            "y\n",
            "t\n",
            "h\n",
            "o\n",
            "n\n"
          ]
        }
      ]
    },
    {
      "cell_type": "code",
      "source": [
        "for i in {'one':1, 'two':2}:\n",
        "  print(i)"
      ],
      "metadata": {
        "colab": {
          "base_uri": "https://localhost:8080/"
        },
        "id": "NCrt8gUD8d_q",
        "outputId": "97358968-4c14-4484-d861-f086b499c323"
      },
      "execution_count": null,
      "outputs": [
        {
          "output_type": "stream",
          "name": "stdout",
          "text": [
            "one\n",
            "two\n"
          ]
        }
      ]
    },
    {
      "cell_type": "code",
      "source": [
        "{'one':1, 'two':2}.values()"
      ],
      "metadata": {
        "colab": {
          "base_uri": "https://localhost:8080/"
        },
        "id": "pkhHvJD49tPC",
        "outputId": "cc71dc5b-ee68-4fd4-e5fd-8fe5deb00630"
      },
      "execution_count": null,
      "outputs": [
        {
          "output_type": "execute_result",
          "data": {
            "text/plain": [
              "dict_values([1, 2])"
            ]
          },
          "metadata": {},
          "execution_count": 61
        }
      ]
    },
    {
      "cell_type": "code",
      "source": [
        "for v in {'one':1, 'two':2}.values():\n",
        "  print(v)"
      ],
      "metadata": {
        "colab": {
          "base_uri": "https://localhost:8080/"
        },
        "id": "xnv_MzuR8qJq",
        "outputId": "d9724601-73a1-4cf5-cb4f-c20528f9bb3d"
      },
      "execution_count": null,
      "outputs": [
        {
          "output_type": "stream",
          "name": "stdout",
          "text": [
            "1\n",
            "2\n"
          ]
        }
      ]
    },
    {
      "cell_type": "markdown",
      "source": [
        "# set\n",
        "리스트,튜플에서 중복되는 숫자는 제거 후 출력된다"
      ],
      "metadata": {
        "id": "zj7bvuleLV9G"
      }
    },
    {
      "cell_type": "code",
      "source": [
        "s = set([2,1,3, 1])\n",
        "for i in s:\n",
        "  print(i)"
      ],
      "metadata": {
        "colab": {
          "base_uri": "https://localhost:8080/"
        },
        "id": "6Cm4DRsE8-WK",
        "outputId": "a535a87e-7758-4edf-f787-48a4227ea3cf"
      },
      "execution_count": null,
      "outputs": [
        {
          "output_type": "stream",
          "name": "stdout",
          "text": [
            "1\n",
            "2\n",
            "3\n"
          ]
        }
      ]
    },
    {
      "cell_type": "markdown",
      "source": [
        "### range"
      ],
      "metadata": {
        "id": "ObrjAHFC3oht"
      }
    },
    {
      "cell_type": "code",
      "source": [
        "# range(stop)\n",
        "\n",
        "for i in range(5):  # 0부터 5미만의 값이 1씩 증가해서 생성된다. (0, 1, 2, 3, 4)\n",
        "  print(i)"
      ],
      "metadata": {
        "colab": {
          "base_uri": "https://localhost:8080/"
        },
        "id": "SI_IIjGD3EQM",
        "outputId": "47179455-1b96-46a2-e741-8b17260c461c"
      },
      "execution_count": null,
      "outputs": [
        {
          "output_type": "stream",
          "name": "stdout",
          "text": [
            "0\n",
            "1\n",
            "2\n",
            "3\n",
            "4\n"
          ]
        }
      ]
    },
    {
      "cell_type": "code",
      "source": [
        "# range(start, stop)\n",
        "for i in range(1, 5):  # 1부터 5미만의 값이 1씩 증가해서 생성된다. (1, 2, 3, 4)\n",
        "  print(i)"
      ],
      "metadata": {
        "colab": {
          "base_uri": "https://localhost:8080/"
        },
        "id": "u0TBfhKq4DQD",
        "outputId": "13df3033-4f42-48d9-96d6-6c3f3d4cc798"
      },
      "execution_count": null,
      "outputs": [
        {
          "output_type": "stream",
          "name": "stdout",
          "text": [
            "1\n",
            "2\n",
            "3\n",
            "4\n"
          ]
        }
      ]
    },
    {
      "cell_type": "code",
      "source": [
        "# range(start, stop, step)\n",
        "\n",
        "for i in range(1, 5, 2): # 1부터 5미만의 값이 2씩 증가해서 생성된다.(1, 3)\n",
        "  print(i)"
      ],
      "metadata": {
        "colab": {
          "base_uri": "https://localhost:8080/"
        },
        "id": "4O6cF17a4eKc",
        "outputId": "759b9b70-7332-4a93-9df2-a5a4125dc16d"
      },
      "execution_count": null,
      "outputs": [
        {
          "output_type": "stream",
          "name": "stdout",
          "text": [
            "1\n",
            "3\n"
          ]
        }
      ]
    },
    {
      "cell_type": "markdown",
      "source": [
        "#### enumerate 함수\n",
        " - enumerate()함수는 인덱스와 객체를 동시에 저장할 수 있는 특징을 가진 for문을 좀더 효율적으로 사용하기 위한 함수이다.\n",
        " - enumerate()함수는 반복가능객체(list, tuple, str)을 입력으로 받아 인덱스를 포함하는 enumerate 객체를 리턴한다.\n",
        " - enumerate([순서자료형], [시작값=0])의 형식을 가지며 반복가능객체은 반복자가 가능한 객체가 입력되고 시작값은 입력시 해당수 부터 증가하며, 생략했을 경우 기본값은 0 이다."
      ],
      "metadata": {
        "id": "IwRaDHqH-jzS"
      }
    },
    {
      "cell_type": "code",
      "source": [
        "# enumerate(iterable[, start])"
      ],
      "metadata": {
        "id": "JRAIO-df_S_K"
      },
      "execution_count": null,
      "outputs": []
    },
    {
      "cell_type": "code",
      "source": [
        "for v in enumerate(['apple','python', 'microsoft']):\n",
        "  print(v)"
      ],
      "metadata": {
        "colab": {
          "base_uri": "https://localhost:8080/"
        },
        "id": "Qu8pXbhi7Oeb",
        "outputId": "ac8a08c8-ff4e-4232-d19d-d9a969a7c840"
      },
      "execution_count": null,
      "outputs": [
        {
          "output_type": "stream",
          "name": "stdout",
          "text": [
            "(0, 'apple')\n",
            "(1, 'python')\n",
            "(2, 'microsoft')\n"
          ]
        }
      ]
    },
    {
      "cell_type": "code",
      "source": [
        "# (i, v)로 튜플을 unpack하는 방식\n",
        "for i, v in enumerate(['apple','python', 'microsoft']):\n",
        "  print(i, v)"
      ],
      "metadata": {
        "colab": {
          "base_uri": "https://localhost:8080/"
        },
        "id": "YMk614jY-0Jx",
        "outputId": "3977aece-9cf0-4ad3-d335-e5b9efe64bd2"
      },
      "execution_count": null,
      "outputs": [
        {
          "output_type": "stream",
          "name": "stdout",
          "text": [
            "0 apple\n",
            "1 python\n",
            "2 microsoft\n"
          ]
        }
      ]
    },
    {
      "cell_type": "code",
      "source": [
        "for i, v in enumerate(['apple','python', 'microsoft'], 1):\n",
        "  print(i, v)"
      ],
      "metadata": {
        "colab": {
          "base_uri": "https://localhost:8080/"
        },
        "id": "t9DQ3FeS_AcB",
        "outputId": "e08acb47-4627-4165-df02-09d916c42120"
      },
      "execution_count": null,
      "outputs": [
        {
          "output_type": "stream",
          "name": "stdout",
          "text": [
            "1 apple\n",
            "2 python\n",
            "3 microsoft\n"
          ]
        }
      ]
    },
    {
      "cell_type": "code",
      "source": [
        "a = {'one': 1, 'two': 2}\n",
        "for  k in enumerate(a):\n",
        "  print( k)"
      ],
      "metadata": {
        "colab": {
          "base_uri": "https://localhost:8080/"
        },
        "id": "hsJJp6G9AQ7h",
        "outputId": "8c8ebd24-117c-403a-f344-9c45eadf818d"
      },
      "execution_count": null,
      "outputs": [
        {
          "output_type": "stream",
          "name": "stdout",
          "text": [
            "(0, 'one')\n",
            "(1, 'two')\n"
          ]
        }
      ]
    },
    {
      "cell_type": "code",
      "source": [
        "a = {'one': 1, 'two': 2}\n",
        "for i, k in enumerate(a):\n",
        "  print(i, k)"
      ],
      "metadata": {
        "colab": {
          "base_uri": "https://localhost:8080/"
        },
        "id": "DyDCQBDh_eVh",
        "outputId": "5747132a-c32c-49b1-ef0a-b3cb95524ef1"
      },
      "execution_count": null,
      "outputs": [
        {
          "output_type": "stream",
          "name": "stdout",
          "text": [
            "0 one\n",
            "1 two\n"
          ]
        }
      ]
    },
    {
      "cell_type": "code",
      "source": [
        "for v in enumerate({10, 20, 39}):\n",
        "  print(v)"
      ],
      "metadata": {
        "colab": {
          "base_uri": "https://localhost:8080/"
        },
        "id": "wkPAc3FmANWQ",
        "outputId": "bdea1288-b74d-470f-8246-c98a633e71e2"
      },
      "execution_count": null,
      "outputs": [
        {
          "output_type": "stream",
          "name": "stdout",
          "text": [
            "(0, 10)\n",
            "(1, 20)\n",
            "(2, 39)\n"
          ]
        }
      ]
    },
    {
      "cell_type": "code",
      "source": [
        "for i, v in enumerate({10, 20, 39}):\n",
        "  print(i, v)"
      ],
      "metadata": {
        "colab": {
          "base_uri": "https://localhost:8080/"
        },
        "id": "K5PKt_6RA9WZ",
        "outputId": "ec21ac07-22e0-4fc3-ac2f-255741031fb1"
      },
      "execution_count": null,
      "outputs": [
        {
          "output_type": "stream",
          "name": "stdout",
          "text": [
            "0 10\n",
            "1 20\n",
            "2 39\n"
          ]
        }
      ]
    },
    {
      "cell_type": "markdown",
      "source": [
        "### zip\n",
        "- 매개인자로 여러 목록을 받아 각 목록의 요소를 **튜플**에 담아 목록에 저장한다."
      ],
      "metadata": {
        "id": "R5EYpPzLDm3g"
      }
    },
    {
      "cell_type": "code",
      "source": [
        "a = [1, 2, 3, 4, 5]\n",
        "b = ['a', 'b','c','d','f']\n",
        "\n",
        "for  x in zip(a,b):\n",
        "  print(x)"
      ],
      "metadata": {
        "colab": {
          "base_uri": "https://localhost:8080/"
        },
        "id": "R7c976psDeJg",
        "outputId": "7825ce33-896c-402c-f91b-99eabf1c8065"
      },
      "execution_count": null,
      "outputs": [
        {
          "output_type": "stream",
          "name": "stdout",
          "text": [
            "(1, 'a')\n",
            "(2, 'b')\n",
            "(3, 'c')\n",
            "(4, 'd')\n",
            "(5, 'f')\n"
          ]
        }
      ]
    },
    {
      "cell_type": "code",
      "source": [
        "a = [1, 2, 3, 4, 5, 6, 7, 8]\n",
        "b = ['a', 'b','c','d','f']\n",
        "\n",
        "for  x in zip(a,b):\n",
        "  print(x)"
      ],
      "metadata": {
        "colab": {
          "base_uri": "https://localhost:8080/"
        },
        "id": "tTejeJXuD3EX",
        "outputId": "cb2d96fe-49f0-4fce-e96c-286240c7f80a"
      },
      "execution_count": null,
      "outputs": [
        {
          "output_type": "stream",
          "name": "stdout",
          "text": [
            "(1, 'a')\n",
            "(2, 'b')\n",
            "(3, 'c')\n",
            "(4, 'd')\n",
            "(5, 'f')\n"
          ]
        }
      ]
    },
    {
      "cell_type": "markdown",
      "source": [
        "# 리스트.append(추가할_값)"
      ],
      "metadata": {
        "id": "G3A6-zUIQX-u"
      }
    },
    {
      "cell_type": "code",
      "source": [
        "a = []                    # 1. 빈 리스트 a를 생성\n",
        "for x in range(2, 10):    # 2. x를 2부터 9까지 반복 (10은 포함되지 않음)\n",
        "    a.append(x)           # 3. x를 리스트 a에 추가\n",
        "print(a)                  # 4. 리스트 a 출력"
      ],
      "metadata": {
        "colab": {
          "base_uri": "https://localhost:8080/"
        },
        "id": "O1T44EupEQR3",
        "outputId": "8d623186-9515-4909-87c1-1bb96f04f304"
      },
      "execution_count": null,
      "outputs": [
        {
          "output_type": "stream",
          "name": "stdout",
          "text": [
            "[2, 3, 4, 5, 6, 7, 8, 9]\n"
          ]
        }
      ]
    },
    {
      "cell_type": "code",
      "source": [
        "for x in range(1, 10):\n",
        "  for y in range(2, 10):\n",
        "    print('{} X {} = {}'.format(y, x, x*y), end='\\t') #'\\t' 줄바꿈\n",
        "  print()"
      ],
      "metadata": {
        "colab": {
          "base_uri": "https://localhost:8080/"
        },
        "id": "OgSCd83lEbD4",
        "outputId": "0ba130d7-17d7-4fea-ca43-ba6e7cfef0e6"
      },
      "execution_count": null,
      "outputs": [
        {
          "output_type": "stream",
          "name": "stdout",
          "text": [
            "2 X 1 = 2\t3 X 1 = 3\t4 X 1 = 4\t5 X 1 = 5\t6 X 1 = 6\t7 X 1 = 7\t8 X 1 = 8\t9 X 1 = 9\t\n",
            "2 X 2 = 4\t3 X 2 = 6\t4 X 2 = 8\t5 X 2 = 10\t6 X 2 = 12\t7 X 2 = 14\t8 X 2 = 16\t9 X 2 = 18\t\n",
            "2 X 3 = 6\t3 X 3 = 9\t4 X 3 = 12\t5 X 3 = 15\t6 X 3 = 18\t7 X 3 = 21\t8 X 3 = 24\t9 X 3 = 27\t\n",
            "2 X 4 = 8\t3 X 4 = 12\t4 X 4 = 16\t5 X 4 = 20\t6 X 4 = 24\t7 X 4 = 28\t8 X 4 = 32\t9 X 4 = 36\t\n",
            "2 X 5 = 10\t3 X 5 = 15\t4 X 5 = 20\t5 X 5 = 25\t6 X 5 = 30\t7 X 5 = 35\t8 X 5 = 40\t9 X 5 = 45\t\n",
            "2 X 6 = 12\t3 X 6 = 18\t4 X 6 = 24\t5 X 6 = 30\t6 X 6 = 36\t7 X 6 = 42\t8 X 6 = 48\t9 X 6 = 54\t\n",
            "2 X 7 = 14\t3 X 7 = 21\t4 X 7 = 28\t5 X 7 = 35\t6 X 7 = 42\t7 X 7 = 49\t8 X 7 = 56\t9 X 7 = 63\t\n",
            "2 X 8 = 16\t3 X 8 = 24\t4 X 8 = 32\t5 X 8 = 40\t6 X 8 = 48\t7 X 8 = 56\t8 X 8 = 64\t9 X 8 = 72\t\n",
            "2 X 9 = 18\t3 X 9 = 27\t4 X 9 = 36\t5 X 9 = 45\t6 X 9 = 54\t7 X 9 = 63\t8 X 9 = 72\t9 X 9 = 81\t\n"
          ]
        }
      ]
    },
    {
      "cell_type": "markdown",
      "source": [
        "## Comprehension\n",
        " - comprehension이란 iterable(a.반복할 수 없는)한 오브젝트를 생성하기 위한 방법 중 하나이다. 쉽게 말해 기존 시퀀스(리스트, 튜플 등)를 기반으로 새로운 시퀀스를 짧은 문법으로 만들어내는 기법입니다.\n",
        "\n",
        "\n",
        "| 종류                       | 문법 예시                         |\n",
        "|----------------------------|-----------------------------------|\n",
        "| **List comprehension**     | `[x for x in iterable]`           |\n",
        "| **Set comprehension**      | `{x for x in iterable}`           |\n",
        "| **Dict comprehension**     | `{k: v for k, v in iterable}`     |\n",
        "| **Generator expression**   | `(x for x in iterable)`           |\n",
        "\n",
        "\n",
        "\n",
        "파이썬에서 **\"시퀀스(Sequence)\"**는 데이터를 순서대로 저장하는 자료형"
      ],
      "metadata": {
        "id": "LzabAqHsIvFI"
      }
    },
    {
      "cell_type": "markdown",
      "source": [
        "### 1) List Comprehension\n",
        " - List 정의시 값을 정하지 않고 호출시 리스트 내의 값들이 처리되도록 구성\n",
        " - A = [표현식 for 항목 in 반복가능객체(iterable)]\n",
        " - A = [표현식 for 항목 in 반복가능객체(iterable) if 논리식]\n",
        " - A = [표현식 for 항목1 in 반복가능객체(iterable)1 for 항목2 in 반복가능객체(iterable)2 if 논리식]"
      ],
      "metadata": {
        "id": "sT86bhMbI4e3"
      }
    },
    {
      "cell_type": "code",
      "source": [
        "s = []                     # 빈 리스트 s 생성\n",
        "\n",
        "for x in range(10):        # x를 0부터 9까지 반복 (10은 포함 안 됨)\n",
        "  s.append(x**2)           # x의 제곱(x²)을 s 리스트에 추가\n",
        "\n",
        "print(s)                   # 리스트 s 출력\n"
      ],
      "metadata": {
        "colab": {
          "base_uri": "https://localhost:8080/"
        },
        "id": "OlZLLCOtFskY",
        "outputId": "d48e6b53-b598-4316-d3f0-4a5088a25771"
      },
      "execution_count": null,
      "outputs": [
        {
          "output_type": "stream",
          "name": "stdout",
          "text": [
            "[0, 1, 4, 9, 16, 25, 36, 49, 64, 81]\n"
          ]
        }
      ]
    },
    {
      "cell_type": "code",
      "source": [
        "s = [ x**2 for x in range(10) ] #  List Comprehension 사용\n",
        "print(s)"
      ],
      "metadata": {
        "colab": {
          "base_uri": "https://localhost:8080/"
        },
        "id": "BtOM61xkJZVm",
        "outputId": "ae65542a-f0d9-4f49-dafc-aa4691666d3a"
      },
      "execution_count": null,
      "outputs": [
        {
          "output_type": "stream",
          "name": "stdout",
          "text": [
            "[0, 1, 4, 9, 16, 25, 36, 49, 64, 81]\n"
          ]
        }
      ]
    },
    {
      "cell_type": "code",
      "source": [
        "s = []\n",
        "for x in range(10):\n",
        "  if x%2==0:\n",
        "    s.append(x**2)\n",
        "print(s)"
      ],
      "metadata": {
        "colab": {
          "base_uri": "https://localhost:8080/"
        },
        "id": "XI-wOPrqJwoH",
        "outputId": "cebfeb2f-f62b-43f0-bbac-0648ee5d5ae7"
      },
      "execution_count": null,
      "outputs": [
        {
          "output_type": "stream",
          "name": "stdout",
          "text": [
            "[0, 4, 16, 36, 64]\n"
          ]
        }
      ]
    },
    {
      "cell_type": "code",
      "source": [
        "s = [ x**2 for x in range(10) if x%2==0 ]\n",
        "print(s)"
      ],
      "metadata": {
        "colab": {
          "base_uri": "https://localhost:8080/"
        },
        "id": "eMBQTPCUKcPY",
        "outputId": "e92746f6-eb07-4aa6-a84c-2c459b644322"
      },
      "execution_count": null,
      "outputs": [
        {
          "output_type": "stream",
          "name": "stdout",
          "text": [
            "[0, 4, 16, 36, 64]\n"
          ]
        }
      ]
    },
    {
      "cell_type": "code",
      "source": [
        "s = []\n",
        "for x in range(10):\n",
        "  if x%2==0:\n",
        "    s.append(x**2)\n",
        "  else:\n",
        "    s.append(-x)\n",
        "print(s)"
      ],
      "metadata": {
        "colab": {
          "base_uri": "https://localhost:8080/"
        },
        "id": "UXWGrJYHKmL3",
        "outputId": "bb69ceb4-635b-4afb-dd4d-24f15e7dfea3"
      },
      "execution_count": null,
      "outputs": [
        {
          "output_type": "stream",
          "name": "stdout",
          "text": [
            "[0, -1, 4, -3, 16, -5, 36, -7, 64, -9]\n"
          ]
        }
      ]
    },
    {
      "cell_type": "code",
      "source": [
        "s = [ x**2 if x%2==0 else -x   for x in range(10)  ]\n",
        "print(s)"
      ],
      "metadata": {
        "colab": {
          "base_uri": "https://localhost:8080/"
        },
        "id": "m8YswQL6K1bW",
        "outputId": "71334b91-6458-4568-ffc6-1f5ebd58f3ed"
      },
      "execution_count": null,
      "outputs": [
        {
          "output_type": "stream",
          "name": "stdout",
          "text": [
            "[0, -1, 4, -3, 16, -5, 36, -7, 64, -9]\n"
          ]
        }
      ]
    },
    {
      "cell_type": "code",
      "source": [
        "s = []\n",
        "for i in range(1,3):\n",
        "  for j in range(4, 8):\n",
        "    #print('({},{})'.format(i, j))\n",
        "    s.append((i, j))\n",
        "print(s)\n"
      ],
      "metadata": {
        "colab": {
          "base_uri": "https://localhost:8080/"
        },
        "id": "YNuVQH2wLBSW",
        "outputId": "0ce30fc8-5d5c-42fd-c7f2-6b21983bb2d1"
      },
      "execution_count": null,
      "outputs": [
        {
          "output_type": "stream",
          "name": "stdout",
          "text": [
            "(1,4)\n",
            "(1,5)\n",
            "(1,6)\n",
            "(1,7)\n",
            "(2,4)\n",
            "(2,5)\n",
            "(2,6)\n",
            "(2,7)\n",
            "[(1, 4), (1, 5), (1, 6), (1, 7), (2, 4), (2, 5), (2, 6), (2, 7)]\n"
          ]
        }
      ]
    },
    {
      "cell_type": "code",
      "source": [
        "s = [ (i,j)   for i in range(1,3) for j in range(4, 8)]\n",
        "print(s)"
      ],
      "metadata": {
        "colab": {
          "base_uri": "https://localhost:8080/"
        },
        "id": "PDmgrrIILeKu",
        "outputId": "c472eadc-473b-4961-e1d6-10de182c3d08"
      },
      "execution_count": null,
      "outputs": [
        {
          "output_type": "stream",
          "name": "stdout",
          "text": [
            "[(1, 4), (1, 5), (1, 6), (1, 7), (2, 4), (2, 5), (2, 6), (2, 7)]\n"
          ]
        }
      ]
    },
    {
      "cell_type": "markdown",
      "source": [
        "총판매금액을 구하는 프로그램(list comprehension을 사용)  \n",
        "cnt = [1, 1, 2, 1]   \n",
        "prod = [500, 1000, 400, 600]  "
      ],
      "metadata": {
        "id": "Mw2IW5TBMq4-"
      }
    },
    {
      "cell_type": "code",
      "source": [
        "s = []\n",
        "cnt = [1, 1, 2, 1]\n",
        "prod = [500, 1000, 400, 600]\n",
        "\n",
        "for  i,j  in zip(cnt, prod):\n",
        "  s.append(i*j)\n",
        "print(sum(s))"
      ],
      "metadata": {
        "colab": {
          "base_uri": "https://localhost:8080/"
        },
        "id": "Iz9L4xYtME7G",
        "outputId": "05c54025-15ca-4541-f4ad-c8abc44e92f5"
      },
      "execution_count": null,
      "outputs": [
        {
          "output_type": "stream",
          "name": "stdout",
          "text": [
            "2900\n"
          ]
        }
      ]
    },
    {
      "cell_type": "code",
      "source": [
        "cnt = [1, 1, 2, 1]\n",
        "prod = [500, 1000, 400, 600]\n",
        "s= [ i*j  for  i,j  in zip(cnt, prod) ]\n",
        "print(sum(s))"
      ],
      "metadata": {
        "colab": {
          "base_uri": "https://localhost:8080/"
        },
        "id": "tY9Gp6uENrqm",
        "outputId": "41f5100a-f9e9-42af-9e88-43180041c768"
      },
      "execution_count": null,
      "outputs": [
        {
          "output_type": "stream",
          "name": "stdout",
          "text": [
            "2900\n"
          ]
        }
      ]
    },
    {
      "cell_type": "markdown",
      "source": [
        "리스트에서 짝수값만 추출해서 index와 함께 출력하는 프로그램을 구현하세요.    \n",
        "data = [1, 3, 5, 8, 9, 11, 15, 19, 18, 20, 30, 33, 31]"
      ],
      "metadata": {
        "id": "AHqd65ooOp2m"
      }
    },
    {
      "cell_type": "code",
      "source": [
        "data = [1, 3, 5, 8, 9, 11, 15, 19, 18, 20, 30, 33, 31]\n",
        "s = []\n",
        "for i, v in enumerate(data):\n",
        "  if v%2==0:\n",
        "     s.append((i, v))\n",
        "print(s)"
      ],
      "metadata": {
        "colab": {
          "base_uri": "https://localhost:8080/"
        },
        "id": "rhIgJmmYOcBv",
        "outputId": "9fbdd43d-529e-4e9a-f505-bc78694f1f5b"
      },
      "execution_count": null,
      "outputs": [
        {
          "output_type": "stream",
          "name": "stdout",
          "text": [
            "[(3, 8), (8, 18), (9, 20), (10, 30)]\n"
          ]
        }
      ]
    },
    {
      "cell_type": "code",
      "source": [
        "data = [1, 3, 5, 8, 9, 11, 15, 19, 18, 20, 30, 33, 31]\n",
        "s = [ (i, v)   for i, v in enumerate(data)  if v%2==0]\n",
        "print(s)"
      ],
      "metadata": {
        "colab": {
          "base_uri": "https://localhost:8080/"
        },
        "id": "dYKFfxk2PFCu",
        "outputId": "6d441bf0-4308-4b1c-a4da-5a963110971b"
      },
      "execution_count": null,
      "outputs": [
        {
          "output_type": "stream",
          "name": "stdout",
          "text": [
            "[(3, 8), (8, 18), (9, 20), (10, 30)]\n"
          ]
        }
      ]
    },
    {
      "cell_type": "markdown",
      "source": [
        "'e'가 포함되어 있는 과일들만 추출해서 대문자로 출력하는 프로그램을 구현하세요.  \n",
        "fruits = ['apple', 'banana', 'cherry', 'grape', 'kiwi', 'tomato']  \n",
        "\n",
        "[출력결과]  \n",
        "['APPLE', 'CHERRY', 'GRAPE']"
      ],
      "metadata": {
        "id": "Vc7fbzKmPolY"
      }
    },
    {
      "cell_type": "code",
      "source": [
        " fruits = ['apple', 'banana', 'cherry', 'grape', 'kiwi', 'tomato']\n",
        " s = [ item.upper()  for item in fruits   if 'e' in item]\n",
        " print(s)"
      ],
      "metadata": {
        "colab": {
          "base_uri": "https://localhost:8080/"
        },
        "id": "TSpr4S61PSiW",
        "outputId": "406c8623-e044-467c-e8bc-befc58779c4c"
      },
      "execution_count": null,
      "outputs": [
        {
          "output_type": "stream",
          "name": "stdout",
          "text": [
            "['APPLE', 'CHERRY', 'GRAPE']\n"
          ]
        }
      ]
    },
    {
      "cell_type": "markdown",
      "source": [
        "### dict comprehension\n",
        " - 사전 정의시 값을 정하지 않고 호출시사전 내의 값들이 처리되도록 구성\n",
        " - A = {표현식 for (k, v) in 반복가능객체 if 논리식}"
      ],
      "metadata": {
        "id": "OYVlz8INQnk_"
      }
    },
    {
      "cell_type": "code",
      "source": [
        "d = {}\n",
        "for k, v in zip(range(9), range(9)):\n",
        "  d[k] = v\n",
        "print(d)"
      ],
      "metadata": {
        "colab": {
          "base_uri": "https://localhost:8080/"
        },
        "id": "gDgCAGg2P5R2",
        "outputId": "1c8af984-c842-4033-aef8-dbd6209583ef"
      },
      "execution_count": null,
      "outputs": [
        {
          "output_type": "stream",
          "name": "stdout",
          "text": [
            "{0: 0, 1: 1, 2: 2, 3: 3, 4: 4, 5: 5, 6: 6, 7: 7, 8: 8}\n"
          ]
        }
      ]
    },
    {
      "cell_type": "code",
      "source": [
        "d = { k:v for k, v in zip(range(9), range(9)) }\n",
        "print(d)"
      ],
      "metadata": {
        "colab": {
          "base_uri": "https://localhost:8080/"
        },
        "id": "hmT9u3tCRAqd",
        "outputId": "80656348-953d-49ca-ffb3-9a1774c76284"
      },
      "execution_count": null,
      "outputs": [
        {
          "output_type": "stream",
          "name": "stdout",
          "text": [
            "{0: 0, 1: 1, 2: 2, 3: 3, 4: 4, 5: 5, 6: 6, 7: 7, 8: 8}\n"
          ]
        }
      ]
    },
    {
      "cell_type": "code",
      "source": [
        "a = {'x':1, 'y':2, 'z':3}\n",
        "b = {'w':10, 'x':11, 'y':2}\n",
        "print(a.keys())\n",
        "print(b.keys())\n",
        "print(a.keys() - b.keys())\n",
        "d={}\n",
        "for i in a.keys() - b.keys():\n",
        "  d[i]=a[i]\n",
        "print(d)"
      ],
      "metadata": {
        "colab": {
          "base_uri": "https://localhost:8080/"
        },
        "id": "8ehdcZ48RUMm",
        "outputId": "a40ebe70-4a47-439c-fbbd-92ca264d103c"
      },
      "execution_count": null,
      "outputs": [
        {
          "output_type": "stream",
          "name": "stdout",
          "text": [
            "dict_keys(['x', 'y', 'z'])\n",
            "dict_keys(['w', 'x', 'y'])\n",
            "{'z'}\n",
            "{'z': 3}\n"
          ]
        }
      ]
    },
    {
      "cell_type": "code",
      "source": [
        "a = {'x':1, 'y':2, 'z':3}\n",
        "b = {'w':10, 'x':11, 'y':2}\n",
        "d = {i: a[i] for i in a.keys() - b.keys()}\n",
        "print(d)"
      ],
      "metadata": {
        "colab": {
          "base_uri": "https://localhost:8080/"
        },
        "id": "uEhV3Hd3R16V",
        "outputId": "985fbdfb-56b7-4e59-e7a0-982d1f94e5f6"
      },
      "execution_count": null,
      "outputs": [
        {
          "output_type": "stream",
          "name": "stdout",
          "text": [
            "{'z': 3}\n"
          ]
        }
      ]
    },
    {
      "cell_type": "markdown",
      "source": [
        "### set comprehension\n",
        "- Set 정의시 값을 정하지 않고 호출시 Set내의 값들이 처리되도록 구성\n",
        "- A = { 표현식 for 항목 in 반복가능객체 if 논리식}"
      ],
      "metadata": {
        "id": "iMDgnuPTS6vO"
      }
    },
    {
      "cell_type": "code",
      "source": [
        "s = set()\n",
        "for i in range(1, 3):\n",
        "  for j in range(4, 8):\n",
        "    s.add((i,j))\n",
        "print(s)"
      ],
      "metadata": {
        "colab": {
          "base_uri": "https://localhost:8080/"
        },
        "id": "SwZgJgsGSm79",
        "outputId": "8ab3025f-b4d9-4562-a612-01255344772d"
      },
      "execution_count": null,
      "outputs": [
        {
          "output_type": "stream",
          "name": "stdout",
          "text": [
            "{(2, 4), (2, 7), (1, 5), (1, 4), (1, 7), (2, 6), (1, 6), (2, 5)}\n"
          ]
        }
      ]
    },
    {
      "cell_type": "code",
      "source": [
        "s= { (i,j) for i in range(1, 3) for j in range(4, 8)}\n",
        "print(s)"
      ],
      "metadata": {
        "colab": {
          "base_uri": "https://localhost:8080/"
        },
        "id": "NN_yC4ZlTbUM",
        "outputId": "842ef134-20d7-484f-f237-f14fc8ccf92e"
      },
      "execution_count": null,
      "outputs": [
        {
          "output_type": "stream",
          "name": "stdout",
          "text": [
            "{(2, 4), (2, 7), (1, 5), (1, 4), (1, 7), (2, 6), (1, 6), (2, 5)}\n"
          ]
        }
      ]
    },
    {
      "cell_type": "markdown",
      "source": [
        "## Iterator(이터레이터: 반복자)\n",
        "- 이터레이터는 next() 함수 호출시 계속해서 다음 값을 리턴하는 객체이다\n",
        "\n",
        "- 즉 , **값을 하나씩 순차적으로 꺼낼 수 있는 객체**\n",
        "- `for` 반복문에서 하나씩 꺼내 쓰는 그 대상!\n",
        "- 내부적으로 `__iter__()`와 `__next__()` 메서드를 가진 객체\n",
        "\n",
        "---\n",
        "\n",
        "###  이터레이터의 핵심 메서드\n",
        "\n",
        "| 메서드        | 설명                                       |\n",
        "|---------------|--------------------------------------------|\n",
        "| `__iter__()`  | 이터러블을 이터레이터로 변환               |\n",
        "| `__next__()`  | 다음 값을 반환. 더 이상 없으면 `StopIteration` 예외 발생 |\n",
        "\n",
        "---\n",
        "\n",
        "### 예제 1: 직접 이터레이터 사용\n",
        "\n",
        "```python\n",
        "a = [1, 2, 3]      # 리스트 (이터러블)\n",
        "i = iter(a)        # 이터레이터 생성\n",
        "\n",
        "print(next(i))     # 1\n",
        "print(next(i))     # 2\n",
        "print(next(i))     # 3\n",
        "# print(next(i))   # StopIteration 예외 발생\n",
        "```\n",
        "\n",
        "---\n",
        "\n",
        "###  이터러블(Iterable)과의 차이\n",
        "\n",
        "| 개념         | 설명\n"
      ],
      "metadata": {
        "id": "WfT03IrhpK3j"
      }
    },
    {
      "cell_type": "code",
      "source": [
        "a = [1,2]\n",
        "print(a)\n",
        "i = iter(a)\n",
        "print(type(i))  # list_iterator\n",
        "print(next(i))  # 1\n",
        "print(next(i))  # 2\n",
        "print(next(i)) # StopIteration"
      ],
      "metadata": {
        "colab": {
          "base_uri": "https://localhost:8080/",
          "height": 245
        },
        "id": "NY5wIeMspgEL",
        "outputId": "653b84a1-daa0-4ae0-88c8-1b6c984fd330"
      },
      "execution_count": null,
      "outputs": [
        {
          "output_type": "stream",
          "name": "stdout",
          "text": [
            "[1, 2]\n",
            "<class 'list_iterator'>\n",
            "1\n",
            "2\n"
          ]
        },
        {
          "output_type": "error",
          "ename": "StopIteration",
          "evalue": "",
          "traceback": [
            "\u001b[0;31m---------------------------------------------------------------------------\u001b[0m",
            "\u001b[0;31mStopIteration\u001b[0m                             Traceback (most recent call last)",
            "\u001b[0;32m/tmp/ipython-input-138-1464796616.py\u001b[0m in \u001b[0;36m<cell line: 0>\u001b[0;34m()\u001b[0m\n\u001b[1;32m      5\u001b[0m \u001b[0mprint\u001b[0m\u001b[0;34m(\u001b[0m\u001b[0mnext\u001b[0m\u001b[0;34m(\u001b[0m\u001b[0mi\u001b[0m\u001b[0;34m)\u001b[0m\u001b[0;34m)\u001b[0m\u001b[0;34m\u001b[0m\u001b[0;34m\u001b[0m\u001b[0m\n\u001b[1;32m      6\u001b[0m \u001b[0mprint\u001b[0m\u001b[0;34m(\u001b[0m\u001b[0mnext\u001b[0m\u001b[0;34m(\u001b[0m\u001b[0mi\u001b[0m\u001b[0;34m)\u001b[0m\u001b[0;34m)\u001b[0m\u001b[0;34m\u001b[0m\u001b[0;34m\u001b[0m\u001b[0m\n\u001b[0;32m----> 7\u001b[0;31m \u001b[0mprint\u001b[0m\u001b[0;34m(\u001b[0m\u001b[0mnext\u001b[0m\u001b[0;34m(\u001b[0m\u001b[0mi\u001b[0m\u001b[0;34m)\u001b[0m\u001b[0;34m)\u001b[0m\u001b[0;34m\u001b[0m\u001b[0;34m\u001b[0m\u001b[0m\n\u001b[0m",
            "\u001b[0;31mStopIteration\u001b[0m: "
          ]
        }
      ]
    },
    {
      "cell_type": "code",
      "source": [
        "# for ~ in 이용해서 iterator을 사용하면 next()함수를 사용하지 않아도 되며 StopIteration예외에 신경쓰지 않아도 된다.\n",
        "a = [1,2]\n",
        "i = iter(a)\n",
        "for b in i:\n",
        "  print(b)"
      ],
      "metadata": {
        "colab": {
          "base_uri": "https://localhost:8080/"
        },
        "id": "dja4Bd2xqqAL",
        "outputId": "11d69158-02a1-457a-b7d6-c9871935c2db"
      },
      "execution_count": null,
      "outputs": [
        {
          "output_type": "stream",
          "name": "stdout",
          "text": [
            "1\n",
            "2\n"
          ]
        }
      ]
    },
    {
      "cell_type": "markdown",
      "source": [
        "## Generator을 사용하는 목적은 Iterator을 생성하기 위해서 사용한다.\n",
        "\n",
        "## Generator을 생성하는 방법은 2가지가 있다.\n",
        " - ① Generator 함수 (yield 사용) 와 ② Generator 표현식 (Generator Comprehension)\n",
        "\n"
      ],
      "metadata": {
        "id": "Tr_IL7rNrmhL"
      }
    },
    {
      "cell_type": "markdown",
      "source": [
        "### Generator Expression\n",
        " - 파이썬에는 tuple(immutable)에는 comprehension이 존재하지 않고\n",
        "    syntax 상으로 generator 가 생성한다.\n",
        " - 값을 하나씩 “생성”하는 반복자(iterator). 메모리를 덜 사용하며, **지연 평가(Lazy Evaluation)**가 특징이다.\n",
        " - generator를 호출하면 next 메소드를 통해 하나씩 호출하며 StopIteration 이 발생하면 종료된다."
      ],
      "metadata": {
        "id": "EhX31ey_kNns"
      }
    },
    {
      "cell_type": "code",
      "source": [
        "squares = (x ** 2 for x in range(5))  # 제너레이터 표현식으로 제너레이터 객체 생성\n",
        "print(squares)                        # 제너레이터 객체의 메모리 주소 출력\n",
        "print(dir(squares))                   # 제너레이터 객체가 가진 메서드와 속성 목록 출력\n",
        "\n",
        " # x ** 2 for x in range(5) → 계산 로직 (아직 실행 안 됨)\n",
        " # ( ... ) → 이걸 감싸면 제너레이터 표현식\n",
        " # squares → 이 표현식으로 만들어진 제너레이터 객체\n"
      ],
      "metadata": {
        "colab": {
          "base_uri": "https://localhost:8080/"
        },
        "id": "pJK6sTN8Tt48",
        "outputId": "c823ea18-7ec4-4693-fc73-2b6431b5fc57"
      },
      "execution_count": null,
      "outputs": [
        {
          "output_type": "stream",
          "name": "stdout",
          "text": [
            "<generator object <genexpr> at 0x7aa8b8186190>\n",
            "['__class__', '__del__', '__delattr__', '__dir__', '__doc__', '__eq__', '__format__', '__ge__', '__getattribute__', '__getstate__', '__gt__', '__hash__', '__init__', '__init_subclass__', '__iter__', '__le__', '__lt__', '__name__', '__ne__', '__new__', '__next__', '__qualname__', '__reduce__', '__reduce_ex__', '__repr__', '__setattr__', '__sizeof__', '__str__', '__subclasshook__', 'close', 'gi_code', 'gi_frame', 'gi_running', 'gi_suspended', 'gi_yieldfrom', 'send', 'throw']\n"
          ]
        }
      ]
    },
    {
      "cell_type": "markdown",
      "source": [
        "① Generator 함수 (yield 사용) 와 ② Generator 표현식 (Generator Comprehension) 비교"
      ],
      "metadata": {
        "id": "1JJG5yo3ljGL"
      }
    },
    {
      "cell_type": "code",
      "source": [
        "# ① Generator 함수 (yield 사용)\n",
        "def count_up_to(n): # -> \"count_up_to라는 이름의 함수를 만들 건데, 이 함수는 n이라는 숫자를 입력받을 거야\"\n",
        "  i = 1\n",
        "  while i<n:\n",
        "    yield i\n",
        "    i +=1\n",
        "\n",
        "gen = count_up_to(3)  # 제너레이터 객체 생성(실행 아님)\n",
        "print(gen)\n",
        "print(next(gen))  # 1    #i = 1 → yield 1 → 1 반환, 함수 멈춤\n",
        "print(next(gen))  # 2    #i = 2 → yield 2 → 2 반환, 함수 멈춤\n",
        "# print(next(gen))       #i = 3 → while i<3 조건 거짓 , 함수 종료  -> StopIteration\n",
        "\n"
      ],
      "metadata": {
        "colab": {
          "base_uri": "https://localhost:8080/",
          "height": 245
        },
        "id": "IUsp21gdk8gK",
        "outputId": "4698b538-e1d3-41e2-a2c5-3e299c79cbea"
      },
      "execution_count": null,
      "outputs": [
        {
          "output_type": "stream",
          "name": "stdout",
          "text": [
            "<generator object count_up_to at 0x7aa8b8005e50>\n",
            "1\n",
            "2\n"
          ]
        },
        {
          "output_type": "error",
          "ename": "StopIteration",
          "evalue": "",
          "traceback": [
            "\u001b[0;31m---------------------------------------------------------------------------\u001b[0m",
            "\u001b[0;31mStopIteration\u001b[0m                             Traceback (most recent call last)",
            "\u001b[0;32m/tmp/ipython-input-127-448974126.py\u001b[0m in \u001b[0;36m<cell line: 0>\u001b[0;34m()\u001b[0m\n\u001b[1;32m     10\u001b[0m \u001b[0mprint\u001b[0m\u001b[0;34m(\u001b[0m\u001b[0mnext\u001b[0m\u001b[0;34m(\u001b[0m\u001b[0mgen\u001b[0m\u001b[0;34m)\u001b[0m\u001b[0;34m)\u001b[0m\u001b[0;34m\u001b[0m\u001b[0;34m\u001b[0m\u001b[0m\n\u001b[1;32m     11\u001b[0m \u001b[0mprint\u001b[0m\u001b[0;34m(\u001b[0m\u001b[0mnext\u001b[0m\u001b[0;34m(\u001b[0m\u001b[0mgen\u001b[0m\u001b[0;34m)\u001b[0m\u001b[0;34m)\u001b[0m\u001b[0;34m\u001b[0m\u001b[0;34m\u001b[0m\u001b[0m\n\u001b[0;32m---> 12\u001b[0;31m \u001b[0mprint\u001b[0m\u001b[0;34m(\u001b[0m\u001b[0mnext\u001b[0m\u001b[0;34m(\u001b[0m\u001b[0mgen\u001b[0m\u001b[0;34m)\u001b[0m\u001b[0;34m)\u001b[0m\u001b[0;34m\u001b[0m\u001b[0;34m\u001b[0m\u001b[0m\n\u001b[0m\u001b[1;32m     13\u001b[0m \u001b[0;34m\u001b[0m\u001b[0m\n",
            "\u001b[0;31mStopIteration\u001b[0m: "
          ]
        }
      ]
    },
    {
      "cell_type": "code",
      "source": [
        "# ② Generator 표현식 (Generator Comprehension)\n",
        "gen = (x+1 for x in range(2))\n",
        "\n",
        "print(gen)\n",
        "print(next(gen))  # 1\n",
        "print(next(gen))  # 2\n",
        "#print(next(gen)) # StopIteration"
      ],
      "metadata": {
        "colab": {
          "base_uri": "https://localhost:8080/",
          "height": 228
        },
        "id": "7kDs8_Wul0tq",
        "outputId": "b3a5dd78-d65a-491b-b0d0-78f030d50bfc"
      },
      "execution_count": null,
      "outputs": [
        {
          "output_type": "stream",
          "name": "stdout",
          "text": [
            "<generator object <genexpr> at 0x7aa8b80046c0>\n",
            "1\n",
            "2\n"
          ]
        },
        {
          "output_type": "error",
          "ename": "StopIteration",
          "evalue": "",
          "traceback": [
            "\u001b[0;31m---------------------------------------------------------------------------\u001b[0m",
            "\u001b[0;31mStopIteration\u001b[0m                             Traceback (most recent call last)",
            "\u001b[0;32m/tmp/ipython-input-132-458778499.py\u001b[0m in \u001b[0;36m<cell line: 0>\u001b[0;34m()\u001b[0m\n\u001b[1;32m      5\u001b[0m \u001b[0mprint\u001b[0m\u001b[0;34m(\u001b[0m\u001b[0mnext\u001b[0m\u001b[0;34m(\u001b[0m\u001b[0mgen\u001b[0m\u001b[0;34m)\u001b[0m\u001b[0;34m)\u001b[0m\u001b[0;34m\u001b[0m\u001b[0;34m\u001b[0m\u001b[0m\n\u001b[1;32m      6\u001b[0m \u001b[0mprint\u001b[0m\u001b[0;34m(\u001b[0m\u001b[0mnext\u001b[0m\u001b[0;34m(\u001b[0m\u001b[0mgen\u001b[0m\u001b[0;34m)\u001b[0m\u001b[0;34m)\u001b[0m\u001b[0;34m\u001b[0m\u001b[0;34m\u001b[0m\u001b[0m\n\u001b[0;32m----> 7\u001b[0;31m \u001b[0mprint\u001b[0m\u001b[0;34m(\u001b[0m\u001b[0mnext\u001b[0m\u001b[0;34m(\u001b[0m\u001b[0mgen\u001b[0m\u001b[0;34m)\u001b[0m\u001b[0;34m)\u001b[0m\u001b[0;34m\u001b[0m\u001b[0;34m\u001b[0m\u001b[0m\n\u001b[0m",
            "\u001b[0;31mStopIteration\u001b[0m: "
          ]
        }
      ]
    },
    {
      "cell_type": "markdown",
      "source": [
        "반복문에서의 yield 사용\n",
        "- for문 내부에서 자동으로 next()를 호출하고 , StopIteration이 발생하면 반복 종료한다."
      ],
      "metadata": {
        "id": "sqEzxoYssjnb"
      }
    },
    {
      "cell_type": "code",
      "source": [
        "def count_up_to(n):\n",
        "  i = 1\n",
        "  while i < n:\n",
        "    yield i        # 현재 i 값을 내보내고 함수 실행을 잠시 멈춤\n",
        "    i += 1         # i를 1 증가시킴\n",
        "\n",
        "for number in count_up_to(3):\n",
        "  print(number)    # 제너레이터가 내보내는 값을 하나씩 출력\n"
      ],
      "metadata": {
        "colab": {
          "base_uri": "https://localhost:8080/"
        },
        "id": "r_-zDe7uoaDC",
        "outputId": "cd0278f1-5e06-46c1-bdd2-bdc2f63fb7fd"
      },
      "execution_count": null,
      "outputs": [
        {
          "output_type": "stream",
          "name": "stdout",
          "text": [
            "1\n",
            "2\n"
          ]
        }
      ]
    },
    {
      "cell_type": "markdown",
      "source": [
        "예외처리(try/except) yield 사용"
      ],
      "metadata": {
        "id": "a3gdrDjmtZur"
      }
    },
    {
      "cell_type": "code",
      "source": [
        "def safe_divide(nums):\n",
        "  for n in nums:  # [5,2, 0,1]\n",
        "    try:\n",
        "       yield 10/n\n",
        "    except ZeroDivisionError:\n",
        "       yield 'Error: divide by zero'\n",
        "\n",
        "gen = safe_divide([5,2, 0,1])\n",
        "print(gen)\n",
        "#print(next(gen)) # 2.0\n",
        "#print(next(gen)) # 5.0\n",
        "#print(next(gen)) # Error: divide by zero\n",
        "#print(next(gen)) # 10.0\n",
        "# print(next(gen))  #StopIteration\n",
        "print(list(gen))"
      ],
      "metadata": {
        "colab": {
          "base_uri": "https://localhost:8080/"
        },
        "id": "937qOoiCs5ZR",
        "outputId": "55c13570-f1d5-4a09-95e3-add91e6011bc"
      },
      "execution_count": null,
      "outputs": [
        {
          "output_type": "stream",
          "name": "stdout",
          "text": [
            "<generator object safe_divide at 0x7aa8b7fbe0a0>\n",
            "[2.0, 5.0, 'Error: divide by zero', 10.0]\n"
          ]
        }
      ]
    },
    {
      "cell_type": "markdown",
      "source": [
        "## Generate을 사용하는 경우"
      ],
      "metadata": {
        "id": "wHZN8Z5NyWvC"
      }
    },
    {
      "cell_type": "code",
      "source": [
        "  # list comprehension을 사용하면 예외가 발생했을때 정상적으로 실행하지 않는다.\n",
        "  a = [5, 2, 0, 1]\n",
        "  l = [x/0 for x in a]\n",
        "  print(l)"
      ],
      "metadata": {
        "colab": {
          "base_uri": "https://localhost:8080/",
          "height": 263
        },
        "id": "sLcFM9Abt_uR",
        "outputId": "b0bdf582-81d3-4f95-9bc2-2d8ab88d7fde"
      },
      "execution_count": null,
      "outputs": [
        {
          "output_type": "error",
          "ename": "ZeroDivisionError",
          "evalue": "division by zero",
          "traceback": [
            "\u001b[0;31m---------------------------------------------------------------------------\u001b[0m",
            "\u001b[0;31mZeroDivisionError\u001b[0m                         Traceback (most recent call last)",
            "\u001b[0;32m/tmp/ipython-input-150-1062808849.py\u001b[0m in \u001b[0;36m<cell line: 0>\u001b[0;34m()\u001b[0m\n\u001b[1;32m      1\u001b[0m \u001b[0ma\u001b[0m \u001b[0;34m=\u001b[0m \u001b[0;34m[\u001b[0m\u001b[0;36m5\u001b[0m\u001b[0;34m,\u001b[0m\u001b[0;36m2\u001b[0m\u001b[0;34m,\u001b[0m \u001b[0;36m0\u001b[0m\u001b[0;34m,\u001b[0m\u001b[0;36m1\u001b[0m\u001b[0;34m]\u001b[0m\u001b[0;34m\u001b[0m\u001b[0;34m\u001b[0m\u001b[0m\n\u001b[0;32m----> 2\u001b[0;31m \u001b[0ml\u001b[0m \u001b[0;34m=\u001b[0m \u001b[0;34m[\u001b[0m\u001b[0mx\u001b[0m\u001b[0;34m/\u001b[0m\u001b[0;36m0\u001b[0m \u001b[0;32mfor\u001b[0m \u001b[0mx\u001b[0m \u001b[0;32min\u001b[0m \u001b[0ma\u001b[0m\u001b[0;34m]\u001b[0m\u001b[0;34m\u001b[0m\u001b[0;34m\u001b[0m\u001b[0m\n\u001b[0m\u001b[1;32m      3\u001b[0m \u001b[0mprint\u001b[0m\u001b[0;34m(\u001b[0m\u001b[0ml\u001b[0m\u001b[0;34m)\u001b[0m\u001b[0;34m\u001b[0m\u001b[0;34m\u001b[0m\u001b[0m\n",
            "\u001b[0;32m/tmp/ipython-input-150-1062808849.py\u001b[0m in \u001b[0;36m<listcomp>\u001b[0;34m(.0)\u001b[0m\n\u001b[1;32m      1\u001b[0m \u001b[0ma\u001b[0m \u001b[0;34m=\u001b[0m \u001b[0;34m[\u001b[0m\u001b[0;36m5\u001b[0m\u001b[0;34m,\u001b[0m\u001b[0;36m2\u001b[0m\u001b[0;34m,\u001b[0m \u001b[0;36m0\u001b[0m\u001b[0;34m,\u001b[0m\u001b[0;36m1\u001b[0m\u001b[0;34m]\u001b[0m\u001b[0;34m\u001b[0m\u001b[0;34m\u001b[0m\u001b[0m\n\u001b[0;32m----> 2\u001b[0;31m \u001b[0ml\u001b[0m \u001b[0;34m=\u001b[0m \u001b[0;34m[\u001b[0m\u001b[0mx\u001b[0m\u001b[0;34m/\u001b[0m\u001b[0;36m0\u001b[0m \u001b[0;32mfor\u001b[0m \u001b[0mx\u001b[0m \u001b[0;32min\u001b[0m \u001b[0ma\u001b[0m\u001b[0;34m]\u001b[0m\u001b[0;34m\u001b[0m\u001b[0;34m\u001b[0m\u001b[0m\n\u001b[0m\u001b[1;32m      3\u001b[0m \u001b[0mprint\u001b[0m\u001b[0;34m(\u001b[0m\u001b[0ml\u001b[0m\u001b[0;34m)\u001b[0m\u001b[0;34m\u001b[0m\u001b[0;34m\u001b[0m\u001b[0m\n",
            "\u001b[0;31mZeroDivisionError\u001b[0m: division by zero"
          ]
        }
      ]
    },
    {
      "cell_type": "markdown",
      "source": [
        "list comprehension은 모두 실행후 결과를 리턴해 주지만\n",
        "generate expression은 호출할때마다 하나씩 실행을 해서 리턴해주므로 시간이 오래 걸리는 작업이나 데이터 량이 커서 메모리가 부족할때 나누어서 작업할때 사용한다."
      ],
      "metadata": {
        "id": "Dz25uI5c0YEq"
      }
    },
    {
      "cell_type": "code",
      "source": [
        "import time\n",
        "\n",
        "def longtime_job():\n",
        "  print('job start')\n",
        "  time.sleep(1)\n",
        "  return 'done'\n",
        "\n",
        "list_job = [longtime_job() for i in range(5)]\n",
        "print(list_job)\n"
      ],
      "metadata": {
        "colab": {
          "base_uri": "https://localhost:8080/"
        },
        "id": "imDFMmbNxuvZ",
        "outputId": "2cbf1600-15d5-4222-e7ca-fd5c10b4f567"
      },
      "execution_count": null,
      "outputs": [
        {
          "output_type": "stream",
          "name": "stdout",
          "text": [
            "job start\n",
            "job start\n",
            "job start\n",
            "job start\n",
            "job start\n",
            "['done', 'done', 'done', 'done', 'done']\n"
          ]
        }
      ]
    },
    {
      "cell_type": "code",
      "source": [
        "import time\n",
        "\n",
        "def longtime_job():\n",
        "  print('job start')\n",
        "  time.sleep(1)\n",
        "  return 'done'\n",
        "\n",
        "list_job = (longtime_job() for i in range(5))\n",
        "print(next(list_job))\n",
        "print(next(list_job))\n"
      ],
      "metadata": {
        "colab": {
          "base_uri": "https://localhost:8080/"
        },
        "id": "8v0pEFzQy9rQ",
        "outputId": "e8df111d-d2b4-4d8a-e952-e6b6f1452e13"
      },
      "execution_count": null,
      "outputs": [
        {
          "output_type": "stream",
          "name": "stdout",
          "text": [
            "job start\n",
            "done\n",
            "job start\n",
            "done\n"
          ]
        }
      ]
    },
    {
      "cell_type": "markdown",
      "source": [
        "제어 흐름: send(), close(), throw()"
      ],
      "metadata": {
        "id": "meaLn16m07BR"
      }
    },
    {
      "cell_type": "code",
      "source": [
        "# ① send(): 외부에서 값을 보내기\n",
        "\n",
        "def echo():\n",
        "    while True:\n",
        "        received = yield\n",
        "        print(f\"Received: {received}\")\n",
        "\n",
        "g = echo()\n",
        "print(g)\n",
        "print(next(g))           # 제너레이터 시작 (yield 도달)\n",
        "g.send('hello')   # → Received: hello"
      ],
      "metadata": {
        "colab": {
          "base_uri": "https://localhost:8080/"
        },
        "id": "Kf2reYFQznN_",
        "outputId": "33c47c18-58c3-42ec-e680-bc9a0b205573"
      },
      "execution_count": null,
      "outputs": [
        {
          "output_type": "stream",
          "name": "stdout",
          "text": [
            "<generator object echo at 0x7aa8b8006e90>\n",
            "None\n",
            "Received: hello\n"
          ]
        }
      ]
    },
    {
      "cell_type": "code",
      "source": [
        "g.send('python')"
      ],
      "metadata": {
        "colab": {
          "base_uri": "https://localhost:8080/"
        },
        "id": "m96TT9lc1CXY",
        "outputId": "5cd941d7-286c-4ced-fae6-4b00a82f32fd"
      },
      "execution_count": null,
      "outputs": [
        {
          "output_type": "stream",
          "name": "stdout",
          "text": [
            "Received: python\n"
          ]
        }
      ]
    },
    {
      "cell_type": "code",
      "source": [
        "  # ② close(): 제너레이터 종료\n",
        "  g.close()"
      ],
      "metadata": {
        "id": "QvfyJZwo2He_"
      },
      "execution_count": null,
      "outputs": []
    },
    {
      "cell_type": "code",
      "source": [
        "g.send('program')"
      ],
      "metadata": {
        "colab": {
          "base_uri": "https://localhost:8080/",
          "height": 141
        },
        "id": "aF2Lf0sq2MFH",
        "outputId": "f81465d5-0571-41f7-c5ae-bf7eb1d11465"
      },
      "execution_count": null,
      "outputs": [
        {
          "output_type": "error",
          "ename": "StopIteration",
          "evalue": "",
          "traceback": [
            "\u001b[0;31m---------------------------------------------------------------------------\u001b[0m",
            "\u001b[0;31mStopIteration\u001b[0m                             Traceback (most recent call last)",
            "\u001b[0;32m/tmp/ipython-input-161-2431497517.py\u001b[0m in \u001b[0;36m<cell line: 0>\u001b[0;34m()\u001b[0m\n\u001b[0;32m----> 1\u001b[0;31m \u001b[0mg\u001b[0m\u001b[0;34m.\u001b[0m\u001b[0msend\u001b[0m\u001b[0;34m(\u001b[0m\u001b[0;34m'program'\u001b[0m\u001b[0;34m)\u001b[0m\u001b[0;34m\u001b[0m\u001b[0;34m\u001b[0m\u001b[0m\n\u001b[0m",
            "\u001b[0;31mStopIteration\u001b[0m: "
          ]
        }
      ]
    },
    {
      "cell_type": "code",
      "source": [
        "# ③ throw(): 예외 던지기\n",
        "def controlled():\n",
        "    try:\n",
        "        yield\n",
        "    except ValueError:\n",
        "        print(\"Caught ValueError inside generator\")\n",
        "\n",
        "g = controlled()\n",
        "print(g)\n",
        "next(g)\n",
        "g.throw(ValueError)"
      ],
      "metadata": {
        "colab": {
          "base_uri": "https://localhost:8080/",
          "height": 211
        },
        "id": "pnzEHZKf2P53",
        "outputId": "17337a4f-da75-4307-b470-6c933856597a"
      },
      "execution_count": null,
      "outputs": [
        {
          "output_type": "stream",
          "name": "stdout",
          "text": [
            "<generator object controlled at 0x7aa8b81852f0>\n",
            "Caught ValueError inside generator\n"
          ]
        },
        {
          "output_type": "error",
          "ename": "StopIteration",
          "evalue": "",
          "traceback": [
            "\u001b[0;31m---------------------------------------------------------------------------\u001b[0m",
            "\u001b[0;31mStopIteration\u001b[0m                             Traceback (most recent call last)",
            "\u001b[0;32m/tmp/ipython-input-163-1012635571.py\u001b[0m in \u001b[0;36m<cell line: 0>\u001b[0;34m()\u001b[0m\n\u001b[1;32m      9\u001b[0m \u001b[0mprint\u001b[0m\u001b[0;34m(\u001b[0m\u001b[0mg\u001b[0m\u001b[0;34m)\u001b[0m\u001b[0;34m\u001b[0m\u001b[0;34m\u001b[0m\u001b[0m\n\u001b[1;32m     10\u001b[0m \u001b[0mnext\u001b[0m\u001b[0;34m(\u001b[0m\u001b[0mg\u001b[0m\u001b[0;34m)\u001b[0m\u001b[0;34m\u001b[0m\u001b[0;34m\u001b[0m\u001b[0m\n\u001b[0;32m---> 11\u001b[0;31m \u001b[0mg\u001b[0m\u001b[0;34m.\u001b[0m\u001b[0mthrow\u001b[0m\u001b[0;34m(\u001b[0m\u001b[0mValueError\u001b[0m\u001b[0;34m)\u001b[0m\u001b[0;34m\u001b[0m\u001b[0;34m\u001b[0m\u001b[0m\n\u001b[0m",
            "\u001b[0;31mStopIteration\u001b[0m: "
          ]
        }
      ]
    },
    {
      "cell_type": "markdown",
      "source": [
        "yield from: 하위 제너레이터 위임\n",
        "- yield from은 **다른 이터러블(제너레이터 포함)**을 위임해서 반복하는  표현입니다.\n",
        "- yield from iterable은 for item in iterable: yield item과 동일합니다.\n",
        "하지만 더 간결하고 효율적하며, 내부 제너레이터에 예외 전파도 할 수 있어 고급 코드에서 유용합니다."
      ],
      "metadata": {
        "id": "g_FINket29ZB"
      }
    },
    {
      "cell_type": "code",
      "source": [
        "def gen1():\n",
        "    yield from [1, 2, 3]\n",
        "    yield from \"AB\"\n",
        "\n",
        "for x in gen1():\n",
        "    print(x)\n",
        "\n",
        "print(list(gen1()))\n",
        "\n"
      ],
      "metadata": {
        "colab": {
          "base_uri": "https://localhost:8080/"
        },
        "id": "pdiV_DRI2fz_",
        "outputId": "716d2e7e-2d7c-4006-f7aa-27a9239e0283"
      },
      "execution_count": null,
      "outputs": [
        {
          "output_type": "stream",
          "name": "stdout",
          "text": [
            "1\n",
            "2\n",
            "3\n",
            "A\n",
            "B\n",
            "[1, 2, 3, 'A', 'B']\n"
          ]
        }
      ]
    },
    {
      "cell_type": "code",
      "source": [
        "def inner():\n",
        "    yield from range(3)\n",
        "    yield from 'start'\n",
        "    yield 'content'\n",
        "\n",
        "def outer():\n",
        "\n",
        "    yield from inner()\n",
        "    yield 'end'\n",
        "\n",
        "print(list(outer()))"
      ],
      "metadata": {
        "colab": {
          "base_uri": "https://localhost:8080/"
        },
        "id": "mdE_V88k3NKI",
        "outputId": "82322380-ac03-4437-9eea-fe1dcd9f2bcf"
      },
      "execution_count": null,
      "outputs": [
        {
          "output_type": "stream",
          "name": "stdout",
          "text": [
            "[0, 1, 2, 's', 't', 'a', 'r', 't', 'content', 'end']\n"
          ]
        }
      ]
    },
    {
      "cell_type": "markdown",
      "source": [
        "|기능  |  예시  | 사용 시점|\n",
        "|--- |--- |--- |\n",
        "|if/else 컴프리헨션 | [x if x > 0 else 0 for x in nums] | 조건별 처리 |\n",
        "|중첩 for문 | [(x,y) for x in A for y in B] | 모든 조합 생성 |\n",
        "|yield + 예외 처리 | try/except in generator | 안전한 반복 처리 |\n",
        "|send()| 동적으로 값 주입 | 코루틴 또는 상태기반 처리 |\n",
        "|yield from | 서브 제너레이터 위임 | 흐름 연결 및 위임 |"
      ],
      "metadata": {
        "id": "KnOVPVEE4j64"
      }
    },
    {
      "cell_type": "markdown",
      "source": [
        "Comprehension vs Generator 표현식\n",
        "\n",
        "\n",
        "| 항목 | 리스트 컴프리헨션 | 제너레이션 표현식|\n",
        "|------|-------------------|------------------|\n",
        "|예시 | [x*x for x in range(1000)] | (x*x for x in range(1000)) |\n",
        "|결과 | 리스트 생성 | 제너레이터 객체 생성 |\n",
        "|메모리 | 더 많이 사용 |  적게 사용 |\n",
        "|평가 방식 | 즉시 평가 | 지연 평가 (lazy) |\n"
      ],
      "metadata": {
        "id": "OGXUucav4n0h"
      }
    },
    {
      "cell_type": "markdown",
      "source": [
        "언제 어떤 걸 쓰나?\n",
        "\n",
        "|상황                      |           추천 방식        |\n",
        "|--------------------------|----------------------------|\n",
        "|모든 값을 한 번에 써야 함 | List/Dict/Set Comprehension |\n",
        "|값이 많고 하나씩 처리해야 함 | Generator 사용  |\n",
        "|메모리 절약이 중요한 경우 | Generator 표현식 |\n",
        "|간단하고 빠른 값 생성   | 리스트 컴프리헨션 |"
      ],
      "metadata": {
        "id": "mJoGt-gB4yfZ"
      }
    },
    {
      "cell_type": "markdown",
      "source": [
        "## 실제 프로그래밍 문제나 실전 활용 예"
      ],
      "metadata": {
        "id": "2OJL6wKS4_oA"
      }
    },
    {
      "cell_type": "markdown",
      "source": [
        "예제 1: 뉴스 기사 요약용 키워드 필터링기 (Comprehension 활용)\n",
        "\n",
        "- 목표: 주어진 뉴스 본문 리스트에서 특정 키워드를 포함한 문장만 필터링"
      ],
      "metadata": {
        "id": "K4bCPvm65Dwg"
      }
    },
    {
      "cell_type": "code",
      "source": [
        "news_articles = [\n",
        "    \"ChatGPT is transforming the AI world.\",\n",
        "    \"Bitcoin price hits a new high.\",\n",
        "    \"Python dominates machine learning.\",\n",
        "    \"Weather forecast shows heavy rain.\",\n",
        "]\n",
        "\n",
        "keywords = ['AI', 'Python', 'machine learning']\n",
        "\n",
        "# 필터링된 문장 추출 (중첩 조건)\n",
        "filtered = [article for article in news_articles if any(k in article for k in keywords)]\n",
        "\n",
        "print(filtered)"
      ],
      "metadata": {
        "colab": {
          "base_uri": "https://localhost:8080/"
        },
        "id": "IXsrja_Q39lI",
        "outputId": "dff09783-7a42-43b7-c9cb-eacb6dc1ae28"
      },
      "execution_count": null,
      "outputs": [
        {
          "output_type": "stream",
          "name": "stdout",
          "text": [
            "['ChatGPT is transforming the AI world.', 'Python dominates machine learning.']\n"
          ]
        }
      ]
    },
    {
      "cell_type": "markdown",
      "source": [
        "예제 2: 로그 스트리밍 처리기 (Generator + 예외 처리 + 지연 평가)\n",
        "\n",
        "목표\n",
        "- 실시간 로그에서 오류 메시지만 필터링\n",
        "- 중간에 예외가 발생해도 안전하게 처리\n",
        "\n",
        "결과\n",
        "- 메모리를 덜 사용하고, 예외가 생겨도 전체 처리를 멈추지 않는 안전한 구조이다."
      ],
      "metadata": {
        "id": "vm_-y5Kt6Nfw"
      }
    },
    {
      "cell_type": "code",
      "source": [
        "def log_stream(logs):\n",
        "    for line in logs:\n",
        "        try:\n",
        "            if 'ERROR' in line:  #  \"ERROR: Failed to connect to database.\",\n",
        "                yield line\n",
        "            else:\n",
        "                yield f\"IGNORED: {line}\"\n",
        "        except Exception as e:\n",
        "            yield f\"EXCEPTION: {str(e)}\"\n",
        "\n",
        "logs = [\n",
        "    \"INFO: Connection established.\",\n",
        "    \"ERROR: Failed to connect to database.\",\n",
        "    \"DEBUG: Retrying...\",\n",
        "    \"ERROR: Timeout while waiting.\",\n",
        "]\n",
        "\n",
        "stream = log_stream(logs)\n",
        "\n",
        "for entry in stream:\n",
        "    print(entry)"
      ],
      "metadata": {
        "colab": {
          "base_uri": "https://localhost:8080/"
        },
        "id": "5-OVqd_p5Orv",
        "outputId": "d11f6e30-153f-4695-96fc-d206126db3c5"
      },
      "execution_count": null,
      "outputs": [
        {
          "output_type": "stream",
          "name": "stdout",
          "text": [
            "IGNORED: INFO: Connection established.\n",
            "ERROR: Failed to connect to database.\n",
            "IGNORED: DEBUG: Retrying...\n",
            "ERROR: Timeout while waiting.\n"
          ]
        }
      ]
    },
    {
      "cell_type": "markdown",
      "source": [
        "예제 3) 코드 분석기: 함수 이름과 주석 추출 (Comprehension + 조건)\n",
        "\n",
        "\n",
        "목표\n",
        "- dict comprehension + 조건 필터를 활용해 코드 내 함수 정보만 빠르게 추출\n",
        "- Python 파일에서 함수 이름과 docstring만 뽑기 (코드 리뷰용 요약)\n",
        "\n",
        "결과\n",
        "- dict comprehension + 조건 필터를 활용해 코드 내 함수 정보만 빠르게 추출"
      ],
      "metadata": {
        "id": "xNY4e5T37xPg"
      }
    },
    {
      "cell_type": "code",
      "source": [
        "\n",
        "import ast\n",
        "\n",
        "def extract_functions_with_docstrings(code):\n",
        "    tree = ast.parse(code)  # ast 모듈을 사용하여 code문자열을 파싱해서  트리를 생성한다.\n",
        "    print('tree:', tree)\n",
        "    return {\n",
        "        # node.name을 키로 사용하고 ast.get_docstring(node)을 값으로 사용한다.\n",
        "        # ast.walk(tree)는 트리 안의 모든 노드를 순회한다.\n",
        "        # 각 노드 중에서 ast.FunctionDef (함수 정의) 타입인 노드만 필터링한다.\n",
        "        # isinstance(object, classinfo)  : object가 classinfo의 인스턴스이거나 서브클래스의 인스턴스일 경우 True 아니면 False을 리턴\n",
        "        #  object : 검사할 객체\n",
        "        #  classinfo : 클래스\n",
        "        node.name: ast.get_docstring(node)    for node in ast.walk(tree)  if isinstance(node, ast.FunctionDef)\n",
        "    }\n",
        "\n",
        "sample_code = \"\"\"\n",
        "def add(a, b):\n",
        "    '''Adds two numbers.'''\n",
        "    return a + b\n",
        "\n",
        "def multiply(a, b):\n",
        "    return a * b\n",
        "\"\"\"\n",
        "\n",
        "result = extract_functions_with_docstrings(sample_code)\n",
        "print(result)"
      ],
      "metadata": {
        "colab": {
          "base_uri": "https://localhost:8080/"
        },
        "id": "U5BM-P2B7ML_",
        "outputId": "0f5672a1-0f89-4bd8-ad30-bbb4b6ef8599"
      },
      "execution_count": null,
      "outputs": [
        {
          "output_type": "stream",
          "name": "stdout",
          "text": [
            "tree: <ast.Module object at 0x7aa8b8561240>\n",
            "{'add': 'Adds two numbers.', 'multiply': None}\n"
          ]
        }
      ]
    },
    {
      "cell_type": "markdown",
      "source": [
        "예제4)AI 모델 학습 데이터 전처리기: 텍스트 정제 + 토큰 필터링 (Comprehension + Generator)\n",
        "\n",
        "목표:\n",
        "- 텍스트 데이터에서 stopword 제거\n",
        "- 최소 길이 이상 토큰만 유지\n",
        "\n",
        "결과:\n",
        " - Generator로 학습 데이터 사전 정제 → 이후 tokenizer나 vectorizer에 연결 가능"
      ],
      "metadata": {
        "id": "gu0s4f8PAnz8"
      }
    },
    {
      "cell_type": "code",
      "source": [
        "import re\n",
        "\n",
        "STOPWORDS = {'is', 'a', 'the', 'in', 'and', 'of'}\n",
        "\n",
        "def preprocess(texts):\n",
        "    for sentence in texts:\n",
        "        tokens = re.findall(r'\\b\\w+\\b', sentence.lower())\n",
        "       # print('tokens=>', tokens)\n",
        "        # 필터링: stopword 제외 + 길이 3 이상\n",
        "        yield [t for t in tokens if t not in STOPWORDS and len(t) >= 3]\n",
        "\n",
        "raw_data = [\n",
        "    \"The quick brown fox jumps over the lazy dog.\",\n",
        "    \"AI is a branch of computer science.\",\n",
        "    \"Data in the modern world is complex and vast.\"\n",
        "]\n",
        "\n",
        "for tokens in preprocess(raw_data):\n",
        "    print(tokens)\n"
      ],
      "metadata": {
        "colab": {
          "base_uri": "https://localhost:8080/"
        },
        "id": "T2fChTmo75ov",
        "outputId": "6f778d7f-79ab-4b13-9ce6-061f20e5dfcf"
      },
      "execution_count": null,
      "outputs": [
        {
          "output_type": "stream",
          "name": "stdout",
          "text": [
            "['quick', 'brown', 'fox', 'jumps', 'over', 'lazy', 'dog']\n",
            "['branch', 'computer', 'science']\n",
            "['data', 'modern', 'world', 'complex', 'vast']\n"
          ]
        }
      ]
    },
    {
      "cell_type": "code",
      "source": [],
      "metadata": {
        "id": "6qemOs7MA1JO"
      },
      "execution_count": null,
      "outputs": []
    }
  ]
}