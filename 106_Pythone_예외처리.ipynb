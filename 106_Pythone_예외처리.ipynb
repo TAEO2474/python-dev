{
  "nbformat": 4,
  "nbformat_minor": 0,
  "metadata": {
    "colab": {
      "provenance": [],
      "authorship_tag": "ABX9TyNHJdKZSITPh/kbAwtx0fro",
      "include_colab_link": true
    },
    "kernelspec": {
      "name": "python3",
      "display_name": "Python 3"
    },
    "language_info": {
      "name": "python"
    }
  },
  "cells": [
    {
      "cell_type": "markdown",
      "metadata": {
        "id": "view-in-github",
        "colab_type": "text"
      },
      "source": [
        "<a href=\"https://colab.research.google.com/github/TAEO2474/python-dev/blob/main/106_Pythone_%EC%98%88%EC%99%B8%EC%B2%98%EB%A6%AC.ipynb\" target=\"_parent\"><img src=\"https://colab.research.google.com/assets/colab-badge.svg\" alt=\"Open In Colab\"/></a>"
      ]
    },
    {
      "cell_type": "markdown",
      "source": [
        "# 예외처리"
      ],
      "metadata": {
        "id": "lQFiSn0bVSyv"
      }
    },
    {
      "cell_type": "markdown",
      "source": [
        "## 예외(exception)\n",
        "- 코드를 실행하는 중에 발생한 오류이다.\n",
        "- 오류가 발생하는 이유는 프로그램이 잘못 동작하는 것을 막기 위함이다."
      ],
      "metadata": {
        "id": "XRJdaTl4Ve8f"
      }
    },
    {
      "cell_type": "code",
      "execution_count": 3,
      "metadata": {
        "colab": {
          "base_uri": "https://localhost:8080/",
          "height": 147
        },
        "id": "Ah0GIKSoVAuF",
        "outputId": "0e664bdd-39df-4068-9e38-09f65006ebae"
      },
      "outputs": [
        {
          "output_type": "error",
          "ename": "ZeroDivisionError",
          "evalue": "division by zero",
          "traceback": [
            "\u001b[0;31m---------------------------------------------------------------------------\u001b[0m",
            "\u001b[0;31mZeroDivisionError\u001b[0m                         Traceback (most recent call last)",
            "\u001b[0;32m/tmp/ipython-input-3-1566967499.py\u001b[0m in \u001b[0;36m<cell line: 0>\u001b[0;34m()\u001b[0m\n\u001b[0;32m----> 1\u001b[0;31m \u001b[0ma\u001b[0m \u001b[0;34m=\u001b[0m \u001b[0;36m10\u001b[0m \u001b[0;34m/\u001b[0m \u001b[0;36m0\u001b[0m\u001b[0;34m\u001b[0m\u001b[0;34m\u001b[0m\u001b[0m\n\u001b[0m",
            "\u001b[0;31mZeroDivisionError\u001b[0m: division by zero"
          ]
        }
      ],
      "source": [
        "a = 10 / 0\n",
        "# 이 오류는 코드가 10을 0으로 나누려고 시도했기 때문에 발생했습니다.\n",
        "# 어떤 수를 0으로 나누는 것은 수학적으로 정의되지 않기 때문에\n",
        "# 파이썬에서는 ZeroDivisionError를 발생시켜 이러한 잘못된 연산을 알립니다."
      ]
    },
    {
      "cell_type": "markdown",
      "source": [
        "## 예외처리\n",
        "- 예외처리는 에러가 발생해되 실행을 중단하지 않고 계속 실행하게 해주는 방법이다.\n",
        "- 예외처리 구조\n",
        "```\n",
        " try:\n",
        "    실행할 코드\n",
        " except:\n",
        "    오류가 발생했을 때 처리하는 코드\n",
        " else:\n",
        "    오류가 없을 때 처리하는 코드\n",
        " finally:\n",
        "    무조건 처리하는 코드      \n",
        "```\n",
        "- 파이썬에서는 선언할 때 오류를 일일이 체크하지 않고, 사용할 때 에러가 발생하면 디버깅하는 스타일이다.\n",
        "- EAFP\n",
        "   - 허락보다는 용서를 구하기가 쉽다.(Easier to ask for forgiveness than permission)\n",
        "   - 출처 : https://docs.python.org/3/glossary.html\n",
        "\n",
        "- except 뒤에 에러 이름을 넣으면, 해당하는 에러가 발생했을 때만 except를 발생시킨다.\n",
        "- Built-in Exceptions 예외 계층도 : https://docs.python.org/3/library/exceptions.html#exception-hierarchy  "
      ],
      "metadata": {
        "id": "mM41o7jNVmY_"
      }
    },
    {
      "cell_type": "code",
      "source": [
        "# try 블록이 정상적으로 실행되지 않으면 else블록은 실행되지 않는다.\n",
        "# try 실행 -> except 실행 -> finally 실행\n",
        "try:\n",
        "  a = int(3)\n",
        "  b = int('a')\n",
        "  c = int(4)\n",
        "except:\n",
        "  print('숫자가 아닌 문자가 입력되었습니다.')\n",
        "else:\n",
        "  print('{}와{}와{}의 합:{}'.format(a,b,c,a+b+c))\n",
        "finally:\n",
        "  print('program end')\n",
        "\n"
      ],
      "metadata": {
        "colab": {
          "base_uri": "https://localhost:8080/"
        },
        "id": "dc_QycTEVbEY",
        "outputId": "8e76522b-93c9-4377-b856-0bd91a2db0a8"
      },
      "execution_count": 7,
      "outputs": [
        {
          "output_type": "stream",
          "name": "stdout",
          "text": [
            "숫자가 아닌 문자가 입력되었습니다.\n",
            "program end\n"
          ]
        }
      ]
    },
    {
      "cell_type": "code",
      "source": [
        "# try 블록이 완벽하게 실행이 되었기 때문에 else블록이 실행이 된다.\n",
        "# try 실행 -> else 실행 -> finally 실행\n",
        "try:\n",
        "  a = int(3)\n",
        "  b = int(5)\n",
        "  c = int(4)\n",
        "except:\n",
        "  print('숫자가 아닌 문자가 입력되었습니다.')\n",
        "else:\n",
        "  print('{}와{}와{}의 합:{}'.format(a,b,c,a+b+c))\n",
        "finally:\n",
        "  print('program end')"
      ],
      "metadata": {
        "colab": {
          "base_uri": "https://localhost:8080/"
        },
        "id": "w3nIjmm6W2_-",
        "outputId": "f88cf912-e50e-47d2-e3d6-2d3c61b433bd"
      },
      "execution_count": 8,
      "outputs": [
        {
          "output_type": "stream",
          "name": "stdout",
          "text": [
            "3와5와4의 합:12\n",
            "program end\n"
          ]
        }
      ]
    },
    {
      "cell_type": "markdown",
      "source": [
        "## 다중 except\n",
        "- 다중 except 선언이 가능하다.\n",
        "- except뒤에 오는 as는 try 블록에서 발생한 이름을 받아온다.\n",
        "```\n",
        "  try:\n",
        "     실행할 코드\n",
        "  except 예외 as 변수:\n",
        "     예외가 발생했을 때 처리하는 코드\n",
        "  except 예외 as 변수:\n",
        "     예외가 발생했을 때 처리하는 코드  \n",
        "  except:\n",
        "     예외가 발생했을 때 처리하는 코드  \n",
        "```\n",
        "\n",
        "\n",
        "\n",
        "\n"
      ],
      "metadata": {
        "id": "5pcMcG3aWspo"
      }
    },
    {
      "cell_type": "markdown",
      "source": [
        " 바로 아래 소스는 사용자의 입력으로 인해 발생할 수 있는 일반적인 오류들을 미리 예측하고, 이러한 오류가 발생했을 때 프로그램을 안전하게 처리하는 방법을 배우기 위한 좋은 예제입니다."
      ],
      "metadata": {
        "id": "x6InePGHYiof"
      }
    },
    {
      "cell_type": "code",
      "source": [
        "y = [10, 20, 30] # 정수 리스트를 정의합니다.\n",
        "\n",
        "try:\n",
        "  # 사용자로부터 인덱스와 나눌 숫자를 입력받습니다.\n",
        "  # 입력받은 문자열을 공백으로 분리하고 각각 정수로 변환합니다.\n",
        "  index , x = map(int, input('인덱스와 나눌 숫자를 입력하세요:').split())\n",
        "  # 리스트 y에서 입력받은 인덱스에 해당하는 요소를 가져와 입력받은 숫자로 정수 나눗셈을 합니다.\n",
        "  print(y[index] // x)\n",
        "except ZeroDivisionError as e:\n",
        "  # 나눗셈 중 숫자를 0으로 나누려고 할 때 ZeroDivisionError가 발생하며 이 블록이 실행됩니다.\n",
        "  print('숫자를 0으로 나눌 수 없습니다.', e)\n",
        "except IndexError as e:\n",
        "  # 리스트 y에 존재하지 않는 인덱스를 입력했을 때 IndexError가 발생하며 이 블록이 실행됩니다.\n",
        "  print('잘못된 인덱스입니다.', e)\n",
        "except Exception as e:\n",
        "  # 위에 명시된 예외(ZeroDivisionError, IndexError) 외의 다른 예외가 발생했을 때 이 블록이 실행됩니다.\n",
        "  print(e)\n",
        "else:\n",
        "  # try 블록에서 예외가 전혀 발생하지 않고 성공적으로 실행되었을 때 이 블록이 실행됩니다.\n",
        "  print('end')\n",
        "finally:\n",
        "  # 예외 발생 여부와 상관없이 try 블록 실행 후 항상 마지막에 이 블록이 실행됩니다.\n",
        "  print('program end')"
      ],
      "metadata": {
        "colab": {
          "base_uri": "https://localhost:8080/"
        },
        "id": "xb_pTxknWvtu",
        "outputId": "729f9e77-f41e-4b4f-eb5b-41f3db96af29"
      },
      "execution_count": 11,
      "outputs": [
        {
          "output_type": "stream",
          "name": "stdout",
          "text": [
            "인덱스와 나눌 숫자를 입력하세요:0 2\n",
            "5\n",
            "end\n",
            "program end\n"
          ]
        }
      ]
    },
    {
      "cell_type": "markdown",
      "source": [
        "## 강제로 오류 발생시키기\n",
        " - raise"
      ],
      "metadata": {
        "id": "fbJ3q3d2ZSRX"
      }
    },
    {
      "cell_type": "code",
      "source": [
        "try:\n",
        "  # 사용자로부터 정수 입력을 받습니다.\n",
        "  x = int(input('3의 배수 숫자입력:'))\n",
        "  # 입력받은 숫자가 3의 배수가 아닌지 확인합니다.\n",
        "  if x % 3 != 0:\n",
        "    # 만약 3의 배수가 아니면, '3의 배수가 아니다.'라는 메시지와 함께 강제로 예외(Exception)를 발생시킵니다.\n",
        "    raise Exception('3의 배수가 아니다.')\n",
        "  # 예외가 발생하지 않았다면 (즉, 3의 배수라면) 입력받은 숫자를 출력합니다.\n",
        "  print(x)\n",
        "except Exception as e:\n",
        "    # try 블록에서 Exception이 발생하면 이 블록이 실행됩니다.\n",
        "    # 발생한 예외 객체(e)에 담긴 메시지를 출력합니다. (여기서는 '3의 배수가 아니다.' 메시지)\n",
        "    print(e)"
      ],
      "metadata": {
        "colab": {
          "base_uri": "https://localhost:8080/"
        },
        "id": "qioh6ko3W81G",
        "outputId": "c37b8d3b-e025-4cbd-f169-23e38b9e33dc"
      },
      "execution_count": 15,
      "outputs": [
        {
          "output_type": "stream",
          "name": "stdout",
          "text": [
            "3의 배수 숫자입력:9\n",
            "9\n"
          ]
        }
      ]
    },
    {
      "cell_type": "code",
      "source": [
        "# Bird 클래스\n",
        "class Bird:\n",
        "  # fly 메소드\n",
        "  def fly(self):\n",
        "    # pass # 이 부분은 주석 처리되어 있습니다. 원래는 아무것도 하지 않고 넘어가는 역할입니다.\n",
        "    # NotImplementedError를 강제로 발생시킵니다.\n",
        "    # 이는 이 메소드가 자식 클래스에서 반드시 구현되어야 함을 나타냅니다.\n",
        "    raise NotImplementedError\n",
        "\n",
        "# Bird 클래스의 객체를 생성\n",
        "b = Bird()\n",
        "# Bird 객체의 fly 메소드를 호출합니다.\n",
        "# fly 메소드는 NotImplementedError를 발생시키도록 되어 있으므로 여기서 오류가 발생합니다.\n",
        "b.fly()"
      ],
      "metadata": {
        "colab": {
          "base_uri": "https://localhost:8080/",
          "height": 312
        },
        "id": "gRzIIPUKZUbH",
        "outputId": "c067e442-770d-48a5-a32d-14b6f52560fe"
      },
      "execution_count": 17,
      "outputs": [
        {
          "output_type": "error",
          "ename": "NotImplementedError",
          "evalue": "",
          "traceback": [
            "\u001b[0;31m---------------------------------------------------------------------------\u001b[0m",
            "\u001b[0;31mNotImplementedError\u001b[0m                       Traceback (most recent call last)",
            "\u001b[0;32m/tmp/ipython-input-17-1426138121.py\u001b[0m in \u001b[0;36m<cell line: 0>\u001b[0;34m()\u001b[0m\n\u001b[1;32m     12\u001b[0m \u001b[0;31m# Bird 객체의 fly 메소드를 호출합니다.\u001b[0m\u001b[0;34m\u001b[0m\u001b[0;34m\u001b[0m\u001b[0m\n\u001b[1;32m     13\u001b[0m \u001b[0;31m# fly 메소드는 NotImplementedError를 발생시키도록 되어 있으므로 여기서 오류가 발생합니다.\u001b[0m\u001b[0;34m\u001b[0m\u001b[0;34m\u001b[0m\u001b[0m\n\u001b[0;32m---> 14\u001b[0;31m \u001b[0mb\u001b[0m\u001b[0;34m.\u001b[0m\u001b[0mfly\u001b[0m\u001b[0;34m(\u001b[0m\u001b[0;34m)\u001b[0m\u001b[0;34m\u001b[0m\u001b[0;34m\u001b[0m\u001b[0m\n\u001b[0m",
            "\u001b[0;32m/tmp/ipython-input-17-1426138121.py\u001b[0m in \u001b[0;36mfly\u001b[0;34m(self)\u001b[0m\n\u001b[1;32m      6\u001b[0m     \u001b[0;31m# NotImplementedError를 강제로 발생시킵니다.\u001b[0m\u001b[0;34m\u001b[0m\u001b[0;34m\u001b[0m\u001b[0m\n\u001b[1;32m      7\u001b[0m     \u001b[0;31m# 이는 이 메소드가 자식 클래스에서 반드시 구현되어야 함을 나타냅니다.\u001b[0m\u001b[0;34m\u001b[0m\u001b[0;34m\u001b[0m\u001b[0m\n\u001b[0;32m----> 8\u001b[0;31m     \u001b[0;32mraise\u001b[0m \u001b[0mNotImplementedError\u001b[0m\u001b[0;34m\u001b[0m\u001b[0;34m\u001b[0m\u001b[0m\n\u001b[0m\u001b[1;32m      9\u001b[0m \u001b[0;34m\u001b[0m\u001b[0m\n\u001b[1;32m     10\u001b[0m \u001b[0;31m# Bird 클래스의 객체를 생성\u001b[0m\u001b[0;34m\u001b[0m\u001b[0;34m\u001b[0m\u001b[0m\n",
            "\u001b[0;31mNotImplementedError\u001b[0m: "
          ]
        }
      ]
    },
    {
      "cell_type": "code",
      "source": [
        "\n",
        "class Bird:\n",
        "  # fly 메소드를 정의하며, 자식 클래스에서 오버라이딩하도록 NotImplementedError를 발생시킵니다.\n",
        "  def fly(self):\n",
        "    raise NotImplementedError    #  상속받은 자식클래스에서 fly()을 오버라이딩 해줘야 한다.\n",
        "\n",
        "\n",
        "class Eagle(Bird):\n",
        "  # 부모 클래스의 fly 메소드를 오버라이딩(재정의)합니다.\n",
        "  # Eagle은 실제로 날 수 있으므로 여기서 구체적인 동작을 정의합니다.\n",
        "  def fly(self):                 # fly() 오버라이딩을 안하면 오류 발생\n",
        "    print('very fast')\n",
        "\n",
        "  # Eagle 클래스만의 display 메소드를 정의합니다. (클래스 메소드로 정의되어 있음)\n",
        "  def display():\n",
        "    print('display')\n",
        "\n",
        "# Eagle 클래스의 객체를 생성합니다.\n",
        "eagle = Eagle()\n",
        "# Eagle 객체의 오버라이딩된 fly 메소드를 호출합니다.\n",
        "# Eagle 클래스에서 fly를 구현했으므로 NotImplementedError가 발생하지 않습니다.\n",
        "eagle.fly()"
      ],
      "metadata": {
        "colab": {
          "base_uri": "https://localhost:8080/"
        },
        "id": "RHn57J4IZZr2",
        "outputId": "0dbbceea-8e22-4297-a94a-ee3a35942963"
      },
      "execution_count": 22,
      "outputs": [
        {
          "output_type": "stream",
          "name": "stdout",
          "text": [
            "very fast\n"
          ]
        }
      ]
    },
    {
      "cell_type": "code",
      "source": [
        "from abc import abstractmethod\n",
        "\n",
        "class Bird:\n",
        "  @abstractmethod\n",
        "  def fly(self):\n",
        "    pass\n",
        "\n",
        "class Eagle(Bird):\n",
        "  def display(self):\n",
        "    print('display')\n",
        "\n",
        "  def fly(self):\n",
        "    print('very fast')\n",
        "\n",
        "eagle = Eagle()\n",
        "eagle.fly()"
      ],
      "metadata": {
        "id": "sIlc3zREblhQ"
      },
      "execution_count": null,
      "outputs": []
    },
    {
      "cell_type": "code",
      "metadata": {
        "colab": {
          "base_uri": "https://localhost:8080/"
        },
        "id": "tZkasSPjZc-G",
        "outputId": "81fde063-0b21-4c7d-c953-7bfc66a0311b"
      },
      "source": [
        "# abc 모듈에서 abstractmethod 데코레이터와 ABC(추상 기본 클래스)를 임포트합니다.\n",
        "from abc import abstractmethod, ABC\n",
        "\n",
        "# Bird 클래스를 추상 클래스로 정의합니다. (ABC를 상속받습니다)\n",
        "# 추상 클래스는 직접 객체를 만들 수 없으며, 반드시 자식 클래스에서 상속받아 사용해야 합니다.\n",
        "class Bird(ABC):\n",
        "  # fly 메소드를 추상 메소드로 정의합니다.\n",
        "  # 본문 내용은 pass로 비워두어, 기능 구현은 자식 클래스에 위임함을 나타냅니다.\n",
        "  @abstractmethod\n",
        "  def fly(self):\n",
        "    pass\n",
        "\n",
        "# Bird 추상 클래스를 상속받는 Eagle 클래스를 정의합니다.\n",
        "# Eagle 클래스는 Bird의 추상 메소드를 구현해야 객체 생성이 가능합니다.\n",
        "class Eagle(Bird):\n",
        "  # Eagle 클래스만의 display 메소드를 정의합니다. (추상 메소드와 관련 없음)\n",
        "  def display(self):\n",
        "    print('display')\n",
        "\n",
        "  # 부모 클래스의 추상 메소드인 fly를 오버라이딩하여 구현합니다.\n",
        "  # @abstractmethod가 붙은 메소드를 자식 클래스에서 구현하지 않으면 TypeError가 발생하며 객체를 생성할 수 없습니다.\n",
        "  def fly(self):\n",
        "    print('very fast')\n",
        "\n",
        "# Eagle 클래스의 객체를 생성합니다.\n",
        "# Bird 클래스는 추상 클래스라 객체 생성이 불가능하지만, Eagle은 fly 메소드를 구현했으므로 객체 생성이 가능합니다.\n",
        "eagle = Eagle()\n",
        "# Eagle 객체의 오버라이딩된 fly 메소드를 호출합니다.\n",
        "# Eagle 클래스에서 구현한 'very fast'가 출력됩니다.\n",
        "eagle.fly()"
      ],
      "execution_count": 23,
      "outputs": [
        {
          "output_type": "stream",
          "name": "stdout",
          "text": [
            "very fast\n"
          ]
        }
      ]
    },
    {
      "cell_type": "markdown",
      "source": [
        "##  사용자 정의 예외 클래스 만들기"
      ],
      "metadata": {
        "id": "VkLSN_Z-c1Sv"
      }
    },
    {
      "cell_type": "code",
      "source": [
        "class UserClass(Exception):\n",
        "  def __str__(self):\n",
        "    return '허용하지 않는 데이터입니다.'"
      ],
      "metadata": {
        "id": "oEvY3pZ-c1r2"
      },
      "execution_count": 24,
      "outputs": []
    },
    {
      "cell_type": "code",
      "source": [
        "\n",
        "try:\n",
        "  x = int(input('숫자입력:'))\n",
        "  if x<0 :\n",
        "    raise UserClass\n",
        "  print(x)\n",
        "except UserClass as e:\n",
        "  print(e)"
      ],
      "metadata": {
        "colab": {
          "base_uri": "https://localhost:8080/"
        },
        "id": "iru1ZMwFc3dP",
        "outputId": "c5c5b510-1e72-40ca-e40c-ef8bb89aada9"
      },
      "execution_count": 25,
      "outputs": [
        {
          "output_type": "stream",
          "name": "stdout",
          "text": [
            "숫자입력:50\n",
            "50\n"
          ]
        }
      ]
    },
    {
      "cell_type": "code",
      "source": [
        "class UserClass(Exception):\n",
        "    def __init__(self, message='허용하지 않는 데이터입니다.'):\n",
        "        self.message = message\n",
        "\n",
        "    def __str__(self):\n",
        "        return self.message\n",
        ""
      ],
      "metadata": {
        "id": "BJE7FX27c_Ne"
      },
      "execution_count": 26,
      "outputs": []
    },
    {
      "cell_type": "code",
      "source": [
        "try:\n",
        "   x = int(input('숫자입력:'))\n",
        "   if x<0 :\n",
        "    raise UserClass(\"잘못된 입력입니다: 음수는 허용되지 않음\")\n",
        "except UserClass as e:\n",
        "    print(e)  # 출력: 잘못된 입력입니다: 음수는 허용되지 않음"
      ],
      "metadata": {
        "colab": {
          "base_uri": "https://localhost:8080/"
        },
        "id": "j5wERcN5dCau",
        "outputId": "75895672-8c59-4b23-f9f6-46e509a818c3"
      },
      "execution_count": 27,
      "outputs": [
        {
          "name": "stdout",
          "output_type": "stream",
          "text": [
            "숫자입력:5\n"
          ]
        }
      ]
    },
    {
      "cell_type": "code",
      "source": [],
      "metadata": {
        "id": "TG9fC0UwdFFG"
      },
      "execution_count": null,
      "outputs": []
    }
  ]
}