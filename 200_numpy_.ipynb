{
  "nbformat": 4,
  "nbformat_minor": 0,
  "metadata": {
    "colab": {
      "provenance": [],
      "include_colab_link": true
    },
    "kernelspec": {
      "name": "python3",
      "display_name": "Python 3"
    },
    "language_info": {
      "name": "python"
    }
  },
  "cells": [
    {
      "cell_type": "markdown",
      "metadata": {
        "id": "view-in-github",
        "colab_type": "text"
      },
      "source": [
        "<a href=\"https://colab.research.google.com/github/TAEO2474/python-dev/blob/main/200_numpy_.ipynb\" target=\"_parent\"><img src=\"https://colab.research.google.com/assets/colab-badge.svg\" alt=\"Open In Colab\"/></a>"
      ]
    },
    {
      "cell_type": "markdown",
      "source": [
        "# Numpy\n",
        "- NumPy는 Numerical Python의 줄임말로, 파이썬에서 산술 계산을 위한 가장 필수 패키지중 하나이다.\n",
        "- 과학 계산을 위한 대부분의 패키지는 NumPy의 배열 객체를 데이터 교환을 위한 공통 언어처럼 사용한다.\n",
        "- 효율적인 다차원 배열인 ndarray(n dimensional array)는 빠른 배열 계산과 유연한 브로드캐스팅 기능을 제공한다.\n",
        "- 반복문을 작성할 필요 없이 전체 데이터 배열을 빠르게 계산할 수 있는 표준 수학 함수이다.\n",
        "- 배열 데이터를 디스크에 쓰거나 읽을 수 있는 도구와 메모리에 적재된 파일을 다루는 도구이다.\n",
        "- 선형대수, 난수 생성기등에 사용된다.\n",
        "- C, C++, 포트란으로 작성한 코드를 연결할 수 있는 C API가 제공된다.\n",
        "\n",
        "\n",
        "공식문서 https://numpy.org/doc/stable/  \n",
        "numpy 100 문제 https://github.com/rougier/numpy-100"
      ],
      "metadata": {
        "id": "NxfTeb0pifYH"
      }
    },
    {
      "cell_type": "markdown",
      "source": [
        "## 1. 데이터 생성"
      ],
      "metadata": {
        "id": "XBa-eigYjr7W"
      }
    },
    {
      "cell_type": "code",
      "source": [
        "!pip list | grep numpy"
      ],
      "metadata": {
        "colab": {
          "base_uri": "https://localhost:8080/"
        },
        "id": "mf6t2OURj9Nt",
        "outputId": "5633c8d2-026d-4a59-bc3e-6edcd6bd18d0"
      },
      "execution_count": null,
      "outputs": [
        {
          "output_type": "stream",
          "name": "stdout",
          "text": [
            "numpy                                 2.0.2\n"
          ]
        }
      ]
    },
    {
      "cell_type": "code",
      "source": [
        "#!pip install numpy"
      ],
      "metadata": {
        "id": "WHuL4HoijvU9"
      },
      "execution_count": null,
      "outputs": []
    },
    {
      "cell_type": "markdown",
      "source": [
        "## 1. 데이터 생성"
      ],
      "metadata": {
        "id": "WtZaIkoonYuG"
      }
    },
    {
      "cell_type": "code",
      "execution_count": null,
      "metadata": {
        "id": "eWOlLlbAiZmu"
      },
      "outputs": [],
      "source": [
        "import numpy as np"
      ]
    },
    {
      "cell_type": "markdown",
      "source": [
        "### np.array()"
      ],
      "metadata": {
        "id": "V_5BiiXCnfjt"
      }
    },
    {
      "cell_type": "code",
      "source": [
        "# 1차원 배열 = 벡터\n",
        "a = np.array([1,2,3])\n",
        "a"
      ],
      "metadata": {
        "colab": {
          "base_uri": "https://localhost:8080/"
        },
        "id": "3WmgYezWne01",
        "outputId": "5b90e8f9-f156-4faa-8328-59442fb06469"
      },
      "execution_count": null,
      "outputs": [
        {
          "output_type": "execute_result",
          "data": {
            "text/plain": [
              "array([1, 2, 3])"
            ]
          },
          "metadata": {},
          "execution_count": 5
        }
      ]
    },
    {
      "cell_type": "code",
      "source": [
        "print(a)\n",
        "print(dir(a))\n",
        "print(type(a))\n",
        "print(a.shape)"
      ],
      "metadata": {
        "colab": {
          "base_uri": "https://localhost:8080/"
        },
        "id": "W4qTlZHCopX1",
        "outputId": "78a2a285-bf93-4b3c-dc81-b223b86aae67"
      },
      "execution_count": null,
      "outputs": [
        {
          "output_type": "stream",
          "name": "stdout",
          "text": [
            "[1 2 3]\n",
            "['T', '__abs__', '__add__', '__and__', '__array__', '__array_finalize__', '__array_function__', '__array_interface__', '__array_namespace__', '__array_priority__', '__array_struct__', '__array_ufunc__', '__array_wrap__', '__bool__', '__class__', '__class_getitem__', '__complex__', '__contains__', '__copy__', '__deepcopy__', '__delattr__', '__delitem__', '__dir__', '__divmod__', '__dlpack__', '__dlpack_device__', '__doc__', '__eq__', '__float__', '__floordiv__', '__format__', '__ge__', '__getattribute__', '__getitem__', '__getstate__', '__gt__', '__hash__', '__iadd__', '__iand__', '__ifloordiv__', '__ilshift__', '__imatmul__', '__imod__', '__imul__', '__index__', '__init__', '__init_subclass__', '__int__', '__invert__', '__ior__', '__ipow__', '__irshift__', '__isub__', '__iter__', '__itruediv__', '__ixor__', '__le__', '__len__', '__lshift__', '__lt__', '__matmul__', '__mod__', '__mul__', '__ne__', '__neg__', '__new__', '__or__', '__pos__', '__pow__', '__radd__', '__rand__', '__rdivmod__', '__reduce__', '__reduce_ex__', '__repr__', '__rfloordiv__', '__rlshift__', '__rmatmul__', '__rmod__', '__rmul__', '__ror__', '__rpow__', '__rrshift__', '__rshift__', '__rsub__', '__rtruediv__', '__rxor__', '__setattr__', '__setitem__', '__setstate__', '__sizeof__', '__str__', '__sub__', '__subclasshook__', '__truediv__', '__xor__', 'all', 'any', 'argmax', 'argmin', 'argpartition', 'argsort', 'astype', 'base', 'byteswap', 'choose', 'clip', 'compress', 'conj', 'conjugate', 'copy', 'ctypes', 'cumprod', 'cumsum', 'data', 'device', 'diagonal', 'dot', 'dtype', 'dump', 'dumps', 'fill', 'flags', 'flat', 'flatten', 'getfield', 'imag', 'item', 'itemset', 'itemsize', 'mT', 'max', 'mean', 'min', 'nbytes', 'ndim', 'newbyteorder', 'nonzero', 'partition', 'prod', 'ptp', 'put', 'ravel', 'real', 'repeat', 'reshape', 'resize', 'round', 'searchsorted', 'setfield', 'setflags', 'shape', 'size', 'sort', 'squeeze', 'std', 'strides', 'sum', 'swapaxes', 'take', 'to_device', 'tobytes', 'tofile', 'tolist', 'tostring', 'trace', 'transpose', 'var', 'view']\n",
            "<class 'numpy.ndarray'>\n",
            "(3,)\n"
          ]
        }
      ]
    },
    {
      "cell_type": "code",
      "source": [
        "# 2차원 배열 = 행렬\n",
        "b = np.array([[1,2],[3,4]]) # 2행 2열\n",
        "b"
      ],
      "metadata": {
        "colab": {
          "base_uri": "https://localhost:8080/"
        },
        "id": "OmwA62UCpBK-",
        "outputId": "ec95ca3c-0b46-4410-e38e-d4f9d4451ef2"
      },
      "execution_count": null,
      "outputs": [
        {
          "output_type": "execute_result",
          "data": {
            "text/plain": [
              "array([[1, 2],\n",
              "       [3, 4]])"
            ]
          },
          "metadata": {},
          "execution_count": 9
        }
      ]
    },
    {
      "cell_type": "code",
      "source": [
        "print(b)\n",
        "print(dir(b))\n",
        "print(type(b))\n",
        "print(b.shape)"
      ],
      "metadata": {
        "colab": {
          "base_uri": "https://localhost:8080/"
        },
        "id": "II5pDM-ipNP9",
        "outputId": "4020472c-e240-421c-f399-07b35f0bbf5b"
      },
      "execution_count": null,
      "outputs": [
        {
          "output_type": "stream",
          "name": "stdout",
          "text": [
            "[[1 2]\n",
            " [3 4]]\n",
            "['T', '__abs__', '__add__', '__and__', '__array__', '__array_finalize__', '__array_function__', '__array_interface__', '__array_namespace__', '__array_priority__', '__array_struct__', '__array_ufunc__', '__array_wrap__', '__bool__', '__class__', '__class_getitem__', '__complex__', '__contains__', '__copy__', '__deepcopy__', '__delattr__', '__delitem__', '__dir__', '__divmod__', '__dlpack__', '__dlpack_device__', '__doc__', '__eq__', '__float__', '__floordiv__', '__format__', '__ge__', '__getattribute__', '__getitem__', '__getstate__', '__gt__', '__hash__', '__iadd__', '__iand__', '__ifloordiv__', '__ilshift__', '__imatmul__', '__imod__', '__imul__', '__index__', '__init__', '__init_subclass__', '__int__', '__invert__', '__ior__', '__ipow__', '__irshift__', '__isub__', '__iter__', '__itruediv__', '__ixor__', '__le__', '__len__', '__lshift__', '__lt__', '__matmul__', '__mod__', '__mul__', '__ne__', '__neg__', '__new__', '__or__', '__pos__', '__pow__', '__radd__', '__rand__', '__rdivmod__', '__reduce__', '__reduce_ex__', '__repr__', '__rfloordiv__', '__rlshift__', '__rmatmul__', '__rmod__', '__rmul__', '__ror__', '__rpow__', '__rrshift__', '__rshift__', '__rsub__', '__rtruediv__', '__rxor__', '__setattr__', '__setitem__', '__setstate__', '__sizeof__', '__str__', '__sub__', '__subclasshook__', '__truediv__', '__xor__', 'all', 'any', 'argmax', 'argmin', 'argpartition', 'argsort', 'astype', 'base', 'byteswap', 'choose', 'clip', 'compress', 'conj', 'conjugate', 'copy', 'ctypes', 'cumprod', 'cumsum', 'data', 'device', 'diagonal', 'dot', 'dtype', 'dump', 'dumps', 'fill', 'flags', 'flat', 'flatten', 'getfield', 'imag', 'item', 'itemset', 'itemsize', 'mT', 'max', 'mean', 'min', 'nbytes', 'ndim', 'newbyteorder', 'nonzero', 'partition', 'prod', 'ptp', 'put', 'ravel', 'real', 'repeat', 'reshape', 'resize', 'round', 'searchsorted', 'setfield', 'setflags', 'shape', 'size', 'sort', 'squeeze', 'std', 'strides', 'sum', 'swapaxes', 'take', 'to_device', 'tobytes', 'tofile', 'tolist', 'tostring', 'trace', 'transpose', 'var', 'view']\n",
            "<class 'numpy.ndarray'>\n",
            "(2, 2)\n"
          ]
        }
      ]
    },
    {
      "cell_type": "code",
      "source": [
        "# 3차원 배열 = 텐서(tensor)\n",
        "c = np.array([[[1,2],[3,4]],[[5,6],[7,8]]]) # 2층(공간, 면), 2행 , 2열\n",
        "c"
      ],
      "metadata": {
        "colab": {
          "base_uri": "https://localhost:8080/"
        },
        "id": "g7CuJoDipgid",
        "outputId": "379485b1-d25b-43cb-c7cd-20eab27af1b3"
      },
      "execution_count": null,
      "outputs": [
        {
          "output_type": "execute_result",
          "data": {
            "text/plain": [
              "array([[[1, 2],\n",
              "        [3, 4]],\n",
              "\n",
              "       [[5, 6],\n",
              "        [7, 8]]])"
            ]
          },
          "metadata": {},
          "execution_count": 12
        }
      ]
    },
    {
      "cell_type": "code",
      "source": [
        "print(c)\n",
        "print(dir(c))\n",
        "print(type(c))\n",
        "print(c.shape)"
      ],
      "metadata": {
        "colab": {
          "base_uri": "https://localhost:8080/"
        },
        "id": "kl_IFnU7qE-8",
        "outputId": "7828c4c2-fd78-4735-c47f-f4f87ef8c416"
      },
      "execution_count": null,
      "outputs": [
        {
          "output_type": "stream",
          "name": "stdout",
          "text": [
            "[[[1 2]\n",
            "  [3 4]]\n",
            "\n",
            " [[5 6]\n",
            "  [7 8]]]\n",
            "['T', '__abs__', '__add__', '__and__', '__array__', '__array_finalize__', '__array_function__', '__array_interface__', '__array_namespace__', '__array_priority__', '__array_struct__', '__array_ufunc__', '__array_wrap__', '__bool__', '__class__', '__class_getitem__', '__complex__', '__contains__', '__copy__', '__deepcopy__', '__delattr__', '__delitem__', '__dir__', '__divmod__', '__dlpack__', '__dlpack_device__', '__doc__', '__eq__', '__float__', '__floordiv__', '__format__', '__ge__', '__getattribute__', '__getitem__', '__getstate__', '__gt__', '__hash__', '__iadd__', '__iand__', '__ifloordiv__', '__ilshift__', '__imatmul__', '__imod__', '__imul__', '__index__', '__init__', '__init_subclass__', '__int__', '__invert__', '__ior__', '__ipow__', '__irshift__', '__isub__', '__iter__', '__itruediv__', '__ixor__', '__le__', '__len__', '__lshift__', '__lt__', '__matmul__', '__mod__', '__mul__', '__ne__', '__neg__', '__new__', '__or__', '__pos__', '__pow__', '__radd__', '__rand__', '__rdivmod__', '__reduce__', '__reduce_ex__', '__repr__', '__rfloordiv__', '__rlshift__', '__rmatmul__', '__rmod__', '__rmul__', '__ror__', '__rpow__', '__rrshift__', '__rshift__', '__rsub__', '__rtruediv__', '__rxor__', '__setattr__', '__setitem__', '__setstate__', '__sizeof__', '__str__', '__sub__', '__subclasshook__', '__truediv__', '__xor__', 'all', 'any', 'argmax', 'argmin', 'argpartition', 'argsort', 'astype', 'base', 'byteswap', 'choose', 'clip', 'compress', 'conj', 'conjugate', 'copy', 'ctypes', 'cumprod', 'cumsum', 'data', 'device', 'diagonal', 'dot', 'dtype', 'dump', 'dumps', 'fill', 'flags', 'flat', 'flatten', 'getfield', 'imag', 'item', 'itemset', 'itemsize', 'mT', 'max', 'mean', 'min', 'nbytes', 'ndim', 'newbyteorder', 'nonzero', 'partition', 'prod', 'ptp', 'put', 'ravel', 'real', 'repeat', 'reshape', 'resize', 'round', 'searchsorted', 'setfield', 'setflags', 'shape', 'size', 'sort', 'squeeze', 'std', 'strides', 'sum', 'swapaxes', 'take', 'to_device', 'tobytes', 'tofile', 'tolist', 'tostring', 'trace', 'transpose', 'var', 'view']\n",
            "<class 'numpy.ndarray'>\n",
            "(2, 2, 2)\n"
          ]
        }
      ]
    },
    {
      "cell_type": "code",
      "source": [
        "a = np.array([1,2,3])\n",
        "a"
      ],
      "metadata": {
        "colab": {
          "base_uri": "https://localhost:8080/"
        },
        "id": "d4Kngbq6qwWd",
        "outputId": "7d894037-aacc-4a07-9287-bb7e176f3572"
      },
      "execution_count": null,
      "outputs": [
        {
          "output_type": "execute_result",
          "data": {
            "text/plain": [
              "array([1, 2, 3])"
            ]
          },
          "metadata": {},
          "execution_count": 14
        }
      ]
    },
    {
      "cell_type": "code",
      "source": [
        "print(a[0])"
      ],
      "metadata": {
        "colab": {
          "base_uri": "https://localhost:8080/"
        },
        "id": "FpeSx6Qdq0td",
        "outputId": "c406af0c-7413-413e-d563-95ea81c06f7e"
      },
      "execution_count": null,
      "outputs": [
        {
          "output_type": "stream",
          "name": "stdout",
          "text": [
            "1\n"
          ]
        }
      ]
    },
    {
      "cell_type": "code",
      "source": [
        "# 문자 데이터가 하나라도 있으면 전체가 문자로 바뀐다.\n",
        "# numpy는 homogeneous 즉 같은 데이터 타입만 저장 할 수 있다.\n",
        "a = np.array([1, '2', 3])\n",
        "a"
      ],
      "metadata": {
        "colab": {
          "base_uri": "https://localhost:8080/"
        },
        "id": "MlrnEFKtrFm8",
        "outputId": "5917a08f-88f1-43b5-af80-1a38b7c8dc13"
      },
      "execution_count": null,
      "outputs": [
        {
          "output_type": "execute_result",
          "data": {
            "text/plain": [
              "array(['1', '2', '3'], dtype='<U21')"
            ]
          },
          "metadata": {},
          "execution_count": 17
        }
      ]
    },
    {
      "cell_type": "code",
      "source": [
        "a = np.array(['a', 1, True])\n",
        "a"
      ],
      "metadata": {
        "colab": {
          "base_uri": "https://localhost:8080/"
        },
        "id": "H80oxh7OrkjV",
        "outputId": "1241caea-664f-4871-99bb-e01c6e8732f8"
      },
      "execution_count": null,
      "outputs": [
        {
          "output_type": "execute_result",
          "data": {
            "text/plain": [
              "array(['a', '1', 'True'], dtype='<U21')"
            ]
          },
          "metadata": {},
          "execution_count": 18
        }
      ]
    },
    {
      "cell_type": "code",
      "source": [
        "a = np.array([True, False, True])\n",
        "a"
      ],
      "metadata": {
        "colab": {
          "base_uri": "https://localhost:8080/"
        },
        "id": "YjMQcFRpruLl",
        "outputId": "e185ea03-32d6-40b2-9e83-5261201a9ce5"
      },
      "execution_count": null,
      "outputs": [
        {
          "output_type": "execute_result",
          "data": {
            "text/plain": [
              "array([ True, False,  True])"
            ]
          },
          "metadata": {},
          "execution_count": 19
        }
      ]
    },
    {
      "cell_type": "code",
      "source": [
        "a = np.array([True, False, True, 0, 1]) # False -> 0, True -> 1\n",
        "a"
      ],
      "metadata": {
        "colab": {
          "base_uri": "https://localhost:8080/"
        },
        "id": "XYBGeKarr0xc",
        "outputId": "ec104610-4a78-441e-e5a3-d70286e6075e"
      },
      "execution_count": null,
      "outputs": [
        {
          "output_type": "execute_result",
          "data": {
            "text/plain": [
              "array([1, 0, 1, 0, 1])"
            ]
          },
          "metadata": {},
          "execution_count": 20
        }
      ]
    },
    {
      "cell_type": "markdown",
      "source": [
        "### np.zeros\n",
        "- tuple로 인자를 넣으면 그대로 모양을 만든다.\n",
        "- (2,3) : 2행 3열의 행렬을 만든다.\n",
        "- zeros는 기본값으로 0.으로 값을 모두 채운다.\n",
        "  - np.zeros((2,3))\n",
        "  - np.zeors([2,3])"
      ],
      "metadata": {
        "id": "BaVNkMkVsG9c"
      }
    },
    {
      "cell_type": "code",
      "source": [
        "a = np.zeros(3)\n",
        "print(a)"
      ],
      "metadata": {
        "colab": {
          "base_uri": "https://localhost:8080/"
        },
        "id": "jHla_TFsr99M",
        "outputId": "ae9b5ca2-3b56-495b-8f29-ae54ce951957"
      },
      "execution_count": null,
      "outputs": [
        {
          "output_type": "stream",
          "name": "stdout",
          "text": [
            "[0. 0. 0.]\n"
          ]
        }
      ]
    },
    {
      "cell_type": "code",
      "source": [
        "a = np.zeros((2,3))\n",
        "print(a)"
      ],
      "metadata": {
        "colab": {
          "base_uri": "https://localhost:8080/"
        },
        "id": "J9sGqsILsmHF",
        "outputId": "3d56156d-c2f3-4152-f252-713de44aa8c2"
      },
      "execution_count": null,
      "outputs": [
        {
          "output_type": "stream",
          "name": "stdout",
          "text": [
            "[[0. 0. 0.]\n",
            " [0. 0. 0.]]\n"
          ]
        }
      ]
    },
    {
      "cell_type": "markdown",
      "source": [
        "### np.eye\n",
        "- eye는 단위행렬\n",
        "- 숫자만 사용할 수 있다."
      ],
      "metadata": {
        "id": "dprZ2vrVsvkU"
      }
    },
    {
      "cell_type": "code",
      "source": [
        "a = np.eye(3)\n",
        "print(a)"
      ],
      "metadata": {
        "colab": {
          "base_uri": "https://localhost:8080/"
        },
        "id": "B2HpvEbUsxbk",
        "outputId": "4978a9f9-9ae3-46b1-fe11-db2fb9fe7518"
      },
      "execution_count": null,
      "outputs": [
        {
          "output_type": "stream",
          "name": "stdout",
          "text": [
            "[[1. 0. 0.]\n",
            " [0. 1. 0.]\n",
            " [0. 0. 1.]]\n"
          ]
        }
      ]
    },
    {
      "cell_type": "code",
      "source": [
        "a = np.eye(3, 2) # 3행 2열\n",
        "print(a)"
      ],
      "metadata": {
        "colab": {
          "base_uri": "https://localhost:8080/"
        },
        "id": "matz01YUtC6N",
        "outputId": "c65c1865-287e-4d68-ef5d-2399b3da06d5"
      },
      "execution_count": null,
      "outputs": [
        {
          "output_type": "stream",
          "name": "stdout",
          "text": [
            "[[1. 0.]\n",
            " [0. 1.]\n",
            " [0. 0.]]\n"
          ]
        }
      ]
    },
    {
      "cell_type": "code",
      "source": [
        "# 1를 시작되는 위치를 지정할 수 있다. (k=1)\n",
        "a = np.eye(3, 4, k=1) # 3행 4열\n",
        "print(a)"
      ],
      "metadata": {
        "colab": {
          "base_uri": "https://localhost:8080/"
        },
        "id": "qv9zXOIGtOjs",
        "outputId": "58952def-3c60-4cab-d7e6-fa9ccd6287a5"
      },
      "execution_count": null,
      "outputs": [
        {
          "output_type": "stream",
          "name": "stdout",
          "text": [
            "[[0. 1. 0. 0.]\n",
            " [0. 0. 1. 0.]\n",
            " [0. 0. 0. 1.]]\n"
          ]
        }
      ]
    },
    {
      "cell_type": "markdown",
      "source": [
        "### identity\n",
        "- 수학에서 단위행렬은 영어로 identity matrix\n",
        "- 크기 한 개만 지정해서 생성할 수 있다."
      ],
      "metadata": {
        "id": "PYtan_sDt2hF"
      }
    },
    {
      "cell_type": "code",
      "source": [
        "a = np.identity(3)\n",
        "print(a)"
      ],
      "metadata": {
        "colab": {
          "base_uri": "https://localhost:8080/"
        },
        "id": "3Ygvr2Prt3m0",
        "outputId": "add571d1-26f0-4533-e1de-7fd5c8977a93"
      },
      "execution_count": null,
      "outputs": [
        {
          "output_type": "stream",
          "name": "stdout",
          "text": [
            "[[1. 0. 0.]\n",
            " [0. 1. 0.]\n",
            " [0. 0. 1.]]\n"
          ]
        }
      ]
    },
    {
      "cell_type": "markdown",
      "source": [
        "### np.full\n",
        "- 지정한 크기의 배열을 생성하고 채울 값을 지정한다."
      ],
      "metadata": {
        "id": "77_E4Mr4uJhD"
      }
    },
    {
      "cell_type": "code",
      "source": [
        "a = np.full((2,2), 1)  # np.full(shape, fill_value)\n",
        "print(a)"
      ],
      "metadata": {
        "colab": {
          "base_uri": "https://localhost:8080/"
        },
        "id": "l_Sa7v6ZuGv8",
        "outputId": "65d2fe52-0683-4918-9f86-b842992ee53e"
      },
      "execution_count": null,
      "outputs": [
        {
          "output_type": "stream",
          "name": "stdout",
          "text": [
            "[[1 1]\n",
            " [1 1]]\n"
          ]
        }
      ]
    },
    {
      "cell_type": "code",
      "source": [
        "a = np.full((2,2), [1, 2])  # np.full(shape, fill_value)\n",
        "print(a)"
      ],
      "metadata": {
        "colab": {
          "base_uri": "https://localhost:8080/"
        },
        "id": "Aimaq-aGueVU",
        "outputId": "5f27ea76-3b4c-45e0-90ea-81507c9d6845"
      },
      "execution_count": null,
      "outputs": [
        {
          "output_type": "stream",
          "name": "stdout",
          "text": [
            "[[1 2]\n",
            " [1 2]]\n"
          ]
        }
      ]
    },
    {
      "cell_type": "code",
      "source": [
        "a = np.full((2,2), [[1],[2]])  # np.full(shape, fill_value)\n",
        "print(a)"
      ],
      "metadata": {
        "colab": {
          "base_uri": "https://localhost:8080/"
        },
        "id": "UxjLAlzQuoAk",
        "outputId": "3a256617-e0e1-4230-b795-c55b7ad9e89c"
      },
      "execution_count": null,
      "outputs": [
        {
          "output_type": "stream",
          "name": "stdout",
          "text": [
            "[[1 1]\n",
            " [2 2]]\n"
          ]
        }
      ]
    },
    {
      "cell_type": "code",
      "source": [
        "a = np.full((2,2), [[1,2],[3,4]])  # np.full(shape, fill_value)\n",
        "print(a)"
      ],
      "metadata": {
        "colab": {
          "base_uri": "https://localhost:8080/"
        },
        "id": "m5vFLugxuy1b",
        "outputId": "8a40e834-705c-4653-84cc-7dcc144fc416"
      },
      "execution_count": null,
      "outputs": [
        {
          "output_type": "stream",
          "name": "stdout",
          "text": [
            "[[1 2]\n",
            " [3 4]]\n"
          ]
        }
      ]
    },
    {
      "cell_type": "markdown",
      "source": [
        "###  np.empty\n",
        "- 배열을 생성하고 초기화를 지정하지 않는다.\n",
        "- 메모리에 있는 값이나 이전에 사용했던 값들로 채워진다."
      ],
      "metadata": {
        "id": "pEg6U_Rcu-i8"
      }
    },
    {
      "cell_type": "code",
      "source": [
        "a = np.empty(3)\n",
        "print(a)"
      ],
      "metadata": {
        "colab": {
          "base_uri": "https://localhost:8080/"
        },
        "id": "ynQPA_BIu_BL",
        "outputId": "3a26a344-f0a5-48c0-e3cf-a152cf8e628b"
      },
      "execution_count": null,
      "outputs": [
        {
          "output_type": "stream",
          "name": "stdout",
          "text": [
            "[1. 1. 1.]\n"
          ]
        }
      ]
    },
    {
      "cell_type": "code",
      "source": [
        "a = np.empty((2,3))\n",
        "print(a)"
      ],
      "metadata": {
        "colab": {
          "base_uri": "https://localhost:8080/"
        },
        "id": "z5YEl7a3vIij",
        "outputId": "df2e54b7-f088-4671-d2fc-c2b7579cc92e"
      },
      "execution_count": null,
      "outputs": [
        {
          "output_type": "stream",
          "name": "stdout",
          "text": [
            "[[1. 0. 0.]\n",
            " [1. 0. 0.]]\n"
          ]
        }
      ]
    },
    {
      "cell_type": "markdown",
      "source": [
        "### np.ones\n",
        "- 배열의 모든 값을 1.로 채운다."
      ],
      "metadata": {
        "id": "I3I_cmeXvhTT"
      }
    },
    {
      "cell_type": "code",
      "source": [
        "a = np.ones(3)\n",
        "print(a)"
      ],
      "metadata": {
        "colab": {
          "base_uri": "https://localhost:8080/"
        },
        "id": "-2DAKWa3viDE",
        "outputId": "5ad7db97-4adf-4e3f-cbd6-132fc3f6caea"
      },
      "execution_count": null,
      "outputs": [
        {
          "output_type": "stream",
          "name": "stdout",
          "text": [
            "[1. 1. 1.]\n"
          ]
        }
      ]
    },
    {
      "cell_type": "markdown",
      "source": [
        "### _like\n",
        "  - _like가 붙으면 shape이 같게 만들어진다.\n",
        "  - 연산하기 위해서 shape을 맞춰야 하는 경우가 있다."
      ],
      "metadata": {
        "id": "sDyKIY9rv_H8"
      }
    },
    {
      "cell_type": "code",
      "source": [
        "a = np.array([[1,2,3],[4,5,6]])\n",
        "print(a)"
      ],
      "metadata": {
        "colab": {
          "base_uri": "https://localhost:8080/"
        },
        "id": "xzUdKFZawA57",
        "outputId": "c9120fb2-a478-4cf0-8f68-561d39af3d68"
      },
      "execution_count": null,
      "outputs": [
        {
          "output_type": "stream",
          "name": "stdout",
          "text": [
            "[[1 2 3]\n",
            " [4 5 6]]\n"
          ]
        }
      ]
    },
    {
      "cell_type": "code",
      "source": [
        "a = np.ones_like(a) # a배열의 shape을 복사한다.\n",
        "print(a)"
      ],
      "metadata": {
        "colab": {
          "base_uri": "https://localhost:8080/"
        },
        "id": "m9oNO8S3wNgV",
        "outputId": "2e7cdc38-568d-4a2c-eacc-3cb39de5cf5c"
      },
      "execution_count": null,
      "outputs": [
        {
          "output_type": "stream",
          "name": "stdout",
          "text": [
            "[[1 1 1]\n",
            " [1 1 1]]\n"
          ]
        }
      ]
    },
    {
      "cell_type": "code",
      "source": [
        "a = np.array([[1.,2.,3.],[4.,5.,6.]])\n",
        "print(a)"
      ],
      "metadata": {
        "colab": {
          "base_uri": "https://localhost:8080/"
        },
        "id": "sHJsJ_i7wgEz",
        "outputId": "8a694604-906c-48bc-92a5-83c13749a652"
      },
      "execution_count": null,
      "outputs": [
        {
          "output_type": "stream",
          "name": "stdout",
          "text": [
            "[[1. 2. 3.]\n",
            " [4. 5. 6.]]\n"
          ]
        }
      ]
    },
    {
      "cell_type": "code",
      "source": [
        "a = np.ones_like(a) # a배열의 shape을 복사한다.\n",
        "print(a)"
      ],
      "metadata": {
        "colab": {
          "base_uri": "https://localhost:8080/"
        },
        "id": "UwZYfLJTwj9E",
        "outputId": "a874eb91-4541-4707-debe-5f38f4f54477"
      },
      "execution_count": null,
      "outputs": [
        {
          "output_type": "stream",
          "name": "stdout",
          "text": [
            "[[1. 1. 1.]\n",
            " [1. 1. 1.]]\n"
          ]
        }
      ]
    },
    {
      "cell_type": "code",
      "source": [
        "a = np.empty_like(a)\n",
        "print(a)"
      ],
      "metadata": {
        "colab": {
          "base_uri": "https://localhost:8080/"
        },
        "id": "llsAZE1Cw4zr",
        "outputId": "21bbc116-d422-4da9-bc01-55c97dffd75a"
      },
      "execution_count": null,
      "outputs": [
        {
          "output_type": "stream",
          "name": "stdout",
          "text": [
            "[[1. 1. 1.]\n",
            " [1. 1. 1.]]\n"
          ]
        }
      ]
    },
    {
      "cell_type": "code",
      "source": [
        "a = np.zeros_like(a)\n",
        "print(a)"
      ],
      "metadata": {
        "colab": {
          "base_uri": "https://localhost:8080/"
        },
        "id": "Y8qFSjH-xCFT",
        "outputId": "2650b953-31b7-4b96-fe54-adfa07f1d186"
      },
      "execution_count": null,
      "outputs": [
        {
          "output_type": "stream",
          "name": "stdout",
          "text": [
            "[[0. 0. 0.]\n",
            " [0. 0. 0.]]\n"
          ]
        }
      ]
    },
    {
      "cell_type": "markdown",
      "source": [
        "### linspace\n",
        "- 동등한 간격으로 값을 생성한다.\n",
        "- 0부터 49까지 50개가 생성된다면 세 번째 num인자 값이 생략되여 있으므로 start와  end 계산해서 default 50이 생성된다.\n",
        "- linspace(start, end, num)\n",
        "- linspace (0, 49) #num의 default value 50"
      ],
      "metadata": {
        "id": "-5wWFMarxSc0"
      }
    },
    {
      "cell_type": "code",
      "source": [
        "a = np.linspace(0, 49)\n",
        "a"
      ],
      "metadata": {
        "colab": {
          "base_uri": "https://localhost:8080/"
        },
        "id": "Owi048koxe2z",
        "outputId": "60ee5d45-6ef9-473f-f3b3-d9b168eb933d"
      },
      "execution_count": null,
      "outputs": [
        {
          "output_type": "execute_result",
          "data": {
            "text/plain": [
              "array([ 0.,  1.,  2.,  3.,  4.,  5.,  6.,  7.,  8.,  9., 10., 11., 12.,\n",
              "       13., 14., 15., 16., 17., 18., 19., 20., 21., 22., 23., 24., 25.,\n",
              "       26., 27., 28., 29., 30., 31., 32., 33., 34., 35., 36., 37., 38.,\n",
              "       39., 40., 41., 42., 43., 44., 45., 46., 47., 48., 49.])"
            ]
          },
          "metadata": {},
          "execution_count": 42
        }
      ]
    },
    {
      "cell_type": "code",
      "source": [
        "a = np.linspace(0, 5)\n",
        "a"
      ],
      "metadata": {
        "colab": {
          "base_uri": "https://localhost:8080/"
        },
        "id": "jFAuSmpMxpmD",
        "outputId": "2955e2a7-f6fb-4ea7-f53e-ccfe48ab39f5"
      },
      "execution_count": null,
      "outputs": [
        {
          "output_type": "execute_result",
          "data": {
            "text/plain": [
              "array([0.        , 0.10204082, 0.20408163, 0.30612245, 0.40816327,\n",
              "       0.51020408, 0.6122449 , 0.71428571, 0.81632653, 0.91836735,\n",
              "       1.02040816, 1.12244898, 1.2244898 , 1.32653061, 1.42857143,\n",
              "       1.53061224, 1.63265306, 1.73469388, 1.83673469, 1.93877551,\n",
              "       2.04081633, 2.14285714, 2.24489796, 2.34693878, 2.44897959,\n",
              "       2.55102041, 2.65306122, 2.75510204, 2.85714286, 2.95918367,\n",
              "       3.06122449, 3.16326531, 3.26530612, 3.36734694, 3.46938776,\n",
              "       3.57142857, 3.67346939, 3.7755102 , 3.87755102, 3.97959184,\n",
              "       4.08163265, 4.18367347, 4.28571429, 4.3877551 , 4.48979592,\n",
              "       4.59183673, 4.69387755, 4.79591837, 4.89795918, 5.        ])"
            ]
          },
          "metadata": {},
          "execution_count": 43
        }
      ]
    },
    {
      "cell_type": "code",
      "source": [
        "# endpoint=False로 설정하면 5가 포함이 안된다.\n",
        "a = np.linspace(0, 5, endpoint=False)\n",
        "a"
      ],
      "metadata": {
        "colab": {
          "base_uri": "https://localhost:8080/"
        },
        "id": "DhuMp2vWx5F7",
        "outputId": "9980a5cd-9078-4fb0-ef81-bb11b178facc"
      },
      "execution_count": null,
      "outputs": [
        {
          "output_type": "execute_result",
          "data": {
            "text/plain": [
              "array([0. , 0.1, 0.2, 0.3, 0.4, 0.5, 0.6, 0.7, 0.8, 0.9, 1. , 1.1, 1.2,\n",
              "       1.3, 1.4, 1.5, 1.6, 1.7, 1.8, 1.9, 2. , 2.1, 2.2, 2.3, 2.4, 2.5,\n",
              "       2.6, 2.7, 2.8, 2.9, 3. , 3.1, 3.2, 3.3, 3.4, 3.5, 3.6, 3.7, 3.8,\n",
              "       3.9, 4. , 4.1, 4.2, 4.3, 4.4, 4.5, 4.6, 4.7, 4.8, 4.9])"
            ]
          },
          "metadata": {},
          "execution_count": 44
        }
      ]
    },
    {
      "cell_type": "markdown",
      "source": [
        "### logspace\n",
        "- linspace과 비슷하다.\n",
        "- log scale을 사용하는 차이가 있다.\n",
        "- 1부터 50까지 사이의 10개의 요소를 생성한다."
      ],
      "metadata": {
        "id": "3fkLFOPG00X7"
      }
    },
    {
      "cell_type": "code",
      "source": [
        "a = np.logspace(1, 50)\n",
        "print(a)"
      ],
      "metadata": {
        "colab": {
          "base_uri": "https://localhost:8080/"
        },
        "id": "XFtDKIoMyMAD",
        "outputId": "71f90f15-f8e3-458e-d3d8-f9a385baa6d5"
      },
      "execution_count": null,
      "outputs": [
        {
          "output_type": "stream",
          "name": "stdout",
          "text": [
            "[1.e+01 1.e+02 1.e+03 1.e+04 1.e+05 1.e+06 1.e+07 1.e+08 1.e+09 1.e+10\n",
            " 1.e+11 1.e+12 1.e+13 1.e+14 1.e+15 1.e+16 1.e+17 1.e+18 1.e+19 1.e+20\n",
            " 1.e+21 1.e+22 1.e+23 1.e+24 1.e+25 1.e+26 1.e+27 1.e+28 1.e+29 1.e+30\n",
            " 1.e+31 1.e+32 1.e+33 1.e+34 1.e+35 1.e+36 1.e+37 1.e+38 1.e+39 1.e+40\n",
            " 1.e+41 1.e+42 1.e+43 1.e+44 1.e+45 1.e+46 1.e+47 1.e+48 1.e+49 1.e+50]\n"
          ]
        }
      ]
    },
    {
      "cell_type": "code",
      "source": [
        "a = np.logspace(1, 50, 10)\n",
        "print(a)"
      ],
      "metadata": {
        "colab": {
          "base_uri": "https://localhost:8080/"
        },
        "id": "yoC7lQH81EnT",
        "outputId": "7e73debc-e223-4789-93fb-dda4c6930f69"
      },
      "execution_count": null,
      "outputs": [
        {
          "output_type": "stream",
          "name": "stdout",
          "text": [
            "[1.00000000e+01 2.78255940e+06 7.74263683e+11 2.15443469e+17\n",
            " 5.99484250e+22 1.66810054e+28 4.64158883e+33 1.29154967e+39\n",
            " 3.59381366e+44 1.00000000e+50]\n"
          ]
        }
      ]
    },
    {
      "cell_type": "markdown",
      "source": [
        "## dtype (데이터 타입)\n",
        "- numpy는 c언어를 기반으로 해서 만들었기 때문에 c의 데이터 타입을 차용할 수 있다."
      ],
      "metadata": {
        "id": "VidSjhk01cQa"
      }
    },
    {
      "cell_type": "code",
      "source": [
        "a = np.array([1,2,3])\n",
        "a"
      ],
      "metadata": {
        "colab": {
          "base_uri": "https://localhost:8080/"
        },
        "id": "KyJa4p_t1hab",
        "outputId": "bbcfe81a-5c92-439e-8fb7-76a187315894"
      },
      "execution_count": null,
      "outputs": [
        {
          "output_type": "execute_result",
          "data": {
            "text/plain": [
              "array([1, 2, 3])"
            ]
          },
          "metadata": {},
          "execution_count": 47
        }
      ]
    },
    {
      "cell_type": "code",
      "source": [
        "print(type(a))\n",
        "print(a.dtype)  # int64 : 정수 64bit => 8byte"
      ],
      "metadata": {
        "colab": {
          "base_uri": "https://localhost:8080/"
        },
        "id": "mvLkcWop1k1C",
        "outputId": "b0d4bf57-55ea-476d-b11c-bd2eca6cacf1"
      },
      "execution_count": null,
      "outputs": [
        {
          "output_type": "stream",
          "name": "stdout",
          "text": [
            "<class 'numpy.ndarray'>\n",
            "int64\n"
          ]
        }
      ]
    },
    {
      "cell_type": "code",
      "source": [
        "b = np.array([1,2,3], dtype=np.int8)\n",
        "b"
      ],
      "metadata": {
        "colab": {
          "base_uri": "https://localhost:8080/"
        },
        "id": "5hN2qRhu2yST",
        "outputId": "a2029be4-7199-43a7-c147-197cf2b17ea8"
      },
      "execution_count": null,
      "outputs": [
        {
          "output_type": "execute_result",
          "data": {
            "text/plain": [
              "array([1, 2, 3], dtype=int8)"
            ]
          },
          "metadata": {},
          "execution_count": 50
        }
      ]
    },
    {
      "cell_type": "code",
      "source": [
        "b = np.array([-128, 127,2,3,100,120], dtype=np.int8) # -128 ~  127까지만 저장 가능함\n",
        "b"
      ],
      "metadata": {
        "colab": {
          "base_uri": "https://localhost:8080/"
        },
        "id": "ysjfCY1d3A2q",
        "outputId": "5ef53519-839e-4a05-f378-8b9df2b7b755"
      },
      "execution_count": null,
      "outputs": [
        {
          "output_type": "execute_result",
          "data": {
            "text/plain": [
              "array([-128,  127,    2,    3,  100,  120], dtype=int8)"
            ]
          },
          "metadata": {},
          "execution_count": 57
        }
      ]
    },
    {
      "cell_type": "code",
      "source": [
        "b = np.array([-128, 127,2,3,100,120], dtype=int) # python의 int == numpydml int64\n",
        "b"
      ],
      "metadata": {
        "colab": {
          "base_uri": "https://localhost:8080/"
        },
        "id": "4t9MP8ug3x57",
        "outputId": "02dba84f-1482-46e7-d0fc-e7a93d421c12"
      },
      "execution_count": null,
      "outputs": [
        {
          "output_type": "execute_result",
          "data": {
            "text/plain": [
              "array([-128,  127,    2,    3,  100,  120])"
            ]
          },
          "metadata": {},
          "execution_count": 59
        }
      ]
    },
    {
      "cell_type": "code",
      "source": [
        "print(type(b))\n",
        "print(b.dtype)"
      ],
      "metadata": {
        "colab": {
          "base_uri": "https://localhost:8080/"
        },
        "id": "uLt-TxL64HhT",
        "outputId": "c804a659-421a-4bd9-88bd-71bfabdb748b"
      },
      "execution_count": null,
      "outputs": [
        {
          "output_type": "stream",
          "name": "stdout",
          "text": [
            "<class 'numpy.ndarray'>\n",
            "int64\n"
          ]
        }
      ]
    },
    {
      "cell_type": "markdown",
      "source": [
        "### python의 도움말"
      ],
      "metadata": {
        "id": "I2Vel6vc4kti"
      }
    },
    {
      "cell_type": "code",
      "source": [
        "sum?"
      ],
      "metadata": {
        "id": "OrNxVNbu4s3x"
      },
      "execution_count": null,
      "outputs": []
    },
    {
      "cell_type": "code",
      "source": [
        "help(sum)"
      ],
      "metadata": {
        "colab": {
          "base_uri": "https://localhost:8080/"
        },
        "id": "6UZsuiLF44_i",
        "outputId": "cd1212f5-7381-4109-f35e-82c5e2bc5c25"
      },
      "execution_count": null,
      "outputs": [
        {
          "output_type": "stream",
          "name": "stdout",
          "text": [
            "Help on built-in function sum in module builtins:\n",
            "\n",
            "sum(iterable, /, start=0)\n",
            "    Return the sum of a 'start' value (default: 0) plus an iterable of numbers\n",
            "    \n",
            "    When the iterable is empty, return the start value.\n",
            "    This function is intended specifically for use with numeric values and may\n",
            "    reject non-numeric types.\n",
            "\n"
          ]
        }
      ]
    },
    {
      "cell_type": "markdown",
      "source": [
        "### numpy 도움말"
      ],
      "metadata": {
        "id": "ju-hhgzm5CvC"
      }
    },
    {
      "cell_type": "code",
      "source": [
        "np.array?"
      ],
      "metadata": {
        "id": "yc_r4MGJ5Fq6"
      },
      "execution_count": null,
      "outputs": []
    },
    {
      "cell_type": "code",
      "source": [
        "help(np.array)"
      ],
      "metadata": {
        "id": "_CS1Ki8D5M2p"
      },
      "execution_count": null,
      "outputs": []
    },
    {
      "cell_type": "markdown",
      "source": [
        "### 데이터의 모양확인"
      ],
      "metadata": {
        "id": "lY_dJe475yaR"
      }
    },
    {
      "cell_type": "code",
      "source": [
        "a = np.array([[1,2,3],[4,5,6]])\n",
        "print(a)"
      ],
      "metadata": {
        "colab": {
          "base_uri": "https://localhost:8080/"
        },
        "id": "b3gEBncE5sCC",
        "outputId": "b8bb5d0d-36f4-4a73-d2e3-6609939b8db1"
      },
      "execution_count": null,
      "outputs": [
        {
          "output_type": "stream",
          "name": "stdout",
          "text": [
            "[[1 2 3]\n",
            " [4 5 6]]\n"
          ]
        }
      ]
    },
    {
      "cell_type": "code",
      "source": [
        "# array의 모양을 알려준다.\n",
        "print(a.shape)"
      ],
      "metadata": {
        "colab": {
          "base_uri": "https://localhost:8080/"
        },
        "id": "YYxqgpru58yK",
        "outputId": "24186872-5c71-41cb-93b5-dd01a1cc5643"
      },
      "execution_count": null,
      "outputs": [
        {
          "output_type": "stream",
          "name": "stdout",
          "text": [
            "(2, 3)\n"
          ]
        }
      ]
    },
    {
      "cell_type": "code",
      "source": [
        "# array이 몇 차원인지 알려준다.\n",
        "print(a.ndim)"
      ],
      "metadata": {
        "colab": {
          "base_uri": "https://localhost:8080/"
        },
        "id": "nCuyG7Ah6C1y",
        "outputId": "db71166a-86d3-4b59-c885-8fc2109771c0"
      },
      "execution_count": null,
      "outputs": [
        {
          "output_type": "stream",
          "name": "stdout",
          "text": [
            "2\n"
          ]
        }
      ]
    },
    {
      "cell_type": "code",
      "source": [
        "# array의 데이터 타입을 알려준다.\n",
        "print(a.dtype)"
      ],
      "metadata": {
        "colab": {
          "base_uri": "https://localhost:8080/"
        },
        "id": "UZmmuFhQ6FtR",
        "outputId": "630efcdd-db79-44fa-8860-f1038b346149"
      },
      "execution_count": null,
      "outputs": [
        {
          "output_type": "stream",
          "name": "stdout",
          "text": [
            "int64\n"
          ]
        }
      ]
    },
    {
      "cell_type": "code",
      "source": [
        "# array에 저장된 요소의 갯수를 알려준다.\n",
        "print(a.size)"
      ],
      "metadata": {
        "colab": {
          "base_uri": "https://localhost:8080/"
        },
        "id": "ziDTlPEq6beT",
        "outputId": "d979fd41-8e1e-47e9-9706-e7952e2d837d"
      },
      "execution_count": null,
      "outputs": [
        {
          "output_type": "stream",
          "name": "stdout",
          "text": [
            "6\n"
          ]
        }
      ]
    },
    {
      "cell_type": "code",
      "source": [
        "# 요소당의 byte수를 알려준다.\n",
        "print(a.itemsize) #8ibt = 1byte, 64bit=8byte"
      ],
      "metadata": {
        "colab": {
          "base_uri": "https://localhost:8080/"
        },
        "id": "sdM0aI1K6iOp",
        "outputId": "268041a9-b8b8-4fd6-8d44-06c71310b59f"
      },
      "execution_count": null,
      "outputs": [
        {
          "output_type": "stream",
          "name": "stdout",
          "text": [
            "8\n"
          ]
        }
      ]
    },
    {
      "cell_type": "markdown",
      "source": [
        "### numpy와 python의 속도 차이"
      ],
      "metadata": {
        "id": "KD-JzLuI7KAB"
      }
    },
    {
      "cell_type": "code",
      "source": [
        "np.arange(10)  # ([start,] stop [,step])"
      ],
      "metadata": {
        "colab": {
          "base_uri": "https://localhost:8080/"
        },
        "id": "FkP2SDZ47MyL",
        "outputId": "aa7bb0c3-b4db-49d0-cdfb-efdb5d270a50"
      },
      "execution_count": null,
      "outputs": [
        {
          "output_type": "execute_result",
          "data": {
            "text/plain": [
              "array([0, 1, 2, 3, 4, 5, 6, 7, 8, 9])"
            ]
          },
          "metadata": {},
          "execution_count": 75
        }
      ]
    },
    {
      "cell_type": "code",
      "source": [
        "# numpy을 이용한 계산\n",
        "%time np.sum(np.arange(1000000))"
      ],
      "metadata": {
        "colab": {
          "base_uri": "https://localhost:8080/"
        },
        "id": "-1w9DcyC7QdJ",
        "outputId": "eeab76ba-d3c4-4302-a346-0b2cdf5b59e2"
      },
      "execution_count": null,
      "outputs": [
        {
          "output_type": "stream",
          "name": "stdout",
          "text": [
            "CPU times: user 842 µs, sys: 5.2 ms, total: 6.04 ms\n",
            "Wall time: 5.25 ms\n"
          ]
        },
        {
          "output_type": "execute_result",
          "data": {
            "text/plain": [
              "np.int64(499999500000)"
            ]
          },
          "metadata": {},
          "execution_count": 76
        }
      ]
    },
    {
      "cell_type": "code",
      "source": [
        "# python을 이용한 계산\n",
        "%time sum(range(1000000))"
      ],
      "metadata": {
        "colab": {
          "base_uri": "https://localhost:8080/"
        },
        "id": "8Q3ol73x7x_Z",
        "outputId": "d831ef88-2528-4ed1-c486-cdce2df88e97"
      },
      "execution_count": null,
      "outputs": [
        {
          "output_type": "stream",
          "name": "stdout",
          "text": [
            "CPU times: user 17 ms, sys: 857 µs, total: 17.9 ms\n",
            "Wall time: 17.7 ms\n"
          ]
        },
        {
          "output_type": "execute_result",
          "data": {
            "text/plain": [
              "499999500000"
            ]
          },
          "metadata": {},
          "execution_count": 77
        }
      ]
    },
    {
      "cell_type": "markdown",
      "source": [
        "## copy\n",
        "\n",
        "※ 대입문 6가지  \n",
        "\n",
        " a = 1  \n",
        " a = b = 1   \n",
        " a, *b = 1, 2, 3  \n",
        " a += 1  \n",
        " global, nolocal  "
      ],
      "metadata": {
        "id": "R8wPhpO68Jxr"
      }
    },
    {
      "cell_type": "markdown",
      "source": [
        "#### python에서 copy"
      ],
      "metadata": {
        "id": "2DOtuGK48aES"
      }
    },
    {
      "cell_type": "code",
      "source": [
        "a = [1, 2, 3]  # list"
      ],
      "metadata": {
        "id": "1rQzzKI98MsA"
      },
      "execution_count": null,
      "outputs": []
    },
    {
      "cell_type": "code",
      "source": [
        "b = a"
      ],
      "metadata": {
        "id": "MkgdZMJg8hY4"
      },
      "execution_count": null,
      "outputs": []
    },
    {
      "cell_type": "code",
      "source": [
        "b"
      ],
      "metadata": {
        "colab": {
          "base_uri": "https://localhost:8080/"
        },
        "id": "zEFbAFYX8iLJ",
        "outputId": "a10173f8-eb28-4a33-d75b-33c8f06871e4"
      },
      "execution_count": null,
      "outputs": [
        {
          "output_type": "execute_result",
          "data": {
            "text/plain": [
              "[1, 2, 3]"
            ]
          },
          "metadata": {},
          "execution_count": 80
        }
      ]
    },
    {
      "cell_type": "code",
      "source": [
        "a is b  # 메모리 주소 비교"
      ],
      "metadata": {
        "colab": {
          "base_uri": "https://localhost:8080/"
        },
        "id": "7VcKKTeF8i3x",
        "outputId": "c89aca70-170d-47b8-8c98-ba10dfde0dd7"
      },
      "execution_count": null,
      "outputs": [
        {
          "output_type": "execute_result",
          "data": {
            "text/plain": [
              "True"
            ]
          },
          "metadata": {},
          "execution_count": 82
        }
      ]
    },
    {
      "cell_type": "code",
      "source": [
        "b[0] = 7"
      ],
      "metadata": {
        "id": "yyYqV5l38j15"
      },
      "execution_count": null,
      "outputs": []
    },
    {
      "cell_type": "code",
      "source": [
        "print(a)\n",
        "print(b)"
      ],
      "metadata": {
        "colab": {
          "base_uri": "https://localhost:8080/"
        },
        "id": "Qi2PXxAf8rkp",
        "outputId": "51af48f3-4ca3-4ef0-c0c9-2714b47c0221"
      },
      "execution_count": null,
      "outputs": [
        {
          "output_type": "stream",
          "name": "stdout",
          "text": [
            "[7, 2, 3]\n",
            "[7, 2, 3]\n"
          ]
        }
      ]
    },
    {
      "cell_type": "markdown",
      "source": [
        "list 1차원일때 copy"
      ],
      "metadata": {
        "id": "IULmCGen8yHC"
      }
    },
    {
      "cell_type": "code",
      "source": [
        "a = [1,2,3]"
      ],
      "metadata": {
        "id": "i2vfmUhE81CQ"
      },
      "execution_count": null,
      "outputs": []
    },
    {
      "cell_type": "code",
      "source": [
        "b = a.copy()"
      ],
      "metadata": {
        "id": "0SD912zH82vA"
      },
      "execution_count": null,
      "outputs": []
    },
    {
      "cell_type": "code",
      "source": [
        "id(a)"
      ],
      "metadata": {
        "colab": {
          "base_uri": "https://localhost:8080/"
        },
        "id": "v0WiU8_684ZJ",
        "outputId": "51796d6c-c912-4632-a810-bcbd3f6b5c90"
      },
      "execution_count": null,
      "outputs": [
        {
          "output_type": "execute_result",
          "data": {
            "text/plain": [
              "133162358434304"
            ]
          },
          "metadata": {},
          "execution_count": 87
        }
      ]
    },
    {
      "cell_type": "code",
      "source": [
        "id(b)"
      ],
      "metadata": {
        "colab": {
          "base_uri": "https://localhost:8080/"
        },
        "id": "aQ2woKqL85Xh",
        "outputId": "27fd23e9-b5cc-4e97-f2ca-51b193c64321"
      },
      "execution_count": null,
      "outputs": [
        {
          "output_type": "execute_result",
          "data": {
            "text/plain": [
              "133162358425280"
            ]
          },
          "metadata": {},
          "execution_count": 88
        }
      ]
    },
    {
      "cell_type": "code",
      "source": [
        "a is b"
      ],
      "metadata": {
        "colab": {
          "base_uri": "https://localhost:8080/"
        },
        "id": "Y04Szjta877w",
        "outputId": "1daea2a5-5d60-4425-d681-25c9d110c8fe"
      },
      "execution_count": null,
      "outputs": [
        {
          "output_type": "execute_result",
          "data": {
            "text/plain": [
              "False"
            ]
          },
          "metadata": {},
          "execution_count": 89
        }
      ]
    },
    {
      "cell_type": "code",
      "source": [
        "a == b  # 값 비교"
      ],
      "metadata": {
        "colab": {
          "base_uri": "https://localhost:8080/"
        },
        "id": "FKTD9jx18_Wp",
        "outputId": "99e733d5-2ebd-47ec-eefb-c557a2261197"
      },
      "execution_count": null,
      "outputs": [
        {
          "output_type": "execute_result",
          "data": {
            "text/plain": [
              "True"
            ]
          },
          "metadata": {},
          "execution_count": 91
        }
      ]
    },
    {
      "cell_type": "code",
      "source": [
        "b[0] = 8\n",
        "# a는 안바뀐다.\n",
        "print(a)\n",
        "print(b)"
      ],
      "metadata": {
        "colab": {
          "base_uri": "https://localhost:8080/"
        },
        "id": "qxak7-Qr9IrT",
        "outputId": "ecc84a44-ac84-415b-da2c-d80eea3b8687"
      },
      "execution_count": null,
      "outputs": [
        {
          "output_type": "stream",
          "name": "stdout",
          "text": [
            "[1, 2, 3]\n",
            "[8, 2, 3]\n"
          ]
        }
      ]
    },
    {
      "cell_type": "code",
      "source": [
        "print(a is b) # 메모리 주소 비교\n",
        "print(a == b) # 값 비교"
      ],
      "metadata": {
        "colab": {
          "base_uri": "https://localhost:8080/"
        },
        "id": "g0ts__tZ9mdS",
        "outputId": "2f42a99f-60b8-45ec-92ca-ec22fe43770c"
      },
      "execution_count": null,
      "outputs": [
        {
          "output_type": "stream",
          "name": "stdout",
          "text": [
            "False\n",
            "False\n"
          ]
        }
      ]
    },
    {
      "cell_type": "markdown",
      "source": [
        "list가 2차원일때 copy"
      ],
      "metadata": {
        "id": "lQzQdbAx9u8C"
      }
    },
    {
      "cell_type": "code",
      "source": [
        "a = [[1,2,3]]"
      ],
      "metadata": {
        "id": "5KWuuMk59ptx"
      },
      "execution_count": null,
      "outputs": []
    },
    {
      "cell_type": "code",
      "source": [
        "type(a)"
      ],
      "metadata": {
        "colab": {
          "base_uri": "https://localhost:8080/"
        },
        "id": "csyxz8FH90aw",
        "outputId": "232ac115-0a14-4f58-9a91-bcdabcf3d787"
      },
      "execution_count": null,
      "outputs": [
        {
          "output_type": "execute_result",
          "data": {
            "text/plain": [
              "list"
            ]
          },
          "metadata": {},
          "execution_count": 95
        }
      ]
    },
    {
      "cell_type": "code",
      "source": [
        "b = a.copy()"
      ],
      "metadata": {
        "id": "aEgTrDDb9035"
      },
      "execution_count": null,
      "outputs": []
    },
    {
      "cell_type": "code",
      "source": [
        "print(id(a))\n",
        "print(id(b))"
      ],
      "metadata": {
        "colab": {
          "base_uri": "https://localhost:8080/"
        },
        "id": "0vpTxm2O94kg",
        "outputId": "0e7b307d-2813-4415-d2a8-fc6aca7f3605"
      },
      "execution_count": null,
      "outputs": [
        {
          "output_type": "stream",
          "name": "stdout",
          "text": [
            "133162358428608\n",
            "133162358989568\n"
          ]
        }
      ]
    },
    {
      "cell_type": "code",
      "source": [
        "print(a is b)\n",
        "print(a == b)"
      ],
      "metadata": {
        "colab": {
          "base_uri": "https://localhost:8080/"
        },
        "id": "L_ULlO279-bK",
        "outputId": "f403ab08-62b7-4e9a-e7b0-c6ea51def75d"
      },
      "execution_count": null,
      "outputs": [
        {
          "output_type": "stream",
          "name": "stdout",
          "text": [
            "False\n",
            "True\n"
          ]
        }
      ]
    },
    {
      "cell_type": "code",
      "source": [
        "b[0][0] = 10"
      ],
      "metadata": {
        "id": "rYhXeucv-AdJ"
      },
      "execution_count": null,
      "outputs": []
    },
    {
      "cell_type": "code",
      "source": [
        "print(a[0])\n",
        "print(b[0])"
      ],
      "metadata": {
        "colab": {
          "base_uri": "https://localhost:8080/"
        },
        "id": "p1wIsPsj-H_x",
        "outputId": "3dd1fb83-f5d9-4df4-aafa-db7e7dd083ba"
      },
      "execution_count": null,
      "outputs": [
        {
          "output_type": "stream",
          "name": "stdout",
          "text": [
            "[10, 2, 3]\n",
            "[10, 2, 3]\n"
          ]
        }
      ]
    },
    {
      "cell_type": "code",
      "source": [
        "import copy"
      ],
      "metadata": {
        "id": "jigV-t30-KLY"
      },
      "execution_count": null,
      "outputs": []
    },
    {
      "cell_type": "code",
      "source": [
        "a = [[1,2,3]]\n",
        "b = copy.deepcopy(a) # list가 2차원일때 deep copy을 하기 위해서 copy모듈에 있는 deepcopy메소드를 사용한다."
      ],
      "metadata": {
        "id": "vr4KAwij-n8I"
      },
      "execution_count": null,
      "outputs": []
    },
    {
      "cell_type": "code",
      "source": [
        "print(a[0] is b[0]) # 메모리 주소 False\n",
        "print(a[0] == b[0]) # 값 True"
      ],
      "metadata": {
        "colab": {
          "base_uri": "https://localhost:8080/"
        },
        "id": "73ADdE5M-5HA",
        "outputId": "24fe6960-9d01-49cd-8cac-99a8a9f5efc7"
      },
      "execution_count": null,
      "outputs": [
        {
          "output_type": "stream",
          "name": "stdout",
          "text": [
            "False\n",
            "True\n"
          ]
        }
      ]
    },
    {
      "cell_type": "code",
      "source": [
        "b[0][0] = 10"
      ],
      "metadata": {
        "id": "T6Rb5SWN-_JI"
      },
      "execution_count": null,
      "outputs": []
    },
    {
      "cell_type": "code",
      "source": [
        "print(a[0] is b[0]) # 메모리 주소 False\n",
        "print(a[0] == b[0]) # 값 False"
      ],
      "metadata": {
        "colab": {
          "base_uri": "https://localhost:8080/"
        },
        "id": "wNUDHmzS_LEI",
        "outputId": "a00b0207-760c-4601-9be0-3eae50621bed"
      },
      "execution_count": null,
      "outputs": [
        {
          "output_type": "stream",
          "name": "stdout",
          "text": [
            "False\n",
            "False\n"
          ]
        }
      ]
    },
    {
      "cell_type": "code",
      "source": [
        "print(a)\n",
        "print(b)"
      ],
      "metadata": {
        "colab": {
          "base_uri": "https://localhost:8080/"
        },
        "id": "0a_U4Ll4_PyZ",
        "outputId": "264ce5f3-94d4-4793-f7f0-07544432e2bb"
      },
      "execution_count": null,
      "outputs": [
        {
          "output_type": "stream",
          "name": "stdout",
          "text": [
            "[[1, 2, 3]]\n",
            "[[10, 2, 3]]\n"
          ]
        }
      ]
    },
    {
      "cell_type": "markdown",
      "source": [
        "[:] 는 전체라는 뜻이다.  \n",
        "슬라이싱 방식으로 1차 리스트일때는 재할당하면 deep copy가 된다.    \n",
        "슬라이싱 방식으로 2차 리스트 이상인 경우는 shallow copy가 발생된다."
      ],
      "metadata": {
        "id": "zVXo2moH_VQp"
      }
    },
    {
      "cell_type": "code",
      "source": [
        "a = [1,2,3]\n",
        "b = a[:]\n",
        "print(a)\n",
        "print(b)"
      ],
      "metadata": {
        "colab": {
          "base_uri": "https://localhost:8080/"
        },
        "id": "zJuZMY6x_Q2w",
        "outputId": "4ca6aadc-a83f-4103-b168-6149493ed0d1"
      },
      "execution_count": null,
      "outputs": [
        {
          "output_type": "stream",
          "name": "stdout",
          "text": [
            "[1, 2, 3]\n",
            "[1, 2, 3]\n"
          ]
        }
      ]
    },
    {
      "cell_type": "code",
      "source": [
        "b[0] = 10\n",
        "print(a)\n",
        "print(b)"
      ],
      "metadata": {
        "colab": {
          "base_uri": "https://localhost:8080/"
        },
        "id": "RAbcvhzD_izQ",
        "outputId": "47620fbc-3566-478d-dc96-3f69e2ce4da4"
      },
      "execution_count": null,
      "outputs": [
        {
          "output_type": "stream",
          "name": "stdout",
          "text": [
            "[1, 2, 3]\n",
            "[10, 2, 3]\n"
          ]
        }
      ]
    },
    {
      "cell_type": "code",
      "source": [
        "a = [[1,2,3]]\n",
        "b = a[:]"
      ],
      "metadata": {
        "id": "4wPgi-Tt_r74"
      },
      "execution_count": null,
      "outputs": []
    },
    {
      "cell_type": "code",
      "source": [
        "print(a is b)\n",
        "print(a == b)"
      ],
      "metadata": {
        "colab": {
          "base_uri": "https://localhost:8080/"
        },
        "id": "4TXyULhIC7gw",
        "outputId": "d7c9a293-6b58-4ffb-ce1b-ec520d6855ae"
      },
      "execution_count": null,
      "outputs": [
        {
          "output_type": "stream",
          "name": "stdout",
          "text": [
            "False\n",
            "True\n"
          ]
        }
      ]
    },
    {
      "cell_type": "code",
      "source": [
        "print(a[0][0] is b[0][0])  # 메모리 주소 비교  => 2차원일때 deepcopy 가 발생되지 않음\n",
        "print(a[0][0] == b[0][0])  # 값비교"
      ],
      "metadata": {
        "colab": {
          "base_uri": "https://localhost:8080/"
        },
        "id": "uQ5ywapvDBIg",
        "outputId": "cc01ae92-f878-45e1-f1b2-dfbab590a6ef"
      },
      "execution_count": null,
      "outputs": [
        {
          "output_type": "stream",
          "name": "stdout",
          "text": [
            "True\n",
            "True\n"
          ]
        }
      ]
    },
    {
      "cell_type": "code",
      "source": [
        "# intering\n",
        "# 파이썬은 느리기 때문에 중간에 cache 저장하는 기법이 있다.\n",
        "# -5에서 256은 파이썬에서 같은 메모리 주소를 사용한다. (interning기법)\n",
        "# 문자열에서 a-zA-Z0-9는  내부적으로 intering 기법을 사용한다.\n",
        "m = 256\n",
        "n = 256\n",
        "print(m is n)\n",
        "print(id(m))\n",
        "print(id(n))\n",
        "\n",
        "m = 257\n",
        "n = 257\n",
        "print(m is n)\n",
        "print(id(m))\n",
        "print(id(n))\n",
        "\n",
        "k = 'python3_파'\n",
        "p = 'python3_파'\n",
        "print(k is p)\n",
        "print(id(k))\n",
        "print(id(p))\n"
      ],
      "metadata": {
        "colab": {
          "base_uri": "https://localhost:8080/"
        },
        "id": "BP-hZB5ODkkg",
        "outputId": "62f3487b-f73f-400c-b124-211ec1d566c2"
      },
      "execution_count": null,
      "outputs": [
        {
          "output_type": "stream",
          "name": "stdout",
          "text": [
            "True\n",
            "10765896\n",
            "10765896\n",
            "False\n",
            "133162356858608\n",
            "133162356865328\n",
            "False\n",
            "133162356816656\n",
            "133162356815888\n"
          ]
        }
      ]
    },
    {
      "cell_type": "markdown",
      "source": [
        "#### numpy의 copy"
      ],
      "metadata": {
        "id": "8mPf-fbkFBYJ"
      }
    },
    {
      "cell_type": "code",
      "source": [
        "a = b = np.array([1,2,3])\n",
        "print(a is b)\n",
        "print(a == b)"
      ],
      "metadata": {
        "colab": {
          "base_uri": "https://localhost:8080/"
        },
        "id": "6lDcu9I6DtAw",
        "outputId": "c9f8fa1a-4d84-45fd-dd01-c9b1913250ac"
      },
      "execution_count": null,
      "outputs": [
        {
          "output_type": "stream",
          "name": "stdout",
          "text": [
            "True\n",
            "[ True  True  True]\n"
          ]
        }
      ]
    },
    {
      "cell_type": "code",
      "source": [
        "a[0] = 100\n",
        "print(a[0])\n",
        "print(b[0])"
      ],
      "metadata": {
        "colab": {
          "base_uri": "https://localhost:8080/"
        },
        "id": "Dp1Sw1rFFKNH",
        "outputId": "6ed82422-d4cb-4abe-f775-e240788e00f4"
      },
      "execution_count": null,
      "outputs": [
        {
          "output_type": "stream",
          "name": "stdout",
          "text": [
            "100\n",
            "100\n"
          ]
        }
      ]
    },
    {
      "cell_type": "code",
      "source": [
        "a = np.array([1,2,3])\n",
        "b = a.copy()\n",
        "\n",
        "print(a is b)  # 메모리 주소\n",
        "print(a == b)  # 값"
      ],
      "metadata": {
        "colab": {
          "base_uri": "https://localhost:8080/"
        },
        "id": "_eYqXvzoFiy4",
        "outputId": "7421be14-2266-401b-972f-02be3711c59b"
      },
      "execution_count": null,
      "outputs": [
        {
          "output_type": "stream",
          "name": "stdout",
          "text": [
            "False\n",
            "[ True  True  True]\n"
          ]
        }
      ]
    },
    {
      "cell_type": "markdown",
      "source": [
        "## as 계열"
      ],
      "metadata": {
        "id": "Cj5jtkm_GAXj"
      }
    },
    {
      "cell_type": "code",
      "source": [
        "a = [1.5, 2.5, 3.5]\n",
        "b = np.array(a)\n",
        "\n",
        "print(type(a))\n",
        "print(type(b))\n",
        "print(type(a[0]))\n",
        "print(type(b[0]))"
      ],
      "metadata": {
        "colab": {
          "base_uri": "https://localhost:8080/"
        },
        "id": "PIRmyOaYFqh_",
        "outputId": "ffb58f9d-e687-4bc8-b5fb-77b2feeb0964"
      },
      "execution_count": null,
      "outputs": [
        {
          "output_type": "stream",
          "name": "stdout",
          "text": [
            "<class 'list'>\n",
            "<class 'numpy.ndarray'>\n",
            "<class 'float'>\n",
            "<class 'numpy.float64'>\n"
          ]
        }
      ]
    },
    {
      "cell_type": "code",
      "source": [
        "a = [1.5, 2.5, 3.5]\n",
        "b = np.asarray(a)\n",
        "\n",
        "print(type(a))\n",
        "print(type(b))\n",
        "print(type(a[0]))\n",
        "print(type(b[0]))"
      ],
      "metadata": {
        "colab": {
          "base_uri": "https://localhost:8080/"
        },
        "id": "eVV8KikPGJx6",
        "outputId": "a7a2df0d-157e-4084-f3e4-54da27f5659a"
      },
      "execution_count": null,
      "outputs": [
        {
          "output_type": "stream",
          "name": "stdout",
          "text": [
            "<class 'list'>\n",
            "<class 'numpy.ndarray'>\n",
            "<class 'float'>\n",
            "<class 'numpy.float64'>\n"
          ]
        }
      ]
    },
    {
      "cell_type": "markdown",
      "source": [
        "### 값 가져오기"
      ],
      "metadata": {
        "id": "SCuimSlxHXzg"
      }
    },
    {
      "cell_type": "markdown",
      "source": [
        "(1) 기본 인덱싱"
      ],
      "metadata": {
        "id": "6FyIq3ZkJAkX"
      }
    },
    {
      "cell_type": "code",
      "source": [
        "a = [[1,2,3],[4,5,6]] # python의 list\n",
        "b = np.array([[1,2,3],[4,5,6]]) # numpy의 array"
      ],
      "metadata": {
        "id": "220aBhUjHl3J"
      },
      "execution_count": null,
      "outputs": []
    },
    {
      "cell_type": "code",
      "source": [
        "# indexing\n",
        "print(a[0])\n",
        "print(b[0])"
      ],
      "metadata": {
        "colab": {
          "base_uri": "https://localhost:8080/"
        },
        "id": "J5Iw5TTjHp1X",
        "outputId": "5dcb6d2b-0b64-4295-f870-cdd5d92e123a"
      },
      "execution_count": null,
      "outputs": [
        {
          "output_type": "stream",
          "name": "stdout",
          "text": [
            "[1, 2, 3]\n",
            "[1 2 3]\n"
          ]
        }
      ]
    },
    {
      "cell_type": "code",
      "source": [
        "print(type(b))\n",
        "print(a[0][1])  # list\n",
        "print(b[0,1])   # array  b[행,열]\n",
        "print(b[0][1])  # array b[행][열]\n",
        "print(a[-1][-1]) # list  a[행][열] [-1][-1]을 주면 마지막행, 마지막열\n",
        "print(b[-1, -1]) # array\n"
      ],
      "metadata": {
        "colab": {
          "base_uri": "https://localhost:8080/"
        },
        "id": "IAGZrl0aHun3",
        "outputId": "1037653f-b750-4608-86d3-aefc476ad6a8"
      },
      "execution_count": null,
      "outputs": [
        {
          "output_type": "stream",
          "name": "stdout",
          "text": [
            "<class 'numpy.ndarray'>\n",
            "2\n",
            "2\n",
            "2\n",
            "6\n",
            "6\n"
          ]
        }
      ]
    },
    {
      "cell_type": "markdown",
      "source": [
        "(2) boolean indexing"
      ],
      "metadata": {
        "id": "blyzvyJiJFQ4"
      }
    },
    {
      "cell_type": "code",
      "source": [
        "a = [[1,2,3],[4,5,6]]"
      ],
      "metadata": {
        "id": "yT-yl2y9H33e"
      },
      "execution_count": null,
      "outputs": []
    },
    {
      "cell_type": "code",
      "source": [
        "print(type(a))\n",
        "print(a*3)\n",
        "print(a>3)"
      ],
      "metadata": {
        "colab": {
          "base_uri": "https://localhost:8080/",
          "height": 211
        },
        "id": "ATN4TVR_JKq-",
        "outputId": "26904127-acf4-453f-c650-f59b7b081f69"
      },
      "execution_count": null,
      "outputs": [
        {
          "output_type": "stream",
          "name": "stdout",
          "text": [
            "<class 'list'>\n",
            "[[1, 2, 3], [4, 5, 6], [1, 2, 3], [4, 5, 6], [1, 2, 3], [4, 5, 6]]\n"
          ]
        },
        {
          "output_type": "error",
          "ename": "TypeError",
          "evalue": "'>' not supported between instances of 'list' and 'int'",
          "traceback": [
            "\u001b[0;31m---------------------------------------------------------------------------\u001b[0m",
            "\u001b[0;31mTypeError\u001b[0m                                 Traceback (most recent call last)",
            "\u001b[0;32m/tmp/ipython-input-149-2288517903.py\u001b[0m in \u001b[0;36m<cell line: 0>\u001b[0;34m()\u001b[0m\n\u001b[1;32m      1\u001b[0m \u001b[0mprint\u001b[0m\u001b[0;34m(\u001b[0m\u001b[0mtype\u001b[0m\u001b[0;34m(\u001b[0m\u001b[0ma\u001b[0m\u001b[0;34m)\u001b[0m\u001b[0;34m)\u001b[0m\u001b[0;34m\u001b[0m\u001b[0;34m\u001b[0m\u001b[0m\n\u001b[1;32m      2\u001b[0m \u001b[0mprint\u001b[0m\u001b[0;34m(\u001b[0m\u001b[0ma\u001b[0m\u001b[0;34m*\u001b[0m\u001b[0;36m3\u001b[0m\u001b[0;34m)\u001b[0m\u001b[0;34m\u001b[0m\u001b[0;34m\u001b[0m\u001b[0m\n\u001b[0;32m----> 3\u001b[0;31m \u001b[0mprint\u001b[0m\u001b[0;34m(\u001b[0m\u001b[0ma\u001b[0m\u001b[0;34m>\u001b[0m\u001b[0;36m3\u001b[0m\u001b[0;34m)\u001b[0m\u001b[0;34m\u001b[0m\u001b[0;34m\u001b[0m\u001b[0m\n\u001b[0m",
            "\u001b[0;31mTypeError\u001b[0m: '>' not supported between instances of 'list' and 'int'"
          ]
        }
      ]
    },
    {
      "cell_type": "code",
      "source": [
        "b = np.array([1,2,3,4])\n",
        "c = np.array([2,2,2,2])"
      ],
      "metadata": {
        "id": "rszYhTDVJNzH"
      },
      "execution_count": null,
      "outputs": []
    },
    {
      "cell_type": "code",
      "source": [
        "print(b > c)"
      ],
      "metadata": {
        "colab": {
          "base_uri": "https://localhost:8080/"
        },
        "id": "m2fzNcg6JedW",
        "outputId": "5128f949-70da-4c28-f290-b45ac4c73f25"
      },
      "execution_count": null,
      "outputs": [
        {
          "output_type": "stream",
          "name": "stdout",
          "text": [
            "[False False  True  True]\n"
          ]
        }
      ]
    },
    {
      "cell_type": "markdown",
      "source": [
        "array은 scalar와 연산하면 elementwise로 계산한다.  \n",
        "( elementwise : 원소별로 각각 계산이 된다.)"
      ],
      "metadata": {
        "id": "TH4nve9gJ-YP"
      }
    },
    {
      "cell_type": "code",
      "source": [
        "print(b > 2)"
      ],
      "metadata": {
        "colab": {
          "base_uri": "https://localhost:8080/"
        },
        "id": "wkC9swDwJhb-",
        "outputId": "249b8e7e-9d15-4544-8138-a397ab70cb3e"
      },
      "execution_count": null,
      "outputs": [
        {
          "output_type": "stream",
          "name": "stdout",
          "text": [
            "[False False  True  True]\n"
          ]
        }
      ]
    },
    {
      "cell_type": "code",
      "source": [
        "k=np.array([False, False, True, True])\n",
        "print(k)\n",
        "print(b[k])\n"
      ],
      "metadata": {
        "colab": {
          "base_uri": "https://localhost:8080/"
        },
        "id": "aAxEqos_J3_u",
        "outputId": "b2c67778-aa6c-46b3-d893-68517d68d2f5"
      },
      "execution_count": null,
      "outputs": [
        {
          "output_type": "stream",
          "name": "stdout",
          "text": [
            "[False False  True  True]\n",
            "[3 4]\n"
          ]
        }
      ]
    },
    {
      "cell_type": "markdown",
      "source": [
        "num에서 boolean indexing 조건\n",
        "- array만 가능하다.\n",
        "- numpy True, False로만 가능하다.\n",
        "- shape이 맞아야 한다.(개수가 맞을때만 사용할 수 있다.)"
      ],
      "metadata": {
        "id": "HseEFPotMEgX"
      }
    },
    {
      "cell_type": "markdown",
      "source": [
        "(3) fancy indexing"
      ],
      "metadata": {
        "id": "erKFiKdAMTL3"
      }
    },
    {
      "cell_type": "code",
      "source": [
        "b = np.arange(20).reshape(4,5)\n",
        "print(b)"
      ],
      "metadata": {
        "colab": {
          "base_uri": "https://localhost:8080/"
        },
        "id": "rXT5FyQVKyk2",
        "outputId": "51260109-224f-42c2-fbb9-94fdcb754a99"
      },
      "execution_count": null,
      "outputs": [
        {
          "output_type": "stream",
          "name": "stdout",
          "text": [
            "[[ 0  1  2  3  4]\n",
            " [ 5  6  7  8  9]\n",
            " [10 11 12 13 14]\n",
            " [15 16 17 18 19]]\n"
          ]
        }
      ]
    },
    {
      "cell_type": "code",
      "source": [
        "print(b[:, [0,2]]) # fancy indexing"
      ],
      "metadata": {
        "colab": {
          "base_uri": "https://localhost:8080/"
        },
        "id": "pO1kkCiMMaiG",
        "outputId": "3f890d0d-0d7c-4dbc-8472-813857a90278"
      },
      "execution_count": null,
      "outputs": [
        {
          "output_type": "stream",
          "name": "stdout",
          "text": [
            "[[ 0  2]\n",
            " [ 5  7]\n",
            " [10 12]\n",
            " [15 17]]\n"
          ]
        }
      ]
    },
    {
      "cell_type": "code",
      "source": [
        "print(b[[1,3], [0,2]]) # fancy indexing"
      ],
      "metadata": {
        "colab": {
          "base_uri": "https://localhost:8080/"
        },
        "id": "Rnln72uzNRUu",
        "outputId": "859ba340-35b5-4947-be07-9f944445fa89"
      },
      "execution_count": null,
      "outputs": [
        {
          "output_type": "stream",
          "name": "stdout",
          "text": [
            "[ 5 17]\n"
          ]
        }
      ]
    },
    {
      "cell_type": "code",
      "source": [
        "# fancy index에서 주의사항\n",
        "#print(b[[1,2,3], [0,2]])  # 행과 열의 갯수가 같게 지정해야 한다.\n",
        "print(b[[:] , [1,2,3]])   # fancy indexing에서 slicing을 사용할 수 없다."
      ],
      "metadata": {
        "colab": {
          "base_uri": "https://localhost:8080/",
          "height": 106
        },
        "id": "zX-wz_L2grL8",
        "outputId": "c0f640f9-298f-4c91-8b06-af620a3db4e3"
      },
      "execution_count": null,
      "outputs": [
        {
          "output_type": "error",
          "ename": "SyntaxError",
          "evalue": "invalid syntax (ipython-input-180-3839119297.py, line 3)",
          "traceback": [
            "\u001b[0;36m  File \u001b[0;32m\"/tmp/ipython-input-180-3839119297.py\"\u001b[0;36m, line \u001b[0;32m3\u001b[0m\n\u001b[0;31m    print(b[[:] , [1,2,3]])   # fancy indexing에서 slicing을 사용할 수 없다.\u001b[0m\n\u001b[0m             ^\u001b[0m\n\u001b[0;31mSyntaxError\u001b[0m\u001b[0;31m:\u001b[0m invalid syntax\n"
          ]
        }
      ]
    },
    {
      "cell_type": "code",
      "source": [
        "print(b[[1,2,3], [2]])   # broadcast으로 처리가 되여서 갯수가 다르지만 정상적으로 수행한다.\n",
        "print(b[[0,1,2,3], [0,2]])  # shapes (4,) (2,)"
      ],
      "metadata": {
        "colab": {
          "base_uri": "https://localhost:8080/",
          "height": 176
        },
        "id": "-7Vj3uohhLZi",
        "outputId": "057b6fe3-7f4a-40e4-825f-405251e091c6"
      },
      "execution_count": null,
      "outputs": [
        {
          "output_type": "stream",
          "name": "stdout",
          "text": [
            "[ 7 12 17]\n"
          ]
        },
        {
          "output_type": "error",
          "ename": "IndexError",
          "evalue": "shape mismatch: indexing arrays could not be broadcast together with shapes (4,) (2,) ",
          "traceback": [
            "\u001b[0;31m---------------------------------------------------------------------------\u001b[0m",
            "\u001b[0;31mIndexError\u001b[0m                                Traceback (most recent call last)",
            "\u001b[0;32m/tmp/ipython-input-187-2967129041.py\u001b[0m in \u001b[0;36m<cell line: 0>\u001b[0;34m()\u001b[0m\n\u001b[1;32m      1\u001b[0m \u001b[0mprint\u001b[0m\u001b[0;34m(\u001b[0m\u001b[0mb\u001b[0m\u001b[0;34m[\u001b[0m\u001b[0;34m[\u001b[0m\u001b[0;36m1\u001b[0m\u001b[0;34m,\u001b[0m\u001b[0;36m2\u001b[0m\u001b[0;34m,\u001b[0m\u001b[0;36m3\u001b[0m\u001b[0;34m]\u001b[0m\u001b[0;34m,\u001b[0m \u001b[0;34m[\u001b[0m\u001b[0;36m2\u001b[0m\u001b[0;34m]\u001b[0m\u001b[0;34m]\u001b[0m\u001b[0;34m)\u001b[0m   \u001b[0;31m# broadcast으로 처리가 되여서 갯수가 다르지만 정상적으로 수행한다.\u001b[0m\u001b[0;34m\u001b[0m\u001b[0;34m\u001b[0m\u001b[0m\n\u001b[0;32m----> 2\u001b[0;31m \u001b[0mprint\u001b[0m\u001b[0;34m(\u001b[0m\u001b[0mb\u001b[0m\u001b[0;34m[\u001b[0m\u001b[0;34m[\u001b[0m\u001b[0;36m0\u001b[0m\u001b[0;34m,\u001b[0m\u001b[0;36m1\u001b[0m\u001b[0;34m,\u001b[0m\u001b[0;36m2\u001b[0m\u001b[0;34m,\u001b[0m\u001b[0;36m3\u001b[0m\u001b[0;34m]\u001b[0m\u001b[0;34m,\u001b[0m \u001b[0;34m[\u001b[0m\u001b[0;36m0\u001b[0m\u001b[0;34m,\u001b[0m\u001b[0;36m2\u001b[0m\u001b[0;34m]\u001b[0m\u001b[0;34m]\u001b[0m\u001b[0;34m)\u001b[0m\u001b[0;34m\u001b[0m\u001b[0;34m\u001b[0m\u001b[0m\n\u001b[0m",
            "\u001b[0;31mIndexError\u001b[0m: shape mismatch: indexing arrays could not be broadcast together with shapes (4,) (2,) "
          ]
        }
      ]
    },
    {
      "cell_type": "markdown",
      "source": [
        "## 3차원이상에서 차원 구분법"
      ],
      "metadata": {
        "id": "RdPIIuTQh-GL"
      }
    },
    {
      "cell_type": "code",
      "source": [
        "b = np.arange(24).reshape(2,3,4) # 3차원(2층(면, 공간), 3행, 4열)\n",
        "print(b)"
      ],
      "metadata": {
        "colab": {
          "base_uri": "https://localhost:8080/"
        },
        "id": "bTRvtK_PhXra",
        "outputId": "64a72b4e-8ab4-4565-a867-b10ae2e9a646"
      },
      "execution_count": null,
      "outputs": [
        {
          "output_type": "stream",
          "name": "stdout",
          "text": [
            "[[[ 0  1  2  3]\n",
            "  [ 4  5  6  7]\n",
            "  [ 8  9 10 11]]\n",
            "\n",
            " [[12 13 14 15]\n",
            "  [16 17 18 19]\n",
            "  [20 21 22 23]]]\n"
          ]
        }
      ]
    },
    {
      "cell_type": "code",
      "source": [
        "b[0] # 2차원으로 반환"
      ],
      "metadata": {
        "colab": {
          "base_uri": "https://localhost:8080/"
        },
        "id": "IajZ-NNej7EK",
        "outputId": "22fe56bf-3127-4d88-cbbd-d7916c377064"
      },
      "execution_count": null,
      "outputs": [
        {
          "output_type": "execute_result",
          "data": {
            "text/plain": [
              "array([[ 0,  1,  2,  3],\n",
              "       [ 4,  5,  6,  7],\n",
              "       [ 8,  9, 10, 11]])"
            ]
          },
          "metadata": {},
          "execution_count": 202
        }
      ]
    },
    {
      "cell_type": "code",
      "source": [
        "b[0][0] # 1차원으로 반환"
      ],
      "metadata": {
        "colab": {
          "base_uri": "https://localhost:8080/"
        },
        "id": "9iCMxdJQkhQr",
        "outputId": "5c9ffd4e-658e-4ad4-df32-b4cfa37160ea"
      },
      "execution_count": null,
      "outputs": [
        {
          "output_type": "execute_result",
          "data": {
            "text/plain": [
              "array([0, 1, 2, 3])"
            ]
          },
          "metadata": {},
          "execution_count": 203
        }
      ]
    },
    {
      "cell_type": "code",
      "source": [
        "print(b[0][0][0])  # 값이 반환"
      ],
      "metadata": {
        "colab": {
          "base_uri": "https://localhost:8080/"
        },
        "id": "EQT_La2KkjsC",
        "outputId": "47de27f5-3e76-4a32-a50d-349e4e4be3ec"
      },
      "execution_count": null,
      "outputs": [
        {
          "output_type": "stream",
          "name": "stdout",
          "text": [
            "0\n"
          ]
        }
      ]
    },
    {
      "cell_type": "code",
      "source": [
        "b[:, 1, 3] # 모든 공간에서 각각 1행, 3열의 값을 반환"
      ],
      "metadata": {
        "colab": {
          "base_uri": "https://localhost:8080/"
        },
        "id": "HSXQ0mD0kpbJ",
        "outputId": "8e31bb15-8791-4ad6-955e-623f1c153a1d"
      },
      "execution_count": null,
      "outputs": [
        {
          "output_type": "execute_result",
          "data": {
            "text/plain": [
              "array([ 7, 19])"
            ]
          },
          "metadata": {},
          "execution_count": 209
        }
      ]
    },
    {
      "cell_type": "code",
      "source": [],
      "metadata": {
        "id": "dZTIi3iak0UL"
      },
      "execution_count": null,
      "outputs": []
    },
    {
      "cell_type": "code",
      "source": [
        "b[:,:,1]"
      ],
      "metadata": {
        "colab": {
          "base_uri": "https://localhost:8080/"
        },
        "id": "YrySEjEhkyCZ",
        "outputId": "b10a4309-1c49-4ea7-8ea9-5bd1e3d93d37"
      },
      "execution_count": null,
      "outputs": [
        {
          "output_type": "execute_result",
          "data": {
            "text/plain": [
              "array([[ 1,  5,  9],\n",
              "       [13, 17, 21]])"
            ]
          },
          "metadata": {},
          "execution_count": 210
        }
      ]
    },
    {
      "cell_type": "code",
      "source": [
        "b[:,1,:]"
      ],
      "metadata": {
        "colab": {
          "base_uri": "https://localhost:8080/"
        },
        "id": "tvujuwKJlQKK",
        "outputId": "ec4a3048-3e0b-4d80-dae2-704d35cee3d6"
      },
      "execution_count": null,
      "outputs": [
        {
          "output_type": "execute_result",
          "data": {
            "text/plain": [
              "array([[ 4,  5,  6,  7],\n",
              "       [16, 17, 18, 19]])"
            ]
          },
          "metadata": {},
          "execution_count": 211
        }
      ]
    },
    {
      "cell_type": "markdown",
      "source": [
        "fancy index와 indexing 차이\n",
        " - indexing은 원래 차원에서 하나 감소해서 가져오고 fancy indexing은 원래 차원 그대로 가져온다."
      ],
      "metadata": {
        "id": "qCUtMlKglmI6"
      }
    },
    {
      "cell_type": "code",
      "source": [
        "# indexing은 차원이 하나 감소해서 가져온다. (3차원을 2차원으로 가져온다.)\n",
        "b[0]"
      ],
      "metadata": {
        "colab": {
          "base_uri": "https://localhost:8080/"
        },
        "id": "z4YSMetWleBZ",
        "outputId": "40113799-d8e4-4318-ffac-e33534bb6fed"
      },
      "execution_count": null,
      "outputs": [
        {
          "output_type": "execute_result",
          "data": {
            "text/plain": [
              "array([[ 0,  1,  2,  3],\n",
              "       [ 4,  5,  6,  7],\n",
              "       [ 8,  9, 10, 11]])"
            ]
          },
          "metadata": {},
          "execution_count": 212
        }
      ]
    },
    {
      "cell_type": "code",
      "source": [
        "# fancy indexing은 원래 3차원 그대로 가져온다.\n",
        "b[[0]]"
      ],
      "metadata": {
        "colab": {
          "base_uri": "https://localhost:8080/"
        },
        "id": "S-wDckOil44J",
        "outputId": "8016fc82-efc5-46e0-fe11-17d7c7137e4b"
      },
      "execution_count": null,
      "outputs": [
        {
          "output_type": "execute_result",
          "data": {
            "text/plain": [
              "array([[[ 0,  1,  2,  3],\n",
              "        [ 4,  5,  6,  7],\n",
              "        [ 8,  9, 10, 11]]])"
            ]
          },
          "metadata": {},
          "execution_count": 214
        }
      ]
    },
    {
      "cell_type": "code",
      "source": [
        "b[[0], :, :] # b[[0]]은  b[[0], :, :]의 단축 표현이다."
      ],
      "metadata": {
        "colab": {
          "base_uri": "https://localhost:8080/"
        },
        "id": "x7vcWHq1mE-B",
        "outputId": "efc3aa64-180d-4bb3-9e46-67ae5af9df1e"
      },
      "execution_count": null,
      "outputs": [
        {
          "output_type": "execute_result",
          "data": {
            "text/plain": [
              "array([[[ 0,  1,  2,  3],\n",
              "        [ 4,  5,  6,  7],\n",
              "        [ 8,  9, 10, 11]]])"
            ]
          },
          "metadata": {},
          "execution_count": 215
        }
      ]
    },
    {
      "cell_type": "markdown",
      "source": [
        "### Ellipsis\n",
        "\n",
        "- ...(Ellipsis)은 이후의 모든 것을 의미한다."
      ],
      "metadata": {
        "id": "-19yYTvkm4sy"
      }
    },
    {
      "cell_type": "code",
      "source": [
        "b[0]=b[0, :, :]=b[0,...]\n",
        "print(b[0])  # indexing 기법\n",
        "print(b[0, :, :]) # slicing 기법\n",
        "print(b[0,...])  # ellipsis 기법(생략기법)"
      ],
      "metadata": {
        "colab": {
          "base_uri": "https://localhost:8080/"
        },
        "id": "h6ZApWFFmw4x",
        "outputId": "88c1e894-e549-4873-cb16-da4f3797a326"
      },
      "execution_count": null,
      "outputs": [
        {
          "output_type": "stream",
          "name": "stdout",
          "text": [
            "[[ 0  1  2  3]\n",
            " [ 4  5  6  7]\n",
            " [ 8  9 10 11]]\n",
            "[[ 0  1  2  3]\n",
            " [ 4  5  6  7]\n",
            " [ 8  9 10 11]]\n",
            "[[ 0  1  2  3]\n",
            " [ 4  5  6  7]\n",
            " [ 8  9 10 11]]\n"
          ]
        }
      ]
    },
    {
      "cell_type": "code",
      "source": [
        "type(...)"
      ],
      "metadata": {
        "colab": {
          "base_uri": "https://localhost:8080/"
        },
        "id": "NU6xFbumnKgJ",
        "outputId": "be27d061-1a82-4aa5-b060-baf2c1aa6058"
      },
      "execution_count": null,
      "outputs": [
        {
          "output_type": "execute_result",
          "data": {
            "text/plain": [
              "ellipsis"
            ]
          },
          "metadata": {},
          "execution_count": 219
        }
      ]
    },
    {
      "cell_type": "code",
      "source": [
        "#\n",
        "b[0, :, 1]"
      ],
      "metadata": {
        "colab": {
          "base_uri": "https://localhost:8080/"
        },
        "id": "-aAb6P06n0Hh",
        "outputId": "eb248267-796b-4a98-d49d-d9c691b1d117"
      },
      "execution_count": null,
      "outputs": [
        {
          "output_type": "execute_result",
          "data": {
            "text/plain": [
              "array([1, 5, 9])"
            ]
          },
          "metadata": {},
          "execution_count": 220
        }
      ]
    },
    {
      "cell_type": "code",
      "source": [
        "b[[0],:, [1]]"
      ],
      "metadata": {
        "colab": {
          "base_uri": "https://localhost:8080/"
        },
        "id": "HRZ-mhrpoQdx",
        "outputId": "b2650734-8357-46de-e0b9-12e888ad823c"
      },
      "execution_count": null,
      "outputs": [
        {
          "output_type": "execute_result",
          "data": {
            "text/plain": [
              "array([[1, 5, 9]])"
            ]
          },
          "metadata": {},
          "execution_count": 221
        }
      ]
    },
    {
      "cell_type": "code",
      "source": [
        "# 숫자 1, 5, 9, 3, 7, 11가져오기\n",
        "print(b[0, :, 1])"
      ],
      "metadata": {
        "colab": {
          "base_uri": "https://localhost:8080/"
        },
        "id": "enWBitS4oz9l",
        "outputId": "26987a26-2279-43b4-9aec-1edfe4fb4cd8"
      },
      "execution_count": null,
      "outputs": [
        {
          "output_type": "stream",
          "name": "stdout",
          "text": [
            "[1 5 9]\n"
          ]
        }
      ]
    },
    {
      "cell_type": "code",
      "source": [
        "b[[0], :, [1]]"
      ],
      "metadata": {
        "colab": {
          "base_uri": "https://localhost:8080/"
        },
        "id": "7SWnuv9rsfYa",
        "outputId": "6f0fba7c-5a71-45a6-b33f-036d77aad430"
      },
      "execution_count": null,
      "outputs": [
        {
          "output_type": "execute_result",
          "data": {
            "text/plain": [
              "array([[1, 5, 9]])"
            ]
          },
          "metadata": {},
          "execution_count": 225
        }
      ]
    },
    {
      "cell_type": "code",
      "source": [
        "# 숫자 1,5,9,3,7,11 가져오기\n",
        "b[[0], :, [1,3]]"
      ],
      "metadata": {
        "colab": {
          "base_uri": "https://localhost:8080/"
        },
        "id": "A4Cgl7-BswGR",
        "outputId": "b93ad71c-9781-42a2-e9d3-916057207bdf"
      },
      "execution_count": null,
      "outputs": [
        {
          "output_type": "execute_result",
          "data": {
            "text/plain": [
              "array([[ 1,  5,  9],\n",
              "       [ 3,  7, 11]])"
            ]
          },
          "metadata": {},
          "execution_count": 227
        }
      ]
    },
    {
      "cell_type": "code",
      "source": [
        "# 숫자 4,5,6,7,16,17,18,19 가져오기\n",
        "b[:, 1, :]\n"
      ],
      "metadata": {
        "colab": {
          "base_uri": "https://localhost:8080/"
        },
        "id": "bPwIwO30tBqR",
        "outputId": "c9e4913a-c82c-4175-d2f7-ebe96aedf5d9"
      },
      "execution_count": null,
      "outputs": [
        {
          "output_type": "execute_result",
          "data": {
            "text/plain": [
              "array([[ 4,  5,  6,  7],\n",
              "       [16, 17, 18, 19]])"
            ]
          },
          "metadata": {},
          "execution_count": 228
        }
      ]
    },
    {
      "cell_type": "code",
      "source": [
        "b[:, [1], :]"
      ],
      "metadata": {
        "colab": {
          "base_uri": "https://localhost:8080/"
        },
        "id": "p2mIqa68tlQy",
        "outputId": "e7624026-168d-4319-d589-40c866eabaeb"
      },
      "execution_count": null,
      "outputs": [
        {
          "output_type": "execute_result",
          "data": {
            "text/plain": [
              "array([[[ 4,  5,  6,  7]],\n",
              "\n",
              "       [[16, 17, 18, 19]]])"
            ]
          },
          "metadata": {},
          "execution_count": 229
        }
      ]
    },
    {
      "cell_type": "code",
      "source": [
        "# 숫자 3,7,11,15,19,23 가져오기\n",
        "b[:, :, 3]"
      ],
      "metadata": {
        "colab": {
          "base_uri": "https://localhost:8080/"
        },
        "id": "d9-T9ElXtw9B",
        "outputId": "a36acff5-8fb2-4ac1-be88-b620c0df8b16"
      },
      "execution_count": null,
      "outputs": [
        {
          "output_type": "execute_result",
          "data": {
            "text/plain": [
              "array([[ 3,  7, 11],\n",
              "       [15, 19, 23]])"
            ]
          },
          "metadata": {},
          "execution_count": 230
        }
      ]
    },
    {
      "cell_type": "code",
      "source": [
        "b[:, :, [3]]"
      ],
      "metadata": {
        "colab": {
          "base_uri": "https://localhost:8080/"
        },
        "id": "RfGBWYIIuEb4",
        "outputId": "cb7e4024-adca-401f-cc10-df776229873e"
      },
      "execution_count": null,
      "outputs": [
        {
          "output_type": "execute_result",
          "data": {
            "text/plain": [
              "array([[[ 3],\n",
              "        [ 7],\n",
              "        [11]],\n",
              "\n",
              "       [[15],\n",
              "        [19],\n",
              "        [23]]])"
            ]
          },
          "metadata": {},
          "execution_count": 231
        }
      ]
    },
    {
      "cell_type": "code",
      "source": [
        "b[:, :, -1]"
      ],
      "metadata": {
        "colab": {
          "base_uri": "https://localhost:8080/"
        },
        "id": "V1N8RHP7uSfg",
        "outputId": "92e2cc81-03c0-401e-8525-781ee59e3b19"
      },
      "execution_count": null,
      "outputs": [
        {
          "output_type": "execute_result",
          "data": {
            "text/plain": [
              "array([[ 3,  7, 11],\n",
              "       [15, 19, 23]])"
            ]
          },
          "metadata": {},
          "execution_count": 232
        }
      ]
    },
    {
      "cell_type": "code",
      "source": [
        "b[..., -1]"
      ],
      "metadata": {
        "colab": {
          "base_uri": "https://localhost:8080/"
        },
        "id": "GqbWUH54uVzJ",
        "outputId": "954e2d29-9686-421e-d473-bf98b1b7bb9f"
      },
      "execution_count": null,
      "outputs": [
        {
          "output_type": "execute_result",
          "data": {
            "text/plain": [
              "array([[ 3,  7, 11],\n",
              "       [15, 19, 23]])"
            ]
          },
          "metadata": {},
          "execution_count": 233
        }
      ]
    },
    {
      "cell_type": "code",
      "source": [
        "b[..., 3]"
      ],
      "metadata": {
        "colab": {
          "base_uri": "https://localhost:8080/"
        },
        "id": "chKjg-avubYw",
        "outputId": "eb3bc120-7339-441f-b742-835b624ad0b8"
      },
      "execution_count": null,
      "outputs": [
        {
          "output_type": "execute_result",
          "data": {
            "text/plain": [
              "array([[ 3,  7, 11],\n",
              "       [15, 19, 23]])"
            ]
          },
          "metadata": {},
          "execution_count": 234
        }
      ]
    },
    {
      "cell_type": "code",
      "source": [
        "b[..., 3:4]"
      ],
      "metadata": {
        "colab": {
          "base_uri": "https://localhost:8080/"
        },
        "id": "GW1_C7Rwuj3B",
        "outputId": "61f72e84-b1f4-49d5-c61a-9e8d3448a630"
      },
      "execution_count": null,
      "outputs": [
        {
          "output_type": "execute_result",
          "data": {
            "text/plain": [
              "array([[[ 3],\n",
              "        [ 7],\n",
              "        [11]],\n",
              "\n",
              "       [[15],\n",
              "        [19],\n",
              "        [23]]])"
            ]
          },
          "metadata": {},
          "execution_count": 237
        }
      ]
    },
    {
      "cell_type": "markdown",
      "source": [
        "## 줄임표현(...)\n",
        " 출력해야할 데이터 수가 엄청 클 때 보이는 ...은 ellipsis와 다르다"
      ],
      "metadata": {
        "id": "zbXYmT7kvGjB"
      }
    },
    {
      "cell_type": "code",
      "source": [
        "# out에 나오는 ...은 단순히 줄임표현이다.\n",
        "np.arange(10000)"
      ],
      "metadata": {
        "colab": {
          "base_uri": "https://localhost:8080/"
        },
        "id": "urMfnPhBvHEn",
        "outputId": "aea9b9ca-d8ce-464b-e7a1-e93299c4c64d"
      },
      "execution_count": null,
      "outputs": [
        {
          "output_type": "execute_result",
          "data": {
            "text/plain": [
              "array([   0,    1,    2, ..., 9997, 9998, 9999])"
            ]
          },
          "metadata": {},
          "execution_count": 238
        }
      ]
    },
    {
      "cell_type": "code",
      "source": [
        "# ... 양쪽으로 출력 갯수 지정\n",
        "np.set_printoptions(edgeitems=6)"
      ],
      "metadata": {
        "id": "wh6uhOWNvNuA"
      },
      "execution_count": null,
      "outputs": []
    },
    {
      "cell_type": "code",
      "source": [
        "np.arange(10000)"
      ],
      "metadata": {
        "colab": {
          "base_uri": "https://localhost:8080/"
        },
        "id": "IMRPhebRvh74",
        "outputId": "e0781e13-b8f5-421f-fcc4-42df2915a473"
      },
      "execution_count": null,
      "outputs": [
        {
          "output_type": "execute_result",
          "data": {
            "text/plain": [
              "array([   0,    1,    2,    3,    4,    5, ..., 9994, 9995, 9996, 9997,\n",
              "       9998, 9999])"
            ]
          },
          "metadata": {},
          "execution_count": 241
        }
      ]
    },
    {
      "cell_type": "markdown",
      "source": [
        "### 연산"
      ],
      "metadata": {
        "id": "XJXvQN6fwQr5"
      }
    },
    {
      "cell_type": "markdown",
      "source": [
        "ndarray에서 행렬곱 연산자 @ 이다.  \n",
        "python 재단에서 numpy를 위해 만들어준 연산자이다"
      ],
      "metadata": {
        "id": "EdI2B1ozwCyI"
      }
    },
    {
      "cell_type": "code",
      "source": [
        "a = np.arange(12).reshape(3,4)\n",
        "print(a)"
      ],
      "metadata": {
        "colab": {
          "base_uri": "https://localhost:8080/"
        },
        "id": "bdUqVWlevmEn",
        "outputId": "120572b3-6a55-428e-edf8-e6eaaf23d636"
      },
      "execution_count": null,
      "outputs": [
        {
          "output_type": "stream",
          "name": "stdout",
          "text": [
            "[[ 0  1  2  3]\n",
            " [ 4  5  6  7]\n",
            " [ 8  9 10 11]]\n"
          ]
        }
      ]
    },
    {
      "cell_type": "code",
      "source": [
        "b = np.arange(1, 13).reshape(3,4)\n",
        "print(b)"
      ],
      "metadata": {
        "colab": {
          "base_uri": "https://localhost:8080/"
        },
        "id": "pRsw_zV8wVfg",
        "outputId": "1c182824-6a80-481c-eb80-244914dd631b"
      },
      "execution_count": null,
      "outputs": [
        {
          "output_type": "stream",
          "name": "stdout",
          "text": [
            "[[ 1  2  3  4]\n",
            " [ 5  6  7  8]\n",
            " [ 9 10 11 12]]\n"
          ]
        }
      ]
    },
    {
      "cell_type": "code",
      "source": [
        "# 같은 위치의 원소끼리 더해 준다.(elementwise)\n",
        "a + b"
      ],
      "metadata": {
        "colab": {
          "base_uri": "https://localhost:8080/"
        },
        "id": "HXG_cRmPwdTQ",
        "outputId": "ecff3d13-ef44-4460-b98a-dd151e46bd7f"
      },
      "execution_count": null,
      "outputs": [
        {
          "output_type": "execute_result",
          "data": {
            "text/plain": [
              "array([[ 1,  3,  5,  7],\n",
              "       [ 9, 11, 13, 15],\n",
              "       [17, 19, 21, 23]])"
            ]
          },
          "metadata": {},
          "execution_count": 245
        }
      ]
    },
    {
      "cell_type": "code",
      "source": [
        "c = np.matrix([[1,2], [3,4]]) # 행렬 생성\n",
        "print(c)"
      ],
      "metadata": {
        "colab": {
          "base_uri": "https://localhost:8080/"
        },
        "id": "u_G1kIwEwkEv",
        "outputId": "7ce3c35f-99c7-4d18-b7c6-2c3babb9fdd0"
      },
      "execution_count": null,
      "outputs": [
        {
          "output_type": "stream",
          "name": "stdout",
          "text": [
            "[[1 2]\n",
            " [3 4]]\n"
          ]
        }
      ]
    },
    {
      "cell_type": "code",
      "source": [
        "type(c)"
      ],
      "metadata": {
        "colab": {
          "base_uri": "https://localhost:8080/"
        },
        "id": "YTA3fSpOw8-J",
        "outputId": "ca32dc13-80a0-4e92-f988-c1522747009c"
      },
      "execution_count": null,
      "outputs": [
        {
          "output_type": "execute_result",
          "data": {
            "text/plain": [
              "numpy.matrix"
            ]
          },
          "metadata": {},
          "execution_count": 247
        }
      ]
    },
    {
      "cell_type": "code",
      "source": [
        "c * c\n",
        "#  1*1 + 2*3=7    1*2+2*4=10\n",
        "#  3*1 + 4*3=15   3*2+4*4=22\n",
        "\n",
        "# [[1*1+2*3   1*2+2*4]      [[7,10]\n",
        "#  [3*1+4*3   3*2+4*4]]      [15,22]]\n",
        "\n",
        "# (2,2)  (2,2)  # 앞의 행과 뒤의 열의 갯수가 같아야 한다."
      ],
      "metadata": {
        "colab": {
          "base_uri": "https://localhost:8080/"
        },
        "id": "7fgDG3PExAEv",
        "outputId": "75d09983-3925-4042-f8c5-a24c8ba41253"
      },
      "execution_count": null,
      "outputs": [
        {
          "output_type": "execute_result",
          "data": {
            "text/plain": [
              "matrix([[ 7, 10],\n",
              "        [15, 22]])"
            ]
          },
          "metadata": {},
          "execution_count": 249
        }
      ]
    },
    {
      "cell_type": "code",
      "source": [
        "print(a)\n",
        "print(b)\n",
        "print(a.shape)\n",
        "print(b.shape)"
      ],
      "metadata": {
        "colab": {
          "base_uri": "https://localhost:8080/"
        },
        "id": "lCUAQynGxFfH",
        "outputId": "32a01a0f-f7cf-44d6-f5f5-6e084832c75d"
      },
      "execution_count": null,
      "outputs": [
        {
          "output_type": "stream",
          "name": "stdout",
          "text": [
            "[[ 0  1  2  3]\n",
            " [ 4  5  6  7]\n",
            " [ 8  9 10 11]]\n",
            "[[ 1  2  3  4]\n",
            " [ 5  6  7  8]\n",
            " [ 9 10 11 12]]\n",
            "(3, 4)\n",
            "(3, 4)\n"
          ]
        }
      ]
    },
    {
      "cell_type": "markdown",
      "source": [
        "ndarray에서 행렬곱 연산자 @ 이다.  \n",
        "python 재단에서 numpy를 위해 만들어준 연산자이다."
      ],
      "metadata": {
        "id": "Sxl32wcmyKX5"
      }
    },
    {
      "cell_type": "code",
      "source": [
        "a @ b"
      ],
      "metadata": {
        "colab": {
          "base_uri": "https://localhost:8080/",
          "height": 159
        },
        "id": "SAlF-XKnx6Yn",
        "outputId": "df48f3e8-d6e6-4a42-e759-b2e5e0f2af51"
      },
      "execution_count": null,
      "outputs": [
        {
          "output_type": "error",
          "ename": "ValueError",
          "evalue": "matmul: Input operand 1 has a mismatch in its core dimension 0, with gufunc signature (n?,k),(k,m?)->(n?,m?) (size 3 is different from 4)",
          "traceback": [
            "\u001b[0;31m---------------------------------------------------------------------------\u001b[0m",
            "\u001b[0;31mValueError\u001b[0m                                Traceback (most recent call last)",
            "\u001b[0;32m/tmp/ipython-input-252-1573597190.py\u001b[0m in \u001b[0;36m<cell line: 0>\u001b[0;34m()\u001b[0m\n\u001b[0;32m----> 1\u001b[0;31m \u001b[0ma\u001b[0m \u001b[0;34m@\u001b[0m \u001b[0mb\u001b[0m\u001b[0;34m\u001b[0m\u001b[0;34m\u001b[0m\u001b[0m\n\u001b[0m",
            "\u001b[0;31mValueError\u001b[0m: matmul: Input operand 1 has a mismatch in its core dimension 0, with gufunc signature (n?,k),(k,m?)->(n?,m?) (size 3 is different from 4)"
          ]
        }
      ]
    },
    {
      "cell_type": "markdown",
      "source": [
        "행렬곱을 하기 위해서는 shape가 맞아야 한다.  \n",
        "T는 transpose(전치)의 약자이다.  "
      ],
      "metadata": {
        "id": "9UIefqjlys2w"
      }
    },
    {
      "cell_type": "code",
      "source": [
        "print(b.T)\n",
        "print(b.T.shape)"
      ],
      "metadata": {
        "colab": {
          "base_uri": "https://localhost:8080/"
        },
        "id": "wix4ntHryM2f",
        "outputId": "95bb7a6d-0e7a-4d41-d69d-ef399ce539e1"
      },
      "execution_count": null,
      "outputs": [
        {
          "output_type": "stream",
          "name": "stdout",
          "text": [
            "[[ 1  5  9]\n",
            " [ 2  6 10]\n",
            " [ 3  7 11]\n",
            " [ 4  8 12]]\n",
            "(4, 3)\n"
          ]
        }
      ]
    },
    {
      "cell_type": "code",
      "source": [
        "a @ b.T"
      ],
      "metadata": {
        "colab": {
          "base_uri": "https://localhost:8080/"
        },
        "id": "p1pDCnJuyxMn",
        "outputId": "ffb355ee-c5c2-4c5c-8bd9-9c56068c4e40"
      },
      "execution_count": null,
      "outputs": [
        {
          "output_type": "execute_result",
          "data": {
            "text/plain": [
              "array([[ 20,  44,  68],\n",
              "       [ 60, 148, 236],\n",
              "       [100, 252, 404]])"
            ]
          },
          "metadata": {},
          "execution_count": 255
        }
      ]
    },
    {
      "cell_type": "code",
      "source": [
        "a * b.T # 배열은 * 을 사용할 수 없다."
      ],
      "metadata": {
        "colab": {
          "base_uri": "https://localhost:8080/",
          "height": 141
        },
        "id": "go0knO9_zO4h",
        "outputId": "0a0a181c-1156-4677-d798-aef841fe0b02"
      },
      "execution_count": null,
      "outputs": [
        {
          "output_type": "error",
          "ename": "ValueError",
          "evalue": "operands could not be broadcast together with shapes (3,4) (4,3) ",
          "traceback": [
            "\u001b[0;31m---------------------------------------------------------------------------\u001b[0m",
            "\u001b[0;31mValueError\u001b[0m                                Traceback (most recent call last)",
            "\u001b[0;32m/tmp/ipython-input-256-3537648930.py\u001b[0m in \u001b[0;36m<cell line: 0>\u001b[0;34m()\u001b[0m\n\u001b[0;32m----> 1\u001b[0;31m \u001b[0ma\u001b[0m \u001b[0;34m*\u001b[0m \u001b[0mb\u001b[0m\u001b[0;34m.\u001b[0m\u001b[0mT\u001b[0m\u001b[0;34m\u001b[0m\u001b[0;34m\u001b[0m\u001b[0m\n\u001b[0m",
            "\u001b[0;31mValueError\u001b[0m: operands could not be broadcast together with shapes (3,4) (4,3) "
          ]
        }
      ]
    },
    {
      "cell_type": "markdown",
      "source": [
        "matrix는 * 와 @ 모두가 가능하다."
      ],
      "metadata": {
        "id": "gDUGnFPpzJpo"
      }
    },
    {
      "cell_type": "code",
      "source": [
        "print(c)\n",
        "print(c.shape)"
      ],
      "metadata": {
        "colab": {
          "base_uri": "https://localhost:8080/"
        },
        "id": "YL0JuWBCy6f_",
        "outputId": "8150e4ac-b835-45a6-8c20-6b3375ee8b20"
      },
      "execution_count": null,
      "outputs": [
        {
          "output_type": "stream",
          "name": "stdout",
          "text": [
            "[[1 2]\n",
            " [3 4]]\n",
            "(2, 2)\n"
          ]
        }
      ]
    },
    {
      "cell_type": "code",
      "source": [
        "c * c.T"
      ],
      "metadata": {
        "colab": {
          "base_uri": "https://localhost:8080/"
        },
        "id": "-TJT9Y85ze_P",
        "outputId": "3f50a09c-646c-48d0-a8b8-8243c51502f5"
      },
      "execution_count": null,
      "outputs": [
        {
          "output_type": "execute_result",
          "data": {
            "text/plain": [
              "matrix([[ 5, 11],\n",
              "        [11, 25]])"
            ]
          },
          "metadata": {},
          "execution_count": 258
        }
      ]
    },
    {
      "cell_type": "code",
      "source": [
        "c @ c.T"
      ],
      "metadata": {
        "colab": {
          "base_uri": "https://localhost:8080/"
        },
        "id": "a530d0s_zhwm",
        "outputId": "c1df1ce7-2fae-4c61-bdaa-672eecffd6f0"
      },
      "execution_count": null,
      "outputs": [
        {
          "output_type": "execute_result",
          "data": {
            "text/plain": [
              "matrix([[ 5, 11],\n",
              "        [11, 25]])"
            ]
          },
          "metadata": {},
          "execution_count": 259
        }
      ]
    },
    {
      "cell_type": "code",
      "source": [
        "np.dot(a,a.T)  # 함수방법으로 np.dot( )함수를 사용할 수 있다."
      ],
      "metadata": {
        "colab": {
          "base_uri": "https://localhost:8080/"
        },
        "id": "yYBZxZKTzkzN",
        "outputId": "fdc1d1f0-dec1-4756-bbd0-5b2bf28cf1f8"
      },
      "execution_count": null,
      "outputs": [
        {
          "output_type": "execute_result",
          "data": {
            "text/plain": [
              "array([[ 14,  38,  62],\n",
              "       [ 38, 126, 214],\n",
              "       [ 62, 214, 366]])"
            ]
          },
          "metadata": {},
          "execution_count": 260
        }
      ]
    },
    {
      "cell_type": "code",
      "source": [
        "np.dot(c, c.T)"
      ],
      "metadata": {
        "colab": {
          "base_uri": "https://localhost:8080/"
        },
        "id": "NIj8PMXY0IKv",
        "outputId": "390a065d-f05d-4cfe-def3-166cfd2152e9"
      },
      "execution_count": null,
      "outputs": [
        {
          "output_type": "execute_result",
          "data": {
            "text/plain": [
              "matrix([[ 5, 11],\n",
              "        [11, 25]])"
            ]
          },
          "metadata": {},
          "execution_count": 261
        }
      ]
    },
    {
      "cell_type": "code",
      "source": [
        "a.dot(a.T)  # 메소드(method) 방식"
      ],
      "metadata": {
        "colab": {
          "base_uri": "https://localhost:8080/"
        },
        "id": "iC4zxKIK01pe",
        "outputId": "850198aa-73bd-4fde-cc4f-f9552578685c"
      },
      "execution_count": null,
      "outputs": [
        {
          "output_type": "execute_result",
          "data": {
            "text/plain": [
              "array([[ 14,  38,  62],\n",
              "       [ 38, 126, 214],\n",
              "       [ 62, 214, 366]])"
            ]
          },
          "metadata": {},
          "execution_count": 262
        }
      ]
    },
    {
      "cell_type": "code",
      "source": [
        "c.dot(c.T)"
      ],
      "metadata": {
        "colab": {
          "base_uri": "https://localhost:8080/"
        },
        "id": "YXnhCLx-07nW",
        "outputId": "39d432b0-3b0a-4a78-d4c0-087210f577ff"
      },
      "execution_count": null,
      "outputs": [
        {
          "output_type": "execute_result",
          "data": {
            "text/plain": [
              "matrix([[ 5, 11],\n",
              "        [11, 25]])"
            ]
          },
          "metadata": {},
          "execution_count": 263
        }
      ]
    },
    {
      "cell_type": "markdown",
      "source": [
        "## axis\n",
        "axis는 다차원 배열을 연산할때 기준이 되는 축이다."
      ],
      "metadata": {
        "id": "rT-Qdb1W2mnH"
      }
    },
    {
      "cell_type": "code",
      "source": [
        "print(a)"
      ],
      "metadata": {
        "colab": {
          "base_uri": "https://localhost:8080/"
        },
        "id": "JGVrVsn72ogG",
        "outputId": "9669055a-44b1-4b66-daba-37ba0001c79e"
      },
      "execution_count": null,
      "outputs": [
        {
          "output_type": "stream",
          "name": "stdout",
          "text": [
            "[[ 0  1  2  3]\n",
            " [ 4  5  6  7]\n",
            " [ 8  9 10 11]]\n"
          ]
        }
      ]
    },
    {
      "cell_type": "code",
      "source": [
        "print(np.sum(a))"
      ],
      "metadata": {
        "colab": {
          "base_uri": "https://localhost:8080/"
        },
        "id": "Ue3RfYFx5w2W",
        "outputId": "e25a5132-ee5a-49c0-8699-e47577617667"
      },
      "execution_count": null,
      "outputs": [
        {
          "output_type": "stream",
          "name": "stdout",
          "text": [
            "66\n"
          ]
        }
      ]
    },
    {
      "cell_type": "code",
      "source": [
        "sum(a)"
      ],
      "metadata": {
        "colab": {
          "base_uri": "https://localhost:8080/"
        },
        "id": "0ujPMUMP5zQW",
        "outputId": "3ed46ecf-4145-45b2-8347-be0162ef5642"
      },
      "execution_count": null,
      "outputs": [
        {
          "output_type": "execute_result",
          "data": {
            "text/plain": [
              "array([12, 15, 18, 21])"
            ]
          },
          "metadata": {},
          "execution_count": 266
        }
      ]
    },
    {
      "cell_type": "code",
      "source": [
        "print(np.sum(a, axis=0)) # 행을 기준으로 각열의 합을 구한다."
      ],
      "metadata": {
        "colab": {
          "base_uri": "https://localhost:8080/"
        },
        "id": "dU7F1Ien50pO",
        "outputId": "9885576f-4547-4e42-f60f-aa1768f47f5e"
      },
      "execution_count": null,
      "outputs": [
        {
          "output_type": "stream",
          "name": "stdout",
          "text": [
            "[12 15 18 21]\n"
          ]
        }
      ]
    },
    {
      "cell_type": "code",
      "source": [
        "print(np.sum(a, axis=1)) # 열을 기준으로 각행의 합을 구한다."
      ],
      "metadata": {
        "colab": {
          "base_uri": "https://localhost:8080/"
        },
        "id": "TtV8al816j7o",
        "outputId": "743193fd-f115-4c17-a92d-def84238a363"
      },
      "execution_count": null,
      "outputs": [
        {
          "output_type": "stream",
          "name": "stdout",
          "text": [
            "[ 6 22 38]\n"
          ]
        }
      ]
    },
    {
      "cell_type": "code",
      "source": [
        "a = np.arange(24).reshape(2,3,4)\n",
        "print(a)"
      ],
      "metadata": {
        "colab": {
          "base_uri": "https://localhost:8080/"
        },
        "id": "jdPwmLt56P39",
        "outputId": "e4d222bf-4bc5-466b-f72c-debd570897ec"
      },
      "execution_count": null,
      "outputs": [
        {
          "output_type": "stream",
          "name": "stdout",
          "text": [
            "[[[ 0  1  2  3]\n",
            "  [ 4  5  6  7]\n",
            "  [ 8  9 10 11]]\n",
            "\n",
            " [[12 13 14 15]\n",
            "  [16 17 18 19]\n",
            "  [20 21 22 23]]]\n"
          ]
        }
      ]
    },
    {
      "cell_type": "code",
      "source": [
        "print(np.sum(a))"
      ],
      "metadata": {
        "colab": {
          "base_uri": "https://localhost:8080/"
        },
        "id": "9X6Tb4ih7BM-",
        "outputId": "6720cc87-dea6-4f29-90fb-e53ccf83ca1b"
      },
      "execution_count": null,
      "outputs": [
        {
          "output_type": "stream",
          "name": "stdout",
          "text": [
            "276\n"
          ]
        }
      ]
    },
    {
      "cell_type": "code",
      "source": [
        "print(np.sum(a, axis=0)) #  (2,3,4) => 공간기준 (3, 4)"
      ],
      "metadata": {
        "colab": {
          "base_uri": "https://localhost:8080/"
        },
        "id": "sUVpSALf7Jat",
        "outputId": "30a335eb-cbc0-46ba-e419-23ffaff66ff6"
      },
      "execution_count": null,
      "outputs": [
        {
          "output_type": "stream",
          "name": "stdout",
          "text": [
            "[[12 14 16 18]\n",
            " [20 22 24 26]\n",
            " [28 30 32 34]]\n"
          ]
        }
      ]
    },
    {
      "cell_type": "code",
      "source": [
        "print(np.sum(a, axis=1))"
      ],
      "metadata": {
        "colab": {
          "base_uri": "https://localhost:8080/"
        },
        "id": "EW60H1lJ7ODt",
        "outputId": "e1ae5fc8-dbe0-4247-c83c-a7a18242d429"
      },
      "execution_count": null,
      "outputs": [
        {
          "output_type": "stream",
          "name": "stdout",
          "text": [
            "[[12 15 18 21]\n",
            " [48 51 54 57]]\n"
          ]
        }
      ]
    },
    {
      "cell_type": "code",
      "source": [
        "print(np.sum(a, axis=2))"
      ],
      "metadata": {
        "colab": {
          "base_uri": "https://localhost:8080/"
        },
        "id": "YsJZb8tV8OKI",
        "outputId": "152e4e2e-6c55-444b-8442-4b035a99f896"
      },
      "execution_count": null,
      "outputs": [
        {
          "output_type": "stream",
          "name": "stdout",
          "text": [
            "[[ 6 22 38]\n",
            " [54 70 86]]\n"
          ]
        }
      ]
    },
    {
      "cell_type": "markdown",
      "source": [
        "```\n",
        "[[[ 0  1  2  3]\n",
        "  [ 4  5  6  7]\n",
        "  [ 8  9 10 11]]\n",
        "\n",
        " [[12 13 14 15]\n",
        "  [16 17 18 19]\n",
        "  [20 21 22 23]]]\n",
        "  ```"
      ],
      "metadata": {
        "id": "GpN5z5y97mKI"
      }
    },
    {
      "cell_type": "markdown",
      "source": [
        "## array 모양 바꾸기"
      ],
      "metadata": {
        "id": "lBJeVN4x89zJ"
      }
    },
    {
      "cell_type": "markdown",
      "source": [
        "### reshape\n",
        "- 차원을 바꿔주는 함수이다."
      ],
      "metadata": {
        "id": "UVrpioV99DHp"
      }
    },
    {
      "cell_type": "code",
      "source": [
        "a = np.arange(24) # 1차원 배열\n",
        "print(a)"
      ],
      "metadata": {
        "colab": {
          "base_uri": "https://localhost:8080/"
        },
        "id": "1om4rnl_9CwY",
        "outputId": "2e526ce1-11d9-47c3-f168-0a95f5c3a201"
      },
      "execution_count": null,
      "outputs": [
        {
          "output_type": "stream",
          "name": "stdout",
          "text": [
            "[ 0  1  2  3  4  5  6  7  8  9 10 11 12 13 14 15 16 17 18 19 20 21 22 23]\n"
          ]
        }
      ]
    },
    {
      "cell_type": "code",
      "source": [
        "b = a.reshape(3,8) # 2차원 배열\n",
        "print(b)"
      ],
      "metadata": {
        "colab": {
          "base_uri": "https://localhost:8080/"
        },
        "id": "RlZQ1I1t9BEJ",
        "outputId": "ecd02a58-655a-4910-82ad-feb5b60df522"
      },
      "execution_count": null,
      "outputs": [
        {
          "output_type": "stream",
          "name": "stdout",
          "text": [
            "[[ 0  1  2  3  4  5  6  7]\n",
            " [ 8  9 10 11 12 13 14 15]\n",
            " [16 17 18 19 20 21 22 23]]\n"
          ]
        }
      ]
    },
    {
      "cell_type": "code",
      "source": [
        "c = b.reshape(2,3,-1)\n",
        "print(c)"
      ],
      "metadata": {
        "colab": {
          "base_uri": "https://localhost:8080/"
        },
        "id": "gbdBcQMI9bVl",
        "outputId": "16d81264-7bf6-44cf-851e-911640e7a356"
      },
      "execution_count": null,
      "outputs": [
        {
          "output_type": "stream",
          "name": "stdout",
          "text": [
            "[[[ 0  1  2  3]\n",
            "  [ 4  5  6  7]\n",
            "  [ 8  9 10 11]]\n",
            "\n",
            " [[12 13 14 15]\n",
            "  [16 17 18 19]\n",
            "  [20 21 22 23]]]\n"
          ]
        }
      ]
    },
    {
      "cell_type": "code",
      "source": [
        "# 음수이기만 하면 -100도 상관없다.\n",
        "c = b.reshape(2,3,-100)\n",
        "print(c)"
      ],
      "metadata": {
        "colab": {
          "base_uri": "https://localhost:8080/"
        },
        "id": "JsALfOom9oud",
        "outputId": "5404b29f-dd83-46de-dcd4-79e145ce89c2"
      },
      "execution_count": null,
      "outputs": [
        {
          "output_type": "stream",
          "name": "stdout",
          "text": [
            "[[[ 0  1  2  3]\n",
            "  [ 4  5  6  7]\n",
            "  [ 8  9 10 11]]\n",
            "\n",
            " [[12 13 14 15]\n",
            "  [16 17 18 19]\n",
            "  [20 21 22 23]]]\n"
          ]
        }
      ]
    },
    {
      "cell_type": "markdown",
      "source": [
        "### resize\n",
        "- 배열 원소의 갯수에 변화을 주는 함수이다.\n"
      ],
      "metadata": {
        "id": "lQSBPRbD-D5W"
      }
    },
    {
      "cell_type": "code",
      "source": [
        "# size는 요소의 갯수를 리턴한다.\n",
        "a = np.arange(24)\n",
        "print(a.size)\n",
        "print(len(a))"
      ],
      "metadata": {
        "colab": {
          "base_uri": "https://localhost:8080/"
        },
        "id": "ogogz3Uc-LB2",
        "outputId": "206a4f28-2858-4e9e-a61f-3016ddfe2fb0"
      },
      "execution_count": null,
      "outputs": [
        {
          "output_type": "stream",
          "name": "stdout",
          "text": [
            "24\n",
            "24\n"
          ]
        }
      ]
    },
    {
      "cell_type": "code",
      "source": [
        "# mutable이다. return이 없고 자기 자신을 바꾼다.  => reshap와 차이점1\n",
        "# 원래의 원소 개수와 변경하는 원소 개수가 안 맞아도 된다. (0으로 채워준다.) => reshape와 차이점2\n",
        "b = np.arange(24)\n",
        "b.resize(2,3,8)\n",
        "print(b)"
      ],
      "metadata": {
        "colab": {
          "base_uri": "https://localhost:8080/"
        },
        "id": "UAAuDvTV-Pfk",
        "outputId": "a9354fcd-feaa-426e-ddb4-a447b8f4364b"
      },
      "execution_count": null,
      "outputs": [
        {
          "output_type": "stream",
          "name": "stdout",
          "text": [
            "[[[ 0  1  2  3  4  5  6  7]\n",
            "  [ 8  9 10 11 12 13 14 15]\n",
            "  [16 17 18 19 20 21 22 23]]\n",
            "\n",
            " [[ 0  0  0  0  0  0  0  0]\n",
            "  [ 0  0  0  0  0  0  0  0]\n",
            "  [ 0  0  0  0  0  0  0  0]]]\n"
          ]
        }
      ]
    },
    {
      "cell_type": "code",
      "source": [
        "c = np.arange(24)\n",
        "c.resize(3,4)\n",
        "print(c)\n",
        "\n",
        "c.resize(2,3,4)\n",
        "print(c)"
      ],
      "metadata": {
        "colab": {
          "base_uri": "https://localhost:8080/"
        },
        "id": "IB1dLoNy-ktk",
        "outputId": "995bdfa2-ead2-4872-ad58-382a2d2c39a8"
      },
      "execution_count": null,
      "outputs": [
        {
          "output_type": "stream",
          "name": "stdout",
          "text": [
            "[[ 0  1  2  3]\n",
            " [ 4  5  6  7]\n",
            " [ 8  9 10 11]]\n",
            "[[[ 0  1  2  3]\n",
            "  [ 4  5  6  7]\n",
            "  [ 8  9 10 11]]\n",
            "\n",
            " [[ 0  0  0  0]\n",
            "  [ 0  0  0  0]\n",
            "  [ 0  0  0  0]]]\n"
          ]
        }
      ]
    },
    {
      "cell_type": "code",
      "source": [],
      "metadata": {
        "colab": {
          "base_uri": "https://localhost:8080/",
          "height": 193
        },
        "id": "yZZDN_Ff_1fN",
        "outputId": "c0abcd00-eca2-401d-89f0-f66e7459706e"
      },
      "execution_count": null,
      "outputs": [
        {
          "output_type": "error",
          "ename": "ValueError",
          "evalue": "cannot resize an array that references or is referenced\nby another array in this way.\nUse the np.resize function or refcheck=False",
          "traceback": [
            "\u001b[0;31m---------------------------------------------------------------------------\u001b[0m",
            "\u001b[0;31mValueError\u001b[0m                                Traceback (most recent call last)",
            "\u001b[0;32m/tmp/ipython-input-291-2925639226.py\u001b[0m in \u001b[0;36m<cell line: 0>\u001b[0;34m()\u001b[0m\n\u001b[0;32m----> 1\u001b[0;31m \u001b[0mc\u001b[0m\u001b[0;34m.\u001b[0m\u001b[0mresize\u001b[0m\u001b[0;34m(\u001b[0m\u001b[0;36m3\u001b[0m\u001b[0;34m,\u001b[0m\u001b[0;36m4\u001b[0m\u001b[0;34m)\u001b[0m\u001b[0;34m\u001b[0m\u001b[0;34m\u001b[0m\u001b[0m\n\u001b[0m\u001b[1;32m      2\u001b[0m \u001b[0mprint\u001b[0m\u001b[0;34m(\u001b[0m\u001b[0mc\u001b[0m\u001b[0;34m)\u001b[0m\u001b[0;34m\u001b[0m\u001b[0;34m\u001b[0m\u001b[0m\n",
            "\u001b[0;31mValueError\u001b[0m: cannot resize an array that references or is referenced\nby another array in this way.\nUse the np.resize function or refcheck=False"
          ]
        }
      ]
    },
    {
      "cell_type": "markdown",
      "source": [
        "### array 쪼개기"
      ],
      "metadata": {
        "id": "ysQDdyX9BdKn"
      }
    },
    {
      "cell_type": "markdown",
      "source": [
        "split"
      ],
      "metadata": {
        "id": "uPa13uxLBheI"
      }
    },
    {
      "cell_type": "code",
      "source": [
        "a = np.arange(24)\n",
        "print(a)"
      ],
      "metadata": {
        "colab": {
          "base_uri": "https://localhost:8080/"
        },
        "id": "0BzBs8gfBgBQ",
        "outputId": "af8abf1f-2cec-4088-bb43-8377837ef71c"
      },
      "execution_count": null,
      "outputs": [
        {
          "output_type": "stream",
          "name": "stdout",
          "text": [
            "[ 0  1  2  3  4  5  6  7  8  9 10 11 12 13 14 15 16 17 18 19 20 21 22 23]\n"
          ]
        }
      ]
    },
    {
      "cell_type": "code",
      "source": [
        "b = np.split(a, [3] , axis=0) # 3인덱스를 기준으로 쪼갬\n",
        "print(b)\n",
        "print(type(b)) # list\n",
        "print(len(b))  # 2"
      ],
      "metadata": {
        "colab": {
          "base_uri": "https://localhost:8080/"
        },
        "id": "anwrso7SBnF0",
        "outputId": "71896157-0895-4da4-dca4-2a8d7fdacae6"
      },
      "execution_count": null,
      "outputs": [
        {
          "output_type": "stream",
          "name": "stdout",
          "text": [
            "[array([0, 1, 2]), array([ 3,  4,  5,  6,  7,  8,  9, 10, 11, 12, 13, 14, 15, 16, 17, 18, 19,\n",
            "       20, 21, 22, 23])]\n",
            "<class 'list'>\n",
            "2\n"
          ]
        }
      ]
    },
    {
      "cell_type": "code",
      "source": [
        "b = np.split(a, [3, 5, 9, 11] , axis=0) # 3인덱스를 기준으로 쪼갬\n",
        "print(b)\n",
        "print(type(b)) # list\n",
        "print(len(b))  # 5"
      ],
      "metadata": {
        "colab": {
          "base_uri": "https://localhost:8080/"
        },
        "id": "T6OCSGLSDW2e",
        "outputId": "a20b5f7a-fbcc-4d4b-ae8e-9b461b42c1cd"
      },
      "execution_count": null,
      "outputs": [
        {
          "output_type": "stream",
          "name": "stdout",
          "text": [
            "[array([0, 1, 2]), array([3, 4]), array([5, 6, 7, 8]), array([ 9, 10]), array([11, 12, 13, 14, 15, 16, 17, 18, 19, 20, 21, 22, 23])]\n",
            "<class 'list'>\n",
            "5\n"
          ]
        }
      ]
    },
    {
      "cell_type": "code",
      "source": [
        "b = np.split(a, 3 , axis=0) # 3개로 쪼갬\n",
        "print(b)\n",
        "print(type(b)) # list\n",
        "print(len(b))  # 3"
      ],
      "metadata": {
        "colab": {
          "base_uri": "https://localhost:8080/"
        },
        "id": "v-deVYZOBvd8",
        "outputId": "8d7ecfa9-48cc-4761-ef33-bd9bfd9bc462"
      },
      "execution_count": null,
      "outputs": [
        {
          "output_type": "stream",
          "name": "stdout",
          "text": [
            "[array([0, 1, 2, 3, 4, 5, 6, 7]), array([ 8,  9, 10, 11, 12, 13, 14, 15]), array([16, 17, 18, 19, 20, 21, 22, 23])]\n",
            "<class 'list'>\n",
            "3\n"
          ]
        }
      ]
    },
    {
      "cell_type": "code",
      "source": [
        "a = np.arange(24).reshape(4, 6)\n",
        "print(a)"
      ],
      "metadata": {
        "colab": {
          "base_uri": "https://localhost:8080/"
        },
        "id": "NoQKeScZDpf-",
        "outputId": "3eadc4a4-f788-4237-a058-b255135295d0"
      },
      "execution_count": null,
      "outputs": [
        {
          "output_type": "stream",
          "name": "stdout",
          "text": [
            "[[ 0  1  2  3  4  5]\n",
            " [ 6  7  8  9 10 11]\n",
            " [12 13 14 15 16 17]\n",
            " [18 19 20 21 22 23]]\n"
          ]
        }
      ]
    },
    {
      "cell_type": "code",
      "source": [
        "b = np.split(a, 2, axis=0)\n",
        "print(b)\n",
        "print(type(b))\n",
        "print(len(b))\n"
      ],
      "metadata": {
        "colab": {
          "base_uri": "https://localhost:8080/"
        },
        "id": "nzWy_sUxDvr0",
        "outputId": "d544d595-a5e5-4b77-bc6a-5490bbfa3040"
      },
      "execution_count": null,
      "outputs": [
        {
          "output_type": "stream",
          "name": "stdout",
          "text": [
            "[array([[ 0,  1,  2,  3,  4,  5],\n",
            "       [ 6,  7,  8,  9, 10, 11]]), array([[12, 13, 14, 15, 16, 17],\n",
            "       [18, 19, 20, 21, 22, 23]])]\n",
            "<class 'list'>\n",
            "2\n"
          ]
        }
      ]
    },
    {
      "cell_type": "code",
      "source": [
        "b = np.split(a, 2, axis=1)\n",
        "print(b)\n",
        "print(type(b))\n",
        "print(len(b))"
      ],
      "metadata": {
        "colab": {
          "base_uri": "https://localhost:8080/"
        },
        "id": "EUYnBsWrD7jj",
        "outputId": "b1631fbb-20f4-4f36-efbf-54e10baffb96"
      },
      "execution_count": null,
      "outputs": [
        {
          "output_type": "stream",
          "name": "stdout",
          "text": [
            "[array([[ 0,  1,  2],\n",
            "       [ 6,  7,  8],\n",
            "       [12, 13, 14],\n",
            "       [18, 19, 20]]), array([[ 3,  4,  5],\n",
            "       [ 9, 10, 11],\n",
            "       [15, 16, 17],\n",
            "       [21, 22, 23]])]\n",
            "<class 'list'>\n",
            "2\n"
          ]
        }
      ]
    },
    {
      "cell_type": "code",
      "source": [
        "b = np.split(a, 3, axis=1)\n",
        "print(b)\n",
        "print(type(b))\n",
        "print(len(b))"
      ],
      "metadata": {
        "colab": {
          "base_uri": "https://localhost:8080/"
        },
        "id": "US3aNn5bEUtj",
        "outputId": "8fc6fbd1-027b-40c4-aca6-1a8f87368744"
      },
      "execution_count": null,
      "outputs": [
        {
          "output_type": "stream",
          "name": "stdout",
          "text": [
            "[array([[ 0,  1],\n",
            "       [ 6,  7],\n",
            "       [12, 13],\n",
            "       [18, 19]]), array([[ 2,  3],\n",
            "       [ 8,  9],\n",
            "       [14, 15],\n",
            "       [20, 21]]), array([[ 4,  5],\n",
            "       [10, 11],\n",
            "       [16, 17],\n",
            "       [22, 23]])]\n",
            "<class 'list'>\n",
            "3\n"
          ]
        }
      ]
    },
    {
      "cell_type": "code",
      "source": [
        "b = np.split(a, 4, axis=1)  # 분할했을 때 각 영역에 요소의 갯수가 같아야 한다.\n",
        "print(b)\n",
        "print(type(b))\n",
        "print(len(b))"
      ],
      "metadata": {
        "colab": {
          "base_uri": "https://localhost:8080/",
          "height": 332
        },
        "id": "hGupPYD_EoGV",
        "outputId": "284db15f-1d90-4326-8b8c-5ab33999a6ae"
      },
      "execution_count": null,
      "outputs": [
        {
          "output_type": "error",
          "ename": "ValueError",
          "evalue": "array split does not result in an equal division",
          "traceback": [
            "\u001b[0;31m---------------------------------------------------------------------------\u001b[0m",
            "\u001b[0;31mValueError\u001b[0m                                Traceback (most recent call last)",
            "\u001b[0;32m/tmp/ipython-input-311-4078151118.py\u001b[0m in \u001b[0;36m<cell line: 0>\u001b[0;34m()\u001b[0m\n\u001b[0;32m----> 1\u001b[0;31m \u001b[0mb\u001b[0m \u001b[0;34m=\u001b[0m \u001b[0mnp\u001b[0m\u001b[0;34m.\u001b[0m\u001b[0msplit\u001b[0m\u001b[0;34m(\u001b[0m\u001b[0ma\u001b[0m\u001b[0;34m,\u001b[0m \u001b[0;36m4\u001b[0m\u001b[0;34m,\u001b[0m \u001b[0maxis\u001b[0m\u001b[0;34m=\u001b[0m\u001b[0;36m1\u001b[0m\u001b[0;34m)\u001b[0m\u001b[0;34m\u001b[0m\u001b[0;34m\u001b[0m\u001b[0m\n\u001b[0m\u001b[1;32m      2\u001b[0m \u001b[0mprint\u001b[0m\u001b[0;34m(\u001b[0m\u001b[0mb\u001b[0m\u001b[0;34m)\u001b[0m\u001b[0;34m\u001b[0m\u001b[0;34m\u001b[0m\u001b[0m\n\u001b[1;32m      3\u001b[0m \u001b[0mprint\u001b[0m\u001b[0;34m(\u001b[0m\u001b[0mtype\u001b[0m\u001b[0;34m(\u001b[0m\u001b[0mb\u001b[0m\u001b[0;34m)\u001b[0m\u001b[0;34m)\u001b[0m\u001b[0;34m\u001b[0m\u001b[0;34m\u001b[0m\u001b[0m\n\u001b[1;32m      4\u001b[0m \u001b[0mprint\u001b[0m\u001b[0;34m(\u001b[0m\u001b[0mlen\u001b[0m\u001b[0;34m(\u001b[0m\u001b[0mb\u001b[0m\u001b[0;34m)\u001b[0m\u001b[0;34m)\u001b[0m\u001b[0;34m\u001b[0m\u001b[0;34m\u001b[0m\u001b[0m\n",
            "\u001b[0;32m/usr/local/lib/python3.11/dist-packages/numpy/lib/_shape_base_impl.py\u001b[0m in \u001b[0;36msplit\u001b[0;34m(ary, indices_or_sections, axis)\u001b[0m\n\u001b[1;32m    872\u001b[0m         \u001b[0mN\u001b[0m \u001b[0;34m=\u001b[0m \u001b[0mary\u001b[0m\u001b[0;34m.\u001b[0m\u001b[0mshape\u001b[0m\u001b[0;34m[\u001b[0m\u001b[0maxis\u001b[0m\u001b[0;34m]\u001b[0m\u001b[0;34m\u001b[0m\u001b[0;34m\u001b[0m\u001b[0m\n\u001b[1;32m    873\u001b[0m         \u001b[0;32mif\u001b[0m \u001b[0mN\u001b[0m \u001b[0;34m%\u001b[0m \u001b[0msections\u001b[0m\u001b[0;34m:\u001b[0m\u001b[0;34m\u001b[0m\u001b[0;34m\u001b[0m\u001b[0m\n\u001b[0;32m--> 874\u001b[0;31m             raise ValueError(\n\u001b[0m\u001b[1;32m    875\u001b[0m                 'array split does not result in an equal division') from None\n\u001b[1;32m    876\u001b[0m     \u001b[0;32mreturn\u001b[0m \u001b[0marray_split\u001b[0m\u001b[0;34m(\u001b[0m\u001b[0mary\u001b[0m\u001b[0;34m,\u001b[0m \u001b[0mindices_or_sections\u001b[0m\u001b[0;34m,\u001b[0m \u001b[0maxis\u001b[0m\u001b[0;34m)\u001b[0m\u001b[0;34m\u001b[0m\u001b[0;34m\u001b[0m\u001b[0m\n",
            "\u001b[0;31mValueError\u001b[0m: array split does not result in an equal division"
          ]
        }
      ]
    },
    {
      "cell_type": "markdown",
      "source": [
        "![image.png](data:image/png;base64,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)"
      ],
      "metadata": {
        "id": "w-9WCC3pjyWC"
      }
    },
    {
      "cell_type": "code",
      "source": [
        "a = np.arange(24)\n",
        "b = a.reshape(4,6)\n",
        "print(b)"
      ],
      "metadata": {
        "id": "kXbSX2BSEpkr",
        "colab": {
          "base_uri": "https://localhost:8080/"
        },
        "outputId": "643911cc-a49e-4078-cb97-080d4e1f8402"
      },
      "execution_count": null,
      "outputs": [
        {
          "output_type": "stream",
          "name": "stdout",
          "text": [
            "[[ 0  1  2  3  4  5]\n",
            " [ 6  7  8  9 10 11]\n",
            " [12 13 14 15 16 17]\n",
            " [18 19 20 21 22 23]]\n"
          ]
        }
      ]
    },
    {
      "cell_type": "code",
      "source": [
        "np.split(b, 2, axis=0) # b는 2차원이므로 axis=0의 의미는 행이다."
      ],
      "metadata": {
        "colab": {
          "base_uri": "https://localhost:8080/"
        },
        "id": "NsJ8pq1mkOww",
        "outputId": "58650df1-dbd3-47ba-a716-499cf4d49d0b"
      },
      "execution_count": null,
      "outputs": [
        {
          "output_type": "execute_result",
          "data": {
            "text/plain": [
              "[array([[ 0,  1,  2,  3,  4,  5],\n",
              "        [ 6,  7,  8,  9, 10, 11]]),\n",
              " array([[12, 13, 14, 15, 16, 17],\n",
              "        [18, 19, 20, 21, 22, 23]])]"
            ]
          },
          "metadata": {},
          "execution_count": 4
        }
      ]
    },
    {
      "cell_type": "code",
      "source": [
        "np.split(b, 2, axis=1)# b는 2차원이므로 axis=1의 의미는 열이다."
      ],
      "metadata": {
        "colab": {
          "base_uri": "https://localhost:8080/"
        },
        "id": "8_aGbfRqkhTy",
        "outputId": "dda91451-2fe3-4a2d-cea9-ff5191794892"
      },
      "execution_count": null,
      "outputs": [
        {
          "output_type": "execute_result",
          "data": {
            "text/plain": [
              "[array([[ 0,  1,  2],\n",
              "        [ 6,  7,  8],\n",
              "        [12, 13, 14],\n",
              "        [18, 19, 20]]),\n",
              " array([[ 3,  4,  5],\n",
              "        [ 9, 10, 11],\n",
              "        [15, 16, 17],\n",
              "        [21, 22, 23]])]"
            ]
          },
          "metadata": {},
          "execution_count": 5
        }
      ]
    },
    {
      "cell_type": "code",
      "source": [
        "np.vsplit(b, 2)  # np.split(b, 2, axis=0)"
      ],
      "metadata": {
        "colab": {
          "base_uri": "https://localhost:8080/"
        },
        "id": "9uRB79B0k1NX",
        "outputId": "4439f6ac-5bd0-49a1-a331-c2278b173cce"
      },
      "execution_count": null,
      "outputs": [
        {
          "output_type": "execute_result",
          "data": {
            "text/plain": [
              "[array([[ 0,  1,  2,  3,  4,  5],\n",
              "        [ 6,  7,  8,  9, 10, 11]]),\n",
              " array([[12, 13, 14, 15, 16, 17],\n",
              "        [18, 19, 20, 21, 22, 23]])]"
            ]
          },
          "metadata": {},
          "execution_count": 6
        }
      ]
    },
    {
      "cell_type": "code",
      "source": [
        "np.hsplit(b, 2)  #np.split(b, 2, axis=1)"
      ],
      "metadata": {
        "colab": {
          "base_uri": "https://localhost:8080/"
        },
        "id": "FqrNHMykk-6D",
        "outputId": "0562fbfb-7052-479c-b30a-d837863cde65"
      },
      "execution_count": null,
      "outputs": [
        {
          "output_type": "execute_result",
          "data": {
            "text/plain": [
              "[array([[ 0,  1,  2],\n",
              "        [ 6,  7,  8],\n",
              "        [12, 13, 14],\n",
              "        [18, 19, 20]]),\n",
              " array([[ 3,  4,  5],\n",
              "        [ 9, 10, 11],\n",
              "        [15, 16, 17],\n",
              "        [21, 22, 23]])]"
            ]
          },
          "metadata": {},
          "execution_count": 15
        }
      ]
    },
    {
      "cell_type": "markdown",
      "source": [
        "### array합치기"
      ],
      "metadata": {
        "id": "oRchuR1Il2rw"
      }
    },
    {
      "cell_type": "code",
      "source": [
        "a = np.arange(24)\n",
        "print(a)\n",
        "x, y, z = np.split(a, 3)\n",
        "print(x)\n",
        "print(y)\n",
        "print(z)"
      ],
      "metadata": {
        "colab": {
          "base_uri": "https://localhost:8080/"
        },
        "id": "ayXn4Cyxl5kX",
        "outputId": "2086cebb-de88-4aa9-e530-6844f72a6729"
      },
      "execution_count": null,
      "outputs": [
        {
          "output_type": "stream",
          "name": "stdout",
          "text": [
            "[ 0  1  2  3  4  5  6  7  8  9 10 11 12 13 14 15 16 17 18 19 20 21 22 23]\n",
            "[0 1 2 3 4 5 6 7]\n",
            "[ 8  9 10 11 12 13 14 15]\n",
            "[16 17 18 19 20 21 22 23]\n"
          ]
        }
      ]
    },
    {
      "cell_type": "markdown",
      "source": [
        "![image.png](data:image/png;base64,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)"
      ],
      "metadata": {
        "id": "6ZlhejxUmrMP"
      }
    },
    {
      "cell_type": "code",
      "source": [
        "np.vstack((x, y, z))"
      ],
      "metadata": {
        "colab": {
          "base_uri": "https://localhost:8080/"
        },
        "id": "l2wgj5vCmBkP",
        "outputId": "94b26cc4-79d3-4647-bfaa-5c204bf1bf06"
      },
      "execution_count": null,
      "outputs": [
        {
          "output_type": "execute_result",
          "data": {
            "text/plain": [
              "array([[ 0,  1,  2,  3,  4,  5,  6,  7],\n",
              "       [ 8,  9, 10, 11, 12, 13, 14, 15],\n",
              "       [16, 17, 18, 19, 20, 21, 22, 23]])"
            ]
          },
          "metadata": {},
          "execution_count": 20
        }
      ]
    },
    {
      "cell_type": "code",
      "source": [
        "b = a.reshape(4,6)\n",
        "print(b)\n",
        "x, y, z = np.split(b, 3, axis=1)\n",
        "print(x)\n",
        "print(y)\n",
        "print(z)"
      ],
      "metadata": {
        "colab": {
          "base_uri": "https://localhost:8080/"
        },
        "id": "ax4-M4Y3nL7K",
        "outputId": "4eaaa5a5-f010-484a-9ce0-3e1b18865c1c"
      },
      "execution_count": null,
      "outputs": [
        {
          "output_type": "stream",
          "name": "stdout",
          "text": [
            "[[ 0  1  2  3  4  5]\n",
            " [ 6  7  8  9 10 11]\n",
            " [12 13 14 15 16 17]\n",
            " [18 19 20 21 22 23]]\n",
            "[[ 0  1]\n",
            " [ 6  7]\n",
            " [12 13]\n",
            " [18 19]]\n",
            "[[ 2  3]\n",
            " [ 8  9]\n",
            " [14 15]\n",
            " [20 21]]\n",
            "[[ 4  5]\n",
            " [10 11]\n",
            " [16 17]\n",
            " [22 23]]\n"
          ]
        }
      ]
    },
    {
      "cell_type": "code",
      "source": [
        "np.hstack((x, y, z))"
      ],
      "metadata": {
        "colab": {
          "base_uri": "https://localhost:8080/"
        },
        "id": "9k2KWjzGnk6U",
        "outputId": "39c0ecaf-d124-4bc7-ca14-056d93b003ee"
      },
      "execution_count": null,
      "outputs": [
        {
          "output_type": "execute_result",
          "data": {
            "text/plain": [
              "array([[ 0,  1,  2,  3,  4,  5],\n",
              "       [ 6,  7,  8,  9, 10, 11],\n",
              "       [12, 13, 14, 15, 16, 17],\n",
              "       [18, 19, 20, 21, 22, 23]])"
            ]
          },
          "metadata": {},
          "execution_count": 24
        }
      ]
    },
    {
      "cell_type": "markdown",
      "source": [
        "#### dstack\n",
        "- dstack은 합쳐서 3차원으로 만들어 준다.\n",
        "- 합칠 array들이 1차원, 2차원일 경우는 차원을 늘린 후 합친다.\n",
        "- 합쳐지는 차원은 axis=2이다."
      ],
      "metadata": {
        "id": "7mc0uf1fnz8K"
      }
    },
    {
      "cell_type": "code",
      "source": [
        "a = np.arange(16)\n",
        "x, y = np.hsplit(a, 2)\n",
        "print(x)\n",
        "print(y)"
      ],
      "metadata": {
        "colab": {
          "base_uri": "https://localhost:8080/"
        },
        "id": "QfStRpVLoA-X",
        "outputId": "24f347c7-5f0d-40a2-bd86-4362a59259fb"
      },
      "execution_count": null,
      "outputs": [
        {
          "output_type": "stream",
          "name": "stdout",
          "text": [
            "[0 1 2 3 4 5 6 7]\n",
            "[ 8  9 10 11 12 13 14 15]\n"
          ]
        }
      ]
    },
    {
      "cell_type": "code",
      "source": [
        "c = np.dstack((x, y))\n",
        "print(c.shape)\n",
        "print(c)\n",
        "# x는 shape (8,)  y는 shape(8,)\n",
        "# x는 shape 1차원이므로 (1, m, 1)인 3차원 반환한다.\n",
        "# y는 shape 1차원이므로 (1, n, 1)인 3차원 반환한다."
      ],
      "metadata": {
        "colab": {
          "base_uri": "https://localhost:8080/"
        },
        "id": "vhDfXNcloLQ1",
        "outputId": "591feb10-b2d3-41d8-e9ba-805e26ce16f2"
      },
      "execution_count": null,
      "outputs": [
        {
          "output_type": "stream",
          "name": "stdout",
          "text": [
            "(1, 8, 2)\n",
            "[[[ 0  8]\n",
            "  [ 1  9]\n",
            "  [ 2 10]\n",
            "  [ 3 11]\n",
            "  [ 4 12]\n",
            "  [ 5 13]\n",
            "  [ 6 14]\n",
            "  [ 7 15]]]\n"
          ]
        }
      ]
    },
    {
      "cell_type": "code",
      "source": [
        "x= np.arange(10).reshape(5,2)\n",
        "y = np.arange(10, 20).reshape(5,2)\n",
        "print(x.shape)\n",
        "print(y.shape)\n",
        "print(x)\n",
        "print(y)"
      ],
      "metadata": {
        "colab": {
          "base_uri": "https://localhost:8080/"
        },
        "id": "BAhaE-Irpgwx",
        "outputId": "fea9719e-ddd2-44fb-dcb7-1516dbde8536"
      },
      "execution_count": null,
      "outputs": [
        {
          "output_type": "stream",
          "name": "stdout",
          "text": [
            "(5, 2)\n",
            "(5, 2)\n",
            "[[0 1]\n",
            " [2 3]\n",
            " [4 5]\n",
            " [6 7]\n",
            " [8 9]]\n",
            "[[10 11]\n",
            " [12 13]\n",
            " [14 15]\n",
            " [16 17]\n",
            " [18 19]]\n"
          ]
        }
      ]
    },
    {
      "cell_type": "code",
      "source": [
        "c = np.dstack((x, y))\n",
        "print(c.shape)   # 2차원(m,n) -> 3차원 :  (m ,  n,  2)\n",
        "print(c)"
      ],
      "metadata": {
        "colab": {
          "base_uri": "https://localhost:8080/"
        },
        "id": "9ugu3JgCpsw4",
        "outputId": "d3aa9d3a-d01d-4398-fdeb-759d2edb9090"
      },
      "execution_count": null,
      "outputs": [
        {
          "output_type": "stream",
          "name": "stdout",
          "text": [
            "(5, 2, 2)\n",
            "[[[ 0 10]\n",
            "  [ 1 11]]\n",
            "\n",
            " [[ 2 12]\n",
            "  [ 3 13]]\n",
            "\n",
            " [[ 4 14]\n",
            "  [ 5 15]]\n",
            "\n",
            " [[ 6 16]\n",
            "  [ 7 17]]\n",
            "\n",
            " [[ 8 18]\n",
            "  [ 9 19]]]\n"
          ]
        }
      ]
    },
    {
      "cell_type": "markdown",
      "source": [
        "#### concatenate\n",
        "- concatenate는 axis 방향에 그대로 합쳐준다.    \n",
        " ※  stack는 axis 방향에 새로운 차원을 만들어 합쳐준다."
      ],
      "metadata": {
        "id": "zIPvA0unsBcO"
      }
    },
    {
      "cell_type": "code",
      "source": [
        "a = np.arange(12).reshape(3,4)\n",
        "print(a)\n",
        "x, y = np.split(a, 2, axis = 1)\n",
        "print(x)\n",
        "print(y)"
      ],
      "metadata": {
        "colab": {
          "base_uri": "https://localhost:8080/"
        },
        "id": "hh6GSEBIsD30",
        "outputId": "0d2107bc-b2ea-4324-fc03-8bf31d013e11"
      },
      "execution_count": null,
      "outputs": [
        {
          "output_type": "stream",
          "name": "stdout",
          "text": [
            "[[ 0  1  2  3]\n",
            " [ 4  5  6  7]\n",
            " [ 8  9 10 11]]\n",
            "[[0 1]\n",
            " [4 5]\n",
            " [8 9]]\n",
            "[[ 2  3]\n",
            " [ 6  7]\n",
            " [10 11]]\n"
          ]
        }
      ]
    },
    {
      "cell_type": "code",
      "source": [
        "# 2차원이면 3차원으로 증가한다.\n",
        "b = np.stack((x,y), axis = 0)\n",
        "print(b.shape) # 2차원(m, n) => 3차원(2, m, n)\n",
        "print(b)"
      ],
      "metadata": {
        "colab": {
          "base_uri": "https://localhost:8080/"
        },
        "id": "qUuL82crsOtj",
        "outputId": "49b33389-d90d-4ca6-c1ba-8e0e9e742443"
      },
      "execution_count": null,
      "outputs": [
        {
          "output_type": "stream",
          "name": "stdout",
          "text": [
            "(2, 3, 2)\n",
            "[[[ 0  1]\n",
            "  [ 4  5]\n",
            "  [ 8  9]]\n",
            "\n",
            " [[ 2  3]\n",
            "  [ 6  7]\n",
            "  [10 11]]]\n"
          ]
        }
      ]
    },
    {
      "cell_type": "code",
      "source": [
        "b = np.stack((x,y), axis = 1)\n",
        "print(b.shape) # 2차원(m, n) => 3차원(2, m, n)\n",
        "print(b)"
      ],
      "metadata": {
        "colab": {
          "base_uri": "https://localhost:8080/"
        },
        "id": "P8-m6buPw-W3",
        "outputId": "fba9c92d-ffad-43bd-ddf7-4d02bbf9cdcc"
      },
      "execution_count": null,
      "outputs": [
        {
          "output_type": "stream",
          "name": "stdout",
          "text": [
            "(3, 2, 2)\n",
            "[[[ 0  1]\n",
            "  [ 2  3]]\n",
            "\n",
            " [[ 4  5]\n",
            "  [ 6  7]]\n",
            "\n",
            " [[ 8  9]\n",
            "  [10 11]]]\n"
          ]
        }
      ]
    },
    {
      "cell_type": "code",
      "source": [
        "c = np.concatenate((x, y), axis=0)\n",
        "print(c.shape)\n",
        "print(c)"
      ],
      "metadata": {
        "colab": {
          "base_uri": "https://localhost:8080/"
        },
        "id": "IQfXOA_EsoGw",
        "outputId": "b3ade20b-545c-41c4-90dd-74a3c7802c47"
      },
      "execution_count": null,
      "outputs": [
        {
          "output_type": "stream",
          "name": "stdout",
          "text": [
            "(6, 2)\n",
            "[[ 0  1]\n",
            " [ 4  5]\n",
            " [ 8  9]\n",
            " [ 2  3]\n",
            " [ 6  7]\n",
            " [10 11]]\n"
          ]
        }
      ]
    },
    {
      "cell_type": "code",
      "source": [
        "c = np.concatenate((x, y), axis=1)\n",
        "print(c.shape)\n",
        "print(c)"
      ],
      "metadata": {
        "colab": {
          "base_uri": "https://localhost:8080/"
        },
        "id": "qokg_VBNw0ih",
        "outputId": "89f74c7a-efdf-4ce2-bfbc-2867ac010fef"
      },
      "execution_count": null,
      "outputs": [
        {
          "output_type": "stream",
          "name": "stdout",
          "text": [
            "(3, 4)\n",
            "[[ 0  1  2  3]\n",
            " [ 4  5  6  7]\n",
            " [ 8  9 10 11]]\n"
          ]
        }
      ]
    },
    {
      "cell_type": "markdown",
      "source": [
        "#### newaxis"
      ],
      "metadata": {
        "id": "KmtT5yk51EHu"
      }
    },
    {
      "cell_type": "code",
      "source": [
        "print(a)\n",
        "print(a.shape)"
      ],
      "metadata": {
        "colab": {
          "base_uri": "https://localhost:8080/"
        },
        "id": "zB3kZodN1GmE",
        "outputId": "17c61c57-9bd2-4d87-d4a8-ef15dd2b1cdc"
      },
      "execution_count": null,
      "outputs": [
        {
          "output_type": "stream",
          "name": "stdout",
          "text": [
            "[[ 0  1  2  3]\n",
            " [ 4  5  6  7]\n",
            " [ 8  9 10 11]]\n",
            "(3, 4)\n"
          ]
        }
      ]
    },
    {
      "cell_type": "code",
      "source": [
        "# 공간(층, 면) 추가\n",
        "b = a[np.newaxis, :, :]\n",
        "print(b.shape)\n",
        "print(b)\n"
      ],
      "metadata": {
        "colab": {
          "base_uri": "https://localhost:8080/"
        },
        "id": "5Jhh__CC1LxP",
        "outputId": "658ed176-db79-4ddc-ed05-b740252bd80c"
      },
      "execution_count": null,
      "outputs": [
        {
          "output_type": "stream",
          "name": "stdout",
          "text": [
            "(1, 3, 4)\n",
            "[[[ 0  1  2  3]\n",
            "  [ 4  5  6  7]\n",
            "  [ 8  9 10 11]]]\n"
          ]
        }
      ]
    },
    {
      "cell_type": "code",
      "source": [
        "# 행 추가\n",
        "b = a[ :,np.newaxis, :]\n",
        "print(b.shape) # (3,1,4)\n",
        "print(b)"
      ],
      "metadata": {
        "colab": {
          "base_uri": "https://localhost:8080/"
        },
        "id": "hZab2D5p1o12",
        "outputId": "f1074f8e-75fc-46c1-b96b-07c64778f11c"
      },
      "execution_count": null,
      "outputs": [
        {
          "output_type": "stream",
          "name": "stdout",
          "text": [
            "(3, 1, 4)\n",
            "[[[ 0  1  2  3]]\n",
            "\n",
            " [[ 4  5  6  7]]\n",
            "\n",
            " [[ 8  9 10 11]]]\n"
          ]
        }
      ]
    },
    {
      "cell_type": "code",
      "source": [
        "# 열 추가\n",
        "b = a[ :, :, np.newaxis ]\n",
        "print(b.shape) # (3, 4, 1)\n",
        "print(b)"
      ],
      "metadata": {
        "colab": {
          "base_uri": "https://localhost:8080/"
        },
        "id": "Ezn40zx92Bj1",
        "outputId": "bd0a25cd-4a79-42c6-88f8-9d04eae3483f"
      },
      "execution_count": null,
      "outputs": [
        {
          "output_type": "stream",
          "name": "stdout",
          "text": [
            "(3, 4, 1)\n",
            "[[[ 0]\n",
            "  [ 1]\n",
            "  [ 2]\n",
            "  [ 3]]\n",
            "\n",
            " [[ 4]\n",
            "  [ 5]\n",
            "  [ 6]\n",
            "  [ 7]]\n",
            "\n",
            " [[ 8]\n",
            "  [ 9]\n",
            "  [10]\n",
            "  [11]]]\n"
          ]
        }
      ]
    },
    {
      "cell_type": "markdown",
      "source": [
        "np.newaxis 대신에 None을 써도 된다.  \n",
        "None은 직관적이지 않고 헤갈려서  np.newaxis를 만들었다."
      ],
      "metadata": {
        "id": "nLKJsrgW2-GI"
      }
    },
    {
      "cell_type": "code",
      "source": [
        "np.newaxis is None"
      ],
      "metadata": {
        "colab": {
          "base_uri": "https://localhost:8080/"
        },
        "id": "M_CzWsQQ2xyA",
        "outputId": "103c8102-733d-4de5-ae1d-4600517e68c7"
      },
      "execution_count": null,
      "outputs": [
        {
          "output_type": "execute_result",
          "data": {
            "text/plain": [
              "True"
            ]
          },
          "metadata": {},
          "execution_count": 68
        }
      ]
    },
    {
      "cell_type": "code",
      "source": [
        "# 열 추가\n",
        "b = a[ :, :, None ]\n",
        "print(b.shape) # (3, 4, 1)\n",
        "print(b)"
      ],
      "metadata": {
        "colab": {
          "base_uri": "https://localhost:8080/"
        },
        "id": "pxE3Nhzu20Do",
        "outputId": "302ed3ff-b284-4625-a94c-dd383dd24ada"
      },
      "execution_count": null,
      "outputs": [
        {
          "output_type": "stream",
          "name": "stdout",
          "text": [
            "(3, 4, 1)\n",
            "[[[ 0]\n",
            "  [ 1]\n",
            "  [ 2]\n",
            "  [ 3]]\n",
            "\n",
            " [[ 4]\n",
            "  [ 5]\n",
            "  [ 6]\n",
            "  [ 7]]\n",
            "\n",
            " [[ 8]\n",
            "  [ 9]\n",
            "  [10]\n",
            "  [11]]]\n"
          ]
        }
      ]
    },
    {
      "cell_type": "markdown",
      "source": [
        "### array 한 줄로 펴기"
      ],
      "metadata": {
        "id": "D1zd0Ko63Saf"
      }
    },
    {
      "cell_type": "markdown",
      "source": [
        "flatten\n",
        "- 2차원 이상을 1차원으로 만들어줌"
      ],
      "metadata": {
        "id": "yakQ7T3M3WFo"
      }
    },
    {
      "cell_type": "code",
      "source": [
        "a = np.arange(12).reshape(3, 4)\n",
        "print(a.shape)\n",
        "print(a)"
      ],
      "metadata": {
        "colab": {
          "base_uri": "https://localhost:8080/"
        },
        "id": "22C5SA5h3VMg",
        "outputId": "d8c7bbdf-d823-49b0-946d-cc9df96349f8"
      },
      "execution_count": null,
      "outputs": [
        {
          "output_type": "stream",
          "name": "stdout",
          "text": [
            "(3, 4)\n",
            "[[ 0  1  2  3]\n",
            " [ 4  5  6  7]\n",
            " [ 8  9 10 11]]\n"
          ]
        }
      ]
    },
    {
      "cell_type": "code",
      "source": [
        "b = a.flatten()\n",
        "print(b.shape)\n",
        "print(b)"
      ],
      "metadata": {
        "colab": {
          "base_uri": "https://localhost:8080/"
        },
        "id": "6xUDfY8B3e1V",
        "outputId": "b59ffb92-7005-4e06-e845-c61a9a8b3328"
      },
      "execution_count": null,
      "outputs": [
        {
          "output_type": "stream",
          "name": "stdout",
          "text": [
            "(12,)\n",
            "[ 0  1  2  3  4  5  6  7  8  9 10 11]\n"
          ]
        }
      ]
    },
    {
      "cell_type": "code",
      "source": [
        "a = np.arange(12).reshape(2,3, 2)\n",
        "print(a.shape)\n",
        "print(a)"
      ],
      "metadata": {
        "colab": {
          "base_uri": "https://localhost:8080/"
        },
        "id": "DsiJXvUO3rH9",
        "outputId": "c6d6d0f1-33e9-46b2-98e7-1bb85f120d31"
      },
      "execution_count": null,
      "outputs": [
        {
          "output_type": "stream",
          "name": "stdout",
          "text": [
            "(2, 3, 2)\n",
            "[[[ 0  1]\n",
            "  [ 2  3]\n",
            "  [ 4  5]]\n",
            "\n",
            " [[ 6  7]\n",
            "  [ 8  9]\n",
            "  [10 11]]]\n"
          ]
        }
      ]
    },
    {
      "cell_type": "code",
      "source": [
        "b = a.flatten()\n",
        "print(b.shape)\n",
        "print(b)"
      ],
      "metadata": {
        "colab": {
          "base_uri": "https://localhost:8080/"
        },
        "id": "IOc6eBev3x21",
        "outputId": "1a70c3ad-769b-4555-fb27-23d54af56c2a"
      },
      "execution_count": null,
      "outputs": [
        {
          "output_type": "stream",
          "name": "stdout",
          "text": [
            "(12,)\n",
            "[ 0  1  2  3  4  5  6  7  8  9 10 11]\n"
          ]
        }
      ]
    },
    {
      "cell_type": "markdown",
      "source": [
        "### 서로 차원 교환"
      ],
      "metadata": {
        "id": "feSDFcwr4Mgf"
      }
    },
    {
      "cell_type": "markdown",
      "source": [
        "swapaxes"
      ],
      "metadata": {
        "id": "SYAupT3f4PTo"
      }
    },
    {
      "cell_type": "code",
      "source": [
        "a = np.array([[1],[2]])\n",
        "print(a.shape)\n",
        "print(a)"
      ],
      "metadata": {
        "colab": {
          "base_uri": "https://localhost:8080/"
        },
        "id": "dZIr3u0J4Ox1",
        "outputId": "7eeafc62-61fe-4644-df3d-af5080386b3a"
      },
      "execution_count": null,
      "outputs": [
        {
          "output_type": "stream",
          "name": "stdout",
          "text": [
            "(2, 1)\n",
            "[[1]\n",
            " [2]]\n"
          ]
        }
      ]
    },
    {
      "cell_type": "code",
      "source": [
        "b = np.swapaxes(a, 1, 0) # 1:열, 0:행 의미함으로 즉 행과 열의 자리를 바꾼다.\n",
        "print(b.shape)\n",
        "print(b)"
      ],
      "metadata": {
        "colab": {
          "base_uri": "https://localhost:8080/"
        },
        "id": "wSAcwEX-4XUb",
        "outputId": "6e4b8f42-a968-4482-ba21-d5b0a03241b1"
      },
      "execution_count": null,
      "outputs": [
        {
          "output_type": "stream",
          "name": "stdout",
          "text": [
            "(1, 2)\n",
            "[[1 2]]\n"
          ]
        }
      ]
    },
    {
      "cell_type": "code",
      "source": [
        "a = np.arange(12).reshape(3,4)\n",
        "print(a)"
      ],
      "metadata": {
        "colab": {
          "base_uri": "https://localhost:8080/"
        },
        "id": "3YDIvT4663GG",
        "outputId": "09b65947-949b-45e3-f852-9733eabb8bed"
      },
      "execution_count": null,
      "outputs": [
        {
          "output_type": "stream",
          "name": "stdout",
          "text": [
            "[[ 0  1  2  3]\n",
            " [ 4  5  6  7]\n",
            " [ 8  9 10 11]]\n"
          ]
        }
      ]
    },
    {
      "cell_type": "code",
      "source": [
        "a.T"
      ],
      "metadata": {
        "colab": {
          "base_uri": "https://localhost:8080/"
        },
        "id": "cb7-VY047AYE",
        "outputId": "6732d6f1-fbcb-45ab-fb31-d80424a320fe"
      },
      "execution_count": null,
      "outputs": [
        {
          "output_type": "execute_result",
          "data": {
            "text/plain": [
              "array([[ 0,  4,  8],\n",
              "       [ 1,  5,  9],\n",
              "       [ 2,  6, 10],\n",
              "       [ 3,  7, 11]])"
            ]
          },
          "metadata": {},
          "execution_count": 86
        }
      ]
    },
    {
      "cell_type": "code",
      "source": [
        "np.swapaxes(a, 1, 0)"
      ],
      "metadata": {
        "colab": {
          "base_uri": "https://localhost:8080/"
        },
        "id": "BzgZSBEz7B5s",
        "outputId": "df083809-54a7-476f-e7cb-72d1a04f3d35"
      },
      "execution_count": null,
      "outputs": [
        {
          "output_type": "execute_result",
          "data": {
            "text/plain": [
              "array([[ 0,  4,  8],\n",
              "       [ 1,  5,  9],\n",
              "       [ 2,  6, 10],\n",
              "       [ 3,  7, 11]])"
            ]
          },
          "metadata": {},
          "execution_count": 89
        }
      ]
    },
    {
      "cell_type": "code",
      "source": [],
      "metadata": {
        "id": "eYyDeiEU7EDM"
      },
      "execution_count": null,
      "outputs": []
    }
  ]
}