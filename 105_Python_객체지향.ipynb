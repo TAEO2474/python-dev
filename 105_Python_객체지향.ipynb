{
  "nbformat": 4,
  "nbformat_minor": 0,
  "metadata": {
    "colab": {
      "provenance": [],
      "authorship_tag": "ABX9TyPN0ULCc7efngLZc/ha8yNp",
      "include_colab_link": true
    },
    "kernelspec": {
      "name": "python3",
      "display_name": "Python 3"
    },
    "language_info": {
      "name": "python"
    }
  },
  "cells": [
    {
      "cell_type": "markdown",
      "metadata": {
        "id": "view-in-github",
        "colab_type": "text"
      },
      "source": [
        "<a href=\"https://colab.research.google.com/github/TAEO2474/python-dev/blob/main/105_Python_%EA%B0%9D%EC%B2%B4%EC%A7%80%ED%96%A5.ipynb\" target=\"_parent\"><img src=\"https://colab.research.google.com/assets/colab-badge.svg\" alt=\"Open In Colab\"/></a>"
      ]
    },
    {
      "cell_type": "markdown",
      "source": [
        "\n",
        "### callable\n",
        "- 이름 뒤에 괄호( )를 붙이는 것을 call(호출)이라고 한다.\n",
        "- 이름 뒤에 괄호( )를 붙일 수 있는 것을 callable이라고 한다.\n",
        "- python에서 callable인 것이 3가지 유형  \n",
        " 1 function  \n",
        " 2 class(__init__가 정의되었을 경우)  \n",
        " 3 object(__call__가 정의되었을 경우)  \n",
        "\n",
        "\n",
        "객체지향 프로그래밍  \n",
        " - is : 메모리 주소\n",
        " - issubclass(child, parent) : 상속여부\n",
        " - isinstance(a, int):int클래스의 a가 인스턴스 여부\n"
      ],
      "metadata": {
        "id": "6oYU9RvzEL4V"
      }
    },
    {
      "cell_type": "code",
      "execution_count": 1,
      "metadata": {
        "id": "qBLd_7xyEHu5"
      },
      "outputs": [],
      "source": [
        "a = 1"
      ]
    },
    {
      "cell_type": "code",
      "source": [
        "type(a)"
      ],
      "metadata": {
        "colab": {
          "base_uri": "https://localhost:8080/"
        },
        "id": "T2RTIuaEErD-",
        "outputId": "92d565c8-adb8-4b31-9997-b4c1a6742f8f"
      },
      "execution_count": 2,
      "outputs": [
        {
          "output_type": "execute_result",
          "data": {
            "text/plain": [
              "int"
            ]
          },
          "metadata": {},
          "execution_count": 2
        }
      ]
    },
    {
      "cell_type": "code",
      "source": [
        "# 정수값 1을 int의 인스턴스(객체) 방식으로  만들 수 있다\n",
        "a = int('1')"
      ],
      "metadata": {
        "id": "jwvoNXwfEuYs"
      },
      "execution_count": 6,
      "outputs": []
    },
    {
      "cell_type": "code",
      "source": [
        "# a는 int라는 내장 클래스의 인스턴스이다.\n",
        "isinstance(a,int)"
      ],
      "metadata": {
        "colab": {
          "base_uri": "https://localhost:8080/"
        },
        "id": "I6oc_khHEx8E",
        "outputId": "99c69cd4-be2d-404f-aa28-73823c2dedc5"
      },
      "execution_count": 7,
      "outputs": [
        {
          "output_type": "execute_result",
          "data": {
            "text/plain": [
              "True"
            ]
          },
          "metadata": {},
          "execution_count": 7
        }
      ]
    },
    {
      "cell_type": "code",
      "source": [
        "isinstance(a,str)"
      ],
      "metadata": {
        "colab": {
          "base_uri": "https://localhost:8080/"
        },
        "id": "1Dn-4MZxFUw0",
        "outputId": "6fa9a857-823a-4520-a1d3-ea9240d7306a"
      },
      "execution_count": 8,
      "outputs": [
        {
          "output_type": "execute_result",
          "data": {
            "text/plain": [
              "False"
            ]
          },
          "metadata": {},
          "execution_count": 8
        }
      ]
    },
    {
      "cell_type": "code",
      "source": [
        "class A:\n",
        "  x = 1; #클래스 변수\n",
        "  def prn(self): #메소드\n",
        "    a = 1"
      ],
      "metadata": {
        "id": "GNQRQW7hFqPd"
      },
      "execution_count": 13,
      "outputs": []
    },
    {
      "cell_type": "code",
      "source": [
        "\n",
        "callable(A)"
      ],
      "metadata": {
        "colab": {
          "base_uri": "https://localhost:8080/"
        },
        "id": "4PayLrI1GFI0",
        "outputId": "27fb8901-8cf7-47fb-f6b7-a929c0110810"
      },
      "execution_count": 14,
      "outputs": [
        {
          "output_type": "execute_result",
          "data": {
            "text/plain": [
              "True"
            ]
          },
          "metadata": {},
          "execution_count": 14
        }
      ]
    },
    {
      "cell_type": "code",
      "source": [
        "# 사용할때 괄호를 붙일 수 있다. -> callble\n",
        "A()"
      ],
      "metadata": {
        "colab": {
          "base_uri": "https://localhost:8080/"
        },
        "id": "MnPOUxjpGcI0",
        "outputId": "f0d1fcd7-5131-4460-9b31-464824e6647c"
      },
      "execution_count": 15,
      "outputs": [
        {
          "output_type": "execute_result",
          "data": {
            "text/plain": [
              "<__main__.A at 0x7e562436f4d0>"
            ]
          },
          "metadata": {},
          "execution_count": 15
        }
      ]
    },
    {
      "cell_type": "code",
      "source": [
        "print(dir(A))"
      ],
      "metadata": {
        "colab": {
          "base_uri": "https://localhost:8080/"
        },
        "id": "bHjLSgN5Gevc",
        "outputId": "2ff5ed58-0af7-4001-9541-7b10b0b44350"
      },
      "execution_count": 16,
      "outputs": [
        {
          "output_type": "stream",
          "name": "stdout",
          "text": [
            "['__class__', '__delattr__', '__dict__', '__dir__', '__doc__', '__eq__', '__format__', '__ge__', '__getattribute__', '__getstate__', '__gt__', '__hash__', '__init__', '__init_subclass__', '__le__', '__lt__', '__module__', '__ne__', '__new__', '__reduce__', '__reduce_ex__', '__repr__', '__setattr__', '__sizeof__', '__str__', '__subclasshook__', '__weakref__', 'prn', 'x']\n"
          ]
        }
      ]
    },
    {
      "cell_type": "code",
      "source": [
        "k =   A()# k는 A를 인스턴스에서 나온 값이다."
      ],
      "metadata": {
        "id": "BQxrdlOGGubU"
      },
      "execution_count": 17,
      "outputs": []
    },
    {
      "cell_type": "markdown",
      "source": [
        "함수와 클래스 차이 :\n",
        "- 함수\n",
        "  - 정의 + 호출\n",
        "  - def사용\n",
        "  - 외부에서 내부 접근 불가\n",
        "\n",
        "\n",
        "- 클래스\n",
        "  - 정의 + 인스턴스\n",
        "  - class사용\n",
        "  - 외부에서 내부 접근 가능\n",
        "\n",
        "\n",
        "\n",
        "\n",
        "\n"
      ],
      "metadata": {
        "id": "hThVFovKK-Jc"
      }
    },
    {
      "cell_type": "code",
      "source": [
        "k.prn() # 객체.메서드()"
      ],
      "metadata": {
        "id": "M7IY5Y2xLBI0"
      },
      "execution_count": 18,
      "outputs": []
    },
    {
      "cell_type": "code",
      "source": [
        "A.prn(k)  # 클래스.메소드(객체)"
      ],
      "metadata": {
        "id": "BXUZbyCZLNNr"
      },
      "execution_count": 19,
      "outputs": []
    },
    {
      "cell_type": "code",
      "source": [
        "m = A()"
      ],
      "metadata": {
        "id": "-Lsm4K-BLTb0"
      },
      "execution_count": 20,
      "outputs": []
    },
    {
      "cell_type": "code",
      "source": [
        "m.prn()"
      ],
      "metadata": {
        "id": "d_4jNsIlLaV0"
      },
      "execution_count": 21,
      "outputs": []
    },
    {
      "cell_type": "code",
      "source": [
        "A.prn(m)\n"
      ],
      "metadata": {
        "id": "PX1bu4_tLcUM"
      },
      "execution_count": 22,
      "outputs": []
    },
    {
      "cell_type": "markdown",
      "source": [
        "클래스는 내부에 있는 값을 접근할 수 있다. 2가지 방법으로 접근 가능하다.\n",
        "- 클래스에서 접근\n",
        "- 인스턴스에서 접근\n",
        "\n",
        "\n",
        "\n",
        "\n"
      ],
      "metadata": {
        "id": "Z8anDQ6uLjy8"
      }
    },
    {
      "cell_type": "code",
      "source": [
        "class A:\n",
        "  x = 1  # 클래스 변수"
      ],
      "metadata": {
        "id": "Y3ybrCeSLkUz"
      },
      "execution_count": 40,
      "outputs": []
    },
    {
      "cell_type": "code",
      "source": [
        "# 클래스에서 접근\n",
        "A.x"
      ],
      "metadata": {
        "colab": {
          "base_uri": "https://localhost:8080/"
        },
        "id": "oxY3FJb0MBjk",
        "outputId": "580e8391-76bd-4005-b164-0ab7d234b03e"
      },
      "execution_count": 41,
      "outputs": [
        {
          "output_type": "execute_result",
          "data": {
            "text/plain": [
              "1"
            ]
          },
          "metadata": {},
          "execution_count": 41
        }
      ]
    },
    {
      "cell_type": "code",
      "source": [
        "# 인스턴스에서 접근\n",
        "a = A()  # 인스턴스(객체) 생성\n",
        "a.x      # 인스턴스(객체)에서 접근"
      ],
      "metadata": {
        "colab": {
          "base_uri": "https://localhost:8080/"
        },
        "id": "mvQk1R6hMD-T",
        "outputId": "35c6ce72-63b6-48c0-eb57-200f9bb3c1e1"
      },
      "execution_count": 42,
      "outputs": [
        {
          "output_type": "execute_result",
          "data": {
            "text/plain": [
              "1"
            ]
          },
          "metadata": {},
          "execution_count": 42
        }
      ]
    },
    {
      "cell_type": "code",
      "source": [
        "b = A()\n",
        "b.x"
      ],
      "metadata": {
        "colab": {
          "base_uri": "https://localhost:8080/"
        },
        "id": "lzyZsrasMSI0",
        "outputId": "52235a57-5bb1-4427-dbc3-51ca60503f86"
      },
      "execution_count": 43,
      "outputs": [
        {
          "output_type": "execute_result",
          "data": {
            "text/plain": [
              "1"
            ]
          },
          "metadata": {},
          "execution_count": 43
        }
      ]
    },
    {
      "cell_type": "code",
      "source": [
        "\n",
        "A.x"
      ],
      "metadata": {
        "colab": {
          "base_uri": "https://localhost:8080/"
        },
        "id": "wI7Qg5MXMtT8",
        "outputId": "d48ade8a-caf8-414c-d7a1-7d8d3947c6b1"
      },
      "execution_count": 44,
      "outputs": [
        {
          "output_type": "execute_result",
          "data": {
            "text/plain": [
              "1"
            ]
          },
          "metadata": {},
          "execution_count": 44
        }
      ]
    },
    {
      "cell_type": "code",
      "source": [
        "A.x=10\n"
      ],
      "metadata": {
        "id": "hbTkf4JzNGjz"
      },
      "execution_count": 45,
      "outputs": []
    },
    {
      "cell_type": "code",
      "source": [
        "a.x"
      ],
      "metadata": {
        "colab": {
          "base_uri": "https://localhost:8080/"
        },
        "id": "it9CCcL1NIhL",
        "outputId": "5a0f37ec-8273-407e-94cc-208d33d09fce"
      },
      "execution_count": 46,
      "outputs": [
        {
          "output_type": "execute_result",
          "data": {
            "text/plain": [
              "10"
            ]
          },
          "metadata": {},
          "execution_count": 46
        }
      ]
    },
    {
      "cell_type": "code",
      "source": [
        "b.x"
      ],
      "metadata": {
        "colab": {
          "base_uri": "https://localhost:8080/"
        },
        "id": "kuiwQXp_NK-7",
        "outputId": "ff27fa02-7d2c-4438-fe79-ae354919c440"
      },
      "execution_count": 47,
      "outputs": [
        {
          "output_type": "execute_result",
          "data": {
            "text/plain": [
              "10"
            ]
          },
          "metadata": {},
          "execution_count": 47
        }
      ]
    },
    {
      "cell_type": "code",
      "source": [
        "a.x=20"
      ],
      "metadata": {
        "id": "4uf03oGeNiJs"
      },
      "execution_count": 48,
      "outputs": []
    },
    {
      "cell_type": "code",
      "source": [
        "a.x"
      ],
      "metadata": {
        "colab": {
          "base_uri": "https://localhost:8080/"
        },
        "id": "gnNbKRa9O2YT",
        "outputId": "8b2980dd-312f-46af-dfd7-78100859b9c9"
      },
      "execution_count": 49,
      "outputs": [
        {
          "output_type": "execute_result",
          "data": {
            "text/plain": [
              "20"
            ]
          },
          "metadata": {},
          "execution_count": 49
        }
      ]
    },
    {
      "cell_type": "code",
      "source": [
        "b.x"
      ],
      "metadata": {
        "colab": {
          "base_uri": "https://localhost:8080/"
        },
        "id": "9dKl9odGO3ij",
        "outputId": "c0c6c617-a995-4a92-9d94-d635a3aac7ba"
      },
      "execution_count": 50,
      "outputs": [
        {
          "output_type": "execute_result",
          "data": {
            "text/plain": [
              "10"
            ]
          },
          "metadata": {},
          "execution_count": 50
        }
      ]
    },
    {
      "cell_type": "code",
      "source": [
        "A.x"
      ],
      "metadata": {
        "colab": {
          "base_uri": "https://localhost:8080/"
        },
        "id": "VYezsNvNO44j",
        "outputId": "54b61713-af46-4104-9384-d3a68972d020"
      },
      "execution_count": 51,
      "outputs": [
        {
          "output_type": "execute_result",
          "data": {
            "text/plain": [
              "10"
            ]
          },
          "metadata": {},
          "execution_count": 51
        }
      ]
    },
    {
      "cell_type": "code",
      "source": [
        "A.x=30"
      ],
      "metadata": {
        "id": "3JIDc4hyO6kj"
      },
      "execution_count": 52,
      "outputs": []
    },
    {
      "cell_type": "code",
      "source": [
        "A.x"
      ],
      "metadata": {
        "colab": {
          "base_uri": "https://localhost:8080/"
        },
        "id": "Dpv6VIeVO9Nr",
        "outputId": "6ddafc0f-3a10-4b0c-93be-824fa642d800"
      },
      "execution_count": 53,
      "outputs": [
        {
          "output_type": "execute_result",
          "data": {
            "text/plain": [
              "30"
            ]
          },
          "metadata": {},
          "execution_count": 53
        }
      ]
    },
    {
      "cell_type": "code",
      "source": [
        "a.x"
      ],
      "metadata": {
        "colab": {
          "base_uri": "https://localhost:8080/"
        },
        "id": "8N6UA5Q0O-Nr",
        "outputId": "20c71e45-a073-4563-a646-5b52b3835c5b"
      },
      "execution_count": 54,
      "outputs": [
        {
          "output_type": "execute_result",
          "data": {
            "text/plain": [
              "20"
            ]
          },
          "metadata": {},
          "execution_count": 54
        }
      ]
    },
    {
      "cell_type": "code",
      "source": [
        "b.x"
      ],
      "metadata": {
        "colab": {
          "base_uri": "https://localhost:8080/"
        },
        "id": "AJKv-J0CPANb",
        "outputId": "5d0db4c7-e26c-4412-fd20-95103cd6cb45"
      },
      "execution_count": 56,
      "outputs": [
        {
          "output_type": "execute_result",
          "data": {
            "text/plain": [
              "30"
            ]
          },
          "metadata": {},
          "execution_count": 56
        }
      ]
    },
    {
      "cell_type": "code",
      "source": [
        "class Employee:\n",
        "    x = 1  # 클래스 변수\n",
        "\n",
        "    def __init__(self): #__init__()메서드를 사용 -> 생성자\n",
        "          #pass\n",
        "        print(\" Employee 클래스의 객체를 만들면서 __init__() 함수가 자동 호출됩니다. \")\n",
        "\n",
        "    def display(self, y):  # 메서드\n",
        "        self.y = y         # 인스턴스 변수 생성\n",
        "        print(y)\n"
      ],
      "metadata": {
        "id": "Sfw1ivBJPDir"
      },
      "execution_count": 96,
      "outputs": []
    },
    {
      "cell_type": "code",
      "source": [
        "Employee.x"
      ],
      "metadata": {
        "colab": {
          "base_uri": "https://localhost:8080/"
        },
        "id": "-9qDENSHPJlV",
        "outputId": "0f08c85e-a711-4367-abf6-45b0ea57764d"
      },
      "execution_count": 92,
      "outputs": [
        {
          "output_type": "execute_result",
          "data": {
            "text/plain": [
              "1"
            ]
          },
          "metadata": {},
          "execution_count": 92
        }
      ]
    },
    {
      "cell_type": "code",
      "source": [
        "\n",
        "ps = Employee()  # 인스턴스(객체) 생성 -> Employee 클래스의 객체를 만들면서 __init__() 함수가 자동 호출됩니다."
      ],
      "metadata": {
        "colab": {
          "base_uri": "https://localhost:8080/"
        },
        "id": "j5gTPqOgPgBb",
        "outputId": "f45a045a-0bba-4216-dbee-3e8be8b1f9f5"
      },
      "execution_count": 95,
      "outputs": [
        {
          "output_type": "stream",
          "name": "stdout",
          "text": [
            " Employee 클래스의 객체를 만들면서 __init__() 함수가 자동 호출됩니다. \n"
          ]
        }
      ]
    },
    {
      "cell_type": "code",
      "source": [
        "# 인스턴스 변수 y는 현재 접근할 수 없다.\n",
        "ps.y"
      ],
      "metadata": {
        "colab": {
          "base_uri": "https://localhost:8080/",
          "height": 164
        },
        "id": "lsMN3W4PPi5D",
        "outputId": "8095c9ef-44f5-4b01-e681-98c49cdf59fb"
      },
      "execution_count": 65,
      "outputs": [
        {
          "output_type": "error",
          "ename": "AttributeError",
          "evalue": "'Employee' object has no attribute 'y'",
          "traceback": [
            "\u001b[0;31m---------------------------------------------------------------------------\u001b[0m",
            "\u001b[0;31mAttributeError\u001b[0m                            Traceback (most recent call last)",
            "\u001b[0;32m/tmp/ipython-input-65-3083232566.py\u001b[0m in \u001b[0;36m<cell line: 0>\u001b[0;34m()\u001b[0m\n\u001b[1;32m      1\u001b[0m \u001b[0;31m# 인스턴스 변수 y는 현재 접근할 수 없다.\u001b[0m\u001b[0;34m\u001b[0m\u001b[0;34m\u001b[0m\u001b[0m\n\u001b[0;32m----> 2\u001b[0;31m \u001b[0mps\u001b[0m\u001b[0;34m.\u001b[0m\u001b[0my\u001b[0m\u001b[0;34m\u001b[0m\u001b[0;34m\u001b[0m\u001b[0m\n\u001b[0m",
            "\u001b[0;31mAttributeError\u001b[0m: 'Employee' object has no attribute 'y'"
          ]
        }
      ]
    },
    {
      "cell_type": "code",
      "source": [
        "# 메소드를 사용할때는 첫번째 인자(self)는 생략한다.\n",
        "# y매개변수가 받을 값만 넘겨주면 된다.\n",
        "# 메소드를 호출하게 되면 이때 인스변수 y가 생성된다.\n",
        "# 여기에서는 이상없이 y변수를 호출할 수 있다.\n",
        "\n",
        "ps.display(3)\n"
      ],
      "metadata": {
        "colab": {
          "base_uri": "https://localhost:8080/"
        },
        "id": "WC8o0jJSQU37",
        "outputId": "1987952b-3fd9-4740-9647-f8258d496472"
      },
      "execution_count": 68,
      "outputs": [
        {
          "output_type": "stream",
          "name": "stdout",
          "text": [
            "3\n"
          ]
        }
      ]
    },
    {
      "cell_type": "code",
      "source": [
        "# 여기에서는 이상없이 y변수를 호출할 수 있다.\n",
        "ps.y"
      ],
      "metadata": {
        "colab": {
          "base_uri": "https://localhost:8080/"
        },
        "id": "z_RxW_DQQbir",
        "outputId": "7ae4c8c0-db59-438f-b52b-04c1f47e191d"
      },
      "execution_count": 69,
      "outputs": [
        {
          "output_type": "execute_result",
          "data": {
            "text/plain": [
              "3"
            ]
          },
          "metadata": {},
          "execution_count": 69
        }
      ]
    },
    {
      "cell_type": "code",
      "source": [
        "pe = Employee()"
      ],
      "metadata": {
        "colab": {
          "base_uri": "https://localhost:8080/"
        },
        "id": "W2qGKGRxQyWM",
        "outputId": "7d47fb93-890e-436b-aff1-e6e2705da87b"
      },
      "execution_count": 70,
      "outputs": [
        {
          "output_type": "stream",
          "name": "stdout",
          "text": [
            "__init__\n"
          ]
        }
      ]
    },
    {
      "cell_type": "code",
      "source": [
        "pe.x"
      ],
      "metadata": {
        "colab": {
          "base_uri": "https://localhost:8080/"
        },
        "id": "v8PO6_WPQ7KT",
        "outputId": "230c9577-90eb-47c9-8ddb-4626b591cdf4"
      },
      "execution_count": 71,
      "outputs": [
        {
          "output_type": "execute_result",
          "data": {
            "text/plain": [
              "1"
            ]
          },
          "metadata": {},
          "execution_count": 71
        }
      ]
    },
    {
      "cell_type": "code",
      "source": [
        "pe.x =10"
      ],
      "metadata": {
        "id": "zwdfzUh3Q8fz"
      },
      "execution_count": 72,
      "outputs": []
    },
    {
      "cell_type": "code",
      "source": [
        "pe.x"
      ],
      "metadata": {
        "colab": {
          "base_uri": "https://localhost:8080/"
        },
        "id": "I809RXtnQ96T",
        "outputId": "2f815bc7-8679-4589-e8cf-304d97dd52fd"
      },
      "execution_count": 73,
      "outputs": [
        {
          "output_type": "execute_result",
          "data": {
            "text/plain": [
              "10"
            ]
          },
          "metadata": {},
          "execution_count": 73
        }
      ]
    },
    {
      "cell_type": "code",
      "source": [
        "ps.x"
      ],
      "metadata": {
        "colab": {
          "base_uri": "https://localhost:8080/"
        },
        "id": "URkKZlbVQ_KD",
        "outputId": "a72cd290-6de2-440f-9cd2-358fa3c51038"
      },
      "execution_count": 74,
      "outputs": [
        {
          "output_type": "execute_result",
          "data": {
            "text/plain": [
              "1"
            ]
          },
          "metadata": {},
          "execution_count": 74
        }
      ]
    },
    {
      "cell_type": "code",
      "source": [
        "pe.x =10  # pe인스턴스에 x멤버변수가 생성됨"
      ],
      "metadata": {
        "id": "TJU8hSxzRAiz"
      },
      "execution_count": 75,
      "outputs": []
    },
    {
      "cell_type": "code",
      "source": [
        "pe.x      # pe인스턴스에 x멤버변수를 호출함"
      ],
      "metadata": {
        "colab": {
          "base_uri": "https://localhost:8080/"
        },
        "id": "9km8eISnRPS0",
        "outputId": "c2536c19-5b42-4681-db59-8e4ed19fed4e"
      },
      "execution_count": 76,
      "outputs": [
        {
          "output_type": "execute_result",
          "data": {
            "text/plain": [
              "10"
            ]
          },
          "metadata": {},
          "execution_count": 76
        }
      ]
    },
    {
      "cell_type": "code",
      "source": [
        "ps.x     # ps인스턴스 x클래스변수를 호출함"
      ],
      "metadata": {
        "colab": {
          "base_uri": "https://localhost:8080/"
        },
        "id": "wzN41RZ9RQL7",
        "outputId": "0939ad1c-2162-4109-c9e8-19bd95153698"
      },
      "execution_count": 77,
      "outputs": [
        {
          "output_type": "execute_result",
          "data": {
            "text/plain": [
              "1"
            ]
          },
          "metadata": {},
          "execution_count": 77
        }
      ]
    },
    {
      "cell_type": "markdown",
      "source": [
        "인스턴스 메소드에서 첫번째 인자는 무조건 생략할 수 없다.  \n",
        "self는 인스턴스 자기 자신을 의미한다.    \n",
        "class에서 인스턴스 메소드를 실행할 때 self자리에 인스턴스를 넣을 수 있다.  \n",
        "그러므로 self는 생략한다고 하면 안된다.\n",
        "\n",
        "\n",
        "\n",
        "\n"
      ],
      "metadata": {
        "id": "J8k_uXoPRe3M"
      }
    },
    {
      "cell_type": "code",
      "source": [
        "class FourCal:\n",
        "\n",
        "  def __init__(self):\n",
        "    print('init')\n",
        "\n",
        "  def add(self, a, b):\n",
        "    return a+b\n",
        "\n",
        "  def sub(self,a, b):\n",
        "    return a-b\n",
        "\n",
        "  def mul(self, a, b):\n",
        "    return a*b\n",
        "  def div(self, a, b):\n",
        "    return a//b"
      ],
      "metadata": {
        "id": "JCNN9CL-RffL"
      },
      "execution_count": 79,
      "outputs": []
    },
    {
      "cell_type": "code",
      "source": [
        "x = FourCal();"
      ],
      "metadata": {
        "colab": {
          "base_uri": "https://localhost:8080/"
        },
        "id": "MmVqA2PNRkn7",
        "outputId": "b42f6987-1a50-4993-a738-dc0a9d5359ad"
      },
      "execution_count": 80,
      "outputs": [
        {
          "output_type": "stream",
          "name": "stdout",
          "text": [
            "init\n"
          ]
        }
      ]
    },
    {
      "cell_type": "code",
      "source": [
        "\n",
        "\n",
        "print(x.add(4,2))\n",
        "print(x.sub(4,2))\n",
        "print(x.mul(4,2))\n",
        "print(x.div(4,2))\n",
        "\n",
        "\n",
        "\n",
        "\n"
      ],
      "metadata": {
        "colab": {
          "base_uri": "https://localhost:8080/"
        },
        "id": "a0pCxK6iR2zs",
        "outputId": "0875a3b4-c8f2-4c7a-ef69-34bc223c986b"
      },
      "execution_count": 81,
      "outputs": [
        {
          "output_type": "stream",
          "name": "stdout",
          "text": [
            "6\n",
            "2\n",
            "8\n",
            "2\n"
          ]
        }
      ]
    },
    {
      "cell_type": "code",
      "source": [
        "class FourCal:\n",
        "\n",
        "  def __init__(self, a, b):\n",
        "    print('init')\n",
        "    self.a = a\n",
        "    self.b = b\n",
        "\n",
        "  def add(self):\n",
        "    return self.a + self.b\n",
        "\n",
        "  def sub(self):\n",
        "    return self.a - self.b\n",
        "\n",
        "  def mul(self):\n",
        "    return self.a * self.b\n",
        "  def div(self):\n",
        "    return self.a // self.b"
      ],
      "metadata": {
        "id": "iNk3W43LR5Jr"
      },
      "execution_count": 82,
      "outputs": []
    },
    {
      "cell_type": "code",
      "source": [
        "fc = FourCal(4,2) # 생성자는 객체의 초기값을 할당한다."
      ],
      "metadata": {
        "colab": {
          "base_uri": "https://localhost:8080/"
        },
        "id": "Hu7i72jsSqED",
        "outputId": "3ae79c75-d38b-4f65-fa51-5bbb8266ae40"
      },
      "execution_count": 84,
      "outputs": [
        {
          "output_type": "stream",
          "name": "stdout",
          "text": [
            "init\n"
          ]
        }
      ]
    },
    {
      "cell_type": "code",
      "source": [
        "\n",
        "print(fc.add())\n",
        "print(fc.sub())\n",
        "print(fc.mul())\n",
        "print(fc.div())\n"
      ],
      "metadata": {
        "colab": {
          "base_uri": "https://localhost:8080/"
        },
        "id": "aQq5iNlDSrpb",
        "outputId": "1f8383c5-19df-42a0-a279-10aa6141a654"
      },
      "execution_count": 85,
      "outputs": [
        {
          "output_type": "stream",
          "name": "stdout",
          "text": [
            "6\n",
            "2\n",
            "8\n",
            "2\n"
          ]
        }
      ]
    },
    {
      "cell_type": "markdown",
      "source": [
        "# Decorator"
      ],
      "metadata": {
        "id": "QqRZAVC1Tt0t"
      }
    },
    {
      "cell_type": "code",
      "source": [
        "def t(a):\n",
        "  return a"
      ],
      "metadata": {
        "id": "DLQdReWyS6q7"
      },
      "execution_count": 86,
      "outputs": []
    },
    {
      "cell_type": "code",
      "source": [
        "t(3)"
      ],
      "metadata": {
        "colab": {
          "base_uri": "https://localhost:8080/"
        },
        "id": "zZJ-unUxT1eb",
        "outputId": "e01f8a27-b4d3-4d4b-b6c8-5f875835e3f9"
      },
      "execution_count": 87,
      "outputs": [
        {
          "output_type": "execute_result",
          "data": {
            "text/plain": [
              "3"
            ]
          },
          "metadata": {},
          "execution_count": 87
        }
      ]
    },
    {
      "cell_type": "code",
      "source": [
        "def x(fun):\n",
        "  def y(x):\n",
        "    return fun(x+1)\n",
        "  return y"
      ],
      "metadata": {
        "id": "gLwSmAMNT2lk"
      },
      "execution_count": 88,
      "outputs": []
    },
    {
      "cell_type": "code",
      "source": [
        "m = x(t)\n",
        "print(m.__name__)"
      ],
      "metadata": {
        "colab": {
          "base_uri": "https://localhost:8080/"
        },
        "id": "qS_jmKlAUchb",
        "outputId": "97756c6a-b3e8-4ed7-ee1e-1b0f3c7e17ea"
      },
      "execution_count": 89,
      "outputs": [
        {
          "output_type": "stream",
          "name": "stdout",
          "text": [
            "y\n"
          ]
        }
      ]
    },
    {
      "cell_type": "code",
      "source": [
        "m = x(t)\n",
        "print(m.__name__)\n",
        "m(5)"
      ],
      "metadata": {
        "colab": {
          "base_uri": "https://localhost:8080/"
        },
        "id": "E2qKNAjuUlST",
        "outputId": "5da00af0-c2f7-4ea0-93ec-0bb9b0729c10"
      },
      "execution_count": 90,
      "outputs": [
        {
          "output_type": "stream",
          "name": "stdout",
          "text": [
            "y\n"
          ]
        },
        {
          "output_type": "execute_result",
          "data": {
            "text/plain": [
              "6"
            ]
          },
          "metadata": {},
          "execution_count": 90
        }
      ]
    },
    {
      "cell_type": "code",
      "source": [],
      "metadata": {
        "id": "9ax8urBFU3oj"
      },
      "execution_count": null,
      "outputs": []
    }
  ]
}