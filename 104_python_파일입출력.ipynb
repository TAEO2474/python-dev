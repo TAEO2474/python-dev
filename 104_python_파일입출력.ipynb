{
  "nbformat": 4,
  "nbformat_minor": 0,
  "metadata": {
    "colab": {
      "provenance": [],
      "authorship_tag": "ABX9TyNuCA8TftdzjrYHxkDSl0W7",
      "include_colab_link": true
    },
    "kernelspec": {
      "name": "python3",
      "display_name": "Python 3"
    },
    "language_info": {
      "name": "python"
    }
  },
  "cells": [
    {
      "cell_type": "markdown",
      "metadata": {
        "id": "view-in-github",
        "colab_type": "text"
      },
      "source": [
        "<a href=\"https://colab.research.google.com/github/TAEO2474/python-dev/blob/main/104_python_%ED%8C%8C%EC%9D%BC%EC%9E%85%EC%B6%9C%EB%A0%A5.ipynb\" target=\"_parent\"><img src=\"https://colab.research.google.com/assets/colab-badge.svg\" alt=\"Open In Colab\"/></a>"
      ]
    },
    {
      "cell_type": "markdown",
      "source": [
        "## 파일 입출력\n",
        "파일객체 = open('파일경로', '파일열기모드')\n",
        " - w:쓰기모드 - 파일에 내용을 쓸때 사용 (내용수정)\n",
        " - r:읽기모드 - 파일에 내용을 읽을때 사용\n",
        " - a:추가모드 - 파일에 내용을 추가할때 사용\n",
        "\n",
        "\n",
        "\n",
        "\n",
        "\n"
      ],
      "metadata": {
        "id": "gIc0HAXYbqq-"
      }
    },
    {
      "cell_type": "code",
      "source": [
        "# 구글 드라이버\n",
        "from google.colab import drive\n",
        "drive.mount('/content/drive')"
      ],
      "metadata": {
        "colab": {
          "base_uri": "https://localhost:8080/"
        },
        "id": "bVDH8aDTbsjN",
        "outputId": "8d77ca58-0add-48f9-9359-5b5ee216d048"
      },
      "execution_count": null,
      "outputs": [
        {
          "output_type": "stream",
          "name": "stdout",
          "text": [
            "Mounted at /content/drive\n"
          ]
        }
      ]
    },
    {
      "cell_type": "code",
      "source": [
        "# 경로 변경\n",
        "%cd /content/drive/MyDrive/2025AI"
      ],
      "metadata": {
        "colab": {
          "base_uri": "https://localhost:8080/"
        },
        "id": "RB0y_-Y7cMlu",
        "outputId": "4d529a36-3d89-4124-f3eb-e3d624ff3d9b"
      },
      "execution_count": null,
      "outputs": [
        {
          "output_type": "stream",
          "name": "stdout",
          "text": [
            "/content/drive/MyDrive/2025AI\n"
          ]
        }
      ]
    },
    {
      "cell_type": "code",
      "source": [
        "fwrite = open('source/sample.txt', 'w') # 파일을 쓰기로 오픈한다.\n",
        "for i in range(5):\n",
        "  data ='{}번째 줄입니다.\\n'.format(i)\n",
        "  fwrite.write(data)\n",
        "fwrite.close() # 파일 닫기\n"
      ],
      "metadata": {
        "id": "vYHmhyGbu-fH"
      },
      "execution_count": null,
      "outputs": []
    },
    {
      "cell_type": "code",
      "source": [
        "fread = open('source/sample.txt', 'r') # 파일을 읽기로 오픈한다.\n",
        "line = fread.read() # read()는 파일의 모든 데이터를 읽어온다.\n",
        "print(line)\n",
        "print(type(line))"
      ],
      "metadata": {
        "colab": {
          "base_uri": "https://localhost:8080/"
        },
        "id": "A75dpLPYw3au",
        "outputId": "5d42d20e-8bc6-4650-a954-241f07263a42"
      },
      "execution_count": null,
      "outputs": [
        {
          "output_type": "stream",
          "name": "stdout",
          "text": [
            "0번째 줄입니다.\n",
            "1번째 줄입니다.\n",
            "2번째 줄입니다.\n",
            "3번째 줄입니다.\n",
            "4번째 줄입니다.\n",
            "\n",
            "<class 'str'>\n"
          ]
        }
      ]
    },
    {
      "cell_type": "code",
      "source": [
        "# 'source/sample.txt' 파일을 읽기 모드('r')로 열고, 파일 객체를 fread에 저장\n",
        "fread = open('source/sample.txt', 'r')  # 파일 열기 (read mode)\n",
        "\n",
        "# 무한 루프 시작 → 파일을 한 줄씩 읽어서 처리\n",
        "while True:\n",
        "    line = fread.readline()        # 한 줄씩 읽기\n",
        "\n",
        "    if not line:                   # 빈 문자열이면 → 파일 끝 (EOF)\n",
        "        break                      # 루프 종료\n",
        "\n",
        "        # 이 코드는 도달하지 않음. break 아래는 절대 실행되지 않음!\n",
        "    print(line, end='')\n",
        "\n",
        "# 파일을 닫아줌 (리소스 정리)\n",
        "fread.close()\n"
      ],
      "metadata": {
        "colab": {
          "base_uri": "https://localhost:8080/"
        },
        "id": "-VS4OrXQyjke",
        "outputId": "1946f508-c3ae-43d7-bf14-a0c95d32b05c"
      },
      "execution_count": null,
      "outputs": [
        {
          "output_type": "stream",
          "name": "stdout",
          "text": [
            "0번째 줄입니다.\n",
            "1번째 줄입니다.\n",
            "2번째 줄입니다.\n",
            "3번째 줄입니다.\n",
            "4번째 줄입니다.\n"
          ]
        }
      ]
    },
    {
      "cell_type": "code",
      "source": [
        "fread = open('source/sample.txt', 'r') # 파일을 읽기로 오픈한다.\n",
        "line = fread.readlines()   # readlines()은 파일에서 한 라인씩 읽어와서 list에 저장한 후 리턴한다.\n",
        "print(type(line))\n",
        "print(line, end='')\n",
        "fread.close()"
      ],
      "metadata": {
        "colab": {
          "base_uri": "https://localhost:8080/"
        },
        "id": "RecWVSrxypic",
        "outputId": "18cc512e-34ce-4324-86e0-e35049a96317"
      },
      "execution_count": null,
      "outputs": [
        {
          "output_type": "stream",
          "name": "stdout",
          "text": [
            "<class 'list'>\n",
            "['0번째 줄입니다.\\n', '1번째 줄입니다.\\n', '2번째 줄입니다.\\n', '3번째 줄입니다.\\n', '4번째 줄입니다.\\n']"
          ]
        }
      ]
    },
    {
      "cell_type": "code",
      "source": [
        "fwrite = open('source/sample.txt', 'a') # 파일을 쓰기로 오픈한다.\n",
        "for i in range(11,21):\n",
        "  data ='{}번째 줄입니다.\\n'.format(i)\n",
        "  fwrite.write(data)\n",
        "fwrite.close() # 파일 닫기"
      ],
      "metadata": {
        "id": "srp6m1tl0dkt"
      },
      "execution_count": null,
      "outputs": []
    },
    {
      "cell_type": "code",
      "source": [
        "fread = open('source/sample.txt', 'r') # 파일을 읽기로 오픈한다.\n",
        "line = fread.readlines()   # readlines()은 파일에서 한 라인씩 읽어와서 list에 저장한 후 리턴한다.\n",
        "print(type(line))\n",
        "print(line, end='')\n",
        "fread.close()"
      ],
      "metadata": {
        "colab": {
          "base_uri": "https://localhost:8080/"
        },
        "id": "1f-1J5O71ar9",
        "outputId": "b9fab17f-1fac-4b5e-9ec6-b656a15264c8"
      },
      "execution_count": null,
      "outputs": [
        {
          "output_type": "stream",
          "name": "stdout",
          "text": [
            "<class 'list'>\n",
            "['11번째 줄입니다.\\n', '12번째 줄입니다.\\n', '13번째 줄입니다.\\n', '14번째 줄입니다.\\n', '15번째 줄입니다.\\n', '16번째 줄입니다.\\n', '17번째 줄입니다.\\n', '18번째 줄입니다.\\n', '19번째 줄입니다.\\n', '20번째 줄입니다.\\n', '11번째 줄입니다.\\n', '12번째 줄입니다.\\n', '13번째 줄입니다.\\n', '14번째 줄입니다.\\n', '15번째 줄입니다.\\n', '16번째 줄입니다.\\n', '17번째 줄입니다.\\n', '18번째 줄입니다.\\n', '19번째 줄입니다.\\n', '20번째 줄입니다.\\n', '11번째 줄입니다.\\n', '12번째 줄입니다.\\n', '13번째 줄입니다.\\n', '14번째 줄입니다.\\n', '15번째 줄입니다.\\n', '16번째 줄입니다.\\n', '17번째 줄입니다.\\n', '18번째 줄입니다.\\n', '19번째 줄입니다.\\n', '20번째 줄입니다.\\n']"
          ]
        }
      ]
    },
    {
      "cell_type": "markdown",
      "source": [
        "## with문과 함께 사용\n",
        " - with문과 함께 파일을 사용하면 읽기, 쓰기할 때 close( )을 안해도 된다.\n",
        "\n",
        "\n",
        "\n",
        "\n"
      ],
      "metadata": {
        "id": "Z7LkW8DU2CFt"
      }
    },
    {
      "cell_type": "code",
      "source": [
        "with open('source/sample.txt', 'w') as f:\n",
        "  for i in range(1,11):\n",
        "    data ='{}번째 줄입니다.\\n'.format(i)\n",
        "    f.write(data)"
      ],
      "metadata": {
        "id": "BhkuClF52Det"
      },
      "execution_count": null,
      "outputs": []
    },
    {
      "cell_type": "code",
      "source": [
        "with open('source/sample.txt', 'r') as f:\n",
        "  while True:\n",
        "    line = f.readline()\n",
        "    if not line:\n",
        "      break\n",
        "    print(line, end='')"
      ],
      "metadata": {
        "colab": {
          "base_uri": "https://localhost:8080/"
        },
        "id": "8ZQ7HWyT2iT9",
        "outputId": "a80b1c3b-0050-4798-a989-04447104608e"
      },
      "execution_count": null,
      "outputs": [
        {
          "output_type": "stream",
          "name": "stdout",
          "text": [
            "1번째 줄입니다.\n",
            "2번째 줄입니다.\n",
            "3번째 줄입니다.\n",
            "4번째 줄입니다.\n",
            "5번째 줄입니다.\n",
            "6번째 줄입니다.\n",
            "7번째 줄입니다.\n",
            "8번째 줄입니다.\n",
            "9번째 줄입니다.\n",
            "10번째 줄입니다.\n"
          ]
        }
      ]
    },
    {
      "cell_type": "code",
      "source": [
        "with open('source/sample.txt', 'w') as f:\n",
        "  f.writelines(['apple','banana', 'lemon'])"
      ],
      "metadata": {
        "id": "GjvLjrR82_bN"
      },
      "execution_count": null,
      "outputs": []
    },
    {
      "cell_type": "code",
      "source": [
        "with open('source/sample.txt', 'r') as f:\n",
        " # print(f.readlines()) #['applebananalemon']\n",
        "  print(f.readline()) # applebananalemon"
      ],
      "metadata": {
        "colab": {
          "base_uri": "https://localhost:8080/"
        },
        "id": "jQvsACWd3pqt",
        "outputId": "677d03d6-d00a-441b-d5c6-77d2dc6f7f8e"
      },
      "execution_count": null,
      "outputs": [
        {
          "output_type": "stream",
          "name": "stdout",
          "text": [
            "applebananalemon\n"
          ]
        }
      ]
    },
    {
      "cell_type": "code",
      "source": [
        "with open('source/test.txt', 'w') as f:\n",
        "  f.writelines('_'.join(['apple', 'banana', 'lemon']))"
      ],
      "metadata": {
        "id": "q1YZU5oe37zl"
      },
      "execution_count": null,
      "outputs": []
    },
    {
      "cell_type": "code",
      "source": [
        "with open('source/test.txt', 'r') as f:\n",
        "  print(f.readlines()) # ['apple\\n', 'banana\\n', 'lemon']\n",
        "  #print(f.readline())   # apple"
      ],
      "metadata": {
        "colab": {
          "base_uri": "https://localhost:8080/"
        },
        "id": "Z2XXViVZ4fRV",
        "outputId": "a850c6f7-46da-45c0-ed68-128eea9077d8"
      },
      "execution_count": null,
      "outputs": [
        {
          "output_type": "stream",
          "name": "stdout",
          "text": [
            "['apple']\n"
          ]
        }
      ]
    },
    {
      "cell_type": "code",
      "source": [],
      "metadata": {
        "id": "B8BA8GczI7bu"
      },
      "execution_count": null,
      "outputs": []
    },
    {
      "cell_type": "code",
      "source": [
        "with open('source/test.txt', 'w') as f:\n",
        "  f.writelines(['apple', 1, True]) # write할때 리스트는 여러개의 자료형을 이용해서 지정할 수 없다."
      ],
      "metadata": {
        "colab": {
          "base_uri": "https://localhost:8080/",
          "height": 164
        },
        "id": "ouEb5Hxh4z88",
        "outputId": "c50a2a22-4af8-4e46-f3a9-4af688d16f9a"
      },
      "execution_count": null,
      "outputs": [
        {
          "output_type": "error",
          "ename": "TypeError",
          "evalue": "write() argument must be str, not int",
          "traceback": [
            "\u001b[0;31m---------------------------------------------------------------------------\u001b[0m",
            "\u001b[0;31mTypeError\u001b[0m                                 Traceback (most recent call last)",
            "\u001b[0;32m/tmp/ipython-input-87-3848297307.py\u001b[0m in \u001b[0;36m<cell line: 0>\u001b[0;34m()\u001b[0m\n\u001b[1;32m      1\u001b[0m \u001b[0;32mwith\u001b[0m \u001b[0mopen\u001b[0m\u001b[0;34m(\u001b[0m\u001b[0;34m'source/test.txt'\u001b[0m\u001b[0;34m,\u001b[0m \u001b[0;34m'w'\u001b[0m\u001b[0;34m)\u001b[0m \u001b[0;32mas\u001b[0m \u001b[0mf\u001b[0m\u001b[0;34m:\u001b[0m\u001b[0;34m\u001b[0m\u001b[0;34m\u001b[0m\u001b[0m\n\u001b[0;32m----> 2\u001b[0;31m   \u001b[0mf\u001b[0m\u001b[0;34m.\u001b[0m\u001b[0mwritelines\u001b[0m\u001b[0;34m(\u001b[0m\u001b[0;34m[\u001b[0m\u001b[0;34m'apple'\u001b[0m\u001b[0;34m,\u001b[0m \u001b[0;36m1\u001b[0m\u001b[0;34m,\u001b[0m \u001b[0;32mTrue\u001b[0m\u001b[0;34m]\u001b[0m\u001b[0;34m)\u001b[0m \u001b[0;31m# write할때 리스트는 여러개의 자료형을 이용해서 지정할 수 없다.\u001b[0m\u001b[0;34m\u001b[0m\u001b[0;34m\u001b[0m\u001b[0m\n\u001b[0m",
            "\u001b[0;31mTypeError\u001b[0m: write() argument must be str, not int"
          ]
        }
      ]
    },
    {
      "cell_type": "code",
      "source": [
        "fread = open('source/sample.txt', 'r') # sample.txt파일을 읽기로 연결한다.\n",
        "line = fread.readlines() # readlines()은 파일에서 한라인씩 읽어와서 list에 저정한후 리턴한다.\n",
        "print(line)\n",
        "print(type(line))\n",
        "fread.close()"
      ],
      "metadata": {
        "colab": {
          "base_uri": "https://localhost:8080/"
        },
        "id": "0LsERMna5LF8",
        "outputId": "05d52818-7f2b-4e36-920b-5d066fe8a4f9"
      },
      "execution_count": null,
      "outputs": [
        {
          "output_type": "stream",
          "name": "stdout",
          "text": [
            "['applebananalemon']\n",
            "<class 'list'>\n"
          ]
        }
      ]
    },
    {
      "cell_type": "markdown",
      "source": [
        "```\n",
        "fread = open('source/sample.txt', 'r') # sample.txt파일을 읽기로 연결한다.\n",
        "line = fread.readlines() # readlines()은 파일에서 한라인씩 읽어와서 list에 저정한후 리턴한다.\n",
        "print(line)\n",
        "print(type(line))\n",
        "fread.close()\n",
        "```\n",
        "[출력결과]['1번째 줄입니다.\\n', '2번째 줄입니다.\\n', '3번째 줄입니다.\\n', '4번째 줄입니다.\\n', '5번째 줄입니다.\\n', '6번째 줄입니다.\\n', '7번째 줄입니다.\\n', '8번째 줄입니다.\\n', '9번째 줄입니다.\\n', '10번째 줄입니다.\\n']\n",
        "<class 'list'>"
      ],
      "metadata": {
        "id": "sq565tdz9hzF"
      }
    },
    {
      "cell_type": "markdown",
      "source": [
        "\n",
        "\n",
        "\n",
        "\n",
        "위의 실행 결과처럼 출력을 했을 때 줄바꿈\"\\n'이 들어가 있다. 이를 해결하는 방법으로 import pickle해"
      ],
      "metadata": {
        "id": "0VMCmCJG9Nk_"
      }
    },
    {
      "cell_type": "code",
      "source": [
        "import pickle"
      ],
      "metadata": {
        "id": "gWWKCeRU9OCc"
      },
      "execution_count": null,
      "outputs": []
    },
    {
      "cell_type": "code",
      "source": [
        "# 리스트를 저장하기\n",
        "with open('source/sample.txt', 'wb') as f:\n",
        "  pickle.dump(['apple', 'banana', 'lemon'], f) #dump(저장할 데이터, 파일)"
      ],
      "metadata": {
        "id": "1YNA7Yx390tc"
      },
      "execution_count": null,
      "outputs": []
    },
    {
      "cell_type": "code",
      "source": [
        "# 리스트로 읽어오기\n",
        "with open('source/sample.txt', 'rb') as f:\n",
        "  param = pickle.load(f)   # load(파일)\n",
        "  print(param)"
      ],
      "metadata": {
        "colab": {
          "base_uri": "https://localhost:8080/"
        },
        "id": "TbHj9jaG92rE",
        "outputId": "76c8f988-8618-42c9-b177-d5d363dd0bd4"
      },
      "execution_count": null,
      "outputs": [
        {
          "output_type": "stream",
          "name": "stdout",
          "text": [
            "['apple', 'banana', 'lemon']\n"
          ]
        }
      ]
    },
    {
      "cell_type": "code",
      "source": [
        "# dict로 저장하기\n",
        "with open('source/num.txt', 'wb') as f:\n",
        "  pickle.dump({'one':2, 'two':5}, f)\n",
        "\n",
        "\n",
        "\n",
        "\n",
        "# dic로 읽어오기\n",
        "with open('source/num.txt', 'rb') as f:     # load(파일)\n",
        "  param = pickle.load(f)\n",
        "  print(param)\n",
        "  print(type(param))\n",
        "\n",
        "\n"
      ],
      "metadata": {
        "colab": {
          "base_uri": "https://localhost:8080/"
        },
        "id": "QmkNtDcn-Gok",
        "outputId": "67ac3c64-42c2-48a6-a6d7-22cb4f727d77"
      },
      "execution_count": null,
      "outputs": [
        {
          "output_type": "stream",
          "name": "stdout",
          "text": [
            "{'one': 2, 'two': 5}\n",
            "<class 'dict'>\n"
          ]
        }
      ]
    },
    {
      "cell_type": "markdown",
      "source": [
        "built-in의 sorted()과 list의 sort() 비교"
      ],
      "metadata": {
        "id": "KegvLzSQAJuN"
      }
    },
    {
      "cell_type": "code",
      "source": [
        "k = ['d', 'a']\n",
        "print(k.sort()) # None 리턴 , sort(reverse=False) 오름차순, 기본\n",
        "print(k)\n",
        "\n",
        "k.sort(reverse=True) # 내림차순\n",
        "print(k)\n"
      ],
      "metadata": {
        "colab": {
          "base_uri": "https://localhost:8080/"
        },
        "id": "36W7BJhCAPuN",
        "outputId": "16d74c9b-4fb7-45c5-f897-a41fa406c0b4"
      },
      "execution_count": null,
      "outputs": [
        {
          "output_type": "stream",
          "name": "stdout",
          "text": [
            "None\n",
            "['a', 'd']\n"
          ]
        }
      ]
    },
    {
      "cell_type": "code",
      "source": [
        "k = ['d', 'a']\n",
        "print(sorted(k)) # list 리턴, sorted(reverse=False) 오름차순, 기본\n",
        "print(sorted(k, reverse=True)) # 내림차순"
      ],
      "metadata": {
        "colab": {
          "base_uri": "https://localhost:8080/"
        },
        "id": "svXOPuPaAbmt",
        "outputId": "f9c40c0f-7994-47a2-ed30-43962a572cee"
      },
      "execution_count": null,
      "outputs": [
        {
          "output_type": "stream",
          "name": "stdout",
          "text": [
            "['a', 'd']\n"
          ]
        }
      ]
    },
    {
      "cell_type": "markdown",
      "source": [
        "jumsu.txt파일의 내용을 읽어와서 오름차순으로 정렬를한후 출력하는 프로그램을 구현하세요.\n",
        "\n",
        "\n"
      ],
      "metadata": {
        "id": "_2L4i29kABL1"
      }
    },
    {
      "cell_type": "code",
      "source": [
        "with open('source/jumsu.txt', 'r') as f:\n",
        "  line = f.read()  # read() => str\n",
        "\n",
        "data = line.split(',')\n",
        "data.sort()\n",
        "print(data)"
      ],
      "metadata": {
        "colab": {
          "base_uri": "https://localhost:8080/"
        },
        "id": "90v0Nf5b_P19",
        "outputId": "270a0bb1-ab74-42eb-e799-275dcd73cbea"
      },
      "execution_count": null,
      "outputs": [
        {
          "output_type": "stream",
          "name": "stdout",
          "text": [
            "['10', '40', '50', '60', '90']\n"
          ]
        }
      ]
    },
    {
      "cell_type": "code",
      "source": [
        "\n"
      ],
      "metadata": {
        "id": "BQsURWWACGD8"
      },
      "execution_count": null,
      "outputs": []
    }
  ]
}