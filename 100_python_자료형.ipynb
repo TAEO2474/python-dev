{
 "cells": [
  {
   "cell_type": "markdown",
   "id": "7d7a06b1",
   "metadata": {},
   "source": [
    "https://www.python.org/     \n",
    "https://docs.python.org/ko/3/tutorial/index.html  \n",
    "https://peps.python.org/pep-0008/     \n",
    "https://wikidocs.net/book/1  \n",
    "https://dojang.io/course/view.php?id=7  "
   ]
  },
  {
   "cell_type": "code",
   "execution_count": 2,
   "id": "ed1e6fe2",
   "metadata": {},
   "outputs": [
    {
     "name": "stdout",
     "output_type": "stream",
     "text": [
      "python!!!!\n"
     ]
    }
   ],
   "source": [
    "print('python!!!!')"
   ]
  },
  {
   "cell_type": "code",
   "execution_count": 1,
   "id": "757aa642",
   "metadata": {},
   "outputs": [
    {
     "name": "stdout",
     "output_type": "stream",
     "text": [
      "Python 3.12.11\n"
     ]
    }
   ],
   "source": [
    "# python  version 확인\n",
    "!python --version"
   ]
  },
  {
   "cell_type": "code",
   "execution_count": 3,
   "id": "d39be5c5",
   "metadata": {},
   "outputs": [
    {
     "name": "stdout",
     "output_type": "stream",
     "text": [
      "The Zen of Python, by Tim Peters\n",
      "\n",
      "Beautiful is better than ugly.\n",
      "Explicit is better than implicit.\n",
      "Simple is better than complex.\n",
      "Complex is better than complicated.\n",
      "Flat is better than nested.\n",
      "Sparse is better than dense.\n",
      "Readability counts.\n",
      "Special cases aren't special enough to break the rules.\n",
      "Although practicality beats purity.\n",
      "Errors should never pass silently.\n",
      "Unless explicitly silenced.\n",
      "In the face of ambiguity, refuse the temptation to guess.\n",
      "There should be one-- and preferably only one --obvious way to do it.\n",
      "Although that way may not be obvious at first unless you're Dutch.\n",
      "Now is better than never.\n",
      "Although never is often better than *right* now.\n",
      "If the implementation is hard to explain, it's a bad idea.\n",
      "If the implementation is easy to explain, it may be a good idea.\n",
      "Namespaces are one honking great idea -- let's do more of those!\n"
     ]
    }
   ],
   "source": [
    "import this"
   ]
  },
  {
   "cell_type": "code",
   "execution_count": 5,
   "id": "4059a71c",
   "metadata": {},
   "outputs": [],
   "source": [
    "import antigravity"
   ]
  },
  {
   "cell_type": "code",
   "execution_count": 20,
   "id": "4d389d70",
   "metadata": {},
   "outputs": [
    {
     "name": "stdout",
     "output_type": "stream",
     "text": [
      "['False', 'None', 'True', 'and', 'as', 'assert', 'async', 'await', 'break', 'class', 'continue', 'def', 'del', 'elif', 'else', 'except', 'finally', 'for', 'from', 'global', 'if', 'import', 'in', 'is', 'lambda', 'nonlocal', 'not', 'or', 'pass', 'raise', 'return', 'try', 'while', 'with', 'yield']\n",
      "35\n"
     ]
    }
   ],
   "source": [
    "import keyword\n",
    "print(keyword.kwlist)\n",
    "print(len(keyword.kwlist))"
   ]
  },
  {
   "cell_type": "code",
   "execution_count": null,
   "id": "aad19ba8",
   "metadata": {},
   "outputs": [
    {
     "name": "stdout",
     "output_type": "stream",
     "text": [
      "[3, 5, 8]\n",
      "[]\n"
     ]
    }
   ],
   "source": [
    "# 예약어는 식별자로 사용할 수 없다.\n",
    "#as = 3  #SyntaxError: invalid syntax\n",
    "\n",
    "# 내장함수는 식별자로 사용할 수 있다.\n",
    "list = [3, 5, 8]\n",
    "print(list)\n",
    "\n",
    "# print(list()) # TypeError: 'list' object is not callable\n",
    "\n",
    "# 원래의 기능으로 원상복귀시키기 위해 del 삭제를 해준다.\n",
    "del list\n",
    "\n",
    "# 내장함수로 사용이 된다.\n",
    "print(list())"
   ]
  },
  {
   "cell_type": "code",
   "execution_count": 29,
   "id": "d2c87368",
   "metadata": {},
   "outputs": [
    {
     "name": "stdout",
     "output_type": "stream",
     "text": [
      "Hello world\n",
      "Hello world\n"
     ]
    }
   ],
   "source": [
    "print('Hello world')\n",
    "print('Hello world')"
   ]
  },
  {
   "cell_type": "code",
   "execution_count": null,
   "id": "4ed6c740",
   "metadata": {},
   "outputs": [
    {
     "name": "stdout",
     "output_type": "stream",
     "text": [
      "Hello world\n",
      "Hello world\n"
     ]
    }
   ],
   "source": [
    "# ;(세미콜론)은 문장의 끝을 의미한다.\n",
    "# 하나의 문장이 끝나면 문장의 끝에 세미콜론을 입력한다.\n",
    "# 하지만 파이썬에서는 줄바꿈에서 입력하면 세미콜론 생략이 가능하다.\n",
    "print('Hello world'); print('Hello world')"
   ]
  },
  {
   "cell_type": "code",
   "execution_count": null,
   "id": "9d745b8a",
   "metadata": {},
   "outputs": [
    {
     "name": "stdout",
     "output_type": "stream",
     "text": [
      "OK\n"
     ]
    }
   ],
   "source": [
    "# 변수(variable): 값을 저장하기 위한 메모리 공간\n",
    "a=10; b=20\n",
    "\n",
    "if(a==10) and (b==20):\n",
    "    print('OK')\n",
    "else:\n",
    "    print('No')"
   ]
  },
  {
   "cell_type": "code",
   "execution_count": 32,
   "id": "f934bc8e",
   "metadata": {},
   "outputs": [
    {
     "name": "stdout",
     "output_type": "stream",
     "text": [
      "1\n",
      "1\n"
     ]
    }
   ],
   "source": [
    "start = end = 1\n",
    "print(start)\n",
    "print(end)"
   ]
  },
  {
   "cell_type": "code",
   "execution_count": 33,
   "id": "2090584e",
   "metadata": {},
   "outputs": [
    {
     "name": "stdout",
     "output_type": "stream",
     "text": [
      "34\n"
     ]
    }
   ],
   "source": [
    "# + : 문자열 연결의 의미\n",
    "a = '3' + '4'\n",
    "print(a)"
   ]
  },
  {
   "cell_type": "code",
   "execution_count": 36,
   "id": "2f9c8997",
   "metadata": {},
   "outputs": [
    {
     "name": "stdout",
     "output_type": "stream",
     "text": [
      "7\n",
      "10\n",
      "34\n"
     ]
    }
   ],
   "source": [
    "a = 1\n",
    "a = eval('3+4')\n",
    "print(a)\n",
    "\n",
    "a = eval ('a + 3')\n",
    "print(a)\n",
    "\n",
    "a = eval('3' + '4')\n",
    "print(a)"
   ]
  },
  {
   "cell_type": "markdown",
   "id": "4af812e2",
   "metadata": {},
   "source": [
    "## 자료형\n",
    "1. 데이터 저장방법에 따른 자료형의 분류  \n",
    "  직접(direct)형 : 직접 데이터를 표현하는 자료형 : int, float, complex      \n",
    "  시퀀스(sequence)형: 다른 데이터를 포함하는 자료형, 순서가 있는 집합 자료형 : list,str, tuple, bytes, bytearray,range    \n",
    "  매핑(Mapping)형 : 다른 데이터를 포함하는 자료형 : dict    \n",
    "  집합(Set)형 : 순서가 없고, 중복된 값도 없다. : set, frozenset  \n",
    "\n",
    "2. 변경 가능성에 따른 자료형 분류  \n",
    "  변경 가능형(Mutable) : 데이터의 값을 변경할 수 있다.  : list, dict, set  \n",
    "  변경 불가능형(Immutable) : 데이터의 값을 변경할 수 없다. : int, float, complex, str, tuple, frozenset\n",
    "\n",
    "3. 데이터 저장 개수에 따른 자료형의 분류  \n",
    "  리터널(Literal/Scalar)형 : 한 가지 객체만 저장한다. : int, bytes, str, float, complex  \n",
    "  컨테이너(Container)형 : 여러 가지 객체를 저장한다. : list, tuple, dict, set, fronzenset\n"
   ]
  },
  {
   "cell_type": "markdown",
   "id": "b9541d6a",
   "metadata": {},
   "source": [
    "type() : 데이터 자료형 확인"
   ]
  },
  {
   "cell_type": "code",
   "execution_count": 1,
   "id": "7529f853",
   "metadata": {},
   "outputs": [
    {
     "data": {
      "text/plain": [
       "int"
      ]
     },
     "execution_count": 1,
     "metadata": {},
     "output_type": "execute_result"
    }
   ],
   "source": [
    "type(5)"
   ]
  },
  {
   "cell_type": "code",
   "execution_count": 2,
   "id": "605c0efa",
   "metadata": {},
   "outputs": [
    {
     "data": {
      "text/plain": [
       "float"
      ]
     },
     "execution_count": 2,
     "metadata": {},
     "output_type": "execute_result"
    }
   ],
   "source": [
    "type(85.3)"
   ]
  },
  {
   "cell_type": "code",
   "execution_count": 3,
   "id": "84ebd21d",
   "metadata": {},
   "outputs": [
    {
     "data": {
      "text/plain": [
       "list"
      ]
     },
     "execution_count": 3,
     "metadata": {},
     "output_type": "execute_result"
    }
   ],
   "source": [
    "type([1,3,5])"
   ]
  },
  {
   "cell_type": "code",
   "execution_count": 4,
   "id": "c7da3bab",
   "metadata": {},
   "outputs": [
    {
     "data": {
      "text/plain": [
       "tuple"
      ]
     },
     "execution_count": 4,
     "metadata": {},
     "output_type": "execute_result"
    }
   ],
   "source": [
    "type((2,5,7))"
   ]
  },
  {
   "cell_type": "code",
   "execution_count": null,
   "id": "9f145ce6",
   "metadata": {},
   "outputs": [],
   "source": [
    "def call():\n",
    "    return 2,3,4"
   ]
  },
  {
   "cell_type": "code",
   "execution_count": 6,
   "id": "c142cb57",
   "metadata": {},
   "outputs": [
    {
     "data": {
      "text/plain": [
       "function"
      ]
     },
     "execution_count": 6,
     "metadata": {},
     "output_type": "execute_result"
    }
   ],
   "source": [
    "type(call)"
   ]
  },
  {
   "cell_type": "code",
   "execution_count": 7,
   "id": "d8c5a9ff",
   "metadata": {},
   "outputs": [
    {
     "data": {
      "text/plain": [
       "tuple"
      ]
     },
     "execution_count": 7,
     "metadata": {},
     "output_type": "execute_result"
    }
   ],
   "source": [
    "type(call())"
   ]
  },
  {
   "cell_type": "code",
   "execution_count": 8,
   "id": "74a950fe",
   "metadata": {},
   "outputs": [
    {
     "data": {
      "text/plain": [
       "set"
      ]
     },
     "execution_count": 8,
     "metadata": {},
     "output_type": "execute_result"
    }
   ],
   "source": [
    "type({1,2,3})"
   ]
  },
  {
   "cell_type": "code",
   "execution_count": 9,
   "id": "2cbd3361",
   "metadata": {},
   "outputs": [
    {
     "data": {
      "text/plain": [
       "dict"
      ]
     },
     "execution_count": 9,
     "metadata": {},
     "output_type": "execute_result"
    }
   ],
   "source": [
    "type({'a':3, 'b':4})"
   ]
  },
  {
   "cell_type": "code",
   "execution_count": 10,
   "id": "2f0741e2",
   "metadata": {},
   "outputs": [
    {
     "data": {
      "text/plain": [
       "str"
      ]
     },
     "execution_count": 10,
     "metadata": {},
     "output_type": "execute_result"
    }
   ],
   "source": [
    "type('python')"
   ]
  },
  {
   "cell_type": "markdown",
   "id": "6ada627f",
   "metadata": {},
   "source": [
    "dir() : 객체의 자원을 검색할 수 있다."
   ]
  },
  {
   "cell_type": "code",
   "execution_count": 11,
   "id": "2395d427",
   "metadata": {},
   "outputs": [
    {
     "name": "stdout",
     "output_type": "stream",
     "text": [
      "['__add__', '__class__', '__contains__', '__delattr__', '__dir__', '__doc__', '__eq__', '__format__', '__ge__', '__getattribute__', '__getitem__', '__getnewargs__', '__getstate__', '__gt__', '__hash__', '__init__', '__init_subclass__', '__iter__', '__le__', '__len__', '__lt__', '__mod__', '__mul__', '__ne__', '__new__', '__reduce__', '__reduce_ex__', '__repr__', '__rmod__', '__rmul__', '__setattr__', '__sizeof__', '__str__', '__subclasshook__', 'capitalize', 'casefold', 'center', 'count', 'encode', 'endswith', 'expandtabs', 'find', 'format', 'format_map', 'index', 'isalnum', 'isalpha', 'isascii', 'isdecimal', 'isdigit', 'isidentifier', 'islower', 'isnumeric', 'isprintable', 'isspace', 'istitle', 'isupper', 'join', 'ljust', 'lower', 'lstrip', 'maketrans', 'partition', 'removeprefix', 'removesuffix', 'replace', 'rfind', 'rindex', 'rjust', 'rpartition', 'rsplit', 'rstrip', 'split', 'splitlines', 'startswith', 'strip', 'swapcase', 'title', 'translate', 'upper', 'zfill']\n"
     ]
    }
   ],
   "source": [
    "print(dir(str))"
   ]
  },
  {
   "cell_type": "code",
   "execution_count": 12,
   "id": "a5a7e52c",
   "metadata": {},
   "outputs": [
    {
     "name": "stdout",
     "output_type": "stream",
     "text": [
      "['__add__', '__class__', '__class_getitem__', '__contains__', '__delattr__', '__delitem__', '__dir__', '__doc__', '__eq__', '__format__', '__ge__', '__getattribute__', '__getitem__', '__getstate__', '__gt__', '__hash__', '__iadd__', '__imul__', '__init__', '__init_subclass__', '__iter__', '__le__', '__len__', '__lt__', '__mul__', '__ne__', '__new__', '__reduce__', '__reduce_ex__', '__repr__', '__reversed__', '__rmul__', '__setattr__', '__setitem__', '__sizeof__', '__str__', '__subclasshook__', 'append', 'clear', 'copy', 'count', 'extend', 'index', 'insert', 'pop', 'remove', 'reverse', 'sort']\n"
     ]
    }
   ],
   "source": [
    "print(dir(list))"
   ]
  },
  {
   "cell_type": "code",
   "execution_count": 13,
   "id": "a293f170",
   "metadata": {},
   "outputs": [
    {
     "name": "stdout",
     "output_type": "stream",
     "text": [
      "['__add__', '__class__', '__class_getitem__', '__contains__', '__delattr__', '__dir__', '__doc__', '__eq__', '__format__', '__ge__', '__getattribute__', '__getitem__', '__getnewargs__', '__getstate__', '__gt__', '__hash__', '__init__', '__init_subclass__', '__iter__', '__le__', '__len__', '__lt__', '__mul__', '__ne__', '__new__', '__reduce__', '__reduce_ex__', '__repr__', '__rmul__', '__setattr__', '__sizeof__', '__str__', '__subclasshook__', 'count', 'index']\n"
     ]
    }
   ],
   "source": [
    "print(dir(tuple))"
   ]
  },
  {
   "cell_type": "code",
   "execution_count": 14,
   "id": "3e6b1c99",
   "metadata": {},
   "outputs": [
    {
     "name": "stdout",
     "output_type": "stream",
     "text": [
      "['__new__', '__repr__', '__hash__', '__getattribute__', '__lt__', '__le__', '__eq__', '__ne__', '__gt__', '__ge__', '__iter__', '__init__', '__len__', '__getitem__', '__setitem__', '__delitem__', '__add__', '__mul__', '__rmul__', '__contains__', '__iadd__', '__imul__', '__reversed__', '__sizeof__', 'clear', 'copy', 'append', 'insert', 'extend', 'pop', 'remove', 'index', 'count', 'reverse', 'sort', '__class_getitem__', '__doc__', '__str__', '__setattr__', '__delattr__', '__reduce_ex__', '__reduce__', '__getstate__', '__subclasshook__', '__init_subclass__', '__format__', '__dir__', '__class__']\n"
     ]
    }
   ],
   "source": [
    "a = [1,2,3]\n",
    "print(a.__dir__())"
   ]
  },
  {
   "cell_type": "markdown",
   "id": "3d815018",
   "metadata": {},
   "source": [
    "help() : 자료형에서 제공하는 메소드 사용법을 검색할 수 있다."
   ]
  },
  {
   "cell_type": "code",
   "execution_count": 16,
   "id": "0452d8d7",
   "metadata": {},
   "outputs": [
    {
     "name": "stdout",
     "output_type": "stream",
     "text": [
      "Help on method_descriptor:\n",
      "\n",
      "index(...) unbound builtins.str method\n",
      "    S.index(sub[, start[, end]]) -> int\n",
      "\n",
      "    Return the lowest index in S where substring sub is found,\n",
      "    such that sub is contained within S[start:end].  Optional\n",
      "    arguments start and end are interpreted as in slice notation.\n",
      "\n",
      "    Raises ValueError when the substring is not found.\n",
      "\n",
      "None\n"
     ]
    }
   ],
   "source": [
    "# print(help(str))\n",
    "print(help(str.index))"
   ]
  },
  {
   "cell_type": "code",
   "execution_count": 17,
   "id": "1c9500f0",
   "metadata": {},
   "outputs": [
    {
     "data": {
      "text/plain": [
       "2"
      ]
     },
     "execution_count": 17,
     "metadata": {},
     "output_type": "execute_result"
    }
   ],
   "source": [
    "'hello'.index('l')"
   ]
  },
  {
   "cell_type": "markdown",
   "id": "f5abd3e1",
   "metadata": {},
   "source": [
    "## Sequence 자료형\n",
    "- Sequence은 여러 객체를 저장할 수 있는 순서를 갖는 연속된 자료형이다.\n",
    "- 자료형 종류 : str, tuple, list\n",
    "- sequence형의 공통적인 연산\n",
    "  - 인덱싱(indexing)\n",
    "  - 슬라이싱(slicing)\n",
    "  - 연결하기\n",
    "  - 반복하기\n",
    "  - 멤버 검사\n",
    "  - 길이정보"
   ]
  },
  {
   "cell_type": "markdown",
   "id": "a1b34612",
   "metadata": {},
   "source": [
    "문자열(str)\n",
    "\n",
    "문자열은 문자들을 표현하는 자료형으로 작은따옴표(')나 큰따옴표(\")로 묶는다.  \n",
    "문자열의 슬라이싱 : [인덱스 시작 : 인덱스 끝 : 스텝]  \n",
    "스텝의 default은 1의 값을 갖는다.  "
   ]
  },
  {
   "cell_type": "code",
   "execution_count": 18,
   "id": "d89fc6f1",
   "metadata": {},
   "outputs": [
    {
     "name": "stdout",
     "output_type": "stream",
     "text": [
      "Life is too short, You need python\n",
      "Life is too short, You need python\n"
     ]
    }
   ],
   "source": [
    "a = 'Life is too short, You need python'\n",
    "print(a)\n",
    "\n",
    "a = \"Life is too short, You need python\"\n",
    "print(a)"
   ]
  },
  {
   "cell_type": "code",
   "execution_count": 19,
   "id": "ddc03255",
   "metadata": {},
   "outputs": [
    {
     "name": "stdout",
     "output_type": "stream",
     "text": [
      "Python's favorite food is perl\n",
      "2570742239824\n",
      "\"Python is very easy.\" he says.\n",
      "2570742725760\n",
      "Python's favorite food is perl\n",
      "\"Python is  very easy.\" he says.\n"
     ]
    }
   ],
   "source": [
    "a = \"Python's favorite food is perl\"\n",
    "print(a)\n",
    "print(id(a))\n",
    "\n",
    "a = '\"Python is very easy.\" he says.'\n",
    "print(a)\n",
    "print(id(a))\n",
    "\n",
    "a = 'Python\\'s favorite food is perl'\n",
    "print(a)\n",
    "\n",
    "a = \"\\\"Python is  very easy.\\\" he says.\"\n",
    "print(a)"
   ]
  },
  {
   "cell_type": "code",
   "execution_count": 20,
   "id": "517f1425",
   "metadata": {},
   "outputs": [
    {
     "name": "stdout",
     "output_type": "stream",
     "text": [
      "\n",
      "    Life is too short\n",
      "    You need python\n",
      "\n",
      "\n",
      "    Life is too short\n",
      "    You need python\n",
      "\n"
     ]
    }
   ],
   "source": [
    "b = \"\"\"\n",
    "    Life is too short\n",
    "    You need python\n",
    "\"\"\"\n",
    "print(b)\n",
    "\n",
    "b = '''\n",
    "    Life is too short\n",
    "    You need python\n",
    "'''\n",
    "print(b)"
   ]
  },
  {
   "cell_type": "code",
   "execution_count": null,
   "id": "51e3d2c2",
   "metadata": {},
   "outputs": [
    {
     "data": {
      "text/plain": [
       "17"
      ]
     },
     "execution_count": 21,
     "metadata": {},
     "output_type": "execute_result"
    }
   ],
   "source": [
    "a = 'Life is too short'\n",
    "len(a) # 문자열 길이"
   ]
  },
  {
   "cell_type": "code",
   "execution_count": 28,
   "id": "e7da54c7",
   "metadata": {},
   "outputs": [
    {
     "name": "stdout",
     "output_type": "stream",
     "text": [
      "hello python!\n"
     ]
    }
   ],
   "source": [
    "s_val = 'hello python!'\n",
    "print(s_val)"
   ]
  },
  {
   "cell_type": "code",
   "execution_count": null,
   "id": "dd7eeaea",
   "metadata": {},
   "outputs": [
    {
     "data": {
      "text/plain": [
       "'e'"
      ]
     },
     "execution_count": 29,
     "metadata": {},
     "output_type": "execute_result"
    }
   ],
   "source": [
    "# indexing(인덱싱)\n",
    "s_val[1]"
   ]
  },
  {
   "cell_type": "code",
   "execution_count": null,
   "id": "218c19c7",
   "metadata": {},
   "outputs": [
    {
     "data": {
      "text/plain": [
       "'hel'"
      ]
     },
     "execution_count": 30,
     "metadata": {},
     "output_type": "execute_result"
    }
   ],
   "source": [
    "# slicing(슬라이싱)  [start:end]\n",
    "s_val[0:3]  # 0부터 3미만"
   ]
  },
  {
   "cell_type": "code",
   "execution_count": 31,
   "id": "0c2bc7e6",
   "metadata": {},
   "outputs": [
    {
     "name": "stdout",
     "output_type": "stream",
     "text": [
      "e\n"
     ]
    }
   ],
   "source": [
    "print(s_val[1:2]) # 1부터 2미만"
   ]
  },
  {
   "cell_type": "code",
   "execution_count": null,
   "id": "856bdaa7",
   "metadata": {},
   "outputs": [
    {
     "name": "stdout",
     "output_type": "stream",
     "text": [
      "ello python!\n"
     ]
    }
   ],
   "source": [
    "print(s_val[1:]) # 1부터 끝까지"
   ]
  },
  {
   "cell_type": "code",
   "execution_count": null,
   "id": "7e9872f0",
   "metadata": {},
   "outputs": [
    {
     "name": "stdout",
     "output_type": "stream",
     "text": [
      "hello python!\n",
      "hello python!\n"
     ]
    }
   ],
   "source": [
    "# 변수의 모든 데이터를 가져옴\n",
    "print(s_val[0:])\n",
    "print(s_val[:])"
   ]
  },
  {
   "cell_type": "code",
   "execution_count": null,
   "id": "b6d73ed2",
   "metadata": {},
   "outputs": [
    {
     "name": "stdout",
     "output_type": "stream",
     "text": [
      "!\n"
     ]
    }
   ],
   "source": [
    "# indexing을 이용해서 끝에 있는 문자를 가져옴\n",
    "print(s_val[-1])"
   ]
  },
  {
   "cell_type": "code",
   "execution_count": null,
   "id": "e6eba972",
   "metadata": {},
   "outputs": [
    {
     "name": "stdout",
     "output_type": "stream",
     "text": [
      "on\n"
     ]
    }
   ],
   "source": [
    "print(s_val[-3:-1]) # -3부터 -1미만"
   ]
  },
  {
   "cell_type": "code",
   "execution_count": null,
   "id": "ec40b3f4",
   "metadata": {},
   "outputs": [
    {
     "name": "stdout",
     "output_type": "stream",
     "text": [
      "hlopto!\n"
     ]
    }
   ],
   "source": [
    "print(s_val[::2])  # hello python!"
   ]
  },
  {
   "cell_type": "code",
   "execution_count": 39,
   "id": "f7a9de41",
   "metadata": {},
   "outputs": [
    {
     "name": "stdout",
     "output_type": "stream",
     "text": [
      "!nohtyp olleh\n"
     ]
    }
   ],
   "source": [
    "print(s_val[::-1])"
   ]
  },
  {
   "cell_type": "code",
   "execution_count": 40,
   "id": "de51b364",
   "metadata": {},
   "outputs": [
    {
     "name": "stdout",
     "output_type": "stream",
     "text": [
      "!nohtyp olleh\n"
     ]
    }
   ],
   "source": [
    "print(s_val[13::-1])"
   ]
  },
  {
   "cell_type": "code",
   "execution_count": null,
   "id": "eab32411",
   "metadata": {},
   "outputs": [
    {
     "ename": "TypeError",
     "evalue": "can only concatenate str (not \"int\") to str",
     "output_type": "error",
     "traceback": [
      "\u001b[31m---------------------------------------------------------------------------\u001b[39m",
      "\u001b[31mTypeError\u001b[39m                                 Traceback (most recent call last)",
      "\u001b[36mCell\u001b[39m\u001b[36m \u001b[39m\u001b[32mIn[41]\u001b[39m\u001b[32m, line 1\u001b[39m\n\u001b[32m----> \u001b[39m\u001b[32m1\u001b[39m s_val2 = \u001b[33;43m'\u001b[39;49m\u001b[33;43mhello\u001b[39;49m\u001b[33;43m'\u001b[39;49m\u001b[43m \u001b[49m\u001b[43m+\u001b[49m\u001b[43m \u001b[49m\u001b[32;43m2\u001b[39;49m\n",
      "\u001b[31mTypeError\u001b[39m: can only concatenate str (not \"int\") to str"
     ]
    }
   ],
   "source": [
    "# 파이썬은 다른 자료형끼리 (+)연산자를 사용할 수 없다.\n",
    "# TypeError: can only concatenate str (not \"int\") to str\n",
    "s_val2 = 'hello' + 2\n"
   ]
  },
  {
   "cell_type": "markdown",
   "id": "a967ba1b",
   "metadata": {},
   "source": [
    "문자열을 반복하기는 (*)연산자를 사용"
   ]
  },
  {
   "cell_type": "code",
   "execution_count": 42,
   "id": "57a30410",
   "metadata": {},
   "outputs": [
    {
     "name": "stdout",
     "output_type": "stream",
     "text": [
      "winwinwin\n"
     ]
    }
   ],
   "source": [
    "s_val = 'win' * 3\n",
    "print(s_val)"
   ]
  },
  {
   "cell_type": "code",
   "execution_count": null,
   "id": "543c81a5",
   "metadata": {},
   "outputs": [
    {
     "ename": "TypeError",
     "evalue": "can't multiply sequence by non-int of type 'str'",
     "output_type": "error",
     "traceback": [
      "\u001b[31m---------------------------------------------------------------------------\u001b[39m",
      "\u001b[31mTypeError\u001b[39m                                 Traceback (most recent call last)",
      "\u001b[36mCell\u001b[39m\u001b[36m \u001b[39m\u001b[32mIn[43]\u001b[39m\u001b[32m, line 1\u001b[39m\n\u001b[32m----> \u001b[39m\u001b[32m1\u001b[39m s_val = \u001b[33;43m'\u001b[39;49m\u001b[33;43mwin\u001b[39;49m\u001b[33;43m'\u001b[39;49m\u001b[43m \u001b[49m\u001b[43m*\u001b[49m\u001b[43m \u001b[49m\u001b[33;43m'\u001b[39;49m\u001b[33;43mwin\u001b[39;49m\u001b[33;43m'\u001b[39;49m\n\u001b[32m      2\u001b[39m \u001b[38;5;28mprint\u001b[39m(s_val)\n",
      "\u001b[31mTypeError\u001b[39m: can't multiply sequence by non-int of type 'str'"
     ]
    }
   ],
   "source": [
    "# TypeError: can't multiply sequence by non-int of type 'str'\n",
    "s_val = 'win' * 'win'\n",
    "print(s_val)"
   ]
  },
  {
   "cell_type": "markdown",
   "id": "3fa8f988",
   "metadata": {},
   "source": [
    "문자열을 변경할 때 슬라이싱과 연결하기 사용\n"
   ]
  },
  {
   "cell_type": "code",
   "execution_count": 45,
   "id": "28764be8",
   "metadata": {},
   "outputs": [],
   "source": [
    "s_val = 'hello python!'"
   ]
  },
  {
   "cell_type": "code",
   "execution_count": 46,
   "id": "1313fb53",
   "metadata": {},
   "outputs": [
    {
     "name": "stdout",
     "output_type": "stream",
     "text": [
      "Hello python!\n"
     ]
    }
   ],
   "source": [
    "s_check = 'H'+ s_val[1:]\n",
    "print(s_check)"
   ]
  },
  {
   "cell_type": "markdown",
   "id": "1f323937",
   "metadata": {},
   "source": [
    "in연산자로 멤버 검사를 해서 부분 문자열의 존재 확인"
   ]
  },
  {
   "cell_type": "code",
   "execution_count": 47,
   "id": "456e34b3",
   "metadata": {},
   "outputs": [
    {
     "name": "stdout",
     "output_type": "stream",
     "text": [
      "red green blue\n"
     ]
    }
   ],
   "source": [
    "s_val = 'red green blue'\n",
    "print(s_val)"
   ]
  },
  {
   "cell_type": "code",
   "execution_count": null,
   "id": "f71fefc9",
   "metadata": {},
   "outputs": [
    {
     "data": {
      "text/plain": [
       "True"
      ]
     },
     "execution_count": 48,
     "metadata": {},
     "output_type": "execute_result"
    }
   ],
   "source": [
    "#s_vaㅣ 변수에 'green'문자열이 있니?\n",
    "\n",
    "'green' in s_val   # 찾을문자열 in 대상"
   ]
  },
  {
   "cell_type": "code",
   "execution_count": 49,
   "id": "a0738403",
   "metadata": {},
   "outputs": [
    {
     "data": {
      "text/plain": [
       "False"
      ]
     },
     "execution_count": 49,
     "metadata": {},
     "output_type": "execute_result"
    }
   ],
   "source": [
    "'white' in s_val"
   ]
  },
  {
   "cell_type": "markdown",
   "id": "6fb0f0d3",
   "metadata": {},
   "source": [
    "문자열 포매팅(서식지정) : 어떤 문서 양식을 만들어 넣고 빈칸에 필요한 내용을 채워서 문서를 지정한다.\n",
    "\n",
    "문자열포매팅(서식지정) 형식\n",
    "\n",
    "|코드|설명 |\n",
    "|---|:---:|\n",
    "|%d|정수|\n",
    "|%f|실수|\n",
    "|%s|문자열|\n",
    "|%c|하나의문자|\n",
    "|%o|8진수|\n",
    "|%x|16진수|\n",
    "|%%|%기호자체를출력하고자할때|"
   ]
  },
  {
   "cell_type": "code",
   "execution_count": 50,
   "id": "1c4a70ef",
   "metadata": {},
   "outputs": [
    {
     "name": "stdout",
     "output_type": "stream",
     "text": [
      "python 의 점수는 83.5입니다.\n",
      "python 의 점수는 83.5입니다.\n",
      "python 의 점수는 83.5입니다.\n",
      "python 의 점수는 83.5입니다.\n",
      "{0} 의 점수는 {1}입니다.\n",
      "{python} 의 점수는 {83.5}입니다.\n",
      "python     의 점수는 83.5입니다.\n",
      "    python 의 점수는 83.5입니다.\n"
     ]
    }
   ],
   "source": [
    "s_val7 = 'python'\n",
    "s_val8 = 83.5\n",
    "\n",
    "print('%s 의 점수는 %.1f입니다.' % ( s_val7, s_val8)) # python1, 2방식\n",
    "print('{} 의 점수는 {}입니다.'.format(s_val7, s_val8)) # python3 방식\n",
    "print('{1} 의 점수는 {0}입니다.'.format(s_val8, s_val7))\n",
    "print('{subject} 의 점수는 {jumsu}입니다.'.format(jumsu=s_val8, subject=s_val7))\n",
    "print('{{0}} 의 점수는 {{1}}입니다.'.format(s_val7, s_val8)) # { }자체를 출력할때 {{}}을 한다.\n",
    "print('{{{0}}} 의 점수는 {{{1}}}입니다.'.format(s_val7, s_val8)) # {}자체와 값을 출력할때는 {{{}}}을 한다.\n",
    "\n",
    "print('{0:<10} 의 점수는 {1}입니다.'.format(s_val7, s_val8))  # 10자리 확보하고 남은 공간은 오른쪽을 여백으로 채운다.\n",
    "#print('{:<10} 의 점수는 {}입니다.'.format(s_val7, s_val8))\n",
    "\n",
    "print('{0:>10} 의 점수는 {1}입니다.'.format(s_val7, s_val8))  "
   ]
  },
  {
   "cell_type": "markdown",
   "id": "75b5b2dd",
   "metadata": {},
   "source": [
    "문자열에서 제공하는 메소드"
   ]
  },
  {
   "cell_type": "code",
   "execution_count": null,
   "id": "ec3f83a8",
   "metadata": {},
   "outputs": [
    {
     "name": "stdout",
     "output_type": "stream",
     "text": [
      "2\n"
     ]
    }
   ],
   "source": [
    "a = 'hobby'\n",
    "print(a.count('b')) # 'b' 문자개수 리턴"
   ]
  },
  {
   "cell_type": "code",
   "execution_count": null,
   "id": "13725dcd",
   "metadata": {},
   "outputs": [
    {
     "data": {
      "text/plain": [
       "5"
      ]
     },
     "execution_count": 53,
     "metadata": {},
     "output_type": "execute_result"
    }
   ],
   "source": [
    "len(a)  # 모든 문자열의 개수 리턴"
   ]
  },
  {
   "cell_type": "code",
   "execution_count": 55,
   "id": "4f11999d",
   "metadata": {},
   "outputs": [
    {
     "name": "stdout",
     "output_type": "stream",
     "text": [
      "2\n",
      "2\n"
     ]
    }
   ],
   "source": [
    "# 'b'의 인덱스 리턴\n",
    "print(a.find('b'))\n",
    "print(a.index('b'))\n"
   ]
  },
  {
   "cell_type": "code",
   "execution_count": null,
   "id": "fa7b49cf",
   "metadata": {},
   "outputs": [
    {
     "name": "stdout",
     "output_type": "stream",
     "text": [
      "-1\n"
     ]
    },
    {
     "ename": "ValueError",
     "evalue": "substring not found",
     "output_type": "error",
     "traceback": [
      "\u001b[31m---------------------------------------------------------------------------\u001b[39m",
      "\u001b[31mValueError\u001b[39m                                Traceback (most recent call last)",
      "\u001b[36mCell\u001b[39m\u001b[36m \u001b[39m\u001b[32mIn[56]\u001b[39m\u001b[32m, line 3\u001b[39m\n\u001b[32m      1\u001b[39m \u001b[38;5;66;03m# 'c'의 인덱스 리턴\u001b[39;00m\n\u001b[32m      2\u001b[39m \u001b[38;5;28mprint\u001b[39m(a.find(\u001b[33m'\u001b[39m\u001b[33mc\u001b[39m\u001b[33m'\u001b[39m))\n\u001b[32m----> \u001b[39m\u001b[32m3\u001b[39m \u001b[38;5;28mprint\u001b[39m(\u001b[43ma\u001b[49m\u001b[43m.\u001b[49m\u001b[43mindex\u001b[49m\u001b[43m(\u001b[49m\u001b[33;43m'\u001b[39;49m\u001b[33;43mc\u001b[39;49m\u001b[33;43m'\u001b[39;49m\u001b[43m)\u001b[49m)\n",
      "\u001b[31mValueError\u001b[39m: substring not found"
     ]
    }
   ],
   "source": [
    "# 'c'의 인덱스 리턴\n",
    "print(a.find('c')) # 찾는 문자열이 없으면 -1을 리턴\n",
    "print(a.index('c')) # 찾는 문자열이 없으면 오류 발생 ValueError: substring not found\n"
   ]
  },
  {
   "cell_type": "code",
   "execution_count": null,
   "id": "83a8f88d",
   "metadata": {},
   "outputs": [
    {
     "data": {
      "text/plain": [
       "'a*p*p*l*e'"
      ]
     },
     "execution_count": 57,
     "metadata": {},
     "output_type": "execute_result"
    }
   ],
   "source": [
    "# 'apple'문자열의 각각의 문자 사이에 '*'를 삽입해 준다.\n",
    "'*'.join('apple')"
   ]
  },
  {
   "cell_type": "code",
   "execution_count": 58,
   "id": "75c5acd9",
   "metadata": {},
   "outputs": [
    {
     "data": {
      "text/plain": [
       "'red*green*blud'"
      ]
     },
     "execution_count": 58,
     "metadata": {},
     "output_type": "execute_result"
    }
   ],
   "source": [
    "'*'.join(['red','green','blud'])"
   ]
  },
  {
   "cell_type": "code",
   "execution_count": null,
   "id": "ee9c48fd",
   "metadata": {},
   "outputs": [
    {
     "name": "stdout",
     "output_type": "stream",
     "text": [
      "HELLO\n"
     ]
    }
   ],
   "source": [
    "a = 'hello'\n",
    "print(a.upper()) # 대문자로 변경"
   ]
  },
  {
   "cell_type": "code",
   "execution_count": null,
   "id": "8d8273a3",
   "metadata": {},
   "outputs": [
    {
     "name": "stdout",
     "output_type": "stream",
     "text": [
      "hello\n"
     ]
    }
   ],
   "source": [
    "a = 'HELLO'\n",
    "print(a.lower()) # 소문자로 변경"
   ]
  },
  {
   "cell_type": "code",
   "execution_count": null,
   "id": "1ac57c4b",
   "metadata": {},
   "outputs": [
    {
     "name": "stdout",
     "output_type": "stream",
     "text": [
      "14\n",
      "  hello word  \n",
      "12\n",
      "hello word  \n"
     ]
    }
   ],
   "source": [
    "a = '  hello word  '\n",
    "print(len(a))\n",
    "print(a)\n",
    "b = a.lstrip()  # 왼쪽 공백 제거\n",
    "print(len(b))\n",
    "print(b)"
   ]
  },
  {
   "cell_type": "code",
   "execution_count": 65,
   "id": "6028ef99",
   "metadata": {},
   "outputs": [
    {
     "name": "stdout",
     "output_type": "stream",
     "text": [
      "14\n",
      "  hello word  \n",
      "12\n",
      "  hello word\n"
     ]
    }
   ],
   "source": [
    "a = '  hello word  '\n",
    "print(len(a))\n",
    "print(a)\n",
    "b = a.rstrip()  # 오른쪽 공백 제거\n",
    "print(len(b))\n",
    "print(b)"
   ]
  },
  {
   "cell_type": "code",
   "execution_count": 66,
   "id": "f2f882ae",
   "metadata": {},
   "outputs": [
    {
     "name": "stdout",
     "output_type": "stream",
     "text": [
      "14\n",
      "  hello word  \n",
      "10\n",
      "hello word\n"
     ]
    }
   ],
   "source": [
    "a = '  hello word  '\n",
    "print(len(a))\n",
    "print(a)\n",
    "b = a.strip()  # 양쪽 공백 제거\n",
    "print(len(b))\n",
    "print(b)"
   ]
  },
  {
   "cell_type": "code",
   "execution_count": null,
   "id": "617c1861",
   "metadata": {},
   "outputs": [
    {
     "name": "stdout",
     "output_type": "stream",
     "text": [
      "Hello 파이썬\n"
     ]
    }
   ],
   "source": [
    "a = 'Hello Python'\n",
    "print(a.replace('Python', '파이썬')) # 문자열 변경"
   ]
  },
  {
   "cell_type": "code",
   "execution_count": 73,
   "id": "d4a5ce4d",
   "metadata": {},
   "outputs": [
    {
     "name": "stdout",
     "output_type": "stream",
     "text": [
      "['Red', 'Green', 'Blue']\n",
      "['Red', 'Green', 'Blue']\n",
      "['Red', '', 'Green', 'Blue']\n",
      "['Red', 'Green', 'Blue']\n"
     ]
    }
   ],
   "source": [
    "a = 'Red Green Blue'\n",
    "print(a.split())\n",
    "\n",
    "a = 'Red*Green*Blue'\n",
    "print(a.split('*'))\n",
    "\n",
    "a = 'Red**Green*Blue'\n",
    "print(a.split('*'))\n",
    "\n",
    "import re\n",
    "a = 'Red**Green*Blue'\n",
    "print(re.split(r'\\*+', a))"
   ]
  },
  {
   "cell_type": "markdown",
   "id": "82caf8c5",
   "metadata": {},
   "source": [
    "문제1)  \n",
    "S='Somewhere on the rainbow'를 'Somewhere over the rainbow'로 변환하세요."
   ]
  },
  {
   "cell_type": "code",
   "execution_count": 80,
   "id": "1d2bbfae",
   "metadata": {},
   "outputs": [
    {
     "name": "stdout",
     "output_type": "stream",
     "text": [
      "['__add__', '__class__', '__contains__', '__delattr__', '__dir__', '__doc__', '__eq__', '__format__', '__ge__', '__getattribute__', '__getitem__', '__getnewargs__', '__getstate__', '__gt__', '__hash__', '__init__', '__init_subclass__', '__iter__', '__le__', '__len__', '__lt__', '__mod__', '__mul__', '__ne__', '__new__', '__reduce__', '__reduce_ex__', '__repr__', '__rmod__', '__rmul__', '__setattr__', '__sizeof__', '__str__', '__subclasshook__', 'capitalize', 'casefold', 'center', 'count', 'encode', 'endswith', 'expandtabs', 'find', 'format', 'format_map', 'index', 'isalnum', 'isalpha', 'isascii', 'isdecimal', 'isdigit', 'isidentifier', 'islower', 'isnumeric', 'isprintable', 'isspace', 'istitle', 'isupper', 'join', 'ljust', 'lower', 'lstrip', 'maketrans', 'partition', 'removeprefix', 'removesuffix', 'replace', 'rfind', 'rindex', 'rjust', 'rpartition', 'rsplit', 'rstrip', 'split', 'splitlines', 'startswith', 'strip', 'swapcase', 'title', 'translate', 'upper', 'zfill']\n",
      "Somewhere over the rainbow\n"
     ]
    }
   ],
   "source": [
    "S='Somewhere on the rainbow'\n",
    "print(dir(S))\n",
    "#help(S.replace)\n",
    "print(S.replace('on','over'))"
   ]
  },
  {
   "cell_type": "markdown",
   "id": "7666b2e5",
   "metadata": {},
   "source": [
    "문제2)  \n",
    "s = '/usr/local/bin/python' 에서 각각의 디렉토리 경로명을 분리하여 출력하세요.\n",
    "\n",
    "[실행결과] ['', 'usr', 'local', 'bin', 'python']"
   ]
  },
  {
   "cell_type": "code",
   "execution_count": 81,
   "id": "3b344087",
   "metadata": {},
   "outputs": [
    {
     "name": "stdout",
     "output_type": "stream",
     "text": [
      "['', 'usr', 'local', 'bin', 'python']\n"
     ]
    }
   ],
   "source": [
    "s = '/usr/local/bin/python'\n",
    "print(s.split('/'))"
   ]
  },
  {
   "cell_type": "markdown",
   "id": "67d11b47",
   "metadata": {},
   "source": [
    "문제3)  \n",
    "'spam ham'을 'ham spam'으로 치환하세요.\n",
    "\n",
    "※문자열의 split( )과 join( )메서드 그리고 리스트의 reverse( )메서드를 사용"
   ]
  },
  {
   "cell_type": "code",
   "execution_count": 86,
   "id": "0a60b2c3",
   "metadata": {},
   "outputs": [
    {
     "name": "stdout",
     "output_type": "stream",
     "text": [
      "['spam', 'ham']\n",
      "['ham', 'spam']\n",
      "ham spam\n",
      "<class 'str'>\n"
     ]
    }
   ],
   "source": [
    "a = 'spam ham'\n",
    "b = a.split()\n",
    "print(b)\n",
    "\n",
    "b.reverse()\n",
    "print(b)\n",
    "\n",
    "c = ' '.join(b)\n",
    "\n",
    "print(c)\n",
    "print(type(c))"
   ]
  },
  {
   "cell_type": "markdown",
   "id": "a507b672",
   "metadata": {},
   "source": [
    "문제4)\n",
    "문자열이 주어져 있을 때 'spam' 이 몇 번 나타나는지 구하시오.\n",
    "단, 대소문자 구분하지 않음\n",
    "\n",
    "s = 'spam Spam SpaM egg eGG Egg ham hAm'"
   ]
  },
  {
   "cell_type": "code",
   "execution_count": 89,
   "id": "ec70ebb5",
   "metadata": {},
   "outputs": [
    {
     "data": {
      "text/plain": [
       "3"
      ]
     },
     "execution_count": 89,
     "metadata": {},
     "output_type": "execute_result"
    }
   ],
   "source": [
    "s = 'spam Spam SpaM egg eGG Egg ham hAm'\n",
    "s.lower().count('spam')"
   ]
  },
  {
   "cell_type": "markdown",
   "id": "d405a42e",
   "metadata": {},
   "source": [
    "문제5)  \n",
    "단어의 순서가 바뀐 문자열로 만들세요.  \n",
    "s = 'Sometimes I feel like a motherless child'  \n",
    "\n",
    "[실행결과]  \n",
    "'child motherless a like feel I Sometimes'  \n",
    "'dlihc sselrehtom a ekil leef I semitemoS'  \n",
    "'SometimesIfeellikeamotherlesschild' "
   ]
  },
  {
   "cell_type": "code",
   "execution_count": null,
   "id": "c088af27",
   "metadata": {},
   "outputs": [
    {
     "data": {
      "text/plain": [
       "'child motherless a like feel I Sometimes'"
      ]
     },
     "execution_count": 90,
     "metadata": {},
     "output_type": "execute_result"
    }
   ],
   "source": [
    "# 단어의 순서 바꾸기\n",
    "s = 'Sometimes I feel like a motherless child'\n",
    "\n",
    "p = s.split()\n",
    "p.reverse()\n",
    "' '.join(p)"
   ]
  },
  {
   "cell_type": "code",
   "execution_count": 91,
   "id": "0d854498",
   "metadata": {},
   "outputs": [
    {
     "data": {
      "text/plain": [
       "'dlihc sselrehtom a ekil leef I semitemoS'"
      ]
     },
     "execution_count": 91,
     "metadata": {},
     "output_type": "execute_result"
    }
   ],
   "source": [
    "# 문자열의 순서 뒤집기\n",
    "s = 'Sometimes I feel like a motherless child'\n",
    "s[::-1]"
   ]
  },
  {
   "cell_type": "code",
   "execution_count": 92,
   "id": "847a8f8f",
   "metadata": {},
   "outputs": [
    {
     "data": {
      "text/plain": [
       "'SometimesIfeellikeamotherlesschild'"
      ]
     },
     "execution_count": 92,
     "metadata": {},
     "output_type": "execute_result"
    }
   ],
   "source": [
    "# 공백의 없애기\n",
    "s = 'Sometimes I feel like a motherless child'\n",
    "p = s.split()\n",
    "''.join(p)\n",
    "\n"
   ]
  },
  {
   "cell_type": "code",
   "execution_count": 93,
   "id": "f30d6b63",
   "metadata": {},
   "outputs": [
    {
     "data": {
      "text/plain": [
       "'SometimesIfeellikeamotherlesschild'"
      ]
     },
     "execution_count": 93,
     "metadata": {},
     "output_type": "execute_result"
    }
   ],
   "source": [
    "s = 'Sometimes I feel like a motherless child'\n",
    "s.replace(' ','')"
   ]
  },
  {
   "cell_type": "markdown",
   "id": "7421463b",
   "metadata": {},
   "source": [
    "## 리스트(list)\n",
    " - 시퀀스(Sequence)자료형으로 데이터의 크기나 원소값을 변경할 수 있다.\n",
    " - 리스트는 [ ]대괄호로 표현한다."
   ]
  },
  {
   "cell_type": "code",
   "execution_count": 96,
   "id": "7ad8c5df",
   "metadata": {},
   "outputs": [
    {
     "name": "stdout",
     "output_type": "stream",
     "text": [
      "[]\n",
      "<class 'list'>\n",
      "['__add__', '__class__', '__class_getitem__', '__contains__', '__delattr__', '__delitem__', '__dir__', '__doc__', '__eq__', '__format__', '__ge__', '__getattribute__', '__getitem__', '__getstate__', '__gt__', '__hash__', '__iadd__', '__imul__', '__init__', '__init_subclass__', '__iter__', '__le__', '__len__', '__lt__', '__mul__', '__ne__', '__new__', '__reduce__', '__reduce_ex__', '__repr__', '__reversed__', '__rmul__', '__setattr__', '__setitem__', '__sizeof__', '__str__', '__subclasshook__', 'append', 'clear', 'copy', 'count', 'extend', 'index', 'insert', 'pop', 'remove', 'reverse', 'sort']\n"
     ]
    }
   ],
   "source": [
    "a= []\n",
    "print(a)\n",
    "print(type(a))\n",
    "print(dir(a))"
   ]
  },
  {
   "cell_type": "code",
   "execution_count": 97,
   "id": "ddac3eff",
   "metadata": {},
   "outputs": [
    {
     "name": "stdout",
     "output_type": "stream",
     "text": [
      "[10, 20, 30]\n"
     ]
    }
   ],
   "source": [
    "a= [10, 20, 30]\n",
    "print(a)"
   ]
  },
  {
   "cell_type": "code",
   "execution_count": null,
   "id": "ccddb102",
   "metadata": {},
   "outputs": [
    {
     "data": {
      "text/plain": [
       "10"
      ]
     },
     "execution_count": 98,
     "metadata": {},
     "output_type": "execute_result"
    }
   ],
   "source": [
    "# indexing\n",
    "a[0]"
   ]
  },
  {
   "cell_type": "code",
   "execution_count": null,
   "id": "7474e508",
   "metadata": {},
   "outputs": [
    {
     "data": {
      "text/plain": [
       "[10, 20, 30]"
      ]
     },
     "execution_count": 99,
     "metadata": {},
     "output_type": "execute_result"
    }
   ],
   "source": [
    "# slicing\n",
    "a[0:]  # a[:]"
   ]
  },
  {
   "cell_type": "code",
   "execution_count": 100,
   "id": "45ef84cf",
   "metadata": {},
   "outputs": [
    {
     "data": {
      "text/plain": [
       "[30, 20, 10]"
      ]
     },
     "execution_count": 100,
     "metadata": {},
     "output_type": "execute_result"
    }
   ],
   "source": [
    "a[::-1]"
   ]
  },
  {
   "cell_type": "code",
   "execution_count": 101,
   "id": "c1d9dd87",
   "metadata": {},
   "outputs": [
    {
     "data": {
      "text/plain": [
       "[10, 20]"
      ]
     },
     "execution_count": 101,
     "metadata": {},
     "output_type": "execute_result"
    }
   ],
   "source": [
    "a[0:2:1]"
   ]
  },
  {
   "cell_type": "code",
   "execution_count": 104,
   "id": "fe5d2bae",
   "metadata": {},
   "outputs": [
    {
     "data": {
      "text/plain": [
       "[10, 20]"
      ]
     },
     "execution_count": 104,
     "metadata": {},
     "output_type": "execute_result"
    }
   ],
   "source": [
    "a[-3: -1 : 1]"
   ]
  },
  {
   "cell_type": "code",
   "execution_count": 105,
   "id": "1f3a865f",
   "metadata": {},
   "outputs": [
    {
     "data": {
      "text/plain": [
       "[30, 20]"
      ]
     },
     "execution_count": 105,
     "metadata": {},
     "output_type": "execute_result"
    }
   ],
   "source": [
    "a[-1:-3:-1]"
   ]
  },
  {
   "cell_type": "code",
   "execution_count": 106,
   "id": "587e20bc",
   "metadata": {},
   "outputs": [
    {
     "data": {
      "text/plain": [
       "[5, 10, 15, 20, 25, 30]"
      ]
     },
     "execution_count": 106,
     "metadata": {},
     "output_type": "execute_result"
    }
   ],
   "source": [
    "a = [5, 10, 15, 20, 25, 30]\n",
    "a"
   ]
  },
  {
   "cell_type": "code",
   "execution_count": 107,
   "id": "8890c263",
   "metadata": {},
   "outputs": [
    {
     "data": {
      "text/plain": [
       "[20, 25, 30]"
      ]
     },
     "execution_count": 107,
     "metadata": {},
     "output_type": "execute_result"
    }
   ],
   "source": [
    "a[3:]"
   ]
  },
  {
   "cell_type": "code",
   "execution_count": 108,
   "id": "6a078694",
   "metadata": {},
   "outputs": [
    {
     "data": {
      "text/plain": [
       "[20, 30]"
      ]
     },
     "execution_count": 108,
     "metadata": {},
     "output_type": "execute_result"
    }
   ],
   "source": [
    "a[3::2]"
   ]
  },
  {
   "cell_type": "code",
   "execution_count": null,
   "id": "4249b39f",
   "metadata": {},
   "outputs": [
    {
     "data": {
      "text/plain": [
       "[5, 15]"
      ]
     },
     "execution_count": 109,
     "metadata": {},
     "output_type": "execute_result"
    }
   ],
   "source": [
    "a[:3:2]  "
   ]
  },
  {
   "cell_type": "code",
   "execution_count": null,
   "id": "73ffff4d",
   "metadata": {},
   "outputs": [
    {
     "data": {
      "text/plain": [
       "[15, 10]"
      ]
     },
     "execution_count": 110,
     "metadata": {},
     "output_type": "execute_result"
    }
   ],
   "source": [
    "a[2:0:-1] "
   ]
  },
  {
   "cell_type": "markdown",
   "id": "f22108d0",
   "metadata": {},
   "source": [
    "list는 다양한 타입을 함께 포함할 수 있다."
   ]
  },
  {
   "cell_type": "code",
   "execution_count": null,
   "id": "a3378d5e",
   "metadata": {},
   "outputs": [
    {
     "name": "stdout",
     "output_type": "stream",
     "text": [
      "[10, 'python', 80.5, True]\n"
     ]
    }
   ],
   "source": [
    "a = [10, 'python', 80.5, True]\n",
    "print(a)"
   ]
  },
  {
   "cell_type": "code",
   "execution_count": null,
   "id": "799e8f79",
   "metadata": {},
   "outputs": [
    {
     "name": "stdout",
     "output_type": "stream",
     "text": [
      "[[10, 20], (10, 20), {200, 100}, {'x': 5, 'y': 8}]\n"
     ]
    }
   ],
   "source": [
    "a = [[10, 20], (10,20), {100,200}, {'x':5, 'y':8}] #[list, tuple, set, dict]\n",
    "print(a)"
   ]
  },
  {
   "cell_type": "markdown",
   "id": "ed287bec",
   "metadata": {},
   "source": [
    "list는 (+)연산자를 사용하여 연결하기를 할 수 있다."
   ]
  },
  {
   "cell_type": "code",
   "execution_count": 114,
   "id": "281da1e2",
   "metadata": {},
   "outputs": [
    {
     "data": {
      "text/plain": [
       "[1, 2, 1, 2]"
      ]
     },
     "execution_count": 114,
     "metadata": {},
     "output_type": "execute_result"
    }
   ],
   "source": [
    "a = [1,2]\n",
    "a + a"
   ]
  },
  {
   "cell_type": "code",
   "execution_count": 115,
   "id": "95f61911",
   "metadata": {},
   "outputs": [
    {
     "ename": "TypeError",
     "evalue": "can only concatenate list (not \"int\") to list",
     "output_type": "error",
     "traceback": [
      "\u001b[31m---------------------------------------------------------------------------\u001b[39m",
      "\u001b[31mTypeError\u001b[39m                                 Traceback (most recent call last)",
      "\u001b[36mCell\u001b[39m\u001b[36m \u001b[39m\u001b[32mIn[115]\u001b[39m\u001b[32m, line 1\u001b[39m\n\u001b[32m----> \u001b[39m\u001b[32m1\u001b[39m \u001b[43ma\u001b[49m\u001b[43m \u001b[49m\u001b[43m+\u001b[49m\u001b[43m \u001b[49m\u001b[32;43m2\u001b[39;49m\n",
      "\u001b[31mTypeError\u001b[39m: can only concatenate list (not \"int\") to list"
     ]
    }
   ],
   "source": [
    "a + 2"
   ]
  },
  {
   "cell_type": "markdown",
   "id": "bcf86300",
   "metadata": {},
   "source": [
    "list는 (*)연산자를 사용하여 반복하기를 할 수 있다."
   ]
  },
  {
   "cell_type": "code",
   "execution_count": 117,
   "id": "010c38ea",
   "metadata": {},
   "outputs": [
    {
     "data": {
      "text/plain": [
       "[1, 2, 1, 2, 1, 2]"
      ]
     },
     "execution_count": 117,
     "metadata": {},
     "output_type": "execute_result"
    }
   ],
   "source": [
    "a * 3"
   ]
  },
  {
   "cell_type": "markdown",
   "id": "20a0d1b2",
   "metadata": {},
   "source": [
    "list에서 특정값이 있는지 멤버검사를 할 수 있다."
   ]
  },
  {
   "cell_type": "code",
   "execution_count": 119,
   "id": "74aae6bd",
   "metadata": {},
   "outputs": [
    {
     "name": "stdout",
     "output_type": "stream",
     "text": [
      "True\n",
      "False\n"
     ]
    }
   ],
   "source": [
    "a = [1, 5, 8, 10]\n",
    "print(5 in a)\n",
    "print(3 in a)"
   ]
  },
  {
   "cell_type": "markdown",
   "id": "4121ff36",
   "metadata": {},
   "source": [
    "list는 mutable이므로 요소들을 변경할 수 있다."
   ]
  },
  {
   "cell_type": "code",
   "execution_count": 123,
   "id": "6e36755b",
   "metadata": {},
   "outputs": [
    {
     "name": "stdout",
     "output_type": "stream",
     "text": [
      "['apple', 'banana', 100, 200]\n",
      "[1, 2, 100, 200]\n"
     ]
    }
   ],
   "source": [
    "a = ['apple', 'banana', 100, 200]\n",
    "print(a)\n",
    "\n",
    "#a[0] = 1\n",
    "#a[1] = 2\n",
    "a[0:2] = [1, 2]\n",
    "print(a)"
   ]
  },
  {
   "cell_type": "code",
   "execution_count": 126,
   "id": "ae28ce66",
   "metadata": {},
   "outputs": [
    {
     "name": "stdout",
     "output_type": "stream",
     "text": [
      "['apple', 'banana', 100, 200]\n",
      "[50, 100, 200]\n"
     ]
    }
   ],
   "source": [
    "a = ['apple', 'banana', 100, 200]\n",
    "print(a)\n",
    "\n",
    "a[0:2] = [50]\n",
    "print(a)"
   ]
  },
  {
   "cell_type": "code",
   "execution_count": null,
   "id": "1e0ce874",
   "metadata": {},
   "outputs": [
    {
     "name": "stdout",
     "output_type": "stream",
     "text": [
      "['apple', 'banana', 100, 200]\n",
      "[300, 400, 500, 'banana', 100, 200]\n"
     ]
    }
   ],
   "source": [
    "a = ['apple', 'banana', 100, 200]\n",
    "print(a)\n",
    "\n",
    "a[0:1] = [300, 400, 500]\n",
    "print(a)"
   ]
  },
  {
   "cell_type": "markdown",
   "id": "52dac5a1",
   "metadata": {},
   "source": [
    "list의 일부 요소를 삭제할 수 있다."
   ]
  },
  {
   "cell_type": "code",
   "execution_count": null,
   "id": "e704e98a",
   "metadata": {},
   "outputs": [
    {
     "name": "stdout",
     "output_type": "stream",
     "text": [
      "['apple', 'banana', 100, 200]\n",
      "[100, 200]\n"
     ]
    }
   ],
   "source": [
    "a = ['apple', 'banana', 100, 200]\n",
    "print(a)\n",
    "\n",
    "a[0:2] = [] # 0부터 2미만의 요소가 삭제된다.\n",
    "print(a)"
   ]
  },
  {
   "cell_type": "code",
   "execution_count": null,
   "id": "34218843",
   "metadata": {},
   "outputs": [
    {
     "name": "stdout",
     "output_type": "stream",
     "text": [
      "['apple', 'banana', 100, 200]\n",
      "[100, 200]\n"
     ]
    }
   ],
   "source": [
    "a = ['apple', 'banana', 100, 200]\n",
    "print(a)\n",
    "\n",
    "del a[0:2] # 0부터 2미만의 요소가 삭제된다.\n",
    "print(a)"
   ]
  },
  {
   "cell_type": "markdown",
   "id": "bdab4c99",
   "metadata": {},
   "source": [
    "list 요소의 값을 추가할 수 있다."
   ]
  },
  {
   "cell_type": "code",
   "execution_count": null,
   "id": "efdad1cc",
   "metadata": {},
   "outputs": [
    {
     "name": "stdout",
     "output_type": "stream",
     "text": [
      "[3, 6, 9]\n",
      "[]\n",
      "[3, 'red', 'green', 6, 9]\n"
     ]
    }
   ],
   "source": [
    "a = [3, 6, 9]\n",
    "print(a)\n",
    "print(a[1:1])\n",
    "a[1:1] = ['red', 'green']  #슬라이싱[start:end]\n",
    "print(a)"
   ]
  },
  {
   "cell_type": "code",
   "execution_count": null,
   "id": "af8ddd8e",
   "metadata": {},
   "outputs": [
    {
     "name": "stdout",
     "output_type": "stream",
     "text": [
      "[3, 6, 9]\n",
      "[3, ['red', 'green'], 9]\n"
     ]
    }
   ],
   "source": [
    "a = [3, 6, 9]\n",
    "print(a)\n",
    "\n",
    "a[1] = ['red', 'green'] # indexing\n",
    "print(a)"
   ]
  },
  {
   "cell_type": "code",
   "execution_count": null,
   "id": "a50cb6f1",
   "metadata": {},
   "outputs": [
    {
     "name": "stdout",
     "output_type": "stream",
     "text": [
      "[3, 6, 9]\n",
      "[3, 6, 9, ['red', 'green']]\n"
     ]
    }
   ],
   "source": [
    "a = [3, 6, 9]\n",
    "print(a)\n",
    "\n",
    "a.append(['red', 'green'])  # 추가\n",
    "print(a)"
   ]
  },
  {
   "cell_type": "code",
   "execution_count": 135,
   "id": "c97122d6",
   "metadata": {},
   "outputs": [
    {
     "name": "stdout",
     "output_type": "stream",
     "text": [
      "[3, 6, 9]\n",
      "[3, ['red', 'green'], 6, 9]\n"
     ]
    }
   ],
   "source": [
    "a = [3, 6, 9]\n",
    "print(a)\n",
    "\n",
    "a.insert(1, ['red', 'green'])\n",
    "print(a)"
   ]
  },
  {
   "cell_type": "markdown",
   "id": "d59627bd",
   "metadata": {},
   "source": [
    "list에서 확장슬라이싱을 사용할때는 왼쪽과 오른쪽 요소 갯수가 같아야 한다."
   ]
  },
  {
   "cell_type": "code",
   "execution_count": 137,
   "id": "e5c9845e",
   "metadata": {},
   "outputs": [
    {
     "name": "stdout",
     "output_type": "stream",
     "text": [
      "[2, 4, 6, 8]\n",
      "[-1, -2, -3, -4]\n",
      "[-1, -2, -3, -4, -5]\n"
     ]
    }
   ],
   "source": [
    "a = [2, 4, 6, 8]\n",
    "print(a)\n",
    "\n",
    "a[:] = [-1, -2, -3, -4]\n",
    "print(a)\n",
    "\n",
    "a[:] = [-1, -2, -3, -4, -5]\n",
    "print(a)"
   ]
  },
  {
   "cell_type": "code",
   "execution_count": 140,
   "id": "96a3551a",
   "metadata": {},
   "outputs": [
    {
     "name": "stdout",
     "output_type": "stream",
     "text": [
      "[2, 4, 6, 8]\n",
      "[-1, -2, -3, -4]\n",
      "[-1, -2, -3, -4, -5]\n"
     ]
    }
   ],
   "source": [
    "a = [2, 4, 6, 8]\n",
    "print(a)\n",
    "\n",
    "a[: :1 ] = [-1, -2, -3, -4]\n",
    "print(a)\n",
    "\n",
    "a[: : 1] = [-1, -2, -3, -4, -5]\n",
    "print(a)"
   ]
  },
  {
   "cell_type": "code",
   "execution_count": null,
   "id": "56127f71",
   "metadata": {},
   "outputs": [
    {
     "name": "stdout",
     "output_type": "stream",
     "text": [
      "[2, 4, 6, 8]\n",
      "[2, 6]\n"
     ]
    },
    {
     "ename": "ValueError",
     "evalue": "attempt to assign sequence of size 4 to extended slice of size 2",
     "output_type": "error",
     "traceback": [
      "\u001b[31m---------------------------------------------------------------------------\u001b[39m",
      "\u001b[31mValueError\u001b[39m                                Traceback (most recent call last)",
      "\u001b[36mCell\u001b[39m\u001b[36m \u001b[39m\u001b[32mIn[142]\u001b[39m\u001b[32m, line 6\u001b[39m\n\u001b[32m      2\u001b[39m \u001b[38;5;28mprint\u001b[39m(a)\n\u001b[32m      4\u001b[39m \u001b[38;5;28mprint\u001b[39m(a[: :\u001b[32m2\u001b[39m ])\n\u001b[32m----> \u001b[39m\u001b[32m6\u001b[39m \u001b[43ma\u001b[49m\u001b[43m[\u001b[49m\u001b[43m:\u001b[49m\u001b[43m \u001b[49m\u001b[43m:\u001b[49m\u001b[32;43m2\u001b[39;49m\u001b[43m \u001b[49m\u001b[43m]\u001b[49m = [-\u001b[32m1\u001b[39m, -\u001b[32m2\u001b[39m, -\u001b[32m3\u001b[39m, -\u001b[32m4\u001b[39m]\n\u001b[32m      7\u001b[39m \u001b[38;5;28mprint\u001b[39m(a)\n\u001b[32m      9\u001b[39m a[: : \u001b[32m2\u001b[39m] = [-\u001b[32m1\u001b[39m, -\u001b[32m2\u001b[39m, -\u001b[32m3\u001b[39m, -\u001b[32m4\u001b[39m, -\u001b[32m5\u001b[39m]\n",
      "\u001b[31mValueError\u001b[39m: attempt to assign sequence of size 4 to extended slice of size 2"
     ]
    }
   ],
   "source": [
    "a = [2, 4, 6, 8]\n",
    "print(a)\n",
    "\n",
    "print(a[: :2 ])\n",
    "\n",
    "a[: :2 ] = [-1, -2, -3, -4]\n",
    "print(a)\n",
    "\n"
   ]
  },
  {
   "cell_type": "code",
   "execution_count": null,
   "id": "aa355e94",
   "metadata": {},
   "outputs": [
    {
     "name": "stdout",
     "output_type": "stream",
     "text": [
      "[2, 4, 6, 8]\n",
      "[2, 6]\n",
      "[-1, 4, -2, 8]\n"
     ]
    }
   ],
   "source": [
    "a = [2, 4, 6, 8]\n",
    "print(a)\n",
    "\n",
    "print(a[: :2 ])\n",
    "\n",
    "a[: :2 ] = [-1, -2]  #[2,6] 이 저장된 자리에 [-1, -2]의 요소를 대체한다.\n",
    "print(a)\n"
   ]
  },
  {
   "cell_type": "markdown",
   "id": "e0211729",
   "metadata": {},
   "source": [
    "# list는 한 변수에서 데이터를 각각 꺼내는 언팩킹(unpacking)지원을 한다."
   ]
  },
  {
   "cell_type": "code",
   "execution_count": 147,
   "id": "57802de2",
   "metadata": {},
   "outputs": [
    {
     "name": "stdout",
     "output_type": "stream",
     "text": [
      "['apple', 'mango', 'grape', 'banana']\n",
      "apple mango grape banana\n",
      "<class 'str'> <class 'str'> <class 'str'> <class 'str'>\n"
     ]
    }
   ],
   "source": [
    "fruits = ['apple', 'mango', 'grape', 'banana']\n",
    "print(fruits)\n",
    "\n",
    "zero, one, two, three = fruits\n",
    "print(zero, one, two, three)\n",
    "print(type(zero), type(one), type(two), type(three))"
   ]
  },
  {
   "cell_type": "code",
   "execution_count": 148,
   "id": "ccde24ca",
   "metadata": {},
   "outputs": [
    {
     "name": "stdout",
     "output_type": "stream",
     "text": [
      "['apple', 'mango', 'grape', 'banana']\n",
      "apple\n"
     ]
    }
   ],
   "source": [
    "fruits = ['apple', 'mango', 'grape', 'banana']\n",
    "print(fruits)\n",
    "\n",
    "zero, _, _, _ = fruits\n",
    "print(zero)"
   ]
  },
  {
   "cell_type": "code",
   "execution_count": 151,
   "id": "16db29f1",
   "metadata": {},
   "outputs": [
    {
     "name": "stdout",
     "output_type": "stream",
     "text": [
      "['apple', 'mango', 'grape', 'banana']\n",
      "apple ['mango', 'grape', 'banana']\n",
      "<class 'str'> <class 'list'>\n"
     ]
    }
   ],
   "source": [
    "fruits = ['apple', 'mango', 'grape', 'banana']\n",
    "print(fruits)\n",
    "\n",
    "zero, *y = fruits\n",
    "print(zero, y)\n",
    "print(type(zero), type(y))"
   ]
  },
  {
   "cell_type": "code",
   "execution_count": 153,
   "id": "5c81867b",
   "metadata": {},
   "outputs": [
    {
     "name": "stdout",
     "output_type": "stream",
     "text": [
      "['apple', 'mango', 'grape', 'banana']\n",
      "['apple', 'mango', 'grape'] banana\n",
      "<class 'list'> <class 'str'>\n"
     ]
    }
   ],
   "source": [
    "fruits = ['apple', 'mango', 'grape', 'banana']\n",
    "print(fruits)\n",
    "\n",
    "*x, y = fruits\n",
    "print(x, y)\n",
    "print(type(x), type(y))"
   ]
  },
  {
   "cell_type": "code",
   "execution_count": 154,
   "id": "e5c98fc2",
   "metadata": {},
   "outputs": [
    {
     "name": "stdout",
     "output_type": "stream",
     "text": [
      "['apple', 'mango', 'grape', 'banana']\n",
      "apple ['mango', 'grape'] banana\n",
      "<class 'str'> <class 'list'> <class 'str'>\n"
     ]
    }
   ],
   "source": [
    "fruits = ['apple', 'mango', 'grape', 'banana']\n",
    "print(fruits)\n",
    "\n",
    "x, *y, z = fruits\n",
    "print(x, y, z)\n",
    "print(type(x), type(y), type(z))"
   ]
  },
  {
   "cell_type": "code",
   "execution_count": null,
   "id": "b24d057a",
   "metadata": {},
   "outputs": [
    {
     "name": "stdout",
     "output_type": "stream",
     "text": [
      "['apple', 'mango', 'grape', 'banana']\n"
     ]
    },
    {
     "ename": "SyntaxError",
     "evalue": "multiple starred expressions in assignment (2786534749.py, line 4)",
     "output_type": "error",
     "traceback": [
      "  \u001b[36mCell\u001b[39m\u001b[36m \u001b[39m\u001b[32mIn[155]\u001b[39m\u001b[32m, line 4\u001b[39m\n\u001b[31m    \u001b[39m\u001b[31mx, *y, *z = fruits\u001b[39m\n    ^\n\u001b[31mSyntaxError\u001b[39m\u001b[31m:\u001b[39m multiple starred expressions in assignment\n"
     ]
    }
   ],
   "source": [
    "fruits = ['apple', 'mango', 'grape', 'banana']\n",
    "print(fruits)\n",
    "\n",
    "x, *y, *z = fruits   # (*)은 한번만 사용할 수 있다.\n",
    "print(x, y, z)\n",
    "print(type(x), type(y), type(z))"
   ]
  },
  {
   "cell_type": "code",
   "execution_count": 157,
   "id": "cc2395e2",
   "metadata": {},
   "outputs": [
    {
     "name": "stdout",
     "output_type": "stream",
     "text": [
      "<class 'list'>\n",
      "['__add__', '__class__', '__class_getitem__', '__contains__', '__delattr__', '__delitem__', '__dir__', '__doc__', '__eq__', '__format__', '__ge__', '__getattribute__', '__getitem__', '__getstate__', '__gt__', '__hash__', '__iadd__', '__imul__', '__init__', '__init_subclass__', '__iter__', '__le__', '__len__', '__lt__', '__mul__', '__ne__', '__new__', '__reduce__', '__reduce_ex__', '__repr__', '__reversed__', '__rmul__', '__setattr__', '__setitem__', '__sizeof__', '__str__', '__subclasshook__', 'append', 'clear', 'copy', 'count', 'extend', 'index', 'insert', 'pop', 'remove', 'reverse', 'sort']\n"
     ]
    }
   ],
   "source": [
    "a = [1, 2, 3]\n",
    "print(type(a))\n",
    "print(dir(a))"
   ]
  },
  {
   "cell_type": "code",
   "execution_count": 159,
   "id": "6e8a71d7",
   "metadata": {},
   "outputs": [
    {
     "name": "stdout",
     "output_type": "stream",
     "text": [
      "[1, 2, 3, 4]\n"
     ]
    }
   ],
   "source": [
    "a = [1, 2, 3]\n",
    "a.append(4) # 요소 추가\n",
    "print(a)"
   ]
  },
  {
   "cell_type": "code",
   "execution_count": null,
   "id": "a32de6e6",
   "metadata": {},
   "outputs": [
    {
     "name": "stdout",
     "output_type": "stream",
     "text": [
      "[3, 2, 1]\n"
     ]
    }
   ],
   "source": [
    "a = [1, 2, 3]\n",
    "a.reverse()  # 치환\n",
    "print(a)"
   ]
  },
  {
   "cell_type": "code",
   "execution_count": null,
   "id": "6531b138",
   "metadata": {},
   "outputs": [
    {
     "name": "stdout",
     "output_type": "stream",
     "text": [
      "0\n"
     ]
    }
   ],
   "source": [
    "a = [1, 2, 3]\n",
    "\n",
    "print(a.index(1)) # 1숫자가 저장된 인덱스 리턴"
   ]
  },
  {
   "cell_type": "code",
   "execution_count": null,
   "id": "b266fd29",
   "metadata": {},
   "outputs": [
    {
     "name": "stdout",
     "output_type": "stream",
     "text": [
      "[1, 10, 2, 3]\n"
     ]
    }
   ],
   "source": [
    "a = [1, 2, 3]\n",
    "a.insert(1,10) # 1인덱스에 20요소를 삽입한다.\n",
    "print(a)"
   ]
  },
  {
   "cell_type": "code",
   "execution_count": null,
   "id": "0a1008ae",
   "metadata": {},
   "outputs": [
    {
     "name": "stdout",
     "output_type": "stream",
     "text": [
      "[2, 3]\n"
     ]
    }
   ],
   "source": [
    "a = [1, 2, 3]\n",
    "a.remove(1)  # 1요소를  삭제한다.  remove(value)\n",
    "print(a)"
   ]
  },
  {
   "cell_type": "code",
   "execution_count": null,
   "id": "41494633",
   "metadata": {},
   "outputs": [
    {
     "name": "stdout",
     "output_type": "stream",
     "text": [
      "[1, 3, 2, 2]\n",
      "None\n"
     ]
    }
   ],
   "source": [
    "a = [1, 2, 3, 2, 2]\n",
    "b = a.remove(2) # 처음에 있는 2요소만 삭제한다. remove(value) 리턴값이 없다.\n",
    "print(a)\n",
    "print(b)"
   ]
  },
  {
   "cell_type": "code",
   "execution_count": 168,
   "id": "6fcd6771",
   "metadata": {},
   "outputs": [
    {
     "name": "stdout",
     "output_type": "stream",
     "text": [
      "[1, 3]\n"
     ]
    }
   ],
   "source": [
    "for x in a:\n",
    "    if x==2:\n",
    "        a.remove(x)\n",
    "\n",
    "print(a)"
   ]
  },
  {
   "cell_type": "code",
   "execution_count": null,
   "id": "f526767f",
   "metadata": {},
   "outputs": [
    {
     "name": "stdout",
     "output_type": "stream",
     "text": [
      "3\n"
     ]
    }
   ],
   "source": [
    "a = [1, 2, 3]\n",
    "b = a.pop()  # 끝인덱스부터 삭제가 되고 리턴값이 있다.\n",
    "print(b)"
   ]
  },
  {
   "cell_type": "code",
   "execution_count": 171,
   "id": "41df30b4",
   "metadata": {},
   "outputs": [
    {
     "name": "stdout",
     "output_type": "stream",
     "text": [
      "2\n",
      "[1, 3]\n"
     ]
    }
   ],
   "source": [
    "a = [1, 2, 3]\n",
    "b = a.pop(1)  # 1인덱스의 요소를 제거한다.\n",
    "print(b)\n",
    "print(a)"
   ]
  },
  {
   "cell_type": "code",
   "execution_count": 173,
   "id": "dfeea12d",
   "metadata": {},
   "outputs": [
    {
     "name": "stdout",
     "output_type": "stream",
     "text": [
      "2\n"
     ]
    }
   ],
   "source": [
    "a = [1, 2, 3, 1]\n",
    "print(a.count(1)) # 요소가 1인 개수를 리턴한다."
   ]
  },
  {
   "cell_type": "code",
   "execution_count": null,
   "id": "50967969",
   "metadata": {},
   "outputs": [
    {
     "name": "stdout",
     "output_type": "stream",
     "text": [
      "[1, 2, 3, 4, 5]\n"
     ]
    }
   ],
   "source": [
    "a = [1, 2, 3]\n",
    "a.extend([4,5]) # list을 확장해서 리턴한다.  (+)연산자하고는 다르고, a+=와 같은 의미이다.\n",
    "print(a)"
   ]
  },
  {
   "cell_type": "code",
   "execution_count": null,
   "id": "9dc7a7e0",
   "metadata": {},
   "outputs": [
    {
     "name": "stdout",
     "output_type": "stream",
     "text": [
      "[1, 2, 3]\n",
      "[1, 2, 3, 4, 5]\n"
     ]
    }
   ],
   "source": [
    "a = [1, 2, 3]\n",
    "b = a+[4,5]  # b = a + [4,5]\n",
    "print(a)\n",
    "print(b)"
   ]
  },
  {
   "cell_type": "code",
   "execution_count": null,
   "id": "bc81416b",
   "metadata": {},
   "outputs": [
    {
     "name": "stdout",
     "output_type": "stream",
     "text": [
      "[1, 2, 3, 4, 5]\n"
     ]
    }
   ],
   "source": [
    "a = [1, 2, 3]\n",
    "a = a+[4,5]  # a += [4,5]\n",
    "print(a)\n"
   ]
  },
  {
   "cell_type": "markdown",
   "id": "9d15215f",
   "metadata": {},
   "source": [
    "## Tuple(튜플)\n",
    " - 변경이 불가능(immutable)한 순서(sequence)가 있는 자료형이다.\n",
    " - 튜플은 ( )소괄호로 표현한다."
   ]
  },
  {
   "cell_type": "code",
   "execution_count": null,
   "id": "6a1f5a24",
   "metadata": {},
   "outputs": [
    {
     "name": "stdout",
     "output_type": "stream",
     "text": [
      "<class 'tuple'>\n",
      "['__add__', '__class__', '__class_getitem__', '__contains__', '__delattr__', '__dir__', '__doc__', '__eq__', '__format__', '__ge__', '__getattribute__', '__getitem__', '__getnewargs__', '__getstate__', '__gt__', '__hash__', '__init__', '__init_subclass__', '__iter__', '__le__', '__len__', '__lt__', '__mul__', '__ne__', '__new__', '__reduce__', '__reduce_ex__', '__repr__', '__rmul__', '__setattr__', '__sizeof__', '__str__', '__subclasshook__', 'count', 'index']\n"
     ]
    }
   ],
   "source": [
    "t = ()\n",
    "print(type(t))\n",
    "print(dir(t))"
   ]
  },
  {
   "cell_type": "code",
   "execution_count": 181,
   "id": "11b505a1",
   "metadata": {},
   "outputs": [
    {
     "name": "stdout",
     "output_type": "stream",
     "text": [
      "(10, 20, 30)\n"
     ]
    }
   ],
   "source": [
    "t = (10, 20, 30) # tuple은 콤마(,)를 구분하여 사용한다.\n",
    "print(t)"
   ]
  },
  {
   "cell_type": "code",
   "execution_count": null,
   "id": "570f905a",
   "metadata": {},
   "outputs": [
    {
     "name": "stdout",
     "output_type": "stream",
     "text": [
      "<class 'tuple'>\n"
     ]
    }
   ],
   "source": [
    "t = 10, 20, 30  #tuple은 ( )괄호를 생략할 수 있다.\n",
    "print(type(t))\n"
   ]
  },
  {
   "cell_type": "code",
   "execution_count": 183,
   "id": "b2c2848e",
   "metadata": {},
   "outputs": [
    {
     "name": "stdout",
     "output_type": "stream",
     "text": [
      "<class 'int'>\n"
     ]
    }
   ],
   "source": [
    "t = (1)\n",
    "print(type(t))"
   ]
  },
  {
   "cell_type": "code",
   "execution_count": null,
   "id": "c3dfc846",
   "metadata": {},
   "outputs": [
    {
     "name": "stdout",
     "output_type": "stream",
     "text": [
      "<class 'tuple'>\n",
      "<class 'tuple'>\n"
     ]
    }
   ],
   "source": [
    "# 요소가 한 개일 때는 반드시 쉼표(,)가 있어야 한다.\n",
    "# 괄호는 생략할 수 있지만 쉼표(,)는 있어야 한다.\n",
    "t = (1,)\n",
    "print(type(t))\n",
    "\n",
    "t = 1,\n",
    "print(type(t))"
   ]
  },
  {
   "cell_type": "code",
   "execution_count": null,
   "id": "fe726dea",
   "metadata": {},
   "outputs": [
    {
     "name": "stdout",
     "output_type": "stream",
     "text": [
      "(1, ('ko', 'en'), True)\n"
     ]
    }
   ],
   "source": [
    "# 튜플에서도 다양한 데이터 타입의 값을 저장할 수 있다.\n",
    "t = (1, ('ko', 'en'), True)\n",
    "print(t)"
   ]
  },
  {
   "cell_type": "code",
   "execution_count": null,
   "id": "f44474e7",
   "metadata": {},
   "outputs": [
    {
     "name": "stdout",
     "output_type": "stream",
     "text": [
      "<class 'tuple'>\n",
      "(1, 2, 3, 4, 5)\n"
     ]
    }
   ],
   "source": [
    "# 튜플에서 연결하기를 할 수 있다.\n",
    "t = (1, 2, 3) + (4, 5)\n",
    "print(type(t))\n",
    "print(t)"
   ]
  },
  {
   "cell_type": "code",
   "execution_count": null,
   "id": "0d2eb0c9",
   "metadata": {},
   "outputs": [
    {
     "name": "stdout",
     "output_type": "stream",
     "text": [
      "(1, 2, 3, 1, 2, 3)\n"
     ]
    }
   ],
   "source": [
    "# 튜플에서 반복하기를 할 수 있다. \n",
    "t = (1, 2, 3) * 2\n",
    "print(t)"
   ]
  },
  {
   "cell_type": "code",
   "execution_count": null,
   "id": "9b4d93a8",
   "metadata": {},
   "outputs": [
    {
     "name": "stdout",
     "output_type": "stream",
     "text": [
      "True\n",
      "False\n"
     ]
    }
   ],
   "source": [
    "# 튜플에서 멤버검사를 할 수 있다.\n",
    "t = (1, 2, 3)\n",
    "print(2 in t)\n",
    "print(4 in t)"
   ]
  },
  {
   "cell_type": "code",
   "execution_count": 193,
   "id": "9863a874",
   "metadata": {},
   "outputs": [
    {
     "name": "stdout",
     "output_type": "stream",
     "text": [
      "(5, 10, 15, 20, 25, 30)\n",
      "5\n",
      "(5, 10)\n"
     ]
    }
   ],
   "source": [
    "t = (5, 10, 15, 20, 25, 30)\n",
    "print(t)\n",
    "\n",
    "print(t[0])  # indexing\n",
    "print(t[0:2]) # slicing "
   ]
  },
  {
   "cell_type": "code",
   "execution_count": null,
   "id": "2464cd2b",
   "metadata": {},
   "outputs": [
    {
     "name": "stdout",
     "output_type": "stream",
     "text": [
      "(5, 10, 15, 20, 25, 30)\n",
      "5 10 [15, 20, 25, 30]\n"
     ]
    }
   ],
   "source": [
    "# tuple에서 언팩킹을 할 수 있다.\n",
    "t = (5, 10, 15, 20, 25, 30)\n",
    "print(t)\n",
    "\n",
    "\n",
    "x, y, *z = t  # 리스트, 튜플에서 나머지는 리스트로 리턴한다.\n",
    "print(x, y, z)\n"
   ]
  },
  {
   "cell_type": "code",
   "execution_count": 195,
   "id": "e7b9d6a2",
   "metadata": {},
   "outputs": [
    {
     "name": "stdout",
     "output_type": "stream",
     "text": [
      "(10, 15)\n",
      "(20, 25)\n"
     ]
    }
   ],
   "source": [
    "t = ((10, 15), (20, 25))\n",
    "x, y = t\n",
    "print(x)\n",
    "print(y)"
   ]
  },
  {
   "cell_type": "code",
   "execution_count": 198,
   "id": "4545d5d8",
   "metadata": {},
   "outputs": [
    {
     "name": "stdout",
     "output_type": "stream",
     "text": [
      "10\n",
      "15\n",
      "20\n",
      "25\n"
     ]
    }
   ],
   "source": [
    "t = ((10, 15), (20, 25))\n",
    "\n",
    "(x,y), (m, n) =t\n",
    "print(x)\n",
    "print(y)\n",
    "print(m)\n",
    "print(n)"
   ]
  },
  {
   "cell_type": "markdown",
   "id": "e1a1bfcb",
   "metadata": {},
   "source": [
    "tuple 메소드 제공(count, index 2개만 제공)"
   ]
  },
  {
   "cell_type": "code",
   "execution_count": null,
   "id": "4c62d1a9",
   "metadata": {},
   "outputs": [
    {
     "name": "stdout",
     "output_type": "stream",
     "text": [
      "1\n",
      "1\n",
      "2\n"
     ]
    }
   ],
   "source": [
    "t = (1, 2, 3, 4, 5)\n",
    "print(t.count(3)) # 3요소의 갯수 리턴\n",
    "print(t.index(2)) # 2요소의 인덱스 리턴 => 0인덱스부터 검색을 시작해서 2요소의 인덱스를 리턴\n",
    "print(t.index(3, 2)) # 2인덱스부터 3요소가 있는 인덱스를 리턴"
   ]
  },
  {
   "cell_type": "markdown",
   "id": "7d6d9066",
   "metadata": {},
   "source": [
    "##  tuple와 list 비교\n",
    " - 공통점\n",
    "   - 다양한 데이터 타입의 객체를 저장할 있고,  순서(sequence)자료형이다.\n",
    " - 차이점\n",
    "   - tuple은 변경불가능(immutable)이다.\n",
    "   - list은 변견가능(mutable)이다."
   ]
  },
  {
   "cell_type": "code",
   "execution_count": 203,
   "id": "7d5a861e",
   "metadata": {},
   "outputs": [
    {
     "name": "stdout",
     "output_type": "stream",
     "text": [
      "[1, 2, 3, 4, 5]\n",
      "<class 'list'>\n"
     ]
    }
   ],
   "source": [
    "# tuple을 list로 생성\n",
    "s = list(t)\n",
    "print(s)\n",
    "print(type(s))"
   ]
  },
  {
   "cell_type": "code",
   "execution_count": 204,
   "id": "3a4df3d8",
   "metadata": {},
   "outputs": [
    {
     "name": "stdout",
     "output_type": "stream",
     "text": [
      "(1, 2, 3, 4, 5)\n",
      "<class 'tuple'>\n"
     ]
    }
   ],
   "source": [
    "# list를 tuple로 생성\n",
    "p = tuple(s)\n",
    "print(p)\n",
    "print(type(p))"
   ]
  },
  {
   "cell_type": "code",
   "execution_count": null,
   "id": "91fc6a40",
   "metadata": {},
   "outputs": [],
   "source": [
    "t = (1,2,3)\n",
    "v = str(t)\n",
    "print(v)\n",
    "print(type(v))\n",
    "print(len(v))"
   ]
  },
  {
   "cell_type": "code",
   "execution_count": null,
   "id": "4bbc880c",
   "metadata": {},
   "outputs": [],
   "source": [
    "i = [1,2,3]\n",
    "m = str(i)\n",
    "print(m)\n",
    "print(type(m))\n",
    "print(len(m))"
   ]
  },
  {
   "cell_type": "markdown",
   "id": "9565f783",
   "metadata": {},
   "source": [
    "## 집합(sets)\n",
    "  - 집합은  여러 값을 순서가 없고 중복없이 모아 놓은 자료형이다.\n",
    "  - python은 set과 frozenset 두가지 집합 자료형을 제공한다.\n",
    "  - set은 변경 가능한 집합이고 frozenset은 변경 불가능한 자료형이다.\n",
    "  - set은 { }중괄호로 사용할 수 없으나 set( )으로 표현한다."
   ]
  },
  {
   "cell_type": "code",
   "execution_count": null,
   "id": "fb490e15",
   "metadata": {},
   "outputs": [
    {
     "name": "stdout",
     "output_type": "stream",
     "text": [
      "<class 'dict'>\n"
     ]
    }
   ],
   "source": [
    "s = {}  # [] = list(),  () = tuple(), {} = dict()\n",
    "print(type(s))"
   ]
  },
  {
   "cell_type": "markdown",
   "id": "62ec8cee",
   "metadata": {},
   "source": [
    "### 집합(set)\n",
    " - 멤버쉽(원소와 집합사이의 귀속관계)검사, 시퀀스에서의 중복제거와 교집합, 차집합, 합집합 등 수학연산 수행에 사용된다.\n",
    " - 순서가 유지 안되므로 인덱싱과 슬라이싱 사용을 사용할 수 없다.\n",
    " -  반복 가능(iterable)한 객체로 집합 객체를 생성 할 수 있다."
   ]
  },
  {
   "cell_type": "code",
   "execution_count": 207,
   "id": "031737b3",
   "metadata": {},
   "outputs": [
    {
     "name": "stdout",
     "output_type": "stream",
     "text": [
      "set()\n",
      "<class 'set'>\n",
      "['__and__', '__class__', '__class_getitem__', '__contains__', '__delattr__', '__dir__', '__doc__', '__eq__', '__format__', '__ge__', '__getattribute__', '__getstate__', '__gt__', '__hash__', '__iand__', '__init__', '__init_subclass__', '__ior__', '__isub__', '__iter__', '__ixor__', '__le__', '__len__', '__lt__', '__ne__', '__new__', '__or__', '__rand__', '__reduce__', '__reduce_ex__', '__repr__', '__ror__', '__rsub__', '__rxor__', '__setattr__', '__sizeof__', '__str__', '__sub__', '__subclasshook__', '__xor__', 'add', 'clear', 'copy', 'difference', 'difference_update', 'discard', 'intersection', 'intersection_update', 'isdisjoint', 'issubset', 'issuperset', 'pop', 'remove', 'symmetric_difference', 'symmetric_difference_update', 'union', 'update']\n"
     ]
    }
   ],
   "source": [
    "s = set()\n",
    "print(s)\n",
    "print(type(s))\n",
    "print(dir(s))"
   ]
  },
  {
   "cell_type": "code",
   "execution_count": null,
   "id": "f86b1691",
   "metadata": {},
   "outputs": [
    {
     "data": {
      "text/plain": [
       "{1, 2, 3, 5}"
      ]
     },
     "execution_count": 209,
     "metadata": {},
     "output_type": "execute_result"
    }
   ],
   "source": [
    "# set(iterable)\n",
    "set((3, 1, 5, 2, 5)) # 순서 유지가 안되고, 중복값 허용안되며 오른차순으로 정렬이 됨"
   ]
  },
  {
   "cell_type": "code",
   "execution_count": 210,
   "id": "2c3e20ac",
   "metadata": {},
   "outputs": [
    {
     "name": "stdout",
     "output_type": "stream",
     "text": [
      "{1, 2, 3, 5}\n"
     ]
    }
   ],
   "source": [
    "a = (3, 1, 5, 2, 5)\n",
    "b = set(a)\n",
    "print(b)"
   ]
  },
  {
   "cell_type": "code",
   "execution_count": 211,
   "id": "42eb8d66",
   "metadata": {},
   "outputs": [
    {
     "data": {
      "text/plain": [
       "{'a', 'e', 'l', 'p'}"
      ]
     },
     "execution_count": 211,
     "metadata": {},
     "output_type": "execute_result"
    }
   ],
   "source": [
    "set('apple')"
   ]
  },
  {
   "cell_type": "code",
   "execution_count": 212,
   "id": "05e2b7a8",
   "metadata": {},
   "outputs": [
    {
     "data": {
      "text/plain": [
       "{1, 2, 3, 5}"
      ]
     },
     "execution_count": 212,
     "metadata": {},
     "output_type": "execute_result"
    }
   ],
   "source": [
    "set([3,1,5,2,5])"
   ]
  },
  {
   "cell_type": "code",
   "execution_count": null,
   "id": "3c489468",
   "metadata": {},
   "outputs": [
    {
     "name": "stdout",
     "output_type": "stream",
     "text": [
      "{1, 2, 3, 5}\n",
      "[6, 1, 5, 2, 5]\n",
      "{1, 2, 3, 5}\n"
     ]
    }
   ],
   "source": [
    "a = [3,1,5,2,5]\n",
    "b = set(a)  # deep copy\n",
    "print(b)\n",
    "\n",
    "a[0] = 6\n",
    "print(a)\n",
    "print(b)\n"
   ]
  },
  {
   "cell_type": "code",
   "execution_count": null,
   "id": "e1c10cd3",
   "metadata": {},
   "outputs": [
    {
     "name": "stdout",
     "output_type": "stream",
     "text": [
      "[3, 1, [2, 4], 5]\n"
     ]
    },
    {
     "ename": "TypeError",
     "evalue": "unhashable type: 'list'",
     "output_type": "error",
     "traceback": [
      "\u001b[31m---------------------------------------------------------------------------\u001b[39m",
      "\u001b[31mTypeError\u001b[39m                                 Traceback (most recent call last)",
      "\u001b[36mCell\u001b[39m\u001b[36m \u001b[39m\u001b[32mIn[217]\u001b[39m\u001b[32m, line 5\u001b[39m\n\u001b[32m      2\u001b[39m a = [\u001b[32m3\u001b[39m, \u001b[32m1\u001b[39m, k, \u001b[32m5\u001b[39m]\n\u001b[32m      3\u001b[39m \u001b[38;5;28mprint\u001b[39m(a)\n\u001b[32m----> \u001b[39m\u001b[32m5\u001b[39m b = \u001b[38;5;28;43mset\u001b[39;49m\u001b[43m(\u001b[49m\u001b[43ma\u001b[49m\u001b[43m)\u001b[49m\n\u001b[32m      6\u001b[39m \u001b[38;5;28mprint\u001b[39m(b)\n",
      "\u001b[31mTypeError\u001b[39m: unhashable type: 'list'"
     ]
    }
   ],
   "source": [
    "\n",
    "k = [2,4]\n",
    "a = [3, 1, k, 5]\n",
    "print(a)\n",
    "\n",
    "# set으로 생성할때는 변경 불가능한 데이터만 가능하다.\n",
    "b = set(a)\n",
    "print(b)"
   ]
  },
  {
   "cell_type": "code",
   "execution_count": 220,
   "id": "24e56c53",
   "metadata": {},
   "outputs": [
    {
     "name": "stdout",
     "output_type": "stream",
     "text": [
      "{'one', 'two'}\n",
      "<class 'set'>\n"
     ]
    }
   ],
   "source": [
    "b = set({'one':1, 'two':2}) # dict자료형으로 set을 생성하면 키만 참조한다.\n",
    "print(b)\n",
    "print(type(b))"
   ]
  },
  {
   "cell_type": "code",
   "execution_count": null,
   "id": "2c563eda",
   "metadata": {},
   "outputs": [
    {
     "name": "stdout",
     "output_type": "stream",
     "text": [
      "{1, 2, 3, 4, 5, 6, 7}\n",
      "{1, 2, 3, 4, 5, 6, 7}\n",
      "{4, 5}\n",
      "{4, 5}\n",
      "{1, 2, 3}\n",
      "{1, 2, 3}\n"
     ]
    }
   ],
   "source": [
    "a = set((1,2,3,4,5))\n",
    "b = set((4,5,6,7))\n",
    "print(a.union(b))       # 합집합\n",
    "print(a | b)            # 합집합\n",
    "\n",
    "print(a.intersection(b)) # 교집합\n",
    "print(a & b)             # 교집합\n",
    "\n",
    "print(a.difference(b))   # 차집합\n",
    "print(a-b)               # 차집합"
   ]
  },
  {
   "cell_type": "code",
   "execution_count": null,
   "id": "5accf7f4",
   "metadata": {},
   "outputs": [
    {
     "name": "stdout",
     "output_type": "stream",
     "text": [
      "{1, 2, 3, 4}\n"
     ]
    }
   ],
   "source": [
    "a = set((1,2,3))\n",
    "a.add(4)           # 한개의 요소 추가 add(한개만)\n",
    "print(a)"
   ]
  },
  {
   "cell_type": "code",
   "execution_count": null,
   "id": "4a1fd3b6",
   "metadata": {},
   "outputs": [
    {
     "name": "stdout",
     "output_type": "stream",
     "text": [
      "{1, 2, 3, 4, 5}\n"
     ]
    }
   ],
   "source": [
    "a = set((1,2,3))\n",
    "a.update((4,5))   # 여러개 추가 update(iterable)\n",
    "print(a)"
   ]
  },
  {
   "cell_type": "code",
   "execution_count": 230,
   "id": "2f744d5b",
   "metadata": {},
   "outputs": [
    {
     "name": "stdout",
     "output_type": "stream",
     "text": [
      "{1, 3}\n"
     ]
    }
   ],
   "source": [
    "a = set((1,2,3))\n",
    "a.remove(2)  # 2요소를 제거\n",
    "print(a)"
   ]
  },
  {
   "cell_type": "markdown",
   "id": "f124cfd6",
   "metadata": {},
   "source": [
    "## frozenset\n",
    " - 요소를 변경하지 않는 범위에서 set객체와 동일하게 동작한다.\n",
    " - frozenset객체의 생성은 집합을 포함한 반복 가능한 자료형으로 부터 가능하다.\n",
    " - frozenset은 frozenset( )으로 생성한다."
   ]
  },
  {
   "cell_type": "code",
   "execution_count": 234,
   "id": "b4539cfa",
   "metadata": {},
   "outputs": [
    {
     "name": "stdout",
     "output_type": "stream",
     "text": [
      "frozenset()\n",
      "<class 'frozenset'>\n",
      "['__and__', '__class__', '__class_getitem__', '__contains__', '__delattr__', '__dir__', '__doc__', '__eq__', '__format__', '__ge__', '__getattribute__', '__getstate__', '__gt__', '__hash__', '__init__', '__init_subclass__', '__iter__', '__le__', '__len__', '__lt__', '__ne__', '__new__', '__or__', '__rand__', '__reduce__', '__reduce_ex__', '__repr__', '__ror__', '__rsub__', '__rxor__', '__setattr__', '__sizeof__', '__str__', '__sub__', '__subclasshook__', '__xor__', 'copy', 'difference', 'intersection', 'isdisjoint', 'issubset', 'issuperset', 'symmetric_difference', 'union']\n"
     ]
    }
   ],
   "source": [
    "f = frozenset()\n",
    "print(f)\n",
    "print(type(f))\n",
    "print(dir(f))\n"
   ]
  },
  {
   "cell_type": "markdown",
   "id": "3950c52c",
   "metadata": {},
   "source": [
    "## dict\n",
    "- 특정 키를 주면 이와 관련된 값을 돌려주는 내용 기반으로 검색하는 자료형이다.\n",
    "- 데이터의 저장 순서가 없다.\n",
    "- 내부적으로 해시 기법을 사용하기 때문에 검색 속도가 빠르다.\n",
    "- key-value형식으로 저장을 하기 때문에 key을 이용해서 value에 접근한다.\n",
    "- key 값은 중복을 허용하지 않는다."
   ]
  },
  {
   "cell_type": "code",
   "execution_count": 235,
   "id": "950cd14f",
   "metadata": {},
   "outputs": [
    {
     "name": "stdout",
     "output_type": "stream",
     "text": [
      "{}\n",
      "<class 'dict'>\n",
      "['__class__', '__class_getitem__', '__contains__', '__delattr__', '__delitem__', '__dir__', '__doc__', '__eq__', '__format__', '__ge__', '__getattribute__', '__getitem__', '__getstate__', '__gt__', '__hash__', '__init__', '__init_subclass__', '__ior__', '__iter__', '__le__', '__len__', '__lt__', '__ne__', '__new__', '__or__', '__reduce__', '__reduce_ex__', '__repr__', '__reversed__', '__ror__', '__setattr__', '__setitem__', '__sizeof__', '__str__', '__subclasshook__', 'clear', 'copy', 'fromkeys', 'get', 'items', 'keys', 'pop', 'popitem', 'setdefault', 'update', 'values']\n"
     ]
    }
   ],
   "source": [
    "d = {}\n",
    "print(d)\n",
    "print(type(d))\n",
    "print(dir(d))"
   ]
  },
  {
   "cell_type": "code",
   "execution_count": 238,
   "id": "5136062d",
   "metadata": {},
   "outputs": [
    {
     "name": "stdout",
     "output_type": "stream",
     "text": [
      "{'one': 1, 'two': 2}\n",
      "1\n"
     ]
    }
   ],
   "source": [
    "d = {'one':1, 'two':2}\n",
    "print(d)\n",
    "print(d['one'])"
   ]
  },
  {
   "cell_type": "code",
   "execution_count": 240,
   "id": "cda64af1",
   "metadata": {},
   "outputs": [
    {
     "name": "stdout",
     "output_type": "stream",
     "text": [
      "{'one': 1, 'two': 2}\n",
      "<class 'dict'>\n",
      "1\n"
     ]
    }
   ],
   "source": [
    "d = dict(one=1, two=2)\n",
    "print(d)\n",
    "print(type(d))\n",
    "print(d['one'])"
   ]
  },
  {
   "cell_type": "markdown",
   "id": "e23e20e2",
   "metadata": {},
   "source": [
    "zip( )함수를 이용해서 dict()생성할 수 있다."
   ]
  },
  {
   "cell_type": "code",
   "execution_count": 243,
   "id": "ecf790ee",
   "metadata": {},
   "outputs": [
    {
     "name": "stdout",
     "output_type": "stream",
     "text": [
      "<zip object at 0x000002568CA41BC0>\n",
      "{'one': 1, 'two': 2, 'three': 3}\n",
      "1\n"
     ]
    }
   ],
   "source": [
    "keys=['one', 'two', 'three']\n",
    "values=[1,2,3]\n",
    "\n",
    "a = zip(keys, values)\n",
    "print(a)\n",
    "d = dict(a)\n",
    "print(d)\n",
    "print(d['one'])"
   ]
  },
  {
   "cell_type": "code",
   "execution_count": null,
   "id": "45e6e192",
   "metadata": {},
   "outputs": [
    {
     "name": "stdout",
     "output_type": "stream",
     "text": [
      "<zip object at 0x000002568CED7740>\n",
      "{'one': 1, 'two': 2, 'three': 3}\n",
      "1\n"
     ]
    }
   ],
   "source": [
    "keys=['one', 'two', 'three','four','five']\n",
    "values=[1,2,3]\n",
    "\n",
    "a = zip(keys, values) # keys, values의 크기가 다르면 작은수에 맞춰 생성된다.\n",
    "print(a)\n",
    "d = dict(a)\n",
    "print(d)\n",
    "print(d['one'])"
   ]
  },
  {
   "cell_type": "markdown",
   "id": "708918c6",
   "metadata": {},
   "source": [
    "dict 메소드"
   ]
  },
  {
   "cell_type": "code",
   "execution_count": 245,
   "id": "a16a92ab",
   "metadata": {},
   "outputs": [
    {
     "name": "stdout",
     "output_type": "stream",
     "text": [
      "['__class__', '__class_getitem__', '__contains__', '__delattr__', '__delitem__', '__dir__', '__doc__', '__eq__', '__format__', '__ge__', '__getattribute__', '__getitem__', '__getstate__', '__gt__', '__hash__', '__init__', '__init_subclass__', '__ior__', '__iter__', '__le__', '__len__', '__lt__', '__ne__', '__new__', '__or__', '__reduce__', '__reduce_ex__', '__repr__', '__reversed__', '__ror__', '__setattr__', '__setitem__', '__sizeof__', '__str__', '__subclasshook__', 'clear', 'copy', 'fromkeys', 'get', 'items', 'keys', 'pop', 'popitem', 'setdefault', 'update', 'values']\n"
     ]
    }
   ],
   "source": [
    "print(dir({}))"
   ]
  },
  {
   "cell_type": "code",
   "execution_count": 248,
   "id": "fe8e9009",
   "metadata": {},
   "outputs": [
    {
     "name": "stdout",
     "output_type": "stream",
     "text": [
      "dict_keys(['one', 'two'])\n",
      "one\n",
      "two\n"
     ]
    }
   ],
   "source": [
    "d = {'one':1, 'two':2}\n",
    "print(d.keys())\n",
    "\n",
    "for k in d.keys():\n",
    "    print(k)"
   ]
  },
  {
   "cell_type": "code",
   "execution_count": 250,
   "id": "5ad4efe6",
   "metadata": {},
   "outputs": [
    {
     "name": "stdout",
     "output_type": "stream",
     "text": [
      "dict_values([1, 2])\n",
      "1\n",
      "2\n"
     ]
    }
   ],
   "source": [
    "d = {'one':1, 'two':2}\n",
    "print(d.values())\n",
    "\n",
    "for k in d.values():\n",
    "    print(k)"
   ]
  },
  {
   "cell_type": "code",
   "execution_count": 252,
   "id": "ce00cd24",
   "metadata": {},
   "outputs": [
    {
     "name": "stdout",
     "output_type": "stream",
     "text": [
      "dict_items([('one', 1), ('two', 2)])\n",
      "one 1\n",
      "two 2\n"
     ]
    }
   ],
   "source": [
    "d = {'one':1, 'two':2}\n",
    "print(d.items())\n",
    "\n",
    "for k,v in d.items():\n",
    "    print(k,v)"
   ]
  },
  {
   "cell_type": "code",
   "execution_count": null,
   "id": "e14430a6",
   "metadata": {},
   "outputs": [
    {
     "name": "stdout",
     "output_type": "stream",
     "text": [
      "1\n",
      "1\n",
      "None\n",
      "0\n"
     ]
    }
   ],
   "source": [
    "d = {'one':1, 'two':2}\n",
    "print(d['one'])\n",
    "print(d.get('one'))\n",
    "print(d.get('three'))  # three키가 없으므로 None으로 리턴\n",
    "print(d.get('three', 0)) # get(key, defualt)"
   ]
  },
  {
   "cell_type": "code",
   "execution_count": 257,
   "id": "9fc6f3a3",
   "metadata": {},
   "outputs": [
    {
     "name": "stdout",
     "output_type": "stream",
     "text": [
      "{'one': 1, 'two': 2}\n"
     ]
    }
   ],
   "source": [
    "d = {'one':1}\n",
    "d['two'] = 2\n",
    "print(d)"
   ]
  },
  {
   "cell_type": "code",
   "execution_count": null,
   "id": "af96414c",
   "metadata": {},
   "outputs": [
    {
     "name": "stdout",
     "output_type": "stream",
     "text": [
      "{'two': 2}\n"
     ]
    }
   ],
   "source": [
    "d = {'one': 1, 'two': 2}\n",
    "d.pop('one')  # 딕셔너리 요소 제거\n",
    "print(d)"
   ]
  },
  {
   "cell_type": "code",
   "execution_count": null,
   "id": "48ff5286",
   "metadata": {},
   "outputs": [
    {
     "name": "stdout",
     "output_type": "stream",
     "text": [
      "{'two': 2}\n"
     ]
    }
   ],
   "source": [
    "d = {'one': 1, 'two': 2}\n",
    "del d['one']   # 딕셔너리 요소 제거\n",
    "print(d)"
   ]
  },
  {
   "cell_type": "code",
   "execution_count": 263,
   "id": "0c0e960a",
   "metadata": {},
   "outputs": [
    {
     "name": "stdout",
     "output_type": "stream",
     "text": [
      "{}\n"
     ]
    }
   ],
   "source": [
    "d = {'one': 1, 'two': 2}\n",
    "d.clear()\n",
    "print(d)"
   ]
  },
  {
   "cell_type": "markdown",
   "id": "74025ad5",
   "metadata": {},
   "source": [
    "str : immutable, sequence  \n",
    "list : mutable, sequence    \n",
    "tuple : immutable , sequence  \n",
    "set : mutable , non-sequence  \n",
    "frozenset : imutable, non-sequence  \n",
    "dict : mutable, non-sequence   \n",
    "\n",
    "indexing, slicing : str, list, tuple  "
   ]
  },
  {
   "cell_type": "markdown",
   "id": "40f105fd",
   "metadata": {},
   "source": [
    "## boolean\n",
    " - True(참), False(거짓)"
   ]
  },
  {
   "cell_type": "code",
   "execution_count": 264,
   "id": "2f5d145a",
   "metadata": {},
   "outputs": [
    {
     "name": "stdout",
     "output_type": "stream",
     "text": [
      "True\n",
      "<class 'bool'>\n",
      "['__abs__', '__add__', '__and__', '__bool__', '__ceil__', '__class__', '__delattr__', '__dir__', '__divmod__', '__doc__', '__eq__', '__float__', '__floor__', '__floordiv__', '__format__', '__ge__', '__getattribute__', '__getnewargs__', '__getstate__', '__gt__', '__hash__', '__index__', '__init__', '__init_subclass__', '__int__', '__invert__', '__le__', '__lshift__', '__lt__', '__mod__', '__mul__', '__ne__', '__neg__', '__new__', '__or__', '__pos__', '__pow__', '__radd__', '__rand__', '__rdivmod__', '__reduce__', '__reduce_ex__', '__repr__', '__rfloordiv__', '__rlshift__', '__rmod__', '__rmul__', '__ror__', '__round__', '__rpow__', '__rrshift__', '__rshift__', '__rsub__', '__rtruediv__', '__rxor__', '__setattr__', '__sizeof__', '__str__', '__sub__', '__subclasshook__', '__truediv__', '__trunc__', '__xor__', 'as_integer_ratio', 'bit_count', 'bit_length', 'conjugate', 'denominator', 'from_bytes', 'imag', 'is_integer', 'numerator', 'real', 'to_bytes']\n"
     ]
    }
   ],
   "source": [
    "a = True\n",
    "print(a)\n",
    "print(type(a))\n",
    "print(dir(a))"
   ]
  },
  {
   "cell_type": "code",
   "execution_count": 265,
   "id": "518fbe36",
   "metadata": {},
   "outputs": [
    {
     "name": "stdout",
     "output_type": "stream",
     "text": [
      "True\n",
      "False\n",
      "True\n",
      "False\n",
      "True\n",
      "False\n"
     ]
    }
   ],
   "source": [
    "# python은 existance으로  판단한다.\n",
    "a=1\n",
    "print(bool(a)) # True\n",
    "\n",
    "b=0\n",
    "print(bool(b)) # False\n",
    "\n",
    "c='ko'\n",
    "print(bool(c)) # True\n",
    "\n",
    "d=''\n",
    "print(bool(d)) # False\n",
    "\n",
    "e=(1,2)\n",
    "print(bool(e)) # True\n",
    "\n",
    "f=()\n",
    "print(bool(f)) # False"
   ]
  },
  {
   "cell_type": "code",
   "execution_count": null,
   "id": "e98a72de",
   "metadata": {},
   "outputs": [],
   "source": []
  }
 ],
 "metadata": {
  "kernelspec": {
   "display_name": "myenv",
   "language": "python",
   "name": "python3"
  },
  "language_info": {
   "codemirror_mode": {
    "name": "ipython",
    "version": 3
   },
   "file_extension": ".py",
   "mimetype": "text/x-python",
   "name": "python",
   "nbconvert_exporter": "python",
   "pygments_lexer": "ipython3",
   "version": "3.12.11"
  }
 },
 "nbformat": 4,
 "nbformat_minor": 5
}
