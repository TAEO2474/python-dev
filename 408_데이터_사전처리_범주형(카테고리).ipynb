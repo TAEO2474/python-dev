{
  "nbformat": 4,
  "nbformat_minor": 0,
  "metadata": {
    "colab": {
      "provenance": [],
      "authorship_tag": "ABX9TyOrb5jjmxLPDWQymVC0w47D",
      "include_colab_link": true
    },
    "kernelspec": {
      "name": "python3",
      "display_name": "Python 3"
    },
    "language_info": {
      "name": "python"
    }
  },
  "cells": [
    {
      "cell_type": "markdown",
      "metadata": {
        "id": "view-in-github",
        "colab_type": "text"
      },
      "source": [
        "<a href=\"https://colab.research.google.com/github/TAEO2474/python-dev/blob/main/408_%EB%8D%B0%EC%9D%B4%ED%84%B0_%EC%82%AC%EC%A0%84%EC%B2%98%EB%A6%AC_%EB%B2%94%EC%A3%BC%ED%98%95(%EC%B9%B4%ED%85%8C%EA%B3%A0%EB%A6%AC).ipynb\" target=\"_parent\"><img src=\"https://colab.research.google.com/assets/colab-badge.svg\" alt=\"Open In Colab\"/></a>"
      ]
    },
    {
      "cell_type": "markdown",
      "source": [
        "# ✅ 1. 연속형 데이터 (Continuous / 수치형)\n",
        "\n",
        "숫자처럼 **연속적인 크기와 단위를 가지는 데이터**  \n",
        "→ 값을 정렬할 수 있고, **평균·합계 등 수학적 계산이 가능**\n",
        "\n",
        "###  특징\n",
        "- 수학 연산 가능 (`+`, `-`, `/`, `*`)\n",
        "- 숫자 간 **크기 비교가 의미 있음**\n",
        "- 축적되거나 변화하는 양을 나타냄\n",
        "\n",
        "###  예시\n",
        "\n",
        "| 변수       | 설명                 |\n",
        "|------------|----------------------|\n",
        "| 키(cm)     | 예: 170.5, 181.2     |\n",
        "| 몸무게(kg) | 예: 65.2, 72.0       |\n",
        "| 나이       | 예: 23, 31, 45       |\n",
        "| 소득       | 예: 3,200,000원 등   |\n",
        "| 온도       | 예: 22.1°C, 24.6°C   |\n",
        "\n",
        "---\n",
        "\n",
        "# ✅ 2. 범주형 데이터 (Categorical / 질적)\n",
        "\n",
        "**크기보다 ‘종류’가 중요한 데이터**  \n",
        "→ 숫자가 들어있어도 **계산보다는 구분/분류**가 목적\n",
        "\n",
        "###  특징\n",
        "- 연산 불가능 (예: 남자 + 여자 = ❌)\n",
        "- 숫자가 있어도 그건 **코드일 뿐**\n",
        "- 그룹, 레이블, 카테고리 구분에 사용\n",
        "\n",
        "###  분류\n",
        "- **명목형(Nominal)**: 순서 없음  \n",
        "  → 예: 성별(M/F), 색상(빨강/파랑), 도시(서울/부산)\n",
        "  \n",
        "- **순서형(Ordinal)**: 순서 있음  \n",
        "  → 예: 학점(A/B/C), 만족도(매우만족/만족/보통/불만족)\n",
        "\n",
        "###  예시\n",
        "\n",
        "| 변수           | 설명                             |\n",
        "|----------------|----------------------------------|\n",
        "| 성별           | M, F                             |\n",
        "| 혈액형         | A, B, AB, O                      |\n",
        "| 지역           | 서울, 부산, 대전                 |\n",
        "| 고객 등급      | 일반, VIP, VVIP (순서형 가능)    |\n",
        "| 상품 카테고리  | 전자, 식품, 의류                 |\n",
        "\n",
        "---\n",
        "\n",
        "# 예제 비교\n",
        "\n",
        "| 데이터 열     | 값 예시           | 데이터 유형          |\n",
        "|---------------|-------------------|-----------------------|\n",
        "| age           | 25, 32, 41        | 연속형               |\n",
        "| height        | 170.2, 180.5      | 연속형               |\n",
        "| gender        | M, F              | 범주형 (명목형)       |\n",
        "| satisfaction  | 높음, 보통, 낮음 | 범주형 (순서형)       |\n",
        "\n",
        "---\n",
        "\n",
        "#  왜 이 구분이 중요할까?\n",
        "\n",
        "| 분석 단계     | 연속형 데이터                        | 범주형 데이터                          |\n",
        "|---------------|--------------------------------------|-----------------------------------------|\n",
        "| 전처리 방법   | 정규화, 스케일링, 결측 대체(평균 등) | 인코딩(라벨/원핫),\n"
      ],
      "metadata": {
        "id": "q9wLqtBOKXuh"
      }
    },
    {
      "cell_type": "markdown",
      "source": [
        "## ✅ 구간 분할\n",
        "  - 연속형 데이터를 범주형 데이터로 사용할때  필요한 작업이다\n",
        "  \n",
        "pd.cut()은 값의 범위를 기준으로 나누고,    \n",
        "pd.qcut()은 **데이터 분포(분위수)**를 기준으로 나눈다.  \n",
        "labels=False를 쓰면 정수형으로 범주값이 출력된다.  \n",
        "right=False를 쓰면 구간이 왼쪽 포함 [ ) 방식이 된다.  \n",
        "retbins=True를 쓰면 구간분할 영역을 리턴해 준다.\n",
        "\n",
        "| 항목           | `pd.cut()`              | `pd.qcut()`                  |\n",
        "| ------------ | ----------------------- | ---------------------------- |\n",
        "| 나누는 기준    | **값의 범위 (equal width)** | **데이터 개수 (equal frequency)** |\n",
        "| 각 구간의 개수  | **다를 수 있음**             | **거의 동일함** (데이터 수 기준)        |\n",
        "| 데이터 분포 고려 | 고려하지 않음               | 분위수 기반으로 분포 고려함            |\n",
        "|  사용 예시     | 연령대를 10살 단위로 나누기 등      | 상위 25%, 중간 50%, 하위 25% 등     |\n",
        "\n",
        "labels=False를 쓰면 정수형으로 범주값이 출력된다.  \n",
        "right=False를 쓰면 구간이 왼쪽 포함 [ ) 방식이 된다.  \n",
        "retbins=True를 쓰면 구간분할 영역을 리턴해 준다.\n",
        "\n",
        "- ① 고정 구간 (Equal-Width Binning)\n",
        "- ② 동등 분포 구간 (Equal-Frequency / Quantile Binning)"
      ],
      "metadata": {
        "id": "zDki_YgfFddo"
      }
    },
    {
      "cell_type": "markdown",
      "source": [
        "# ① 고정 구간 (Equal-Width Binning)\n",
        "  - 데이터 범위를 일정한 간격으로 나누는 방식"
      ],
      "metadata": {
        "id": "Wu0L8GEcFr83"
      }
    },
    {
      "cell_type": "code",
      "execution_count": null,
      "metadata": {
        "colab": {
          "base_uri": "https://localhost:8080/"
        },
        "id": "3uM4nJG9FGWO",
        "outputId": "fc837f21-6892-4bc2-bcab-0cf5480f4fbe"
      },
      "outputs": [
        {
          "output_type": "stream",
          "name": "stdout",
          "text": [
            "[17.933 34.75  51.5   68.25  85.   ]\n",
            "   age  age_bin\n",
            "0   18        0\n",
            "1   25        0\n",
            "2   32        0\n",
            "3   40        1\n",
            "4   52        2\n",
            "5   60        2\n",
            "6   70        3\n",
            "7   85        3\n"
          ]
        }
      ],
      "source": [
        "import pandas as pd\n",
        "import numpy as np\n",
        "\n",
        "# 예시 데이터\n",
        "data = pd.DataFrame({\n",
        "    'age': [18, 25, 32, 40, 52, 60, 70, 85]\n",
        "})\n",
        "\n",
        "# 고정 구간으로 나누기 (예: 나이를 4개 구간으로 나눔)\n",
        "data['age_bin'], bin_dividers= pd.cut(data['age'], bins=4, labels=False, retbins=True) #right: True\n",
        "print(bin_dividers)\n",
        "print(data)"
      ]
    },
    {
      "cell_type": "markdown",
      "source": [
        "# ② 동등 분포 구간 (Equal-Frequency / Quantile Binning)\n",
        "- 각 구간에 데이터가 거의 같은 수로 들어가도록 분할"
      ],
      "metadata": {
        "id": "v_yCmFc2Flev"
      }
    },
    {
      "cell_type": "code",
      "source": [
        "# 데이터 수가 동일하게 분포되도록 4개 구간으로 나눔\n",
        "data['age_qbin'] , bin_dividers= pd.qcut(data['age'], q=4, labels=False, retbins=True)\n",
        "print(bin_dividers)\n",
        "print(data)"
      ],
      "metadata": {
        "colab": {
          "base_uri": "https://localhost:8080/"
        },
        "id": "lcm69voTFjEo",
        "outputId": "52384d27-2b13-4180-8ab1-9006e6697520"
      },
      "execution_count": null,
      "outputs": [
        {
          "output_type": "stream",
          "name": "stdout",
          "text": [
            "[18.   30.25 46.   62.5  85.  ]\n",
            "   age  age_bin  age_qbin\n",
            "0   18        0         0\n",
            "1   25        0         0\n",
            "2   32        0         1\n",
            "3   40        1         1\n",
            "4   52        2         2\n",
            "5   60        2         2\n",
            "6   70        3         3\n",
            "7   85        3         3\n"
          ]
        }
      ]
    },
    {
      "cell_type": "markdown",
      "source": [
        "# ③ 사용자 정의 구간 지정 (Custom Binning)"
      ],
      "metadata": {
        "id": "SwuoT3pfHjRn"
      }
    },
    {
      "cell_type": "code",
      "source": [
        "# 구간 수동 정의\n",
        "bins = [0, 30, 50, 70, 100]\n",
        "labels = ['청년', '중년', '장년', '노년']\n",
        "\n",
        "data['age_group'] , bin_dividers= pd.cut(data['age'], bins=bins, labels=labels, right=False, retbins=True)\n",
        "print(bin_dividers)\n",
        "print(data)"
      ],
      "metadata": {
        "colab": {
          "base_uri": "https://localhost:8080/"
        },
        "id": "cLcLfStLF-lQ",
        "outputId": "735aaaac-42cc-44f3-e8f2-a7a98772a3ea"
      },
      "execution_count": null,
      "outputs": [
        {
          "output_type": "stream",
          "name": "stdout",
          "text": [
            "[  0  30  50  70 100]\n",
            "   age  age_bin  age_qbin age_group\n",
            "0   18        0         0        청년\n",
            "1   25        0         0        청년\n",
            "2   32        0         1        중년\n",
            "3   40        1         1        중년\n",
            "4   52        2         2        장년\n",
            "5   60        2         2        장년\n",
            "6   70        3         3        노년\n",
            "7   85        3         3        노년\n"
          ]
        }
      ]
    },
    {
      "cell_type": "markdown",
      "source": [
        "## ※ 더미변수\n",
        "- *범주형 변수(category)**를 0과 1로 이루어진 변수들로 나눈 것\n",
        "\n",
        "- 0과 1만 가짐\n",
        "\n",
        "- 특정 범주에 속하면 1, 아니면 0\n",
        "\n",
        "- **원핫 인코딩(one-hot encoding)**이라고도 불림\n",
        "\n",
        "<더미변수로 변환 예시>\n",
        "\n",
        "| Color | is\\_Green | is\\_Red |\n",
        "| ----- | --------- | ------- |\n",
        "| Red   | 0         | 1       |\n",
        "| Green | 1         | 0       |\n",
        "| Blue  | 0         | 0       |\n"
      ],
      "metadata": {
        "id": "WJF4kQoIJOPn"
      }
    },
    {
      "cell_type": "code",
      "source": [
        "import pandas as pd\n",
        "\n",
        "# 예시 연속형 데이터\n",
        "df = pd.DataFrame({'age': [18, 25, 32, 40, 52, 60, 70, 85]})\n",
        "\n",
        "# 1단계: 구간으로 나누기\n",
        "df['age_bin'] , bin_dividers= pd.cut(df['age'], bins=[0, 30, 50, 70, 100], labels=['청년', '중년', '장년', '노년'], retbins=True)\n",
        "print(bin_dividers)\n",
        "print(df)\n",
        "\n",
        "# 2단계: 더미 변수로 변환\n",
        "age_dummies = pd.get_dummies(df['age_bin'], prefix='age')\n",
        "\n",
        "# 결과 병합\n",
        "df = pd.concat([df, age_dummies], axis=1)\n",
        "\n",
        "print(df)\n"
      ],
      "metadata": {
        "colab": {
          "base_uri": "https://localhost:8080/"
        },
        "id": "t977B9hCHwOw",
        "outputId": "332e6e6a-2252-426f-c6a3-0028368d47b1"
      },
      "execution_count": null,
      "outputs": [
        {
          "output_type": "stream",
          "name": "stdout",
          "text": [
            "[  0  30  50  70 100]\n",
            "   age age_bin\n",
            "0   18      청년\n",
            "1   25      청년\n",
            "2   32      중년\n",
            "3   40      중년\n",
            "4   52      장년\n",
            "5   60      장년\n",
            "6   70      장년\n",
            "7   85      노년\n",
            "   age age_bin  age_청년  age_중년  age_장년  age_노년\n",
            "0   18      청년    True   False   False   False\n",
            "1   25      청년    True   False   False   False\n",
            "2   32      중년   False    True   False   False\n",
            "3   40      중년   False    True   False   False\n",
            "4   52      장년   False   False    True   False\n",
            "5   60      장년   False   False    True   False\n",
            "6   70      장년   False   False    True   False\n",
            "7   85      노년   False   False   False    True\n"
          ]
        }
      ]
    },
    {
      "cell_type": "markdown",
      "source": [
        "\n",
        "\n",
        "# KBinsDiscretizer\n",
        " - **연속형 데이터(continuous features)**를 지정한 개수의 **구간(bin)**으로 분할하여, **범주형처럼 취급**할 수 있도록 변환하고,  \n",
        "원-핫 인코딩 등을 통해 즉시 인코딩까지 수행 가능한 전처리 도구\n",
        "### 주요 파라미터\n",
        "\n",
        "| 파라미터         | 설명 |\n",
        "|------------------|------|\n",
        "| n_bins=4      | 데이터를 4개의 구간으로 분할 |\n",
        "| encode='onehot-dense'| dense 배열 형태로 **원-핫 인코딩 결과 반환** (0/1 벡터) |\n",
        "| strategy='uniform'    | 전체 범위를 동일한 너비로 분할 *(최솟값–최댓값 기준)* :contentReference[oaicite:2]{index=2} |\n",
        "\n",
        "---\n",
        "\n",
        "#fit_transform()\n",
        "\n",
        "- fit() 단계: 각 특성(feature)에 대해 **구간 경계값(bin_edges\\_)을 계산**합니다.  \n",
        "- transform() 단계: 입력 데이터를 **해당 구간에 따라 원-핫 인코딩된 벡터**로 변환합니다.  \n",
        "- fit_transform()은 **위 두 과정을 한 번에 실행**하는 메서드입니다. :contentReference[oaicite:3]{index=3}\n",
        "\n",
        "예를 들어, **18~85 사이의 나이 데이터를 4개 균등 구간으로 나눈 경우**, 구간 경계값은 대략 아래와 같이 계산될 수 있습니다:\n",
        "\n"
      ],
      "metadata": {
        "id": "9w87J7peQGfZ"
      }
    },
    {
      "cell_type": "code",
      "source": [
        "from sklearn.preprocessing import KBinsDiscretizer\n",
        "import pandas as pd\n",
        "import numpy as np\n",
        "\n",
        "# 예시 데이터\n",
        "X = np.array([[18], [25], [32], [40], [52], [60], [70], [85]])\n",
        "\n",
        "# KBinsDiscretizer 사용 (원-핫 인코딩)\n",
        "# strategy='uniform' : 전체 최솟값~최댓값 범위를 n_bins개의 동일한 길이로 분할\n",
        "kbd = KBinsDiscretizer(n_bins=4, encode='onehot-dense', strategy='uniform')\n",
        "X_binned = kbd.fit_transform(X)\n",
        "\n",
        "# 결과 출력\n",
        "df = pd.DataFrame(X_binned, columns=[f'bin_{i}' for i in range(X_binned.shape[1])])\n",
        "df['age'] = X.flatten()\n",
        "\n",
        "print(df)\n",
        "\n"
      ],
      "metadata": {
        "colab": {
          "base_uri": "https://localhost:8080/"
        },
        "id": "0LCIGjXIJNeo",
        "outputId": "7b060bfc-cdfa-42d4-a3a0-d3e89a880aba"
      },
      "execution_count": null,
      "outputs": [
        {
          "output_type": "stream",
          "name": "stdout",
          "text": [
            "   bin_0  bin_1  bin_2  bin_3  age\n",
            "0    1.0    0.0    0.0    0.0   18\n",
            "1    1.0    0.0    0.0    0.0   25\n",
            "2    1.0    0.0    0.0    0.0   32\n",
            "3    0.0    1.0    0.0    0.0   40\n",
            "4    0.0    0.0    1.0    0.0   52\n",
            "5    0.0    0.0    1.0    0.0   60\n",
            "6    0.0    0.0    0.0    1.0   70\n",
            "7    0.0    0.0    0.0    1.0   85\n"
          ]
        }
      ]
    },
    {
      "cell_type": "markdown",
      "source": [
        "※ 위 코드에서 fit_transform()을 호출하면,\n",
        "내부적으로 fit() → transform() 순으로 실행되어\n",
        "**0/1로 변환된 결과(X_binned)**를 반환합니다.\n",
        "\n",
        "따라서 \"어디서 0과 1로 변환\"하는지 코드 상에는 보이지 않지만, 내부 라이브러리 함수에서 자동 처리되는 거예요"
      ],
      "metadata": {
        "id": "ia_ycTLURz8x"
      }
    },
    {
      "cell_type": "code",
      "source": [
        "# LabelEncoder  : 카테고리형 데이터 → 숫자로 변환\n",
        "from sklearn.preprocessing import LabelEncoder\n",
        "encoder = LabelEncoder()\n",
        "y = encoder.fit_transform([\"red\", \"blue\", \"green\"])\n",
        "y"
      ],
      "metadata": {
        "colab": {
          "base_uri": "https://localhost:8080/"
        },
        "id": "ctnPUbUDLDUQ",
        "outputId": "1e06a794-f78b-468f-e83e-4999ed43b5bc"
      },
      "execution_count": null,
      "outputs": [
        {
          "output_type": "execute_result",
          "data": {
            "text/plain": [
              "array([2, 0, 1])"
            ]
          },
          "metadata": {},
          "execution_count": 12
        }
      ]
    },
    {
      "cell_type": "code",
      "source": [
        "# OneHotEncoder : 카테고리형 데이터 → 원-핫 벡터로 변환\n",
        "from sklearn.preprocessing import OneHotEncoder\n",
        "\n",
        "encoder = OneHotEncoder(sparse_output=False)\n",
        "X = encoder.fit_transform([[\"red\"], [\"blue\"], [\"green\"]])\n",
        "X\n"
      ],
      "metadata": {
        "id": "FHlOYcxHT8dL",
        "colab": {
          "base_uri": "https://localhost:8080/"
        },
        "outputId": "09d34b11-4456-40b7-9718-3ea8ec8d28ce"
      },
      "execution_count": null,
      "outputs": [
        {
          "output_type": "execute_result",
          "data": {
            "text/plain": [
              "array([[0., 0., 1.],\n",
              "       [1., 0., 0.],\n",
              "       [0., 1., 0.]])"
            ]
          },
          "metadata": {},
          "execution_count": 13
        }
      ]
    },
    {
      "cell_type": "code",
      "source": [
        "# OrdinalEncoder : 카테고리형 데이터를 순서형 숫자로 변환\n",
        "from sklearn.preprocessing import OrdinalEncoder\n",
        "\n",
        "encoder = OrdinalEncoder()\n",
        "X = encoder.fit_transform([[\"low\"], [\"medium\"], [\"high\"]])\n",
        "X"
      ],
      "metadata": {
        "colab": {
          "base_uri": "https://localhost:8080/"
        },
        "id": "Va7BY4asasJV",
        "outputId": "28c7e27d-736d-4fda-9970-ef60f54b6f06"
      },
      "execution_count": null,
      "outputs": [
        {
          "output_type": "execute_result",
          "data": {
            "text/plain": [
              "array([[1.],\n",
              "       [2.],\n",
              "       [0.]])"
            ]
          },
          "metadata": {},
          "execution_count": 14
        }
      ]
    },
    {
      "cell_type": "markdown",
      "source": [
        "# < 인코딩의 종류>\n",
        "| 인코딩 종류                 | 설명                             | 적용 대상                   | 장점                   | 단점                   | 예시                                    |\n",
        "| ---------------------- | ------------------------------ | ----------------------- | -------------------- | -------------------- | ------------------------------------- |\n",
        "| **One-Hot Encoding**   | 각 카테고리를 고유한 위치에 1, 나머지는 0으로 표현 | 명목형 범주형 데이터 (Nominal)   | 직관적, 대부분 ML 알고리즘에 적합 | 차원이 급격히 증가할 수 있음     | \\['red', 'blue'] → \\[1,0], \\[0,1]     |\n",
        "| **Label Encoding**     | 각 카테고리를 정수로 매핑                 | 순서가 없거나 있을 수 있는 범주형 데이터 | 간단하고 빠름              | 모델이 순서로 오해할 수 있음     | \\['red', 'blue'] → \\[0, 1]            |\n",
        "| **Ordinal Encoding**   | 순서가 있는 카테고리를 순차적인 숫자로 매핑       | 순서가 명확한 범주형 데이터         | 순서 정보 유지             | 순서가 없는 데이터에는 부적합     | \\['low', 'medium', 'high'] → \\[0,1,2] |\n",
        "| **Binary Encoding**    | 정수를 이진수로 변환하여 비트 단위로 인코딩       | 고차원 명목형 데이터             | 차원 수 절감              | 해석이 어려울 수 있음         | 7 → 111 (3비트)                         |\n",
        "| **Frequency Encoding** | 각 카테고리의 출현 빈도를 숫자로 표현          | 범주형 데이터                 | 범주 분포 반영             | 빈도만으로는 의미가 제한적일 수 있음 | 'cat'이 100번 등장 → 100                  |\n",
        "| **Target Encoding**    | 각 카테고리를 타겟 변수의 평균값 등으로 대체      | 지도학습 시 범주형 데이터          | 예측력 향상 가능            | 과적합 위험, 데이터 누수 주의    | 'cat' → 타겟 평균 0.7                     |\n"
      ],
      "metadata": {
        "id": "zjqRH5QMcLkE"
      }
    },
    {
      "cell_type": "markdown",
      "source": [
        "\n",
        "\n",
        ">  참고로 **Softmax는 인코딩이 아닙니다.**\n",
        "> 👉 **모델의 출력값을 \"확률처럼\" 바꿔주는 함수*\n",
        "\n",
        "---\n",
        "\n",
        "## 🔍 왜 Softmax는 인코딩이 아닐까?\n",
        "\n",
        "### 🔸 인코딩(Encoding)이란?\n",
        "\n",
        "* 데이터를 컴퓨터가 **이해할 수 있는 숫자 형태로 바꾸는 것**\n",
        "* 주로 **입력 데이터**에 적용됨\n",
        "* 예시: One-Hot, Label, Ordinal Encoding 등\n",
        "\n",
        "python\n",
        "성별: ['M', 'F'] → [1, 0] (One-hot)\n",
        "\n",
        "\n",
        "---\n",
        "\n",
        "### 🔹 Softmax란?\n",
        "\n",
        "* **모델의 최종 출력층에서** 사용되는 수학 함수\n",
        "* 여러 개의 점수(logits)를 받아서, 그걸 **0\\~1 사이의 확률 분포로 변환**\n",
        "* 주로 **분류 문제의 출력 단계**에서 사용됨\n",
        "\n",
        "python\n",
        "logits: [2.1, 0.5, -1.2] → softmax → [0.75, 0.20, 0.05]\n",
        "\n",
        "\n",
        "* 결과의 합이 항상 1 → 확률처럼 해석 가능\n",
        "* 가장 높은 확률을 가진 클래스가 **최종 예측**\n",
        "\n",
        "---\n",
        "\n",
        "## 📊 비교 정리 표\n",
        "\n",
        "| 구분    | Softmax                             | 인코딩 (One-hot 등)            |\n",
        "| ----- | ----------------------------------- | -------------------------- |\n",
        "| 위치    | 모델 출력단                              | 모델 입력 전처리                  |\n",
        "| 목적    | 점수 → 확률 변환                          | 텍스트/범주 → 숫자 변환             |\n",
        "| 대상    | 모델의 예측값 (logits)                  | 원본 데이터 (예: 성별, 지역 등)       |\n",
        "| 예시    | \\[2.3, 1.1, 0.5] → \\[0.7, 0.2, 0.1] | \\['red', 'blue'] → \\[1, 0] |\n",
        "| 확률 성질 | ✅ 확률처럼 합이 1                         | ❌ 확률과 무관                   |\n",
        "\n",
        "---\n",
        "\n",
        "## ✅ 정리 한 줄 요약\n",
        "\n",
        "> **Softmax는 인코딩이 아니라, 모델 출력값을 확률로 바꾸는 수학적 함수**입니다.\n",
        "> 인코딩은 입력 데이터를 숫자로 바꾸는 전처리 과정이고, Softmax는 출력 해석용 도구\n",
        "\n",
        "\n",
        "\n",
        "\n"
      ],
      "metadata": {
        "id": "ZL9maieGbuZE"
      }
    },
    {
      "cell_type": "code",
      "source": [],
      "metadata": {
        "id": "MSwoSwFPbvAL"
      },
      "execution_count": null,
      "outputs": []
    }
  ]
}